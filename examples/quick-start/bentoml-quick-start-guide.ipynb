{
 "cells": [
  {
   "cell_type": "markdown",
   "metadata": {},
   "source": [
    "# Getting Started with BentoML\n",
    "\n",
    "[BentoML](http://bentoml.ai) is a python framework for building, shipping and running machine learning services. \n",
    "\n",
    "This is a quick tutorial on how to use BentoML to define machine learning service with a trained sklearn model, serving via a REST API server and deploy it to AWS Lambda as a serverless endpoint.\n",
    "\n",
    "![Impression](https://www.google-analytics.com/collect?v=1&tid=UA-112879361-3&cid=555&t=event&ec=nb&ea=open&el=official-example&dt=bentoml-quick-start-guide)"
   ]
  },
  {
   "cell_type": "code",
   "execution_count": 1,
   "metadata": {
    "scrolled": true
   },
   "outputs": [
    {
     "name": "stdout",
     "output_type": "stream",
     "text": [
      "Requirement already satisfied: bentoml in /Users/leon.sun/anaconda3/lib/python3.7/site-packages (0.3.1)\n",
      "Requirement already satisfied: boto3 in /Users/leon.sun/anaconda3/lib/python3.7/site-packages (from bentoml) (1.9.188)\n",
      "Requirement already satisfied: docker in /Users/leon.sun/anaconda3/lib/python3.7/site-packages (from bentoml) (4.0.2)\n",
      "Requirement already satisfied: requests in /Users/leon.sun/anaconda3/lib/python3.7/site-packages (from bentoml) (2.22.0)\n",
      "Requirement already satisfied: six in /Users/leon.sun/anaconda3/lib/python3.7/site-packages (from bentoml) (1.12.0)\n",
      "Requirement already satisfied: pandas in /Users/leon.sun/anaconda3/lib/python3.7/site-packages (from bentoml) (0.24.2)\n",
      "Requirement already satisfied: packaging in /Users/leon.sun/anaconda3/lib/python3.7/site-packages (from bentoml) (19.0)\n",
      "Requirement already satisfied: numpy in /Users/leon.sun/anaconda3/lib/python3.7/site-packages (from bentoml) (1.16.4)\n",
      "Requirement already satisfied: ruamel.yaml>=0.15.0 in /Users/leon.sun/anaconda3/lib/python3.7/site-packages (from bentoml) (0.15.100)\n",
      "Requirement already satisfied: dill in /Users/leon.sun/anaconda3/lib/python3.7/site-packages (from bentoml) (0.3.0)\n",
      "Requirement already satisfied: configparser in /Users/leon.sun/anaconda3/lib/python3.7/site-packages (from bentoml) (3.7.4)\n",
      "Requirement already satisfied: sqlalchemy in /Users/leon.sun/anaconda3/lib/python3.7/site-packages (from bentoml) (1.3.1)\n",
      "Requirement already satisfied: gunicorn in /Users/leon.sun/anaconda3/lib/python3.7/site-packages (from bentoml) (19.9.0)\n",
      "Requirement already satisfied: python-json-logger in /Users/leon.sun/anaconda3/lib/python3.7/site-packages (from bentoml) (0.1.11)\n",
      "Requirement already satisfied: protobuf>=3.6.0 in /Users/leon.sun/anaconda3/lib/python3.7/site-packages (from bentoml) (3.8.0)\n",
      "Requirement already satisfied: pathlib2 in /Users/leon.sun/anaconda3/lib/python3.7/site-packages (from bentoml) (2.3.4)\n",
      "Requirement already satisfied: prometheus-client in /Users/leon.sun/anaconda3/lib/python3.7/site-packages (from bentoml) (0.7.1)\n",
      "Requirement already satisfied: flask in /Users/leon.sun/anaconda3/lib/python3.7/site-packages (from bentoml) (1.1.1)\n",
      "Requirement already satisfied: click in /Users/leon.sun/anaconda3/lib/python3.7/site-packages (from bentoml) (7.0)\n",
      "Requirement already satisfied: botocore<1.13.0,>=1.12.188 in /Users/leon.sun/anaconda3/lib/python3.7/site-packages (from boto3->bentoml) (1.12.188)\n",
      "Requirement already satisfied: jmespath<1.0.0,>=0.7.1 in /Users/leon.sun/anaconda3/lib/python3.7/site-packages (from boto3->bentoml) (0.9.4)\n",
      "Requirement already satisfied: s3transfer<0.3.0,>=0.2.0 in /Users/leon.sun/anaconda3/lib/python3.7/site-packages (from boto3->bentoml) (0.2.1)\n",
      "Requirement already satisfied: websocket-client>=0.32.0 in /Users/leon.sun/anaconda3/lib/python3.7/site-packages (from docker->bentoml) (0.56.0)\n",
      "Requirement already satisfied: urllib3!=1.25.0,!=1.25.1,<1.26,>=1.21.1 in /Users/leon.sun/anaconda3/lib/python3.7/site-packages (from requests->bentoml) (1.25.3)\n",
      "Requirement already satisfied: certifi>=2017.4.17 in /Users/leon.sun/anaconda3/lib/python3.7/site-packages (from requests->bentoml) (2019.6.16)\n",
      "Requirement already satisfied: chardet<3.1.0,>=3.0.2 in /Users/leon.sun/anaconda3/lib/python3.7/site-packages (from requests->bentoml) (3.0.4)\n",
      "Requirement already satisfied: idna<2.9,>=2.5 in /Users/leon.sun/anaconda3/lib/python3.7/site-packages (from requests->bentoml) (2.8)\n",
      "Requirement already satisfied: pytz>=2011k in /Users/leon.sun/anaconda3/lib/python3.7/site-packages (from pandas->bentoml) (2019.1)\n",
      "Requirement already satisfied: python-dateutil>=2.5.0 in /Users/leon.sun/anaconda3/lib/python3.7/site-packages (from pandas->bentoml) (2.8.0)\n",
      "Requirement already satisfied: pyparsing>=2.0.2 in /Users/leon.sun/anaconda3/lib/python3.7/site-packages (from packaging->bentoml) (2.4.0)\n",
      "Requirement already satisfied: setuptools in /Users/leon.sun/anaconda3/lib/python3.7/site-packages (from protobuf>=3.6.0->bentoml) (41.0.1)\n",
      "Requirement already satisfied: Werkzeug>=0.15 in /Users/leon.sun/anaconda3/lib/python3.7/site-packages (from flask->bentoml) (0.15.5)\n",
      "Requirement already satisfied: itsdangerous>=0.24 in /Users/leon.sun/anaconda3/lib/python3.7/site-packages (from flask->bentoml) (1.1.0)\n",
      "Requirement already satisfied: Jinja2>=2.10.1 in /Users/leon.sun/anaconda3/lib/python3.7/site-packages (from flask->bentoml) (2.10.1)\n",
      "Requirement already satisfied: docutils>=0.10 in /Users/leon.sun/anaconda3/lib/python3.7/site-packages (from botocore<1.13.0,>=1.12.188->boto3->bentoml) (0.14)\n",
      "Requirement already satisfied: MarkupSafe>=0.23 in /Users/leon.sun/anaconda3/lib/python3.7/site-packages (from Jinja2>=2.10.1->flask->bentoml) (1.1.1)\n",
      "Requirement already satisfied: pandas in /Users/leon.sun/anaconda3/lib/python3.7/site-packages (0.24.2)\n",
      "Requirement already satisfied: sklearn in /Users/leon.sun/anaconda3/lib/python3.7/site-packages (0.0)\n",
      "Requirement already satisfied: pytz>=2011k in /Users/leon.sun/anaconda3/lib/python3.7/site-packages (from pandas) (2019.1)\n",
      "Requirement already satisfied: python-dateutil>=2.5.0 in /Users/leon.sun/anaconda3/lib/python3.7/site-packages (from pandas) (2.8.0)\n",
      "Requirement already satisfied: numpy>=1.12.0 in /Users/leon.sun/anaconda3/lib/python3.7/site-packages (from pandas) (1.16.4)\n",
      "Requirement already satisfied: scikit-learn in /Users/leon.sun/anaconda3/lib/python3.7/site-packages (from sklearn) (0.20.3)\n",
      "Requirement already satisfied: six>=1.5 in /Users/leon.sun/anaconda3/lib/python3.7/site-packages (from python-dateutil>=2.5.0->pandas) (1.12.0)\n",
      "Requirement already satisfied: scipy>=0.13.3 in /Users/leon.sun/anaconda3/lib/python3.7/site-packages (from scikit-learn->sklearn) (1.2.1)\n"
     ]
    }
   ],
   "source": [
    "# Install BentoML\n",
    "!pip install bentoml\n",
    "\n",
    "# Install scikit-learn, we will use a sklean model as an example\n",
    "!pip install pandas sklearn"
   ]
  },
  {
   "cell_type": "markdown",
   "metadata": {},
   "source": [
    "Let's get started with a simple scikit-learn model as an example:"
   ]
  },
  {
   "cell_type": "code",
   "execution_count": 2,
   "metadata": {},
   "outputs": [
    {
     "data": {
      "text/plain": [
       "SVC(C=1.0, cache_size=200, class_weight=None, coef0=0.0,\n",
       "  decision_function_shape='ovr', degree=3, gamma='scale', kernel='rbf',\n",
       "  max_iter=-1, probability=False, random_state=None, shrinking=True,\n",
       "  tol=0.001, verbose=False)"
      ]
     },
     "execution_count": 2,
     "metadata": {},
     "output_type": "execute_result"
    }
   ],
   "source": [
    "from sklearn import svm\n",
    "from sklearn import datasets\n",
    "\n",
    "clf = svm.SVC(gamma='scale')\n",
    "iris = datasets.load_iris()\n",
    "X, y = iris.data, iris.target\n",
    "clf.fit(X, y)"
   ]
  },
  {
   "cell_type": "markdown",
   "metadata": {},
   "source": [
    "## Define ML Service with BentoML\n",
    "\n",
    "To package this model with BentoML, you don't need to change anything in your training code. Following your training workflow, create a new BentoML Service by subclassing it:"
   ]
  },
  {
   "cell_type": "code",
   "execution_count": 3,
   "metadata": {},
   "outputs": [
    {
     "name": "stdout",
     "output_type": "stream",
     "text": [
      "Overwriting iris_classifier.py\n"
     ]
    }
   ],
   "source": [
    "%%writefile iris_classifier.py\n",
    "from bentoml import BentoService, api, env, artifacts\n",
    "from bentoml.artifact import PickleArtifact\n",
    "from bentoml.handlers import DataframeHandler\n",
    "\n",
    "# You can also import your own python module here and BentoML will automatically\n",
    "# figure out the dependency chain and package all those python modules\n",
    "\n",
    "@artifacts([PickleArtifact('model')])\n",
    "@env(pip_dependencies=[\"scikit-learn\"])\n",
    "class IrisClassifier(BentoService):\n",
    "\n",
    "    @api(DataframeHandler)\n",
    "    def predict(self, df):\n",
    "        # arbitrary preprocessing or feature fetching code can be placed here \n",
    "        return self.artifacts.model.predict(df)"
   ]
  },
  {
   "cell_type": "markdown",
   "metadata": {},
   "source": [
    "The `@artifacts` decorator here tells BentoML what artifacts are required when \n",
    "packaging this BentoService. Besides `PickleArtifact`, BentoML also provides\n",
    "`TfKerasModelArtifact`, `PytorchModelArtifact`, and `TfSavedModelArtifact` etc.\n",
    "\n",
    "`@env` is designed for specifying the desired system environment in order for this\n",
    "BentoService to load. If you already have a requirement.txt file listing all python \n",
    "libraries you need:\n",
    "```python\n",
    "@env(requirement_txt='../myproject/requirement.txt')\n",
    "```\n",
    "\n",
    "Lastly `@api` adds an entry point for accessing this BentoService. Each\n",
    "`api` will be translated into a REST endpoint when [deploying as API\n",
    "server](#serving-via-rest-api), or a CLI command when [running as a CLI\n",
    "tool](#use-as-cli-tool).\n",
    "\n",
    "Each API also requires a `Handler` for defining the expected input format. In\n",
    "this case, `DataframeHandler` will transform either an HTTP request or CLI\n",
    "command arguments into a pandas Dataframe and pass it down to the user defined\n",
    "API function. BentoML also supports `JsonHandler`, `ImageHandler` and\n",
    "`TensorHandler`.\n",
    "\n",
    "\n",
    "## Save BentoML service archive\n",
    "\n",
    "Pack your custom BentoML Service with the trained model:"
   ]
  },
  {
   "cell_type": "code",
   "execution_count": 4,
   "metadata": {},
   "outputs": [
    {
     "name": "stdout",
     "output_type": "stream",
     "text": [
      "[2019-08-08 20:20:30,017] INFO - Searching for dependant modules of iris_classifier:/Users/leon.sun/bentoml/examples/quick-start/iris_classifier.py\n",
      "[2019-08-08 20:20:50,748] INFO - Copying local python module '/Users/leon.sun/bentoml/examples/quick-start/iris_classifier.py'\n",
      "[2019-08-08 20:20:50,750] INFO - Done copying local python dependant modules\n",
      "[2019-08-08 20:20:50,839] INFO - BentoService IrisClassifier:2019_08_08_e1f4376a saved to /tmp/bentoml_archive/IrisClassifier/2019_08_08_e1f4376a\n"
     ]
    }
   ],
   "source": [
    "# 1) import the custom BentoService defined above\n",
    "from iris_classifier import IrisClassifier\n",
    "\n",
    "# 2) `pack` it with required artifacts\n",
    "svc = IrisClassifier.pack(model=clf)\n",
    "\n",
    "# 3) save packed BentoService as archive\n",
    "saved_path = svc.save('/tmp/bentoml_archive')"
   ]
  },
  {
   "cell_type": "markdown",
   "metadata": {},
   "source": [
    "_That's it._ You've just created your first Bento. It's a versioned archive, containing the BentoService you defined, along with trained model artifacts, dependencies and configurations etc. BentoML library can then load in a Bento file and turn it into a high performance prediction service."
   ]
  },
  {
   "cell_type": "markdown",
   "metadata": {},
   "source": [
    "## Serving via REST API\n",
    "\n",
    "For exposing your model as a HTTP API endpoint, you can simply use the `bentoml\n",
    "serve` command:"
   ]
  },
  {
   "cell_type": "code",
   "execution_count": null,
   "metadata": {},
   "outputs": [
    {
     "name": "stdout",
     "output_type": "stream",
     "text": [
      "Collecting package metadata: done\n",
      "Solving environment: done\n",
      "Preparing transaction: done\n",
      "Verifying transaction: done\n",
      "Executing transaction: done\n",
      "Ran pip subprocess with arguments:\n",
      "['/Users/leon.sun/anaconda3/envs/IrisClassifier_2019_08_08_e1f4376a/bin/python', '-m', 'pip', 'install', '-U', '-r', '/tmp/bentoml_archive/IrisClassifier/2019_08_08_e1f4376a/condaenv.ucnr9t3b.requirements.txt']\n",
      "Pip subprocess output:\n",
      "Requirement already up-to-date: bentoml[api_server]==0.3.1 in /Users/leon.sun/anaconda3/envs/IrisClassifier_2019_08_08_e1f4376a/lib/python3.7/site-packages (from -r /tmp/bentoml_archive/IrisClassifier/2019_08_08_e1f4376a/condaenv.ucnr9t3b.requirements.txt (line 1)) (0.3.1)\n",
      "Requirement already up-to-date: scikit-learn in /Users/leon.sun/anaconda3/envs/IrisClassifier_2019_08_08_e1f4376a/lib/python3.7/site-packages (from -r /tmp/bentoml_archive/IrisClassifier/2019_08_08_e1f4376a/condaenv.ucnr9t3b.requirements.txt (line 2)) (0.21.3)\n",
      "Requirement already satisfied, skipping upgrade: prometheus-client in /Users/leon.sun/anaconda3/envs/IrisClassifier_2019_08_08_e1f4376a/lib/python3.7/site-packages (from bentoml[api_server]==0.3.1->-r /tmp/bentoml_archive/IrisClassifier/2019_08_08_e1f4376a/condaenv.ucnr9t3b.requirements.txt (line 1)) (0.7.1)\n",
      "Requirement already satisfied, skipping upgrade: six in /Users/leon.sun/anaconda3/envs/IrisClassifier_2019_08_08_e1f4376a/lib/python3.7/site-packages (from bentoml[api_server]==0.3.1->-r /tmp/bentoml_archive/IrisClassifier/2019_08_08_e1f4376a/condaenv.ucnr9t3b.requirements.txt (line 1)) (1.12.0)\n",
      "Requirement already satisfied, skipping upgrade: ruamel.yaml>=0.15.0 in /Users/leon.sun/anaconda3/envs/IrisClassifier_2019_08_08_e1f4376a/lib/python3.7/site-packages (from bentoml[api_server]==0.3.1->-r /tmp/bentoml_archive/IrisClassifier/2019_08_08_e1f4376a/condaenv.ucnr9t3b.requirements.txt (line 1)) (0.16.1)\n",
      "Requirement already satisfied, skipping upgrade: gunicorn in /Users/leon.sun/anaconda3/envs/IrisClassifier_2019_08_08_e1f4376a/lib/python3.7/site-packages (from bentoml[api_server]==0.3.1->-r /tmp/bentoml_archive/IrisClassifier/2019_08_08_e1f4376a/condaenv.ucnr9t3b.requirements.txt (line 1)) (19.9.0)\n",
      "Requirement already satisfied, skipping upgrade: pandas in /Users/leon.sun/anaconda3/envs/IrisClassifier_2019_08_08_e1f4376a/lib/python3.7/site-packages (from bentoml[api_server]==0.3.1->-r /tmp/bentoml_archive/IrisClassifier/2019_08_08_e1f4376a/condaenv.ucnr9t3b.requirements.txt (line 1)) (0.25.0)\n",
      "Requirement already satisfied, skipping upgrade: dill in /Users/leon.sun/anaconda3/envs/IrisClassifier_2019_08_08_e1f4376a/lib/python3.7/site-packages (from bentoml[api_server]==0.3.1->-r /tmp/bentoml_archive/IrisClassifier/2019_08_08_e1f4376a/condaenv.ucnr9t3b.requirements.txt (line 1)) (0.3.0)\n",
      "Requirement already satisfied, skipping upgrade: python-json-logger in /Users/leon.sun/anaconda3/envs/IrisClassifier_2019_08_08_e1f4376a/lib/python3.7/site-packages (from bentoml[api_server]==0.3.1->-r /tmp/bentoml_archive/IrisClassifier/2019_08_08_e1f4376a/condaenv.ucnr9t3b.requirements.txt (line 1)) (0.1.11)\n",
      "Requirement already satisfied, skipping upgrade: boto3 in /Users/leon.sun/anaconda3/envs/IrisClassifier_2019_08_08_e1f4376a/lib/python3.7/site-packages (from bentoml[api_server]==0.3.1->-r /tmp/bentoml_archive/IrisClassifier/2019_08_08_e1f4376a/condaenv.ucnr9t3b.requirements.txt (line 1)) (1.9.203)\n",
      "Requirement already satisfied, skipping upgrade: configparser in /Users/leon.sun/anaconda3/envs/IrisClassifier_2019_08_08_e1f4376a/lib/python3.7/site-packages (from bentoml[api_server]==0.3.1->-r /tmp/bentoml_archive/IrisClassifier/2019_08_08_e1f4376a/condaenv.ucnr9t3b.requirements.txt (line 1)) (3.7.4)\n",
      "Requirement already satisfied, skipping upgrade: flask in /Users/leon.sun/anaconda3/envs/IrisClassifier_2019_08_08_e1f4376a/lib/python3.7/site-packages (from bentoml[api_server]==0.3.1->-r /tmp/bentoml_archive/IrisClassifier/2019_08_08_e1f4376a/condaenv.ucnr9t3b.requirements.txt (line 1)) (1.1.1)\n",
      "Requirement already satisfied, skipping upgrade: pathlib2 in /Users/leon.sun/anaconda3/envs/IrisClassifier_2019_08_08_e1f4376a/lib/python3.7/site-packages (from bentoml[api_server]==0.3.1->-r /tmp/bentoml_archive/IrisClassifier/2019_08_08_e1f4376a/condaenv.ucnr9t3b.requirements.txt (line 1)) (2.3.4)\n",
      "Requirement already satisfied, skipping upgrade: numpy in /Users/leon.sun/anaconda3/envs/IrisClassifier_2019_08_08_e1f4376a/lib/python3.7/site-packages (from bentoml[api_server]==0.3.1->-r /tmp/bentoml_archive/IrisClassifier/2019_08_08_e1f4376a/condaenv.ucnr9t3b.requirements.txt (line 1)) (1.17.0)\n",
      "Requirement already satisfied, skipping upgrade: click in /Users/leon.sun/anaconda3/envs/IrisClassifier_2019_08_08_e1f4376a/lib/python3.7/site-packages (from bentoml[api_server]==0.3.1->-r /tmp/bentoml_archive/IrisClassifier/2019_08_08_e1f4376a/condaenv.ucnr9t3b.requirements.txt (line 1)) (7.0)\n",
      "Requirement already satisfied, skipping upgrade: packaging in /Users/leon.sun/anaconda3/envs/IrisClassifier_2019_08_08_e1f4376a/lib/python3.7/site-packages (from bentoml[api_server]==0.3.1->-r /tmp/bentoml_archive/IrisClassifier/2019_08_08_e1f4376a/condaenv.ucnr9t3b.requirements.txt (line 1)) (19.1)\n",
      "Requirement already satisfied, skipping upgrade: docker in /Users/leon.sun/anaconda3/envs/IrisClassifier_2019_08_08_e1f4376a/lib/python3.7/site-packages (from bentoml[api_server]==0.3.1->-r /tmp/bentoml_archive/IrisClassifier/2019_08_08_e1f4376a/condaenv.ucnr9t3b.requirements.txt (line 1)) (4.0.2)\n",
      "Requirement already satisfied, skipping upgrade: requests in /Users/leon.sun/anaconda3/envs/IrisClassifier_2019_08_08_e1f4376a/lib/python3.7/site-packages (from bentoml[api_server]==0.3.1->-r /tmp/bentoml_archive/IrisClassifier/2019_08_08_e1f4376a/condaenv.ucnr9t3b.requirements.txt (line 1)) (2.22.0)\n",
      "Requirement already satisfied, skipping upgrade: Werkzeug; extra == \"api_server\" in /Users/leon.sun/anaconda3/envs/IrisClassifier_2019_08_08_e1f4376a/lib/python3.7/site-packages (from bentoml[api_server]==0.3.1->-r /tmp/bentoml_archive/IrisClassifier/2019_08_08_e1f4376a/condaenv.ucnr9t3b.requirements.txt (line 1)) (0.15.5)\n",
      "Requirement already satisfied, skipping upgrade: joblib>=0.11 in /Users/leon.sun/anaconda3/envs/IrisClassifier_2019_08_08_e1f4376a/lib/python3.7/site-packages (from scikit-learn->-r /tmp/bentoml_archive/IrisClassifier/2019_08_08_e1f4376a/condaenv.ucnr9t3b.requirements.txt (line 2)) (0.13.2)\n",
      "Requirement already satisfied, skipping upgrade: scipy>=0.17.0 in /Users/leon.sun/anaconda3/envs/IrisClassifier_2019_08_08_e1f4376a/lib/python3.7/site-packages (from scikit-learn->-r /tmp/bentoml_archive/IrisClassifier/2019_08_08_e1f4376a/condaenv.ucnr9t3b.requirements.txt (line 2)) (1.3.0)\n",
      "Requirement already satisfied, skipping upgrade: ruamel.yaml.clib>=0.1.2; platform_python_implementation == \"CPython\" and python_version < \"3.8\" in /Users/leon.sun/anaconda3/envs/IrisClassifier_2019_08_08_e1f4376a/lib/python3.7/site-packages (from ruamel.yaml>=0.15.0->bentoml[api_server]==0.3.1->-r /tmp/bentoml_archive/IrisClassifier/2019_08_08_e1f4376a/condaenv.ucnr9t3b.requirements.txt (line 1)) (0.1.2)\n",
      "Requirement already satisfied, skipping upgrade: python-dateutil>=2.6.1 in /Users/leon.sun/anaconda3/envs/IrisClassifier_2019_08_08_e1f4376a/lib/python3.7/site-packages (from pandas->bentoml[api_server]==0.3.1->-r /tmp/bentoml_archive/IrisClassifier/2019_08_08_e1f4376a/condaenv.ucnr9t3b.requirements.txt (line 1)) (2.8.0)\n",
      "Requirement already satisfied, skipping upgrade: pytz>=2017.2 in /Users/leon.sun/anaconda3/envs/IrisClassifier_2019_08_08_e1f4376a/lib/python3.7/site-packages (from pandas->bentoml[api_server]==0.3.1->-r /tmp/bentoml_archive/IrisClassifier/2019_08_08_e1f4376a/condaenv.ucnr9t3b.requirements.txt (line 1)) (2019.2)\n",
      "Requirement already satisfied, skipping upgrade: s3transfer<0.3.0,>=0.2.0 in /Users/leon.sun/anaconda3/envs/IrisClassifier_2019_08_08_e1f4376a/lib/python3.7/site-packages (from boto3->bentoml[api_server]==0.3.1->-r /tmp/bentoml_archive/IrisClassifier/2019_08_08_e1f4376a/condaenv.ucnr9t3b.requirements.txt (line 1)) (0.2.1)\n",
      "Requirement already satisfied, skipping upgrade: botocore<1.13.0,>=1.12.203 in /Users/leon.sun/anaconda3/envs/IrisClassifier_2019_08_08_e1f4376a/lib/python3.7/site-packages (from boto3->bentoml[api_server]==0.3.1->-r /tmp/bentoml_archive/IrisClassifier/2019_08_08_e1f4376a/condaenv.ucnr9t3b.requirements.txt (line 1)) (1.12.203)\n",
      "Requirement already satisfied, skipping upgrade: jmespath<1.0.0,>=0.7.1 in /Users/leon.sun/anaconda3/envs/IrisClassifier_2019_08_08_e1f4376a/lib/python3.7/site-packages (from boto3->bentoml[api_server]==0.3.1->-r /tmp/bentoml_archive/IrisClassifier/2019_08_08_e1f4376a/condaenv.ucnr9t3b.requirements.txt (line 1)) (0.9.4)\n",
      "Requirement already satisfied, skipping upgrade: Jinja2>=2.10.1 in /Users/leon.sun/anaconda3/envs/IrisClassifier_2019_08_08_e1f4376a/lib/python3.7/site-packages (from flask->bentoml[api_server]==0.3.1->-r /tmp/bentoml_archive/IrisClassifier/2019_08_08_e1f4376a/condaenv.ucnr9t3b.requirements.txt (line 1)) (2.10.1)\n",
      "Requirement already satisfied, skipping upgrade: itsdangerous>=0.24 in /Users/leon.sun/anaconda3/envs/IrisClassifier_2019_08_08_e1f4376a/lib/python3.7/site-packages (from flask->bentoml[api_server]==0.3.1->-r /tmp/bentoml_archive/IrisClassifier/2019_08_08_e1f4376a/condaenv.ucnr9t3b.requirements.txt (line 1)) (1.1.0)\n",
      "Requirement already satisfied, skipping upgrade: attrs in /Users/leon.sun/anaconda3/envs/IrisClassifier_2019_08_08_e1f4376a/lib/python3.7/site-packages (from packaging->bentoml[api_server]==0.3.1->-r /tmp/bentoml_archive/IrisClassifier/2019_08_08_e1f4376a/condaenv.ucnr9t3b.requirements.txt (line 1)) (19.1.0)\n",
      "Requirement already satisfied, skipping upgrade: pyparsing>=2.0.2 in /Users/leon.sun/anaconda3/envs/IrisClassifier_2019_08_08_e1f4376a/lib/python3.7/site-packages (from packaging->bentoml[api_server]==0.3.1->-r /tmp/bentoml_archive/IrisClassifier/2019_08_08_e1f4376a/condaenv.ucnr9t3b.requirements.txt (line 1)) (2.4.2)\n",
      "Requirement already satisfied, skipping upgrade: websocket-client>=0.32.0 in /Users/leon.sun/anaconda3/envs/IrisClassifier_2019_08_08_e1f4376a/lib/python3.7/site-packages (from docker->bentoml[api_server]==0.3.1->-r /tmp/bentoml_archive/IrisClassifier/2019_08_08_e1f4376a/condaenv.ucnr9t3b.requirements.txt (line 1)) (0.56.0)\n",
      "Requirement already satisfied, skipping upgrade: certifi>=2017.4.17 in /Users/leon.sun/anaconda3/envs/IrisClassifier_2019_08_08_e1f4376a/lib/python3.7/site-packages (from requests->bentoml[api_server]==0.3.1->-r /tmp/bentoml_archive/IrisClassifier/2019_08_08_e1f4376a/condaenv.ucnr9t3b.requirements.txt (line 1)) (2019.6.16)\n",
      "Requirement already satisfied, skipping upgrade: urllib3!=1.25.0,!=1.25.1,<1.26,>=1.21.1 in /Users/leon.sun/anaconda3/envs/IrisClassifier_2019_08_08_e1f4376a/lib/python3.7/site-packages (from requests->bentoml[api_server]==0.3.1->-r /tmp/bentoml_archive/IrisClassifier/2019_08_08_e1f4376a/condaenv.ucnr9t3b.requirements.txt (line 1)) (1.25.3)\n",
      "Requirement already satisfied, skipping upgrade: idna<2.9,>=2.5 in /Users/leon.sun/anaconda3/envs/IrisClassifier_2019_08_08_e1f4376a/lib/python3.7/site-packages (from requests->bentoml[api_server]==0.3.1->-r /tmp/bentoml_archive/IrisClassifier/2019_08_08_e1f4376a/condaenv.ucnr9t3b.requirements.txt (line 1)) (2.8)\n",
      "Requirement already satisfied, skipping upgrade: chardet<3.1.0,>=3.0.2 in /Users/leon.sun/anaconda3/envs/IrisClassifier_2019_08_08_e1f4376a/lib/python3.7/site-packages (from requests->bentoml[api_server]==0.3.1->-r /tmp/bentoml_archive/IrisClassifier/2019_08_08_e1f4376a/condaenv.ucnr9t3b.requirements.txt (line 1)) (3.0.4)\n",
      "Requirement already satisfied, skipping upgrade: docutils<0.15,>=0.10 in /Users/leon.sun/anaconda3/envs/IrisClassifier_2019_08_08_e1f4376a/lib/python3.7/site-packages (from botocore<1.13.0,>=1.12.203->boto3->bentoml[api_server]==0.3.1->-r /tmp/bentoml_archive/IrisClassifier/2019_08_08_e1f4376a/condaenv.ucnr9t3b.requirements.txt (line 1)) (0.14)\n",
      "Requirement already satisfied, skipping upgrade: MarkupSafe>=0.23 in /Users/leon.sun/anaconda3/envs/IrisClassifier_2019_08_08_e1f4376a/lib/python3.7/site-packages (from Jinja2>=2.10.1->flask->bentoml[api_server]==0.3.1->-r /tmp/bentoml_archive/IrisClassifier/2019_08_08_e1f4376a/condaenv.ucnr9t3b.requirements.txt (line 1)) (1.1.1)\n",
      "\n",
      "#\n",
      "# To activate this environment, use\n",
      "#\n",
      "#     $ conda activate IrisClassifier_2019_08_08_e1f4376a\n",
      "#\n",
      "# To deactivate an active environment, use\n",
      "#\n",
      "#     $ conda deactivate\n",
      "\n"
     ]
    },
    {
     "name": "stdout",
     "output_type": "stream",
     "text": [
      "no change     /Users/leon.sun/anaconda3/condabin/conda\n",
      "no change     /Users/leon.sun/anaconda3/bin/conda\n",
      "no change     /Users/leon.sun/anaconda3/bin/conda-env\n",
      "no change     /Users/leon.sun/anaconda3/bin/activate\n",
      "no change     /Users/leon.sun/anaconda3/bin/deactivate\n",
      "no change     /Users/leon.sun/anaconda3/etc/profile.d/conda.sh\n",
      "no change     /Users/leon.sun/anaconda3/etc/fish/conf.d/conda.fish\n",
      "no change     /Users/leon.sun/anaconda3/shell/condabin/Conda.psm1\n",
      "no change     /Users/leon.sun/anaconda3/shell/condabin/conda-hook.ps1\n",
      "no change     /Users/leon.sun/anaconda3/lib/python3.7/site-packages/xonsh/conda.xsh\n",
      "no change     /Users/leon.sun/anaconda3/etc/profile.d/conda.csh\n",
      "no change     /Users/leon.sun/.bash_profile\n",
      "No action taken.\n",
      "/Users/leon.sun/anaconda3/envs/IrisClassifier_2019_08_08_e1f4376a/lib/python3.7/site-packages/sklearn/base.py:306: UserWarning: Trying to unpickle estimator SVC from version 0.20.3 when using version 0.21.3. This might lead to breaking code or invalid results. Use at your own risk.\n",
      "  UserWarning)\n",
      " * Serving Flask app \"IrisClassifier\" (lazy loading)\n",
      " * Environment: production\n",
      "\u001b[31m   WARNING: This is a development server. Do not use it in a production deployment.\u001b[0m\n",
      "\u001b[2m   Use a production WSGI server instead.\u001b[0m\n",
      " * Debug mode: on\n",
      " * Running on http://127.0.0.1:5000/ (Press CTRL+C to quit)\n",
      " * Restarting with stat\n",
      "/Users/leon.sun/anaconda3/envs/IrisClassifier_2019_08_08_e1f4376a/lib/python3.7/site-packages/sklearn/base.py:306: UserWarning: Trying to unpickle estimator SVC from version 0.20.3 when using version 0.21.3. This might lead to breaking code or invalid results. Use at your own risk.\n",
      "  UserWarning)\n",
      " * Debugger is active!\n",
      " * Debugger PIN: 130-753-966\n"
     ]
    }
   ],
   "source": [
    "!bentoml serve {saved_path} --with-conda"
   ]
  },
  {
   "cell_type": "markdown",
   "metadata": {},
   "source": [
    "#### View documentations for REST APIs\n",
    "\n",
    "Open http://127.0.0.1:5000 to view the documentation of generated REST APIs in a \n",
    "browser.\n",
    "\n",
    "*note: RestAPI serving does not work for Google Colab, due to unable to access Colab's port.\n",
    "\n",
    "#### Send prediction request to REST API server\n",
    "\n",
    "*Run the following command in terminal to make a HTTP request to the API server*\n",
    "```bash\n",
    "curl -i \\\n",
    "--header \"Content-Type: application/json\" \\\n",
    "--request POST \\\n",
    "--data '[[5.1, 3.5, 1.4, 0.2]]' \\\n",
    "localhost:5000/predict\n",
    "```\n",
    "\n",
    "Note you must ensure the pip and conda dependencies are available in your python\n",
    "environment when using `bentoml serve` command. More commonly we recommend using\n",
    "BentoML API server with Docker:\n",
    "\n",
    "## Run REST API server with Docker (Optional)\n",
    "\n",
    "You can build a Docker Image for running API server hosting your BentoML archive\n",
    "by using the archive folder as docker build context:\n",
    "\n",
    "__Note that `docker` is note available on Google Colab__"
   ]
  },
  {
   "cell_type": "code",
   "execution_count": null,
   "metadata": {},
   "outputs": [],
   "source": [
    "!cd {saved_path} && docker build -t iris-classifier ."
   ]
  },
  {
   "cell_type": "markdown",
   "metadata": {},
   "source": [
    "Next, you can `docker push` the image to your choice of registry for deployment,\n",
    "or run it locally for development and testing:"
   ]
  },
  {
   "cell_type": "code",
   "execution_count": null,
   "metadata": {},
   "outputs": [],
   "source": [
    "!docker run -p 5000:5000 iris-classifier"
   ]
  },
  {
   "cell_type": "markdown",
   "metadata": {},
   "source": [
    "## Loading BentoService in Python\n",
    "\n",
    "`bentoml.load` is the enssential API for loading a Bento into your\n",
    "python application:"
   ]
  },
  {
   "cell_type": "code",
   "execution_count": null,
   "metadata": {},
   "outputs": [],
   "source": [
    "import bentoml\n",
    "import pandas as pd\n",
    "\n",
    "bento_svc = bentoml.load(saved_path)\n",
    "\n",
    "# Test loaded bentoml service:\n",
    "bento_svc.predict([X[0]])"
   ]
  },
  {
   "cell_type": "markdown",
   "metadata": {},
   "source": [
    "## \"pip install\" a BentoML archive\n",
    "\n",
    "BentoML also supports distributing a BentoService as PyPI package, with the\n",
    "generated `setup.py` file. A Bento directory can be installed with `pip`:"
   ]
  },
  {
   "cell_type": "code",
   "execution_count": null,
   "metadata": {},
   "outputs": [],
   "source": [
    "!pip install {saved_path}"
   ]
  },
  {
   "cell_type": "markdown",
   "metadata": {},
   "source": [
    "Now you can import your ML service as a regular python package:"
   ]
  },
  {
   "cell_type": "code",
   "execution_count": null,
   "metadata": {},
   "outputs": [],
   "source": [
    "import IrisClassifier\n",
    "\n",
    "installed_svc = IrisClassifier.load()\n",
    "installed_svc.predict([X[0]])"
   ]
  },
  {
   "cell_type": "markdown",
   "metadata": {},
   "source": [
    "A Bento PyPI package can also be uploaded to pypi.org\n",
    "as a public python package, or to your organization's private PyPI index for all\n",
    "developers in your organization to use:\n",
    "\n",
    "`cd {saved_path} & python setup.py sdist upload`\n",
    "\n",
    "*You will need a \".pypirc\" config file before doing this: https://docs.python.org/2/distutils/packageindex.html*\n",
    "\n",
    "\n",
    "# CLI access\n",
    "\n",
    "`pip install {saved_path}` also installs a CLI tool for accessing the BentoML service:"
   ]
  },
  {
   "cell_type": "code",
   "execution_count": null,
   "metadata": {},
   "outputs": [],
   "source": [
    "!IrisClassifier info"
   ]
  },
  {
   "cell_type": "code",
   "execution_count": null,
   "metadata": {
    "pycharm": {
     "name": "#%%\n"
    }
   },
   "outputs": [],
   "source": [
    "!IrisClassifier docs"
   ]
  },
  {
   "cell_type": "code",
   "execution_count": null,
   "metadata": {},
   "outputs": [],
   "source": [
    "!IrisClassifier --help"
   ]
  },
  {
   "cell_type": "code",
   "execution_count": null,
   "metadata": {},
   "outputs": [],
   "source": [
    "!IrisClassifier predict --help"
   ]
  },
  {
   "cell_type": "code",
   "execution_count": null,
   "metadata": {
    "scrolled": true
   },
   "outputs": [],
   "source": [
    "!IrisClassifier predict --input='[[5.1, 3.5, 1.4, 0.2]]'"
   ]
  },
  {
   "cell_type": "markdown",
   "metadata": {},
   "source": [
    "BentoML cli also supports reading input data from `csv` or `json` files, in either local machine or remote HTTP/S3 location:"
   ]
  },
  {
   "cell_type": "code",
   "execution_count": null,
   "metadata": {},
   "outputs": [],
   "source": [
    "# Writing test data to a csv file\n",
    "pd.DataFrame(iris.data).to_csv('iris_data.csv', index=False)"
   ]
  },
  {
   "cell_type": "code",
   "execution_count": null,
   "metadata": {},
   "outputs": [],
   "source": [
    "# Invoke predict from command lien\n",
    "!IrisClassifier predict --input='./iris_data.csv'"
   ]
  },
  {
   "cell_type": "markdown",
   "metadata": {},
   "source": [
    "Alternatively, you can also use the `bentoml` cli to load and run a BentoML service archive without installing it:"
   ]
  },
  {
   "cell_type": "code",
   "execution_count": null,
   "metadata": {},
   "outputs": [],
   "source": [
    "!bentoml info {saved_path}"
   ]
  },
  {
   "cell_type": "code",
   "execution_count": null,
   "metadata": {},
   "outputs": [],
   "source": [
    "!bentoml predict {saved_path} --input='[[5.1, 3.5, 1.4, 0.2]]'"
   ]
  },
  {
   "cell_type": "markdown",
   "metadata": {},
   "source": [
    "# Deploying to AWS Lambda\n",
    "\n",
    "AWS Lambda is a serverless computing platform provided by Amazon Web Services. BentoML service archive can be easily deployed to AWS Lambda as a REST API endpoint.\n",
    "\n",
    "In order to run this demo, make sure to configure your AWS credentials via either `aws configure` command or setting the environment variables below:"
   ]
  },
  {
   "cell_type": "code",
   "execution_count": null,
   "metadata": {},
   "outputs": [],
   "source": [
    "%env AWS_ACCESS_KEY_ID=\n",
    "%env AWS_SECRET_ACCESS_KEY="
   ]
  },
  {
   "cell_type": "markdown",
   "metadata": {},
   "source": [
    "In order to use BentoML for deployment with AWS services, first install extra dependencies that BentoML need:"
   ]
  },
  {
   "cell_type": "code",
   "execution_count": null,
   "metadata": {},
   "outputs": [],
   "source": [
    "!pip install bentoml[aws]"
   ]
  },
  {
   "cell_type": "markdown",
   "metadata": {},
   "source": [
    "Then install the [serverless framework](https://serverless.com) that BentoML uses under the hood for creating and managing serverless deployments:"
   ]
  },
  {
   "cell_type": "code",
   "execution_count": null,
   "metadata": {
    "scrolled": true
   },
   "outputs": [],
   "source": [
    "# make sure node is installed\n",
    "!node --version\n",
    "\n",
    "# install serverless framework\n",
    "!npm install -g serverless"
   ]
  },
  {
   "cell_type": "markdown",
   "metadata": {},
   "source": [
    "Now, you can deploy the BentML service archive you just created to AWS Lambda with one command:"
   ]
  },
  {
   "cell_type": "code",
   "execution_count": null,
   "metadata": {
    "scrolled": true
   },
   "outputs": [],
   "source": [
    "!bentoml deploy {saved_path} --platform aws-lambda --region us-west-2"
   ]
  },
  {
   "cell_type": "markdown",
   "metadata": {},
   "source": [
    "To get current deployment status:"
   ]
  },
  {
   "cell_type": "code",
   "execution_count": null,
   "metadata": {},
   "outputs": [],
   "source": [
    "!bentoml check-deployment-status {saved_path} --platform aws-lambda --region us-west-2"
   ]
  },
  {
   "cell_type": "markdown",
   "metadata": {},
   "source": [
    "And delete your AWS Lambda deployment with:"
   ]
  },
  {
   "cell_type": "code",
   "execution_count": null,
   "metadata": {},
   "outputs": [],
   "source": [
    "!bentoml delete-deployment {saved_path} --platform aws-lambda --region us-west-2"
   ]
  },
  {
   "cell_type": "markdown",
   "metadata": {},
   "source": [
    "# Summary\n",
    "\n",
    "This is what it looks like when using BentoML to create and deploy a machine learning service, all the way from training notebook to deployment in production. BentoML also supports many other Machine Learning frameworks, as well as many other deployment platforms. Take a look at other BentoML examples [here](https://github.com/bentoml/BentoML#examples)."
   ]
  }
 ],
 "metadata": {
  "kernelspec": {
   "display_name": "Python 3",
   "language": "python",
   "name": "python3"
  },
  "language_info": {
   "codemirror_mode": {
    "name": "ipython",
    "version": 3
   },
   "file_extension": ".py",
   "mimetype": "text/x-python",
   "name": "python",
   "nbconvert_exporter": "python",
   "pygments_lexer": "ipython3",
   "version": "3.7.3"
  }
 },
 "nbformat": 4,
 "nbformat_minor": 2
}
