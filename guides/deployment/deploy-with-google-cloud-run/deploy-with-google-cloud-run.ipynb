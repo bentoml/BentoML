{
 "cells": [
  {
   "cell_type": "markdown",
   "metadata": {},
   "source": [
    "# BentoML Example:  Deploy to Google Cloud Run\n",
    "\n",
    "[BentoML](http://bentoml.ai) is an open source framework for building, shipping and running machine learning services. It provides high-level APIs for defining an ML service and packaging its artifacts, source code, dependencies, and configurations into a production-system-friendly format that is ready for deployment.\n",
    "\n",
    "This notebook demonstrates how to use BentoML to deploy a machine learning model as a REST API endpoint to Google Cloud run. For this demo, we are using the [Sentiment Analysis with Scikit-learn](https://github.com/bentoml/BentoML/blob/master/examples/sklearn-sentiment-clf/sklearn-sentiment-clf.ipynb) example, using dataset from [Sentiment140](http://help.sentiment140.com/for-students/).\n",
    "\n",
    "![Impression](https://www.google-analytics.com/collect?v=1&tid=UA-112879361-3&cid=555&t=event&ec=nb&ea=open&el=official-example&dt=deploy-with-google-cloudrun)"
   ]
  },
  {
   "cell_type": "code",
   "execution_count": 1,
   "metadata": {},
   "outputs": [],
   "source": [
    "%reload_ext autoreload\n",
    "%autoreload 2\n",
    "%matplotlib inline"
   ]
  },
  {
   "cell_type": "code",
   "execution_count": null,
   "metadata": {},
   "outputs": [],
   "source": [
    "!pip install -I bentoml\n",
    "!pip install sklearn pandas numpy"
   ]
  },
  {
   "cell_type": "code",
   "execution_count": 3,
   "metadata": {},
   "outputs": [],
   "source": [
    "import numpy as np\n",
    "import pandas as pd\n",
    "from sklearn.feature_extraction.text import CountVectorizer\n",
    "from sklearn.linear_model import LogisticRegression\n",
    "from sklearn.metrics import classification_report, roc_auc_score, roc_curve\n",
    "from sklearn.pipeline import Pipeline\n",
    "\n",
    "import bentoml"
   ]
  },
  {
   "cell_type": "markdown",
   "metadata": {},
   "source": [
    "# Prepare Dataset"
   ]
  },
  {
   "cell_type": "code",
   "execution_count": 3,
   "metadata": {},
   "outputs": [
    {
     "name": "stdout",
     "output_type": "stream",
     "text": [
      "Archive:  trainingandtestdata.zip\n",
      "  inflating: testdata.manual.2009.06.14.csv  \n",
      "  inflating: training.1600000.processed.noemoticon.csv  \n"
     ]
    }
   ],
   "source": [
    "%%bash\n",
    "\n",
    "if [ ! -f ./trainingandtestdata.zip ]; then\n",
    "    wget -q http://cs.stanford.edu/people/alecmgo/trainingandtestdata.zip\n",
    "    unzip -n trainingandtestdata.zip\n",
    "fi"
   ]
  },
  {
   "cell_type": "code",
   "execution_count": 4,
   "metadata": {},
   "outputs": [],
   "source": [
    "columns = ['polarity', 'tweetid', 'date', 'query_name', 'user', 'text']\n",
    "dftrain = pd.read_csv('training.1600000.processed.noemoticon.csv',\n",
    "                      header = None,\n",
    "                      encoding ='ISO-8859-1')\n",
    "dftest = pd.read_csv('testdata.manual.2009.06.14.csv',\n",
    "                     header = None,\n",
    "                     encoding ='ISO-8859-1')\n",
    "dftrain.columns = columns\n",
    "dftest.columns = columns"
   ]
  },
  {
   "cell_type": "markdown",
   "metadata": {},
   "source": [
    "# Model Training"
   ]
  },
  {
   "cell_type": "code",
   "execution_count": 5,
   "metadata": {
    "scrolled": true
   },
   "outputs": [
    {
     "name": "stderr",
     "output_type": "stream",
     "text": [
      "/usr/local/anaconda3/envs/dev-py3/lib/python3.7/site-packages/sklearn/linear_model/logistic.py:433: FutureWarning: Default solver will be changed to 'lbfgs' in 0.22. Specify a solver to silence this warning.\n",
      "  FutureWarning)\n"
     ]
    },
    {
     "data": {
      "text/plain": [
       "Pipeline(memory=None,\n",
       "     steps=[('count_vect', CountVectorizer(analyzer='word', binary=False, decode_error='strict',\n",
       "        dtype=<class 'numpy.int64'>, encoding='utf-8', input='content',\n",
       "        lowercase=True, max_df=1.0, max_features=None, min_df=100,\n",
       "        ngram_range=(1, 1), preprocessor=None, stop_words='english',\n",
       "...penalty='l2', random_state=None, solver='warn',\n",
       "          tol=0.0001, verbose=0, warm_start=False))])"
      ]
     },
     "execution_count": 5,
     "metadata": {},
     "output_type": "execute_result"
    }
   ],
   "source": [
    "sentiment_lr = Pipeline([\n",
    "                         ('count_vect', CountVectorizer(min_df = 100,\n",
    "                                                        ngram_range = (1,1),\n",
    "                                                        stop_words = 'english')), \n",
    "                         ('lr', LogisticRegression())])\n",
    "sentiment_lr.fit(dftrain.text, dftrain.polarity)"
   ]
  },
  {
   "cell_type": "code",
   "execution_count": 6,
   "metadata": {
    "scrolled": true
   },
   "outputs": [
    {
     "name": "stdout",
     "output_type": "stream",
     "text": [
      "              precision    recall  f1-score   support\n",
      "\n",
      "           0       0.85      0.80      0.83       177\n",
      "           4       0.82      0.86      0.84       182\n",
      "\n",
      "   micro avg       0.83      0.83      0.83       359\n",
      "   macro avg       0.83      0.83      0.83       359\n",
      "weighted avg       0.83      0.83      0.83       359\n",
      "\n"
     ]
    }
   ],
   "source": [
    "Xtest, ytest = dftest.text[dftest.polarity!=2], dftest.polarity[dftest.polarity!=2]\n",
    "print(classification_report(ytest,sentiment_lr.predict(Xtest)))"
   ]
  },
  {
   "cell_type": "code",
   "execution_count": 7,
   "metadata": {},
   "outputs": [
    {
     "data": {
      "text/plain": [
       "array([4])"
      ]
     },
     "execution_count": 7,
     "metadata": {},
     "output_type": "execute_result"
    }
   ],
   "source": [
    "sentiment_lr.predict([Xtest[0]])"
   ]
  },
  {
   "cell_type": "markdown",
   "metadata": {},
   "source": [
    "# Define ML Service with BentoML"
   ]
  },
  {
   "cell_type": "code",
   "execution_count": 8,
   "metadata": {
    "scrolled": true
   },
   "outputs": [
    {
     "name": "stdout",
     "output_type": "stream",
     "text": [
      "Writing sentiment_lr_model.py\n"
     ]
    }
   ],
   "source": [
    "%%writefile sentiment_lr_model.py\n",
    "import pandas as pd\n",
    "import bentoml\n",
    "from bentoml.artifact import PickleArtifact\n",
    "from bentoml.handlers import DataframeHandler\n",
    "\n",
    "@bentoml.artifacts([PickleArtifact('sentiment_lr')])\n",
    "@bentoml.env(pip_dependencies=[\"scikit-learn\", \"pandas\"])\n",
    "class SentimentLRModel(bentoml.BentoService):\n",
    "    \n",
    "    @bentoml.api(DataframeHandler, typ='series')\n",
    "    def predict(self, series):\n",
    "        \"\"\"\n",
    "        predict expects pandas.Series as input\n",
    "        \"\"\"        \n",
    "        return self.artifacts.sentiment_lr.predict(series)"
   ]
  },
  {
   "cell_type": "markdown",
   "metadata": {},
   "source": [
    "# Save BentoML service archive"
   ]
  },
  {
   "cell_type": "code",
   "execution_count": 4,
   "metadata": {},
   "outputs": [
    {
     "ename": "NameError",
     "evalue": "name 'sentiment_lr' is not defined",
     "output_type": "error",
     "traceback": [
      "\u001b[0;31m---------------------------------------------------------------------------\u001b[0m",
      "\u001b[0;31mNameError\u001b[0m                                 Traceback (most recent call last)",
      "\u001b[0;32m<ipython-input-4-d7f3da29d466>\u001b[0m in \u001b[0;36m<module>\u001b[0;34m()\u001b[0m\n\u001b[1;32m      4\u001b[0m \u001b[0;34m\u001b[0m\u001b[0m\n\u001b[1;32m      5\u001b[0m \u001b[0mbento_model\u001b[0m \u001b[0;34m=\u001b[0m \u001b[0mSentimentLRModel\u001b[0m\u001b[0;34m(\u001b[0m\u001b[0;34m)\u001b[0m\u001b[0;34m\u001b[0m\u001b[0m\n\u001b[0;32m----> 6\u001b[0;31m \u001b[0mbento_model\u001b[0m\u001b[0;34m.\u001b[0m\u001b[0mpack\u001b[0m\u001b[0;34m(\u001b[0m\u001b[0;34m'sentiment_lr'\u001b[0m\u001b[0;34m,\u001b[0m \u001b[0msentiment_lr\u001b[0m\u001b[0;34m)\u001b[0m\u001b[0;34m\u001b[0m\u001b[0m\n\u001b[0m\u001b[1;32m      7\u001b[0m \u001b[0;34m\u001b[0m\u001b[0m\n\u001b[1;32m      8\u001b[0m \u001b[0;31m# Save bentoML model to directory\u001b[0m\u001b[0;34m\u001b[0m\u001b[0;34m\u001b[0m\u001b[0m\n",
      "\u001b[0;31mNameError\u001b[0m: name 'sentiment_lr' is not defined"
     ]
    }
   ],
   "source": [
    "from sentiment_lr_model import SentimentLRModel\n",
    "\n",
    "# Initialize bentoML model with artifacts\n",
    "\n",
    "bento_model = SentimentLRModel()\n",
    "bento_model.pack('sentiment_lr', sentiment_lr)\n",
    "\n",
    "# Save bentoML model to directory\n",
    "saved_path = bento_model.save()\n",
    "\n",
    "# print the directory containing exported model archive (prefixed with model name and version)\n",
    "print(saved_path)"
   ]
  },
  {
   "cell_type": "code",
   "execution_count": 14,
   "metadata": {},
   "outputs": [],
   "source": [
    "saved_path = '/Users/bozhaoyu/bentoml/repository/SentimentLRModel/20191216231343_AEA027'"
   ]
  },
  {
   "cell_type": "markdown",
   "metadata": {},
   "source": [
    "# Load BentoML Service from archive"
   ]
  },
  {
   "cell_type": "code",
   "execution_count": 6,
   "metadata": {
    "scrolled": false
   },
   "outputs": [
    {
     "name": "stdout",
     "output_type": "stream",
     "text": [
      "[2019-12-17 10:50:20,968] WARNING - Module `sentiment_lr_model` already loaded, using existing imported module.\n"
     ]
    },
    {
     "name": "stderr",
     "output_type": "stream",
     "text": [
      "/usr/local/anaconda3/lib/python3.6/site-packages/sklearn/base.py:311: UserWarning: Trying to unpickle estimator CountVectorizer from version 0.20.3 when using version 0.19.1. This might lead to breaking code or invalid results. Use at your own risk.\n",
      "  UserWarning)\n",
      "/usr/local/anaconda3/lib/python3.6/site-packages/sklearn/base.py:311: UserWarning: Trying to unpickle estimator LogisticRegression from version 0.20.3 when using version 0.19.1. This might lead to breaking code or invalid results. Use at your own risk.\n",
      "  UserWarning)\n",
      "/usr/local/anaconda3/lib/python3.6/site-packages/sklearn/base.py:311: UserWarning: Trying to unpickle estimator Pipeline from version 0.20.3 when using version 0.19.1. This might lead to breaking code or invalid results. Use at your own risk.\n",
      "  UserWarning)\n"
     ]
    },
    {
     "data": {
      "text/plain": [
       "array([4, 4])"
      ]
     },
     "execution_count": 6,
     "metadata": {},
     "output_type": "execute_result"
    }
   ],
   "source": [
    "import bentoml\n",
    "\n",
    "# Load exported bentoML model archive from path\n",
    "bento_model = bentoml.load(saved_path)\n",
    "\n",
    "# Call predict on the restored sklearn model\n",
    "bento_model.predict(pd.Series([\"hello\", \"hi\"]))"
   ]
  },
  {
   "cell_type": "code",
   "execution_count": 7,
   "metadata": {},
   "outputs": [],
   "source": [
    "bento_tag = '{name}:{version}'.format(name=bento_model.name, version=bento_model.version)"
   ]
  },
  {
   "cell_type": "markdown",
   "metadata": {},
   "source": [
    "# Deploy Bento bundle with Google Cloud Run"
   ]
  },
  {
   "cell_type": "markdown",
   "metadata": {},
   "source": [
    "1. Install Google Cloud SDK and CLI\n",
    "https://cloud.google.com/sdk/install"
   ]
  },
  {
   "cell_type": "markdown",
   "metadata": {},
   "source": [
    "2. Create new project with `gcloud`"
   ]
  },
  {
   "cell_type": "code",
   "execution_count": 8,
   "metadata": {},
   "outputs": [
    {
     "name": "stdout",
     "output_type": "stream",
     "text": [
      "Create in progress for [https://cloudresourcemanager.googleapis.com/v1/projects/sentiment-gcloud-run].\n",
      "Waiting for [operations/cp.7580966240072066179] to finish...done.              \n",
      "Enabling service [cloudapis.googleapis.com] on project [sentiment-gcloud-run]...\n",
      "Operation \"operations/acf.3d6ba408-4f5e-4859-923d-40a491b663a4\" finished successfully.\n"
     ]
    }
   ],
   "source": [
    "!gcloud projects create sentiment-gcloud-run"
   ]
  },
  {
   "cell_type": "code",
   "execution_count": 12,
   "metadata": {},
   "outputs": [
    {
     "name": "stdout",
     "output_type": "stream",
     "text": [
      "Updated property [core/project].\r\n"
     ]
    }
   ],
   "source": [
    "!gcloud config set project sentiment-gcloud-run"
   ]
  },
  {
   "cell_type": "markdown",
   "metadata": {},
   "source": [
    "**Make sure enable cloud run API on Google cloud console**\n",
    "https://console.cloud.google.com/"
   ]
  },
  {
   "cell_type": "code",
   "execution_count": 10,
   "metadata": {},
   "outputs": [
    {
     "name": "stdout",
     "output_type": "stream",
     "text": [
      "\r\n",
      "All components are up to date.\r\n"
     ]
    }
   ],
   "source": [
    "!gcloud components update"
   ]
  },
  {
   "cell_type": "code",
   "execution_count": 20,
   "metadata": {},
   "outputs": [
    {
     "name": "stdout",
     "output_type": "stream",
     "text": [
      "/Users/bozhaoyu/bentoml/repository/SentimentLRModel/20191216231343_AEA027\n"
     ]
    }
   ],
   "source": [
    "%cd {saved_path}"
   ]
  },
  {
   "cell_type": "markdown",
   "metadata": {},
   "source": [
    "*Upload docker image to Google Container registry*"
   ]
  },
  {
   "cell_type": "code",
   "execution_count": 22,
   "metadata": {},
   "outputs": [
    {
     "name": "stdout",
     "output_type": "stream",
     "text": [
      "Creating temporary tarball archive of 80 file(s) totalling 8.8 MiB before compression.\n",
      "Uploading tarball of [.] to [gs://sentiment-gcloud-run_cloudbuild/source/1576610370.18-1acde23d92024652b4d6c72df4b6a8e9.tgz]\n",
      "Created [https://cloudbuild.googleapis.com/v1/projects/sentiment-gcloud-run/builds/12df8469-1242-4662-a858-e5f6b8809184].\n",
      "Logs are available at [https://console.cloud.google.com/gcr/builds/12df8469-1242-4662-a858-e5f6b8809184?project=185885650434].\n",
      "----------------------------- REMOTE BUILD OUTPUT ------------------------------\n",
      "starting build \"12df8469-1242-4662-a858-e5f6b8809184\"\n",
      "\n",
      "FETCHSOURCE\n",
      "Fetching storage object: gs://sentiment-gcloud-run_cloudbuild/source/1576610370.18-1acde23d92024652b4d6c72df4b6a8e9.tgz#1576610373095149\n",
      "Copying gs://sentiment-gcloud-run_cloudbuild/source/1576610370.18-1acde23d92024652b4d6c72df4b6a8e9.tgz#1576610373095149...\n",
      "/ [1 files][  4.8 MiB/  4.8 MiB]                                                \n",
      "Operation completed over 1 objects/4.8 MiB.                                      \n",
      "BUILD\n",
      "Already have image (with digest): gcr.io/cloud-builders/docker\n",
      "Sending build context to Docker daemon   9.28MB\n",
      "Step 1/12 : FROM continuumio/miniconda3:4.7.12\n",
      "4.7.12: Pulling from continuumio/miniconda3\n",
      "b8f262c62ec6: Pulling fs layer\n",
      "0a43c0154f16: Pulling fs layer\n",
      "906d7b5da8fb: Pulling fs layer\n",
      "906d7b5da8fb: Verifying Checksum\n",
      "906d7b5da8fb: Download complete\n",
      "b8f262c62ec6: Verifying Checksum\n",
      "b8f262c62ec6: Download complete\n",
      "0a43c0154f16: Verifying Checksum\n",
      "0a43c0154f16: Download complete\n",
      "b8f262c62ec6: Pull complete\n",
      "0a43c0154f16: Pull complete\n",
      "906d7b5da8fb: Pull complete\n",
      "Digest: sha256:6c979670684d970f8ba934bf9b7bf42e77c30a22eb96af1f30a039b484719159\n",
      "Status: Downloaded newer image for continuumio/miniconda3:4.7.12\n",
      " ---> 406f2b43ea59\n",
      "Step 2/12 : ENTRYPOINT [ \"/bin/bash\", \"-c\" ]\n",
      " ---> Running in b31c99c46a56\n",
      "Removing intermediate container b31c99c46a56\n",
      " ---> bed5e8d26da5\n",
      "Step 3/12 : EXPOSE 5000\n",
      " ---> Running in e594ffc7b08b\n",
      "Removing intermediate container e594ffc7b08b\n",
      " ---> 8f0b276ca685\n",
      "Step 4/12 : RUN set -x      && apt-get update      && apt-get install --no-install-recommends --no-install-suggests -y libpq-dev build-essential      && rm -rf /var/lib/apt/lists/*\n",
      " ---> Running in 91cfb917fd7d\n",
      "\u001b[91m+ apt-get update\n",
      "\u001b[0mGet:1 http://security.debian.org/debian-security buster/updates InRelease [65.4 kB]\n",
      "Get:2 http://deb.debian.org/debian buster InRelease [122 kB]\n",
      "Get:3 http://deb.debian.org/debian buster-updates InRelease [49.3 kB]\n",
      "Get:4 http://security.debian.org/debian-security buster/updates/main amd64 Packages [163 kB]\n",
      "Get:5 http://deb.debian.org/debian buster/main amd64 Packages [7908 kB]\n",
      "Fetched 8307 kB in 2s (4292 kB/s)\n",
      "Reading package lists...\n",
      "\u001b[91m+ \u001b[0m\u001b[91mapt-get\u001b[0m\u001b[91m install\u001b[0m\u001b[91m --no-install-recommends\u001b[0m\u001b[91m --no-install-suggests\u001b[0m\u001b[91m -y\u001b[0m\u001b[91m libpq-dev\u001b[0m\u001b[91m build-essential\u001b[0m\u001b[91m\n",
      "\u001b[0mReading package lists...\n",
      "Building dependency tree...\n",
      "Reading state information...\n",
      "The following additional packages will be installed:\n",
      "  binutils binutils-common binutils-x86-64-linux-gnu cpp cpp-8 dpkg-dev g++\n",
      "  g++-8 gcc gcc-8 libasan5 libatomic1 libbinutils libc-dev-bin libc6-dev\n",
      "  libcc1-0 libdpkg-perl libgcc-8-dev libgomp1 libisl19 libitm1 liblsan0\n",
      "  libmpc3 libmpfr6 libmpx2 libpq5 libquadmath0 libstdc++-8-dev libtsan0\n",
      "  libubsan1 linux-libc-dev make\n",
      "Suggested packages:\n",
      "  binutils-doc cpp-doc gcc-8-locales debian-keyring g++-multilib\n",
      "  g++-8-multilib gcc-8-doc libstdc++6-8-dbg gcc-multilib manpages-dev autoconf\n",
      "  automake libtool flex bison gdb gcc-doc gcc-8-multilib libgcc1-dbg\n",
      "  libgomp1-dbg libitm1-dbg libatomic1-dbg libasan5-dbg liblsan0-dbg\n",
      "  libtsan0-dbg libubsan1-dbg libmpx2-dbg libquadmath0-dbg glibc-doc gnupg\n",
      "  | gnupg2 bzr postgresql-doc-11 libstdc++-8-doc make-doc\n",
      "Recommended packages:\n",
      "  fakeroot gnupg | gnupg2 libalgorithm-merge-perl manpages manpages-dev\n",
      "  libfile-fcntllock-perl liblocale-gettext-perl\n",
      "The following NEW packages will be installed:\n",
      "  binutils binutils-common binutils-x86-64-linux-gnu build-essential cpp cpp-8\n",
      "  dpkg-dev g++ g++-8 gcc gcc-8 libasan5 libatomic1 libbinutils libc-dev-bin\n",
      "  libc6-dev libcc1-0 libdpkg-perl libgcc-8-dev libgomp1 libisl19 libitm1\n",
      "  liblsan0 libmpc3 libmpfr6 libmpx2 libpq-dev libpq5 libquadmath0\n",
      "  libstdc++-8-dev libtsan0 libubsan1 linux-libc-dev make\n",
      "0 upgraded, 34 newly installed, 0 to remove and 23 not upgraded.\n",
      "Need to get 47.1 MB of archives.\n",
      "After this operation, 182 MB of additional disk space will be used.\n",
      "Get:1 http://security.debian.org/debian-security buster/updates/main amd64 linux-libc-dev amd64 4.19.67-2+deb10u2 [1234 kB]\n",
      "Get:2 http://deb.debian.org/debian buster/main amd64 binutils-common amd64 2.31.1-16 [2073 kB]\n",
      "Get:3 http://deb.debian.org/debian buster/main amd64 libbinutils amd64 2.31.1-16 [478 kB]\n",
      "Get:4 http://deb.debian.org/debian buster/main amd64 binutils-x86-64-linux-gnu amd64 2.31.1-16 [1823 kB]\n",
      "Get:5 http://deb.debian.org/debian buster/main amd64 binutils amd64 2.31.1-16 [56.8 kB]\n",
      "Get:6 http://deb.debian.org/debian buster/main amd64 libc-dev-bin amd64 2.28-10 [275 kB]\n",
      "Get:7 http://deb.debian.org/debian buster/main amd64 libc6-dev amd64 2.28-10 [2691 kB]\n",
      "Get:8 http://deb.debian.org/debian buster/main amd64 libisl19 amd64 0.20-2 [587 kB]\n",
      "Get:9 http://deb.debian.org/debian buster/main amd64 libmpfr6 amd64 4.0.2-1 [775 kB]\n",
      "Get:10 http://deb.debian.org/debian buster/main amd64 libmpc3 amd64 1.1.0-1 [41.3 kB]\n",
      "Get:11 http://deb.debian.org/debian buster/main amd64 cpp-8 amd64 8.3.0-6 [8914 kB]\n",
      "Get:12 http://deb.debian.org/debian buster/main amd64 cpp amd64 4:8.3.0-1 [19.4 kB]\n",
      "Get:13 http://deb.debian.org/debian buster/main amd64 libcc1-0 amd64 8.3.0-6 [46.6 kB]\n",
      "Get:14 http://deb.debian.org/debian buster/main amd64 libgomp1 amd64 8.3.0-6 [75.8 kB]\n",
      "Get:15 http://deb.debian.org/debian buster/main amd64 libitm1 amd64 8.3.0-6 [27.7 kB]\n",
      "Get:16 http://deb.debian.org/debian buster/main amd64 libatomic1 amd64 8.3.0-6 [9032 B]\n",
      "Get:17 http://deb.debian.org/debian buster/main amd64 libasan5 amd64 8.3.0-6 [362 kB]\n",
      "Get:18 http://deb.debian.org/debian buster/main amd64 liblsan0 amd64 8.3.0-6 [131 kB]\n",
      "Get:19 http://deb.debian.org/debian buster/main amd64 libtsan0 amd64 8.3.0-6 [283 kB]\n",
      "Get:20 http://deb.debian.org/debian buster/main amd64 libubsan1 amd64 8.3.0-6 [120 kB]\n",
      "Get:21 http://deb.debian.org/debian buster/main amd64 libmpx2 amd64 8.3.0-6 [11.4 kB]\n",
      "Get:22 http://deb.debian.org/debian buster/main amd64 libquadmath0 amd64 8.3.0-6 [133 kB]\n",
      "Get:23 http://deb.debian.org/debian buster/main amd64 libgcc-8-dev amd64 8.3.0-6 [2298 kB]\n",
      "Get:24 http://deb.debian.org/debian buster/main amd64 gcc-8 amd64 8.3.0-6 [9452 kB]\n",
      "Get:25 http://deb.debian.org/debian buster/main amd64 gcc amd64 4:8.3.0-1 [5196 B]\n",
      "Get:26 http://deb.debian.org/debian buster/main amd64 libstdc++-8-dev amd64 8.3.0-6 [1532 kB]\n",
      "Get:27 http://deb.debian.org/debian buster/main amd64 g++-8 amd64 8.3.0-6 [9752 kB]\n",
      "Get:28 http://deb.debian.org/debian buster/main amd64 g++ amd64 4:8.3.0-1 [1644 B]\n",
      "Get:29 http://deb.debian.org/debian buster/main amd64 make amd64 4.2.1-1.2 [341 kB]\n",
      "Get:30 http://deb.debian.org/debian buster/main amd64 libdpkg-perl all 1.19.7 [1414 kB]\n",
      "Get:31 http://deb.debian.org/debian buster/main amd64 dpkg-dev all 1.19.7 [1773 kB]\n",
      "Get:32 http://deb.debian.org/debian buster/main amd64 build-essential amd64 12.6 [7576 B]\n",
      "Get:33 http://deb.debian.org/debian buster/main amd64 libpq5 amd64 11.5-1+deb10u1 [166 kB]\n",
      "Get:34 http://deb.debian.org/debian buster/main amd64 libpq-dev amd64 11.5-1+deb10u1 [161 kB]\n",
      "\u001b[91mdebconf: delaying package configuration, since apt-utils is not installed\n",
      "\u001b[0mFetched 47.1 MB in 1s (59.9 MB/s)\n",
      "Selecting previously unselected package binutils-common:amd64.\n",
      "(Reading database ... 12557 files and directories currently installed.)\n",
      "Preparing to unpack .../00-binutils-common_2.31.1-16_amd64.deb ...\n",
      "Unpacking binutils-common:amd64 (2.31.1-16) ...\n",
      "Selecting previously unselected package libbinutils:amd64.\n",
      "Preparing to unpack .../01-libbinutils_2.31.1-16_amd64.deb ...\n",
      "Unpacking libbinutils:amd64 (2.31.1-16) ...\n",
      "Selecting previously unselected package binutils-x86-64-linux-gnu.\n",
      "Preparing to unpack .../02-binutils-x86-64-linux-gnu_2.31.1-16_amd64.deb ...\n",
      "Unpacking binutils-x86-64-linux-gnu (2.31.1-16) ...\n"
     ]
    },
    {
     "name": "stdout",
     "output_type": "stream",
     "text": [
      "Selecting previously unselected package binutils.\n",
      "Preparing to unpack .../03-binutils_2.31.1-16_amd64.deb ...\n",
      "Unpacking binutils (2.31.1-16) ...\n",
      "Selecting previously unselected package libc-dev-bin.\n",
      "Preparing to unpack .../04-libc-dev-bin_2.28-10_amd64.deb ...\n",
      "Unpacking libc-dev-bin (2.28-10) ...\n",
      "Selecting previously unselected package linux-libc-dev:amd64.\n",
      "Preparing to unpack .../05-linux-libc-dev_4.19.67-2+deb10u2_amd64.deb ...\n",
      "Unpacking linux-libc-dev:amd64 (4.19.67-2+deb10u2) ...\n",
      "Selecting previously unselected package libc6-dev:amd64.\n",
      "Preparing to unpack .../06-libc6-dev_2.28-10_amd64.deb ...\n",
      "Unpacking libc6-dev:amd64 (2.28-10) ...\n",
      "Selecting previously unselected package libisl19:amd64.\n",
      "Preparing to unpack .../07-libisl19_0.20-2_amd64.deb ...\n",
      "Unpacking libisl19:amd64 (0.20-2) ...\n",
      "Selecting previously unselected package libmpfr6:amd64.\n",
      "Preparing to unpack .../08-libmpfr6_4.0.2-1_amd64.deb ...\n",
      "Unpacking libmpfr6:amd64 (4.0.2-1) ...\n",
      "Selecting previously unselected package libmpc3:amd64.\n",
      "Preparing to unpack .../09-libmpc3_1.1.0-1_amd64.deb ...\n",
      "Unpacking libmpc3:amd64 (1.1.0-1) ...\n",
      "Selecting previously unselected package cpp-8.\n",
      "Preparing to unpack .../10-cpp-8_8.3.0-6_amd64.deb ...\n",
      "Unpacking cpp-8 (8.3.0-6) ...\n",
      "Selecting previously unselected package cpp.\n",
      "Preparing to unpack .../11-cpp_4%3a8.3.0-1_amd64.deb ...\n",
      "Unpacking cpp (4:8.3.0-1) ...\n",
      "Selecting previously unselected package libcc1-0:amd64.\n",
      "Preparing to unpack .../12-libcc1-0_8.3.0-6_amd64.deb ...\n",
      "Unpacking libcc1-0:amd64 (8.3.0-6) ...\n",
      "Selecting previously unselected package libgomp1:amd64.\n",
      "Preparing to unpack .../13-libgomp1_8.3.0-6_amd64.deb ...\n",
      "Unpacking libgomp1:amd64 (8.3.0-6) ...\n",
      "Selecting previously unselected package libitm1:amd64.\n",
      "Preparing to unpack .../14-libitm1_8.3.0-6_amd64.deb ...\n",
      "Unpacking libitm1:amd64 (8.3.0-6) ...\n",
      "Selecting previously unselected package libatomic1:amd64.\n",
      "Preparing to unpack .../15-libatomic1_8.3.0-6_amd64.deb ...\n",
      "Unpacking libatomic1:amd64 (8.3.0-6) ...\n",
      "Selecting previously unselected package libasan5:amd64.\n",
      "Preparing to unpack .../16-libasan5_8.3.0-6_amd64.deb ...\n",
      "Unpacking libasan5:amd64 (8.3.0-6) ...\n",
      "Selecting previously unselected package liblsan0:amd64.\n",
      "Preparing to unpack .../17-liblsan0_8.3.0-6_amd64.deb ...\n",
      "Unpacking liblsan0:amd64 (8.3.0-6) ...\n",
      "Selecting previously unselected package libtsan0:amd64.\n",
      "Preparing to unpack .../18-libtsan0_8.3.0-6_amd64.deb ...\n",
      "Unpacking libtsan0:amd64 (8.3.0-6) ...\n",
      "Selecting previously unselected package libubsan1:amd64.\n",
      "Preparing to unpack .../19-libubsan1_8.3.0-6_amd64.deb ...\n",
      "Unpacking libubsan1:amd64 (8.3.0-6) ...\n",
      "Selecting previously unselected package libmpx2:amd64.\n",
      "Preparing to unpack .../20-libmpx2_8.3.0-6_amd64.deb ...\n",
      "Unpacking libmpx2:amd64 (8.3.0-6) ...\n",
      "Selecting previously unselected package libquadmath0:amd64.\n",
      "Preparing to unpack .../21-libquadmath0_8.3.0-6_amd64.deb ...\n",
      "Unpacking libquadmath0:amd64 (8.3.0-6) ...\n",
      "Selecting previously unselected package libgcc-8-dev:amd64.\n",
      "Preparing to unpack .../22-libgcc-8-dev_8.3.0-6_amd64.deb ...\n",
      "Unpacking libgcc-8-dev:amd64 (8.3.0-6) ...\n",
      "Selecting previously unselected package gcc-8.\n",
      "Preparing to unpack .../23-gcc-8_8.3.0-6_amd64.deb ...\n",
      "Unpacking gcc-8 (8.3.0-6) ...\n",
      "Selecting previously unselected package gcc.\n",
      "Preparing to unpack .../24-gcc_4%3a8.3.0-1_amd64.deb ...\n",
      "Unpacking gcc (4:8.3.0-1) ...\n",
      "Selecting previously unselected package libstdc++-8-dev:amd64.\n",
      "Preparing to unpack .../25-libstdc++-8-dev_8.3.0-6_amd64.deb ...\n",
      "Unpacking libstdc++-8-dev:amd64 (8.3.0-6) ...\n",
      "Selecting previously unselected package g++-8.\n",
      "Preparing to unpack .../26-g++-8_8.3.0-6_amd64.deb ...\n",
      "Unpacking g++-8 (8.3.0-6) ...\n",
      "Selecting previously unselected package g++.\n",
      "Preparing to unpack .../27-g++_4%3a8.3.0-1_amd64.deb ...\n",
      "Unpacking g++ (4:8.3.0-1) ...\n",
      "Selecting previously unselected package make.\n",
      "Preparing to unpack .../28-make_4.2.1-1.2_amd64.deb ...\n",
      "Unpacking make (4.2.1-1.2) ...\n",
      "Selecting previously unselected package libdpkg-perl.\n",
      "Preparing to unpack .../29-libdpkg-perl_1.19.7_all.deb ...\n",
      "Unpacking libdpkg-perl (1.19.7) ...\n",
      "Selecting previously unselected package dpkg-dev.\n",
      "Preparing to unpack .../30-dpkg-dev_1.19.7_all.deb ...\n",
      "Unpacking dpkg-dev (1.19.7) ...\n",
      "Selecting previously unselected package build-essential.\n",
      "Preparing to unpack .../31-build-essential_12.6_amd64.deb ...\n",
      "Unpacking build-essential (12.6) ...\n",
      "Selecting previously unselected package libpq5:amd64.\n",
      "Preparing to unpack .../32-libpq5_11.5-1+deb10u1_amd64.deb ...\n",
      "Unpacking libpq5:amd64 (11.5-1+deb10u1) ...\n",
      "Selecting previously unselected package libpq-dev.\n",
      "Preparing to unpack .../33-libpq-dev_11.5-1+deb10u1_amd64.deb ...\n",
      "Unpacking libpq-dev (11.5-1+deb10u1) ...\n",
      "Setting up binutils-common:amd64 (2.31.1-16) ...\n",
      "Setting up libpq5:amd64 (11.5-1+deb10u1) ...\n",
      "Setting up linux-libc-dev:amd64 (4.19.67-2+deb10u2) ...\n",
      "Setting up libpq-dev (11.5-1+deb10u1) ...\n",
      "Setting up libgomp1:amd64 (8.3.0-6) ...\n",
      "Setting up libasan5:amd64 (8.3.0-6) ...\n",
      "Setting up make (4.2.1-1.2) ...\n",
      "Setting up libmpfr6:amd64 (4.0.2-1) ...\n",
      "Setting up libquadmath0:amd64 (8.3.0-6) ...\n",
      "Setting up libmpc3:amd64 (1.1.0-1) ...\n",
      "Setting up libatomic1:amd64 (8.3.0-6) ...\n",
      "Setting up libdpkg-perl (1.19.7) ...\n",
      "Setting up libmpx2:amd64 (8.3.0-6) ...\n",
      "Setting up libubsan1:amd64 (8.3.0-6) ...\n",
      "Setting up libisl19:amd64 (0.20-2) ...\n",
      "Setting up libbinutils:amd64 (2.31.1-16) ...\n",
      "Setting up cpp-8 (8.3.0-6) ...\n",
      "Setting up libc-dev-bin (2.28-10) ...\n",
      "Setting up libcc1-0:amd64 (8.3.0-6) ...\n",
      "Setting up liblsan0:amd64 (8.3.0-6) ...\n",
      "Setting up libitm1:amd64 (8.3.0-6) ...\n",
      "Setting up binutils-x86-64-linux-gnu (2.31.1-16) ...\n",
      "Setting up libtsan0:amd64 (8.3.0-6) ...\n",
      "Setting up binutils (2.31.1-16) ...\n",
      "Setting up dpkg-dev (1.19.7) ...\n",
      "Setting up libgcc-8-dev:amd64 (8.3.0-6) ...\n",
      "Setting up cpp (4:8.3.0-1) ...\n",
      "Setting up libc6-dev:amd64 (2.28-10) ...\n",
      "Setting up libstdc++-8-dev:amd64 (8.3.0-6) ...\n",
      "Setting up gcc-8 (8.3.0-6) ...\n",
      "Setting up gcc (4:8.3.0-1) ...\n",
      "Setting up g++-8 (8.3.0-6) ...\n",
      "Setting up g++ (4:8.3.0-1) ...\n",
      "update-alternatives: using /usr/bin/g++ to provide /usr/bin/c++ (c++) in auto mode\n",
      "Setting up build-essential (12.6) ...\n",
      "Processing triggers for libc-bin (2.28-10) ...\n",
      "\u001b[91m+ \u001b[0m\u001b[91mrm\u001b[0m\u001b[91m -rf\u001b[0m\u001b[91m /var/lib/apt/lists/auxfiles\u001b[0m\u001b[91m /var/lib/apt/lists/deb.debian.org_debian_dists_buster-updates_InRelease\u001b[0m\u001b[91m /var/lib/apt/lists/deb.debian.org_debian_dists_buster-updates_main_binary-amd64_Packages.lz4\u001b[0m\u001b[91m /var/lib/apt/lists/deb.debian.org_debian_dists_buster_InRelease\u001b[0m\u001b[91m /var/lib/apt/lists/deb.debian.org_debian_dists_buster_main_binary-amd64_Packages.lz4\u001b[0m\u001b[91m /var/lib/apt/lists/lock\u001b[0m\u001b[91m /var/lib/apt/lists/partial\u001b[0m\u001b[91m /var/lib/apt/lists/security.debian.org_debian-security_dists_buster_updates_InRelease\u001b[0m\u001b[91m /var/lib/apt/lists/security.debian.org_debian-security_dists_buster_updates_main_binary-amd64_Packages.lz4\u001b[0m\u001b[91m\n",
      "\u001b[0mRemoving intermediate container 91cfb917fd7d\n",
      " ---> 3153197dfa37\n",
      "Step 5/12 : RUN conda update conda -y       && conda install pip numpy scipy       && pip install gunicorn\n",
      " ---> Running in bc435f897d77\n",
      "Collecting package metadata (current_repodata.json): ...working... done\n",
      "Solving environment: ...working... done\n",
      "\n",
      "## Package Plan ##\n",
      "\n",
      "  environment location: /opt/conda\n",
      "\n",
      "  added / updated specs:\n",
      "    - conda\n",
      "\n",
      "\n",
      "The following packages will be downloaded:\n",
      "\n",
      "    package                    |            build\n",
      "    ---------------------------|-----------------\n",
      "    asn1crypto-1.2.0           |           py37_0         162 KB\n",
      "    ca-certificates-2019.11.27 |                0         132 KB\n",
      "    certifi-2019.11.28         |           py37_0         156 KB\n",
      "    cffi-1.13.2                |   py37h2e261b9_0         225 KB\n",
      "    conda-4.8.0                |           py37_1         2.8 MB\n",
      "    cryptography-2.8           |   py37h1ba5d50_0         612 KB\n",
      "    openssl-1.1.1d             |       h7b6447c_3         3.7 MB\n",
      "    pip-19.3.1                 |           py37_0         1.9 MB\n",
      "    pyopenssl-19.1.0           |           py37_0          87 KB\n",
      "    requests-2.22.0            |           py37_1          90 KB\n",
      "    setuptools-42.0.2          |           py37_0         646 KB\n",
      "    six-1.13.0                 |           py37_0          27 KB\n",
      "    sqlite-3.30.1              |       h7b6447c_0         1.9 MB\n",
      "    tqdm-4.40.2                |             py_0          53 KB\n",
      "    urllib3-1.25.7             |           py37_0         165 KB\n",
      "    ------------------------------------------------------------\n",
      "                                           Total:        12.7 MB\n",
      "\n",
      "The following packages will be UPDATED:\n",
      "\n",
      "  asn1crypto                                   1.0.1-py37_0 --> 1.2.0-py37_0\n",
      "  ca-certificates                               2019.8.28-0 --> 2019.11.27-0\n",
      "  certifi                                  2019.9.11-py37_0 --> 2019.11.28-py37_0\n",
      "  cffi                                1.12.3-py37h2e261b9_0 --> 1.13.2-py37h2e261b9_0\n",
      "  conda                                       4.7.12-py37_0 --> 4.8.0-py37_1\n",
      "  cryptography                           2.7-py37h1ba5d50_0 --> 2.8-py37h1ba5d50_0\n",
      "  openssl                                 1.1.1d-h7b6447c_2 --> 1.1.1d-h7b6447c_3\n",
      "  pip                                         19.2.3-py37_0 --> 19.3.1-py37_0\n",
      "  pyopenssl                                   19.0.0-py37_0 --> 19.1.0-py37_0\n",
      "  requests                                    2.22.0-py37_0 --> 2.22.0-py37_1\n",
      "  setuptools                                  41.4.0-py37_0 --> 42.0.2-py37_0\n",
      "  six                                         1.12.0-py37_0 --> 1.13.0-py37_0\n",
      "  sqlite                                  3.30.0-h7b6447c_0 --> 3.30.1-h7b6447c_0\n",
      "  tqdm                                          4.36.1-py_0 --> 4.40.2-py_0\n",
      "  urllib3                                     1.24.2-py37_0 --> 1.25.7-py37_0\n",
      "\n",
      "\n",
      "\n",
      "Downloading and Extracting Packages\n",
      "tqdm-4.40.2          | 53 KB     | ########## | 100% \n",
      "six-1.13.0           | 27 KB     | ########## | 100% \n",
      "urllib3-1.25.7       | 165 KB    | ########## | 100% \n",
      "cryptography-2.8     | 612 KB    | ########## | 100% \n",
      "certifi-2019.11.28   | 156 KB    | ########## | 100% \n",
      "pip-19.3.1           | 1.9 MB    | ########## | 100% \n",
      "pyopenssl-19.1.0     | 87 KB     | ########## | 100% \n",
      "requests-2.22.0      | 90 KB     | ########## | 100% \n"
     ]
    },
    {
     "name": "stdout",
     "output_type": "stream",
     "text": [
      "asn1crypto-1.2.0     | 162 KB    | ########## | 100% \n",
      "cffi-1.13.2          | 225 KB    | ########## | 100% \n",
      "openssl-1.1.1d       | 3.7 MB    | ########## | 100% \n",
      "ca-certificates-2019 | 132 KB    | ########## | 100% \n",
      "setuptools-42.0.2    | 646 KB    | ########## | 100% \n",
      "conda-4.8.0          | 2.8 MB    | ########## | 100% \n",
      "sqlite-3.30.1        | 1.9 MB    | ########## | 100% \n",
      "Preparing transaction: ...working... done\n",
      "Verifying transaction: ...working... done\n",
      "Executing transaction: ...working... done\n",
      "Collecting package metadata (current_repodata.json): ...working... done\n",
      "Solving environment: ...working... done\n",
      "\n",
      "## Package Plan ##\n",
      "\n",
      "  environment location: /opt/conda\n",
      "\n",
      "  added / updated specs:\n",
      "    - numpy\n",
      "    - pip\n",
      "    - scipy\n",
      "\n",
      "\n",
      "The following packages will be downloaded:\n",
      "\n",
      "    package                    |            build\n",
      "    ---------------------------|-----------------\n",
      "    blas-1.0                   |              mkl           6 KB\n",
      "    intel-openmp-2019.4        |              243         729 KB\n",
      "    libgfortran-ng-7.3.0       |       hdf63c60_0        1006 KB\n",
      "    mkl-2019.4                 |              243       131.2 MB\n",
      "    mkl-service-2.3.0          |   py37he904b0f_0         218 KB\n",
      "    mkl_fft-1.0.15             |   py37ha843d7b_0         172 KB\n",
      "    mkl_random-1.1.0           |   py37hd6b4f25_0         321 KB\n",
      "    numpy-1.17.4               |   py37hc1035e2_0           5 KB\n",
      "    numpy-base-1.17.4          |   py37hde5b4d6_0         4.1 MB\n",
      "    scipy-1.3.2                |   py37h7c811a0_0        13.9 MB\n",
      "    ------------------------------------------------------------\n",
      "                                           Total:       151.7 MB\n",
      "\n",
      "The following NEW packages will be INSTALLED:\n",
      "\n",
      "  blas               pkgs/main/linux-64::blas-1.0-mkl\n",
      "  intel-openmp       pkgs/main/linux-64::intel-openmp-2019.4-243\n",
      "  libgfortran-ng     pkgs/main/linux-64::libgfortran-ng-7.3.0-hdf63c60_0\n",
      "  mkl                pkgs/main/linux-64::mkl-2019.4-243\n",
      "  mkl-service        pkgs/main/linux-64::mkl-service-2.3.0-py37he904b0f_0\n",
      "  mkl_fft            pkgs/main/linux-64::mkl_fft-1.0.15-py37ha843d7b_0\n",
      "  mkl_random         pkgs/main/linux-64::mkl_random-1.1.0-py37hd6b4f25_0\n",
      "  numpy              pkgs/main/linux-64::numpy-1.17.4-py37hc1035e2_0\n",
      "  numpy-base         pkgs/main/linux-64::numpy-base-1.17.4-py37hde5b4d6_0\n",
      "  scipy              pkgs/main/linux-64::scipy-1.3.2-py37h7c811a0_0\n",
      "\n",
      "\n",
      "Proceed ([y]/n)? \n",
      "\n",
      "Downloading and Extracting Packages\n",
      "scipy-1.3.2          | 13.9 MB   | ########## | 100% \n",
      "blas-1.0             | 6 KB      | ########## | 100% \n",
      "mkl-service-2.3.0    | 218 KB    | ########## | 100% \n",
      "libgfortran-ng-7.3.0 | 1006 KB   | ########## | 100% \n",
      "mkl_fft-1.0.15       | 172 KB    | ########## | 100% \n",
      "intel-openmp-2019.4  | 729 KB    | ########## | 100% \n",
      "mkl_random-1.1.0     | 321 KB    | ########## | 100% \n",
      "numpy-1.17.4         | 5 KB      | ########## | 100% \n",
      "mkl-2019.4           | 131.2 MB  | ########## | 100% \n",
      "numpy-base-1.17.4    | 4.1 MB    | ########## | 100% \n",
      "Preparing transaction: ...working... done\n",
      "Verifying transaction: ...working... done\n",
      "Executing transaction: ...working... done\n",
      "Collecting gunicorn\n",
      "  Downloading https://files.pythonhosted.org/packages/69/ca/926f7cd3a2014b16870086b2d0fdc84a9e49473c68a8dff8b57f7c156f43/gunicorn-20.0.4-py2.py3-none-any.whl (77kB)\n",
      "Requirement already satisfied: setuptools>=3.0 in /opt/conda/lib/python3.7/site-packages (from gunicorn) (42.0.2.post20191203)\n",
      "Installing collected packages: gunicorn\n",
      "Successfully installed gunicorn-20.0.4\n",
      "Removing intermediate container bc435f897d77\n",
      " ---> 3344e2846e5f\n",
      "Step 6/12 : COPY . /bento\n",
      " ---> 56fa0bb59e23\n",
      "Step 7/12 : WORKDIR /bento\n",
      " ---> Running in fd9d28602f41\n",
      "Removing intermediate container fd9d28602f41\n",
      " ---> 2fbf5178da99\n",
      "Step 8/12 : RUN conda env update -n base -f /bento/environment.yml\n",
      " ---> Running in 04463ee7d3ba\n",
      "Collecting package metadata (repodata.json): ...working... done\n",
      "Solving environment: ...working... done\n",
      "\n",
      "Downloading and Extracting Packages\n",
      "python-3.7.2         | 31.9 MB   | ########## | 100% \n",
      "Preparing transaction: ...working... done\n",
      "Verifying transaction: ...working... done\n",
      "Executing transaction: ...working... done\n",
      "#\n",
      "# To activate this environment, use\n",
      "#\n",
      "#     $ conda activate base\n",
      "#\n",
      "# To deactivate an active environment, use\n",
      "#\n",
      "#     $ conda deactivate\n",
      "Removing intermediate container 04463ee7d3ba\n",
      " ---> a088d7db8124\n",
      "Step 9/12 : RUN pip install -r /bento/requirements.txt\n",
      " ---> Running in 29df5ea34a59\n",
      "Collecting bentoml==0.5.3\n",
      "  Downloading https://files.pythonhosted.org/packages/20/53/6656851abd7ea4df7d3934a0b7eb8972c3c40dad2b4c0ea6b23e0c9c0624/BentoML-0.5.3-py3-none-any.whl (523kB)\n",
      "Collecting scikit-learn\n",
      "  Downloading https://files.pythonhosted.org/packages/19/96/8034e350d4550748277e514d0d6d91bdd36be19e6c5f40b8af0d74cb0c84/scikit_learn-0.22-cp37-cp37m-manylinux1_x86_64.whl (7.0MB)\n",
      "Collecting pandas\n",
      "  Downloading https://files.pythonhosted.org/packages/63/e0/a1b39cdcb2c391f087a1538bc8a6d62a82d0439693192aef541d7b123769/pandas-0.25.3-cp37-cp37m-manylinux1_x86_64.whl (10.4MB)\n",
      "Collecting ruamel.yaml>=0.15.0\n",
      "  Downloading https://files.pythonhosted.org/packages/fa/90/ecff85a2e9c497e2fa7142496e10233556b5137db5bd46f3f3b006935ca8/ruamel.yaml-0.16.5-py2.py3-none-any.whl (123kB)\n",
      "Collecting alembic\n",
      "  Downloading https://files.pythonhosted.org/packages/dc/6d/3c1411dfdcf089ec89ce5e2222deb2292f39b6b1a5911222e15af9fe5a92/alembic-1.3.2.tar.gz (1.1MB)\n",
      "Collecting sqlalchemy>=1.3.0\n",
      "  Downloading https://files.pythonhosted.org/packages/17/7f/35879c73859368ad19a952b69ee780aa97fc30350dabd45fb948d6a4e3ea/SQLAlchemy-1.3.12.tar.gz (6.0MB)\n",
      "Collecting prometheus-client\n",
      "  Downloading https://files.pythonhosted.org/packages/b3/23/41a5a24b502d35a4ad50a5bb7202a5e1d9a0364d0c12f56db3dbf7aca76d/prometheus_client-0.7.1.tar.gz\n",
      "Requirement already satisfied: numpy in /opt/conda/lib/python3.7/site-packages (from bentoml==0.5.3->-r /bento/requirements.txt (line 1)) (1.17.4)\n",
      "Collecting boto3\n",
      "  Downloading https://files.pythonhosted.org/packages/5d/62/9629ee1a41757b65b55c2070d2e0afee80a89e3ea0076b9b9669a773308b/boto3-1.10.40-py2.py3-none-any.whl (128kB)\n",
      "Collecting flask\n",
      "  Downloading https://files.pythonhosted.org/packages/9b/93/628509b8d5dc749656a9641f4caf13540e2cdec85276964ff8f43bbb1d3b/Flask-1.1.1-py2.py3-none-any.whl (94kB)\n",
      "Requirement already satisfied: requests in /opt/conda/lib/python3.7/site-packages (from bentoml==0.5.3->-r /bento/requirements.txt (line 1)) (2.22.0)\n",
      "Collecting cerberus\n",
      "  Downloading https://files.pythonhosted.org/packages/90/a7/71c6ed2d46a81065e68c007ac63378b96fa54c7bb614d653c68232f9c50c/Cerberus-1.3.2.tar.gz (52kB)\n",
      "Requirement already satisfied: six in /opt/conda/lib/python3.7/site-packages (from bentoml==0.5.3->-r /bento/requirements.txt (line 1)) (1.13.0)\n",
      "Collecting protobuf>=3.6.0\n",
      "  Downloading https://files.pythonhosted.org/packages/c8/bd/9609c681f655c4b85f4e4f4c99d42b68bca63ad8891c6924ba6696dee0bb/protobuf-3.11.1-cp37-cp37m-manylinux1_x86_64.whl (1.3MB)\n",
      "Collecting click>=7.0\n",
      "  Downloading https://files.pythonhosted.org/packages/fa/37/45185cb5abbc30d7257104c434fe0b07e5a195a6847506c074527aa599ec/Click-7.0-py2.py3-none-any.whl (81kB)\n",
      "Collecting configparser\n",
      "  Downloading https://files.pythonhosted.org/packages/7a/2a/95ed0501cf5d8709490b1d3a3f9b5cf340da6c433f896bbe9ce08dbe6785/configparser-4.0.2-py2.py3-none-any.whl\n",
      "Collecting python-json-logger\n",
      "  Downloading https://files.pythonhosted.org/packages/80/9d/1c3393a6067716e04e6fcef95104c8426d262b4adaf18d7aa2470eab028d/python-json-logger-0.1.11.tar.gz\n",
      "Collecting grpcio\n",
      "  Downloading https://files.pythonhosted.org/packages/b5/68/070ee7609b452e950bd5af35f7161f0ceb0abd61cf16ff3b23c852d4594b/grpcio-1.25.0-cp37-cp37m-manylinux2010_x86_64.whl (2.4MB)\n",
      "Collecting tabulate\n",
      "  Downloading https://files.pythonhosted.org/packages/c4/41/523f6a05e6dc3329a5660f6a81254c6cd87e5cfb5b7482bae3391d86ec3a/tabulate-0.8.6.tar.gz (45kB)\n",
      "Collecting docker\n",
      "  Downloading https://files.pythonhosted.org/packages/cc/ca/699d4754a932787ef353a157ada74efd1ceb6d1fc0bfb7989ae1e7b33111/docker-4.1.0-py2.py3-none-any.whl (139kB)\n",
      "Collecting packaging\n",
      "  Downloading https://files.pythonhosted.org/packages/cf/94/9672c2d4b126e74c4496c6b3c58a8b51d6419267be9e70660ba23374c875/packaging-19.2-py2.py3-none-any.whl\n",
      "Requirement already satisfied: gunicorn in /opt/conda/lib/python3.7/site-packages (from bentoml==0.5.3->-r /bento/requirements.txt (line 1)) (20.0.4)\n",
      "Collecting humanfriendly\n",
      "  Downloading https://files.pythonhosted.org/packages/90/df/88bff450f333114680698dc4aac7506ff7cab164b794461906de31998665/humanfriendly-4.18-py2.py3-none-any.whl (73kB)\n",
      "Collecting pathlib2\n",
      "  Downloading https://files.pythonhosted.org/packages/e9/45/9c82d3666af4ef9f221cbb954e1d77ddbb513faf552aea6df5f37f1a4859/pathlib2-2.3.5-py2.py3-none-any.whl\n",
      "Collecting joblib>=0.11\n",
      "  Downloading https://files.pythonhosted.org/packages/28/5c/cf6a2b65a321c4a209efcdf64c2689efae2cb62661f8f6f4bb28547cf1bf/joblib-0.14.1-py2.py3-none-any.whl (294kB)\n",
      "Requirement already satisfied: scipy>=0.17.0 in /opt/conda/lib/python3.7/site-packages (from scikit-learn->-r /bento/requirements.txt (line 2)) (1.3.2)\n"
     ]
    },
    {
     "name": "stdout",
     "output_type": "stream",
     "text": [
      "Collecting pytz>=2017.2\n",
      "  Downloading https://files.pythonhosted.org/packages/e7/f9/f0b53f88060247251bf481fa6ea62cd0d25bf1b11a87888e53ce5b7c8ad2/pytz-2019.3-py2.py3-none-any.whl (509kB)\n",
      "Collecting python-dateutil>=2.6.1\n",
      "  Downloading https://files.pythonhosted.org/packages/d4/70/d60450c3dd48ef87586924207ae8907090de0b306af2bce5d134d78615cb/python_dateutil-2.8.1-py2.py3-none-any.whl (227kB)\n",
      "Collecting ruamel.yaml.clib>=0.1.2; platform_python_implementation == \"CPython\" and python_version < \"3.8\"\n",
      "  Downloading https://files.pythonhosted.org/packages/40/80/da16b691d5e259dd9919a10628e541fca321cb4b078fbb88e1c7c22aa42d/ruamel.yaml.clib-0.2.0-cp37-cp37m-manylinux1_x86_64.whl (547kB)\n",
      "Collecting Mako\n",
      "  Downloading https://files.pythonhosted.org/packages/b0/3c/8dcd6883d009f7cae0f3157fb53e9afb05a0d3d33b3db1268ec2e6f4a56b/Mako-1.1.0.tar.gz (463kB)\n",
      "Collecting python-editor>=0.3\n",
      "  Downloading https://files.pythonhosted.org/packages/c6/d3/201fc3abe391bbae6606e6f1d598c15d367033332bd54352b12f35513717/python_editor-1.0.4-py3-none-any.whl\n",
      "Collecting s3transfer<0.3.0,>=0.2.0\n",
      "  Downloading https://files.pythonhosted.org/packages/16/8a/1fc3dba0c4923c2a76e1ff0d52b305c44606da63f718d14d3231e21c51b0/s3transfer-0.2.1-py2.py3-none-any.whl (70kB)\n",
      "Collecting botocore<1.14.0,>=1.13.40\n",
      "  Downloading https://files.pythonhosted.org/packages/6b/16/c8fa1876cd4e7749e67e3d47e9fa88dfde4c4aded28747e278be3424733d/botocore-1.13.40-py2.py3-none-any.whl (5.8MB)\n",
      "Collecting jmespath<1.0.0,>=0.7.1\n",
      "  Downloading https://files.pythonhosted.org/packages/83/94/7179c3832a6d45b266ddb2aac329e101367fbdb11f425f13771d27f225bb/jmespath-0.9.4-py2.py3-none-any.whl\n",
      "Collecting itsdangerous>=0.24\n",
      "  Downloading https://files.pythonhosted.org/packages/76/ae/44b03b253d6fade317f32c24d100b3b35c2239807046a4c953c7b89fa49e/itsdangerous-1.1.0-py2.py3-none-any.whl\n",
      "Collecting Jinja2>=2.10.1\n",
      "  Downloading https://files.pythonhosted.org/packages/65/e0/eb35e762802015cab1ccee04e8a277b03f1d8e53da3ec3106882ec42558b/Jinja2-2.10.3-py2.py3-none-any.whl (125kB)\n",
      "Collecting Werkzeug>=0.15\n",
      "  Downloading https://files.pythonhosted.org/packages/ce/42/3aeda98f96e85fd26180534d36570e4d18108d62ae36f87694b476b83d6f/Werkzeug-0.16.0-py2.py3-none-any.whl (327kB)\n",
      "Requirement already satisfied: chardet<3.1.0,>=3.0.2 in /opt/conda/lib/python3.7/site-packages (from requests->bentoml==0.5.3->-r /bento/requirements.txt (line 1)) (3.0.4)\n",
      "Requirement already satisfied: urllib3!=1.25.0,!=1.25.1,<1.26,>=1.21.1 in /opt/conda/lib/python3.7/site-packages (from requests->bentoml==0.5.3->-r /bento/requirements.txt (line 1)) (1.25.7)\n",
      "Requirement already satisfied: idna<2.9,>=2.5 in /opt/conda/lib/python3.7/site-packages (from requests->bentoml==0.5.3->-r /bento/requirements.txt (line 1)) (2.8)\n",
      "Requirement already satisfied: certifi>=2017.4.17 in /opt/conda/lib/python3.7/site-packages (from requests->bentoml==0.5.3->-r /bento/requirements.txt (line 1)) (2019.11.28)\n",
      "Requirement already satisfied: setuptools in /opt/conda/lib/python3.7/site-packages (from cerberus->bentoml==0.5.3->-r /bento/requirements.txt (line 1)) (42.0.2.post20191203)\n",
      "Collecting websocket-client>=0.32.0\n",
      "  Downloading https://files.pythonhosted.org/packages/29/19/44753eab1fdb50770ac69605527e8859468f3c0fd7dc5a76dd9c4dbd7906/websocket_client-0.56.0-py2.py3-none-any.whl (200kB)\n",
      "Collecting pyparsing>=2.0.2\n",
      "  Downloading https://files.pythonhosted.org/packages/c0/0c/fc2e007d9a992d997f04a80125b0f183da7fb554f1de701bbb70a8e7d479/pyparsing-2.4.5-py2.py3-none-any.whl (67kB)\n",
      "Collecting MarkupSafe>=0.9.2\n",
      "  Downloading https://files.pythonhosted.org/packages/98/7b/ff284bd8c80654e471b769062a9b43cc5d03e7a615048d96f4619df8d420/MarkupSafe-1.1.1-cp37-cp37m-manylinux1_x86_64.whl\n",
      "Collecting docutils<0.16,>=0.10\n",
      "  Downloading https://files.pythonhosted.org/packages/22/cd/a6aa959dca619918ccb55023b4cb151949c64d4d5d55b3f4ffd7eee0c6e8/docutils-0.15.2-py3-none-any.whl (547kB)\n",
      "Building wheels for collected packages: alembic, sqlalchemy, prometheus-client, cerberus, python-json-logger, tabulate, Mako\n",
      "  Building wheel for alembic (setup.py): started\n",
      "  Building wheel for alembic (setup.py): finished with status 'done'\n",
      "  Created wheel for alembic: filename=alembic-1.3.2-py2.py3-none-any.whl size=151128 sha256=36872acdc17b397586990ad013da9c6b2721049f5fd745f926354d17bc15bead\n",
      "  Stored in directory: /root/.cache/pip/wheels/5c/66/53/e0633382ac8625ab1c099db6a290d1b6b24f849a4666a57105\n",
      "  Building wheel for sqlalchemy (setup.py): started\n",
      "  Building wheel for sqlalchemy (setup.py): finished with status 'done'\n",
      "  Created wheel for sqlalchemy: filename=SQLAlchemy-1.3.12-cp37-cp37m-linux_x86_64.whl size=1219996 sha256=97cd7337d8f01cee4772b101748de4ddf2caf50b57a769efe820c72dbd988923\n",
      "  Stored in directory: /root/.cache/pip/wheels/ee/33/44/0788a6e806866ae2e246d5cd841d07498a46bcb3f3c42ea5a4\n",
      "  Building wheel for prometheus-client (setup.py): started\n",
      "  Building wheel for prometheus-client (setup.py): finished with status 'done'\n",
      "  Created wheel for prometheus-client: filename=prometheus_client-0.7.1-cp37-none-any.whl size=41402 sha256=c5db3fb1918a082bd93e1fac2dd855d693ee413865af14afbf55b4f867a3ee19\n",
      "  Stored in directory: /root/.cache/pip/wheels/1c/54/34/fd47cd9b308826cc4292b54449c1899a30251ef3b506bc91ea\n",
      "  Building wheel for cerberus (setup.py): started\n",
      "  Building wheel for cerberus (setup.py): finished with status 'done'\n",
      "  Created wheel for cerberus: filename=Cerberus-1.3.2-cp37-none-any.whl size=54336 sha256=34c243ebb16f00a83904a27f48c561312ed61cf69a661e43292ae5c51a90bbed\n",
      "  Stored in directory: /root/.cache/pip/wheels/e9/38/1f/f2cc84182676f3ae7134b9b2d744f9c235b24d2ddc8f7fe465\n",
      "  Building wheel for python-json-logger (setup.py): started\n",
      "  Building wheel for python-json-logger (setup.py): finished with status 'done'\n",
      "  Created wheel for python-json-logger: filename=python_json_logger-0.1.11-py2.py3-none-any.whl size=5076 sha256=ff3dc31a7c5650292af0b1ecc36186671d7b6fccfbe9807693bc56b965c74a01\n",
      "  Stored in directory: /root/.cache/pip/wheels/97/f7/a1/752e22bb30c1cfe38194ea0070a5c66e76ef4d06ad0c7dc401\n",
      "  Building wheel for tabulate (setup.py): started\n",
      "  Building wheel for tabulate (setup.py): finished with status 'done'\n",
      "  Created wheel for tabulate: filename=tabulate-0.8.6-cp37-none-any.whl size=23274 sha256=70fb349791d4a038168328380c4c7672b2e7015807ba1c9389aa28f2d77eed10\n",
      "  Stored in directory: /root/.cache/pip/wheels/9c/9b/f4/eb243fdb89676ec00588e8c54bb54360724c06e7fafe95278e\n",
      "  Building wheel for Mako (setup.py): started\n",
      "  Building wheel for Mako (setup.py): finished with status 'done'\n",
      "  Created wheel for Mako: filename=Mako-1.1.0-cp37-none-any.whl size=75360 sha256=72e99f74264d05b6715c2c84629a12425c46422cf612e6e8bf7a380cb029f734\n",
      "  Stored in directory: /root/.cache/pip/wheels/98/32/7b/a291926643fc1d1e02593e0d9e247c5a866a366b8343b7aa27\n",
      "Successfully built alembic sqlalchemy prometheus-client cerberus python-json-logger tabulate Mako\n",
      "\u001b[91mERROR: botocore 1.13.40 has requirement python-dateutil<2.8.1,>=2.1; python_version >= \"2.7\", but you'll have python-dateutil 2.8.1 which is incompatible.\n",
      "\u001b[0mInstalling collected packages: ruamel.yaml.clib, ruamel.yaml, sqlalchemy, MarkupSafe, Mako, python-editor, python-dateutil, alembic, prometheus-client, docutils, jmespath, botocore, s3transfer, boto3, itsdangerous, Jinja2, click, Werkzeug, flask, pytz, pandas, cerberus, protobuf, configparser, python-json-logger, grpcio, tabulate, websocket-client, docker, pyparsing, packaging, humanfriendly, pathlib2, bentoml, joblib, scikit-learn\n",
      "Successfully installed Jinja2-2.10.3 Mako-1.1.0 MarkupSafe-1.1.1 Werkzeug-0.16.0 alembic-1.3.2 bentoml-0.5.3 boto3-1.10.40 botocore-1.13.40 cerberus-1.3.2 click-7.0 configparser-4.0.2 docker-4.1.0 docutils-0.15.2 flask-1.1.1 grpcio-1.25.0 humanfriendly-4.18 itsdangerous-1.1.0 jmespath-0.9.4 joblib-0.14.1 packaging-19.2 pandas-0.25.3 pathlib2-2.3.5 prometheus-client-0.7.1 protobuf-3.11.1 pyparsing-2.4.5 python-dateutil-2.8.1 python-editor-1.0.4 python-json-logger-0.1.11 pytz-2019.3 ruamel.yaml-0.16.5 ruamel.yaml.clib-0.2.0 s3transfer-0.2.1 scikit-learn-0.22 sqlalchemy-1.3.12 tabulate-0.8.6 websocket-client-0.56.0\n",
      "Removing intermediate container 29df5ea34a59\n",
      " ---> 76fa3c9db184\n",
      "Step 10/12 : RUN if [ -f /bento/bentoml_init.sh ]; then /bin/bash -c /bento/bentoml_init.sh; fi\n",
      " ---> Running in 30bf1ea37f7b\n"
     ]
    },
    {
     "name": "stdout",
     "output_type": "stream",
     "text": [
      "Processing ./bundled_pip_dependencies/BentoML-0.5.3+21.g49ab5c9.dirty.tar.gz\n",
      "Requirement already satisfied, skipping upgrade: ruamel.yaml>=0.15.0 in /opt/conda/lib/python3.7/site-packages (from BentoML==0.5.3+21.g49ab5c9.dirty) (0.16.5)\n",
      "Requirement already satisfied, skipping upgrade: numpy in /opt/conda/lib/python3.7/site-packages (from BentoML==0.5.3+21.g49ab5c9.dirty) (1.17.4)\n",
      "Requirement already satisfied, skipping upgrade: flask in /opt/conda/lib/python3.7/site-packages (from BentoML==0.5.3+21.g49ab5c9.dirty) (1.1.1)\n",
      "Requirement already satisfied, skipping upgrade: gunicorn in /opt/conda/lib/python3.7/site-packages (from BentoML==0.5.3+21.g49ab5c9.dirty) (20.0.4)\n",
      "Requirement already satisfied, skipping upgrade: click>=7.0 in /opt/conda/lib/python3.7/site-packages (from BentoML==0.5.3+21.g49ab5c9.dirty) (7.0)\n",
      "Requirement already satisfied, skipping upgrade: pandas in /opt/conda/lib/python3.7/site-packages (from BentoML==0.5.3+21.g49ab5c9.dirty) (0.25.3)\n",
      "Requirement already satisfied, skipping upgrade: prometheus_client in /opt/conda/lib/python3.7/site-packages (from BentoML==0.5.3+21.g49ab5c9.dirty) (0.7.1)\n",
      "Requirement already satisfied, skipping upgrade: python-json-logger in /opt/conda/lib/python3.7/site-packages (from BentoML==0.5.3+21.g49ab5c9.dirty) (0.1.11)\n",
      "Requirement already satisfied, skipping upgrade: boto3 in /opt/conda/lib/python3.7/site-packages (from BentoML==0.5.3+21.g49ab5c9.dirty) (1.10.40)\n",
      "Requirement already satisfied, skipping upgrade: requests in /opt/conda/lib/python3.7/site-packages (from BentoML==0.5.3+21.g49ab5c9.dirty) (2.22.0)\n",
      "Requirement already satisfied, skipping upgrade: packaging in /opt/conda/lib/python3.7/site-packages (from BentoML==0.5.3+21.g49ab5c9.dirty) (19.2)\n",
      "Requirement already satisfied, skipping upgrade: docker in /opt/conda/lib/python3.7/site-packages (from BentoML==0.5.3+21.g49ab5c9.dirty) (4.1.0)\n",
      "Requirement already satisfied, skipping upgrade: configparser in /opt/conda/lib/python3.7/site-packages (from BentoML==0.5.3+21.g49ab5c9.dirty) (4.0.2)\n",
      "Requirement already satisfied, skipping upgrade: sqlalchemy>=1.3.0 in /opt/conda/lib/python3.7/site-packages (from BentoML==0.5.3+21.g49ab5c9.dirty) (1.3.12)\n",
      "Requirement already satisfied, skipping upgrade: protobuf>=3.6.0 in /opt/conda/lib/python3.7/site-packages (from BentoML==0.5.3+21.g49ab5c9.dirty) (3.11.1)\n",
      "Requirement already satisfied, skipping upgrade: grpcio in /opt/conda/lib/python3.7/site-packages (from BentoML==0.5.3+21.g49ab5c9.dirty) (1.25.0)\n",
      "Requirement already satisfied, skipping upgrade: cerberus in /opt/conda/lib/python3.7/site-packages (from BentoML==0.5.3+21.g49ab5c9.dirty) (1.3.2)\n",
      "Requirement already satisfied, skipping upgrade: tabulate in /opt/conda/lib/python3.7/site-packages (from BentoML==0.5.3+21.g49ab5c9.dirty) (0.8.6)\n",
      "Requirement already satisfied, skipping upgrade: humanfriendly in /opt/conda/lib/python3.7/site-packages (from BentoML==0.5.3+21.g49ab5c9.dirty) (4.18)\n",
      "Requirement already satisfied, skipping upgrade: alembic in /opt/conda/lib/python3.7/site-packages (from BentoML==0.5.3+21.g49ab5c9.dirty) (1.3.2)\n",
      "Collecting python-dateutil<2.8.1,>=2.1\n",
      "  Downloading https://files.pythonhosted.org/packages/41/17/c62faccbfbd163c7f57f3844689e3a78bae1f403648a6afb1d0866d87fbb/python_dateutil-2.8.0-py2.py3-none-any.whl (226kB)\n",
      "Requirement already satisfied, skipping upgrade: ruamel.yaml.clib>=0.1.2; platform_python_implementation == \"CPython\" and python_version < \"3.8\" in /opt/conda/lib/python3.7/site-packages (from ruamel.yaml>=0.15.0->BentoML==0.5.3+21.g49ab5c9.dirty) (0.2.0)\n",
      "Requirement already satisfied, skipping upgrade: itsdangerous>=0.24 in /opt/conda/lib/python3.7/site-packages (from flask->BentoML==0.5.3+21.g49ab5c9.dirty) (1.1.0)\n",
      "Requirement already satisfied, skipping upgrade: Werkzeug>=0.15 in /opt/conda/lib/python3.7/site-packages (from flask->BentoML==0.5.3+21.g49ab5c9.dirty) (0.16.0)\n",
      "Requirement already satisfied, skipping upgrade: Jinja2>=2.10.1 in /opt/conda/lib/python3.7/site-packages (from flask->BentoML==0.5.3+21.g49ab5c9.dirty) (2.10.3)\n",
      "Requirement already satisfied, skipping upgrade: setuptools>=3.0 in /opt/conda/lib/python3.7/site-packages (from gunicorn->BentoML==0.5.3+21.g49ab5c9.dirty) (42.0.2.post20191203)\n",
      "Requirement already satisfied, skipping upgrade: pytz>=2017.2 in /opt/conda/lib/python3.7/site-packages (from pandas->BentoML==0.5.3+21.g49ab5c9.dirty) (2019.3)\n",
      "Requirement already satisfied, skipping upgrade: s3transfer<0.3.0,>=0.2.0 in /opt/conda/lib/python3.7/site-packages (from boto3->BentoML==0.5.3+21.g49ab5c9.dirty) (0.2.1)\n",
      "Requirement already satisfied, skipping upgrade: jmespath<1.0.0,>=0.7.1 in /opt/conda/lib/python3.7/site-packages (from boto3->BentoML==0.5.3+21.g49ab5c9.dirty) (0.9.4)\n",
      "Requirement already satisfied, skipping upgrade: botocore<1.14.0,>=1.13.40 in /opt/conda/lib/python3.7/site-packages (from boto3->BentoML==0.5.3+21.g49ab5c9.dirty) (1.13.40)\n",
      "Requirement already satisfied, skipping upgrade: chardet<3.1.0,>=3.0.2 in /opt/conda/lib/python3.7/site-packages (from requests->BentoML==0.5.3+21.g49ab5c9.dirty) (3.0.4)\n",
      "Requirement already satisfied, skipping upgrade: idna<2.9,>=2.5 in /opt/conda/lib/python3.7/site-packages (from requests->BentoML==0.5.3+21.g49ab5c9.dirty) (2.8)\n",
      "Requirement already satisfied, skipping upgrade: urllib3!=1.25.0,!=1.25.1,<1.26,>=1.21.1 in /opt/conda/lib/python3.7/site-packages (from requests->BentoML==0.5.3+21.g49ab5c9.dirty) (1.25.7)\n",
      "Requirement already satisfied, skipping upgrade: certifi>=2017.4.17 in /opt/conda/lib/python3.7/site-packages (from requests->BentoML==0.5.3+21.g49ab5c9.dirty) (2019.11.28)\n",
      "Requirement already satisfied, skipping upgrade: six in /opt/conda/lib/python3.7/site-packages (from packaging->BentoML==0.5.3+21.g49ab5c9.dirty) (1.13.0)\n",
      "Requirement already satisfied, skipping upgrade: pyparsing>=2.0.2 in /opt/conda/lib/python3.7/site-packages (from packaging->BentoML==0.5.3+21.g49ab5c9.dirty) (2.4.5)\n",
      "Requirement already satisfied, skipping upgrade: websocket-client>=0.32.0 in /opt/conda/lib/python3.7/site-packages (from docker->BentoML==0.5.3+21.g49ab5c9.dirty) (0.56.0)\n",
      "Requirement already satisfied, skipping upgrade: python-editor>=0.3 in /opt/conda/lib/python3.7/site-packages (from alembic->BentoML==0.5.3+21.g49ab5c9.dirty) (1.0.4)\n",
      "Requirement already satisfied, skipping upgrade: Mako in /opt/conda/lib/python3.7/site-packages (from alembic->BentoML==0.5.3+21.g49ab5c9.dirty) (1.1.0)\n",
      "Requirement already satisfied, skipping upgrade: MarkupSafe>=0.23 in /opt/conda/lib/python3.7/site-packages (from Jinja2>=2.10.1->flask->BentoML==0.5.3+21.g49ab5c9.dirty) (1.1.1)\n",
      "Requirement already satisfied, skipping upgrade: docutils<0.16,>=0.10 in /opt/conda/lib/python3.7/site-packages (from botocore<1.14.0,>=1.13.40->boto3->BentoML==0.5.3+21.g49ab5c9.dirty) (0.15.2)\n",
      "Building wheels for collected packages: BentoML\n",
      "  Building wheel for BentoML (setup.py): started\n",
      "  Building wheel for BentoML (setup.py): finished with status 'done'\n",
      "  Created wheel for BentoML: filename=BentoML-0.5.3+21.g49ab5c9.dirty-cp37-none-any.whl size=487095 sha256=7fedc26c485c58ce6eb2e96ab9e86e8a7d111b7cf246f64e8739ecf9b59fe774\n",
      "  Stored in directory: /root/.cache/pip/wheels/96/8e/c1/fd4e802c0650a986605c3193cb96453400366ae796fe27c1d7\n",
      "Successfully built BentoML\n",
      "Installing collected packages: python-dateutil, BentoML\n",
      "  Found existing installation: python-dateutil 2.8.1\n",
      "    Uninstalling python-dateutil-2.8.1:\n",
      "      Successfully uninstalled python-dateutil-2.8.1\n",
      "  Found existing installation: BentoML 0.5.3\n",
      "    Uninstalling BentoML-0.5.3:\n",
      "      Successfully uninstalled BentoML-0.5.3\n",
      "Successfully installed BentoML-0.5.3+21.g49ab5c9.dirty python-dateutil-2.8.0\n",
      "Removing intermediate container 30bf1ea37f7b\n",
      " ---> bee079a51740\n",
      "Step 11/12 : RUN if [ -f /bento/setup.sh ]; then /bin/bash -c /bento/setup.sh; fi\n",
      " ---> Running in 1e2e61499d14\n",
      "Removing intermediate container 1e2e61499d14\n",
      " ---> 55e978a0485e\n",
      "Step 12/12 : CMD [\"bentoml serve-gunicorn /bento\"]\n",
      " ---> Running in 3ede5ea26123\n",
      "Removing intermediate container 3ede5ea26123\n",
      " ---> 5dd7971695d9\n",
      "Successfully built 5dd7971695d9\n",
      "Successfully tagged gcr.io/sentiment-gcloud-run/sentiment:latest\n",
      "PUSH\n",
      "Pushing gcr.io/sentiment-gcloud-run/sentiment\n",
      "The push refers to repository [gcr.io/sentiment-gcloud-run/sentiment]\n",
      "3c2124396dda: Preparing\n",
      "db9833946e7b: Preparing\n",
      "992b825a2c90: Preparing\n",
      "9c2abf6244f1: Preparing\n",
      "82142827bbb1: Preparing\n",
      "5d22ba7b3671: Preparing\n",
      "5215cb249b79: Preparing\n",
      "3ee7190fd43a: Preparing\n",
      "2db44bce66cd: Preparing\n",
      "5d22ba7b3671: Waiting\n",
      "5215cb249b79: Waiting\n",
      "3ee7190fd43a: Waiting\n",
      "2db44bce66cd: Waiting\n"
     ]
    },
    {
     "name": "stdout",
     "output_type": "stream",
     "text": [
      "3c2124396dda: Pushed\n",
      "9c2abf6244f1: Pushed\n",
      "5d22ba7b3671: Pushed\n",
      "992b825a2c90: Pushed\n",
      "2db44bce66cd: Layer already exists\n",
      "db9833946e7b: Pushed\n",
      "5215cb249b79: Pushed\n",
      "3ee7190fd43a: Pushed\n",
      "82142827bbb1: Pushed\n",
      "latest: digest: sha256:eacca2a47d914da06c874f56efb84bb35ee08fb0c305850a4952f1bd1c7723cd size: 2225\n",
      "DONE\n",
      "--------------------------------------------------------------------------------\n",
      "\n",
      "ID                                    CREATE_TIME                DURATION  SOURCE                                                                                          IMAGES                                           STATUS\n",
      "12df8469-1242-4662-a858-e5f6b8809184  2019-12-17T19:19:33+00:00  4M51S     gs://sentiment-gcloud-run_cloudbuild/source/1576610370.18-1acde23d92024652b4d6c72df4b6a8e9.tgz  gcr.io/sentiment-gcloud-run/sentiment (+1 more)  SUCCESS\n"
     ]
    }
   ],
   "source": [
    "!gcloud builds submit --tag gcr.io/sentiment-gcloud-run/sentiment"
   ]
  },
  {
   "cell_type": "markdown",
   "metadata": {},
   "source": [
    "## Deploy the container image to Google Cloud Run\n",
    "\n",
    "1. Go into your Google Cloud Console, select project sentiment-gcloud-run and navigate to CloudRun page\n",
    "2. Click `Create Service` on the top navigation bar.\n",
    "3. In the Create Cloud Run service page:\n",
    "    * Select container image URL from the selection menu\n",
    "    * Choose Allow Unauthenitcated invocations from the Authentication section\n",
    "    * Expand Show Optional Revision Settings\n",
    "        - Change Container Port from 8080 to 5000\n",
    "        \n",
    "<img src=\"files/create-service-on-cloud-run.png\">\n",
    "<img src=\"files/additional-settings.png\">"
   ]
  },
  {
   "cell_type": "markdown",
   "metadata": {},
   "source": [
    "### Test deployed Cloud Run service\n",
    "\n",
    "After successful deployment, You can find the service URL at the top of the page. Use that in the next cell's `curl` call to test the service with sample data\n",
    "\n",
    "<img src=\"files/service-deployed.png\">"
   ]
  },
  {
   "cell_type": "code",
   "execution_count": 36,
   "metadata": {},
   "outputs": [
    {
     "name": "stdout",
     "output_type": "stream",
     "text": [
      "[4, 0]"
     ]
    }
   ],
   "source": [
    "!curl -X \\\n",
    "POST \"https://sentiment-h3wobs6d4a-uc.a.run.app/predict\" \\\n",
    "--header \"Content-Type: application/json\" \\\n",
    "-d '[\"good movie\", \"bad food\"]'"
   ]
  },
  {
   "cell_type": "markdown",
   "metadata": {},
   "source": [
    "## Clean up deployed service on Google Cloud Run\n",
    "\n",
    "\n",
    "1. In the Google Cloud Console, go to the manage resources page\n",
    "2. In the project list, select the project we just deployed and click the `delete` icon\n",
    "3. In the dialogtype the projectID `sentiment-gcloud-run` and then click Shut down to delete the project"
   ]
  }
 ],
 "metadata": {
  "kernelspec": {
   "display_name": "Python 3",
   "language": "python",
   "name": "python3"
  },
  "language_info": {
   "codemirror_mode": {
    "name": "ipython",
    "version": 3
   },
   "file_extension": ".py",
   "mimetype": "text/x-python",
   "name": "python",
   "nbconvert_exporter": "python",
   "pygments_lexer": "ipython3",
   "version": "3.6.4"
  }
 },
 "nbformat": 4,
 "nbformat_minor": 2
}
