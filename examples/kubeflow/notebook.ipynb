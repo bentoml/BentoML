{
 "cells": [
  {
   "attachments": {},
   "cell_type": "markdown",
   "metadata": {},
   "source": [
    "# BentoML Kubeflow Notebook Example\n",
    "\n",
    "In this example, we will train three fraud detection models using the [Kaggle IEEE-CIS Fraud Detection dataset](https://www.kaggle.com/c/ieee-fraud-detection) using the Kubeflow notebook and create a BentoML service that simultaneously invoke all three models and returns the decision if any one of the models predicts that a transactin is a fraud. We will build and push the BentoML service to an S3 bucket. Next we will containerize BentoML service from the S3 bucket and deploy the service to Kubeflow cluster using using BentoML custom resource definitions on Kubernetes. The service will be deployed in a microservice architecture with each model running in a separate pod, deployed on hardware that is the most ideal for running the model, and scale independently."
   ]
  },
  {
   "attachments": {},
   "cell_type": "markdown",
   "metadata": {},
   "source": [
    "## Kaggle Dataset\n",
    "\n",
    "Set Kaggle username and key as environment variables. Accepting the [rules of the competition](https://www.kaggle.com/competitions/ieee-fraud-detection/rules) is required for downloading the dataset."
   ]
  },
  {
   "cell_type": "code",
   "execution_count": 19,
   "metadata": {},
   "outputs": [
    {
     "name": "stdout",
     "output_type": "stream",
     "text": [
      "env: KAGGLE_USERNAME=s3sheng\n",
      "env: KAGGLE_KEY=0e3966223300cd8314f8ce78b2d56058\n"
     ]
    }
   ],
   "source": [
    "# Set Kaggle Credentials for downloading dataset\n",
    "%env KAGGLE_USERNAME=s3sheng\n",
    "%env KAGGLE_KEY=0e3966223300cd8314f8ce78b2d56058"
   ]
  },
  {
   "cell_type": "code",
   "execution_count": 15,
   "metadata": {},
   "outputs": [
    {
     "name": "stdout",
     "output_type": "stream",
     "text": [
      "Downloading ieee-fraud-detection.zip to /Users/ssheng/github/BentoML/examples/kubeflow\n",
      "100%|███████████████████████████████████████▉| 118M/118M [00:37<00:00, 3.29MB/s]\n",
      "100%|████████████████████████████████████████| 118M/118M [00:37<00:00, 3.31MB/s]\n",
      "Archive:  ieee-fraud-detection.zip\n",
      "  inflating: ./data/sample_submission.csv  \n",
      "  inflating: ./data/test_identity.csv  \n",
      "  inflating: ./data/test_transaction.csv  \n",
      "  inflating: ./data/train_identity.csv  \n",
      "  inflating: ./data/train_transaction.csv  \n"
     ]
    }
   ],
   "source": [
    "!kaggle competitions download -c ieee-fraud-detection\n",
    "!rm -rf ./data/\n",
    "!unzip -d ./data/ ieee-fraud-detection.zip && rm ieee-fraud-detection.zip"
   ]
  },
  {
   "cell_type": "code",
   "execution_count": 16,
   "metadata": {},
   "outputs": [],
   "source": [
    "import pandas as pd\n",
    "\n",
    "df_transactions = pd.read_csv(\"./data/train_transaction.csv\")\n",
    "\n",
    "X = df_transactions.drop(columns=[\"isFraud\"])\n",
    "y = df_transactions.isFraud"
   ]
  },
  {
   "cell_type": "code",
   "execution_count": 17,
   "metadata": {},
   "outputs": [],
   "source": [
    "from sklearn.impute import SimpleImputer\n",
    "from sklearn.compose import ColumnTransformer\n",
    "from sklearn.impute import SimpleImputer\n",
    "from sklearn.preprocessing import OrdinalEncoder\n",
    "\n",
    "numeric_features = df_transactions.select_dtypes(include=\"float64\").columns\n",
    "categorical_features = df_transactions.select_dtypes(include=\"object\").columns\n",
    "\n",
    "preprocessor = ColumnTransformer(\n",
    "    transformers=[\n",
    "        (\"num\", SimpleImputer(strategy=\"median\"), numeric_features),\n",
    "        (\n",
    "            \"cat\",\n",
    "            OrdinalEncoder(handle_unknown=\"use_encoded_value\", unknown_value=-1),\n",
    "            categorical_features,\n",
    "        ),\n",
    "    ],\n",
    "    verbose_feature_names_out=False,\n",
    "    remainder=\"passthrough\",\n",
    ")\n",
    "\n",
    "X = preprocessor.fit_transform(X)"
   ]
  },
  {
   "attachments": {},
   "cell_type": "markdown",
   "metadata": {},
   "source": [
    "Define our training function with the number of boosting rounds and maximum depths."
   ]
  },
  {
   "cell_type": "code",
   "execution_count": 25,
   "metadata": {},
   "outputs": [],
   "source": [
    "import xgboost as xgb\n",
    "\n",
    "def train(n_estimators, max_depth):\n",
    "    return xgb.XGBClassifier(\n",
    "        tree_method=\"hist\",\n",
    "        n_estimators=n_estimators,\n",
    "        max_depth=max_depth,\n",
    "        eval_metric=\"aucpr\",\n",
    "        objective=\"binary:logistic\",\n",
    "        enable_categorical=True,\n",
    "    ).fit(X_train, y_train, eval_set=[(X_test, y_test)])"
   ]
  },
  {
   "attachments": {},
   "cell_type": "markdown",
   "metadata": {},
   "source": [
    "To demonstrate the concurrent serving of multiple models, we will divide the training data into three equal-sized chunks and treat them as independent data sets. Based on these data sets, we will train three separate fraud detection models. The trained model will be saved to the local model store using BentoML model saving API."
   ]
  },
  {
   "cell_type": "code",
   "execution_count": 29,
   "metadata": {},
   "outputs": [
    {
     "name": "stdout",
     "output_type": "stream",
     "text": [
      "[0]\tvalidation_0-aucpr:0.33902\n",
      "[1]\tvalidation_0-aucpr:0.39499\n",
      "[2]\tvalidation_0-aucpr:0.42274\n",
      "[3]\tvalidation_0-aucpr:0.45763\n",
      "[4]\tvalidation_0-aucpr:0.47844\n",
      "[5]\tvalidation_0-aucpr:0.49879\n",
      "[6]\tvalidation_0-aucpr:0.50348\n",
      "[7]\tvalidation_0-aucpr:0.51956\n",
      "[8]\tvalidation_0-aucpr:0.53362\n",
      "[9]\tvalidation_0-aucpr:0.54557\n",
      "Successfully trained model ieee-fraud-detection-0 with score 0.978358936844672.\n",
      "Successfully saved model ieee-fraud-detection-0 to the local model store.\n",
      "[0]\tvalidation_0-aucpr:0.39694\n",
      "[1]\tvalidation_0-aucpr:0.44607\n",
      "[2]\tvalidation_0-aucpr:0.47242\n",
      "[3]\tvalidation_0-aucpr:0.48558\n",
      "[4]\tvalidation_0-aucpr:0.50051\n",
      "[5]\tvalidation_0-aucpr:0.51961\n",
      "[6]\tvalidation_0-aucpr:0.53643\n",
      "[7]\tvalidation_0-aucpr:0.54900\n",
      "[8]\tvalidation_0-aucpr:0.55198\n",
      "[9]\tvalidation_0-aucpr:0.55791\n",
      "Successfully trained model ieee-fraud-detection-1 with score 0.9721409412338454.\n",
      "Successfully saved model ieee-fraud-detection-1 to the local model store.\n",
      "[0]\tvalidation_0-aucpr:0.38554\n",
      "[1]\tvalidation_0-aucpr:0.43959\n",
      "[2]\tvalidation_0-aucpr:0.45301\n",
      "[3]\tvalidation_0-aucpr:0.47012\n",
      "[4]\tvalidation_0-aucpr:0.48837\n",
      "[5]\tvalidation_0-aucpr:0.50161\n",
      "[6]\tvalidation_0-aucpr:0.51865\n",
      "[7]\tvalidation_0-aucpr:0.53677\n",
      "[8]\tvalidation_0-aucpr:0.54470\n",
      "[9]\tvalidation_0-aucpr:0.55329\n",
      "Successfully trained model ieee-fraud-detection-2 with score 0.9743761684142079.\n",
      "Successfully saved model ieee-fraud-detection-2 to the local model store.\n"
     ]
    }
   ],
   "source": [
    "import bentoml\n",
    "\n",
    "from sklearn.model_selection import train_test_split\n",
    "\n",
    "CHUNKS = 3\n",
    "CHUNK_SIZE = len(X) // CHUNKS\n",
    "\n",
    "for i in range(CHUNKS):\n",
    "    START = i * CHUNK_SIZE\n",
    "    END = (i + 1) * CHUNK_SIZE\n",
    "    X_train, X_test, y_train, y_test = train_test_split(X[START:END], y[START:END])\n",
    "\n",
    "    name = f\"ieee-fraud-detection-{i}\"\n",
    "    model = train(10, 5)\n",
    "    score = model.score(X_test, y_test)\n",
    "    print(f\"Successfully trained model {name} with score {score}.\")\n",
    "\n",
    "    bentoml.xgboost.save_model(\n",
    "        name,\n",
    "        model,\n",
    "        signatures={\n",
    "            \"predict_proba\": {\"batchable\": True},\n",
    "        },\n",
    "        custom_objects={\"preprocessor\": preprocessor},\n",
    "    )\n",
    "    print(f\"Successfully saved model {name} to the local model store.\")"
   ]
  },
  {
   "attachments": {},
   "cell_type": "markdown",
   "metadata": {},
   "source": [
    "Saved models can be loaded back into the memory and debugged in the notebook."
   ]
  },
  {
   "cell_type": "code",
   "execution_count": 30,
   "metadata": {},
   "outputs": [
    {
     "name": "stderr",
     "output_type": "stream",
     "text": [
      "'Runner.init_local' is for debugging and testing only. Make sure to remove it before deploying to production.\n"
     ]
    },
    {
     "data": {
      "text/plain": [
       "array([0, 0, 0, 0, 0, 0, 0, 0, 0, 0, 0, 0, 0, 0, 0, 0, 0, 0, 0, 0, 0, 0,\n",
       "       0, 0, 0, 0, 0, 0, 0, 0, 0, 0, 0, 0, 0, 0, 0, 0, 0, 0, 0, 0, 0, 0,\n",
       "       0, 0, 0, 0, 0, 0, 0, 0, 0, 0, 0, 0, 0, 0, 0, 0, 0, 0, 0, 0, 0, 0,\n",
       "       0, 0, 0, 0, 0, 0, 0, 0, 0, 0, 0, 0, 0, 0, 0, 0, 0, 0, 0, 0, 0, 0,\n",
       "       0, 0, 0, 0, 0, 0, 0, 0, 0, 0, 0, 0, 0, 0, 0, 0, 0, 0, 0, 0, 0, 0,\n",
       "       0, 0, 0, 0, 0, 0, 0, 0, 0, 0, 0, 0, 0, 0, 0, 0, 0, 0, 0, 0, 0, 0,\n",
       "       0, 0, 0, 0, 0, 0, 0, 0, 0, 0, 0, 0, 0, 0, 0, 0, 0, 0, 0, 0, 0, 0,\n",
       "       0, 0, 0, 0, 0, 0, 0, 0, 0, 0, 0, 0, 0, 0, 0, 0, 0, 0, 0, 0, 0, 0,\n",
       "       0, 0, 0, 0, 0, 0, 0, 0, 0, 0, 0, 0, 0, 0, 0, 0, 0, 0, 0, 0, 0, 0,\n",
       "       0, 0, 0, 0, 0, 0, 0, 0, 0, 0, 0, 0, 0, 0, 0, 0, 0, 0, 0, 0, 0, 0,\n",
       "       1, 0, 0, 0, 1, 0, 0, 0, 0, 1, 0, 1, 0, 0, 0, 0, 0, 0, 0, 0, 0, 0,\n",
       "       0, 0, 1, 0, 0, 0, 0, 0, 0, 0, 0, 0, 0, 0, 0, 0, 0, 0, 0, 0, 1, 1,\n",
       "       1, 0, 0, 0, 0, 0, 0, 0, 1, 0, 0, 0, 0, 0, 1, 1, 0, 0, 0, 0, 0, 0,\n",
       "       0, 1, 0, 0, 0, 0, 0, 0, 0, 0, 0, 0, 0, 0, 0, 0, 0, 0, 0, 0, 0, 0,\n",
       "       0, 0, 0, 0, 0, 0, 0, 0, 0, 0, 0, 0, 0, 0, 0, 0, 0, 0, 0, 0, 0, 0,\n",
       "       0, 0, 0, 0, 0, 0, 0, 0, 0, 0, 0, 0, 0, 0, 0, 0, 0, 0, 0, 0, 0, 0,\n",
       "       0, 0, 0, 0, 0, 0, 0, 0, 0, 0, 0, 0, 0, 0, 0, 0, 0, 0, 0, 0, 0, 0,\n",
       "       0, 0, 0, 0, 0, 0, 0, 0, 0, 0, 0, 0, 0, 0, 0, 0, 0, 0, 0, 0, 0, 0,\n",
       "       0, 0, 0, 0, 0, 0, 0, 0, 0, 0, 0, 0, 0, 0, 0, 0, 0, 0, 0, 0, 0, 0,\n",
       "       0, 0, 0, 0, 0, 0, 0, 0, 0, 0, 0, 0, 0, 0, 0, 0, 0, 0, 0, 0, 0, 0,\n",
       "       0, 0, 0, 0, 0, 0, 0, 0, 0, 0, 0, 0, 0, 0, 0, 0, 0, 0, 0, 0, 0, 0,\n",
       "       0, 0, 0, 0, 0, 0, 0, 0, 0, 0, 0, 0, 0, 0, 0, 0, 0, 0, 0, 0, 0, 0,\n",
       "       0, 0, 0, 0, 0, 0, 0, 0, 0, 0, 0, 0, 0, 0, 0, 0])"
      ]
     },
     "execution_count": 30,
     "metadata": {},
     "output_type": "execute_result"
    }
   ],
   "source": [
    "import bentoml\n",
    "import pandas as pd\n",
    "import numpy as np\n",
    "\n",
    "model_ref = bentoml.xgboost.get(\"ieee-fraud-detection-0:latest\")\n",
    "model_runner = model_ref.to_runner()\n",
    "model_runner.init_local()\n",
    "model_preprocessor = model_ref.custom_objects[\"preprocessor\"]\n",
    "\n",
    "test_transactions = pd.read_csv(\"./data/test_transaction.csv\")[0:500]\n",
    "test_transactions = model_preprocessor.transform(test_transactions)\n",
    "result = model_runner.predict_proba.run(test_transactions)\n",
    "np.argmax(result, axis=1)"
   ]
  },
  {
   "cell_type": "markdown",
   "metadata": {},
   "source": []
  },
  {
   "cell_type": "code",
   "execution_count": null,
   "metadata": {},
   "outputs": [],
   "source": []
  }
 ],
 "metadata": {
  "kernelspec": {
   "display_name": "bentoml",
   "language": "python",
   "name": "python3"
  },
  "language_info": {
   "codemirror_mode": {
    "name": "ipython",
    "version": 3
   },
   "file_extension": ".py",
   "mimetype": "text/x-python",
   "name": "python",
   "nbconvert_exporter": "python",
   "pygments_lexer": "ipython3",
   "version": "3.10.8"
  },
  "orig_nbformat": 4,
  "vscode": {
   "interpreter": {
    "hash": "c7496e3357ac7d0feefccc058dccef5f5223d152b10dff998de4314227246f61"
   }
  }
 },
 "nbformat": 4,
 "nbformat_minor": 2
}
