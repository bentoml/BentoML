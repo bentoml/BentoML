{
 "cells": [
  {
   "cell_type": "code",
   "execution_count": null,
   "id": "63fd2c64",
   "metadata": {},
   "outputs": [],
   "source": [
    "%autoreload 2"
   ]
  },
  {
   "cell_type": "code",
   "execution_count": null,
   "id": "b6bdcbe8",
   "metadata": {},
   "outputs": [],
   "source": [
    "from transformers import *\n",
    "from PIL import Image\n",
    "from dit import *\n",
    "from warmup import *"
   ]
  },
  {
   "cell_type": "code",
   "execution_count": null,
   "id": "2f887343",
   "metadata": {},
   "outputs": [],
   "source": [
    "ocr_model = \"microsoft/trocr-base-handwritten\"\n",
    "layoutlm_model = \"microsoft/layoutlmv2-base-uncased\"\n",
    "from detectron2.data import *\n",
    "from detectron2.utils.visualizer import *"
   ]
  },
  {
   "cell_type": "code",
   "execution_count": null,
   "id": "2b7f83f1",
   "metadata": {},
   "outputs": [],
   "source": [
    "processor = TrOCRProcessor.from_pretrained(ocr_model)\n",
    "model = VisionEncoderDecoderModel.from_pretrained(ocr_model)"
   ]
  },
  {
   "cell_type": "code",
   "execution_count": null,
   "id": "edaf286c",
   "metadata": {},
   "outputs": [],
   "source": [
    "im = Image.open(\"./samples/p2.png\")\n",
    "fname = im.filename\n",
    "im = im.convert(\"RGB\")\n",
    "im"
   ]
  },
  {
   "cell_type": "code",
   "execution_count": null,
   "id": "b1bf2b39",
   "metadata": {},
   "outputs": [],
   "source": [
    "pixel_values = processor(im, return_tensors=\"pt\").pixel_values\n",
    "gen = model.generate(pixel_values)\n",
    "gen"
   ]
  },
  {
   "cell_type": "code",
   "execution_count": null,
   "id": "8274992a",
   "metadata": {},
   "outputs": [],
   "source": [
    "processor.batch_decode(gen, skip_special_tokens=True)[0]"
   ]
  },
  {
   "cell_type": "code",
   "execution_count": null,
   "id": "1b613e8e",
   "metadata": {},
   "outputs": [],
   "source": [
    "import easyocr\n",
    "\n",
    "reader = easyocr.Reader([\"en\"])\n",
    "# text = [i[1] for i in reader.readtext(\"./samples/segment.png\")]\n",
    "# text"
   ]
  },
  {
   "cell_type": "code",
   "execution_count": null,
   "id": "f0dc2e5e",
   "metadata": {
    "scrolled": false
   },
   "outputs": [],
   "source": [
    "doc_segmentation(im, visualize=True)"
   ]
  },
  {
   "cell_type": "code",
   "execution_count": null,
   "id": "651ee819",
   "metadata": {},
   "outputs": [],
   "source": [
    "cfg = get_cfg()\n",
    "predictor = get_predictor(cfg)\n",
    "\n",
    "md = MetadataCatalog.get(cfg.DATASETS.TEST[0])\n",
    "output = predictor(np.array(im))[\"instances\"]"
   ]
  },
  {
   "cell_type": "code",
   "execution_count": null,
   "id": "2879cc7c",
   "metadata": {},
   "outputs": [],
   "source": [
    "text = []"
   ]
  },
  {
   "cell_type": "code",
   "execution_count": null,
   "id": "9d973fb1",
   "metadata": {},
   "outputs": [],
   "source": [
    "classes = output.get(\"pred_classes\")\n",
    "boxes = output.get(\"pred_boxes\")"
   ]
  },
  {
   "cell_type": "code",
   "execution_count": null,
   "id": "74849b6e",
   "metadata": {},
   "outputs": [],
   "source": [
    "for cls, box in iter(zip(classes, boxes)):\n",
    "    print(cls.numpy(), box.numpy())"
   ]
  },
  {
   "cell_type": "code",
   "execution_count": null,
   "id": "67e4a363",
   "metadata": {},
   "outputs": [],
   "source": [
    "for cls, box in zip(classes, boxes):\n",
    "    if cls.numpy() == 0:  # 0 is the text block only\n",
    "        cropped = im.crop(box.numpy())\n",
    "        # cropped.show()\n",
    "        infer_text = \"\".join([t[1] for t in reader.readtext(np.array(cropped))])\n",
    "        if not infer_text.startswith(\"Figure\"):\n",
    "            print(infer_text)\n",
    "            text.append(\"\".join(infer_text))"
   ]
  },
  {
   "cell_type": "code",
   "execution_count": null,
   "id": "780ef476",
   "metadata": {},
   "outputs": [],
   "source": [
    "it = next(iter(boxes))\n",
    "cropped = im.crop(it.numpy())\n",
    "cropped"
   ]
  },
  {
   "cell_type": "code",
   "execution_count": null,
   "id": "50fc3ca5",
   "metadata": {},
   "outputs": [],
   "source": [
    "text"
   ]
  },
  {
   "cell_type": "code",
   "execution_count": null,
   "id": "4e111b3e",
   "metadata": {},
   "outputs": [],
   "source": [
    "import pdf2image"
   ]
  },
  {
   "cell_type": "code",
   "execution_count": null,
   "id": "bcc21d03",
   "metadata": {},
   "outputs": [],
   "source": [
    "images = pdf2image.convert_from_path(\"./samples/2204.08387.pdf\")  # layoutlmv3 paper\n",
    "images"
   ]
  },
  {
   "cell_type": "code",
   "execution_count": null,
   "id": "e7cbb244",
   "metadata": {},
   "outputs": [],
   "source": [
    "import subprocess\n",
    "\n",
    "subprocess.check_output([\"pdfinfo\", \"-v\"], stderr=subprocess.PIPE)"
   ]
  },
  {
   "cell_type": "code",
   "execution_count": null,
   "id": "1e34bea9",
   "metadata": {},
   "outputs": [],
   "source": [
    "image = images[0]\n",
    "classes, scores, boxes = doc_segmentation(image.convert(\"RGB\"), visualize=True)"
   ]
  },
  {
   "cell_type": "code",
   "execution_count": null,
   "id": "b8b7cde3",
   "metadata": {},
   "outputs": [],
   "source": [
    "output = predictor(np.asarray(image.convert(\"RGB\")))[\"instances\"]"
   ]
  },
  {
   "cell_type": "code",
   "execution_count": null,
   "id": "44bdccc5",
   "metadata": {},
   "outputs": [],
   "source": [
    "output.get(\"scores\").tolist()"
   ]
  },
  {
   "cell_type": "code",
   "execution_count": null,
   "id": "60154fc3",
   "metadata": {},
   "outputs": [],
   "source": [
    "crops = [im.crop(b.numpy()) for b in boxes]\n",
    "crops"
   ]
  },
  {
   "cell_type": "code",
   "execution_count": null,
   "id": "c6999993",
   "metadata": {},
   "outputs": [],
   "source": [
    "import cloudpickle\n",
    "\n",
    "with open(\"reader.pkl\", \"wb\") as f:\n",
    "    cloudpickle.dump(reader, f)"
   ]
  },
  {
   "cell_type": "code",
   "execution_count": null,
   "id": "23dffb46",
   "metadata": {},
   "outputs": [],
   "source": [
    "with open(\"reader.pkl\", \"rb\") as f:\n",
    "    loaded = cloudpickle.load(f)"
   ]
  },
  {
   "cell_type": "code",
   "execution_count": null,
   "id": "e8201c8c",
   "metadata": {},
   "outputs": [],
   "source": [
    "loaded.readtext(np.asarray(image))"
   ]
  },
  {
   "cell_type": "code",
   "execution_count": null,
   "id": "afd8b504",
   "metadata": {},
   "outputs": [],
   "source": []
  }
 ],
 "metadata": {
  "kernelspec": {
   "display_name": "Python 3 (ipykernel)",
   "language": "python",
   "name": "python3"
  },
  "language_info": {
   "codemirror_mode": {
    "name": "ipython",
    "version": 3
   },
   "file_extension": ".py",
   "mimetype": "text/x-python",
   "name": "python",
   "nbconvert_exporter": "python",
   "pygments_lexer": "ipython3",
   "version": "3.10.8"
  }
 },
 "nbformat": 4,
 "nbformat_minor": 5
}
