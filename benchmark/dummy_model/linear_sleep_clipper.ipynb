{
 "cells": [
  {
   "cell_type": "code",
   "execution_count": 1,
   "metadata": {},
   "outputs": [],
   "source": [
    "%reload_ext autoreload\n",
    "%autoreload 2\n",
    "%matplotlib inline\n",
    "\n",
    "# add venv PATH to shell command PATH\n",
    "import sys, os\n",
    "if sys.base_prefix not in os.environ['PATH']:\n",
    "    os.environ['PATH'] = f\"{sys.base_prefix}/bin:{os.environ['PATH']}\""
   ]
  },
  {
   "cell_type": "code",
   "execution_count": 2,
   "metadata": {},
   "outputs": [],
   "source": [
    "import bentoml\n",
    "NAME = 'linear_sleep_clipper'"
   ]
  },
  {
   "cell_type": "markdown",
   "metadata": {},
   "source": [
    "# load data & train model(not used, just placeholder)"
   ]
  },
  {
   "cell_type": "code",
   "execution_count": 3,
   "metadata": {},
   "outputs": [
    {
     "name": "stdout",
     "output_type": "stream",
     "text": [
      "predictions:  [2.   1.   0.   1.   1.65 0.   1.24 1.   0.   1.   2.   1.   0.   2.\n",
      " 0.   1.88 2.   2.   0.   0.   1.   2.   1.   1.26 1.48 1.88 1.   1.\n",
      " 2.   2.  ]\n",
      "  mse: 0.092897\n"
     ]
    }
   ],
   "source": [
    "from sklearn.ensemble import RandomForestRegressor\n",
    "from sklearn.metrics import mean_squared_error\n",
    "from sklearn.model_selection import train_test_split\n",
    "from sklearn import datasets\n",
    "\n",
    "iris = datasets.load_iris()\n",
    "x = iris.data[:, 2:]\n",
    "y = iris.target\n",
    "X_train, X_test, y_train, y_test = train_test_split(x, y, test_size=0.2, random_state=7)\n",
    "\n",
    "    \n",
    "# add parameters for tuning\n",
    "num_estimators = 100\n",
    "\n",
    "# train the model\n",
    "model = RandomForestRegressor(n_estimators=num_estimators)\n",
    "model.fit(X_train, y_train)\n",
    "predictions = model.predict(X_test)\n",
    "print('predictions: ', predictions)\n",
    "\n",
    "# log model performance \n",
    "mse = mean_squared_error(y_test, predictions)\n",
    "print(\"  mse: %f\" % mse)"
   ]
  },
  {
   "cell_type": "code",
   "execution_count": 4,
   "metadata": {},
   "outputs": [
    {
     "name": "stdout",
     "output_type": "stream",
     "text": [
      "Overwriting linear_sleep_clipper.py\n"
     ]
    }
   ],
   "source": [
    "%%writefile {NAME}.py\n",
    "\n",
    "import bentoml\n",
    "import time\n",
    "from bentoml.artifact import SklearnModelArtifact\n",
    "from bentoml.handlers import ClipperFloatsHandler\n",
    "\n",
    "\n",
    "@bentoml.env()\n",
    "@bentoml.artifacts([SklearnModelArtifact('model')])\n",
    "class BentoSvc(bentoml.BentoService):\n",
    "\n",
    "    @bentoml.api(ClipperFloatsHandler)\n",
    "    def predict_clipper(self, inputs):\n",
    "        a, b = inputs[0]\n",
    "        x = inputs.shape[0]\n",
    "        time.sleep(a * x + b)\n",
    "        return inputs"
   ]
  },
  {
   "cell_type": "code",
   "execution_count": 5,
   "metadata": {
    "scrolled": true
   },
   "outputs": [
    {
     "name": "stdout",
     "output_type": "stream",
     "text": [
      "[2020-03-24 18:59:26,551] WARNING - BentoML local changes detected - Local BentoML repository including all code changes will be bundled together with the BentoService bundle. When used with docker, the base docker image will be default to same version as last PyPI release at version: 0.5.2. You can also force bentoml to use a specific version for deploying your BentoService bundle, by setting the config 'core/bentoml_deploy_version' to a pinned version or your custom BentoML on github, e.g.:'bentoml_deploy_version = git+https://github.com/{username}/bentoml.git@{branch}'\n",
      "[2020-03-24 18:59:26,813] WARNING - BentoML local changes detected - Local BentoML repository including all code changes will be bundled together with the BentoService bundle. When used with docker, the base docker image will be default to same version as last PyPI release at version: 0.5.2. You can also force bentoml to use a specific version for deploying your BentoService bundle, by setting the config 'core/bentoml_deploy_version' to a pinned version or your custom BentoML on github, e.g.:'bentoml_deploy_version = git+https://github.com/{username}/bentoml.git@{branch}'\n",
      "[2020-03-24 18:59:35,601] WARNING - BentoML local changes detected - Local BentoML repository including all code changes will be bundled together with the BentoService bundle. When used with docker, the base docker image will be default to same version as last PyPI release at version: 0.5.2. You can also force bentoml to use a specific version for deploying your BentoService bundle, by setting the config 'core/bentoml_deploy_version' to a pinned version or your custom BentoML on github, e.g.:'bentoml_deploy_version = git+https://github.com/{username}/bentoml.git@{branch}'\n",
      "running sdist\n",
      "running egg_info\n",
      "writing BentoML.egg-info/PKG-INFO\n",
      "writing dependency_links to BentoML.egg-info/dependency_links.txt\n",
      "writing entry points to BentoML.egg-info/entry_points.txt\n",
      "writing requirements to BentoML.egg-info/requires.txt\n",
      "writing top-level names to BentoML.egg-info/top_level.txt\n",
      "reading manifest file 'BentoML.egg-info/SOURCES.txt'\n",
      "reading manifest template 'MANIFEST.in'\n"
     ]
    },
    {
     "name": "stderr",
     "output_type": "stream",
     "text": [
      "warning: no previously-included files matching '*~' found anywhere in distribution\n",
      "warning: no previously-included files matching '*.pyo' found anywhere in distribution\n",
      "warning: no previously-included files matching '.git' found anywhere in distribution\n",
      "warning: no previously-included files matching '.ipynb_checkpoints' found anywhere in distribution\n",
      "warning: no previously-included files matching '__pycache__' found anywhere in distribution\n",
      "warning: no files found matching '*' under directory 'bentoml/yatai/web/dist'\n",
      "no previously-included directories found matching 'e2e_tests'\n",
      "no previously-included directories found matching 'tests'\n"
     ]
    },
    {
     "name": "stdout",
     "output_type": "stream",
     "text": [
      "writing manifest file 'BentoML.egg-info/SOURCES.txt'\n",
      "running check\n",
      "creating BentoML-0.5.2+144.g2865d83\n",
      "creating BentoML-0.5.2+144.g2865d83/BentoML.egg-info\n",
      "creating BentoML-0.5.2+144.g2865d83/bentoml\n",
      "creating BentoML-0.5.2+144.g2865d83/bentoml/artifact\n",
      "creating BentoML-0.5.2+144.g2865d83/bentoml/bundler\n",
      "creating BentoML-0.5.2+144.g2865d83/bentoml/cli\n",
      "creating BentoML-0.5.2+144.g2865d83/bentoml/clipper\n",
      "creating BentoML-0.5.2+144.g2865d83/bentoml/configuration\n",
      "creating BentoML-0.5.2+144.g2865d83/bentoml/configuration/__pycache__\n",
      "creating BentoML-0.5.2+144.g2865d83/bentoml/deployment\n",
      "creating BentoML-0.5.2+144.g2865d83/bentoml/deployment/aws_lambda\n",
      "creating BentoML-0.5.2+144.g2865d83/bentoml/deployment/sagemaker\n",
      "creating BentoML-0.5.2+144.g2865d83/bentoml/handlers\n",
      "creating BentoML-0.5.2+144.g2865d83/bentoml/marshal\n",
      "creating BentoML-0.5.2+144.g2865d83/bentoml/migrations\n",
      "creating BentoML-0.5.2+144.g2865d83/bentoml/migrations/__pycache__\n",
      "creating BentoML-0.5.2+144.g2865d83/bentoml/migrations/versions\n",
      "creating BentoML-0.5.2+144.g2865d83/bentoml/migrations/versions/__pycache__\n",
      "creating BentoML-0.5.2+144.g2865d83/bentoml/proto\n",
      "creating BentoML-0.5.2+144.g2865d83/bentoml/repository\n",
      "creating BentoML-0.5.2+144.g2865d83/bentoml/server\n",
      "creating BentoML-0.5.2+144.g2865d83/bentoml/server/static\n",
      "creating BentoML-0.5.2+144.g2865d83/bentoml/utils\n",
      "creating BentoML-0.5.2+144.g2865d83/bentoml/utils/validator\n",
      "creating BentoML-0.5.2+144.g2865d83/bentoml/yatai\n",
      "creating BentoML-0.5.2+144.g2865d83/bentoml/yatai/client\n",
      "copying files to BentoML-0.5.2+144.g2865d83...\n",
      "copying LICENSE -> BentoML-0.5.2+144.g2865d83\n",
      "copying MANIFEST.in -> BentoML-0.5.2+144.g2865d83\n",
      "copying README.md -> BentoML-0.5.2+144.g2865d83\n",
      "copying pyproject.toml -> BentoML-0.5.2+144.g2865d83\n",
      "copying setup.cfg -> BentoML-0.5.2+144.g2865d83\n",
      "copying setup.py -> BentoML-0.5.2+144.g2865d83\n",
      "copying versioneer.py -> BentoML-0.5.2+144.g2865d83\n",
      "copying BentoML.egg-info/PKG-INFO -> BentoML-0.5.2+144.g2865d83/BentoML.egg-info\n",
      "copying BentoML.egg-info/SOURCES.txt -> BentoML-0.5.2+144.g2865d83/BentoML.egg-info\n",
      "copying BentoML.egg-info/dependency_links.txt -> BentoML-0.5.2+144.g2865d83/BentoML.egg-info\n",
      "copying BentoML.egg-info/entry_points.txt -> BentoML-0.5.2+144.g2865d83/BentoML.egg-info\n",
      "copying BentoML.egg-info/requires.txt -> BentoML-0.5.2+144.g2865d83/BentoML.egg-info\n",
      "copying BentoML.egg-info/top_level.txt -> BentoML-0.5.2+144.g2865d83/BentoML.egg-info\n",
      "copying bentoml/__init__.py -> BentoML-0.5.2+144.g2865d83/bentoml\n",
      "copying bentoml/_version.py -> BentoML-0.5.2+144.g2865d83/bentoml\n",
      "copying bentoml/alembic.ini -> BentoML-0.5.2+144.g2865d83/bentoml\n",
      "copying bentoml/db.py -> BentoML-0.5.2+144.g2865d83/bentoml\n",
      "copying bentoml/exceptions.py -> BentoML-0.5.2+144.g2865d83/bentoml\n",
      "copying bentoml/service.py -> BentoML-0.5.2+144.g2865d83/bentoml\n",
      "copying bentoml/service_env.py -> BentoML-0.5.2+144.g2865d83/bentoml\n",
      "copying bentoml/artifact/__init__.py -> BentoML-0.5.2+144.g2865d83/bentoml/artifact\n",
      "copying bentoml/artifact/artifact.py -> BentoML-0.5.2+144.g2865d83/bentoml/artifact\n",
      "copying bentoml/artifact/fastai_model_artifact.py -> BentoML-0.5.2+144.g2865d83/bentoml/artifact\n",
      "copying bentoml/artifact/h2o_model_artifact.py -> BentoML-0.5.2+144.g2865d83/bentoml/artifact\n",
      "copying bentoml/artifact/keras_model_artifact.py -> BentoML-0.5.2+144.g2865d83/bentoml/artifact\n",
      "copying bentoml/artifact/lightgbm_model_artifact.py -> BentoML-0.5.2+144.g2865d83/bentoml/artifact\n",
      "copying bentoml/artifact/pickle_artifact.py -> BentoML-0.5.2+144.g2865d83/bentoml/artifact\n",
      "copying bentoml/artifact/pytorch_model_artifact.py -> BentoML-0.5.2+144.g2865d83/bentoml/artifact\n",
      "copying bentoml/artifact/sklearn_model_artifact.py -> BentoML-0.5.2+144.g2865d83/bentoml/artifact\n",
      "copying bentoml/artifact/text_file_artifact.py -> BentoML-0.5.2+144.g2865d83/bentoml/artifact\n",
      "copying bentoml/artifact/tf_savedmodel_artifact.py -> BentoML-0.5.2+144.g2865d83/bentoml/artifact\n",
      "copying bentoml/artifact/xgboost_model_artifact.py -> BentoML-0.5.2+144.g2865d83/bentoml/artifact\n",
      "copying bentoml/bundler/__init__.py -> BentoML-0.5.2+144.g2865d83/bentoml/bundler\n",
      "copying bentoml/bundler/bundler.py -> BentoML-0.5.2+144.g2865d83/bentoml/bundler\n",
      "copying bentoml/bundler/config.py -> BentoML-0.5.2+144.g2865d83/bentoml/bundler\n",
      "copying bentoml/bundler/loader.py -> BentoML-0.5.2+144.g2865d83/bentoml/bundler\n",
      "copying bentoml/bundler/py_module_utils.py -> BentoML-0.5.2+144.g2865d83/bentoml/bundler\n",
      "copying bentoml/bundler/templates.py -> BentoML-0.5.2+144.g2865d83/bentoml/bundler\n",
      "copying bentoml/bundler/utils.py -> BentoML-0.5.2+144.g2865d83/bentoml/bundler\n",
      "copying bentoml/cli/__init__.py -> BentoML-0.5.2+144.g2865d83/bentoml/cli\n",
      "copying bentoml/cli/aws_lambda.py -> BentoML-0.5.2+144.g2865d83/bentoml/cli\n",
      "copying bentoml/cli/aws_sagemaker.py -> BentoML-0.5.2+144.g2865d83/bentoml/cli\n",
      "copying bentoml/cli/bento.py -> BentoML-0.5.2+144.g2865d83/bentoml/cli\n",
      "copying bentoml/cli/click_utils.py -> BentoML-0.5.2+144.g2865d83/bentoml/cli\n",
      "copying bentoml/cli/config.py -> BentoML-0.5.2+144.g2865d83/bentoml/cli\n",
      "copying bentoml/cli/deployment.py -> BentoML-0.5.2+144.g2865d83/bentoml/cli\n",
      "copying bentoml/cli/utils.py -> BentoML-0.5.2+144.g2865d83/bentoml/cli\n",
      "copying bentoml/cli/yatai_service.py -> BentoML-0.5.2+144.g2865d83/bentoml/cli\n",
      "copying bentoml/clipper/__init__.py -> BentoML-0.5.2+144.g2865d83/bentoml/clipper\n",
      "copying bentoml/configuration/__init__.py -> BentoML-0.5.2+144.g2865d83/bentoml/configuration\n",
      "copying bentoml/configuration/configparser.py -> BentoML-0.5.2+144.g2865d83/bentoml/configuration\n",
      "copying bentoml/configuration/default_bentoml.cfg -> BentoML-0.5.2+144.g2865d83/bentoml/configuration\n",
      "copying bentoml/configuration/__pycache__/__init__.cpython-36.pyc -> BentoML-0.5.2+144.g2865d83/bentoml/configuration/__pycache__\n",
      "copying bentoml/configuration/__pycache__/__init__.cpython-37.pyc -> BentoML-0.5.2+144.g2865d83/bentoml/configuration/__pycache__\n",
      "copying bentoml/configuration/__pycache__/__init__.cpython-38.pyc -> BentoML-0.5.2+144.g2865d83/bentoml/configuration/__pycache__\n",
      "copying bentoml/configuration/__pycache__/configparser.cpython-36.pyc -> BentoML-0.5.2+144.g2865d83/bentoml/configuration/__pycache__\n",
      "copying bentoml/configuration/__pycache__/configparser.cpython-37.pyc -> BentoML-0.5.2+144.g2865d83/bentoml/configuration/__pycache__\n",
      "copying bentoml/configuration/__pycache__/configparser.cpython-38.pyc -> BentoML-0.5.2+144.g2865d83/bentoml/configuration/__pycache__\n",
      "copying bentoml/deployment/__init__.py -> BentoML-0.5.2+144.g2865d83/bentoml/deployment\n",
      "copying bentoml/deployment/operator.py -> BentoML-0.5.2+144.g2865d83/bentoml/deployment\n",
      "copying bentoml/deployment/store.py -> BentoML-0.5.2+144.g2865d83/bentoml/deployment\n",
      "copying bentoml/deployment/utils.py -> BentoML-0.5.2+144.g2865d83/bentoml/deployment\n",
      "copying bentoml/deployment/aws_lambda/__init__.py -> BentoML-0.5.2+144.g2865d83/bentoml/deployment/aws_lambda\n",
      "copying bentoml/deployment/aws_lambda/download_extra_resources.py -> BentoML-0.5.2+144.g2865d83/bentoml/deployment/aws_lambda\n",
      "copying bentoml/deployment/aws_lambda/lambda_app.py -> BentoML-0.5.2+144.g2865d83/bentoml/deployment/aws_lambda\n",
      "copying bentoml/deployment/aws_lambda/utils.py -> BentoML-0.5.2+144.g2865d83/bentoml/deployment/aws_lambda\n",
      "copying bentoml/deployment/sagemaker/__init__.py -> BentoML-0.5.2+144.g2865d83/bentoml/deployment/sagemaker\n",
      "copying bentoml/deployment/sagemaker/sagemaker_nginx.conf -> BentoML-0.5.2+144.g2865d83/bentoml/deployment/sagemaker\n",
      "copying bentoml/deployment/sagemaker/sagemaker_serve.py -> BentoML-0.5.2+144.g2865d83/bentoml/deployment/sagemaker\n",
      "copying bentoml/deployment/sagemaker/sagemaker_wsgi.py -> BentoML-0.5.2+144.g2865d83/bentoml/deployment/sagemaker\n",
      "copying bentoml/handlers/__init__.py -> BentoML-0.5.2+144.g2865d83/bentoml/handlers\n",
      "copying bentoml/handlers/base_handlers.py -> BentoML-0.5.2+144.g2865d83/bentoml/handlers\n",
      "copying bentoml/handlers/clipper_handler.py -> BentoML-0.5.2+144.g2865d83/bentoml/handlers\n",
      "copying bentoml/handlers/dataframe_handler.py -> BentoML-0.5.2+144.g2865d83/bentoml/handlers\n",
      "copying bentoml/handlers/fastai_image_handler.py -> BentoML-0.5.2+144.g2865d83/bentoml/handlers\n",
      "copying bentoml/handlers/image_handler.py -> BentoML-0.5.2+144.g2865d83/bentoml/handlers\n",
      "copying bentoml/handlers/json_handler.py -> BentoML-0.5.2+144.g2865d83/bentoml/handlers\n",
      "copying bentoml/handlers/pytorch_tensor_handler.py -> BentoML-0.5.2+144.g2865d83/bentoml/handlers\n",
      "copying bentoml/handlers/tensorflow_tensor_handler.py -> BentoML-0.5.2+144.g2865d83/bentoml/handlers\n",
      "copying bentoml/handlers/utils.py -> BentoML-0.5.2+144.g2865d83/bentoml/handlers\n",
      "copying bentoml/marshal/__init__.py -> BentoML-0.5.2+144.g2865d83/bentoml/marshal\n",
      "copying bentoml/marshal/dispatcher.py -> BentoML-0.5.2+144.g2865d83/bentoml/marshal\n",
      "copying bentoml/marshal/marshal.py -> BentoML-0.5.2+144.g2865d83/bentoml/marshal\n",
      "copying bentoml/marshal/utils.py -> BentoML-0.5.2+144.g2865d83/bentoml/marshal\n",
      "copying bentoml/migrations/README -> BentoML-0.5.2+144.g2865d83/bentoml/migrations\n",
      "copying bentoml/migrations/env.py -> BentoML-0.5.2+144.g2865d83/bentoml/migrations\n",
      "copying bentoml/migrations/script.py.mako -> BentoML-0.5.2+144.g2865d83/bentoml/migrations\n",
      "copying bentoml/migrations/__pycache__/env.cpython-36.pyc -> BentoML-0.5.2+144.g2865d83/bentoml/migrations/__pycache__\n",
      "copying bentoml/migrations/__pycache__/env.cpython-37.pyc -> BentoML-0.5.2+144.g2865d83/bentoml/migrations/__pycache__\n",
      "copying bentoml/migrations/versions/a6b00ae45279_add_last_updated_at_for_deployments.py -> BentoML-0.5.2+144.g2865d83/bentoml/migrations/versions\n",
      "copying bentoml/migrations/versions/__pycache__/a6b00ae45279_add_last_updated_at_for_deployments.cpython-36.pyc -> BentoML-0.5.2+144.g2865d83/bentoml/migrations/versions/__pycache__\n",
      "copying bentoml/migrations/versions/__pycache__/a6b00ae45279_add_last_updated_at_for_deployments.cpython-37.pyc -> BentoML-0.5.2+144.g2865d83/bentoml/migrations/versions/__pycache__\n",
      "copying bentoml/proto/__init__.py -> BentoML-0.5.2+144.g2865d83/bentoml/proto\n",
      "copying bentoml/proto/deployment_pb2.py -> BentoML-0.5.2+144.g2865d83/bentoml/proto\n",
      "copying bentoml/proto/repository_pb2.py -> BentoML-0.5.2+144.g2865d83/bentoml/proto\n",
      "copying bentoml/proto/status_pb2.py -> BentoML-0.5.2+144.g2865d83/bentoml/proto\n",
      "copying bentoml/proto/yatai_service_pb2.py -> BentoML-0.5.2+144.g2865d83/bentoml/proto\n",
      "copying bentoml/proto/yatai_service_pb2_grpc.py -> BentoML-0.5.2+144.g2865d83/bentoml/proto\n",
      "copying bentoml/repository/__init__.py -> BentoML-0.5.2+144.g2865d83/bentoml/repository\n",
      "copying bentoml/repository/metadata_store.py -> BentoML-0.5.2+144.g2865d83/bentoml/repository\n",
      "copying bentoml/server/__init__.py -> BentoML-0.5.2+144.g2865d83/bentoml/server\n",
      "copying bentoml/server/bento_api_server.py -> BentoML-0.5.2+144.g2865d83/bentoml/server\n",
      "copying bentoml/server/bento_sagemaker_server.py -> BentoML-0.5.2+144.g2865d83/bentoml/server\n",
      "copying bentoml/server/gunicorn_config.py -> BentoML-0.5.2+144.g2865d83/bentoml/server\n",
      "copying bentoml/server/gunicorn_server.py -> BentoML-0.5.2+144.g2865d83/bentoml/server\n",
      "copying bentoml/server/marshal_server.py -> BentoML-0.5.2+144.g2865d83/bentoml/server\n",
      "copying bentoml/server/middlewares.py -> BentoML-0.5.2+144.g2865d83/bentoml/server\n",
      "copying bentoml/server/utils.py -> BentoML-0.5.2+144.g2865d83/bentoml/server\n",
      "copying bentoml/server/static/swagger-ui-bundle.js -> BentoML-0.5.2+144.g2865d83/bentoml/server/static\n",
      "copying bentoml/server/static/swagger-ui.css -> BentoML-0.5.2+144.g2865d83/bentoml/server/static\n",
      "copying bentoml/utils/__init__.py -> BentoML-0.5.2+144.g2865d83/bentoml/utils\n",
      "copying bentoml/utils/cloudpickle.py -> BentoML-0.5.2+144.g2865d83/bentoml/utils\n",
      "copying bentoml/utils/hybirdmethod.py -> BentoML-0.5.2+144.g2865d83/bentoml/utils\n",
      "copying bentoml/utils/log.py -> BentoML-0.5.2+144.g2865d83/bentoml/utils\n",
      "copying bentoml/utils/pip_pkg.py -> BentoML-0.5.2+144.g2865d83/bentoml/utils\n",
      "copying bentoml/utils/s3.py -> BentoML-0.5.2+144.g2865d83/bentoml/utils\n",
      "copying bentoml/utils/tempdir.py -> BentoML-0.5.2+144.g2865d83/bentoml/utils\n",
      "copying bentoml/utils/trace.py -> BentoML-0.5.2+144.g2865d83/bentoml/utils\n",
      "copying bentoml/utils/usage_stats.py -> BentoML-0.5.2+144.g2865d83/bentoml/utils\n",
      "copying bentoml/utils/validator/__init__.py -> BentoML-0.5.2+144.g2865d83/bentoml/utils/validator\n",
      "copying bentoml/yatai/__init__.py -> BentoML-0.5.2+144.g2865d83/bentoml/yatai\n",
      "copying bentoml/yatai/deployment_utils.py -> BentoML-0.5.2+144.g2865d83/bentoml/yatai\n",
      "copying bentoml/yatai/status.py -> BentoML-0.5.2+144.g2865d83/bentoml/yatai\n",
      "copying bentoml/yatai/utils.py -> BentoML-0.5.2+144.g2865d83/bentoml/yatai\n",
      "copying bentoml/yatai/yatai_service_impl.py -> BentoML-0.5.2+144.g2865d83/bentoml/yatai\n",
      "copying bentoml/yatai/client/__init__.py -> BentoML-0.5.2+144.g2865d83/bentoml/yatai/client\n",
      "copying bentoml/yatai/client/bento_repository_api.py -> BentoML-0.5.2+144.g2865d83/bentoml/yatai/client\n",
      "copying bentoml/yatai/client/deployment_api.py -> BentoML-0.5.2+144.g2865d83/bentoml/yatai/client\n",
      "Writing BentoML-0.5.2+144.g2865d83/setup.cfg\n",
      "UPDATING BentoML-0.5.2+144.g2865d83/bentoml/_version.py\n",
      "set BentoML-0.5.2+144.g2865d83/bentoml/_version.py to '0.5.2+144.g2865d83'\n",
      "Creating tar archive\n",
      "removing 'BentoML-0.5.2+144.g2865d83' (and everything under it)\n",
      "[2020-03-24 18:59:36,414] INFO - BentoService bundle 'BentoSvc:20200324185926_24748C' created at: /tmp/bentoml-temp-ykp45in3\n",
      "[2020-03-24 18:59:36,416] WARNING - BentoML local changes detected - Local BentoML repository including all code changes will be bundled together with the BentoService bundle. When used with docker, the base docker image will be default to same version as last PyPI release at version: 0.5.2. You can also force bentoml to use a specific version for deploying your BentoService bundle, by setting the config 'core/bentoml_deploy_version' to a pinned version or your custom BentoML on github, e.g.:'bentoml_deploy_version = git+https://github.com/{username}/bentoml.git@{branch}'\n",
      "[2020-03-24 18:59:36,427] WARNING - Saved BentoService bundle version mismatch: loading BentoServie bundle create with BentoML version 0.5.2,  but loading from BentoML version 0.5.2+144.g2865d83\n",
      "[2020-03-24 18:59:36,447] INFO - BentoService bundle 'BentoSvc:20200324185926_24748C' saved to: /home/bentoml/bentoml/repository/BentoSvc/20200324185926_24748C\n"
     ]
    }
   ],
   "source": [
    "from linear_sleep_clipper import BentoSvc\n",
    "\n",
    "bento_svc = BentoSvc()\n",
    "bento_svc.pack(\"model\", model)\n",
    "saved_path = bento_svc.save()"
   ]
  },
  {
   "cell_type": "code",
   "execution_count": 6,
   "metadata": {},
   "outputs": [
    {
     "name": "stdout",
     "output_type": "stream",
     "text": [
      "44213\n"
     ]
    }
   ],
   "source": [
    "from bentoml.utils import detect_free_port\n",
    "PORT = detect_free_port()\n",
    "print(PORT)"
   ]
  },
  {
   "cell_type": "markdown",
   "metadata": {},
   "source": [
    "# Build & Run Bento Service in Docker"
   ]
  },
  {
   "cell_type": "code",
   "execution_count": 28,
   "metadata": {},
   "outputs": [
    {
     "name": "stderr",
     "output_type": "stream",
     "text": [
      "20-03-25:21:15:39 INFO     [docker_container_manager.py:184] [default-cluster] Starting managed Redis instance in Docker\n",
      "20-03-25:21:15:42 INFO     [docker_container_manager.py:276] [default-cluster] Metric Configuration Saved at /tmp/tmpkak84p9i.yml\n",
      "20-03-25:21:15:42 INFO     [clipper_admin.py:162] [default-cluster] Clipper is running\n",
      "20-03-25:21:15:42 INFO     [clipper_admin.py:236] [default-cluster] Application 20200324185926_24748c was successfully registered\n"
     ]
    }
   ],
   "source": [
    "from clipper_admin import ClipperConnection, DockerContainerManager\n",
    "from bentoml.clipper import deploy_bentoml\n",
    "cl = ClipperConnection(DockerContainerManager())\n",
    "try:\n",
    "    cl.start_clipper(cache_size=1)\n",
    "except:\n",
    "    cl.connect()\n",
    "\n",
    "APP_NAME = saved_path.split('/')[-1].lower()\n",
    "cl.register_application(APP_NAME, 'floats', 'default_pred', 10*1000* 1000)"
   ]
  },
  {
   "cell_type": "code",
   "execution_count": 29,
   "metadata": {
    "scrolled": true
   },
   "outputs": [
    {
     "name": "stdout",
     "output_type": "stream",
     "text": [
      "[2020-03-25 21:15:52,826] WARNING - BentoML local changes detected - Local BentoML repository including all code changes will be bundled together with the BentoService bundle. When used with docker, the base docker image will be default to same version as last PyPI release at version: 0.5.2. You can also force bentoml to use a specific version for deploying your BentoService bundle, by setting the config 'core/bentoml_deploy_version' to a pinned version or your custom BentoML on github, e.g.:'bentoml_deploy_version = git+https://github.com/{username}/bentoml.git@{branch}'\n",
      "[2020-03-25 21:15:52,835] WARNING - Saved BentoService bundle version mismatch: loading BentoServie bundle create with BentoML version 0.5.2,  but loading from BentoML version 0.5.2+144.g2865d83\n",
      "[2020-03-25 21:15:54,000] WARNING - BentoML local changes detected - Local BentoML repository including all code changes will be bundled together with the BentoService bundle. When used with docker, the base docker image will be default to same version as last PyPI release at version: 0.5.2. You can also force bentoml to use a specific version for deploying your BentoService bundle, by setting the config 'core/bentoml_deploy_version' to a pinned version or your custom BentoML on github, e.g.:'bentoml_deploy_version = git+https://github.com/{username}/bentoml.git@{branch}'\n",
      "[2020-03-25 21:15:54,023] WARNING - Saved BentoService bundle version mismatch: loading BentoServie bundle create with BentoML version 0.5.2,  but loading from BentoML version 0.5.2+144.g2865d83\n",
      "[2020-03-25 21:15:54,112] INFO - Step 1/12 : FROM clipper/python36-closure-container:0.4.1\n",
      "[2020-03-25 21:15:54,114] INFO - \n",
      "\n",
      "[2020-03-25 21:15:54,115] INFO -  ---> e5b9dc250c05\n",
      "\n",
      "[2020-03-25 21:15:54,116] INFO - Step 2/12 : COPY . /container\n",
      "[2020-03-25 21:15:54,118] INFO - \n",
      "\n",
      "[2020-03-25 21:15:54,119] INFO -  ---> Using cache\n",
      "\n",
      "[2020-03-25 21:15:54,120] INFO -  ---> e4a491d34150\n",
      "\n",
      "[2020-03-25 21:15:54,122] INFO - Step 3/12 : WORKDIR /container\n",
      "[2020-03-25 21:15:54,123] INFO - \n",
      "\n",
      "[2020-03-25 21:15:54,131] INFO -  ---> Using cache\n",
      "\n",
      "[2020-03-25 21:15:54,132] INFO -  ---> d8351fdfe580\n",
      "\n",
      "[2020-03-25 21:15:54,133] INFO - Step 4/12 : ENV PIP_INDEX_URL=http://192.168.138.2/simple\n",
      "[2020-03-25 21:15:54,134] INFO - \n",
      "\n",
      "[2020-03-25 21:15:54,135] INFO -  ---> Using cache\n",
      "\n",
      "[2020-03-25 21:15:54,137] INFO -  ---> 4bc1aaed2273\n",
      "\n",
      "[2020-03-25 21:15:54,138] INFO - Step 5/12 : ENV PIP_TRUSTED_HOST=192.168.138.2\n",
      "[2020-03-25 21:15:54,140] INFO - \n",
      "\n",
      "[2020-03-25 21:15:54,141] INFO -  ---> Using cache\n",
      "\n",
      "[2020-03-25 21:15:54,143] INFO -  ---> 822898a38eba\n",
      "\n",
      "[2020-03-25 21:15:54,144] INFO - Step 6/12 : RUN pip install --upgrade numpy && pip install -r /container/bento/requirements.txt\n",
      "[2020-03-25 21:15:54,145] INFO - \n",
      "\n",
      "[2020-03-25 21:15:54,146] INFO -  ---> Using cache\n",
      "\n",
      "[2020-03-25 21:15:54,147] INFO -  ---> 7b2939d4b970\n",
      "\n",
      "[2020-03-25 21:15:54,148] INFO - Step 7/12 : RUN if [ -f /container/bento/bentoml_init.sh ]; then cd /container/bento && /bin/bash -c /container/bento/bentoml_init.sh; fi\n",
      "[2020-03-25 21:15:54,148] INFO - \n",
      "\n",
      "[2020-03-25 21:15:54,149] INFO -  ---> Using cache\n",
      "\n",
      "[2020-03-25 21:15:54,150] INFO -  ---> b9dafab72eea\n",
      "\n",
      "[2020-03-25 21:15:54,151] INFO - Step 8/12 : RUN if [ -f /container/bento/setup.sh ]; then cd /container/bento && /bin/bash -c /container/bento/setup.sh; fi\n",
      "[2020-03-25 21:15:54,152] INFO - \n",
      "\n",
      "[2020-03-25 21:15:54,152] INFO -  ---> Using cache\n",
      "\n",
      "[2020-03-25 21:15:54,153] INFO -  ---> c043ca30bfae\n",
      "\n",
      "[2020-03-25 21:15:54,153] INFO - Step 9/12 : ENV CLIPPER_MODEL_NAME=bentosvc-predict-clipper\n",
      "[2020-03-25 21:15:54,154] INFO - \n",
      "\n",
      "[2020-03-25 21:15:54,154] INFO -  ---> Using cache\n",
      "\n",
      "[2020-03-25 21:15:54,156] INFO -  ---> 59918b0c90cb\n",
      "\n",
      "[2020-03-25 21:15:54,157] INFO - Step 10/12 : ENV CLIPPER_MODEL_VERSION=20200324185926-24748c\n",
      "[2020-03-25 21:15:54,157] INFO - \n",
      "\n",
      "[2020-03-25 21:15:54,158] INFO -  ---> Using cache\n",
      "\n",
      "[2020-03-25 21:15:54,158] INFO -  ---> 927457babcb2\n",
      "\n",
      "[2020-03-25 21:15:54,159] INFO - Step 11/12 : ENTRYPOINT []\n",
      "[2020-03-25 21:15:54,159] INFO - \n",
      "\n",
      "[2020-03-25 21:15:54,187] INFO -  ---> Running in ec8bb7473c7f\n",
      "\n",
      "[2020-03-25 21:15:54,324] INFO -  ---> f2233e3d8448\n",
      "\n",
      "[2020-03-25 21:15:54,326] INFO - Step 12/12 : CMD [\"python\", \"/container/clipper_entry.py\"]\n",
      "[2020-03-25 21:15:54,329] INFO - \n",
      "\n",
      "[2020-03-25 21:15:54,387] INFO -  ---> Running in 22fc92c53cc3\n",
      "\n",
      "[2020-03-25 21:15:54,481] INFO -  ---> a5204d0152cd\n",
      "\n",
      "[2020-03-25 21:15:54,484] INFO - Successfully built a5204d0152cd\n",
      "\n",
      "[2020-03-25 21:15:54,486] INFO - Successfully tagged clipper-model-bentosvc:20200324185926_24748C\n",
      "\n",
      "[2020-03-25 21:15:54,489] INFO - Successfully built docker image clipper-model-bentosvc:20200324185926_24748C for Clipper deployment\n"
     ]
    },
    {
     "name": "stderr",
     "output_type": "stream",
     "text": [
      "20-03-25:21:15:54 INFO     [docker_container_manager.py:409] [default-cluster] Found 0 replicas for bentosvc-predict-clipper:20200324185926-24748c. Adding 1\n",
      "20-03-25:21:15:55 INFO     [clipper_admin.py:724] [default-cluster] Successfully registered model bentosvc-predict-clipper:20200324185926-24748c\n",
      "20-03-25:21:15:55 INFO     [clipper_admin.py:642] [default-cluster] Done deploying model bentosvc-predict-clipper:20200324185926-24748c.\n"
     ]
    },
    {
     "name": "stdout",
     "output_type": "stream",
     "text": [
      "[2020-03-25 21:15:55,166] WARNING - BentoML local changes detected - Local BentoML repository including all code changes will be bundled together with the BentoService bundle. When used with docker, the base docker image will be default to same version as last PyPI release at version: 0.5.2. You can also force bentoml to use a specific version for deploying your BentoService bundle, by setting the config 'core/bentoml_deploy_version' to a pinned version or your custom BentoML on github, e.g.:'bentoml_deploy_version = git+https://github.com/{username}/bentoml.git@{branch}'\n",
      "[2020-03-25 21:15:55,175] WARNING - Saved BentoService bundle version mismatch: loading BentoServie bundle create with BentoML version 0.5.2,  but loading from BentoML version 0.5.2+144.g2865d83\n"
     ]
    }
   ],
   "source": [
    "clipper_model_name, clipper_model_version = deploy_bentoml(\n",
    "    cl, saved_path, 'predict_clipper',\n",
    "    build_envs=dict(\n",
    "        PIP_INDEX_URL=\"http://192.168.138.2/simple\",\n",
    "        PIP_TRUSTED_HOST=\"192.168.138.2\",\n",
    "    )\n",
    ")"
   ]
  },
  {
   "cell_type": "code",
   "execution_count": 30,
   "metadata": {},
   "outputs": [
    {
     "name": "stderr",
     "output_type": "stream",
     "text": [
      "20-03-25:21:16:06 INFO     [clipper_admin.py:303] [default-cluster] Model bentosvc-predict-clipper is now linked to application 20200324185926_24748c\n"
     ]
    },
    {
     "data": {
      "text/plain": [
       "'http://localhost:1337/20200324185926_24748c/predict'"
      ]
     },
     "execution_count": 30,
     "metadata": {},
     "output_type": "execute_result"
    }
   ],
   "source": [
    "cl.link_model_to_app(APP_NAME, clipper_model_name)\n",
    "addr = cl.get_query_addr()\n",
    "clipper_url = f\"http://{addr}/{APP_NAME}/predict\"\n",
    "clipper_url"
   ]
  },
  {
   "cell_type": "markdown",
   "metadata": {},
   "source": [
    "# Test with requests"
   ]
  },
  {
   "cell_type": "code",
   "execution_count": 20,
   "metadata": {},
   "outputs": [
    {
     "name": "stdout",
     "output_type": "stream",
     "text": [
      "<Response [200]>\n",
      "{\"query_id\":419779,\"output\":\"[0.        2.0000768]\",\"default\":false}\n"
     ]
    }
   ],
   "source": [
    "import json\n",
    "import random\n",
    "import requests\n",
    "\n",
    "\n",
    "headers = {\"content-type\": \"application/json\"}\n",
    "data = json.dumps(\n",
    "       {\"input\": [0.0, 2.0 + random.random()/ 10000]}\n",
    ")\n",
    "\n",
    "json_response = requests.post(clipper_url, data=data, headers=headers)\n",
    "print(json_response)\n",
    "print(json_response.text)"
   ]
  },
  {
   "cell_type": "markdown",
   "metadata": {},
   "source": [
    "# Benchmark with locust"
   ]
  },
  {
   "cell_type": "code",
   "execution_count": 31,
   "metadata": {},
   "outputs": [
    {
     "name": "stdout",
     "output_type": "stream",
     "text": [
      "Overwriting benchmark_linear_sleep_clipper.py\n"
     ]
    }
   ],
   "source": [
    "%%writefile benchmark_{NAME}.py\n",
    "from locust import HttpLocust, TaskSet, task, constant\n",
    "from functools import lru_cache\n",
    "\n",
    "import pandas as pd\n",
    "import json\n",
    "import random\n",
    "\n",
    "import os\n",
    "\n",
    "A = float(os.environ.get('A', 0))\n",
    "B = float(os.environ.get('B', 0))\n",
    "WAIT = float(os.environ.get('WAIT', 1))\n",
    "\n",
    "print(dict(A=A, B=B, WAIT=WAIT))\n",
    "\n",
    "\n",
    "@lru_cache(maxsize=1)\n",
    "def data_producer():\n",
    "\n",
    "    headers = {\"content-type\": \"application/json\"}\n",
    "\n",
    "    def _gen_data():\n",
    "        _A = A + random.random() / 100000.0\n",
    "        _B = B + random.random() / 10000.0\n",
    "        data = json.dumps(\n",
    "               {\"input\": [_A, _B]}  # random offset to avoid cache\n",
    "        )\n",
    "        return headers, data\n",
    "\n",
    "    return _gen_data\n",
    "\n",
    "\n",
    "class WebsiteTasks(TaskSet):\n",
    "\n",
    "    @task\n",
    "    def index(self):\n",
    "        headers, data = data_producer()()\n",
    "        self.client.post(\"\", data, headers=headers)\n",
    "\n",
    "class WebsiteUser(HttpLocust):\n",
    "    task_set = WebsiteTasks\n",
    "    wait_time = constant(WAIT)"
   ]
  },
  {
   "cell_type": "code",
   "execution_count": 32,
   "metadata": {
    "scrolled": true
   },
   "outputs": [
    {
     "name": "stdout",
     "output_type": "stream",
     "text": [
      "locust -f benchmark_linear_sleep_clipper.py -H http://localhost:1337/20200324185926_24748c/predict\n",
      "[2020-03-26 12:58:19,237] beta/INFO/locust.main: Starting web monitor at http://*:8089\n",
      "[2020-03-26 12:58:19,237] beta/INFO/locust.main: Starting Locust 0.14.4\n",
      "[2020-03-26 13:01:15,995] beta/INFO/locust.runners: Hatching and swarming 1000 users at the rate 100 users/s (0 users already running)...\n",
      "[2020-03-26 13:01:29,470] beta/INFO/locust.runners: All locusts hatched: WebsiteUser: 1000 (0 already running)\n",
      "^C\n",
      "[2020-03-26 13:02:00,649] beta/ERROR/stderr: KeyboardInterrupt\n",
      "[2020-03-26 13:02:00,650] beta/ERROR/stderr: 2020-03-26T05:02:00Z\n",
      "[2020-03-26 13:02:00,650] beta/ERROR/stderr: \n",
      "[2020-03-26 13:02:00,650] beta/INFO/locust.main: Shutting down (exit code 0), bye.\n",
      "[2020-03-26 13:02:00,650] beta/INFO/locust.main: Cleaning up runner...\n",
      "[2020-03-26 13:02:00,650] beta/INFO/locust.main: Running teardowns...\n",
      " Name                                                          # reqs      # fails     Avg     Min     Max  |  Median   req/s failures/s\n",
      "--------------------------------------------------------------------------------------------------------------------------------------------\n",
      " POST /20200324185926_24748c/predict                            16519     0(0.00%)     958      34    2337  |     980  416.70    0.00\n",
      "--------------------------------------------------------------------------------------------------------------------------------------------\n",
      " Aggregated                                                     16519     0(0.00%)     958      34    2337  |     980  416.70    0.00\n",
      "\n",
      "Percentage of the requests completed within given times\n",
      " Type                 Name                                                           # reqs    50%    66%    75%    80%    90%    95%    98%    99%  99.9% 99.99%   100%\n",
      "------------------------------------------------------------------------------------------------------------------------------------------------------\n",
      " POST                 /20200324185926_24748c/predict                                  16519    980   1100   1100   1100   1200   1300   1500   1700   2000   2200   2300\n",
      "------------------------------------------------------------------------------------------------------------------------------------------------------\n",
      " None                 Aggregated                                                      16519    980   1100   1100   1100   1200   1300   1500   1700   2000   2200   2300\n",
      "\n"
     ]
    }
   ],
   "source": [
    "print(f\"locust -f benchmark_{NAME}.py -H {clipper_url}\")\n",
    "!locust -f benchmark_{NAME}.py -H {clipper_url}"
   ]
  }
 ],
 "metadata": {
  "colab": {
   "collapsed_sections": [],
   "name": "classification.ipynb",
   "private_outputs": true,
   "provenance": [],
   "toc_visible": true
  },
  "kernelspec": {
   "display_name": "bentoml-dev-py36",
   "language": "python",
   "name": "bentoml-dev-py36"
  },
  "language_info": {
   "codemirror_mode": {
    "name": "ipython",
    "version": 3
   },
   "file_extension": ".py",
   "mimetype": "text/x-python",
   "name": "python",
   "nbconvert_exporter": "python",
   "pygments_lexer": "ipython3",
   "version": "3.6.10"
  }
 },
 "nbformat": 4,
 "nbformat_minor": 4
}
