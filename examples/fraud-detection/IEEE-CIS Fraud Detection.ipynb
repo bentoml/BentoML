{
 "cells": [
  {
   "cell_type": "markdown",
   "id": "34ea4354",
   "metadata": {},
   "source": [
    "# BentoML Demo - IEEE-CIS Fraud Detection"
   ]
  },
  {
   "cell_type": "markdown",
   "id": "b73a62eb",
   "metadata": {},
   "source": [
    "Accept dataset rules on Kaggle before downloading: https://www.kaggle.com/competitions/ieee-fraud-detection/data"
   ]
  },
  {
   "cell_type": "code",
   "execution_count": null,
   "id": "f82d57c9",
   "metadata": {},
   "outputs": [],
   "source": [
    "# Set Kaggle Credentials for downloading dataset\n",
    "%env KAGGLE_USERNAME=\n",
    "%env KAGGLE_KEY="
   ]
  },
  {
   "cell_type": "code",
   "execution_count": null,
   "id": "945f2734",
   "metadata": {},
   "outputs": [],
   "source": [
    "!kaggle competitions download -c ieee-fraud-detection\n",
    "!unzip -d ./data/ ieee-fraud-detection.zip && rm ieee-fraud-detection.zip"
   ]
  },
  {
   "cell_type": "code",
   "execution_count": null,
   "id": "c49fd861",
   "metadata": {},
   "outputs": [],
   "source": [
    "import pandas as pd\n",
    "import numpy as np\n",
    "\n",
    "df_transactions = pd.read_csv(\"./data/train_transaction.csv\")\n",
    "\n",
    "X = df_transactions.drop(columns=['isFraud'])\n",
    "y = df_transactions.isFraud"
   ]
  },
  {
   "cell_type": "code",
   "execution_count": null,
   "id": "75e1312a",
   "metadata": {},
   "outputs": [],
   "source": [
    "from sklearn.impute import SimpleImputer\n",
    "from sklearn.compose import ColumnTransformer\n",
    "from sklearn.pipeline import Pipeline\n",
    "from sklearn.impute import SimpleImputer\n",
    "from sklearn.preprocessing import StandardScaler, OneHotEncoder, LabelEncoder, OrdinalEncoder\n",
    "from sklearn.feature_selection import SelectPercentile, chi2\n",
    "\n",
    "numeric_features = df_transactions.select_dtypes(include='float64').columns\n",
    "categorical_features = df_transactions.select_dtypes(include='object').columns\n",
    "\n",
    "preprocessor = ColumnTransformer(\n",
    "    transformers=[\n",
    "        (\"num\", SimpleImputer(strategy=\"median\"), numeric_features),\n",
    "        (\"cat\", OrdinalEncoder(handle_unknown='use_encoded_value', unknown_value=-1), categorical_features),\n",
    "    ],\n",
    "    verbose_feature_names_out=False,\n",
    "    remainder='passthrough'\n",
    ")\n",
    "preprocessor.set_output(transform=\"pandas\")"
   ]
  },
  {
   "cell_type": "code",
   "execution_count": null,
   "id": "0a0d3d70",
   "metadata": {},
   "outputs": [],
   "source": [
    "X = preprocessor.fit_transform(X)"
   ]
  },
  {
   "cell_type": "code",
   "execution_count": null,
   "id": "c3efa93f",
   "metadata": {},
   "outputs": [],
   "source": [
    "from sklearn.model_selection import train_test_split\n",
    "\n",
    "X_train, X_test, y_train, y_test = train_test_split(X, y)"
   ]
  },
  {
   "cell_type": "code",
   "execution_count": null,
   "id": "c6e4b919",
   "metadata": {},
   "outputs": [],
   "source": [
    "import xgboost as xgb\n",
    "\n",
    "def train(n_estimators, max_depth):\n",
    "    return xgb.XGBClassifier(\n",
    "        tree_method='hist',\n",
    "        n_estimators=n_estimators,\n",
    "        max_depth=max_depth,\n",
    "        eval_metric=\"aucpr\",\n",
    "        objective='binary:logistic',\n",
    "        enable_categorical=True,\n",
    "    ).fit(\n",
    "        X_train,\n",
    "        y_train,\n",
    "        eval_set=[(X_test, y_test)]\n",
    "    )"
   ]
  },
  {
   "cell_type": "code",
   "execution_count": null,
   "id": "d8944cd0",
   "metadata": {},
   "outputs": [],
   "source": [
    "# small model with 300 gradient boosted trees and a maximum tree depth of 5\n",
    "model_sm = train(300, 5)"
   ]
  },
  {
   "cell_type": "code",
   "execution_count": null,
   "id": "c549dd2b",
   "metadata": {},
   "outputs": [],
   "source": [
    "import bentoml\n",
    "bentoml.xgboost.save_model(\n",
    "    \"ieee-fraud-detection-sm\",\n",
    "    model_sm,\n",
    "    signatures={\n",
    "        \"predict_proba\": {\"batchable\": True},\n",
    "    },\n",
    "    custom_objects={\n",
    "        \"preprocessor\": preprocessor\n",
    "    }\n",
    ")"
   ]
  },
  {
   "cell_type": "code",
   "execution_count": null,
   "id": "efcf15eb",
   "metadata": {},
   "outputs": [],
   "source": [
    "import bentoml\n",
    "import pandas as pd\n",
    "import numpy as np\n",
    "\n",
    "model_ref = bentoml.xgboost.get(\"ieee-fraud-detection-sm:latest\")\n",
    "model_runner = model_ref.to_runner()\n",
    "model_runner.init_local()\n",
    "model_preprocessor = model_ref.custom_objects['preprocessor']\n",
    "\n",
    "test_transactions = pd.read_csv(\"./data/test_transaction.csv\")[0:500]\n",
    "test_transactions = model_preprocessor.transform(test_transactions)\n",
    "result = model_runner.predict_proba.run(test_transactions)\n",
    "np.argmax(result, axis=1)"
   ]
  },
  {
   "cell_type": "code",
   "execution_count": null,
   "id": "5ba5780a",
   "metadata": {},
   "outputs": [],
   "source": [
    "# large model with 3000 gradient boosted trees and a maximum tree depth of 15\n",
    "model_lg = train(3000, 15)"
   ]
  },
  {
   "cell_type": "code",
   "execution_count": null,
   "id": "318d54cb",
   "metadata": {},
   "outputs": [],
   "source": [
    "import bentoml\n",
    "bentoml.xgboost.save_model(\n",
    "    \"ieee-fraud-detection-lg\",\n",
    "    model_lg,\n",
    "    signatures={\n",
    "        \"predict_proba\": {\"batchable\": True},\n",
    "    },\n",
    "    custom_objects={\n",
    "        \"preprocessor\": preprocessor\n",
    "    }\n",
    ")"
   ]
  },
  {
   "cell_type": "code",
   "execution_count": null,
   "id": "19380b77",
   "metadata": {},
   "outputs": [],
   "source": [
    "import bentoml\n",
    "import pandas as pd\n",
    "import numpy as np\n",
    "\n",
    "model_ref = bentoml.xgboost.get(\"ieee-fraud-detection-lg:latest\")\n",
    "model_runner = model_ref.to_runner()\n",
    "model_runner.init_local()\n",
    "model_preprocessor = model_ref.custom_objects['preprocessor']\n",
    "\n",
    "test_transactions = pd.read_csv(\"./data/test_transaction.csv\")[0:500]\n",
    "test_transactions = model_preprocessor.transform(test_transactions)\n",
    "result = model_runner.predict_proba.run(test_transactions)\n",
    "np.argmax(result, axis=1)"
   ]
  },
  {
   "cell_type": "code",
   "execution_count": null,
   "id": "959d20ed",
   "metadata": {},
   "outputs": [],
   "source": []
  },
  {
   "cell_type": "code",
   "execution_count": null,
   "id": "6e86102e",
   "metadata": {},
   "outputs": [],
   "source": []
  }
 ],
 "metadata": {
  "kernelspec": {
   "display_name": "Python 3 (ipykernel)",
   "language": "python",
   "name": "python3"
  },
  "language_info": {
   "codemirror_mode": {
    "name": "ipython",
    "version": 3
   },
   "file_extension": ".py",
   "mimetype": "text/x-python",
   "name": "python",
   "nbconvert_exporter": "python",
   "pygments_lexer": "ipython3",
   "version": "3.8.12"
  }
 },
 "nbformat": 4,
 "nbformat_minor": 5
}
