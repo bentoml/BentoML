{
 "cells": [
  {
   "cell_type": "code",
   "execution_count": null,
   "metadata": {},
   "outputs": [],
   "source": [
    "# Import local bentoml repository\n",
    "import sys\n",
    "import os\n",
    "sys.path.insert(0, os.path.join(os.getcwd(), \"..\", \"..\"))\n",
    "import bentoml\n",
    "\n",
    "print(bentoml.__file__)"
   ]
  },
  {
   "cell_type": "markdown",
   "metadata": {},
   "source": [
    "# Titanic Survival Prediction.\n",
    "\n",
    "Package and deploy with BentoML"
   ]
  },
  {
   "cell_type": "code",
   "execution_count": null,
   "metadata": {},
   "outputs": [],
   "source": [
    "import pandas as pd\n",
    "import numpy as np\n",
    "import xgboost as xgb\n",
    "import re"
   ]
  },
  {
   "cell_type": "markdown",
   "metadata": {},
   "source": [
    "## Dataset\n",
    "download dataset from https://www.kaggle.com/c/titanic/data"
   ]
  },
  {
   "cell_type": "code",
   "execution_count": null,
   "metadata": {},
   "outputs": [],
   "source": [
    "!mkdir data\n",
    "!curl https://raw.githubusercontent.com/agconti/kaggle-titanic/master/data/train.csv -o ./data/train.csv\n",
    "!curl https://raw.githubusercontent.com/agconti/kaggle-titanic/master/data/test.csv -o ./data/test.csv"
   ]
  },
  {
   "cell_type": "code",
   "execution_count": null,
   "metadata": {},
   "outputs": [],
   "source": [
    "train = pd.read_csv(\"./data/train.csv\")\n",
    "test  = pd.read_csv(\"./data/test.csv\")\n",
    "X_y_train = xgb.DMatrix(data=train[['Pclass', 'Age', 'Fare', 'SibSp', 'Parch']], label= train['Survived'])\n",
    "X_test    = xgb.DMatrix(data=test[['Pclass', 'Age', 'Fare', 'SibSp', 'Parch']])"
   ]
  },
  {
   "cell_type": "code",
   "execution_count": null,
   "metadata": {},
   "outputs": [],
   "source": [
    "train[['Pclass', 'Age', 'Fare', 'SibSp', 'Parch', 'Survived']].head()\n"
   ]
  },
  {
   "cell_type": "code",
   "execution_count": null,
   "metadata": {},
   "outputs": [],
   "source": [
    "params = {\n",
    "          'base_score': np.mean(train['Survived']),\n",
    "          'eta':  0.1,\n",
    "          'max_depth': 3,\n",
    "          'gamma' :3,\n",
    "          'objective'   :'reg:linear',\n",
    "          'eval_metric' :'mae'\n",
    "         }\n",
    "model = xgb.train(params=params, \n",
    "                  dtrain=X_y_train, \n",
    "                  num_boost_round=3)"
   ]
  },
  {
   "cell_type": "code",
   "execution_count": null,
   "metadata": {},
   "outputs": [],
   "source": [
    "model.get_dump()"
   ]
  },
  {
   "cell_type": "code",
   "execution_count": null,
   "metadata": {},
   "outputs": [],
   "source": [
    "\n",
    "y_test=  model.predict(X_test)   \n",
    "test['pred'] = y_test\n",
    "test[['Pclass', 'Age', 'Fare', 'SibSp', 'Parch','pred']].iloc[10:].head(2)\n"
   ]
  },
  {
   "cell_type": "markdown",
   "metadata": {},
   "source": [
    "# Export model for production with BentoML"
   ]
  },
  {
   "cell_type": "code",
   "execution_count": null,
   "metadata": {},
   "outputs": [],
   "source": [
    "%%writefile xgboost_titanic_model.py\n",
    "import xgboost as xgb\n",
    "\n",
    "\n",
    "import bentoml\n",
    "from bentoml.artifact import XgboostModelArtifact\n",
    "from bentoml.handlers import DataframeHandler\n",
    "\n",
    "@bentoml.artifacts([XgboostModelArtifact('model')])\n",
    "@bentoml.env(conda_dependencies=['xgboost', 'pandas'])\n",
    "class TitanicModel(bentoml.BentoService):\n",
    "    \n",
    "    @bentoml.api(DataframeHandler)\n",
    "    def predict(self, df):\n",
    "        data = xgb.DMatrix(data=df[['Pclass', 'Age', 'Fare', 'SibSp', 'Parch']])\n",
    "        return self.artifacts.model.predict(data)"
   ]
  },
  {
   "cell_type": "code",
   "execution_count": null,
   "metadata": {},
   "outputs": [],
   "source": [
    "from xgboost_titanic_model import TitanicModel\n",
    "\n",
    "bento_model = TitanicModel.pack(\n",
    "    model = model\n",
    ")\n",
    "\n",
    "# Save bento model to a directory\n",
    "saved_path = bento_model.save('/tmp/bento')\n",
    "\n",
    "print(saved_path)"
   ]
  },
  {
   "cell_type": "markdown",
   "metadata": {},
   "source": [
    "# Load model from archive"
   ]
  },
  {
   "cell_type": "code",
   "execution_count": null,
   "metadata": {},
   "outputs": [],
   "source": [
    "import bentoml\n",
    "\n",
    "bento_model = bentoml.load(saved_path)\n",
    "\n",
    "result = bento_model.predict(test)\n",
    "test['pred'] = result\n",
    "test[['Pclass', 'Age', 'Fare', 'SibSp', 'Parch','pred']].iloc[10:].head(2)"
   ]
  },
  {
   "cell_type": "markdown",
   "metadata": {},
   "source": [
    "# Run as Rest API server"
   ]
  },
  {
   "cell_type": "markdown",
   "metadata": {},
   "source": [
    "##### * For demo purpurse, copy generated model to ./model folder"
   ]
  },
  {
   "cell_type": "code",
   "execution_count": null,
   "metadata": {},
   "outputs": [],
   "source": [
    "import os\n",
    "import shutil\n",
    "shutil.rmtree('./model', ignore_errors=True)\n",
    "shutil.copytree(saved_path, './model')"
   ]
  },
  {
   "cell_type": "code",
   "execution_count": null,
   "metadata": {},
   "outputs": [
    {
     "name": "stdout",
     "output_type": "stream",
     "text": [
      "[2019-04-23 15:33:44,892] ERROR in app: Exception on /predict [POST]\n",
      "Traceback (most recent call last):\n",
      "  File \"/usr/local/anaconda3/envs/dev-py3/lib/python3.7/site-packages/flask/app.py\", line 2292, in wsgi_app\n",
      "    response = self.full_dispatch_request()\n",
      "    \u001b[36m           └ <Flask 'TitanicModel'>\u001b[m\n",
      "  File \"/usr/local/anaconda3/envs/dev-py3/lib/python3.7/site-packages/flask/app.py\", line 1815, in full_dispatch_request\n",
      "    rv = self.handle_user_exception(e)\n",
      "    \u001b[36m│    └ <Flask 'TitanicModel'>\u001b[m\n",
      "    \u001b[36m└ None\u001b[m\n",
      "  File \"/usr/local/anaconda3/envs/dev-py3/lib/python3.7/site-packages/flask/app.py\", line 1718, in handle_user_exception\n",
      "    reraise(exc_type, exc_value, tb)\n",
      "    \u001b[36m│       │         │          └ <traceback object at 0x1131ec6c8>\u001b[m\n",
      "    \u001b[36m│       │         └ KeyError(\"None of [Index(['Pclass', 'Age', 'Fare', 'SibSp', 'Parch'], dtype='object')] are in the [columns]\")\u001b[m\n",
      "    \u001b[36m│       └ <class 'KeyError'>\u001b[m\n",
      "    \u001b[36m└ <function reraise at 0x10ffc1950>\u001b[m\n",
      "  File \"/usr/local/anaconda3/envs/dev-py3/lib/python3.7/site-packages/flask/_compat.py\", line 35, in reraise\n",
      "    \u001b[33;1mraise\u001b[m value\n",
      "    \u001b[36m      └ KeyError(\"None of [Index(['Pclass', 'Age', 'Fare', 'SibSp', 'Parch'], dtype='object')] are in the [columns]\")\u001b[m\n",
      "  File \"/usr/local/anaconda3/envs/dev-py3/lib/python3.7/site-packages/flask/app.py\", line 1813, in full_dispatch_request\n",
      "    rv = self.dispatch_request()\n",
      "    \u001b[36m│    └ <Flask 'TitanicModel'>\u001b[m\n",
      "    \u001b[36m└ None\u001b[m\n",
      "  File \"/usr/local/anaconda3/envs/dev-py3/lib/python3.7/site-packages/flask/app.py\", line 1799, in dispatch_request\n",
      "    \u001b[33;1mreturn\u001b[m self.view_functions[rule.endpoint](**req.view_args)\n",
      "    \u001b[36m       │                   │                └ <Request 'http://localhost:5000/predict' [POST]>\u001b[m\n",
      "    \u001b[36m       │                   └ <Rule '/predict' (POST, HEAD, GET, OPTIONS) -> predict>\u001b[m\n",
      "    \u001b[36m       └ <Flask 'TitanicModel'>\u001b[m\n",
      "  File \"/usr/local/anaconda3/envs/dev-py3/lib/python3.7/site-packages/bentoml/server/bento_api_server.py\", line 104, in wrapper\n",
      "    response = api.handle_request(request)\n",
      "    \u001b[36m           │                  └ <Request 'http://localhost:5000/predict' [POST]>\u001b[m\n",
      "    \u001b[36m           └ <bentoml.service.BentoServiceAPI object at 0x112dd2b00>\u001b[m\n",
      "  File \"/usr/local/anaconda3/envs/dev-py3/lib/python3.7/site-packages/bentoml/service.py\", line 85, in handle_request\n",
      "    \u001b[33;1mreturn\u001b[m self.handler.handle_request(request, self.func)\n",
      "    \u001b[36m       │                           │        └ <bentoml.service.BentoServiceAPI object at 0x112dd2b00>\u001b[m\n",
      "    \u001b[36m       │                           └ <Request 'http://localhost:5000/predict' [POST]>\u001b[m\n",
      "    \u001b[36m       └ <bentoml.service.BentoServiceAPI object at 0x112dd2b00>\u001b[m\n",
      "  File \"/usr/local/anaconda3/envs/dev-py3/lib/python3.7/site-packages/bentoml/handlers/dataframe_handler.py\", line 65, in handle_request\n",
      "    output = func(df)\n",
      "    \u001b[36m         │    └                0\n",
      "0  some new text\n",
      "1  sweet noodles\n",
      "2     happy time\n",
      "3        sad day\u001b[m\n",
      "    \u001b[36m         └ <bound method TitanicModel.predict of <xgboost_titanic_model.TitanicModel object at 0x110757f98>>\u001b[m\n",
      "  File \"./model/TitanicModel/xgboost_titanic_model.py\", line 14, in predict\n",
      "    data = xgb.DMatrix(data=df[[\u001b[31m'Pclass'\u001b[m, \u001b[31m'Age'\u001b[m, \u001b[31m'Fare'\u001b[m, \u001b[31m'SibSp'\u001b[m, \u001b[31m'Parch'\u001b[m]])\n",
      "    \u001b[36m       │                └                0\n",
      "0  some new text\n",
      "1  sweet noodles\n",
      "2     happy time\n",
      "3        sad day\u001b[m\n",
      "    \u001b[36m       └ <module 'xgboost' from '/usr/local/anaconda3/envs/dev-py3/lib/python3.7/site-packages/xgboost/__init__.py'>\u001b[m\n",
      "  File \"/usr/local/anaconda3/envs/dev-py3/lib/python3.7/site-packages/pandas/core/frame.py\", line 2934, in __getitem__\n",
      "    raise_missing=True)\n",
      "  File \"/usr/local/anaconda3/envs/dev-py3/lib/python3.7/site-packages/pandas/core/indexing.py\", line 1354, in _convert_to_indexer\n",
      "    \u001b[33;1mreturn\u001b[m self._get_listlike_indexer(obj, axis, **kwargs)[\u001b[31m1\u001b[m]\n",
      "    \u001b[36m       │                          │    │       └ {'raise_missing': True}\u001b[m\n",
      "    \u001b[36m       │                          │    └ 1\u001b[m\n",
      "    \u001b[36m       │                          └ ['Pclass', 'Age', 'Fare', 'SibSp', 'Parch']\u001b[m\n",
      "    \u001b[36m       └ <pandas.core.indexing._LocIndexer object at 0x1131a7e58>\u001b[m\n",
      "  File \"/usr/local/anaconda3/envs/dev-py3/lib/python3.7/site-packages/pandas/core/indexing.py\", line 1161, in _get_listlike_indexer\n",
      "    raise_missing=raise_missing)\n",
      "  File \"/usr/local/anaconda3/envs/dev-py3/lib/python3.7/site-packages/pandas/core/indexing.py\", line 1246, in _validate_read_indexer\n",
      "    key=key, axis=self.obj._get_axis_name(axis)))\n",
      "KeyError: \"None of [Index(['Pclass', 'Age', 'Fare', 'SibSp', 'Parch'], dtype='object')] are in the [columns]\"\n",
      "\n",
      "127.0.0.1 - - [23/Apr/2019 15:33:44] \"\u001b[1m\u001b[35mPOST /predict HTTP/1.1\u001b[0m\" 500 -\n",
      "[2019-04-23 15:34:02,158] ERROR in app: Exception on /predict [POST]\n",
      "Traceback (most recent call last):\n",
      "  File \"/usr/local/anaconda3/envs/dev-py3/lib/python3.7/site-packages/flask/app.py\", line 2292, in wsgi_app\n",
      "    response = self.full_dispatch_request()\n",
      "    \u001b[36m           └ <Flask 'TitanicModel'>\u001b[m\n",
      "  File \"/usr/local/anaconda3/envs/dev-py3/lib/python3.7/site-packages/flask/app.py\", line 1815, in full_dispatch_request\n",
      "    rv = self.handle_user_exception(e)\n",
      "    \u001b[36m│    └ <Flask 'TitanicModel'>\u001b[m\n",
      "    \u001b[36m└ None\u001b[m\n",
      "  File \"/usr/local/anaconda3/envs/dev-py3/lib/python3.7/site-packages/flask/app.py\", line 1718, in handle_user_exception\n",
      "    reraise(exc_type, exc_value, tb)\n",
      "    \u001b[36m│       │         │          └ <traceback object at 0x113241048>\u001b[m\n",
      "    \u001b[36m│       │         └ KeyError(\"None of [Index(['Pclass', 'Age', 'Fare', 'SibSp', 'Parch'], dtype='object')] are in the [columns]\")\u001b[m\n",
      "    \u001b[36m│       └ <class 'KeyError'>\u001b[m\n",
      "    \u001b[36m└ <function reraise at 0x10ffc1950>\u001b[m\n",
      "  File \"/usr/local/anaconda3/envs/dev-py3/lib/python3.7/site-packages/flask/_compat.py\", line 35, in reraise\n",
      "    \u001b[33;1mraise\u001b[m value\n",
      "    \u001b[36m      └ KeyError(\"None of [Index(['Pclass', 'Age', 'Fare', 'SibSp', 'Parch'], dtype='object')] are in the [columns]\")\u001b[m\n",
      "  File \"/usr/local/anaconda3/envs/dev-py3/lib/python3.7/site-packages/flask/app.py\", line 1813, in full_dispatch_request\n",
      "    rv = self.dispatch_request()\n",
      "    \u001b[36m│    └ <Flask 'TitanicModel'>\u001b[m\n",
      "    \u001b[36m└ None\u001b[m\n",
      "  File \"/usr/local/anaconda3/envs/dev-py3/lib/python3.7/site-packages/flask/app.py\", line 1799, in dispatch_request\n",
      "    \u001b[33;1mreturn\u001b[m self.view_functions[rule.endpoint](**req.view_args)\n",
      "    \u001b[36m       │                   │                └ <Request 'http://localhost:5000/predict' [POST]>\u001b[m\n",
      "    \u001b[36m       │                   └ <Rule '/predict' (POST, HEAD, GET, OPTIONS) -> predict>\u001b[m\n",
      "    \u001b[36m       └ <Flask 'TitanicModel'>\u001b[m\n",
      "  File \"/usr/local/anaconda3/envs/dev-py3/lib/python3.7/site-packages/bentoml/server/bento_api_server.py\", line 104, in wrapper\n",
      "    response = api.handle_request(request)\n",
      "    \u001b[36m           │                  └ <Request 'http://localhost:5000/predict' [POST]>\u001b[m\n",
      "    \u001b[36m           └ <bentoml.service.BentoServiceAPI object at 0x112dd2b00>\u001b[m\n",
      "  File \"/usr/local/anaconda3/envs/dev-py3/lib/python3.7/site-packages/bentoml/service.py\", line 85, in handle_request\n",
      "    \u001b[33;1mreturn\u001b[m self.handler.handle_request(request, self.func)\n",
      "    \u001b[36m       │                           │        └ <bentoml.service.BentoServiceAPI object at 0x112dd2b00>\u001b[m\n",
      "    \u001b[36m       │                           └ <Request 'http://localhost:5000/predict' [POST]>\u001b[m\n",
      "    \u001b[36m       └ <bentoml.service.BentoServiceAPI object at 0x112dd2b00>\u001b[m\n",
      "  File \"/usr/local/anaconda3/envs/dev-py3/lib/python3.7/site-packages/bentoml/handlers/dataframe_handler.py\", line 65, in handle_request\n",
      "    output = func(df)\n",
      "    \u001b[36m         │    └                0\n",
      "0  some new text\n",
      "1  sweet noodles\n",
      "2     happy time\n",
      "3        sad day\u001b[m\n",
      "    \u001b[36m         └ <bound method TitanicModel.predict of <xgboost_titanic_model.TitanicModel object at 0x110757f98>>\u001b[m\n",
      "  File \"./model/TitanicModel/xgboost_titanic_model.py\", line 14, in predict\n",
      "    data = xgb.DMatrix(data=df[[\u001b[31m'Pclass'\u001b[m, \u001b[31m'Age'\u001b[m, \u001b[31m'Fare'\u001b[m, \u001b[31m'SibSp'\u001b[m, \u001b[31m'Parch'\u001b[m]])\n",
      "    \u001b[36m       │                └                0\n",
      "0  some new text\n",
      "1  sweet noodles\n",
      "2     happy time\n",
      "3        sad day\u001b[m\n",
      "    \u001b[36m       └ <module 'xgboost' from '/usr/local/anaconda3/envs/dev-py3/lib/python3.7/site-packages/xgboost/__init__.py'>\u001b[m\n",
      "  File \"/usr/local/anaconda3/envs/dev-py3/lib/python3.7/site-packages/pandas/core/frame.py\", line 2934, in __getitem__\n",
      "    raise_missing=True)\n",
      "  File \"/usr/local/anaconda3/envs/dev-py3/lib/python3.7/site-packages/pandas/core/indexing.py\", line 1354, in _convert_to_indexer\n",
      "    \u001b[33;1mreturn\u001b[m self._get_listlike_indexer(obj, axis, **kwargs)[\u001b[31m1\u001b[m]\n",
      "    \u001b[36m       │                          │    │       └ {'raise_missing': True}\u001b[m\n",
      "    \u001b[36m       │                          │    └ 1\u001b[m\n",
      "    \u001b[36m       │                          └ ['Pclass', 'Age', 'Fare', 'SibSp', 'Parch']\u001b[m\n",
      "    \u001b[36m       └ <pandas.core.indexing._LocIndexer object at 0x11323d408>\u001b[m\n",
      "  File \"/usr/local/anaconda3/envs/dev-py3/lib/python3.7/site-packages/pandas/core/indexing.py\", line 1161, in _get_listlike_indexer\n",
      "    raise_missing=raise_missing)\n",
      "  File \"/usr/local/anaconda3/envs/dev-py3/lib/python3.7/site-packages/pandas/core/indexing.py\", line 1246, in _validate_read_indexer\n",
      "    key=key, axis=self.obj._get_axis_name(axis)))\n",
      "KeyError: \"None of [Index(['Pclass', 'Age', 'Fare', 'SibSp', 'Parch'], dtype='object')] are in the [columns]\"\n",
      "\n",
      "127.0.0.1 - - [23/Apr/2019 15:34:02] \"\u001b[1m\u001b[35mPOST /predict HTTP/1.1\u001b[0m\" 500 -\n"
     ]
    },
    {
     "name": "stdout",
     "output_type": "stream",
     "text": [
      "[2019-04-23 15:35:01,699] ERROR in app: Exception on /predict [POST]\r\n",
      "Traceback (most recent call last):\r\n",
      "  File \"/usr/local/anaconda3/envs/dev-py3/lib/python3.7/site-packages/flask/app.py\", line 2292, in wsgi_app\r\n",
      "    response = self.full_dispatch_request()\r\n",
      "    \u001b[36m           └ <Flask 'TitanicModel'>\u001b[m\r\n",
      "  File \"/usr/local/anaconda3/envs/dev-py3/lib/python3.7/site-packages/flask/app.py\", line 1815, in full_dispatch_request\r\n",
      "    rv = self.handle_user_exception(e)\r\n",
      "    \u001b[36m│    └ <Flask 'TitanicModel'>\u001b[m\r\n",
      "    \u001b[36m└ None\u001b[m\r\n",
      "  File \"/usr/local/anaconda3/envs/dev-py3/lib/python3.7/site-packages/flask/app.py\", line 1718, in handle_user_exception\r\n",
      "    reraise(exc_type, exc_value, tb)\r\n",
      "    \u001b[36m│       │         │          └ <traceback object at 0x11324a248>\u001b[m\r\n",
      "    \u001b[36m│       │         └ KeyError(\"None of [Index(['Pclass', 'Age', 'Fare', 'SibSp', 'Parch'], dtype='object')] are in the [columns]\")\u001b[m\r\n",
      "    \u001b[36m│       └ <class 'KeyError'>\u001b[m\r\n",
      "    \u001b[36m└ <function reraise at 0x10ffc1950>\u001b[m\r\n",
      "  File \"/usr/local/anaconda3/envs/dev-py3/lib/python3.7/site-packages/flask/_compat.py\", line 35, in reraise\r\n",
      "    \u001b[33;1mraise\u001b[m value\r\n",
      "    \u001b[36m      └ KeyError(\"None of [Index(['Pclass', 'Age', 'Fare', 'SibSp', 'Parch'], dtype='object')] are in the [columns]\")\u001b[m\r\n",
      "  File \"/usr/local/anaconda3/envs/dev-py3/lib/python3.7/site-packages/flask/app.py\", line 1813, in full_dispatch_request\r\n",
      "    rv = self.dispatch_request()\r\n",
      "    \u001b[36m│    └ <Flask 'TitanicModel'>\u001b[m\r\n",
      "    \u001b[36m└ None\u001b[m\r\n",
      "  File \"/usr/local/anaconda3/envs/dev-py3/lib/python3.7/site-packages/flask/app.py\", line 1799, in dispatch_request\r\n",
      "    \u001b[33;1mreturn\u001b[m self.view_functions[rule.endpoint](**req.view_args)\r\n",
      "    \u001b[36m       │                   │                └ <Request 'http://localhost:5000/predict' [POST]>\u001b[m\r\n",
      "    \u001b[36m       │                   └ <Rule '/predict' (POST, HEAD, GET, OPTIONS) -> predict>\u001b[m\r\n",
      "    \u001b[36m       └ <Flask 'TitanicModel'>\u001b[m\r\n",
      "  File \"/usr/local/anaconda3/envs/dev-py3/lib/python3.7/site-packages/bentoml/server/bento_api_server.py\", line 104, in wrapper\r\n",
      "    response = api.handle_request(request)\r\n",
      "    \u001b[36m           │                  └ <Request 'http://localhost:5000/predict' [POST]>\u001b[m\r\n",
      "    \u001b[36m           └ <bentoml.service.BentoServiceAPI object at 0x112dd2b00>\u001b[m\r\n",
      "  File \"/usr/local/anaconda3/envs/dev-py3/lib/python3.7/site-packages/bentoml/service.py\", line 85, in handle_request\r\n",
      "    \u001b[33;1mreturn\u001b[m self.handler.handle_request(request, self.func)\r\n",
      "    \u001b[36m       │                           │        └ <bentoml.service.BentoServiceAPI object at 0x112dd2b00>\u001b[m\r\n",
      "    \u001b[36m       │                           └ <Request 'http://localhost:5000/predict' [POST]>\u001b[m\r\n",
      "    \u001b[36m       └ <bentoml.service.BentoServiceAPI object at 0x112dd2b00>\u001b[m\r\n",
      "  File \"/usr/local/anaconda3/envs/dev-py3/lib/python3.7/site-packages/bentoml/handlers/dataframe_handler.py\", line 65, in handle_request\r\n",
      "    output = func(df)\r\n",
      "    \u001b[36m         │    └                0\r\n",
      "0  some new text\r\n",
      "1  sweet noodles\r\n",
      "2     happy time\r\n",
      "3        sad day\u001b[m\r\n",
      "    \u001b[36m         └ <bound method TitanicModel.predict of <xgboost_titanic_model.TitanicModel object at 0x110757f98>>\u001b[m\r\n",
      "  File \"./model/TitanicModel/xgboost_titanic_model.py\", line 14, in predict\r\n",
      "    data = xgb.DMatrix(data=df[[\u001b[31m'Pclass'\u001b[m, \u001b[31m'Age'\u001b[m, \u001b[31m'Fare'\u001b[m, \u001b[31m'SibSp'\u001b[m, \u001b[31m'Parch'\u001b[m]])\r\n",
      "    \u001b[36m       │                └                0\r\n",
      "0  some new text\r\n",
      "1  sweet noodles\r\n",
      "2     happy time\r\n",
      "3        sad day\u001b[m\r\n",
      "    \u001b[36m       └ <module 'xgboost' from '/usr/local/anaconda3/envs/dev-py3/lib/python3.7/site-packages/xgboost/__init__.py'>\u001b[m\r\n",
      "  File \"/usr/local/anaconda3/envs/dev-py3/lib/python3.7/site-packages/pandas/core/frame.py\", line 2934, in __getitem__\r\n",
      "    raise_missing=True)\r\n",
      "  File \"/usr/local/anaconda3/envs/dev-py3/lib/python3.7/site-packages/pandas/core/indexing.py\", line 1354, in _convert_to_indexer\r\n",
      "    \u001b[33;1mreturn\u001b[m self._get_listlike_indexer(obj, axis, **kwargs)[\u001b[31m1\u001b[m]\r\n",
      "    \u001b[36m       │                          │    │       └ {'raise_missing': True}\u001b[m\r\n",
      "    \u001b[36m       │                          │    └ 1\u001b[m\r\n",
      "    \u001b[36m       │                          └ ['Pclass', 'Age', 'Fare', 'SibSp', 'Parch']\u001b[m\r\n",
      "    \u001b[36m       └ <pandas.core.indexing._LocIndexer object at 0x113247048>\u001b[m\r\n",
      "  File \"/usr/local/anaconda3/envs/dev-py3/lib/python3.7/site-packages/pandas/core/indexing.py\", line 1161, in _get_listlike_indexer\r\n",
      "    raise_missing=raise_missing)\r\n",
      "  File \"/usr/local/anaconda3/envs/dev-py3/lib/python3.7/site-packages/pandas/core/indexing.py\", line 1246, in _validate_read_indexer\r\n",
      "    key=key, axis=self.obj._get_axis_name(axis)))\r\n",
      "KeyError: \"None of [Index(['Pclass', 'Age', 'Fare', 'SibSp', 'Parch'], dtype='object')] are in the [columns]\"\r\n",
      "\r\n",
      "127.0.0.1 - - [23/Apr/2019 15:35:01] \"\u001b[1m\u001b[35mPOST /predict HTTP/1.1\u001b[0m\" 500 -\r\n"
     ]
    }
   ],
   "source": [
    "!bentoml serve ./model"
   ]
  },
  {
   "cell_type": "markdown",
   "metadata": {},
   "source": [
    "Copy following command to make a curl request to Rest API server\n",
    "\n",
    "```bash\n",
    "curl -i \\\n",
    "--header \"Content-Type: application/json\" \\\n",
    "--request POST \\\n",
    "--data '[{\"Pclass\": 1, \"Age\": 30, \"Fare\": 200, \"SibSp\": 1, \"Parch\": 0}]' \\\n",
    "localhost:5000/predict\n",
    "```"
   ]
  },
  {
   "cell_type": "code",
   "execution_count": null,
   "metadata": {},
   "outputs": [],
   "source": []
  }
 ],
 "metadata": {
  "kernelspec": {
   "display_name": "Python 3",
   "language": "python",
   "name": "python3"
  },
  "language_info": {
   "codemirror_mode": {
    "name": "ipython",
    "version": 3
   },
   "file_extension": ".py",
   "mimetype": "text/x-python",
   "name": "python",
   "nbconvert_exporter": "python",
   "pygments_lexer": "ipython3",
   "version": "3.7.2"
  }
 },
 "nbformat": 4,
 "nbformat_minor": 2
}
