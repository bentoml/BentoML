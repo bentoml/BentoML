{
 "cells": [
  {
   "cell_type": "markdown",
   "metadata": {},
   "source": [
    "# Getting Started with BentoML\n",
    "\n",
    "[BentoML](http://bentoml.ai) is an open-source platform for __machine learning model serving__.\n",
    "\n",
    "What does BentoML do?\n",
    "\n",
    "* Turn your ML model into production API endpoint with just a few lines of code\n",
    "* Support all major machine learning training frameworks\n",
    "* High performance API serving system with adaptive micro-batching support\n",
    "* DevOps best practices baked in, simplify the transition from model development to production\n",
    "* Model management for teams, providing CLI and Web UI dashboard\n",
    "* Flexible model deployment orchestration with support for AWS Lambda, SageMaker, EC2, Docker, Kubernetes, KNative and more\n",
    "\n",
    "This is a quick tutorial on how to use BentoML to serve a sklearn modeld via a REST API server and deploy it to [AWS Lambda](https://aws.amazon.com/lambda/) as a serverless endpoint.\n",
    "\n",
    "![Impression](https://www.google-analytics.com/collect?v=1&tid=UA-112879361-3&cid=555&t=event&ec=guides&ea=bentoml-quick-start-guide&dt=bentoml-quick-start-guide)"
   ]
  },
  {
   "cell_type": "code",
   "execution_count": 1,
   "metadata": {},
   "outputs": [],
   "source": [
    "%reload_ext autoreload\n",
    "%autoreload 2\n",
    "%matplotlib inline"
   ]
  },
  {
   "cell_type": "markdown",
   "metadata": {},
   "source": [
    "BentoML requires python 3.6 or above, install via `pip`:"
   ]
  },
  {
   "cell_type": "code",
   "execution_count": null,
   "metadata": {},
   "outputs": [],
   "source": [
    "# Install BentoML\n",
    "!pip install bentoml\n",
    "\n",
    "# Also install scikit-learn, we will use a sklean model as an example\n",
    "!pip install pandas sklearn"
   ]
  },
  {
   "cell_type": "markdown",
   "metadata": {},
   "source": [
    "## Creating a Prediction Service with BentoML\n",
    "\n",
    "\n",
    "A minimal prediction service in BentoML looks something like this:"
   ]
  },
  {
   "cell_type": "code",
   "execution_count": 3,
   "metadata": {},
   "outputs": [
    {
     "name": "stdout",
     "output_type": "stream",
     "text": [
      "Overwriting iris_classifier.py\n"
     ]
    }
   ],
   "source": [
    "%%writefile iris_classifier.py\n",
    "from bentoml import BentoService, api, env, artifacts\n",
    "from bentoml.artifact import SklearnModelArtifact\n",
    "from bentoml.handlers import DataframeHandler\n",
    "\n",
    "@artifacts([SklearnModelArtifact('model')])\n",
    "@env(auto_pip_dependencies=True)\n",
    "class IrisClassifier(BentoService):\n",
    "\n",
    "    @api(DataframeHandler)\n",
    "    def predict(self, df):\n",
    "        return self.artifacts.model.predict(df)"
   ]
  },
  {
   "cell_type": "markdown",
   "metadata": {},
   "source": [
    "The `bentoml.api` decorator defines a service API, which is the entry point for sending prediction request. The function being decorated is user defined code for processing prediction requests. Lastly the `DataframeHandler` here tells BentoML that this service API is expecting `pandas.DataFrame` object as its input format.\n",
    "\n",
    "The `bentoml.env` decorator allows specifying the dependencies and environment settings for this prediction service. Here we are using BentoML's `auto_pip_dependencies` fature which automatically extracts and bundles all pip packages that are required for your prediction service and pins down their version.\n",
    "\n",
    "\n",
    "Lastly `bentoml.artifact` defines the required trained models to be\n",
    "bundled with this prediction service. Here it is using the built-in `SklearnModelArtifact` and simply naming it 'model'. BentoML also provide model artifact classes for other frameworks such as `PytorchModelArtifact`, `KerasModelArtifact`, `FastaiModelArtifact`, and `XgboostModelArtifact` etc.\n",
    "\n",
    "\n",
    "## Creating a BentoService saved bundle\n",
    "\n",
    "No thing needs to be changed in your regular model training and evaluation code:"
   ]
  },
  {
   "cell_type": "code",
   "execution_count": 4,
   "metadata": {},
   "outputs": [
    {
     "data": {
      "text/plain": [
       "SVC(C=1.0, break_ties=False, cache_size=200, class_weight=None, coef0=0.0,\n",
       "    decision_function_shape='ovr', degree=3, gamma='scale', kernel='rbf',\n",
       "    max_iter=-1, probability=False, random_state=None, shrinking=True,\n",
       "    tol=0.001, verbose=False)"
      ]
     },
     "execution_count": 4,
     "metadata": {},
     "output_type": "execute_result"
    }
   ],
   "source": [
    "from sklearn import svm\n",
    "from sklearn import datasets\n",
    "\n",
    "# Load training data\n",
    "iris = datasets.load_iris()\n",
    "X, y = iris.data, iris.target\n",
    "\n",
    "# Model Training\n",
    "clf = svm.SVC(gamma='scale')\n",
    "clf.fit(X, y)"
   ]
  },
  {
   "cell_type": "markdown",
   "metadata": {},
   "source": [
    "Following by the model training code, use the IrisClassifier BentoService class defined above to package this model for serving:"
   ]
  },
  {
   "cell_type": "code",
   "execution_count": 5,
   "metadata": {},
   "outputs": [
    {
     "name": "stdout",
     "output_type": "stream",
     "text": [
      "[2020-04-03 01:53:17,971] INFO - BentoService bundle 'IrisClassifier:20200403015304_3FC8C9' saved to: /Users/chaoyu/bentoml/repository/IrisClassifier/20200403015304_3FC8C9\n",
      "saved_path: /Users/chaoyu/bentoml/repository/IrisClassifier/20200403015304_3FC8C9\n",
      "version: 20200403015304_3FC8C9\n"
     ]
    }
   ],
   "source": [
    "# import the custom BentoService defined above\n",
    "from iris_classifier import IrisClassifier\n",
    "\n",
    "# Create a iris classifier service instance\n",
    "svc = IrisClassifier()\n",
    "\n",
    "# Pack the newly trained model artifact\n",
    "svc.pack('model', clf)\n",
    "\n",
    "# save BentoSerivce to a BentoML bundle\n",
    "saved_path = svc.save()\n",
    "print(\"saved_path:\", saved_path)\n",
    "\n",
    "# Check the auto-generated service version\n",
    "# Which can also be set manually with svc.set_version() before `save`\n",
    "print(\"version:\", svc.version)"
   ]
  },
  {
   "cell_type": "markdown",
   "metadata": {},
   "source": [
    "_That's it._ You've just created a BentoService SavedBundle, it's a versioned file archive that is\n",
    "ready for production deployment. It contains the BentoService class you defined, all its\n",
    "python code dependencies and PyPI dependencies, and the trained scikit-learn model. By\n",
    "default, BentoML saves those files and related metadata under `~/bentoml` directory, but \n",
    "this is easily customizable to a different directory or cloud storage like\n",
    "[Amazon S3](https://aws.amazon.com/s3/)."
   ]
  },
  {
   "cell_type": "markdown",
   "metadata": {},
   "source": [
    "## Model Serving via REST API\n",
    "\n",
    "From a BentoService SavedBundle, you can start a REST API server by providing the file path to the saved bundle:"
   ]
  },
  {
   "cell_type": "code",
   "execution_count": 6,
   "metadata": {
    "scrolled": false
   },
   "outputs": [
    {
     "name": "stdout",
     "output_type": "stream",
     "text": [
      "[2020-04-03 01:54:21,534] INFO - Getting latest version IrisClassifier:20200403015304_3FC8C9\n",
      " * Serving Flask app \"IrisClassifier\" (lazy loading)\n",
      " * Environment: production\n",
      "\u001b[31m   WARNING: This is a development server. Do not use it in a production deployment.\u001b[0m\n",
      "\u001b[2m   Use a production WSGI server instead.\u001b[0m\n",
      " * Debug mode: off\n",
      " * Running on http://127.0.0.1:5000/ (Press CTRL+C to quit)\n",
      "127.0.0.1 - - [03/Apr/2020 01:54:33] \"\u001b[37mPOST /predict HTTP/1.1\u001b[0m\" 200 -\n",
      "^C\n"
     ]
    }
   ],
   "source": [
    "# Note that REST API serving **does not work in Google Colab** due to unable to access Colab's VM\n",
    "!bentoml serve IrisClassifier:latest\n",
    "\n",
    "# Alternatively:\n",
    "#!bentoml serve {saved_path}"
   ]
  },
  {
   "cell_type": "markdown",
   "metadata": {},
   "source": [
    "#### View documentations for REST APIs\n",
    "\n",
    "The REST API server provides a simply web UI for you to test and debug. If you are running this command on your local machine, visit http://127.0.0.1:5000 in your browser and try out sending API request to the server."
   ]
  },
  {
   "cell_type": "markdown",
   "metadata": {},
   "source": [
    "![BentoML API Server Web UI Screenshot](https://raw.githubusercontent.com/bentoml/BentoML/master/guides/quick-start/bento-api-server-web-ui.png)"
   ]
  },
  {
   "cell_type": "markdown",
   "metadata": {},
   "source": [
    "#### Send prediction request to REST API server\n",
    "\n",
    "You can also send prediction request with `curl` from command line:\n",
    "\n",
    "```bash\n",
    "curl -i \\\n",
    "--header \"Content-Type: application/json\" \\\n",
    "--request POST \\\n",
    "--data '[[5.1, 3.5, 1.4, 0.2]]' \\\n",
    "localhost:5000/predict\n",
    "```\n",
    "\n",
    "Or with `python` and `request` library:\n",
    "```python\n",
    "import requests\n",
    "response = requests.post(\"http://127.0.0.1:5000/predict\", json=[[5.1, 3.5, 1.4, 0.2]])\n",
    "print(response.text)\n",
    "```\n",
    "\n",
    "\n",
    "\n",
    "## Containerize REST API server with Docker\n",
    "\n",
    "\n",
    "The BentoService SavedBundle is structured to work as a docker build context, that can\n",
    "be directed used to build a docker image for API server. Simply use it as the docker\n",
    "build context directory:\n",
    "\n",
    "Note that the `{saved_path}` in the following commands are referring to the returned value of `iris_classifier_service.save()`. It is the file path where the BentoService saved bundle is stored. You can also find it via `bentoml get IrisClassifier -o wide` command."
   ]
  },
  {
   "cell_type": "code",
   "execution_count": 9,
   "metadata": {},
   "outputs": [
    {
     "name": "stdout",
     "output_type": "stream",
     "text": [
      "Sending build context to Docker daemon  25.09kB\n",
      "Step 1/15 : FROM continuumio/miniconda3:4.7.12\n",
      " ---> 406f2b43ea59\n",
      "Step 2/15 : ENTRYPOINT [ \"/bin/bash\", \"-c\" ]\n",
      " ---> Using cache\n",
      " ---> a0c8b09d3f8f\n",
      "Step 3/15 : EXPOSE 5000\n",
      " ---> Using cache\n",
      " ---> 063ef48adef5\n",
      "Step 4/15 : RUN set -x      && apt-get update      && apt-get install --no-install-recommends --no-install-suggests -y libpq-dev build-essential      && rm -rf /var/lib/apt/lists/*\n",
      " ---> Using cache\n",
      " ---> 70e7d2f54f64\n",
      "Step 5/15 : RUN conda install pip numpy scipy       && pip install gunicorn\n",
      " ---> Using cache\n",
      " ---> 00d7e233a814\n",
      "Step 6/15 : COPY . /bento\n",
      " ---> 24ddf7248e41\n",
      "Step 7/15 : WORKDIR /bento\n",
      " ---> Running in b72ffab19803\n",
      "Removing intermediate container b72ffab19803\n",
      " ---> 1edf2ed7458b\n",
      "Step 8/15 : RUN if [ -f /bento/setup.sh ]; then /bin/bash -c /bento/setup.sh; fi\n",
      " ---> Running in d6f002b7748a\n",
      "Removing intermediate container d6f002b7748a\n",
      " ---> 6c6b7a80183f\n",
      "Step 9/15 : RUN conda env update -n base -f /bento/environment.yml\n",
      " ---> Running in 2d722aad9a48\n",
      "Collecting package metadata (repodata.json): ...working... done\n",
      "Solving environment: ...working... done\n",
      "\n",
      "Downloading and Extracting Packages\n",
      "python-3.7.5         | 32.2 MB   | ########## | 100% \n",
      "ca-certificates-2020 | 125 KB    | ########## | 100% \n",
      "pip-20.0.2           | 1.7 MB    | ########## | 100% \n",
      "certifi-2019.11.28   | 156 KB    | ########## | 100% \n",
      "openssl-1.1.1f       | 2.5 MB    | ########## | 100% \n",
      "sqlite-3.31.1        | 1.1 MB    | ########## | 100% \n",
      "Preparing transaction: ...working... done\n",
      "Verifying transaction: ...working... done\n",
      "Executing transaction: ...working... done\n",
      "\u001b[91m\n",
      "\n",
      "==> WARNING: A newer version of conda exists. <==\n",
      "  current version: 4.8.1\n",
      "  latest version: 4.8.3\n",
      "\n",
      "Please update conda by running\n",
      "\n",
      "    $ conda update -n base -c defaults conda\n",
      "\n",
      "\n",
      "\u001b[0m#\n",
      "# To activate this environment, use\n",
      "#\n",
      "#     $ conda activate base\n",
      "#\n",
      "# To deactivate an active environment, use\n",
      "#\n",
      "#     $ conda deactivate\n",
      "\n",
      "Removing intermediate container 2d722aad9a48\n",
      " ---> cf8d6e5187b3\n",
      "Step 10/15 : ARG PIP_TRUSTED_HOST\n",
      " ---> Running in 63c84c2e6c2b\n",
      "Removing intermediate container 63c84c2e6c2b\n",
      " ---> f8efe657b11b\n",
      "Step 11/15 : ARG PIP_INDEX_URL\n",
      " ---> Running in 8c3a161a38d2\n",
      "Removing intermediate container 8c3a161a38d2\n",
      " ---> ecb961605d1c\n",
      "Step 12/15 : RUN pip install -r /bento/requirements.txt\n",
      " ---> Running in 3562f653ca54\n",
      "Collecting bentoml==0.6.3\n",
      "  Downloading BentoML-0.6.3-py3-none-any.whl (544 kB)\n",
      "Collecting scikit-learn\n",
      "  Downloading scikit_learn-0.22.2.post1-cp37-cp37m-manylinux1_x86_64.whl (7.1 MB)\n",
      "Collecting grpcio\n",
      "  Downloading grpcio-1.27.2-cp37-cp37m-manylinux2010_x86_64.whl (2.7 MB)\n",
      "Collecting sqlalchemy>=1.3.0\n",
      "  Downloading SQLAlchemy-1.3.15.tar.gz (6.1 MB)\n",
      "  Installing build dependencies: started\n",
      "  Installing build dependencies: finished with status 'done'\n",
      "  Getting requirements to build wheel: started\n",
      "  Getting requirements to build wheel: finished with status 'done'\n",
      "    Preparing wheel metadata: started\n",
      "    Preparing wheel metadata: finished with status 'done'\n",
      "Collecting py-zipkin\n",
      "  Downloading py_zipkin-0.20.0-py2.py3-none-any.whl (52 kB)\n",
      "Collecting prometheus-client\n",
      "  Downloading prometheus_client-0.7.1.tar.gz (38 kB)\n",
      "Collecting python-dateutil<2.8.1,>=2.1\n",
      "  Downloading python_dateutil-2.8.0-py2.py3-none-any.whl (226 kB)\n",
      "Collecting configparser\n",
      "  Downloading configparser-5.0.0-py3-none-any.whl (22 kB)\n",
      "Collecting alembic\n",
      "  Downloading alembic-1.4.2.tar.gz (1.1 MB)\n",
      "  Installing build dependencies: started\n",
      "  Installing build dependencies: finished with status 'done'\n",
      "  Getting requirements to build wheel: started\n",
      "  Getting requirements to build wheel: finished with status 'done'\n",
      "    Preparing wheel metadata: started\n",
      "    Preparing wheel metadata: finished with status 'done'\n",
      "Collecting tabulate\n",
      "  Downloading tabulate-0.8.7-py3-none-any.whl (24 kB)\n",
      "Collecting ruamel.yaml>=0.15.0\n",
      "  Downloading ruamel.yaml-0.16.10-py2.py3-none-any.whl (111 kB)\n",
      "Collecting humanfriendly\n",
      "  Downloading humanfriendly-8.1-py2.py3-none-any.whl (83 kB)\n",
      "Requirement already satisfied: numpy in /opt/conda/lib/python3.7/site-packages (from bentoml==0.6.3->-r /bento/requirements.txt (line 1)) (1.18.1)\n",
      "Collecting cerberus\n",
      "  Downloading Cerberus-1.3.2.tar.gz (52 kB)\n",
      "Requirement already satisfied: gunicorn in /opt/conda/lib/python3.7/site-packages (from bentoml==0.6.3->-r /bento/requirements.txt (line 1)) (20.0.4)\n",
      "Collecting docker\n",
      "  Downloading docker-4.2.0-py2.py3-none-any.whl (143 kB)\n",
      "Collecting click>=7.0\n",
      "  Downloading click-7.1.1-py2.py3-none-any.whl (82 kB)\n",
      "Collecting sqlalchemy-utils\n",
      "  Downloading SQLAlchemy-Utils-0.36.3.tar.gz (128 kB)\n",
      "Collecting protobuf>=3.6.0\n",
      "  Downloading protobuf-3.11.3-cp37-cp37m-manylinux1_x86_64.whl (1.3 MB)\n",
      "Collecting flask\n",
      "  Downloading Flask-1.1.1-py2.py3-none-any.whl (94 kB)\n",
      "Collecting pandas\n",
      "  Downloading pandas-1.0.3-cp37-cp37m-manylinux1_x86_64.whl (10.0 MB)\n",
      "Collecting python-json-logger\n",
      "  Downloading python-json-logger-0.1.11.tar.gz (6.0 kB)\n",
      "Collecting packaging\n",
      "  Downloading packaging-20.3-py2.py3-none-any.whl (37 kB)\n",
      "Collecting aiohttp\n",
      "  Downloading aiohttp-3.6.2-cp37-cp37m-manylinux1_x86_64.whl (1.2 MB)\n",
      "Requirement already satisfied: requests in /opt/conda/lib/python3.7/site-packages (from bentoml==0.6.3->-r /bento/requirements.txt (line 1)) (2.22.0)\n",
      "Collecting boto3\n",
      "  Downloading boto3-1.12.35-py2.py3-none-any.whl (128 kB)\n",
      "Requirement already satisfied: scipy>=0.17.0 in /opt/conda/lib/python3.7/site-packages (from scikit-learn->-r /bento/requirements.txt (line 2)) (1.3.2)\n",
      "Collecting joblib>=0.11\n",
      "  Downloading joblib-0.14.1-py2.py3-none-any.whl (294 kB)\n",
      "Requirement already satisfied: six>=1.5.2 in /opt/conda/lib/python3.7/site-packages (from grpcio->bentoml==0.6.3->-r /bento/requirements.txt (line 1)) (1.12.0)\n",
      "Collecting thriftpy2>=0.4.0\n",
      "  Downloading thriftpy2-0.4.11.tar.gz (498 kB)\n",
      "Collecting Mako\n",
      "  Downloading Mako-1.1.2-py2.py3-none-any.whl (75 kB)\n",
      "Collecting python-editor>=0.3\n",
      "  Downloading python_editor-1.0.4-py3-none-any.whl (4.9 kB)\n",
      "Collecting ruamel.yaml.clib>=0.1.2; platform_python_implementation == \"CPython\" and python_version < \"3.9\"\n",
      "  Downloading ruamel.yaml.clib-0.2.0-cp37-cp37m-manylinux1_x86_64.whl (547 kB)\n",
      "Requirement already satisfied: setuptools in /opt/conda/lib/python3.7/site-packages (from cerberus->bentoml==0.6.3->-r /bento/requirements.txt (line 1)) (41.4.0)\n",
      "Collecting websocket-client>=0.32.0\n",
      "  Downloading websocket_client-0.57.0-py2.py3-none-any.whl (200 kB)\n",
      "Collecting Werkzeug>=0.15\n",
      "  Downloading Werkzeug-1.0.1-py2.py3-none-any.whl (298 kB)\n",
      "Collecting itsdangerous>=0.24\n",
      "  Downloading itsdangerous-1.1.0-py2.py3-none-any.whl (16 kB)\n",
      "Collecting Jinja2>=2.10.1\n",
      "  Downloading Jinja2-2.11.1-py2.py3-none-any.whl (126 kB)\n",
      "Collecting pytz>=2017.2\n",
      "  Downloading pytz-2019.3-py2.py3-none-any.whl (509 kB)\n",
      "Collecting pyparsing>=2.0.2\n",
      "  Downloading pyparsing-2.4.6-py2.py3-none-any.whl (67 kB)\n",
      "Collecting async-timeout<4.0,>=3.0\n",
      "  Downloading async_timeout-3.0.1-py3-none-any.whl (8.2 kB)\n",
      "Collecting attrs>=17.3.0\n",
      "  Downloading attrs-19.3.0-py2.py3-none-any.whl (39 kB)\n",
      "Requirement already satisfied: chardet<4.0,>=2.0 in /opt/conda/lib/python3.7/site-packages (from aiohttp->bentoml==0.6.3->-r /bento/requirements.txt (line 1)) (3.0.4)\n",
      "Collecting multidict<5.0,>=4.5\n",
      "  Downloading multidict-4.7.5-cp37-cp37m-manylinux1_x86_64.whl (149 kB)\n",
      "Collecting yarl<2.0,>=1.0\n",
      "  Downloading yarl-1.4.2-cp37-cp37m-manylinux1_x86_64.whl (256 kB)\n",
      "Requirement already satisfied: certifi>=2017.4.17 in /opt/conda/lib/python3.7/site-packages (from requests->bentoml==0.6.3->-r /bento/requirements.txt (line 1)) (2019.11.28)\n",
      "Requirement already satisfied: idna<2.9,>=2.5 in /opt/conda/lib/python3.7/site-packages (from requests->bentoml==0.6.3->-r /bento/requirements.txt (line 1)) (2.8)\n",
      "Requirement already satisfied: urllib3!=1.25.0,!=1.25.1,<1.26,>=1.21.1 in /opt/conda/lib/python3.7/site-packages (from requests->bentoml==0.6.3->-r /bento/requirements.txt (line 1)) (1.24.2)\n",
      "Collecting s3transfer<0.4.0,>=0.3.0\n",
      "  Downloading s3transfer-0.3.3-py2.py3-none-any.whl (69 kB)\n",
      "Collecting botocore<1.16.0,>=1.15.35\n",
      "  Downloading botocore-1.15.35-py2.py3-none-any.whl (6.1 MB)\n",
      "Collecting jmespath<1.0.0,>=0.7.1\n",
      "  Downloading jmespath-0.9.5-py2.py3-none-any.whl (24 kB)\n",
      "Collecting ply<4.0,>=3.4\n"
     ]
    },
    {
     "name": "stdout",
     "output_type": "stream",
     "text": [
      "  Downloading ply-3.11-py2.py3-none-any.whl (49 kB)\n",
      "Collecting MarkupSafe>=0.9.2\n",
      "  Downloading MarkupSafe-1.1.1-cp37-cp37m-manylinux1_x86_64.whl (27 kB)\n",
      "Collecting docutils<0.16,>=0.10\n",
      "  Downloading docutils-0.15.2-py3-none-any.whl (547 kB)\n",
      "Building wheels for collected packages: sqlalchemy, prometheus-client, alembic, cerberus, sqlalchemy-utils, python-json-logger, thriftpy2\n",
      "  Building wheel for sqlalchemy (PEP 517): started\n",
      "  Building wheel for sqlalchemy (PEP 517): finished with status 'done'\n",
      "  Created wheel for sqlalchemy: filename=SQLAlchemy-1.3.15-cp37-cp37m-linux_x86_64.whl size=1234858 sha256=e54e2f0838948013f73730ae598e065e5279fd17ea623b4dacffc47d6ff62839\n",
      "  Stored in directory: /root/.cache/pip/wheels/27/96/77/0695ac3b6ad6c91d607f9a19cfb45cdf416e5b564b77a64a9b\n",
      "  Building wheel for prometheus-client (setup.py): started\n",
      "  Building wheel for prometheus-client (setup.py): finished with status 'done'\n",
      "  Created wheel for prometheus-client: filename=prometheus_client-0.7.1-py3-none-any.whl size=41402 sha256=5260e7ba56706a16e618f65fc4be8808651c52f07c03dd506e43014dffd8c600\n",
      "  Stored in directory: /root/.cache/pip/wheels/30/0c/26/59ba285bf65dc79d195e9b25e2ddde4c61070422729b0cd914\n",
      "  Building wheel for alembic (PEP 517): started\n",
      "  Building wheel for alembic (PEP 517): finished with status 'done'\n",
      "  Created wheel for alembic: filename=alembic-1.4.2-py2.py3-none-any.whl size=159543 sha256=d751f933c363d9b6d565929b619f41f16b3f63c39c4cb4be115e07bd58ecb227\n",
      "  Stored in directory: /root/.cache/pip/wheels/4e/b5/00/f93fe1c90b3d501774e91e2e99987f49d16019e40e4bd3afc3\n",
      "  Building wheel for cerberus (setup.py): started\n",
      "  Building wheel for cerberus (setup.py): finished with status 'done'\n",
      "  Created wheel for cerberus: filename=Cerberus-1.3.2-py3-none-any.whl size=54335 sha256=8a53b794ba91416b3e2cd1a1761e579d2f35f258028f57301da2ab41a7d97d5b\n",
      "  Stored in directory: /root/.cache/pip/wheels/17/3a/0d/e2fc48cf85cb858f5e65f1baa36180ebb5dce6397c35c4cfcb\n",
      "  Building wheel for sqlalchemy-utils (setup.py): started\n",
      "  Building wheel for sqlalchemy-utils (setup.py): finished with status 'done'\n",
      "  Created wheel for sqlalchemy-utils: filename=SQLAlchemy_Utils-0.36.3-py2.py3-none-any.whl size=89207 sha256=33d659659f41a4b7d3b853d3d68a8a431f8732a58bc21b7407c5b7bea690e022\n",
      "  Stored in directory: /root/.cache/pip/wheels/f0/02/49/3e600c6f29a52c4890f637fd62e484cbe5262cea9d2c0bea39\n",
      "  Building wheel for python-json-logger (setup.py): started\n",
      "  Building wheel for python-json-logger (setup.py): finished with status 'done'\n",
      "  Created wheel for python-json-logger: filename=python_json_logger-0.1.11-py2.py3-none-any.whl size=5076 sha256=31c2de42b7ed5cd1f5691d1ef7f61a092db41ed2114215a9352b91d2455b9af6\n",
      "  Stored in directory: /root/.cache/pip/wheels/fa/7f/fd/92ccdbb9d1a65486406e0363d2ba5b4ce52f400a915f602ecb\n",
      "  Building wheel for thriftpy2 (setup.py): started\n",
      "  Building wheel for thriftpy2 (setup.py): finished with status 'done'\n",
      "  Created wheel for thriftpy2: filename=thriftpy2-0.4.11-cp37-cp37m-linux_x86_64.whl size=1074580 sha256=1a505ef7a0d24a081bed4558151c273bf9d0a2281ad7881648806d2efb5121c9\n",
      "  Stored in directory: /root/.cache/pip/wheels/9d/22/89/0c0cd719d0c396b0b962cae8b6ebf9c0f6ee9593b43ba598aa\n",
      "Successfully built sqlalchemy prometheus-client alembic cerberus sqlalchemy-utils python-json-logger thriftpy2\n",
      "Installing collected packages: grpcio, sqlalchemy, ply, thriftpy2, py-zipkin, prometheus-client, python-dateutil, configparser, MarkupSafe, Mako, python-editor, alembic, tabulate, ruamel.yaml.clib, ruamel.yaml, humanfriendly, cerberus, websocket-client, docker, click, sqlalchemy-utils, protobuf, Werkzeug, itsdangerous, Jinja2, flask, pytz, pandas, python-json-logger, pyparsing, packaging, async-timeout, attrs, multidict, yarl, aiohttp, docutils, jmespath, botocore, s3transfer, boto3, bentoml, joblib, scikit-learn\n",
      "Successfully installed Jinja2-2.11.1 Mako-1.1.2 MarkupSafe-1.1.1 Werkzeug-1.0.1 aiohttp-3.6.2 alembic-1.4.2 async-timeout-3.0.1 attrs-19.3.0 bentoml-0.6.3 boto3-1.12.35 botocore-1.15.35 cerberus-1.3.2 click-7.1.1 configparser-5.0.0 docker-4.2.0 docutils-0.15.2 flask-1.1.1 grpcio-1.27.2 humanfriendly-8.1 itsdangerous-1.1.0 jmespath-0.9.5 joblib-0.14.1 multidict-4.7.5 packaging-20.3 pandas-1.0.3 ply-3.11 prometheus-client-0.7.1 protobuf-3.11.3 py-zipkin-0.20.0 pyparsing-2.4.6 python-dateutil-2.8.0 python-editor-1.0.4 python-json-logger-0.1.11 pytz-2019.3 ruamel.yaml-0.16.10 ruamel.yaml.clib-0.2.0 s3transfer-0.3.3 scikit-learn-0.22.2.post1 sqlalchemy-1.3.15 sqlalchemy-utils-0.36.3 tabulate-0.8.7 thriftpy2-0.4.11 websocket-client-0.57.0 yarl-1.4.2\n",
      "Removing intermediate container 3562f653ca54\n",
      " ---> 4c9f40b60c5c\n",
      "Step 13/15 : RUN if [ -f /bento/bentoml_init.sh ]; then /bin/bash -c /bento/bentoml_init.sh; fi\n",
      " ---> Running in 03b8c119c16d\n",
      "Removing intermediate container 03b8c119c16d\n",
      " ---> 8c9601802102\n",
      "Step 14/15 : ENV FLAGS=\"\"\n",
      " ---> Running in 7a308f9b0d2d\n",
      "Removing intermediate container 7a308f9b0d2d\n",
      " ---> 0e48871d2d64\n",
      "Step 15/15 : CMD [\"bentoml serve-gunicorn /bento $FLAGS\"]\n",
      " ---> Running in 9573fbc8d247\n",
      "Removing intermediate container 9573fbc8d247\n",
      " ---> e745cbe270bc\n",
      "Successfully built e745cbe270bc\n",
      "Successfully tagged iris-classifier:latest\n"
     ]
    }
   ],
   "source": [
    "!cd {saved_path} && docker build -t iris-classifier ."
   ]
  },
  {
   "cell_type": "markdown",
   "metadata": {},
   "source": [
    "Note that `docker` is __note available in Google Colab__, download the notebook, ensure docker is installed and try it locally.\n",
    "\n",
    "Next, you can `docker push` the image to your choice of registry for deployment,\n",
    "or run it locally for development and testing:"
   ]
  },
  {
   "cell_type": "code",
   "execution_count": 10,
   "metadata": {},
   "outputs": [
    {
     "name": "stdout",
     "output_type": "stream",
     "text": [
      "[2020-04-03 09:01:37,442] INFO - get_gunicorn_num_of_workers: 3, calculated by cpu count\n",
      "[2020-04-03 09:01:37 +0000] [1] [INFO] Starting gunicorn 20.0.4\n",
      "[2020-04-03 09:01:37 +0000] [1] [INFO] Listening at: http://0.0.0.0:5000 (1)\n",
      "[2020-04-03 09:01:37 +0000] [1] [INFO] Using worker: sync\n",
      "[2020-04-03 09:01:37 +0000] [8] [INFO] Booting worker with pid: 8\n",
      "[2020-04-03 09:01:37 +0000] [9] [INFO] Booting worker with pid: 9\n",
      "[2020-04-03 09:01:37 +0000] [10] [INFO] Booting worker with pid: 10\n",
      "^C\n",
      "[2020-04-03 09:01:44 +0000] [1] [INFO] Handling signal: int\n",
      "/opt/conda/lib/python3.7/site-packages/sklearn/base.py:318: UserWarning: Trying to unpickle estimator SVC from version 0.22 when using version 0.22.2.post1. This might lead to breaking code or invalid results. Use at your own risk.\n",
      "  UserWarning)\n",
      "[2020-04-03 09:01:44 +0000] [10] [INFO] Worker exiting (pid: 10)\n",
      "/opt/conda/lib/python3.7/site-packages/sklearn/base.py:318: UserWarning: Trying to unpickle estimator SVC from version 0.22 when using version 0.22.2.post1. This might lead to breaking code or invalid results. Use at your own risk.\n",
      "  UserWarning)\n",
      "[2020-04-03 09:01:44 +0000] [9] [INFO] Worker exiting (pid: 9)\n",
      "/opt/conda/lib/python3.7/site-packages/sklearn/base.py:318: UserWarning: Trying to unpickle estimator SVC from version 0.22 when using version 0.22.2.post1. This might lead to breaking code or invalid results. Use at your own risk.\n",
      "  UserWarning)\n",
      "[2020-04-03 09:01:44 +0000] [8] [INFO] Worker exiting (pid: 8)\n"
     ]
    }
   ],
   "source": [
    "!docker run -p 5000:5000 -e BENTOML_ENABLE_MICROBATCH=True iris-classifier:latest"
   ]
  },
  {
   "cell_type": "markdown",
   "metadata": {},
   "source": [
    "## Load saved BentoService\n",
    "\n",
    "`bentoml.load` is the enssential API for loading a Bento into your\n",
    "python application:"
   ]
  },
  {
   "cell_type": "code",
   "execution_count": 11,
   "metadata": {},
   "outputs": [
    {
     "name": "stdout",
     "output_type": "stream",
     "text": [
      "[2020-04-03 02:01:58,741] WARNING - Saved BentoService bundle version mismatch: loading BentoServie bundle create with BentoML version 0.6.3,  but loading from BentoML version 0.6.3+23.g65953f6.dirty\n",
      "[2020-04-03 02:01:58,742] WARNING - Module `iris_classifier` already loaded, using existing imported module.\n"
     ]
    },
    {
     "data": {
      "text/plain": [
       "memmap([0])"
      ]
     },
     "execution_count": 11,
     "metadata": {},
     "output_type": "execute_result"
    }
   ],
   "source": [
    "import bentoml\n",
    "import pandas as pd\n",
    "\n",
    "bento_svc = bentoml.load(saved_path)\n",
    "\n",
    "# Test loaded bentoml service:\n",
    "bento_svc.predict([X[0]])"
   ]
  },
  {
   "cell_type": "markdown",
   "metadata": {},
   "source": [
    "This can be useful for building test pipeline for your prediction service or using the same predictions service as a building block to create other applications.\n",
    "\n",
    "\n",
    "## Distribute BentoML SavedBundle as PyPI package\n",
    "\n",
    "\n",
    "The BentoService SavedBundle is pip-installable and can be directly distributed as a\n",
    "PyPI package if you plan to use the model in your python applications. You can install\n",
    "it as as a system-wide python package with `pip`:"
   ]
  },
  {
   "cell_type": "code",
   "execution_count": 12,
   "metadata": {},
   "outputs": [
    {
     "name": "stdout",
     "output_type": "stream",
     "text": [
      "Processing /Users/chaoyu/bentoml/repository/IrisClassifier/20200403015304_3FC8C9\n",
      "Requirement already satisfied: bentoml==0.6.3 in /Users/chaoyu/workspace/BentoML (from IrisClassifier===20200403015304-3FC8C9) (0.6.3+23.g65953f6.dirty)\n",
      "Requirement already satisfied: scikit-learn in /Users/chaoyu/opt/miniconda3/envs/btml-dev/lib/python3.7/site-packages (from IrisClassifier===20200403015304-3FC8C9) (0.22)\n",
      "Requirement already satisfied: ruamel.yaml>=0.15.0 in /Users/chaoyu/opt/miniconda3/envs/btml-dev/lib/python3.7/site-packages (from bentoml==0.6.3->IrisClassifier===20200403015304-3FC8C9) (0.16.5)\n",
      "Requirement already satisfied: numpy in /Users/chaoyu/opt/miniconda3/envs/btml-dev/lib/python3.7/site-packages (from bentoml==0.6.3->IrisClassifier===20200403015304-3FC8C9) (1.16.4)\n",
      "Requirement already satisfied: flask in /Users/chaoyu/opt/miniconda3/envs/btml-dev/lib/python3.7/site-packages (from bentoml==0.6.3->IrisClassifier===20200403015304-3FC8C9) (1.0.4)\n",
      "Requirement already satisfied: gunicorn in /Users/chaoyu/opt/miniconda3/envs/btml-dev/lib/python3.7/site-packages (from bentoml==0.6.3->IrisClassifier===20200403015304-3FC8C9) (20.0.4)\n",
      "Requirement already satisfied: click>=7.0 in /Users/chaoyu/opt/miniconda3/envs/btml-dev/lib/python3.7/site-packages (from bentoml==0.6.3->IrisClassifier===20200403015304-3FC8C9) (7.0)\n",
      "Requirement already satisfied: pandas in /Users/chaoyu/opt/miniconda3/envs/btml-dev/lib/python3.7/site-packages (from bentoml==0.6.3->IrisClassifier===20200403015304-3FC8C9) (0.25.2)\n",
      "Requirement already satisfied: prometheus_client in /Users/chaoyu/opt/miniconda3/envs/btml-dev/lib/python3.7/site-packages (from bentoml==0.6.3->IrisClassifier===20200403015304-3FC8C9) (0.7.1)\n",
      "Requirement already satisfied: python-json-logger in /Users/chaoyu/opt/miniconda3/envs/btml-dev/lib/python3.7/site-packages (from bentoml==0.6.3->IrisClassifier===20200403015304-3FC8C9) (0.1.11)\n",
      "Requirement already satisfied: boto3 in /Users/chaoyu/opt/miniconda3/envs/btml-dev/lib/python3.7/site-packages (from bentoml==0.6.3->IrisClassifier===20200403015304-3FC8C9) (1.10.37)\n",
      "Requirement already satisfied: requests in /Users/chaoyu/opt/miniconda3/envs/btml-dev/lib/python3.7/site-packages (from bentoml==0.6.3->IrisClassifier===20200403015304-3FC8C9) (2.22.0)\n",
      "Requirement already satisfied: packaging in /Users/chaoyu/opt/miniconda3/envs/btml-dev/lib/python3.7/site-packages (from bentoml==0.6.3->IrisClassifier===20200403015304-3FC8C9) (19.2)\n",
      "Requirement already satisfied: docker in /Users/chaoyu/opt/miniconda3/envs/btml-dev/lib/python3.7/site-packages (from bentoml==0.6.3->IrisClassifier===20200403015304-3FC8C9) (4.1.0)\n",
      "Requirement already satisfied: configparser in /Users/chaoyu/opt/miniconda3/envs/btml-dev/lib/python3.7/site-packages (from bentoml==0.6.3->IrisClassifier===20200403015304-3FC8C9) (4.0.2)\n",
      "Requirement already satisfied: sqlalchemy>=1.3.0 in /Users/chaoyu/opt/miniconda3/envs/btml-dev/lib/python3.7/site-packages (from bentoml==0.6.3->IrisClassifier===20200403015304-3FC8C9) (1.3.11)\n",
      "Requirement already satisfied: sqlalchemy-utils in /Users/chaoyu/opt/miniconda3/envs/btml-dev/lib/python3.7/site-packages (from bentoml==0.6.3->IrisClassifier===20200403015304-3FC8C9) (0.36.1)\n",
      "Requirement already satisfied: protobuf>=3.6.0 in /Users/chaoyu/opt/miniconda3/envs/btml-dev/lib/python3.7/site-packages (from bentoml==0.6.3->IrisClassifier===20200403015304-3FC8C9) (3.11.1)\n",
      "Requirement already satisfied: grpcio in /Users/chaoyu/opt/miniconda3/envs/btml-dev/lib/python3.7/site-packages (from bentoml==0.6.3->IrisClassifier===20200403015304-3FC8C9) (1.27.2)\n",
      "Requirement already satisfied: cerberus in /Users/chaoyu/opt/miniconda3/envs/btml-dev/lib/python3.7/site-packages (from bentoml==0.6.3->IrisClassifier===20200403015304-3FC8C9) (1.3.2)\n",
      "Requirement already satisfied: tabulate in /Users/chaoyu/opt/miniconda3/envs/btml-dev/lib/python3.7/site-packages (from bentoml==0.6.3->IrisClassifier===20200403015304-3FC8C9) (0.8.6)\n",
      "Requirement already satisfied: humanfriendly in /Users/chaoyu/opt/miniconda3/envs/btml-dev/lib/python3.7/site-packages (from bentoml==0.6.3->IrisClassifier===20200403015304-3FC8C9) (4.18)\n",
      "Requirement already satisfied: alembic in /Users/chaoyu/opt/miniconda3/envs/btml-dev/lib/python3.7/site-packages (from bentoml==0.6.3->IrisClassifier===20200403015304-3FC8C9) (1.3.1)\n",
      "Requirement already satisfied: aiohttp in /Users/chaoyu/opt/miniconda3/envs/btml-dev/lib/python3.7/site-packages (from bentoml==0.6.3->IrisClassifier===20200403015304-3FC8C9) (3.6.2)\n",
      "Requirement already satisfied: py_zipkin in /Users/chaoyu/opt/miniconda3/envs/btml-dev/lib/python3.7/site-packages (from bentoml==0.6.3->IrisClassifier===20200403015304-3FC8C9) (0.18.7)\n",
      "Requirement already satisfied: python-dateutil<2.8.1,>=2.1 in /Users/chaoyu/opt/miniconda3/envs/btml-dev/lib/python3.7/site-packages (from bentoml==0.6.3->IrisClassifier===20200403015304-3FC8C9) (2.8.0)\n",
      "Requirement already satisfied: joblib>=0.11 in /Users/chaoyu/opt/miniconda3/envs/btml-dev/lib/python3.7/site-packages (from scikit-learn->IrisClassifier===20200403015304-3FC8C9) (0.14.1)\n",
      "Requirement already satisfied: scipy>=0.17.0 in /Users/chaoyu/opt/miniconda3/envs/btml-dev/lib/python3.7/site-packages (from scikit-learn->IrisClassifier===20200403015304-3FC8C9) (1.3.3)\n",
      "Requirement already satisfied: ruamel.yaml.clib>=0.1.2; platform_python_implementation == \"CPython\" and python_version < \"3.8\" in /Users/chaoyu/opt/miniconda3/envs/btml-dev/lib/python3.7/site-packages (from ruamel.yaml>=0.15.0->bentoml==0.6.3->IrisClassifier===20200403015304-3FC8C9) (0.2.0)\n",
      "Requirement already satisfied: Jinja2>=2.10 in /Users/chaoyu/opt/miniconda3/envs/btml-dev/lib/python3.7/site-packages (from flask->bentoml==0.6.3->IrisClassifier===20200403015304-3FC8C9) (2.10.3)\n",
      "Requirement already satisfied: itsdangerous>=0.24 in /Users/chaoyu/opt/miniconda3/envs/btml-dev/lib/python3.7/site-packages (from flask->bentoml==0.6.3->IrisClassifier===20200403015304-3FC8C9) (1.1.0)\n",
      "Requirement already satisfied: Werkzeug>=0.14 in /Users/chaoyu/opt/miniconda3/envs/btml-dev/lib/python3.7/site-packages (from flask->bentoml==0.6.3->IrisClassifier===20200403015304-3FC8C9) (0.16.0)\n",
      "Requirement already satisfied: setuptools>=3.0 in /Users/chaoyu/opt/miniconda3/envs/btml-dev/lib/python3.7/site-packages (from gunicorn->bentoml==0.6.3->IrisClassifier===20200403015304-3FC8C9) (42.0.2.post20191203)\n",
      "Requirement already satisfied: pytz>=2017.2 in /Users/chaoyu/opt/miniconda3/envs/btml-dev/lib/python3.7/site-packages (from pandas->bentoml==0.6.3->IrisClassifier===20200403015304-3FC8C9) (2019.3)\n",
      "Requirement already satisfied: botocore<1.14.0,>=1.13.37 in /Users/chaoyu/opt/miniconda3/envs/btml-dev/lib/python3.7/site-packages (from boto3->bentoml==0.6.3->IrisClassifier===20200403015304-3FC8C9) (1.13.42)\n",
      "Requirement already satisfied: jmespath<1.0.0,>=0.7.1 in /Users/chaoyu/opt/miniconda3/envs/btml-dev/lib/python3.7/site-packages (from boto3->bentoml==0.6.3->IrisClassifier===20200403015304-3FC8C9) (0.9.4)\n",
      "Requirement already satisfied: s3transfer<0.3.0,>=0.2.0 in /Users/chaoyu/opt/miniconda3/envs/btml-dev/lib/python3.7/site-packages (from boto3->bentoml==0.6.3->IrisClassifier===20200403015304-3FC8C9) (0.2.1)\n",
      "Requirement already satisfied: urllib3!=1.25.0,!=1.25.1,<1.26,>=1.21.1 in /Users/chaoyu/opt/miniconda3/envs/btml-dev/lib/python3.7/site-packages (from requests->bentoml==0.6.3->IrisClassifier===20200403015304-3FC8C9) (1.25.7)\n",
      "Requirement already satisfied: certifi>=2017.4.17 in /Users/chaoyu/opt/miniconda3/envs/btml-dev/lib/python3.7/site-packages (from requests->bentoml==0.6.3->IrisClassifier===20200403015304-3FC8C9) (2019.11.28)\n",
      "Requirement already satisfied: idna<2.9,>=2.5 in /Users/chaoyu/opt/miniconda3/envs/btml-dev/lib/python3.7/site-packages (from requests->bentoml==0.6.3->IrisClassifier===20200403015304-3FC8C9) (2.8)\n",
      "Requirement already satisfied: chardet<3.1.0,>=3.0.2 in /Users/chaoyu/opt/miniconda3/envs/btml-dev/lib/python3.7/site-packages (from requests->bentoml==0.6.3->IrisClassifier===20200403015304-3FC8C9) (3.0.4)\n",
      "Requirement already satisfied: pyparsing>=2.0.2 in /Users/chaoyu/opt/miniconda3/envs/btml-dev/lib/python3.7/site-packages (from packaging->bentoml==0.6.3->IrisClassifier===20200403015304-3FC8C9) (2.4.5)\n",
      "Requirement already satisfied: six in /Users/chaoyu/opt/miniconda3/envs/btml-dev/lib/python3.7/site-packages (from packaging->bentoml==0.6.3->IrisClassifier===20200403015304-3FC8C9) (1.13.0)\n",
      "Requirement already satisfied: websocket-client>=0.32.0 in /Users/chaoyu/opt/miniconda3/envs/btml-dev/lib/python3.7/site-packages (from docker->bentoml==0.6.3->IrisClassifier===20200403015304-3FC8C9) (0.56.0)\n",
      "Requirement already satisfied: Mako in /Users/chaoyu/opt/miniconda3/envs/btml-dev/lib/python3.7/site-packages (from alembic->bentoml==0.6.3->IrisClassifier===20200403015304-3FC8C9) (1.1.0)\n",
      "Requirement already satisfied: python-editor>=0.3 in /Users/chaoyu/opt/miniconda3/envs/btml-dev/lib/python3.7/site-packages (from alembic->bentoml==0.6.3->IrisClassifier===20200403015304-3FC8C9) (1.0.4)\n",
      "Requirement already satisfied: multidict<5.0,>=4.5 in /Users/chaoyu/opt/miniconda3/envs/btml-dev/lib/python3.7/site-packages (from aiohttp->bentoml==0.6.3->IrisClassifier===20200403015304-3FC8C9) (4.7.4)\n",
      "Requirement already satisfied: yarl<2.0,>=1.0 in /Users/chaoyu/opt/miniconda3/envs/btml-dev/lib/python3.7/site-packages (from aiohttp->bentoml==0.6.3->IrisClassifier===20200403015304-3FC8C9) (1.4.2)\n",
      "Requirement already satisfied: attrs>=17.3.0 in /Users/chaoyu/opt/miniconda3/envs/btml-dev/lib/python3.7/site-packages (from aiohttp->bentoml==0.6.3->IrisClassifier===20200403015304-3FC8C9) (19.3.0)\n"
     ]
    },
    {
     "name": "stdout",
     "output_type": "stream",
     "text": [
      "Requirement already satisfied: async-timeout<4.0,>=3.0 in /Users/chaoyu/opt/miniconda3/envs/btml-dev/lib/python3.7/site-packages (from aiohttp->bentoml==0.6.3->IrisClassifier===20200403015304-3FC8C9) (3.0.1)\n",
      "Requirement already satisfied: thriftpy2>=0.4.0 in /Users/chaoyu/opt/miniconda3/envs/btml-dev/lib/python3.7/site-packages (from py_zipkin->bentoml==0.6.3->IrisClassifier===20200403015304-3FC8C9) (0.4.10)\n",
      "Requirement already satisfied: MarkupSafe>=0.23 in /Users/chaoyu/opt/miniconda3/envs/btml-dev/lib/python3.7/site-packages (from Jinja2>=2.10->flask->bentoml==0.6.3->IrisClassifier===20200403015304-3FC8C9) (1.1.1)\n",
      "Requirement already satisfied: docutils<0.16,>=0.10 in /Users/chaoyu/opt/miniconda3/envs/btml-dev/lib/python3.7/site-packages (from botocore<1.14.0,>=1.13.37->boto3->bentoml==0.6.3->IrisClassifier===20200403015304-3FC8C9) (0.15.2)\n",
      "Requirement already satisfied: ply<4.0,>=3.4 in /Users/chaoyu/opt/miniconda3/envs/btml-dev/lib/python3.7/site-packages (from thriftpy2>=0.4.0->py_zipkin->bentoml==0.6.3->IrisClassifier===20200403015304-3FC8C9) (3.11)\n",
      "Building wheels for collected packages: IrisClassifier\n",
      "  Building wheel for IrisClassifier (setup.py) ... \u001b[?25ldone\n",
      "\u001b[?25h  Created wheel for IrisClassifier: filename=IrisClassifier-20200403015304_3FC8C9-py3-none-any.whl size=5341 sha256=c646f6f880fd3d1351b20b7700f7b1ecbe56235a5510f41c52d77c2e8c20474e\n",
      "  Stored in directory: /private/var/folders/7p/y_934t3s4yg8fx595vr28gym0000gn/T/pip-ephem-wheel-cache-vl2inqam/wheels/1b/e2/18/d0bc4976297041a88a736fbddeea114851c9cb2575d26ece88\n",
      "Successfully built IrisClassifier\n",
      "Installing collected packages: IrisClassifier\n",
      "Successfully installed IrisClassifier-20200403015304-3FC8C9\n"
     ]
    }
   ],
   "source": [
    "!pip install {saved_path}"
   ]
  },
  {
   "cell_type": "code",
   "execution_count": 13,
   "metadata": {},
   "outputs": [
    {
     "data": {
      "text/plain": [
       "memmap([0])"
      ]
     },
     "execution_count": 13,
     "metadata": {},
     "output_type": "execute_result"
    }
   ],
   "source": [
    "# Your bentoML model class name will become packaged name\n",
    "import IrisClassifier\n",
    "\n",
    "installed_svc = IrisClassifier.load()\n",
    "installed_svc.predict([X[0]])"
   ]
  },
  {
   "cell_type": "markdown",
   "metadata": {},
   "source": [
    "This also allow users to upload their BentoService to pypi.org as public python package\n",
    "or to their organization's private PyPi index to share with other developers.\n",
    "\n",
    "`cd {saved_path} & python setup.py sdist upload`\n",
    "\n",
    "*You will have to configure \".pypirc\" file before uploading to pypi index.\n",
    "    You can find more information about distributing python package at:\n",
    "    https://docs.python.org/3.7/distributing/index.html#distributing-index*\n",
    "\n",
    "\n",
    "# Batch Offline Serving via CLI\n",
    "\n",
    "`pip install {saved_path}` also installs a CLI tool for accessing the BentoML service, print CLI help document with `--help`:\n"
   ]
  },
  {
   "cell_type": "code",
   "execution_count": 14,
   "metadata": {},
   "outputs": [
    {
     "name": "stdout",
     "output_type": "stream",
     "text": [
      "Usage: IrisClassifier [OPTIONS] COMMAND [ARGS]...\r\n",
      "\r\n",
      "  BentoML CLI tool\r\n",
      "\r\n",
      "Options:\r\n",
      "  --version  Show the version and exit.\r\n",
      "  --help     Show this message and exit.\r\n",
      "\r\n",
      "Commands:\r\n",
      "  info                List APIs\r\n",
      "  install-completion  Install shell command completion\r\n",
      "  open-api-spec       Display OpenAPI/Swagger JSON specs\r\n",
      "  run                 Run API function\r\n",
      "  serve               Start local rest server\r\n",
      "  serve-gunicorn      Start local gunicorn server\r\n"
     ]
    }
   ],
   "source": [
    "!IrisClassifier --help"
   ]
  },
  {
   "cell_type": "markdown",
   "metadata": {},
   "source": [
    "Printing more information about this ML service with `info` command:"
   ]
  },
  {
   "cell_type": "code",
   "execution_count": null,
   "metadata": {
    "pycharm": {
     "name": "#%%\n"
    }
   },
   "outputs": [],
   "source": [
    "!IrisClassifier info"
   ]
  },
  {
   "cell_type": "markdown",
   "metadata": {},
   "source": [
    "You can also print help and docs on individual commands:"
   ]
  },
  {
   "cell_type": "code",
   "execution_count": null,
   "metadata": {},
   "outputs": [],
   "source": [
    "!IrisClassifier run predict --help"
   ]
  },
  {
   "cell_type": "markdown",
   "metadata": {},
   "source": [
    "Each service API you defined in the BentoService will be exposed as a CLI command with the same name as the API function:"
   ]
  },
  {
   "cell_type": "code",
   "execution_count": 15,
   "metadata": {
    "scrolled": true
   },
   "outputs": [
    {
     "name": "stdout",
     "output_type": "stream",
     "text": [
      "[0]\r\n"
     ]
    }
   ],
   "source": [
    "!IrisClassifier run predict --input='[[5.1, 3.5, 1.4, 0.2]]'"
   ]
  },
  {
   "cell_type": "markdown",
   "metadata": {},
   "source": [
    "BentoML cli also supports reading input data from `csv` or `json` files, in either local machine or remote HTTP/S3 location:"
   ]
  },
  {
   "cell_type": "code",
   "execution_count": 16,
   "metadata": {},
   "outputs": [
    {
     "name": "stdout",
     "output_type": "stream",
     "text": [
      "[0 0 0 0 0 0 0 0 0 0 0 0 0 0 0 0 0 0 0 0 0 0 0 0 0 0 0 0 0 0 0 0 0 0 0 0 0\r\n",
      " 0 0 0 0 0 0 0 0 0 0 0 0 0 1 1 1 1 1 1 1 1 1 1 1 1 1 1 1 1 1 1 1 1 1 1 1 1\r\n",
      " 1 1 1 2 1 1 1 1 1 2 1 1 1 1 1 1 1 1 1 1 1 1 1 1 1 1 2 2 2 2 2 2 1 2 2 2 2\r\n",
      " 2 2 2 2 2 2 2 2 2 2 2 2 2 2 2 2 2 2 2 2 2 2 2 2 2 2 2 1 2 2 2 2 2 2 2 2 2\r\n",
      " 2 2]\r\n"
     ]
    }
   ],
   "source": [
    "# Writing test data to a csv file\n",
    "pd.DataFrame(iris.data).to_csv('iris_data.csv', index=False)\n",
    "\n",
    "# Invoke predict from command lien\n",
    "!IrisClassifier run predict --input='./iris_data.csv'"
   ]
  },
  {
   "cell_type": "markdown",
   "metadata": {},
   "source": [
    "Alternatively, you can also use the `bentoml` cli to load and run a BentoML service archive without installing it:"
   ]
  },
  {
   "cell_type": "code",
   "execution_count": 17,
   "metadata": {},
   "outputs": [
    {
     "name": "stdout",
     "output_type": "stream",
     "text": [
      "[2020-04-03 02:02:23,408] INFO - Getting latest version IrisClassifier:20200403015304_3FC8C9\n",
      "[2020-04-03 02:02:23,422] WARNING - Saved BentoService bundle version mismatch: loading BentoServie bundle create with BentoML version 0.6.3,  but loading from BentoML version 0.6.3+23.g65953f6.dirty\n",
      "\u001b[39m{\n",
      "  \"name\": \"IrisClassifier\",\n",
      "  \"version\": \"20200403015304_3FC8C9\",\n",
      "  \"created_at\": \"2020-04-03T08:53:17.930268Z\",\n",
      "  \"env\": {\n",
      "    \"conda_env\": \"name: bentoml-IrisClassifier\\nchannels:\\n- defaults\\ndependencies:\\n- python=3.7.5\\n- pip\\n\",\n",
      "    \"pip_dependencies\": \"bentoml==0.6.3\\nscikit-learn\",\n",
      "    \"python_version\": \"3.7.5\"\n",
      "  },\n",
      "  \"artifacts\": [\n",
      "    {\n",
      "      \"name\": \"model\",\n",
      "      \"artifact_type\": \"SklearnModelArtifact\"\n",
      "    }\n",
      "  ],\n",
      "  \"apis\": [\n",
      "    {\n",
      "      \"name\": \"predict\",\n",
      "      \"handler_type\": \"DataframeHandler\",\n",
      "      \"docs\": \"BentoService API\",\n",
      "      \"handler_config\": {\n",
      "        \"output_orient\": \"records\",\n",
      "        \"orient\": \"records\",\n",
      "        \"typ\": \"frame\",\n",
      "        \"is_batch_input\": true,\n",
      "        \"input_dtypes\": null\n",
      "      }\n",
      "    }\n",
      "  ]\n",
      "}\u001b[0m\n"
     ]
    }
   ],
   "source": [
    "!bentoml info IrisClassifier:latest"
   ]
  },
  {
   "cell_type": "code",
   "execution_count": 18,
   "metadata": {},
   "outputs": [
    {
     "name": "stdout",
     "output_type": "stream",
     "text": [
      "[2020-04-03 02:02:27,431] INFO - Getting latest version IrisClassifier:20200403015304_3FC8C9\n",
      "[2020-04-03 02:02:27,444] WARNING - Saved BentoService bundle version mismatch: loading BentoServie bundle create with BentoML version 0.6.3,  but loading from BentoML version 0.6.3+23.g65953f6.dirty\n",
      "[0]\n"
     ]
    }
   ],
   "source": [
    "!bentoml run IrisClassifier:latest predict --input='[[5.1, 3.5, 1.4, 0.2]]'"
   ]
  },
  {
   "cell_type": "markdown",
   "metadata": {},
   "source": [
    "# Deploy REST API server to the cloud\n",
    "\n",
    "\n",
    "BentoML has a built-in deployment management tool called YataiService. YataiService can\n",
    "be deployed separately to manage all your teams' trained models, BentoService bundles,\n",
    "and active deployments in the cloud or in your own kubernetes cluster. You can also\n",
    "create simple model serving deployments with just the BentoML cli, which launches a\n",
    "local YataiService backed by SQLite database on your machine.\n",
    "\n",
    "Now let's deploy the IrisClassifier to [AWS Lambda](https://aws.amazon.com/lambda/) as\n",
    "a serverless endpoint.\n",
    "\n",
    "First you need to install the `aws-sam-cli` package, which is required by BentoML\n",
    "to work with AWS Lambda deployment:\n",
    "\n",
    "```\n",
    "    pip install -U aws-sam-cli==0.31.1\n",
    "```\n",
    "\n",
    "\n",
    "You will also need to configure your AWS account and credentials if you don't have\n",
    "it configured on your machine. You can do this either\n",
    "[via environment variables](https://docs.aws.amazon.com/sdk-for-java/v1/developer-guide/setup-credentials.html)\n",
    "or through the `aws configure` command: install `aws` cli command via\n",
    "`pip install awscli` and follow\n",
    "[detailed instructions here](https://docs.aws.amazon.com/cli/latest/userguide/cli-chap-configure.html#cli-quick-configuration).\n",
    "\n",
    "Now you can run the `bentoml lambda deploy` command, to create a AWS Lambda deployment,\n",
    "hosting the BentService you've created:"
   ]
  },
  {
   "cell_type": "code",
   "execution_count": 19,
   "metadata": {
    "scrolled": true
   },
   "outputs": [
    {
     "name": "stdout",
     "output_type": "stream",
     "text": [
      "Deploying \"IrisClassifier:20200403015304_3FC8C9\" to AWS Lambda \\[2020-04-03 02:02:35,976] INFO - Building lambda project\n",
      "\b\\[2020-04-03 02:08:26,060] INFO - Packaging AWS Lambda project at /private/var/folders/7p/y_934t3s4yg8fx595vr28gym0000gn/T/bentoml-temp-oushjs1w ...\n",
      "\b|[2020-04-03 02:10:18,047] INFO - Deploying lambda project\n",
      "\b|[2020-04-03 02:11:06,731] INFO - ApplyDeployment (quick-start-guide-deployment, namespace dev) succeeded\n",
      "\u001b[32mSuccessfully created AWS Lambda deployment quick-start-guide-deployment\u001b[0m\n",
      "\u001b[39m{\n",
      "  \"namespace\": \"dev\",\n",
      "  \"name\": \"quick-start-guide-deployment\",\n",
      "  \"spec\": {\n",
      "    \"bentoName\": \"IrisClassifier\",\n",
      "    \"bentoVersion\": \"20200403015304_3FC8C9\",\n",
      "    \"operator\": \"AWS_LAMBDA\",\n",
      "    \"awsLambdaOperatorConfig\": {\n",
      "      \"region\": \"us-west-2\",\n",
      "      \"memorySize\": 1024,\n",
      "      \"timeout\": 3\n",
      "    }\n",
      "  },\n",
      "  \"state\": {\n",
      "    \"state\": \"RUNNING\",\n",
      "    \"infoJson\": {\n",
      "      \"endpoints\": [\n",
      "        \"https://qgvp7z4e68.execute-api.us-west-2.amazonaws.com/Prod/predict\"\n",
      "      ],\n",
      "      \"s3_bucket\": \"btml-dev-quick-start-guide-deployment-5591e9\"\n",
      "    },\n",
      "    \"timestamp\": \"2020-04-03T09:11:06.961572Z\"\n",
      "  },\n",
      "  \"createdAt\": \"2020-04-03T09:02:30.717929Z\",\n",
      "  \"lastUpdatedAt\": \"2020-04-03T09:02:30.717959Z\"\n",
      "}\u001b[0m\n"
     ]
    }
   ],
   "source": [
    "!bentoml lambda deploy quick-start-guide-deployment -b IrisClassifier:{svc.version} "
   ]
  },
  {
   "cell_type": "markdown",
   "metadata": {},
   "source": [
    "Here the 'quick-starrt-guide-deployment' is the deployment name, you can reference the deployment by this name and query its status. For example, to get current deployment status:"
   ]
  },
  {
   "cell_type": "code",
   "execution_count": 20,
   "metadata": {
    "scrolled": true
   },
   "outputs": [
    {
     "name": "stdout",
     "output_type": "stream",
     "text": [
      "\u001b[39m{\r\n",
      "  \"namespace\": \"dev\",\r\n",
      "  \"name\": \"quick-start-guide-deployment\",\r\n",
      "  \"spec\": {\r\n",
      "    \"bentoName\": \"IrisClassifier\",\r\n",
      "    \"bentoVersion\": \"20200403015304_3FC8C9\",\r\n",
      "    \"operator\": \"AWS_LAMBDA\",\r\n",
      "    \"awsLambdaOperatorConfig\": {\r\n",
      "      \"region\": \"us-west-2\",\r\n",
      "      \"memorySize\": 1024,\r\n",
      "      \"timeout\": 3\r\n",
      "    }\r\n",
      "  },\r\n",
      "  \"state\": {\r\n",
      "    \"state\": \"RUNNING\",\r\n",
      "    \"infoJson\": {\r\n",
      "      \"endpoints\": [\r\n",
      "        \"https://qgvp7z4e68.execute-api.us-west-2.amazonaws.com/Prod/predict\"\r\n",
      "      ],\r\n",
      "      \"s3_bucket\": \"btml-dev-quick-start-guide-deployment-5591e9\"\r\n",
      "    },\r\n",
      "    \"timestamp\": \"2020-04-03T09:11:58.035477Z\"\r\n",
      "  },\r\n",
      "  \"createdAt\": \"2020-04-03T09:02:30.717929Z\",\r\n",
      "  \"lastUpdatedAt\": \"2020-04-03T09:02:30.717959Z\"\r\n",
      "}\u001b[0m\r\n"
     ]
    }
   ],
   "source": [
    "!bentoml lambda get quick-start-guide-deployment"
   ]
  },
  {
   "cell_type": "code",
   "execution_count": 21,
   "metadata": {},
   "outputs": [
    {
     "name": "stdout",
     "output_type": "stream",
     "text": [
      "\u001b[0;32m\"https://qgvp7z4e68.execute-api.us-west-2.amazonaws.com/Prod/predict\"\u001b[0m\r\n"
     ]
    }
   ],
   "source": [
    "!bentoml lambda get quick-start-guide-deployment | jq \".state.infoJson.endpoints[0]\""
   ]
  },
  {
   "cell_type": "markdown",
   "metadata": {},
   "source": [
    "To send request to your AWS Lambda deployment, grab the endpoint URL from the json output above:"
   ]
  },
  {
   "cell_type": "code",
   "execution_count": 22,
   "metadata": {
    "scrolled": true
   },
   "outputs": [
    {
     "name": "stdout",
     "output_type": "stream",
     "text": [
      "HTTP/1.1 200 OK\r",
      "\r\n",
      "\u001b[1mContent-Type\u001b[0m: application/json\r",
      "\r\n",
      "\u001b[1mContent-Length\u001b[0m: 3\r",
      "\r\n",
      "\u001b[1mConnection\u001b[0m: keep-alive\r",
      "\r\n",
      "\u001b[1mDate\u001b[0m: Fri, 03 Apr 2020 09:12:27 GMT\r",
      "\r\n",
      "\u001b[1mx-amzn-RequestId\u001b[0m: 2f0b7dc4-881d-4be9-bf0c-75b67ba10158\r",
      "\r\n",
      "\u001b[1mx-amz-apigw-id\u001b[0m: KZyecEq7vHcF_AA=\r",
      "\r\n",
      "\u001b[1mX-Amzn-Trace-Id\u001b[0m: Root=1-5e86fdf5-ed4ad9ac92963d10e215fd83;Sampled=0\r",
      "\r\n",
      "\u001b[1mX-Cache\u001b[0m: Miss from cloudfront\r",
      "\r\n",
      "\u001b[1mVia\u001b[0m: 1.1 c1caaceb6655a57ae014aef7bc8ec389.cloudfront.net (CloudFront)\r",
      "\r\n",
      "\u001b[1mX-Amz-Cf-Pop\u001b[0m: SFO20-C1\r",
      "\r\n",
      "\u001b[1mX-Amz-Cf-Id\u001b[0m: xtyVUYVhoPkENM0npKoJyxck75JhA6eeLWS5uLPnF9aenx2OVBzNDg==\r",
      "\r\n",
      "\r",
      "\r\n",
      "[0]"
     ]
    }
   ],
   "source": [
    "!curl -i \\\n",
    "--header \"Content-Type: application/json\" \\\n",
    "--request POST \\\n",
    "--data '[[5.1, 3.5, 1.4, 0.2]]' \\\n",
    "https://qgvp7z4e68.execute-api.us-west-2.amazonaws.com/Prod/predict"
   ]
  },
  {
   "cell_type": "markdown",
   "metadata": {},
   "source": [
    "To list all the deployments you've created:"
   ]
  },
  {
   "cell_type": "code",
   "execution_count": 24,
   "metadata": {},
   "outputs": [
    {
     "name": "stdout",
     "output_type": "stream",
     "text": [
      "\u001b[39mNAME                          NAMESPACE    PLATFORM    BENTO_SERVICE                         STATUS    AGE\r\n",
      "quick-start-guide-deployment  dev          aws-lambda  IrisClassifier:20200403015304_3FC8C9  running   10 minutes and 26.93 seconds\r\n",
      "chaoyu-dev-ii                 dev          aws-lambda  IrisClassifier:20200323212422_A1D30D  running   5 days and 12 hours\r\n",
      "chaoyu-test                   dev          aws-lambda  IrisClassifier:20200228172148_6A26E5  running   4 weeks and 2 days\u001b[0m\r\n"
     ]
    }
   ],
   "source": [
    "!bentoml deployment list"
   ]
  },
  {
   "cell_type": "markdown",
   "metadata": {},
   "source": [
    "And to delete an active deployment:"
   ]
  },
  {
   "cell_type": "code",
   "execution_count": 25,
   "metadata": {},
   "outputs": [
    {
     "name": "stdout",
     "output_type": "stream",
     "text": [
      "\u001b[32mSuccessfully deleted AWS Lambda deployment \"quick-start-guide-deployment\"\u001b[0m\r\n"
     ]
    }
   ],
   "source": [
    "!bentoml lambda delete quick-start-guide-deployment"
   ]
  },
  {
   "cell_type": "markdown",
   "metadata": {},
   "source": [
    "BentoML by default stores the deployment metadata on the local machine. For team settings, we recommend hosting a shared BentoML Yatai server for your entire team to track all BentoService saved bundle and deployments they've created in a central place."
   ]
  },
  {
   "cell_type": "markdown",
   "metadata": {},
   "source": [
    "# Summary\n",
    "\n",
    "This is what it looks like when using BentoML to serve and deploy a model, as a prediction service running in the cloud. BentoML also supports many other Machine Learning frameworks, as well as many other deployment platforms. You can find more BentoML example notebooks [here](https://github.com/bentoml/BentoML#examples)."
   ]
  }
 ],
 "metadata": {
  "kernelspec": {
   "display_name": "Python 3",
   "language": "python",
   "name": "python3"
  },
  "language_info": {
   "codemirror_mode": {
    "name": "ipython",
    "version": 3
   },
   "file_extension": ".py",
   "mimetype": "text/x-python",
   "name": "python",
   "nbconvert_exporter": "python",
   "pygments_lexer": "ipython3",
   "version": "3.7.5"
  }
 },
 "nbformat": 4,
 "nbformat_minor": 2
}
