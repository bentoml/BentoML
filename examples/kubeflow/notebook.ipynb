{
 "cells": [
  {
   "attachments": {},
   "cell_type": "markdown",
   "metadata": {},
   "source": [
    "# BentoML Kubeflow Notebook Example\n",
    "\n",
    "In this example, we will train three fraud detection models using the [Kaggle IEEE-CIS Fraud Detection dataset](https://www.kaggle.com/c/ieee-fraud-detection) using the Kubeflow notebook and create a BentoML service that simultaneously invoke all three models and returns the decision if any one of the models predicts that a transactin is a fraud. We will build and push the BentoML service to an S3 bucket. Next we will containerize BentoML service from the S3 bucket and deploy the service to Kubeflow cluster using using BentoML custom resource definitions on Kubernetes. The service will be deployed in a microservice architecture with each model running in a separate pod, deployed on hardware that is the most ideal for running the model, and scale independently."
   ]
  },
  {
   "attachments": {},
   "cell_type": "markdown",
   "metadata": {},
   "source": [
    "## Prerequisites\n",
    "\n",
    "Install the required packages to run this example."
   ]
  },
  {
   "cell_type": "code",
   "execution_count": 1,
   "metadata": {},
   "outputs": [
    {
     "name": "stdout",
     "output_type": "stream",
     "text": [
      "Requirement already satisfied: bentoml in /opt/miniconda3/envs/bentoml/lib/python3.10/site-packages (from -r requirements.txt (line 1)) (1.0.15.post47+g50e707be.d20230313)\n",
      "Requirement already satisfied: numpy in /opt/miniconda3/envs/bentoml/lib/python3.10/site-packages (from -r requirements.txt (line 2)) (1.23.5)\n",
      "Requirement already satisfied: pandas in /opt/miniconda3/envs/bentoml/lib/python3.10/site-packages (from -r requirements.txt (line 3)) (1.5.2)\n",
      "Requirement already satisfied: xgboost in /opt/miniconda3/envs/bentoml/lib/python3.10/site-packages (from -r requirements.txt (line 4)) (1.7.4)\n",
      "Requirement already satisfied: scikit-learn in /opt/miniconda3/envs/bentoml/lib/python3.10/site-packages (from -r requirements.txt (line 5)) (1.1.3)\n",
      "Requirement already satisfied: circus!=0.17.2,>=0.17.0 in /opt/miniconda3/envs/bentoml/lib/python3.10/site-packages (from bentoml->-r requirements.txt (line 1)) (0.18.0)\n",
      "Requirement already satisfied: pip-requirements-parser>=31.2.0 in /opt/miniconda3/envs/bentoml/lib/python3.10/site-packages (from bentoml->-r requirements.txt (line 1)) (31.2.0)\n",
      "Requirement already satisfied: opentelemetry-instrumentation-aiohttp-client==0.35b0 in /opt/miniconda3/envs/bentoml/lib/python3.10/site-packages (from bentoml->-r requirements.txt (line 1)) (0.35b0)\n",
      "Requirement already satisfied: attrs>=21.1.0 in /opt/miniconda3/envs/bentoml/lib/python3.10/site-packages (from bentoml->-r requirements.txt (line 1)) (22.2.0)\n",
      "Requirement already satisfied: simple-di>=0.1.4 in /opt/miniconda3/envs/bentoml/lib/python3.10/site-packages (from bentoml->-r requirements.txt (line 1)) (0.1.5)\n",
      "Requirement already satisfied: uvicorn in /opt/miniconda3/envs/bentoml/lib/python3.10/site-packages (from bentoml->-r requirements.txt (line 1)) (0.20.0)\n",
      "Requirement already satisfied: click-option-group in /opt/miniconda3/envs/bentoml/lib/python3.10/site-packages (from bentoml->-r requirements.txt (line 1)) (0.5.5)\n",
      "Requirement already satisfied: pathspec in /opt/miniconda3/envs/bentoml/lib/python3.10/site-packages (from bentoml->-r requirements.txt (line 1)) (0.10.2)\n",
      "Requirement already satisfied: cattrs>=22.1.0 in /opt/miniconda3/envs/bentoml/lib/python3.10/site-packages (from bentoml->-r requirements.txt (line 1)) (22.2.0)\n",
      "Requirement already satisfied: psutil in /opt/miniconda3/envs/bentoml/lib/python3.10/site-packages (from bentoml->-r requirements.txt (line 1)) (5.9.4)\n",
      "Requirement already satisfied: opentelemetry-instrumentation==0.35b0 in /opt/miniconda3/envs/bentoml/lib/python3.10/site-packages (from bentoml->-r requirements.txt (line 1)) (0.35b0)\n",
      "Requirement already satisfied: packaging>=22.0 in /opt/miniconda3/envs/bentoml/lib/python3.10/site-packages (from bentoml->-r requirements.txt (line 1)) (23.0)\n",
      "Requirement already satisfied: starlette<0.26 in /opt/miniconda3/envs/bentoml/lib/python3.10/site-packages (from bentoml->-r requirements.txt (line 1)) (0.25.0)\n",
      "Requirement already satisfied: python-multipart in /opt/miniconda3/envs/bentoml/lib/python3.10/site-packages (from bentoml->-r requirements.txt (line 1)) (0.0.5)\n",
      "Requirement already satisfied: pip-tools>=6.6.2 in /opt/miniconda3/envs/bentoml/lib/python3.10/site-packages (from bentoml->-r requirements.txt (line 1)) (6.11.0)\n",
      "Requirement already satisfied: schema in /opt/miniconda3/envs/bentoml/lib/python3.10/site-packages (from bentoml->-r requirements.txt (line 1)) (0.7.5)\n",
      "Requirement already satisfied: opentelemetry-instrumentation-asgi==0.35b0 in /opt/miniconda3/envs/bentoml/lib/python3.10/site-packages (from bentoml->-r requirements.txt (line 1)) (0.35b0)\n",
      "Requirement already satisfied: pynvml<12 in /opt/miniconda3/envs/bentoml/lib/python3.10/site-packages (from bentoml->-r requirements.txt (line 1)) (11.4.1)\n",
      "Requirement already satisfied: click>=7.0 in /opt/miniconda3/envs/bentoml/lib/python3.10/site-packages (from bentoml->-r requirements.txt (line 1)) (8.1.3)\n",
      "Requirement already satisfied: opentelemetry-semantic-conventions==0.35b0 in /opt/miniconda3/envs/bentoml/lib/python3.10/site-packages (from bentoml->-r requirements.txt (line 1)) (0.35b0)\n",
      "Requirement already satisfied: prometheus-client>=0.10.0 in /opt/miniconda3/envs/bentoml/lib/python3.10/site-packages (from bentoml->-r requirements.txt (line 1)) (0.16.0)\n",
      "Requirement already satisfied: opentelemetry-util-http==0.35b0 in /opt/miniconda3/envs/bentoml/lib/python3.10/site-packages (from bentoml->-r requirements.txt (line 1)) (0.35b0)\n",
      "Requirement already satisfied: requests in /opt/miniconda3/envs/bentoml/lib/python3.10/site-packages (from bentoml->-r requirements.txt (line 1)) (2.28.1)\n",
      "Requirement already satisfied: opentelemetry-exporter-otlp-proto-http==1.14.0 in /opt/miniconda3/envs/bentoml/lib/python3.10/site-packages (from bentoml->-r requirements.txt (line 1)) (1.14.0)\n",
      "Requirement already satisfied: opentelemetry-api==1.14.0 in /opt/miniconda3/envs/bentoml/lib/python3.10/site-packages (from bentoml->-r requirements.txt (line 1)) (1.14.0)\n",
      "Requirement already satisfied: python-json-logger in /opt/miniconda3/envs/bentoml/lib/python3.10/site-packages (from bentoml->-r requirements.txt (line 1)) (2.0.4)\n",
      "Requirement already satisfied: python-dateutil in /opt/miniconda3/envs/bentoml/lib/python3.10/site-packages (from bentoml->-r requirements.txt (line 1)) (2.8.2)\n",
      "Requirement already satisfied: PyYAML>=5.0 in /opt/miniconda3/envs/bentoml/lib/python3.10/site-packages (from bentoml->-r requirements.txt (line 1)) (6.0)\n",
      "Requirement already satisfied: Jinja2>=3.0.1 in /opt/miniconda3/envs/bentoml/lib/python3.10/site-packages (from bentoml->-r requirements.txt (line 1)) (3.1.2)\n",
      "Requirement already satisfied: rich>=11.2.0 in /opt/miniconda3/envs/bentoml/lib/python3.10/site-packages (from bentoml->-r requirements.txt (line 1)) (12.6.0)\n",
      "Requirement already satisfied: aiohttp in /opt/miniconda3/envs/bentoml/lib/python3.10/site-packages (from bentoml->-r requirements.txt (line 1)) (3.8.3)\n",
      "Requirement already satisfied: deepmerge in /opt/miniconda3/envs/bentoml/lib/python3.10/site-packages (from bentoml->-r requirements.txt (line 1)) (1.1.0)\n",
      "Requirement already satisfied: watchfiles>=0.15.0 in /opt/miniconda3/envs/bentoml/lib/python3.10/site-packages (from bentoml->-r requirements.txt (line 1)) (0.18.1)\n",
      "Requirement already satisfied: cloudpickle in /opt/miniconda3/envs/bentoml/lib/python3.10/site-packages (from bentoml->-r requirements.txt (line 1)) (2.2.0)\n",
      "Requirement already satisfied: fs in /opt/miniconda3/envs/bentoml/lib/python3.10/site-packages (from bentoml->-r requirements.txt (line 1)) (2.4.16)\n",
      "Requirement already satisfied: opentelemetry-sdk==1.14.0 in /opt/miniconda3/envs/bentoml/lib/python3.10/site-packages (from bentoml->-r requirements.txt (line 1)) (1.14.0)\n",
      "Requirement already satisfied: deprecated>=1.2.6 in /opt/miniconda3/envs/bentoml/lib/python3.10/site-packages (from opentelemetry-api==1.14.0->bentoml->-r requirements.txt (line 1)) (1.2.13)\n",
      "Requirement already satisfied: setuptools>=16.0 in /opt/miniconda3/envs/bentoml/lib/python3.10/site-packages (from opentelemetry-api==1.14.0->bentoml->-r requirements.txt (line 1)) (65.5.0)\n",
      "Requirement already satisfied: opentelemetry-proto==1.14.0 in /opt/miniconda3/envs/bentoml/lib/python3.10/site-packages (from opentelemetry-exporter-otlp-proto-http==1.14.0->bentoml->-r requirements.txt (line 1)) (1.14.0)\n",
      "Requirement already satisfied: googleapis-common-protos~=1.52 in /opt/miniconda3/envs/bentoml/lib/python3.10/site-packages (from opentelemetry-exporter-otlp-proto-http==1.14.0->bentoml->-r requirements.txt (line 1)) (1.56.2)\n",
      "Requirement already satisfied: backoff<3.0.0,>=1.10.0 in /opt/miniconda3/envs/bentoml/lib/python3.10/site-packages (from opentelemetry-exporter-otlp-proto-http==1.14.0->bentoml->-r requirements.txt (line 1)) (2.2.1)\n",
      "Requirement already satisfied: wrapt<2.0.0,>=1.0.0 in /opt/miniconda3/envs/bentoml/lib/python3.10/site-packages (from opentelemetry-instrumentation==0.35b0->bentoml->-r requirements.txt (line 1)) (1.14.1)\n",
      "Requirement already satisfied: asgiref~=3.0 in /opt/miniconda3/envs/bentoml/lib/python3.10/site-packages (from opentelemetry-instrumentation-asgi==0.35b0->bentoml->-r requirements.txt (line 1)) (3.5.2)\n",
      "Requirement already satisfied: typing-extensions>=3.7.4 in /opt/miniconda3/envs/bentoml/lib/python3.10/site-packages (from opentelemetry-sdk==1.14.0->bentoml->-r requirements.txt (line 1)) (4.4.0)\n",
      "Requirement already satisfied: protobuf~=3.13 in /opt/miniconda3/envs/bentoml/lib/python3.10/site-packages (from opentelemetry-proto==1.14.0->opentelemetry-exporter-otlp-proto-http==1.14.0->bentoml->-r requirements.txt (line 1)) (3.19.6)\n",
      "Requirement already satisfied: pytz>=2020.1 in /opt/miniconda3/envs/bentoml/lib/python3.10/site-packages (from pandas->-r requirements.txt (line 3)) (2022.6)\n",
      "Requirement already satisfied: scipy in /opt/miniconda3/envs/bentoml/lib/python3.10/site-packages (from xgboost->-r requirements.txt (line 4)) (1.9.3)\n",
      "Requirement already satisfied: joblib>=1.0.0 in /opt/miniconda3/envs/bentoml/lib/python3.10/site-packages (from scikit-learn->-r requirements.txt (line 5)) (1.2.0)\n",
      "Requirement already satisfied: threadpoolctl>=2.0.0 in /opt/miniconda3/envs/bentoml/lib/python3.10/site-packages (from scikit-learn->-r requirements.txt (line 5)) (3.1.0)\n",
      "Requirement already satisfied: exceptiongroup in /opt/miniconda3/envs/bentoml/lib/python3.10/site-packages (from cattrs>=22.1.0->bentoml->-r requirements.txt (line 1)) (1.0.4)\n",
      "Requirement already satisfied: tornado>=5.0.2 in /opt/miniconda3/envs/bentoml/lib/python3.10/site-packages (from circus!=0.17.2,>=0.17.0->bentoml->-r requirements.txt (line 1)) (6.2)\n",
      "Requirement already satisfied: pyzmq>=17.0 in /opt/miniconda3/envs/bentoml/lib/python3.10/site-packages (from circus!=0.17.2,>=0.17.0->bentoml->-r requirements.txt (line 1)) (24.0.1)\n",
      "Requirement already satisfied: MarkupSafe>=2.0 in /opt/miniconda3/envs/bentoml/lib/python3.10/site-packages (from Jinja2>=3.0.1->bentoml->-r requirements.txt (line 1)) (2.1.1)\n",
      "Requirement already satisfied: build in /opt/miniconda3/envs/bentoml/lib/python3.10/site-packages (from pip-tools>=6.6.2->bentoml->-r requirements.txt (line 1)) (0.10.0)\n",
      "Requirement already satisfied: pip>=22.2 in /opt/miniconda3/envs/bentoml/lib/python3.10/site-packages (from pip-tools>=6.6.2->bentoml->-r requirements.txt (line 1)) (22.2.2)\n",
      "Requirement already satisfied: wheel in /opt/miniconda3/envs/bentoml/lib/python3.10/site-packages (from pip-tools>=6.6.2->bentoml->-r requirements.txt (line 1)) (0.37.1)\n",
      "Requirement already satisfied: six>=1.5 in /opt/miniconda3/envs/bentoml/lib/python3.10/site-packages (from python-dateutil->bentoml->-r requirements.txt (line 1)) (1.16.0)\n",
      "Requirement already satisfied: charset-normalizer<3,>=2 in /opt/miniconda3/envs/bentoml/lib/python3.10/site-packages (from requests->bentoml->-r requirements.txt (line 1)) (2.1.1)\n",
      "Requirement already satisfied: idna<4,>=2.5 in /opt/miniconda3/envs/bentoml/lib/python3.10/site-packages (from requests->bentoml->-r requirements.txt (line 1)) (3.4)\n",
      "Requirement already satisfied: certifi>=2017.4.17 in /opt/miniconda3/envs/bentoml/lib/python3.10/site-packages (from requests->bentoml->-r requirements.txt (line 1)) (2022.12.7)\n",
      "Requirement already satisfied: urllib3<1.27,>=1.21.1 in /opt/miniconda3/envs/bentoml/lib/python3.10/site-packages (from requests->bentoml->-r requirements.txt (line 1)) (1.26.13)\n",
      "Requirement already satisfied: commonmark<0.10.0,>=0.9.0 in /opt/miniconda3/envs/bentoml/lib/python3.10/site-packages (from rich>=11.2.0->bentoml->-r requirements.txt (line 1)) (0.9.1)\n",
      "Requirement already satisfied: pygments<3.0.0,>=2.6.0 in /opt/miniconda3/envs/bentoml/lib/python3.10/site-packages (from rich>=11.2.0->bentoml->-r requirements.txt (line 1)) (2.14.0)\n",
      "Requirement already satisfied: anyio<5,>=3.4.0 in /opt/miniconda3/envs/bentoml/lib/python3.10/site-packages (from starlette<0.26->bentoml->-r requirements.txt (line 1)) (3.6.2)\n",
      "Requirement already satisfied: async-timeout<5.0,>=4.0.0a3 in /opt/miniconda3/envs/bentoml/lib/python3.10/site-packages (from aiohttp->bentoml->-r requirements.txt (line 1)) (4.0.2)\n",
      "Requirement already satisfied: yarl<2.0,>=1.0 in /opt/miniconda3/envs/bentoml/lib/python3.10/site-packages (from aiohttp->bentoml->-r requirements.txt (line 1)) (1.8.2)\n",
      "Requirement already satisfied: frozenlist>=1.1.1 in /opt/miniconda3/envs/bentoml/lib/python3.10/site-packages (from aiohttp->bentoml->-r requirements.txt (line 1)) (1.3.3)\n",
      "Requirement already satisfied: multidict<7.0,>=4.5 in /opt/miniconda3/envs/bentoml/lib/python3.10/site-packages (from aiohttp->bentoml->-r requirements.txt (line 1)) (6.0.3)\n",
      "Requirement already satisfied: aiosignal>=1.1.2 in /opt/miniconda3/envs/bentoml/lib/python3.10/site-packages (from aiohttp->bentoml->-r requirements.txt (line 1)) (1.3.1)\n",
      "Requirement already satisfied: appdirs~=1.4.3 in /opt/miniconda3/envs/bentoml/lib/python3.10/site-packages (from fs->bentoml->-r requirements.txt (line 1)) (1.4.4)\n",
      "Requirement already satisfied: contextlib2>=0.5.5 in /opt/miniconda3/envs/bentoml/lib/python3.10/site-packages (from schema->bentoml->-r requirements.txt (line 1)) (21.6.0)\n",
      "Requirement already satisfied: h11>=0.8 in /opt/miniconda3/envs/bentoml/lib/python3.10/site-packages (from uvicorn->bentoml->-r requirements.txt (line 1)) (0.14.0)\n",
      "Requirement already satisfied: sniffio>=1.1 in /opt/miniconda3/envs/bentoml/lib/python3.10/site-packages (from anyio<5,>=3.4.0->starlette<0.26->bentoml->-r requirements.txt (line 1)) (1.3.0)\n",
      "Requirement already satisfied: pyproject_hooks in /opt/miniconda3/envs/bentoml/lib/python3.10/site-packages (from build->pip-tools>=6.6.2->bentoml->-r requirements.txt (line 1)) (1.0.0)\n",
      "Requirement already satisfied: tomli>=1.1.0 in /opt/miniconda3/envs/bentoml/lib/python3.10/site-packages (from build->pip-tools>=6.6.2->bentoml->-r requirements.txt (line 1)) (2.0.1)\n"
     ]
    }
   ],
   "source": [
    "! pip install -r requirements.txt"
   ]
  },
  {
   "attachments": {},
   "cell_type": "markdown",
   "metadata": {},
   "source": [
    "## Download Kaggle Dataset\n",
    "\n",
    "Set Kaggle username and key as environment variables. Accepting the [rules of the competition](https://www.kaggle.com/competitions/ieee-fraud-detection/rules) is required for downloading the dataset."
   ]
  },
  {
   "cell_type": "code",
   "execution_count": 19,
   "metadata": {},
   "outputs": [
    {
     "name": "stdout",
     "output_type": "stream",
     "text": [
      "env: KAGGLE_USERNAME=s3sheng\n",
      "env: KAGGLE_KEY=0e3966223300cd8314f8ce78b2d56058\n"
     ]
    }
   ],
   "source": [
    "# Set Kaggle Credentials for downloading dataset\n",
    "%env KAGGLE_USERNAME=s3sheng\n",
    "%env KAGGLE_KEY=0e3966223300cd8314f8ce78b2d56058"
   ]
  },
  {
   "cell_type": "code",
   "execution_count": 15,
   "metadata": {},
   "outputs": [
    {
     "name": "stdout",
     "output_type": "stream",
     "text": [
      "Downloading ieee-fraud-detection.zip to /Users/ssheng/github/BentoML/examples/kubeflow\n",
      "100%|███████████████████████████████████████▉| 118M/118M [00:37<00:00, 3.29MB/s]\n",
      "100%|████████████████████████████████████████| 118M/118M [00:37<00:00, 3.31MB/s]\n",
      "Archive:  ieee-fraud-detection.zip\n",
      "  inflating: ./data/sample_submission.csv  \n",
      "  inflating: ./data/test_identity.csv  \n",
      "  inflating: ./data/test_transaction.csv  \n",
      "  inflating: ./data/train_identity.csv  \n",
      "  inflating: ./data/train_transaction.csv  \n"
     ]
    }
   ],
   "source": [
    "!kaggle competitions download -c ieee-fraud-detection\n",
    "!rm -rf ./data/\n",
    "!unzip -d ./data/ ieee-fraud-detection.zip && rm ieee-fraud-detection.zip"
   ]
  },
  {
   "attachments": {},
   "cell_type": "markdown",
   "metadata": {},
   "source": [
    "## Train Models\n",
    "\n",
    "In this demonstration, we'll train three fraud detection models using the Kaggle IEEE-CIS Fraud Detection dataset. To showcase saving and serving multiple models with Kubeflow and BentoML, we'll split the dataset into three equal-sized chunks and use each chunk to train a separate model. While this approach has no practical benefits, it will help illustrate how to save and serve multiple models with Kubeflow and BentoML."
   ]
  },
  {
   "cell_type": "code",
   "execution_count": 16,
   "metadata": {},
   "outputs": [],
   "source": [
    "import pandas as pd\n",
    "\n",
    "df_transactions = pd.read_csv(\"./data/train_transaction.csv\")\n",
    "\n",
    "X = df_transactions.drop(columns=[\"isFraud\"])\n",
    "y = df_transactions.isFraud"
   ]
  },
  {
   "cell_type": "code",
   "execution_count": 17,
   "metadata": {},
   "outputs": [],
   "source": [
    "from sklearn.impute import SimpleImputer\n",
    "from sklearn.compose import ColumnTransformer\n",
    "from sklearn.impute import SimpleImputer\n",
    "from sklearn.preprocessing import OrdinalEncoder\n",
    "\n",
    "numeric_features = df_transactions.select_dtypes(include=\"float64\").columns\n",
    "categorical_features = df_transactions.select_dtypes(include=\"object\").columns\n",
    "\n",
    "preprocessor = ColumnTransformer(\n",
    "    transformers=[\n",
    "        (\"num\", SimpleImputer(strategy=\"median\"), numeric_features),\n",
    "        (\n",
    "            \"cat\",\n",
    "            OrdinalEncoder(handle_unknown=\"use_encoded_value\", unknown_value=-1),\n",
    "            categorical_features,\n",
    "        ),\n",
    "    ],\n",
    "    verbose_feature_names_out=False,\n",
    "    remainder=\"passthrough\",\n",
    ")\n",
    "\n",
    "X = preprocessor.fit_transform(X)"
   ]
  },
  {
   "attachments": {},
   "cell_type": "markdown",
   "metadata": {},
   "source": [
    "Define our training function with the number of boosting rounds and maximum depths."
   ]
  },
  {
   "cell_type": "code",
   "execution_count": 25,
   "metadata": {},
   "outputs": [],
   "source": [
    "import xgboost as xgb\n",
    "\n",
    "def train(n_estimators, max_depth):\n",
    "    return xgb.XGBClassifier(\n",
    "        tree_method=\"hist\",\n",
    "        n_estimators=n_estimators,\n",
    "        max_depth=max_depth,\n",
    "        eval_metric=\"aucpr\",\n",
    "        objective=\"binary:logistic\",\n",
    "        enable_categorical=True,\n",
    "    ).fit(X_train, y_train, eval_set=[(X_test, y_test)])"
   ]
  },
  {
   "attachments": {},
   "cell_type": "markdown",
   "metadata": {},
   "source": [
    "We will divide the training data into three equal-sized chunks and treat them as independent data sets. Based on these data sets, we will train three separate fraud detection models. The trained model will be saved to the local model store using BentoML model saving API."
   ]
  },
  {
   "cell_type": "code",
   "execution_count": 29,
   "metadata": {},
   "outputs": [
    {
     "name": "stdout",
     "output_type": "stream",
     "text": [
      "[0]\tvalidation_0-aucpr:0.33902\n",
      "[1]\tvalidation_0-aucpr:0.39499\n",
      "[2]\tvalidation_0-aucpr:0.42274\n",
      "[3]\tvalidation_0-aucpr:0.45763\n",
      "[4]\tvalidation_0-aucpr:0.47844\n",
      "[5]\tvalidation_0-aucpr:0.49879\n",
      "[6]\tvalidation_0-aucpr:0.50348\n",
      "[7]\tvalidation_0-aucpr:0.51956\n",
      "[8]\tvalidation_0-aucpr:0.53362\n",
      "[9]\tvalidation_0-aucpr:0.54557\n",
      "Successfully trained model ieee-fraud-detection-0 with score 0.978358936844672.\n",
      "Successfully saved model ieee-fraud-detection-0 to the local model store.\n",
      "[0]\tvalidation_0-aucpr:0.39694\n",
      "[1]\tvalidation_0-aucpr:0.44607\n",
      "[2]\tvalidation_0-aucpr:0.47242\n",
      "[3]\tvalidation_0-aucpr:0.48558\n",
      "[4]\tvalidation_0-aucpr:0.50051\n",
      "[5]\tvalidation_0-aucpr:0.51961\n",
      "[6]\tvalidation_0-aucpr:0.53643\n",
      "[7]\tvalidation_0-aucpr:0.54900\n",
      "[8]\tvalidation_0-aucpr:0.55198\n",
      "[9]\tvalidation_0-aucpr:0.55791\n",
      "Successfully trained model ieee-fraud-detection-1 with score 0.9721409412338454.\n",
      "Successfully saved model ieee-fraud-detection-1 to the local model store.\n",
      "[0]\tvalidation_0-aucpr:0.38554\n",
      "[1]\tvalidation_0-aucpr:0.43959\n",
      "[2]\tvalidation_0-aucpr:0.45301\n",
      "[3]\tvalidation_0-aucpr:0.47012\n",
      "[4]\tvalidation_0-aucpr:0.48837\n",
      "[5]\tvalidation_0-aucpr:0.50161\n",
      "[6]\tvalidation_0-aucpr:0.51865\n",
      "[7]\tvalidation_0-aucpr:0.53677\n",
      "[8]\tvalidation_0-aucpr:0.54470\n",
      "[9]\tvalidation_0-aucpr:0.55329\n",
      "Successfully trained model ieee-fraud-detection-2 with score 0.9743761684142079.\n",
      "Successfully saved model ieee-fraud-detection-2 to the local model store.\n"
     ]
    }
   ],
   "source": [
    "import bentoml\n",
    "\n",
    "from sklearn.model_selection import train_test_split\n",
    "\n",
    "CHUNKS = 3\n",
    "CHUNK_SIZE = len(X) // CHUNKS\n",
    "\n",
    "for i in range(CHUNKS):\n",
    "    START = i * CHUNK_SIZE\n",
    "    END = (i + 1) * CHUNK_SIZE\n",
    "    X_train, X_test, y_train, y_test = train_test_split(X[START:END], y[START:END])\n",
    "\n",
    "    name = f\"ieee-fraud-detection-{i}\"\n",
    "    model = train(10, 5)\n",
    "    score = model.score(X_test, y_test)\n",
    "    print(f\"Successfully trained model {name} with score {score}.\")\n",
    "\n",
    "    bentoml.xgboost.save_model(\n",
    "        name,\n",
    "        model,\n",
    "        signatures={\n",
    "            \"predict_proba\": {\"batchable\": True},\n",
    "        },\n",
    "        custom_objects={\"preprocessor\": preprocessor},\n",
    "    )\n",
    "    print(f\"Successfully saved model {name} to the local model store.\")"
   ]
  },
  {
   "attachments": {},
   "cell_type": "markdown",
   "metadata": {},
   "source": [
    "Saved models can be loaded back into the memory and debugged in the notebook."
   ]
  },
  {
   "cell_type": "code",
   "execution_count": 30,
   "metadata": {},
   "outputs": [
    {
     "name": "stderr",
     "output_type": "stream",
     "text": [
      "'Runner.init_local' is for debugging and testing only. Make sure to remove it before deploying to production.\n"
     ]
    },
    {
     "data": {
      "text/plain": [
       "array([0, 0, 0, 0, 0, 0, 0, 0, 0, 0, 0, 0, 0, 0, 0, 0, 0, 0, 0, 0, 0, 0,\n",
       "       0, 0, 0, 0, 0, 0, 0, 0, 0, 0, 0, 0, 0, 0, 0, 0, 0, 0, 0, 0, 0, 0,\n",
       "       0, 0, 0, 0, 0, 0, 0, 0, 0, 0, 0, 0, 0, 0, 0, 0, 0, 0, 0, 0, 0, 0,\n",
       "       0, 0, 0, 0, 0, 0, 0, 0, 0, 0, 0, 0, 0, 0, 0, 0, 0, 0, 0, 0, 0, 0,\n",
       "       0, 0, 0, 0, 0, 0, 0, 0, 0, 0, 0, 0, 0, 0, 0, 0, 0, 0, 0, 0, 0, 0,\n",
       "       0, 0, 0, 0, 0, 0, 0, 0, 0, 0, 0, 0, 0, 0, 0, 0, 0, 0, 0, 0, 0, 0,\n",
       "       0, 0, 0, 0, 0, 0, 0, 0, 0, 0, 0, 0, 0, 0, 0, 0, 0, 0, 0, 0, 0, 0,\n",
       "       0, 0, 0, 0, 0, 0, 0, 0, 0, 0, 0, 0, 0, 0, 0, 0, 0, 0, 0, 0, 0, 0,\n",
       "       0, 0, 0, 0, 0, 0, 0, 0, 0, 0, 0, 0, 0, 0, 0, 0, 0, 0, 0, 0, 0, 0,\n",
       "       0, 0, 0, 0, 0, 0, 0, 0, 0, 0, 0, 0, 0, 0, 0, 0, 0, 0, 0, 0, 0, 0,\n",
       "       1, 0, 0, 0, 1, 0, 0, 0, 0, 1, 0, 1, 0, 0, 0, 0, 0, 0, 0, 0, 0, 0,\n",
       "       0, 0, 1, 0, 0, 0, 0, 0, 0, 0, 0, 0, 0, 0, 0, 0, 0, 0, 0, 0, 1, 1,\n",
       "       1, 0, 0, 0, 0, 0, 0, 0, 1, 0, 0, 0, 0, 0, 1, 1, 0, 0, 0, 0, 0, 0,\n",
       "       0, 1, 0, 0, 0, 0, 0, 0, 0, 0, 0, 0, 0, 0, 0, 0, 0, 0, 0, 0, 0, 0,\n",
       "       0, 0, 0, 0, 0, 0, 0, 0, 0, 0, 0, 0, 0, 0, 0, 0, 0, 0, 0, 0, 0, 0,\n",
       "       0, 0, 0, 0, 0, 0, 0, 0, 0, 0, 0, 0, 0, 0, 0, 0, 0, 0, 0, 0, 0, 0,\n",
       "       0, 0, 0, 0, 0, 0, 0, 0, 0, 0, 0, 0, 0, 0, 0, 0, 0, 0, 0, 0, 0, 0,\n",
       "       0, 0, 0, 0, 0, 0, 0, 0, 0, 0, 0, 0, 0, 0, 0, 0, 0, 0, 0, 0, 0, 0,\n",
       "       0, 0, 0, 0, 0, 0, 0, 0, 0, 0, 0, 0, 0, 0, 0, 0, 0, 0, 0, 0, 0, 0,\n",
       "       0, 0, 0, 0, 0, 0, 0, 0, 0, 0, 0, 0, 0, 0, 0, 0, 0, 0, 0, 0, 0, 0,\n",
       "       0, 0, 0, 0, 0, 0, 0, 0, 0, 0, 0, 0, 0, 0, 0, 0, 0, 0, 0, 0, 0, 0,\n",
       "       0, 0, 0, 0, 0, 0, 0, 0, 0, 0, 0, 0, 0, 0, 0, 0, 0, 0, 0, 0, 0, 0,\n",
       "       0, 0, 0, 0, 0, 0, 0, 0, 0, 0, 0, 0, 0, 0, 0, 0])"
      ]
     },
     "execution_count": 30,
     "metadata": {},
     "output_type": "execute_result"
    }
   ],
   "source": [
    "import bentoml\n",
    "import pandas as pd\n",
    "import numpy as np\n",
    "\n",
    "model_ref = bentoml.xgboost.get(\"ieee-fraud-detection-0:latest\")\n",
    "model_runner = model_ref.to_runner()\n",
    "model_runner.init_local()\n",
    "model_preprocessor = model_ref.custom_objects[\"preprocessor\"]\n",
    "\n",
    "test_transactions = pd.read_csv(\"./data/test_transaction.csv\")[0:500]\n",
    "test_transactions = model_preprocessor.transform(test_transactions)\n",
    "result = model_runner.predict_proba.run(test_transactions)\n",
    "np.argmax(result, axis=1)"
   ]
  },
  {
   "attachments": {},
   "cell_type": "markdown",
   "metadata": {},
   "source": [
    "## Define Service API\n",
    "\n",
    "After the models are built and scored, let's create the service definition. You can find the service definition in the `service.py` module in this example. Let's breakdown the `service.py` module and explain what each section does.\n",
    "\n",
    "First, we will create a list of preprocessors and runners from the three models we saved earlier. Runners are abstractions of the model inferences that can be scaled independently. See [Using Runners](https://docs.bentoml.org/en/latest/concepts/runner.html) for more details.\n",
    "\n",
    "```python\n",
    "fraud_detection_preprocessors = []\n",
    "fraud_detection_runners = []\n",
    "\n",
    "for model_name in [\"ieee-fraud-detection-0\", \"ieee-fraud-detection-1\", \"ieee-fraud-detection-2\"]:\n",
    "    model_ref = bentoml.xgboost.get(model_name)\n",
    "    fraud_detection_preprocessors.append(model_ref.custom_objects[\"preprocessor\"])\n",
    "    fraud_detection_runners.append(model_ref.to_runner())\n",
    "```\n",
    "\n",
    "Next, we will create a service with the list of runners passed in.\n",
    "\n",
    "```python\n",
    "svc = bentoml.Service(\"fraud_detection\", runners=fraud_detection_runners)\n",
    "```\n",
    "\n",
    "Finally, we will create the API function `is_fraud`. We'll use the `@api` decorator to declare that the function is an API and specify the input and output types as pandas.DataFrame and JSON, respectively. The function is defined as `async` so that the inference calls to the runners can happen simultaneously without waiting for the results to return before calling the next runner. The inner function `_is_fraud` defines the model inference logic for each runner. All runners are called simultaneously through the `asyncio.gather` function and the results are aggregated into a list. The function will return True if any of the models return True.\n",
    "\n",
    "For more about service definitinos, please see [Service and APIs](https://docs.bentoml.org/en/latest/concepts/service.html)."
   ]
  },
  {
   "attachments": {},
   "cell_type": "markdown",
   "metadata": {},
   "source": [
    "## Build Service\n",
    "\n",
    "Building the service and models into a bento allows it to be distributed among collaborators, containerized into a OCI image, and deployed in the Kubernetes cluster. To build a service into a bento, we first need to define the `bentofile.yaml` file. See [Building Bentos](https://docs.bentoml.org/en/latest/concepts/bento.html) for more options.\n",
    "\n",
    "```yaml\n",
    "service: \"service:svc\"\n",
    "include:\n",
    "- \"service.py\"\n",
    "- \"sample.py\"\n",
    "python:\n",
    "  requirements_txt: ./requirements.txt\n",
    "```\n",
    "\n",
    "Running the following command will build the service into a bento and store it to the local bento store."
   ]
  },
  {
   "cell_type": "code",
   "execution_count": 3,
   "metadata": {},
   "outputs": [
    {
     "name": "stdout",
     "output_type": "stream",
     "text": [
      "Building BentoML service \"fraud_detection:o5smnagbncigycvj\" from build context \"/Users/ssheng/github/BentoML/examples/kubeflow\".\n",
      "Packing model \"ieee-fraud-detection-1:mgp26vgbiwx3ycvj\"\n",
      "Packing model \"ieee-fraud-detection-2:mliw6fwbiwx3ycvj\"\n",
      "Packing model \"ieee-fraud-detection-0:mbpyb5wbiwx3ycvj\"\n",
      "<class 'pandas.core.series.Series'> is not yet supported.\n",
      "\n",
      "██████╗░███████╗███╗░░██╗████████╗░█████╗░███╗░░░███╗██╗░░░░░\n",
      "██╔══██╗██╔════╝████╗░██║╚══██╔══╝██╔══██╗████╗░████║██║░░░░░\n",
      "██████╦╝█████╗░░██╔██╗██║░░░██║░░░██║░░██║██╔████╔██║██║░░░░░\n",
      "██╔══██╗██╔══╝░░██║╚████║░░░██║░░░██║░░██║██║╚██╔╝██║██║░░░░░\n",
      "██████╦╝███████╗██║░╚███║░░░██║░░░╚█████╔╝██║░╚═╝░██║███████╗\n",
      "╚═════╝░╚══════╝╚═╝░░╚══╝░░░╚═╝░░░░╚════╝░╚═╝░░░░░╚═╝╚══════╝\n",
      "\n",
      "\u001b[32mSuccessfully built Bento(tag=\"fraud_detection:o5smnagbncigycvj\").\u001b[0m\n",
      "\u001b[33m\n",
      "Possible next steps:\n",
      "\n",
      " * Containerize your Bento with `bentoml containerize`:\n",
      "    $ bentoml containerize fraud_detection:o5smnagbncigycvj\u001b[0m\n",
      "\u001b[33m\n",
      " * Push to BentoCloud with `bentoml push`:\n",
      "    $ bentoml push fraud_detection:o5smnagbncigycvj\u001b[0m\n"
     ]
    }
   ],
   "source": [
    "! bentoml build"
   ]
  },
  {
   "attachments": {},
   "cell_type": "markdown",
   "metadata": {},
   "source": [
    "## Serve Bento\n",
    "\n",
    "Serving the bento will bring up a service endpoint in HTTP or gRPC for the service API we defined. Use `--help` to see more serving options."
   ]
  },
  {
   "cell_type": "code",
   "execution_count": 5,
   "metadata": {},
   "outputs": [
    {
     "name": "stdout",
     "output_type": "stream",
     "text": [
      "2023-03-12T23:43:10-0700 [INFO] [cli] Environ for worker 0: set CPU thread count to 10\n",
      "2023-03-12T23:43:10-0700 [INFO] [cli] Environ for worker 0: set CPU thread count to 10\n",
      "2023-03-12T23:43:10-0700 [INFO] [cli] Environ for worker 0: set CPU thread count to 10\n",
      "2023-03-12T23:43:10-0700 [INFO] [cli] Prometheus metrics for HTTPS BentoServer from \".\" can be accessed at https://localhost:3000/metrics.\n",
      "2023-03-12T23:43:11-0700 [INFO] [cli] Starting production HTTPS BentoServer from \".\" listening on https://0.0.0.0:3000 (Press CTRL+C to quit)\n",
      "2023-03-12T23:43:31-0700 [INFO] [api_server:fraud_detection:5] 127.0.0.1:55887 (scheme=http,method=GET,path=/,type=,length=) (status=200,type=text/html; charset=utf-8,length=2859) 0.220ms (trace=559de02545eac6369fbb9101f2cc13b2,span=3639a5d4b73b3b90,sampled=0)\n",
      "2023-03-12T23:43:31-0700 [WARNING] [api_server:fraud_detection:5] <class 'pandas.core.series.Series'> is not yet supported. (trace=47048dd8851df2cff1816ad41912f469,span=7b70e2c3d52efabe,sampled=0)\n",
      "2023-03-12T23:43:31-0700 [INFO] [api_server:fraud_detection:5] 127.0.0.1:55887 (scheme=http,method=GET,path=/docs.json,type=,length=) (status=200,type=application/json,length=12628) 7.431ms (trace=47048dd8851df2cff1816ad41912f469,span=7b70e2c3d52efabe,sampled=0)\n",
      "2023-03-12T23:43:35-0700 [INFO] [runner:ieee-fraud-detection-1:1] _ (scheme=http,method=POST,path=/predict_proba,type=application/octet-stream,length=3531) (status=200,type=application/vnd.bentoml.NdarrayContainer,length=157) 5.247ms (trace=4d14d3f5756b8380d01188e171e84ea4,span=ad931858290632e2,sampled=0)\n",
      "2023-03-12T23:43:35-0700 [INFO] [runner:ieee-fraud-detection-2:1] _ (scheme=http,method=POST,path=/predict_proba,type=application/octet-stream,length=3531) (status=200,type=application/vnd.bentoml.NdarrayContainer,length=157) 5.266ms (trace=4d14d3f5756b8380d01188e171e84ea4,span=05fd84db8605ddfc,sampled=0)\n",
      "2023-03-12T23:43:35-0700 [INFO] [runner:ieee-fraud-detection-0:1] _ (scheme=http,method=POST,path=/predict_proba,type=application/octet-stream,length=3531) (status=200,type=application/vnd.bentoml.NdarrayContainer,length=157) 4.132ms (trace=4d14d3f5756b8380d01188e171e84ea4,span=199155b8413f0f39,sampled=0)\n",
      "2023-03-12T23:43:35-0700 [INFO] [api_server:fraud_detection:5] 127.0.0.1:55887 (scheme=http,method=POST,path=/is_fraud,type=application/json,length=6443) (status=200,type=application/json,length=5) 416.842ms (trace=4d14d3f5756b8380d01188e171e84ea4,span=9cd015184f8c8bdf,sampled=0)\n",
      "2023-03-12T23:43:37-0700 [INFO] [runner:ieee-fraud-detection-1:1] _ (scheme=http,method=POST,path=/predict_proba,type=application/octet-stream,length=3531) (status=200,type=application/vnd.bentoml.NdarrayContainer,length=157) 11.026ms (trace=ec97523a886e5ce204b4a5bdc6069727,span=f8e52d015ffd9c61,sampled=0)\n",
      "2023-03-12T23:43:37-0700 [INFO] [runner:ieee-fraud-detection-0:1] _ (scheme=http,method=POST,path=/predict_proba,type=application/octet-stream,length=3531) (status=200,type=application/vnd.bentoml.NdarrayContainer,length=157) 20.837ms (trace=ec97523a886e5ce204b4a5bdc6069727,span=562035731612a2f8,sampled=0)\n",
      "2023-03-12T23:43:37-0700 [INFO] [runner:ieee-fraud-detection-2:1] _ (scheme=http,method=POST,path=/predict_proba,type=application/octet-stream,length=3531) (status=200,type=application/vnd.bentoml.NdarrayContainer,length=157) 2.068ms (trace=ec97523a886e5ce204b4a5bdc6069727,span=f1af020aa59b62c7,sampled=0)\n",
      "2023-03-12T23:43:37-0700 [INFO] [api_server:fraud_detection:5] 127.0.0.1:55887 (scheme=http,method=POST,path=/is_fraud,type=application/json,length=6443) (status=200,type=application/json,length=5) 100.808ms (trace=ec97523a886e5ce204b4a5bdc6069727,span=4e17605ddc25b0f2,sampled=0)\n",
      "2023-03-12T23:43:37-0700 [INFO] [runner:ieee-fraud-detection-0:1] _ (scheme=http,method=POST,path=/predict_proba,type=application/octet-stream,length=3531) (status=200,type=application/vnd.bentoml.NdarrayContainer,length=157) 21.699ms (trace=6cbfd98e0e1d5e5f146c47b89484725f,span=b078698d02ee0b4c,sampled=0)\n",
      "2023-03-12T23:43:37-0700 [INFO] [runner:ieee-fraud-detection-1:1] _ (scheme=http,method=POST,path=/predict_proba,type=application/octet-stream,length=3531) (status=200,type=application/vnd.bentoml.NdarrayContainer,length=157) 11.627ms (trace=6cbfd98e0e1d5e5f146c47b89484725f,span=8d98b352448ac30d,sampled=0)\n",
      "2023-03-12T23:43:37-0700 [INFO] [runner:ieee-fraud-detection-2:1] _ (scheme=http,method=POST,path=/predict_proba,type=application/octet-stream,length=3531) (status=200,type=application/vnd.bentoml.NdarrayContainer,length=157) 1.634ms (trace=6cbfd98e0e1d5e5f146c47b89484725f,span=d4001945588bac7f,sampled=0)\n",
      "2023-03-12T23:43:37-0700 [INFO] [api_server:fraud_detection:5] 127.0.0.1:55887 (scheme=http,method=POST,path=/is_fraud,type=application/json,length=6443) (status=200,type=application/json,length=5) 106.026ms (trace=6cbfd98e0e1d5e5f146c47b89484725f,span=a6fbd49760553fc9,sampled=0)\n",
      "^C\n"
     ]
    }
   ],
   "source": [
    "! bentoml serve-http --production"
   ]
  },
  {
   "attachments": {},
   "cell_type": "markdown",
   "metadata": {},
   "source": [
    "## Export Bento\n",
    "\n",
    "Bentos can be serialized and distributed for collaboration and deployment. The command below exports the Bento we built earlier to an S3 bucket."
   ]
  },
  {
   "cell_type": "code",
   "execution_count": null,
   "metadata": {},
   "outputs": [],
   "source": [
    "! bentoml export fraud_detection:latest s3://bentoml-bucket/fraud-detection.bento"
   ]
  },
  {
   "attachments": {},
   "cell_type": "markdown",
   "metadata": {},
   "source": [
    "## Deploy to Kubernetes Cluster\n",
    "\n"
   ]
  }
 ],
 "metadata": {
  "kernelspec": {
   "display_name": "bentoml",
   "language": "python",
   "name": "python3"
  },
  "language_info": {
   "codemirror_mode": {
    "name": "ipython",
    "version": 3
   },
   "file_extension": ".py",
   "mimetype": "text/x-python",
   "name": "python",
   "nbconvert_exporter": "python",
   "pygments_lexer": "ipython3",
   "version": "3.10.8"
  },
  "orig_nbformat": 4,
  "vscode": {
   "interpreter": {
    "hash": "c7496e3357ac7d0feefccc058dccef5f5223d152b10dff998de4314227246f61"
   }
  }
 },
 "nbformat": 4,
 "nbformat_minor": 2
}
