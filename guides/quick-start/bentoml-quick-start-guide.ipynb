{
 "cells": [
  {
   "cell_type": "markdown",
   "metadata": {},
   "source": [
    "# Getting Started with BentoML\n",
    "\n",
    "[BentoML](http://bentoml.ai) is an open source framework for serving and deploying machine learning models. It provides high-level APIs for defining a prediction service and packaging trained models, source code, dependencies, and configurations into a production-system-friendly format that is ready for production deployment.\n",
    "\n",
    "This is a quick tutorial on how to use BentoML to create a prediction service with a trained sklearn model, serving the model via a REST API server and deploy it to [AWS Lambda](https://aws.amazon.com/lambda/) as a serverless endpoint.\n",
    "\n",
    "![Impression](https://www.google-analytics.com/collect?v=1&tid=UA-112879361-3&cid=555&t=event&ec=guides&ea=bentoml-quick-start-guide&dt=bentoml-quick-start-guide)"
   ]
  },
  {
   "cell_type": "code",
   "execution_count": 1,
   "metadata": {},
   "outputs": [],
   "source": [
    "%reload_ext autoreload\n",
    "%autoreload 2\n",
    "%matplotlib inline"
   ]
  },
  {
   "cell_type": "markdown",
   "metadata": {},
   "source": [
    "BentoML requires python 3.6 or above, install via `pip`:"
   ]
  },
  {
   "cell_type": "code",
   "execution_count": null,
   "metadata": {},
   "outputs": [],
   "source": [
    "# Install BentoML\n",
    "!pip install bentoml\n",
    "\n",
    "# Also install scikit-learn, we will use a sklean model as an example\n",
    "!pip install pandas sklearn"
   ]
  },
  {
   "cell_type": "markdown",
   "metadata": {},
   "source": [
    "Let's get started with a simple scikit-learn model as an example:"
   ]
  },
  {
   "cell_type": "code",
   "execution_count": 2,
   "metadata": {},
   "outputs": [
    {
     "data": {
      "text/plain": [
       "SVC(C=1.0, break_ties=False, cache_size=200, class_weight=None, coef0=0.0,\n",
       "    decision_function_shape='ovr', degree=3, gamma='scale', kernel='rbf',\n",
       "    max_iter=-1, probability=False, random_state=None, shrinking=True,\n",
       "    tol=0.001, verbose=False)"
      ]
     },
     "execution_count": 2,
     "metadata": {},
     "output_type": "execute_result"
    }
   ],
   "source": [
    "from sklearn import svm\n",
    "from sklearn import datasets\n",
    "\n",
    "clf = svm.SVC(gamma='scale')\n",
    "iris = datasets.load_iris()\n",
    "X, y = iris.data, iris.target\n",
    "clf.fit(X, y)"
   ]
  },
  {
   "cell_type": "markdown",
   "metadata": {},
   "source": [
    "## Creating a Prediction Service with BentoML\n",
    "\n",
    "\n",
    "The first step of creating a prediction service with BentoML, is to write a prediction service class inheriting from bentoml.BentoService, and declaratively listing the dependencies, model artifacts and writing your service API call back function. Here is what a simple prediction service looks like:"
   ]
  },
  {
   "cell_type": "code",
   "execution_count": 3,
   "metadata": {},
   "outputs": [
    {
     "name": "stdout",
     "output_type": "stream",
     "text": [
      "Writing iris_classifier.py\n"
     ]
    }
   ],
   "source": [
    "%%writefile iris_classifier.py\n",
    "from bentoml import BentoService, api, env, artifacts\n",
    "from bentoml.artifact import SklearnModelArtifact\n",
    "from bentoml.handlers import DataframeHandler\n",
    "\n",
    "@artifacts([SklearnModelArtifact('model')])\n",
    "@env(pip_dependencies=[\"scikit-learn\"])\n",
    "class IrisClassifier(BentoService):\n",
    "\n",
    "    @api(DataframeHandler)\n",
    "    def predict(self, df):\n",
    "        return self.artifacts.model.predict(df)"
   ]
  },
  {
   "cell_type": "markdown",
   "metadata": {},
   "source": [
    "The `bentoml.api` and `DataframeHandler` here tells BentoML, that following by it, is\n",
    "the service API callback function, and `pandas.Dataframe` is its expected input format.\n",
    "\n",
    "The `bentoml.env` decorator allows user to specify the dependencies and environment \n",
    "settings for this prediction service. Here we are creating the prediction service based\n",
    "on a scikit learn model, so we add it to the list of pip dependencies.\n",
    "\n",
    "\n",
    "Last but not least, `bentoml.artifact` declares the required trained model to be bundled\n",
    "with this prediction service. Here it is using the built-in `SklearnModelArtifact` and\n",
    "simply naming it 'model'. BentoML also provide model artifact for other frameworks such\n",
    "as `PytorchModelArtifact`, `KerasModelArtifact`, `FastaiModelArtifact`, and\n",
    "`XgboostModelArtifact` etc.\n",
    "\n",
    "\n",
    "## Saving a versioned BentoService bundle"
   ]
  },
  {
   "cell_type": "code",
   "execution_count": 4,
   "metadata": {},
   "outputs": [
    {
     "name": "stdout",
     "output_type": "stream",
     "text": [
      "[2020-01-21 11:27:10,327] WARNING - BentoML local changes detected - Local BentoML repository including all code changes will be bundled together with the BentoService bundle. When used with docker, the base docker image will be default to same version as last PyPI release at version: 0.5.8. You can also force bentoml to use a specific version for deploying your BentoService bundle, by setting the config 'core/bentoml_deploy_version' to a pinned version or your custom BentoML on github, e.g.:'bentoml_deploy_version = git+https://github.com/{username}/bentoml.git@{branch}'\n",
      "[2020-01-21 11:27:10,731] WARNING - BentoML local changes detected - Local BentoML repository including all code changes will be bundled together with the BentoService bundle. When used with docker, the base docker image will be default to same version as last PyPI release at version: 0.5.8. You can also force bentoml to use a specific version for deploying your BentoService bundle, by setting the config 'core/bentoml_deploy_version' to a pinned version or your custom BentoML on github, e.g.:'bentoml_deploy_version = git+https://github.com/{username}/bentoml.git@{branch}'\n",
      "[2020-01-21 11:27:26,912] WARNING - BentoML local changes detected - Local BentoML repository including all code changes will be bundled together with the BentoService bundle. When used with docker, the base docker image will be default to same version as last PyPI release at version: 0.5.8. You can also force bentoml to use a specific version for deploying your BentoService bundle, by setting the config 'core/bentoml_deploy_version' to a pinned version or your custom BentoML on github, e.g.:'bentoml_deploy_version = git+https://github.com/{username}/bentoml.git@{branch}'\n",
      "running sdist\n",
      "running egg_info\n",
      "writing BentoML.egg-info/PKG-INFO\n",
      "writing dependency_links to BentoML.egg-info/dependency_links.txt\n",
      "writing entry points to BentoML.egg-info/entry_points.txt\n",
      "writing requirements to BentoML.egg-info/requires.txt\n",
      "writing top-level names to BentoML.egg-info/top_level.txt\n",
      "reading manifest file 'BentoML.egg-info/SOURCES.txt'\n",
      "reading manifest template 'MANIFEST.in'\n"
     ]
    },
    {
     "name": "stderr",
     "output_type": "stream",
     "text": [
      "no previously-included directories found matching 'examples'\n",
      "no previously-included directories found matching 'tests'\n",
      "no previously-included directories found matching 'docs'\n",
      "warning: no previously-included files matching '*~' found anywhere in distribution\n",
      "warning: no previously-included files matching '*.pyo' found anywhere in distribution\n",
      "warning: no previously-included files matching '.git' found anywhere in distribution\n",
      "warning: no previously-included files matching '.ipynb_checkpoints' found anywhere in distribution\n",
      "warning: no previously-included files matching '__pycache__' found anywhere in distribution\n"
     ]
    },
    {
     "name": "stdout",
     "output_type": "stream",
     "text": [
      "writing manifest file 'BentoML.egg-info/SOURCES.txt'\n",
      "running check\n"
     ]
    },
    {
     "name": "stderr",
     "output_type": "stream",
     "text": [
      "warning: check: missing meta-data: if 'author' supplied, 'author_email' must be supplied too\n",
      "\n"
     ]
    },
    {
     "name": "stdout",
     "output_type": "stream",
     "text": [
      "creating BentoML-0.5.8+14.g67ecb46.dirty\n",
      "creating BentoML-0.5.8+14.g67ecb46.dirty/BentoML.egg-info\n",
      "creating BentoML-0.5.8+14.g67ecb46.dirty/bentoml\n",
      "creating BentoML-0.5.8+14.g67ecb46.dirty/bentoml/artifact\n",
      "creating BentoML-0.5.8+14.g67ecb46.dirty/bentoml/bundler\n",
      "creating BentoML-0.5.8+14.g67ecb46.dirty/bentoml/cli\n",
      "creating BentoML-0.5.8+14.g67ecb46.dirty/bentoml/clipper\n",
      "creating BentoML-0.5.8+14.g67ecb46.dirty/bentoml/configuration\n",
      "creating BentoML-0.5.8+14.g67ecb46.dirty/bentoml/deployment\n",
      "creating BentoML-0.5.8+14.g67ecb46.dirty/bentoml/deployment/aws_lambda\n",
      "creating BentoML-0.5.8+14.g67ecb46.dirty/bentoml/deployment/sagemaker\n",
      "creating BentoML-0.5.8+14.g67ecb46.dirty/bentoml/handlers\n",
      "creating BentoML-0.5.8+14.g67ecb46.dirty/bentoml/migrations\n",
      "creating BentoML-0.5.8+14.g67ecb46.dirty/bentoml/migrations/versions\n",
      "creating BentoML-0.5.8+14.g67ecb46.dirty/bentoml/proto\n",
      "creating BentoML-0.5.8+14.g67ecb46.dirty/bentoml/repository\n",
      "creating BentoML-0.5.8+14.g67ecb46.dirty/bentoml/server\n",
      "creating BentoML-0.5.8+14.g67ecb46.dirty/bentoml/server/static\n",
      "creating BentoML-0.5.8+14.g67ecb46.dirty/bentoml/utils\n",
      "creating BentoML-0.5.8+14.g67ecb46.dirty/bentoml/utils/validator\n",
      "creating BentoML-0.5.8+14.g67ecb46.dirty/bentoml/yatai\n",
      "creating BentoML-0.5.8+14.g67ecb46.dirty/bentoml/yatai/client\n",
      "copying files to BentoML-0.5.8+14.g67ecb46.dirty...\n",
      "copying LICENSE -> BentoML-0.5.8+14.g67ecb46.dirty\n",
      "copying MANIFEST.in -> BentoML-0.5.8+14.g67ecb46.dirty\n",
      "copying README.md -> BentoML-0.5.8+14.g67ecb46.dirty\n",
      "copying pyproject.toml -> BentoML-0.5.8+14.g67ecb46.dirty\n",
      "copying setup.cfg -> BentoML-0.5.8+14.g67ecb46.dirty\n",
      "copying setup.py -> BentoML-0.5.8+14.g67ecb46.dirty\n",
      "copying versioneer.py -> BentoML-0.5.8+14.g67ecb46.dirty\n",
      "copying BentoML.egg-info/PKG-INFO -> BentoML-0.5.8+14.g67ecb46.dirty/BentoML.egg-info\n",
      "copying BentoML.egg-info/SOURCES.txt -> BentoML-0.5.8+14.g67ecb46.dirty/BentoML.egg-info\n",
      "copying BentoML.egg-info/dependency_links.txt -> BentoML-0.5.8+14.g67ecb46.dirty/BentoML.egg-info\n",
      "copying BentoML.egg-info/entry_points.txt -> BentoML-0.5.8+14.g67ecb46.dirty/BentoML.egg-info\n",
      "copying BentoML.egg-info/requires.txt -> BentoML-0.5.8+14.g67ecb46.dirty/BentoML.egg-info\n",
      "copying BentoML.egg-info/top_level.txt -> BentoML-0.5.8+14.g67ecb46.dirty/BentoML.egg-info\n",
      "copying bentoml/__init__.py -> BentoML-0.5.8+14.g67ecb46.dirty/bentoml\n",
      "copying bentoml/_version.py -> BentoML-0.5.8+14.g67ecb46.dirty/bentoml\n",
      "copying bentoml/alembic.ini -> BentoML-0.5.8+14.g67ecb46.dirty/bentoml\n",
      "copying bentoml/db.py -> BentoML-0.5.8+14.g67ecb46.dirty/bentoml\n",
      "copying bentoml/exceptions.py -> BentoML-0.5.8+14.g67ecb46.dirty/bentoml\n",
      "copying bentoml/service.py -> BentoML-0.5.8+14.g67ecb46.dirty/bentoml\n",
      "copying bentoml/service_env.py -> BentoML-0.5.8+14.g67ecb46.dirty/bentoml\n",
      "copying bentoml/artifact/__init__.py -> BentoML-0.5.8+14.g67ecb46.dirty/bentoml/artifact\n",
      "copying bentoml/artifact/artifact.py -> BentoML-0.5.8+14.g67ecb46.dirty/bentoml/artifact\n",
      "copying bentoml/artifact/fastai_model_artifact.py -> BentoML-0.5.8+14.g67ecb46.dirty/bentoml/artifact\n",
      "copying bentoml/artifact/h2o_model_artifact.py -> BentoML-0.5.8+14.g67ecb46.dirty/bentoml/artifact\n",
      "copying bentoml/artifact/keras_model_artifact.py -> BentoML-0.5.8+14.g67ecb46.dirty/bentoml/artifact\n",
      "copying bentoml/artifact/lightgbm_model_artifact.py -> BentoML-0.5.8+14.g67ecb46.dirty/bentoml/artifact\n",
      "copying bentoml/artifact/pickle_artifact.py -> BentoML-0.5.8+14.g67ecb46.dirty/bentoml/artifact\n",
      "copying bentoml/artifact/pytorch_model_artifact.py -> BentoML-0.5.8+14.g67ecb46.dirty/bentoml/artifact\n",
      "copying bentoml/artifact/sklearn_model_artifact.py -> BentoML-0.5.8+14.g67ecb46.dirty/bentoml/artifact\n",
      "copying bentoml/artifact/text_file_artifact.py -> BentoML-0.5.8+14.g67ecb46.dirty/bentoml/artifact\n",
      "copying bentoml/artifact/tf_savedmodel_artifact.py -> BentoML-0.5.8+14.g67ecb46.dirty/bentoml/artifact\n",
      "copying bentoml/artifact/xgboost_model_artifact.py -> BentoML-0.5.8+14.g67ecb46.dirty/bentoml/artifact\n",
      "copying bentoml/bundler/__init__.py -> BentoML-0.5.8+14.g67ecb46.dirty/bentoml/bundler\n",
      "copying bentoml/bundler/bundler.py -> BentoML-0.5.8+14.g67ecb46.dirty/bentoml/bundler\n",
      "copying bentoml/bundler/config.py -> BentoML-0.5.8+14.g67ecb46.dirty/bentoml/bundler\n",
      "copying bentoml/bundler/loader.py -> BentoML-0.5.8+14.g67ecb46.dirty/bentoml/bundler\n",
      "copying bentoml/bundler/py_module_utils.py -> BentoML-0.5.8+14.g67ecb46.dirty/bentoml/bundler\n",
      "copying bentoml/bundler/templates.py -> BentoML-0.5.8+14.g67ecb46.dirty/bentoml/bundler\n",
      "copying bentoml/bundler/utils.py -> BentoML-0.5.8+14.g67ecb46.dirty/bentoml/bundler\n",
      "copying bentoml/cli/__init__.py -> BentoML-0.5.8+14.g67ecb46.dirty/bentoml/cli\n",
      "copying bentoml/cli/aws_lambda.py -> BentoML-0.5.8+14.g67ecb46.dirty/bentoml/cli\n",
      "copying bentoml/cli/aws_sagemaker.py -> BentoML-0.5.8+14.g67ecb46.dirty/bentoml/cli\n",
      "copying bentoml/cli/bento.py -> BentoML-0.5.8+14.g67ecb46.dirty/bentoml/cli\n",
      "copying bentoml/cli/click_utils.py -> BentoML-0.5.8+14.g67ecb46.dirty/bentoml/cli\n",
      "copying bentoml/cli/config.py -> BentoML-0.5.8+14.g67ecb46.dirty/bentoml/cli\n",
      "copying bentoml/cli/deployment.py -> BentoML-0.5.8+14.g67ecb46.dirty/bentoml/cli\n",
      "copying bentoml/cli/utils.py -> BentoML-0.5.8+14.g67ecb46.dirty/bentoml/cli\n",
      "copying bentoml/clipper/__init__.py -> BentoML-0.5.8+14.g67ecb46.dirty/bentoml/clipper\n",
      "copying bentoml/configuration/__init__.py -> BentoML-0.5.8+14.g67ecb46.dirty/bentoml/configuration\n",
      "copying bentoml/configuration/configparser.py -> BentoML-0.5.8+14.g67ecb46.dirty/bentoml/configuration\n",
      "copying bentoml/configuration/default_bentoml.cfg -> BentoML-0.5.8+14.g67ecb46.dirty/bentoml/configuration\n",
      "copying bentoml/deployment/__init__.py -> BentoML-0.5.8+14.g67ecb46.dirty/bentoml/deployment\n",
      "copying bentoml/deployment/operator.py -> BentoML-0.5.8+14.g67ecb46.dirty/bentoml/deployment\n",
      "copying bentoml/deployment/store.py -> BentoML-0.5.8+14.g67ecb46.dirty/bentoml/deployment\n",
      "copying bentoml/deployment/utils.py -> BentoML-0.5.8+14.g67ecb46.dirty/bentoml/deployment\n",
      "copying bentoml/deployment/aws_lambda/__init__.py -> BentoML-0.5.8+14.g67ecb46.dirty/bentoml/deployment/aws_lambda\n",
      "copying bentoml/deployment/aws_lambda/download_extra_resources.py -> BentoML-0.5.8+14.g67ecb46.dirty/bentoml/deployment/aws_lambda\n",
      "copying bentoml/deployment/aws_lambda/lambda_app.py -> BentoML-0.5.8+14.g67ecb46.dirty/bentoml/deployment/aws_lambda\n",
      "copying bentoml/deployment/aws_lambda/utils.py -> BentoML-0.5.8+14.g67ecb46.dirty/bentoml/deployment/aws_lambda\n",
      "copying bentoml/deployment/sagemaker/__init__.py -> BentoML-0.5.8+14.g67ecb46.dirty/bentoml/deployment/sagemaker\n",
      "copying bentoml/deployment/sagemaker/sagemaker_nginx.conf -> BentoML-0.5.8+14.g67ecb46.dirty/bentoml/deployment/sagemaker\n",
      "copying bentoml/deployment/sagemaker/sagemaker_serve.py -> BentoML-0.5.8+14.g67ecb46.dirty/bentoml/deployment/sagemaker\n",
      "copying bentoml/deployment/sagemaker/sagemaker_wsgi.py -> BentoML-0.5.8+14.g67ecb46.dirty/bentoml/deployment/sagemaker\n",
      "copying bentoml/handlers/__init__.py -> BentoML-0.5.8+14.g67ecb46.dirty/bentoml/handlers\n",
      "copying bentoml/handlers/base_handlers.py -> BentoML-0.5.8+14.g67ecb46.dirty/bentoml/handlers\n",
      "copying bentoml/handlers/clipper_handler.py -> BentoML-0.5.8+14.g67ecb46.dirty/bentoml/handlers\n",
      "copying bentoml/handlers/dataframe_handler.py -> BentoML-0.5.8+14.g67ecb46.dirty/bentoml/handlers\n",
      "copying bentoml/handlers/fastai_image_handler.py -> BentoML-0.5.8+14.g67ecb46.dirty/bentoml/handlers\n",
      "copying bentoml/handlers/image_handler.py -> BentoML-0.5.8+14.g67ecb46.dirty/bentoml/handlers\n",
      "copying bentoml/handlers/json_handler.py -> BentoML-0.5.8+14.g67ecb46.dirty/bentoml/handlers\n",
      "copying bentoml/handlers/pytorch_tensor_handler.py -> BentoML-0.5.8+14.g67ecb46.dirty/bentoml/handlers\n",
      "copying bentoml/handlers/tensorflow_tensor_handler.py -> BentoML-0.5.8+14.g67ecb46.dirty/bentoml/handlers\n",
      "copying bentoml/handlers/utils.py -> BentoML-0.5.8+14.g67ecb46.dirty/bentoml/handlers\n",
      "copying bentoml/migrations/README -> BentoML-0.5.8+14.g67ecb46.dirty/bentoml/migrations\n",
      "copying bentoml/migrations/env.py -> BentoML-0.5.8+14.g67ecb46.dirty/bentoml/migrations\n",
      "copying bentoml/migrations/script.py.mako -> BentoML-0.5.8+14.g67ecb46.dirty/bentoml/migrations\n",
      "copying bentoml/migrations/versions/a6b00ae45279_add_last_updated_at_for_deployments.py -> BentoML-0.5.8+14.g67ecb46.dirty/bentoml/migrations/versions\n"
     ]
    },
    {
     "name": "stdout",
     "output_type": "stream",
     "text": [
      "copying bentoml/proto/__init__.py -> BentoML-0.5.8+14.g67ecb46.dirty/bentoml/proto\n",
      "copying bentoml/proto/deployment_pb2.py -> BentoML-0.5.8+14.g67ecb46.dirty/bentoml/proto\n",
      "copying bentoml/proto/repository_pb2.py -> BentoML-0.5.8+14.g67ecb46.dirty/bentoml/proto\n",
      "copying bentoml/proto/status_pb2.py -> BentoML-0.5.8+14.g67ecb46.dirty/bentoml/proto\n",
      "copying bentoml/proto/yatai_service_pb2.py -> BentoML-0.5.8+14.g67ecb46.dirty/bentoml/proto\n",
      "copying bentoml/proto/yatai_service_pb2_grpc.py -> BentoML-0.5.8+14.g67ecb46.dirty/bentoml/proto\n",
      "copying bentoml/repository/__init__.py -> BentoML-0.5.8+14.g67ecb46.dirty/bentoml/repository\n",
      "copying bentoml/repository/metadata_store.py -> BentoML-0.5.8+14.g67ecb46.dirty/bentoml/repository\n",
      "copying bentoml/server/__init__.py -> BentoML-0.5.8+14.g67ecb46.dirty/bentoml/server\n",
      "copying bentoml/server/bento_api_server.py -> BentoML-0.5.8+14.g67ecb46.dirty/bentoml/server\n",
      "copying bentoml/server/bento_sagemaker_server.py -> BentoML-0.5.8+14.g67ecb46.dirty/bentoml/server\n",
      "copying bentoml/server/gunicorn_config.py -> BentoML-0.5.8+14.g67ecb46.dirty/bentoml/server\n",
      "copying bentoml/server/gunicorn_server.py -> BentoML-0.5.8+14.g67ecb46.dirty/bentoml/server\n",
      "copying bentoml/server/middlewares.py -> BentoML-0.5.8+14.g67ecb46.dirty/bentoml/server\n",
      "copying bentoml/server/utils.py -> BentoML-0.5.8+14.g67ecb46.dirty/bentoml/server\n",
      "copying bentoml/server/static/swagger-ui-bundle.js -> BentoML-0.5.8+14.g67ecb46.dirty/bentoml/server/static\n",
      "copying bentoml/server/static/swagger-ui.css -> BentoML-0.5.8+14.g67ecb46.dirty/bentoml/server/static\n",
      "copying bentoml/utils/__init__.py -> BentoML-0.5.8+14.g67ecb46.dirty/bentoml/utils\n",
      "copying bentoml/utils/cloudpickle.py -> BentoML-0.5.8+14.g67ecb46.dirty/bentoml/utils\n",
      "copying bentoml/utils/hybirdmethod.py -> BentoML-0.5.8+14.g67ecb46.dirty/bentoml/utils\n",
      "copying bentoml/utils/log.py -> BentoML-0.5.8+14.g67ecb46.dirty/bentoml/utils\n",
      "copying bentoml/utils/s3.py -> BentoML-0.5.8+14.g67ecb46.dirty/bentoml/utils\n",
      "copying bentoml/utils/tempdir.py -> BentoML-0.5.8+14.g67ecb46.dirty/bentoml/utils\n",
      "copying bentoml/utils/usage_stats.py -> BentoML-0.5.8+14.g67ecb46.dirty/bentoml/utils\n",
      "copying bentoml/utils/validator/__init__.py -> BentoML-0.5.8+14.g67ecb46.dirty/bentoml/utils/validator\n",
      "copying bentoml/yatai/__init__.py -> BentoML-0.5.8+14.g67ecb46.dirty/bentoml/yatai\n",
      "copying bentoml/yatai/deployment_utils.py -> BentoML-0.5.8+14.g67ecb46.dirty/bentoml/yatai\n",
      "copying bentoml/yatai/status.py -> BentoML-0.5.8+14.g67ecb46.dirty/bentoml/yatai\n",
      "copying bentoml/yatai/yatai_service_impl.py -> BentoML-0.5.8+14.g67ecb46.dirty/bentoml/yatai\n",
      "copying bentoml/yatai/client/__init__.py -> BentoML-0.5.8+14.g67ecb46.dirty/bentoml/yatai/client\n",
      "copying bentoml/yatai/client/bento_repository_api.py -> BentoML-0.5.8+14.g67ecb46.dirty/bentoml/yatai/client\n",
      "copying bentoml/yatai/client/deployment_api.py -> BentoML-0.5.8+14.g67ecb46.dirty/bentoml/yatai/client\n",
      "Writing BentoML-0.5.8+14.g67ecb46.dirty/setup.cfg\n",
      "UPDATING BentoML-0.5.8+14.g67ecb46.dirty/bentoml/_version.py\n",
      "set BentoML-0.5.8+14.g67ecb46.dirty/bentoml/_version.py to '0.5.8+14.g67ecb46.dirty'\n",
      "Creating tar archive\n",
      "removing 'BentoML-0.5.8+14.g67ecb46.dirty' (and everything under it)\n",
      "[2020-01-21 11:27:28,311] INFO - BentoService bundle 'IrisClassifier:20200121112710_DA5806' created at: /private/var/folders/kn/xnc9k74x03567n1mx2tfqnpr0000gn/T/bentoml-temp-bkpypjfe\n",
      "[2020-01-21 11:27:28,313] WARNING - BentoML local changes detected - Local BentoML repository including all code changes will be bundled together with the BentoService bundle. When used with docker, the base docker image will be default to same version as last PyPI release at version: 0.5.8. You can also force bentoml to use a specific version for deploying your BentoService bundle, by setting the config 'core/bentoml_deploy_version' to a pinned version or your custom BentoML on github, e.g.:'bentoml_deploy_version = git+https://github.com/{username}/bentoml.git@{branch}'\n",
      "[2020-01-21 11:27:28,324] WARNING - Saved BentoService bundle version mismatch: loading BentoServie bundle create with BentoML version 0.5.8,  but loading from BentoML version 0.5.8+14.g67ecb46.dirty\n",
      "[2020-01-21 11:27:28,378] INFO - BentoService bundle 'IrisClassifier:20200121112710_DA5806' created at: /Users/bozhaoyu/bentoml/repository/IrisClassifier/20200121112710_DA5806\n"
     ]
    }
   ],
   "source": [
    "# 1) import the custom BentoService defined above\n",
    "from iris_classifier import IrisClassifier\n",
    "\n",
    "# 2) `pack` it with required artifacts\n",
    "svc = IrisClassifier.pack(model=clf)\n",
    "\n",
    "# 3) save BentoSerivce to a BentoML bundle\n",
    "saved_path = svc.save()"
   ]
  },
  {
   "cell_type": "markdown",
   "metadata": {},
   "source": [
    "_That's it._ You've just created a BentoService SavedBundle, it's a versioned file archive that is ready for production deployment. It contains the BentoService you defined, as well as the packed trained model artifacts, pre-processing code, dependencies and other configurations in a single file directory."
   ]
  },
  {
   "cell_type": "markdown",
   "metadata": {},
   "source": [
    "## Model Serving via REST API\n",
    "\n",
    "From a BentoService SavedBundle, you can start a REST API server by providing the file path to the saved bundle:"
   ]
  },
  {
   "cell_type": "code",
   "execution_count": 5,
   "metadata": {
    "scrolled": false
   },
   "outputs": [
    {
     "name": "stdout",
     "output_type": "stream",
     "text": [
      "[2020-01-21 11:27:29,999] WARNING - BentoML local changes detected - Local BentoML repository including all code changes will be bundled together with the BentoService bundle. When used with docker, the base docker image will be default to same version as last PyPI release at version: 0.5.8. You can also force bentoml to use a specific version for deploying your BentoService bundle, by setting the config 'core/bentoml_deploy_version' to a pinned version or your custom BentoML on github, e.g.:'bentoml_deploy_version = git+https://github.com/{username}/bentoml.git@{branch}'\n",
      "[2020-01-21 11:27:30,013] WARNING - Saved BentoService bundle version mismatch: loading BentoServie bundle create with BentoML version 0.5.8,  but loading from BentoML version 0.5.8+14.g67ecb46.dirty\n",
      "[2020-01-21 11:27:30,597] WARNING - BentoML local changes detected - Local BentoML repository including all code changes will be bundled together with the BentoService bundle. When used with docker, the base docker image will be default to same version as last PyPI release at version: 0.5.8. You can also force bentoml to use a specific version for deploying your BentoService bundle, by setting the config 'core/bentoml_deploy_version' to a pinned version or your custom BentoML on github, e.g.:'bentoml_deploy_version = git+https://github.com/{username}/bentoml.git@{branch}'\n",
      "[2020-01-21 11:27:31,104] WARNING - BentoML local changes detected - Local BentoML repository including all code changes will be bundled together with the BentoService bundle. When used with docker, the base docker image will be default to same version as last PyPI release at version: 0.5.8. You can also force bentoml to use a specific version for deploying your BentoService bundle, by setting the config 'core/bentoml_deploy_version' to a pinned version or your custom BentoML on github, e.g.:'bentoml_deploy_version = git+https://github.com/{username}/bentoml.git@{branch}'\n",
      " * Serving Flask app \"IrisClassifier\" (lazy loading)\n",
      " * Environment: production\n",
      "\u001b[31m   WARNING: This is a development server. Do not use it in a production deployment.\u001b[0m\n",
      "\u001b[2m   Use a production WSGI server instead.\u001b[0m\n",
      " * Debug mode: off\n",
      " * Running on http://127.0.0.1:5000/ (Press CTRL+C to quit)\n",
      "127.0.0.1 - - [21/Jan/2020 11:27:42] \"\u001b[37mPOST /predict HTTP/1.1\u001b[0m\" 200 -\n",
      "^C\n"
     ]
    }
   ],
   "source": [
    "# Note that REST API serving **does not work in Google Colab** due to unable to access Colab's VM\n",
    "!bentoml serve {saved_path}"
   ]
  },
  {
   "cell_type": "markdown",
   "metadata": {},
   "source": [
    "#### View documentations for REST APIs\n",
    "\n",
    "The REST API server provides a simply web UI for you to test and debug. If you are running this command on your local machine, visit http://127.0.0.1:5000 in your browser and try out sending API request to the server."
   ]
  },
  {
   "cell_type": "markdown",
   "metadata": {},
   "source": [
    "![BentoML API Server Web UI Screenshot](https://raw.githubusercontent.com/bentoml/BentoML/master/guides/quick-start/bento-api-server-web-ui.png)"
   ]
  },
  {
   "cell_type": "markdown",
   "metadata": {},
   "source": [
    "#### Send prediction request to REST API server\n",
    "\n",
    "You can also send prediction request with `curl` from command line:\n",
    "\n",
    "```bash\n",
    "curl -i \\\n",
    "--header \"Content-Type: application/json\" \\\n",
    "--request POST \\\n",
    "--data '[[5.1, 3.5, 1.4, 0.2]]' \\\n",
    "localhost:5000/predict\n",
    "```\n",
    "\n",
    "Or with `python` and `request` library:\n",
    "```python\n",
    "import requests\n",
    "response = requests.post(\"http://127.0.0.1:5000/predict\", json=[[5.1, 3.5, 1.4, 0.2]])\n",
    "print(response.text)\n",
    "```\n",
    "\n",
    "\n",
    "\n",
    "## Containerize REST API server with Docker\n",
    "\n",
    "\n",
    "The BentoService SavedBundle is structured to work as a docker build context, that can\n",
    "be directed used to build a docker image for API server. Simply use it as the docker\n",
    "build context directory:"
   ]
  },
  {
   "cell_type": "code",
   "execution_count": 6,
   "metadata": {},
   "outputs": [
    {
     "name": "stdout",
     "output_type": "stream",
     "text": [
      "Sending build context to Docker daemon  1.011MB\n",
      "Step 1/12 : FROM continuumio/miniconda3:4.7.12\n",
      " ---> 406f2b43ea59\n",
      "Step 2/12 : ENTRYPOINT [ \"/bin/bash\", \"-c\" ]\n",
      " ---> Running in bbab57ee8a88\n",
      "Removing intermediate container bbab57ee8a88\n",
      " ---> d3cfb80f9fc7\n",
      "Step 3/12 : EXPOSE 5000\n",
      " ---> Running in f953dcb79abc\n",
      "Removing intermediate container f953dcb79abc\n",
      " ---> 3d1f997a1d9c\n",
      "Step 4/12 : RUN set -x      && apt-get update      && apt-get install --no-install-recommends --no-install-suggests -y libpq-dev build-essential      && rm -rf /var/lib/apt/lists/*\n",
      " ---> Running in c2e99bcf2947\n",
      "\u001b[91m+ \u001b[0m\u001b[91mapt-get update\n",
      "\u001b[0mGet:1 http://deb.debian.org/debian buster InRelease [122 kB]\n",
      "Get:2 http://security.debian.org/debian-security buster/updates InRelease [65.4 kB]\n",
      "Get:3 http://deb.debian.org/debian buster-updates InRelease [49.3 kB]\n",
      "Get:4 http://security.debian.org/debian-security buster/updates/main amd64 Packages [172 kB]\n",
      "Get:5 http://deb.debian.org/debian buster/main amd64 Packages [7908 kB]\n",
      "Fetched 8316 kB in 3s (2676 kB/s)\n",
      "Reading package lists...\n",
      "\u001b[91m+ apt-get install --no-install-recommends --no-install-suggests -y libpq-dev build-essential\n",
      "\u001b[0mReading package lists...\n",
      "Building dependency tree...\n",
      "Reading state information...\n",
      "The following additional packages will be installed:\n",
      "  binutils binutils-common binutils-x86-64-linux-gnu cpp cpp-8 dpkg-dev g++\n",
      "  g++-8 gcc gcc-8 libasan5 libatomic1 libbinutils libc-dev-bin libc6-dev\n",
      "  libcc1-0 libdpkg-perl libgcc-8-dev libgomp1 libisl19 libitm1 liblsan0\n",
      "  libmpc3 libmpfr6 libmpx2 libpq5 libquadmath0 libstdc++-8-dev libtsan0\n",
      "  libubsan1 linux-libc-dev make\n",
      "Suggested packages:\n",
      "  binutils-doc cpp-doc gcc-8-locales debian-keyring g++-multilib\n",
      "  g++-8-multilib gcc-8-doc libstdc++6-8-dbg gcc-multilib manpages-dev autoconf\n",
      "  automake libtool flex bison gdb gcc-doc gcc-8-multilib libgcc1-dbg\n",
      "  libgomp1-dbg libitm1-dbg libatomic1-dbg libasan5-dbg liblsan0-dbg\n",
      "  libtsan0-dbg libubsan1-dbg libmpx2-dbg libquadmath0-dbg glibc-doc gnupg\n",
      "  | gnupg2 bzr postgresql-doc-11 libstdc++-8-doc make-doc\n",
      "Recommended packages:\n",
      "  fakeroot gnupg | gnupg2 libalgorithm-merge-perl manpages manpages-dev\n",
      "  libfile-fcntllock-perl liblocale-gettext-perl\n",
      "The following NEW packages will be installed:\n",
      "  binutils binutils-common binutils-x86-64-linux-gnu build-essential cpp cpp-8\n",
      "  dpkg-dev g++ g++-8 gcc gcc-8 libasan5 libatomic1 libbinutils libc-dev-bin\n",
      "  libc6-dev libcc1-0 libdpkg-perl libgcc-8-dev libgomp1 libisl19 libitm1\n",
      "  liblsan0 libmpc3 libmpfr6 libmpx2 libpq-dev libpq5 libquadmath0\n",
      "  libstdc++-8-dev libtsan0 libubsan1 linux-libc-dev make\n",
      "0 upgraded, 34 newly installed, 0 to remove and 26 not upgraded.\n",
      "Need to get 47.1 MB of archives.\n",
      "After this operation, 182 MB of additional disk space will be used.\n",
      "Get:1 http://deb.debian.org/debian buster/main amd64 binutils-common amd64 2.31.1-16 [2073 kB]\n",
      "Get:2 http://security.debian.org/debian-security buster/updates/main amd64 linux-libc-dev amd64 4.19.67-2+deb10u2 [1234 kB]\n",
      "Get:3 http://deb.debian.org/debian buster/main amd64 libbinutils amd64 2.31.1-16 [478 kB]\n",
      "Get:4 http://deb.debian.org/debian buster/main amd64 binutils-x86-64-linux-gnu amd64 2.31.1-16 [1823 kB]\n",
      "Get:5 http://deb.debian.org/debian buster/main amd64 binutils amd64 2.31.1-16 [56.8 kB]\n",
      "Get:6 http://deb.debian.org/debian buster/main amd64 libc-dev-bin amd64 2.28-10 [275 kB]\n",
      "Get:7 http://deb.debian.org/debian buster/main amd64 libc6-dev amd64 2.28-10 [2691 kB]\n",
      "Get:8 http://deb.debian.org/debian buster/main amd64 libisl19 amd64 0.20-2 [587 kB]\n",
      "Get:9 http://deb.debian.org/debian buster/main amd64 libmpfr6 amd64 4.0.2-1 [775 kB]\n",
      "Get:10 http://deb.debian.org/debian buster/main amd64 libmpc3 amd64 1.1.0-1 [41.3 kB]\n",
      "Get:11 http://deb.debian.org/debian buster/main amd64 cpp-8 amd64 8.3.0-6 [8914 kB]\n",
      "Get:12 http://deb.debian.org/debian buster/main amd64 cpp amd64 4:8.3.0-1 [19.4 kB]\n",
      "Get:13 http://deb.debian.org/debian buster/main amd64 libcc1-0 amd64 8.3.0-6 [46.6 kB]\n",
      "Get:14 http://deb.debian.org/debian buster/main amd64 libgomp1 amd64 8.3.0-6 [75.8 kB]\n",
      "Get:15 http://deb.debian.org/debian buster/main amd64 libitm1 amd64 8.3.0-6 [27.7 kB]\n",
      "Get:16 http://deb.debian.org/debian buster/main amd64 libatomic1 amd64 8.3.0-6 [9032 B]\n",
      "Get:17 http://deb.debian.org/debian buster/main amd64 libasan5 amd64 8.3.0-6 [362 kB]\n",
      "Get:18 http://deb.debian.org/debian buster/main amd64 liblsan0 amd64 8.3.0-6 [131 kB]\n",
      "Get:19 http://deb.debian.org/debian buster/main amd64 libtsan0 amd64 8.3.0-6 [283 kB]\n",
      "Get:20 http://deb.debian.org/debian buster/main amd64 libubsan1 amd64 8.3.0-6 [120 kB]\n",
      "Get:21 http://deb.debian.org/debian buster/main amd64 libmpx2 amd64 8.3.0-6 [11.4 kB]\n",
      "Get:22 http://deb.debian.org/debian buster/main amd64 libquadmath0 amd64 8.3.0-6 [133 kB]\n",
      "Get:23 http://deb.debian.org/debian buster/main amd64 libgcc-8-dev amd64 8.3.0-6 [2298 kB]\n",
      "Get:24 http://deb.debian.org/debian buster/main amd64 gcc-8 amd64 8.3.0-6 [9452 kB]\n",
      "Get:25 http://deb.debian.org/debian buster/main amd64 gcc amd64 4:8.3.0-1 [5196 B]\n",
      "Get:26 http://deb.debian.org/debian buster/main amd64 libstdc++-8-dev amd64 8.3.0-6 [1532 kB]\n",
      "Get:27 http://deb.debian.org/debian buster/main amd64 g++-8 amd64 8.3.0-6 [9752 kB]\n",
      "Get:28 http://deb.debian.org/debian buster/main amd64 g++ amd64 4:8.3.0-1 [1644 B]\n",
      "Get:29 http://deb.debian.org/debian buster/main amd64 make amd64 4.2.1-1.2 [341 kB]\n",
      "Get:30 http://deb.debian.org/debian buster/main amd64 libdpkg-perl all 1.19.7 [1414 kB]\n",
      "Get:31 http://deb.debian.org/debian buster/main amd64 dpkg-dev all 1.19.7 [1773 kB]\n",
      "Get:32 http://deb.debian.org/debian buster/main amd64 build-essential amd64 12.6 [7576 B]\n",
      "Get:33 http://deb.debian.org/debian buster/main amd64 libpq5 amd64 11.5-1+deb10u1 [166 kB]\n",
      "Get:34 http://deb.debian.org/debian buster/main amd64 libpq-dev amd64 11.5-1+deb10u1 [161 kB]\n",
      "\u001b[91mdebconf: delaying package configuration, since apt-utils is not installed\n",
      "\u001b[0mFetched 47.1 MB in 7s (6536 kB/s)\n",
      "Selecting previously unselected package binutils-common:amd64.\n",
      "(Reading database ... 12557 files and directories currently installed.)\n",
      "Preparing to unpack .../00-binutils-common_2.31.1-16_amd64.deb ...\n",
      "Unpacking binutils-common:amd64 (2.31.1-16) ...\n",
      "Selecting previously unselected package libbinutils:amd64.\n",
      "Preparing to unpack .../01-libbinutils_2.31.1-16_amd64.deb ...\n",
      "Unpacking libbinutils:amd64 (2.31.1-16) ...\n",
      "Selecting previously unselected package binutils-x86-64-linux-gnu.\n",
      "Preparing to unpack .../02-binutils-x86-64-linux-gnu_2.31.1-16_amd64.deb ...\n",
      "Unpacking binutils-x86-64-linux-gnu (2.31.1-16) ...\n",
      "Selecting previously unselected package binutils.\n",
      "Preparing to unpack .../03-binutils_2.31.1-16_amd64.deb ...\n",
      "Unpacking binutils (2.31.1-16) ...\n",
      "Selecting previously unselected package libc-dev-bin.\n",
      "Preparing to unpack .../04-libc-dev-bin_2.28-10_amd64.deb ...\n",
      "Unpacking libc-dev-bin (2.28-10) ...\n",
      "Selecting previously unselected package linux-libc-dev:amd64.\n",
      "Preparing to unpack .../05-linux-libc-dev_4.19.67-2+deb10u2_amd64.deb ...\n",
      "Unpacking linux-libc-dev:amd64 (4.19.67-2+deb10u2) ...\n",
      "Selecting previously unselected package libc6-dev:amd64.\n",
      "Preparing to unpack .../06-libc6-dev_2.28-10_amd64.deb ...\n",
      "Unpacking libc6-dev:amd64 (2.28-10) ...\n",
      "Selecting previously unselected package libisl19:amd64.\n",
      "Preparing to unpack .../07-libisl19_0.20-2_amd64.deb ...\n",
      "Unpacking libisl19:amd64 (0.20-2) ...\n",
      "Selecting previously unselected package libmpfr6:amd64.\n",
      "Preparing to unpack .../08-libmpfr6_4.0.2-1_amd64.deb ...\n",
      "Unpacking libmpfr6:amd64 (4.0.2-1) ...\n",
      "Selecting previously unselected package libmpc3:amd64.\n",
      "Preparing to unpack .../09-libmpc3_1.1.0-1_amd64.deb ...\n",
      "Unpacking libmpc3:amd64 (1.1.0-1) ...\n",
      "Selecting previously unselected package cpp-8.\n",
      "Preparing to unpack .../10-cpp-8_8.3.0-6_amd64.deb ...\n",
      "Unpacking cpp-8 (8.3.0-6) ...\n",
      "Selecting previously unselected package cpp.\n",
      "Preparing to unpack .../11-cpp_4%3a8.3.0-1_amd64.deb ...\n",
      "Unpacking cpp (4:8.3.0-1) ...\n",
      "Selecting previously unselected package libcc1-0:amd64.\n",
      "Preparing to unpack .../12-libcc1-0_8.3.0-6_amd64.deb ...\n",
      "Unpacking libcc1-0:amd64 (8.3.0-6) ...\n",
      "Selecting previously unselected package libgomp1:amd64.\n",
      "Preparing to unpack .../13-libgomp1_8.3.0-6_amd64.deb ...\n",
      "Unpacking libgomp1:amd64 (8.3.0-6) ...\n",
      "Selecting previously unselected package libitm1:amd64.\n",
      "Preparing to unpack .../14-libitm1_8.3.0-6_amd64.deb ...\n"
     ]
    },
    {
     "name": "stdout",
     "output_type": "stream",
     "text": [
      "Unpacking libitm1:amd64 (8.3.0-6) ...\n",
      "Selecting previously unselected package libatomic1:amd64.\n",
      "Preparing to unpack .../15-libatomic1_8.3.0-6_amd64.deb ...\n",
      "Unpacking libatomic1:amd64 (8.3.0-6) ...\n",
      "Selecting previously unselected package libasan5:amd64.\n",
      "Preparing to unpack .../16-libasan5_8.3.0-6_amd64.deb ...\n",
      "Unpacking libasan5:amd64 (8.3.0-6) ...\n",
      "Selecting previously unselected package liblsan0:amd64.\n",
      "Preparing to unpack .../17-liblsan0_8.3.0-6_amd64.deb ...\n",
      "Unpacking liblsan0:amd64 (8.3.0-6) ...\n",
      "Selecting previously unselected package libtsan0:amd64.\n",
      "Preparing to unpack .../18-libtsan0_8.3.0-6_amd64.deb ...\n",
      "Unpacking libtsan0:amd64 (8.3.0-6) ...\n",
      "Selecting previously unselected package libubsan1:amd64.\n",
      "Preparing to unpack .../19-libubsan1_8.3.0-6_amd64.deb ...\n",
      "Unpacking libubsan1:amd64 (8.3.0-6) ...\n",
      "Selecting previously unselected package libmpx2:amd64.\n",
      "Preparing to unpack .../20-libmpx2_8.3.0-6_amd64.deb ...\n",
      "Unpacking libmpx2:amd64 (8.3.0-6) ...\n",
      "Selecting previously unselected package libquadmath0:amd64.\n",
      "Preparing to unpack .../21-libquadmath0_8.3.0-6_amd64.deb ...\n",
      "Unpacking libquadmath0:amd64 (8.3.0-6) ...\n",
      "Selecting previously unselected package libgcc-8-dev:amd64.\n",
      "Preparing to unpack .../22-libgcc-8-dev_8.3.0-6_amd64.deb ...\n",
      "Unpacking libgcc-8-dev:amd64 (8.3.0-6) ...\n",
      "Selecting previously unselected package gcc-8.\n",
      "Preparing to unpack .../23-gcc-8_8.3.0-6_amd64.deb ...\n",
      "Unpacking gcc-8 (8.3.0-6) ...\n",
      "Selecting previously unselected package gcc.\n",
      "Preparing to unpack .../24-gcc_4%3a8.3.0-1_amd64.deb ...\n",
      "Unpacking gcc (4:8.3.0-1) ...\n",
      "Selecting previously unselected package libstdc++-8-dev:amd64.\n",
      "Preparing to unpack .../25-libstdc++-8-dev_8.3.0-6_amd64.deb ...\n",
      "Unpacking libstdc++-8-dev:amd64 (8.3.0-6) ...\n",
      "Selecting previously unselected package g++-8.\n",
      "Preparing to unpack .../26-g++-8_8.3.0-6_amd64.deb ...\n",
      "Unpacking g++-8 (8.3.0-6) ...\n",
      "Selecting previously unselected package g++.\n",
      "Preparing to unpack .../27-g++_4%3a8.3.0-1_amd64.deb ...\n",
      "Unpacking g++ (4:8.3.0-1) ...\n",
      "Selecting previously unselected package make.\n",
      "Preparing to unpack .../28-make_4.2.1-1.2_amd64.deb ...\n",
      "Unpacking make (4.2.1-1.2) ...\n",
      "Selecting previously unselected package libdpkg-perl.\n",
      "Preparing to unpack .../29-libdpkg-perl_1.19.7_all.deb ...\n",
      "Unpacking libdpkg-perl (1.19.7) ...\n",
      "Selecting previously unselected package dpkg-dev.\n",
      "Preparing to unpack .../30-dpkg-dev_1.19.7_all.deb ...\n",
      "Unpacking dpkg-dev (1.19.7) ...\n",
      "Selecting previously unselected package build-essential.\n",
      "Preparing to unpack .../31-build-essential_12.6_amd64.deb ...\n",
      "Unpacking build-essential (12.6) ...\n",
      "Selecting previously unselected package libpq5:amd64.\n",
      "Preparing to unpack .../32-libpq5_11.5-1+deb10u1_amd64.deb ...\n",
      "Unpacking libpq5:amd64 (11.5-1+deb10u1) ...\n",
      "Selecting previously unselected package libpq-dev.\n",
      "Preparing to unpack .../33-libpq-dev_11.5-1+deb10u1_amd64.deb ...\n",
      "Unpacking libpq-dev (11.5-1+deb10u1) ...\n",
      "Setting up binutils-common:amd64 (2.31.1-16) ...\n",
      "Setting up libpq5:amd64 (11.5-1+deb10u1) ...\n",
      "Setting up linux-libc-dev:amd64 (4.19.67-2+deb10u2) ...\n",
      "Setting up libpq-dev (11.5-1+deb10u1) ...\n",
      "Setting up libgomp1:amd64 (8.3.0-6) ...\n",
      "Setting up libasan5:amd64 (8.3.0-6) ...\n",
      "Setting up make (4.2.1-1.2) ...\n",
      "Setting up libmpfr6:amd64 (4.0.2-1) ...\n",
      "Setting up libquadmath0:amd64 (8.3.0-6) ...\n",
      "Setting up libmpc3:amd64 (1.1.0-1) ...\n",
      "Setting up libatomic1:amd64 (8.3.0-6) ...\n",
      "Setting up libdpkg-perl (1.19.7) ...\n",
      "Setting up libmpx2:amd64 (8.3.0-6) ...\n",
      "Setting up libubsan1:amd64 (8.3.0-6) ...\n",
      "Setting up libisl19:amd64 (0.20-2) ...\n",
      "Setting up libbinutils:amd64 (2.31.1-16) ...\n",
      "Setting up cpp-8 (8.3.0-6) ...\n",
      "Setting up libc-dev-bin (2.28-10) ...\n",
      "Setting up libcc1-0:amd64 (8.3.0-6) ...\n",
      "Setting up liblsan0:amd64 (8.3.0-6) ...\n",
      "Setting up libitm1:amd64 (8.3.0-6) ...\n",
      "Setting up binutils-x86-64-linux-gnu (2.31.1-16) ...\n",
      "Setting up libtsan0:amd64 (8.3.0-6) ...\n",
      "Setting up binutils (2.31.1-16) ...\n",
      "Setting up dpkg-dev (1.19.7) ...\n",
      "Setting up libgcc-8-dev:amd64 (8.3.0-6) ...\n",
      "Setting up cpp (4:8.3.0-1) ...\n",
      "Setting up libc6-dev:amd64 (2.28-10) ...\n",
      "Setting up libstdc++-8-dev:amd64 (8.3.0-6) ...\n",
      "Setting up gcc-8 (8.3.0-6) ...\n",
      "Setting up gcc (4:8.3.0-1) ...\n",
      "Setting up g++-8 (8.3.0-6) ...\n",
      "Setting up g++ (4:8.3.0-1) ...\n",
      "update-alternatives: using /usr/bin/g++ to provide /usr/bin/c++ (c++) in auto mode\n",
      "Setting up build-essential (12.6) ...\n",
      "Processing triggers for libc-bin (2.28-10) ...\n",
      "\u001b[91m+ rm -rf /var/lib/apt/lists/auxfiles /var/lib/apt/lists/deb.debian.org_debian_dists_buster-updates_InRelease /var/lib/apt/lists/deb.debian.org_debian_dists_buster-updates_main_binary-amd64_Packages.lz4 /var/lib/apt/lists/deb.debian.org_debian_dists_buster_InRelease /var/lib/apt/lists/deb.debian.org_debian_dists_buster_main_binary-amd64_Packages.lz4 /var/lib/apt/lists/lock /var/lib/apt/lists/partial /var/lib/apt/lists/security.debian.org_debian-security_dists_buster_updates_InRelease /var/lib/apt/lists/security.debian.org_debian-security_dists_buster_updates_main_binary-amd64_Packages.lz4\n",
      "\u001b[0mRemoving intermediate container c2e99bcf2947\n",
      " ---> a0b2d59e3e13\n",
      "Step 5/12 : RUN conda install pip numpy scipy       && pip install gunicorn\n",
      " ---> Running in 176267e5ab58\n",
      "Collecting package metadata (current_repodata.json): ...working... done\n",
      "Solving environment: ...working... done\n",
      "\n",
      "## Package Plan ##\n",
      "\n",
      "  environment location: /opt/conda\n",
      "\n",
      "  added / updated specs:\n",
      "    - numpy\n",
      "    - pip\n",
      "    - scipy\n",
      "\n",
      "\n",
      "The following packages will be downloaded:\n",
      "\n",
      "    package                    |            build\n",
      "    ---------------------------|-----------------\n",
      "    blas-1.0                   |              mkl           6 KB\n",
      "    ca-certificates-2019.11.27 |                0         124 KB\n",
      "    certifi-2019.11.28         |           py37_0         153 KB\n",
      "    conda-4.8.1                |           py37_0         2.8 MB\n",
      "    intel-openmp-2019.4        |              243         729 KB\n",
      "    libgfortran-ng-7.3.0       |       hdf63c60_0        1006 KB\n",
      "    mkl-2019.4                 |              243       131.2 MB\n",
      "    mkl-service-2.3.0          |   py37he904b0f_0         218 KB\n",
      "    mkl_fft-1.0.15             |   py37ha843d7b_0         154 KB\n",
      "    mkl_random-1.1.0           |   py37hd6b4f25_0         321 KB\n",
      "    numpy-1.18.1               |   py37h4f9e942_0           5 KB\n",
      "    numpy-base-1.18.1          |   py37hde5b4d6_0         4.1 MB\n",
      "    openssl-1.1.1d             |       h7b6447c_3         2.5 MB\n",
      "    pip-19.3.1                 |           py37_0         1.6 MB\n",
      "    scipy-1.3.2                |   py37h7c811a0_0        13.9 MB\n",
      "    ------------------------------------------------------------\n",
      "                                           Total:       158.9 MB\n",
      "\n",
      "The following NEW packages will be INSTALLED:\n",
      "\n",
      "  blas               pkgs/main/linux-64::blas-1.0-mkl\n",
      "  intel-openmp       pkgs/main/linux-64::intel-openmp-2019.4-243\n",
      "  libgfortran-ng     pkgs/main/linux-64::libgfortran-ng-7.3.0-hdf63c60_0\n",
      "  mkl                pkgs/main/linux-64::mkl-2019.4-243\n",
      "  mkl-service        pkgs/main/linux-64::mkl-service-2.3.0-py37he904b0f_0\n",
      "  mkl_fft            pkgs/main/linux-64::mkl_fft-1.0.15-py37ha843d7b_0\n",
      "  mkl_random         pkgs/main/linux-64::mkl_random-1.1.0-py37hd6b4f25_0\n",
      "  numpy              pkgs/main/linux-64::numpy-1.18.1-py37h4f9e942_0\n",
      "  numpy-base         pkgs/main/linux-64::numpy-base-1.18.1-py37hde5b4d6_0\n",
      "  scipy              pkgs/main/linux-64::scipy-1.3.2-py37h7c811a0_0\n",
      "\n",
      "The following packages will be UPDATED:\n",
      "\n",
      "  ca-certificates                               2019.8.28-0 --> 2019.11.27-0\n",
      "  certifi                                  2019.9.11-py37_0 --> 2019.11.28-py37_0\n",
      "  conda                                       4.7.12-py37_0 --> 4.8.1-py37_0\n",
      "  openssl                                 1.1.1d-h7b6447c_2 --> 1.1.1d-h7b6447c_3\n",
      "  pip                                         19.2.3-py37_0 --> 19.3.1-py37_0\n",
      "\n",
      "\n",
      "Proceed ([y]/n)? \n",
      "\n",
      "Downloading and Extracting Packages\n",
      "mkl-2019.4           | 131.2 MB  | ########## | 100% \n",
      "mkl-service-2.3.0    | 218 KB    | ########## | 100% \n",
      "numpy-base-1.18.1    | 4.1 MB    | ########## | 100% \n",
      "openssl-1.1.1d       | 2.5 MB    | ########## | 100% \n",
      "ca-certificates-2019 | 124 KB    | ########## | 100% \n",
      "pip-19.3.1           | 1.6 MB    | ########## | 100% \n"
     ]
    },
    {
     "name": "stdout",
     "output_type": "stream",
     "text": [
      "mkl_fft-1.0.15       | 154 KB    | ########## | 100% \n",
      "numpy-1.18.1         | 5 KB      | ########## | 100% \n",
      "scipy-1.3.2          | 13.9 MB   | ########## | 100% \n",
      "intel-openmp-2019.4  | 729 KB    | ########## | 100% \n",
      "certifi-2019.11.28   | 153 KB    | ########## | 100% \n",
      "conda-4.8.1          | 2.8 MB    | ########## | 100% \n",
      "blas-1.0             | 6 KB      | ########## | 100% \n",
      "libgfortran-ng-7.3.0 | 1006 KB   | ########## | 100% \n",
      "mkl_random-1.1.0     | 321 KB    | ########## | 100% \n",
      "Preparing transaction: ...working... done\n",
      "Verifying transaction: ...working... done\n",
      "Executing transaction: ...working... done\n",
      "Collecting gunicorn\n",
      "  Downloading https://files.pythonhosted.org/packages/69/ca/926f7cd3a2014b16870086b2d0fdc84a9e49473c68a8dff8b57f7c156f43/gunicorn-20.0.4-py2.py3-none-any.whl (77kB)\n",
      "Requirement already satisfied: setuptools>=3.0 in /opt/conda/lib/python3.7/site-packages (from gunicorn) (41.4.0)\n",
      "Installing collected packages: gunicorn\n",
      "Successfully installed gunicorn-20.0.4\n",
      "Removing intermediate container 176267e5ab58\n",
      " ---> 504b4d11f51a\n",
      "Step 6/12 : COPY . /bento\n",
      " ---> 66d1e244e3ca\n",
      "Step 7/12 : WORKDIR /bento\n",
      " ---> Running in 746540e44412\n",
      "Removing intermediate container 746540e44412\n",
      " ---> 62112a52592a\n",
      "Step 8/12 : RUN conda env update -n base -f /bento/environment.yml\n",
      " ---> Running in 4f5b9aca959a\n",
      "Collecting package metadata (repodata.json): ...working... done\n",
      "Solving environment: ...working... done\n",
      "\n",
      "Downloading and Extracting Packages\n",
      "python-3.7.2         | 31.9 MB   | ########## | 100% \n",
      "Preparing transaction: ...working... done\n",
      "Verifying transaction: ...working... done\n",
      "Executing transaction: ...working... done\n",
      "#\n",
      "# To activate this environment, use\n",
      "#\n",
      "#     $ conda activate base\n",
      "#\n",
      "# To deactivate an active environment, use\n",
      "#\n",
      "#     $ conda deactivate\n",
      "\n",
      "Removing intermediate container 4f5b9aca959a\n",
      " ---> 25a623c7d4cb\n",
      "Step 9/12 : RUN pip install -r /bento/requirements.txt\n",
      " ---> Running in 2c4ce1a80319\n",
      "Collecting bentoml==0.5.8\n",
      "  Downloading https://files.pythonhosted.org/packages/a4/ad/707fb1cd011fe772b803b5c106fa4fbb5e12448fa4db2ac42d01db4859cf/BentoML-0.5.8-py3-none-any.whl (537kB)\n",
      "Collecting scikit-learn\n",
      "  Downloading https://files.pythonhosted.org/packages/73/db/7d8204ddba84ab5d1e4fd1af8f82bbe39c589488bee71e45c662f4144010/scikit_learn-0.22.1-cp37-cp37m-manylinux1_x86_64.whl (7.0MB)\n",
      "Requirement already satisfied: numpy in /opt/conda/lib/python3.7/site-packages (from bentoml==0.5.8->-r /bento/requirements.txt (line 1)) (1.18.1)\n",
      "Collecting sqlalchemy>=1.3.0\n",
      "  Downloading https://files.pythonhosted.org/packages/17/7f/35879c73859368ad19a952b69ee780aa97fc30350dabd45fb948d6a4e3ea/SQLAlchemy-1.3.12.tar.gz (6.0MB)\n",
      "Requirement already satisfied: requests in /opt/conda/lib/python3.7/site-packages (from bentoml==0.5.8->-r /bento/requirements.txt (line 1)) (2.22.0)\n",
      "Collecting flask\n",
      "  Downloading https://files.pythonhosted.org/packages/9b/93/628509b8d5dc749656a9641f4caf13540e2cdec85276964ff8f43bbb1d3b/Flask-1.1.1-py2.py3-none-any.whl (94kB)\n",
      "Collecting python-json-logger\n",
      "  Downloading https://files.pythonhosted.org/packages/80/9d/1c3393a6067716e04e6fcef95104c8426d262b4adaf18d7aa2470eab028d/python-json-logger-0.1.11.tar.gz\n",
      "Collecting tabulate\n",
      "  Downloading https://files.pythonhosted.org/packages/c4/41/523f6a05e6dc3329a5660f6a81254c6cd87e5cfb5b7482bae3391d86ec3a/tabulate-0.8.6.tar.gz (45kB)\n",
      "Collecting configparser\n",
      "  Downloading https://files.pythonhosted.org/packages/7a/2a/95ed0501cf5d8709490b1d3a3f9b5cf340da6c433f896bbe9ce08dbe6785/configparser-4.0.2-py2.py3-none-any.whl\n",
      "Collecting pandas\n",
      "  Downloading https://files.pythonhosted.org/packages/63/e0/a1b39cdcb2c391f087a1538bc8a6d62a82d0439693192aef541d7b123769/pandas-0.25.3-cp37-cp37m-manylinux1_x86_64.whl (10.4MB)\n",
      "Collecting prometheus-client\n",
      "  Downloading https://files.pythonhosted.org/packages/b3/23/41a5a24b502d35a4ad50a5bb7202a5e1d9a0364d0c12f56db3dbf7aca76d/prometheus_client-0.7.1.tar.gz\n",
      "Collecting packaging\n",
      "  Downloading https://files.pythonhosted.org/packages/d8/5b/3098db49a61ccc8583ffead6aedc226f08ff56dc03106b6ec54451e27a30/packaging-20.0-py2.py3-none-any.whl\n",
      "Collecting cerberus\n",
      "  Downloading https://files.pythonhosted.org/packages/90/a7/71c6ed2d46a81065e68c007ac63378b96fa54c7bb614d653c68232f9c50c/Cerberus-1.3.2.tar.gz (52kB)\n",
      "Collecting grpcio\n",
      "  Downloading https://files.pythonhosted.org/packages/bc/b3/0052e38c640d52b710e235b15821cc3c61d0065bf54e70a44550ef127349/grpcio-1.26.0-cp37-cp37m-manylinux2010_x86_64.whl (2.4MB)\n",
      "Collecting docker\n",
      "  Downloading https://files.pythonhosted.org/packages/cc/ca/699d4754a932787ef353a157ada74efd1ceb6d1fc0bfb7989ae1e7b33111/docker-4.1.0-py2.py3-none-any.whl (139kB)\n",
      "Collecting alembic\n",
      "  Downloading https://files.pythonhosted.org/packages/dc/6d/3c1411dfdcf089ec89ce5e2222deb2292f39b6b1a5911222e15af9fe5a92/alembic-1.3.2.tar.gz (1.1MB)\n",
      "Collecting python-dateutil<2.8.1,>=2.1\n",
      "  Downloading https://files.pythonhosted.org/packages/41/17/c62faccbfbd163c7f57f3844689e3a78bae1f403648a6afb1d0866d87fbb/python_dateutil-2.8.0-py2.py3-none-any.whl (226kB)\n",
      "Collecting click>=7.0\n",
      "  Downloading https://files.pythonhosted.org/packages/fa/37/45185cb5abbc30d7257104c434fe0b07e5a195a6847506c074527aa599ec/Click-7.0-py2.py3-none-any.whl (81kB)\n",
      "Collecting ruamel.yaml>=0.15.0\n",
      "  Downloading https://files.pythonhosted.org/packages/99/a8/25242fc81d0c02460e93e8cc7ec4ae60c2382c00ba0a0e1becc22e76548d/ruamel.yaml-0.16.6-py2.py3-none-any.whl (123kB)\n",
      "Collecting protobuf>=3.6.0\n",
      "  Downloading https://files.pythonhosted.org/packages/4a/14/f5c294f1e36a031f165128c25feba93b3116f15a74398d0b2747ed75744f/protobuf-3.11.2-cp37-cp37m-manylinux1_x86_64.whl (1.3MB)\n",
      "Collecting humanfriendly\n",
      "  Downloading https://files.pythonhosted.org/packages/90/df/88bff450f333114680698dc4aac7506ff7cab164b794461906de31998665/humanfriendly-4.18-py2.py3-none-any.whl (73kB)\n",
      "Requirement already satisfied: gunicorn in /opt/conda/lib/python3.7/site-packages (from bentoml==0.5.8->-r /bento/requirements.txt (line 1)) (20.0.4)\n",
      "Collecting boto3\n",
      "  Downloading https://files.pythonhosted.org/packages/d3/06/9b853c5b27365978eb31da50506a673a9f6b93b8d5ad3185b884a30d5af7/boto3-1.11.6-py2.py3-none-any.whl (128kB)\n",
      "Collecting joblib>=0.11\n",
      "  Downloading https://files.pythonhosted.org/packages/28/5c/cf6a2b65a321c4a209efcdf64c2689efae2cb62661f8f6f4bb28547cf1bf/joblib-0.14.1-py2.py3-none-any.whl (294kB)\n",
      "Requirement already satisfied: scipy>=0.17.0 in /opt/conda/lib/python3.7/site-packages (from scikit-learn->-r /bento/requirements.txt (line 2)) (1.3.2)\n",
      "Requirement already satisfied: idna<2.9,>=2.5 in /opt/conda/lib/python3.7/site-packages (from requests->bentoml==0.5.8->-r /bento/requirements.txt (line 1)) (2.8)\n",
      "Requirement already satisfied: urllib3!=1.25.0,!=1.25.1,<1.26,>=1.21.1 in /opt/conda/lib/python3.7/site-packages (from requests->bentoml==0.5.8->-r /bento/requirements.txt (line 1)) (1.24.2)\n",
      "Requirement already satisfied: certifi>=2017.4.17 in /opt/conda/lib/python3.7/site-packages (from requests->bentoml==0.5.8->-r /bento/requirements.txt (line 1)) (2019.11.28)\n",
      "Requirement already satisfied: chardet<3.1.0,>=3.0.2 in /opt/conda/lib/python3.7/site-packages (from requests->bentoml==0.5.8->-r /bento/requirements.txt (line 1)) (3.0.4)\n",
      "Collecting Jinja2>=2.10.1\n",
      "  Downloading https://files.pythonhosted.org/packages/65/e0/eb35e762802015cab1ccee04e8a277b03f1d8e53da3ec3106882ec42558b/Jinja2-2.10.3-py2.py3-none-any.whl (125kB)\n",
      "Collecting Werkzeug>=0.15\n",
      "  Downloading https://files.pythonhosted.org/packages/ce/42/3aeda98f96e85fd26180534d36570e4d18108d62ae36f87694b476b83d6f/Werkzeug-0.16.0-py2.py3-none-any.whl (327kB)\n",
      "Collecting itsdangerous>=0.24\n",
      "  Downloading https://files.pythonhosted.org/packages/76/ae/44b03b253d6fade317f32c24d100b3b35c2239807046a4c953c7b89fa49e/itsdangerous-1.1.0-py2.py3-none-any.whl\n",
      "Collecting pytz>=2017.2\n",
      "  Downloading https://files.pythonhosted.org/packages/e7/f9/f0b53f88060247251bf481fa6ea62cd0d25bf1b11a87888e53ce5b7c8ad2/pytz-2019.3-py2.py3-none-any.whl (509kB)\n",
      "Requirement already satisfied: six in /opt/conda/lib/python3.7/site-packages (from packaging->bentoml==0.5.8->-r /bento/requirements.txt (line 1)) (1.12.0)\n",
      "Collecting pyparsing>=2.0.2\n",
      "  Downloading https://files.pythonhosted.org/packages/5d/bc/1e58593167fade7b544bfe9502a26dc860940a79ab306e651e7f13be68c2/pyparsing-2.4.6-py2.py3-none-any.whl (67kB)\n"
     ]
    },
    {
     "name": "stdout",
     "output_type": "stream",
     "text": [
      "Requirement already satisfied: setuptools in /opt/conda/lib/python3.7/site-packages (from cerberus->bentoml==0.5.8->-r /bento/requirements.txt (line 1)) (41.4.0)\n",
      "Collecting websocket-client>=0.32.0\n",
      "  Downloading https://files.pythonhosted.org/packages/4c/5f/f61b420143ed1c8dc69f9eaec5ff1ac36109d52c80de49d66e0c36c3dfdf/websocket_client-0.57.0-py2.py3-none-any.whl (200kB)\n",
      "Collecting Mako\n",
      "  Downloading https://files.pythonhosted.org/packages/28/03/329b21f00243fc2d3815399413845dbbfb0745cff38a29d3597e97f8be58/Mako-1.1.1.tar.gz (468kB)\n",
      "Collecting python-editor>=0.3\n",
      "  Downloading https://files.pythonhosted.org/packages/c6/d3/201fc3abe391bbae6606e6f1d598c15d367033332bd54352b12f35513717/python_editor-1.0.4-py3-none-any.whl\n",
      "Collecting ruamel.yaml.clib>=0.1.2; platform_python_implementation == \"CPython\" and python_version < \"3.8\"\n",
      "  Downloading https://files.pythonhosted.org/packages/40/80/da16b691d5e259dd9919a10628e541fca321cb4b078fbb88e1c7c22aa42d/ruamel.yaml.clib-0.2.0-cp37-cp37m-manylinux1_x86_64.whl (547kB)\n",
      "Collecting jmespath<1.0.0,>=0.7.1\n",
      "  Downloading https://files.pythonhosted.org/packages/83/94/7179c3832a6d45b266ddb2aac329e101367fbdb11f425f13771d27f225bb/jmespath-0.9.4-py2.py3-none-any.whl\n",
      "Collecting s3transfer<0.4.0,>=0.3.0\n",
      "  Downloading https://files.pythonhosted.org/packages/de/6d/27abf73e66a05726dd52fb3a6645417b5dc86d90488b59589296dafbf054/s3transfer-0.3.1-py2.py3-none-any.whl (69kB)\n",
      "Collecting botocore<1.15.0,>=1.14.6\n",
      "  Downloading https://files.pythonhosted.org/packages/b9/e6/a29bdaf62c298ba7ceaa6453d40ec4a4efe433c25d4d9d0661da8e715396/botocore-1.14.6-py2.py3-none-any.whl (5.9MB)\n",
      "Collecting MarkupSafe>=0.23\n",
      "  Downloading https://files.pythonhosted.org/packages/98/7b/ff284bd8c80654e471b769062a9b43cc5d03e7a615048d96f4619df8d420/MarkupSafe-1.1.1-cp37-cp37m-manylinux1_x86_64.whl\n",
      "Collecting docutils<0.16,>=0.10\n",
      "  Downloading https://files.pythonhosted.org/packages/22/cd/a6aa959dca619918ccb55023b4cb151949c64d4d5d55b3f4ffd7eee0c6e8/docutils-0.15.2-py3-none-any.whl (547kB)\n",
      "Building wheels for collected packages: sqlalchemy, python-json-logger, tabulate, prometheus-client, cerberus, alembic, Mako\n",
      "  Building wheel for sqlalchemy (setup.py): started\n",
      "  Building wheel for sqlalchemy (setup.py): finished with status 'done'\n",
      "  Created wheel for sqlalchemy: filename=SQLAlchemy-1.3.12-cp37-cp37m-linux_x86_64.whl size=1219999 sha256=dc002859dc6770f36ff2a652cb0d0e2f99da62efaf2d267afd583ef3bb9180ff\n",
      "  Stored in directory: /root/.cache/pip/wheels/ee/33/44/0788a6e806866ae2e246d5cd841d07498a46bcb3f3c42ea5a4\n",
      "  Building wheel for python-json-logger (setup.py): started\n",
      "  Building wheel for python-json-logger (setup.py): finished with status 'done'\n",
      "  Created wheel for python-json-logger: filename=python_json_logger-0.1.11-py2.py3-none-any.whl size=5076 sha256=a9d82f90e0c0b1b6aee24c4607487c69b605d3b8d0ec25ddefcfe79b019a4ed8\n",
      "  Stored in directory: /root/.cache/pip/wheels/97/f7/a1/752e22bb30c1cfe38194ea0070a5c66e76ef4d06ad0c7dc401\n",
      "  Building wheel for tabulate (setup.py): started\n",
      "  Building wheel for tabulate (setup.py): finished with status 'done'\n",
      "  Created wheel for tabulate: filename=tabulate-0.8.6-cp37-none-any.whl size=23274 sha256=4941cdceff4c3a91051c8336692de1eede19460b01538d91d34a1e2aba0f91ca\n",
      "  Stored in directory: /root/.cache/pip/wheels/9c/9b/f4/eb243fdb89676ec00588e8c54bb54360724c06e7fafe95278e\n",
      "  Building wheel for prometheus-client (setup.py): started\n",
      "  Building wheel for prometheus-client (setup.py): finished with status 'done'\n",
      "  Created wheel for prometheus-client: filename=prometheus_client-0.7.1-cp37-none-any.whl size=41402 sha256=1f0fef77d9a6e56eb0b6d081515b92c4e169037c3ba0ee7007f3147e262f762c\n",
      "  Stored in directory: /root/.cache/pip/wheels/1c/54/34/fd47cd9b308826cc4292b54449c1899a30251ef3b506bc91ea\n",
      "  Building wheel for cerberus (setup.py): started\n",
      "  Building wheel for cerberus (setup.py): finished with status 'done'\n",
      "  Created wheel for cerberus: filename=Cerberus-1.3.2-cp37-none-any.whl size=54336 sha256=92354c35e841faeef72963c2ec429d86d8b403848b7b631d7d5f6d73b019e31e\n",
      "  Stored in directory: /root/.cache/pip/wheels/e9/38/1f/f2cc84182676f3ae7134b9b2d744f9c235b24d2ddc8f7fe465\n",
      "  Building wheel for alembic (setup.py): started\n",
      "  Building wheel for alembic (setup.py): finished with status 'done'\n",
      "  Created wheel for alembic: filename=alembic-1.3.2-py2.py3-none-any.whl size=151128 sha256=982d5eac3786d9fe85a276fe7c1f0f1a37694fbe2e6d77539898d5301be612cb\n",
      "  Stored in directory: /root/.cache/pip/wheels/5c/66/53/e0633382ac8625ab1c099db6a290d1b6b24f849a4666a57105\n",
      "  Building wheel for Mako (setup.py): started\n",
      "  Building wheel for Mako (setup.py): finished with status 'done'\n",
      "  Created wheel for Mako: filename=Mako-1.1.1-cp37-none-any.whl size=75411 sha256=bd3ebac27f40fef419a7c72f948289773d1529f9474d2e37f1c0d23977a429d4\n",
      "  Stored in directory: /root/.cache/pip/wheels/ff/50/a9/0ddeed8679a1fb65bf4677cb9c92701828b2c1821e22ef72fd\n",
      "Successfully built sqlalchemy python-json-logger tabulate prometheus-client cerberus alembic Mako\n",
      "Installing collected packages: sqlalchemy, MarkupSafe, Jinja2, click, Werkzeug, itsdangerous, flask, python-json-logger, tabulate, configparser, python-dateutil, pytz, pandas, prometheus-client, pyparsing, packaging, cerberus, grpcio, websocket-client, docker, Mako, python-editor, alembic, ruamel.yaml.clib, ruamel.yaml, protobuf, humanfriendly, jmespath, docutils, botocore, s3transfer, boto3, bentoml, joblib, scikit-learn\n",
      "Successfully installed Jinja2-2.10.3 Mako-1.1.1 MarkupSafe-1.1.1 Werkzeug-0.16.0 alembic-1.3.2 bentoml-0.5.8 boto3-1.11.6 botocore-1.14.6 cerberus-1.3.2 click-7.0 configparser-4.0.2 docker-4.1.0 docutils-0.15.2 flask-1.1.1 grpcio-1.26.0 humanfriendly-4.18 itsdangerous-1.1.0 jmespath-0.9.4 joblib-0.14.1 packaging-20.0 pandas-0.25.3 prometheus-client-0.7.1 protobuf-3.11.2 pyparsing-2.4.6 python-dateutil-2.8.0 python-editor-1.0.4 python-json-logger-0.1.11 pytz-2019.3 ruamel.yaml-0.16.6 ruamel.yaml.clib-0.2.0 s3transfer-0.3.1 scikit-learn-0.22.1 sqlalchemy-1.3.12 tabulate-0.8.6 websocket-client-0.57.0\n",
      "Removing intermediate container 2c4ce1a80319\n",
      " ---> 08dcc36dfc5e\n",
      "Step 10/12 : RUN if [ -f /bento/bentoml_init.sh ]; then /bin/bash -c /bento/bentoml_init.sh; fi\n",
      " ---> Running in 1f3c968c4f6a\n",
      "Processing ./bundled_pip_dependencies/BentoML-0.5.8+14.g67ecb46.dirty.tar.gz\n",
      "  Installing build dependencies: started\n",
      "  Installing build dependencies: finished with status 'done'\n",
      "  Getting requirements to build wheel: started\n",
      "  Getting requirements to build wheel: finished with status 'done'\n",
      "    Preparing wheel metadata: started\n",
      "    Preparing wheel metadata: finished with status 'done'\n",
      "Requirement already satisfied, skipping upgrade: numpy in /opt/conda/lib/python3.7/site-packages (from BentoML==0.5.8+14.g67ecb46.dirty) (1.18.1)\n",
      "Requirement already satisfied, skipping upgrade: pandas in /opt/conda/lib/python3.7/site-packages (from BentoML==0.5.8+14.g67ecb46.dirty) (0.25.3)\n",
      "Requirement already satisfied, skipping upgrade: sqlalchemy>=1.3.0 in /opt/conda/lib/python3.7/site-packages (from BentoML==0.5.8+14.g67ecb46.dirty) (1.3.12)\n",
      "Requirement already satisfied, skipping upgrade: protobuf>=3.6.0 in /opt/conda/lib/python3.7/site-packages (from BentoML==0.5.8+14.g67ecb46.dirty) (3.11.2)\n",
      "Requirement already satisfied, skipping upgrade: requests in /opt/conda/lib/python3.7/site-packages (from BentoML==0.5.8+14.g67ecb46.dirty) (2.22.0)\n",
      "Requirement already satisfied, skipping upgrade: cerberus in /opt/conda/lib/python3.7/site-packages (from BentoML==0.5.8+14.g67ecb46.dirty) (1.3.2)\n",
      "Requirement already satisfied, skipping upgrade: python-json-logger in /opt/conda/lib/python3.7/site-packages (from BentoML==0.5.8+14.g67ecb46.dirty) (0.1.11)\n",
      "Requirement already satisfied, skipping upgrade: prometheus-client in /opt/conda/lib/python3.7/site-packages (from BentoML==0.5.8+14.g67ecb46.dirty) (0.7.1)\n",
      "Requirement already satisfied, skipping upgrade: click>=7.0 in /opt/conda/lib/python3.7/site-packages (from BentoML==0.5.8+14.g67ecb46.dirty) (7.0)\n",
      "Requirement already satisfied, skipping upgrade: packaging in /opt/conda/lib/python3.7/site-packages (from BentoML==0.5.8+14.g67ecb46.dirty) (20.0)\n",
      "Requirement already satisfied, skipping upgrade: docker in /opt/conda/lib/python3.7/site-packages (from BentoML==0.5.8+14.g67ecb46.dirty) (4.1.0)\n",
      "Requirement already satisfied, skipping upgrade: alembic in /opt/conda/lib/python3.7/site-packages (from BentoML==0.5.8+14.g67ecb46.dirty) (1.3.2)\n",
      "Requirement already satisfied, skipping upgrade: grpcio in /opt/conda/lib/python3.7/site-packages (from BentoML==0.5.8+14.g67ecb46.dirty) (1.26.0)\n",
      "Requirement already satisfied, skipping upgrade: flask in /opt/conda/lib/python3.7/site-packages (from BentoML==0.5.8+14.g67ecb46.dirty) (1.1.1)\n"
     ]
    },
    {
     "name": "stdout",
     "output_type": "stream",
     "text": [
      "Requirement already satisfied, skipping upgrade: boto3 in /opt/conda/lib/python3.7/site-packages (from BentoML==0.5.8+14.g67ecb46.dirty) (1.11.6)\n",
      "Requirement already satisfied, skipping upgrade: python-dateutil<2.8.1,>=2.1 in /opt/conda/lib/python3.7/site-packages (from BentoML==0.5.8+14.g67ecb46.dirty) (2.8.0)\n",
      "Requirement already satisfied, skipping upgrade: ruamel.yaml>=0.15.0 in /opt/conda/lib/python3.7/site-packages (from BentoML==0.5.8+14.g67ecb46.dirty) (0.16.6)\n",
      "Requirement already satisfied, skipping upgrade: humanfriendly in /opt/conda/lib/python3.7/site-packages (from BentoML==0.5.8+14.g67ecb46.dirty) (4.18)\n",
      "Requirement already satisfied, skipping upgrade: configparser in /opt/conda/lib/python3.7/site-packages (from BentoML==0.5.8+14.g67ecb46.dirty) (4.0.2)\n",
      "Requirement already satisfied, skipping upgrade: gunicorn in /opt/conda/lib/python3.7/site-packages (from BentoML==0.5.8+14.g67ecb46.dirty) (20.0.4)\n",
      "Requirement already satisfied, skipping upgrade: tabulate in /opt/conda/lib/python3.7/site-packages (from BentoML==0.5.8+14.g67ecb46.dirty) (0.8.6)\n",
      "Requirement already satisfied, skipping upgrade: pytz>=2017.2 in /opt/conda/lib/python3.7/site-packages (from pandas->BentoML==0.5.8+14.g67ecb46.dirty) (2019.3)\n",
      "Requirement already satisfied, skipping upgrade: six>=1.9 in /opt/conda/lib/python3.7/site-packages (from protobuf>=3.6.0->BentoML==0.5.8+14.g67ecb46.dirty) (1.12.0)\n",
      "Requirement already satisfied, skipping upgrade: setuptools in /opt/conda/lib/python3.7/site-packages (from protobuf>=3.6.0->BentoML==0.5.8+14.g67ecb46.dirty) (41.4.0)\n",
      "Requirement already satisfied, skipping upgrade: chardet<3.1.0,>=3.0.2 in /opt/conda/lib/python3.7/site-packages (from requests->BentoML==0.5.8+14.g67ecb46.dirty) (3.0.4)\n",
      "Requirement already satisfied, skipping upgrade: urllib3!=1.25.0,!=1.25.1,<1.26,>=1.21.1 in /opt/conda/lib/python3.7/site-packages (from requests->BentoML==0.5.8+14.g67ecb46.dirty) (1.24.2)\n",
      "Requirement already satisfied, skipping upgrade: certifi>=2017.4.17 in /opt/conda/lib/python3.7/site-packages (from requests->BentoML==0.5.8+14.g67ecb46.dirty) (2019.11.28)\n",
      "Requirement already satisfied, skipping upgrade: idna<2.9,>=2.5 in /opt/conda/lib/python3.7/site-packages (from requests->BentoML==0.5.8+14.g67ecb46.dirty) (2.8)\n",
      "Requirement already satisfied, skipping upgrade: pyparsing>=2.0.2 in /opt/conda/lib/python3.7/site-packages (from packaging->BentoML==0.5.8+14.g67ecb46.dirty) (2.4.6)\n",
      "Requirement already satisfied, skipping upgrade: websocket-client>=0.32.0 in /opt/conda/lib/python3.7/site-packages (from docker->BentoML==0.5.8+14.g67ecb46.dirty) (0.57.0)\n",
      "Requirement already satisfied, skipping upgrade: python-editor>=0.3 in /opt/conda/lib/python3.7/site-packages (from alembic->BentoML==0.5.8+14.g67ecb46.dirty) (1.0.4)\n",
      "Requirement already satisfied, skipping upgrade: Mako in /opt/conda/lib/python3.7/site-packages (from alembic->BentoML==0.5.8+14.g67ecb46.dirty) (1.1.1)\n",
      "Requirement already satisfied, skipping upgrade: Jinja2>=2.10.1 in /opt/conda/lib/python3.7/site-packages (from flask->BentoML==0.5.8+14.g67ecb46.dirty) (2.10.3)\n",
      "Requirement already satisfied, skipping upgrade: Werkzeug>=0.15 in /opt/conda/lib/python3.7/site-packages (from flask->BentoML==0.5.8+14.g67ecb46.dirty) (0.16.0)\n",
      "Requirement already satisfied, skipping upgrade: itsdangerous>=0.24 in /opt/conda/lib/python3.7/site-packages (from flask->BentoML==0.5.8+14.g67ecb46.dirty) (1.1.0)\n",
      "Requirement already satisfied, skipping upgrade: jmespath<1.0.0,>=0.7.1 in /opt/conda/lib/python3.7/site-packages (from boto3->BentoML==0.5.8+14.g67ecb46.dirty) (0.9.4)\n",
      "Requirement already satisfied, skipping upgrade: botocore<1.15.0,>=1.14.6 in /opt/conda/lib/python3.7/site-packages (from boto3->BentoML==0.5.8+14.g67ecb46.dirty) (1.14.6)\n",
      "Requirement already satisfied, skipping upgrade: s3transfer<0.4.0,>=0.3.0 in /opt/conda/lib/python3.7/site-packages (from boto3->BentoML==0.5.8+14.g67ecb46.dirty) (0.3.1)\n",
      "Requirement already satisfied, skipping upgrade: ruamel.yaml.clib>=0.1.2; platform_python_implementation == \"CPython\" and python_version < \"3.8\" in /opt/conda/lib/python3.7/site-packages (from ruamel.yaml>=0.15.0->BentoML==0.5.8+14.g67ecb46.dirty) (0.2.0)\n",
      "Requirement already satisfied, skipping upgrade: MarkupSafe>=0.9.2 in /opt/conda/lib/python3.7/site-packages (from Mako->alembic->BentoML==0.5.8+14.g67ecb46.dirty) (1.1.1)\n",
      "Requirement already satisfied, skipping upgrade: docutils<0.16,>=0.10 in /opt/conda/lib/python3.7/site-packages (from botocore<1.15.0,>=1.14.6->boto3->BentoML==0.5.8+14.g67ecb46.dirty) (0.15.2)\n",
      "Building wheels for collected packages: BentoML\n",
      "  Building wheel for BentoML (PEP 517): started\n",
      "  Building wheel for BentoML (PEP 517): finished with status 'done'\n",
      "  Created wheel for BentoML: filename=BentoML-0.5.8+14.g67ecb46.dirty-cp37-none-any.whl size=504368 sha256=7fbaaeb21173ecff3d19ba3555fe1e65fe71349a00547f6f826cf32911975ce9\n",
      "  Stored in directory: /root/.cache/pip/wheels/36/48/47/c79863a4fa74704bbbc25fd4b8f5c2c97651cf3227018a97a1\n",
      "Successfully built BentoML\n",
      "Installing collected packages: BentoML\n",
      "  Found existing installation: BentoML 0.5.8\n",
      "    Uninstalling BentoML-0.5.8:\n",
      "      Successfully uninstalled BentoML-0.5.8\n",
      "Successfully installed BentoML-0.5.8+14.g67ecb46.dirty\n",
      "Removing intermediate container 1f3c968c4f6a\n",
      " ---> 214ca9af86a7\n",
      "Step 11/12 : RUN if [ -f /bento/setup.sh ]; then /bin/bash -c /bento/setup.sh; fi\n",
      " ---> Running in e4a67a94f37c\n",
      "Removing intermediate container e4a67a94f37c\n",
      " ---> 2df40389cef8\n",
      "Step 12/12 : CMD [\"bentoml serve-gunicorn /bento\"]\n",
      " ---> Running in df292cb29c8a\n",
      "Removing intermediate container df292cb29c8a\n",
      " ---> de209d021ad3\n",
      "Successfully built de209d021ad3\n",
      "Successfully tagged iris-classifier:latest\n"
     ]
    }
   ],
   "source": [
    "!cd {saved_path} && docker build -t iris-classifier ."
   ]
  },
  {
   "cell_type": "markdown",
   "metadata": {},
   "source": [
    "Note that `docker` is __note available in Google Colab__, download the notebook, ensure docker is installed and try it locally.\n",
    "\n",
    "Next, you can `docker push` the image to your choice of registry for deployment,\n",
    "or run it locally for development and testing:"
   ]
  },
  {
   "cell_type": "code",
   "execution_count": 7,
   "metadata": {},
   "outputs": [
    {
     "name": "stdout",
     "output_type": "stream",
     "text": [
      "[2020-01-21 19:30:32,968] INFO - get_gunicorn_num_of_workers: 3, calculated by cpu count\n",
      "[2020-01-21 19:30:33 +0000] [1] [INFO] Starting gunicorn 20.0.4\n",
      "[2020-01-21 19:30:33 +0000] [1] [INFO] Listening at: http://0.0.0.0:5000 (1)\n",
      "[2020-01-21 19:30:33 +0000] [1] [INFO] Using worker: sync\n",
      "[2020-01-21 19:30:33 +0000] [11] [INFO] Booting worker with pid: 11\n",
      "[2020-01-21 19:30:33 +0000] [12] [INFO] Booting worker with pid: 12\n",
      "[2020-01-21 19:30:33 +0000] [13] [INFO] Booting worker with pid: 13\n",
      "[2020-01-21 19:30:33,406] WARNING - BentoML local changes detected - Local BentoML repository including all code changes will be bundled together with the BentoService bundle. When used with docker, the base docker image will be default to same version as last PyPI release at version: 0.5.8. You can also force bentoml to use a specific version for deploying your BentoService bundle, by setting the config 'core/bentoml_deploy_version' to a pinned version or your custom BentoML on github, e.g.:'bentoml_deploy_version = git+https://github.com/{username}/bentoml.git@{branch}'\n",
      "[2020-01-21 19:30:33,427] WARNING - BentoML local changes detected - Local BentoML repository including all code changes will be bundled together with the BentoService bundle. When used with docker, the base docker image will be default to same version as last PyPI release at version: 0.5.8. You can also force bentoml to use a specific version for deploying your BentoService bundle, by setting the config 'core/bentoml_deploy_version' to a pinned version or your custom BentoML on github, e.g.:'bentoml_deploy_version = git+https://github.com/{username}/bentoml.git@{branch}'\n",
      "[2020-01-21 19:30:33,434] WARNING - Saved BentoService bundle version mismatch: loading BentoServie bundle create with BentoML version 0.5.8,  but loading from BentoML version 0.5.8+14.g67ecb46.dirty\n",
      "[2020-01-21 19:30:33,444] WARNING - Saved BentoService bundle version mismatch: loading BentoServie bundle create with BentoML version 0.5.8,  but loading from BentoML version 0.5.8+14.g67ecb46.dirty\n",
      "[2020-01-21 19:30:33,464] WARNING - BentoML local changes detected - Local BentoML repository including all code changes will be bundled together with the BentoService bundle. When used with docker, the base docker image will be default to same version as last PyPI release at version: 0.5.8. You can also force bentoml to use a specific version for deploying your BentoService bundle, by setting the config 'core/bentoml_deploy_version' to a pinned version or your custom BentoML on github, e.g.:'bentoml_deploy_version = git+https://github.com/{username}/bentoml.git@{branch}'\n",
      "[2020-01-21 19:30:33,483] WARNING - Saved BentoService bundle version mismatch: loading BentoServie bundle create with BentoML version 0.5.8,  but loading from BentoML version 0.5.8+14.g67ecb46.dirty\n",
      "[2020-01-21 19:30:33,985] WARNING - BentoML local changes detected - Local BentoML repository including all code changes will be bundled together with the BentoService bundle. When used with docker, the base docker image will be default to same version as last PyPI release at version: 0.5.8. You can also force bentoml to use a specific version for deploying your BentoService bundle, by setting the config 'core/bentoml_deploy_version' to a pinned version or your custom BentoML on github, e.g.:'bentoml_deploy_version = git+https://github.com/{username}/bentoml.git@{branch}'\n",
      "[2020-01-21 19:30:33,987] WARNING - BentoML local changes detected - Local BentoML repository including all code changes will be bundled together with the BentoService bundle. When used with docker, the base docker image will be default to same version as last PyPI release at version: 0.5.8. You can also force bentoml to use a specific version for deploying your BentoService bundle, by setting the config 'core/bentoml_deploy_version' to a pinned version or your custom BentoML on github, e.g.:'bentoml_deploy_version = git+https://github.com/{username}/bentoml.git@{branch}'\n",
      "[2020-01-21 19:30:34,014] WARNING - BentoML local changes detected - Local BentoML repository including all code changes will be bundled together with the BentoService bundle. When used with docker, the base docker image will be default to same version as last PyPI release at version: 0.5.8. You can also force bentoml to use a specific version for deploying your BentoService bundle, by setting the config 'core/bentoml_deploy_version' to a pinned version or your custom BentoML on github, e.g.:'bentoml_deploy_version = git+https://github.com/{username}/bentoml.git@{branch}'\n",
      "[2020-01-21 19:30:34,620] WARNING - BentoML local changes detected - Local BentoML repository including all code changes will be bundled together with the BentoService bundle. When used with docker, the base docker image will be default to same version as last PyPI release at version: 0.5.8. You can also force bentoml to use a specific version for deploying your BentoService bundle, by setting the config 'core/bentoml_deploy_version' to a pinned version or your custom BentoML on github, e.g.:'bentoml_deploy_version = git+https://github.com/{username}/bentoml.git@{branch}'\n",
      "[2020-01-21 19:30:34,620] WARNING - BentoML local changes detected - Local BentoML repository including all code changes will be bundled together with the BentoService bundle. When used with docker, the base docker image will be default to same version as last PyPI release at version: 0.5.8. You can also force bentoml to use a specific version for deploying your BentoService bundle, by setting the config 'core/bentoml_deploy_version' to a pinned version or your custom BentoML on github, e.g.:'bentoml_deploy_version = git+https://github.com/{username}/bentoml.git@{branch}'\n",
      "[2020-01-21 19:30:34,620] WARNING - BentoML local changes detected - Local BentoML repository including all code changes will be bundled together with the BentoService bundle. When used with docker, the base docker image will be default to same version as last PyPI release at version: 0.5.8. You can also force bentoml to use a specific version for deploying your BentoService bundle, by setting the config 'core/bentoml_deploy_version' to a pinned version or your custom BentoML on github, e.g.:'bentoml_deploy_version = git+https://github.com/{username}/bentoml.git@{branch}'\n",
      "^C\n",
      "[2020-01-21 19:30:49 +0000] [1] [INFO] Handling signal: int\n",
      "/opt/conda/lib/python3.7/site-packages/sklearn/base.py:318: UserWarning: Trying to unpickle estimator SVC from version 0.22 when using version 0.22.1. This might lead to breaking code or invalid results. Use at your own risk.\n",
      "  UserWarning)\n",
      "[2020-01-21 19:30:49 +0000] [11] [INFO] Worker exiting (pid: 11)\n",
      "/opt/conda/lib/python3.7/site-packages/sklearn/base.py:318: UserWarning: Trying to unpickle estimator SVC from version 0.22 when using version 0.22.1. This might lead to breaking code or invalid results. Use at your own risk.\n",
      "  UserWarning)\n",
      "[2020-01-21 19:30:49 +0000] [12] [INFO] Worker exiting (pid: 12)\n",
      "/opt/conda/lib/python3.7/site-packages/sklearn/base.py:318: UserWarning: Trying to unpickle estimator SVC from version 0.22 when using version 0.22.1. This might lead to breaking code or invalid results. Use at your own risk.\n",
      "  UserWarning)\n",
      "[2020-01-21 19:30:49 +0000] [13] [INFO] Worker exiting (pid: 13)\n"
     ]
    }
   ],
   "source": [
    "!docker run -p 5000:5000 iris-classifier"
   ]
  },
  {
   "cell_type": "markdown",
   "metadata": {},
   "source": [
    "## Load saved BentoService\n",
    "\n",
    "`bentoml.load` is the enssential API for loading a Bento into your\n",
    "python application:"
   ]
  },
  {
   "cell_type": "code",
   "execution_count": 8,
   "metadata": {},
   "outputs": [
    {
     "name": "stdout",
     "output_type": "stream",
     "text": [
      "[2020-01-21 11:30:55,579] WARNING - BentoML local changes detected - Local BentoML repository including all code changes will be bundled together with the BentoService bundle. When used with docker, the base docker image will be default to same version as last PyPI release at version: 0.5.8. You can also force bentoml to use a specific version for deploying your BentoService bundle, by setting the config 'core/bentoml_deploy_version' to a pinned version or your custom BentoML on github, e.g.:'bentoml_deploy_version = git+https://github.com/{username}/bentoml.git@{branch}'\n",
      "[2020-01-21 11:30:55,591] WARNING - Saved BentoService bundle version mismatch: loading BentoServie bundle create with BentoML version 0.5.8,  but loading from BentoML version 0.5.8+14.g67ecb46.dirty\n",
      "[2020-01-21 11:30:55,593] WARNING - Module `iris_classifier` already loaded, using existing imported module.\n",
      "[2020-01-21 11:30:55,610] WARNING - BentoML local changes detected - Local BentoML repository including all code changes will be bundled together with the BentoService bundle. When used with docker, the base docker image will be default to same version as last PyPI release at version: 0.5.8. You can also force bentoml to use a specific version for deploying your BentoService bundle, by setting the config 'core/bentoml_deploy_version' to a pinned version or your custom BentoML on github, e.g.:'bentoml_deploy_version = git+https://github.com/{username}/bentoml.git@{branch}'\n"
     ]
    },
    {
     "data": {
      "text/plain": [
       "memmap([0])"
      ]
     },
     "execution_count": 8,
     "metadata": {},
     "output_type": "execute_result"
    }
   ],
   "source": [
    "import bentoml\n",
    "import pandas as pd\n",
    "\n",
    "bento_svc = bentoml.load(saved_path)\n",
    "\n",
    "# Test loaded bentoml service:\n",
    "bento_svc.predict([X[0]])"
   ]
  },
  {
   "cell_type": "markdown",
   "metadata": {},
   "source": [
    "## Distribute BentoML SavedBundle as PyPI package\n",
    "\n",
    "\n",
    "The BentoService SavedBundle is pip-installable and can be directly distributed as a\n",
    "PyPI package if you plan to use the model in your python applications. You can install\n",
    "it as as a system-wide python package with `pip`:"
   ]
  },
  {
   "cell_type": "code",
   "execution_count": null,
   "metadata": {},
   "outputs": [],
   "source": [
    "!pip install {saved_path}"
   ]
  },
  {
   "cell_type": "code",
   "execution_count": 10,
   "metadata": {},
   "outputs": [
    {
     "data": {
      "text/plain": [
       "memmap([0])"
      ]
     },
     "execution_count": 10,
     "metadata": {},
     "output_type": "execute_result"
    }
   ],
   "source": [
    "# Your bentoML model class name will become packaged name\n",
    "import IrisClassifier\n",
    "\n",
    "installed_svc = IrisClassifier.load()\n",
    "installed_svc.predict([X[0]])"
   ]
  },
  {
   "cell_type": "markdown",
   "metadata": {},
   "source": [
    "This also allow users to upload their BentoService to pypi.org as public python package\n",
    "or to their organization's private PyPi index to share with other developers.\n",
    "\n",
    "`cd {saved_path} & python setup.py sdist upload`\n",
    "\n",
    "*You will have to configure \".pypirc\" file before uploading to pypi index.\n",
    "    You can find more information about distributing python package at:\n",
    "    https://docs.python.org/3.7/distributing/index.html#distributing-index*\n",
    "\n",
    "\n",
    "# Model Serving via CLI\n",
    "\n",
    "`pip install {saved_path}` also installs a CLI tool for accessing the BentoML service, print CLI help document with `--help`:\n"
   ]
  },
  {
   "cell_type": "code",
   "execution_count": 11,
   "metadata": {},
   "outputs": [
    {
     "name": "stdout",
     "output_type": "stream",
     "text": [
      "Usage: IrisClassifier [OPTIONS] COMMAND [ARGS]...\r\n",
      "\r\n",
      "  BentoML CLI tool\r\n",
      "\r\n",
      "Options:\r\n",
      "  -q, --quiet         Hide process logs and only print command results\r\n",
      "  --verbose, --debug  Print verbose debugging information for BentoML\r\n",
      "                      developer\r\n",
      "  --version           Show the version and exit.\r\n",
      "  --help              Show this message and exit.\r\n",
      "\r\n",
      "Commands:\r\n",
      "  <API_NAME>      Run API function\r\n",
      "  info            List APIs\r\n",
      "  open-api-spec   Display OpenAPI/Swagger JSON specs\r\n",
      "  serve           Start local rest server\r\n",
      "  serve-gunicorn  Start local gunicorn server\r\n"
     ]
    }
   ],
   "source": [
    "!IrisClassifier --help"
   ]
  },
  {
   "cell_type": "markdown",
   "metadata": {},
   "source": [
    "Printing more information about this ML service with `info` command:"
   ]
  },
  {
   "cell_type": "code",
   "execution_count": null,
   "metadata": {
    "pycharm": {
     "name": "#%%\n"
    }
   },
   "outputs": [],
   "source": [
    "!IrisClassifier info"
   ]
  },
  {
   "cell_type": "markdown",
   "metadata": {},
   "source": [
    "You can also print help and docs on individual commands:"
   ]
  },
  {
   "cell_type": "code",
   "execution_count": null,
   "metadata": {},
   "outputs": [],
   "source": [
    "!IrisClassifier predict --help"
   ]
  },
  {
   "cell_type": "markdown",
   "metadata": {},
   "source": [
    "Each service API you defined in the BentoService will be exposed as a CLI command with the same name as the API function:"
   ]
  },
  {
   "cell_type": "code",
   "execution_count": 12,
   "metadata": {
    "scrolled": true
   },
   "outputs": [
    {
     "name": "stdout",
     "output_type": "stream",
     "text": [
      "[2020-01-21 11:31:43,990] WARNING - BentoML local changes detected - Local BentoML repository including all code changes will be bundled together with the BentoService bundle. When used with docker, the base docker image will be default to same version as last PyPI release at version: 0.5.8. You can also force bentoml to use a specific version for deploying your BentoService bundle, by setting the config 'core/bentoml_deploy_version' to a pinned version or your custom BentoML on github, e.g.:'bentoml_deploy_version = git+https://github.com/{username}/bentoml.git@{branch}'\n",
      "[2020-01-21 11:31:43,998] WARNING - Saved BentoService bundle version mismatch: loading BentoServie bundle create with BentoML version 0.5.8,  but loading from BentoML version 0.5.8+14.g67ecb46.dirty\n",
      "[2020-01-21 11:31:44,000] WARNING - BentoML local changes detected - Local BentoML repository including all code changes will be bundled together with the BentoService bundle. When used with docker, the base docker image will be default to same version as last PyPI release at version: 0.5.8. You can also force bentoml to use a specific version for deploying your BentoService bundle, by setting the config 'core/bentoml_deploy_version' to a pinned version or your custom BentoML on github, e.g.:'bentoml_deploy_version = git+https://github.com/{username}/bentoml.git@{branch}'\n",
      "[2020-01-21 11:31:44,592] WARNING - BentoML local changes detected - Local BentoML repository including all code changes will be bundled together with the BentoService bundle. When used with docker, the base docker image will be default to same version as last PyPI release at version: 0.5.8. You can also force bentoml to use a specific version for deploying your BentoService bundle, by setting the config 'core/bentoml_deploy_version' to a pinned version or your custom BentoML on github, e.g.:'bentoml_deploy_version = git+https://github.com/{username}/bentoml.git@{branch}'\n",
      "[0]\n"
     ]
    }
   ],
   "source": [
    "!IrisClassifier predict --input='[[5.1, 3.5, 1.4, 0.2]]'"
   ]
  },
  {
   "cell_type": "markdown",
   "metadata": {},
   "source": [
    "BentoML cli also supports reading input data from `csv` or `json` files, in either local machine or remote HTTP/S3 location:"
   ]
  },
  {
   "cell_type": "code",
   "execution_count": 13,
   "metadata": {},
   "outputs": [
    {
     "name": "stdout",
     "output_type": "stream",
     "text": [
      "[2020-01-21 11:31:50,523] WARNING - BentoML local changes detected - Local BentoML repository including all code changes will be bundled together with the BentoService bundle. When used with docker, the base docker image will be default to same version as last PyPI release at version: 0.5.8. You can also force bentoml to use a specific version for deploying your BentoService bundle, by setting the config 'core/bentoml_deploy_version' to a pinned version or your custom BentoML on github, e.g.:'bentoml_deploy_version = git+https://github.com/{username}/bentoml.git@{branch}'\n",
      "[2020-01-21 11:31:50,532] WARNING - Saved BentoService bundle version mismatch: loading BentoServie bundle create with BentoML version 0.5.8,  but loading from BentoML version 0.5.8+14.g67ecb46.dirty\n",
      "[2020-01-21 11:31:50,535] WARNING - BentoML local changes detected - Local BentoML repository including all code changes will be bundled together with the BentoService bundle. When used with docker, the base docker image will be default to same version as last PyPI release at version: 0.5.8. You can also force bentoml to use a specific version for deploying your BentoService bundle, by setting the config 'core/bentoml_deploy_version' to a pinned version or your custom BentoML on github, e.g.:'bentoml_deploy_version = git+https://github.com/{username}/bentoml.git@{branch}'\n",
      "[2020-01-21 11:31:50,877] WARNING - BentoML local changes detected - Local BentoML repository including all code changes will be bundled together with the BentoService bundle. When used with docker, the base docker image will be default to same version as last PyPI release at version: 0.5.8. You can also force bentoml to use a specific version for deploying your BentoService bundle, by setting the config 'core/bentoml_deploy_version' to a pinned version or your custom BentoML on github, e.g.:'bentoml_deploy_version = git+https://github.com/{username}/bentoml.git@{branch}'\n",
      "[0 0 0 0 0 0 0 0 0 0 0 0 0 0 0 0 0 0 0 0 0 0 0 0 0 0 0 0 0 0 0 0 0 0 0 0 0\n",
      " 0 0 0 0 0 0 0 0 0 0 0 0 0 1 1 1 1 1 1 1 1 1 1 1 1 1 1 1 1 1 1 1 1 1 1 1 1\n",
      " 1 1 1 2 1 1 1 1 1 2 1 1 1 1 1 1 1 1 1 1 1 1 1 1 1 1 2 2 2 2 2 2 1 2 2 2 2\n",
      " 2 2 2 2 2 2 2 2 2 2 2 2 2 2 2 2 2 2 2 2 2 2 2 2 2 2 2 1 2 2 2 2 2 2 2 2 2\n",
      " 2 2]\n"
     ]
    }
   ],
   "source": [
    "# Writing test data to a csv file\n",
    "pd.DataFrame(iris.data).to_csv('iris_data.csv', index=False)\n",
    "\n",
    "# Invoke predict from command lien\n",
    "!IrisClassifier predict --input='./iris_data.csv'"
   ]
  },
  {
   "cell_type": "markdown",
   "metadata": {},
   "source": [
    "Alternatively, you can also use the `bentoml` cli to load and run a BentoML service archive without installing it:"
   ]
  },
  {
   "cell_type": "code",
   "execution_count": null,
   "metadata": {},
   "outputs": [],
   "source": [
    "!bentoml info {saved_path}"
   ]
  },
  {
   "cell_type": "code",
   "execution_count": 14,
   "metadata": {},
   "outputs": [
    {
     "name": "stdout",
     "output_type": "stream",
     "text": [
      "[0]\r\n"
     ]
    }
   ],
   "source": [
    "!bentoml predict {saved_path} --input='[[5.1, 3.5, 1.4, 0.2]]'"
   ]
  },
  {
   "cell_type": "markdown",
   "metadata": {},
   "source": [
    "# Deploy REST API server to the cloud\n",
    "\n",
    "\n",
    "BentoML has a built-in deployment management tool called YataiService. YataiService can\n",
    "be deployed separately to manage all your teams' trained models, BentoService bundles,\n",
    "and active deployments in the cloud or in your own kubernetes cluster. You can also\n",
    "create simple model serving deployments with just the BentoML cli, which launches a\n",
    "local YataiService backed by SQLite database on your machine.\n",
    "\n",
    "Now let's deploy the IrisClassifier to [AWS Lambda](https://aws.amazon.com/lambda/) as\n",
    "a serverless endpoint.\n",
    "\n",
    "First you need to install the `aws-sam-cli` package, which is required by BentoML\n",
    "to work with AWS Lambda deployment:\n",
    "\n",
    "```\n",
    "    pip install -U aws-sam-cli==0.31.1\n",
    "```\n",
    "\n",
    "\n",
    "You will also need to configure your AWS account and credentials if you don't have\n",
    "it configured on your machine. You can do this either\n",
    "[via environment variables](https://docs.aws.amazon.com/sdk-for-java/v1/developer-guide/setup-credentials.html)\n",
    "or through the `aws configure` command: install `aws` cli command via\n",
    "`pip install awscli` and follow\n",
    "[detailed instructions here](https://docs.aws.amazon.com/cli/latest/userguide/cli-chap-configure.html#cli-quick-configuration).\n",
    "\n",
    "Now you can run the `bentoml lambda deploy` command, to create a AWS Lambda deployment,\n",
    "hosting the BentService you've created:"
   ]
  },
  {
   "cell_type": "code",
   "execution_count": 15,
   "metadata": {
    "scrolled": true
   },
   "outputs": [
    {
     "name": "stdout",
     "output_type": "stream",
     "text": [
      "Deploying Lambda deployment -[2020-01-21 11:32:14,793] INFO - Building lambda project\n",
      "\b/[2020-01-21 11:33:38,233] INFO - Packaging AWS Lambda project at /private/var/folders/kn/xnc9k74x03567n1mx2tfqnpr0000gn/T/bentoml-temp-fhkd3sst ...\n",
      "\b/[2020-01-21 11:34:00,383] INFO - Deploying lambda project\n",
      "\b|[2020-01-21 11:34:54,075] INFO - ApplyDeployment (quick-start-guide-deployment, namespace bobo) succeeded\n",
      "\u001b[32mSuccessfully created AWS Lambda deployment quick-start-guide-deployment\u001b[0m\n",
      "\u001b[39m{\n",
      "  \"namespace\": \"bobo\",\n",
      "  \"name\": \"quick-start-guide-deployment\",\n",
      "  \"spec\": {\n",
      "    \"bentoName\": \"IrisClassifier\",\n",
      "    \"bentoVersion\": \"20200121112710_DA5806\",\n",
      "    \"operator\": \"AWS_LAMBDA\",\n",
      "    \"awsLambdaOperatorConfig\": {\n",
      "      \"region\": \"us-west-2\",\n",
      "      \"memorySize\": 1024,\n",
      "      \"timeout\": 3\n",
      "    }\n",
      "  },\n",
      "  \"state\": {\n",
      "    \"state\": \"RUNNING\",\n",
      "    \"infoJson\": {\n",
      "      \"endpoints\": [\n",
      "        \"https://3teiopjoba.execute-api.us-west-2.amazonaws.com/Prod/predict\"\n",
      "      ],\n",
      "      \"s3_bucket\": \"btml-bobo-quick-start-guide-deployment-2bac57\"\n",
      "    },\n",
      "    \"timestamp\": \"2020-01-21T19:34:54.271380Z\"\n",
      "  },\n",
      "  \"createdAt\": \"2020-01-21T19:32:10.241484Z\",\n",
      "  \"lastUpdatedAt\": \"2020-01-21T19:32:10.241525Z\"\n",
      "}\u001b[0m\n"
     ]
    }
   ],
   "source": [
    "!bentoml lambda deploy quick-start-guide-deployment -b IrisClassifier:{svc.version} "
   ]
  },
  {
   "cell_type": "markdown",
   "metadata": {},
   "source": [
    "Here the 'quick-starrt-guide-deployment' is the deployment name, you can reference the deployment by this name and query its status. For example, to get current deployment status:"
   ]
  },
  {
   "cell_type": "code",
   "execution_count": 16,
   "metadata": {
    "scrolled": true
   },
   "outputs": [
    {
     "name": "stdout",
     "output_type": "stream",
     "text": [
      "\u001b[39m{\r\n",
      "  \"namespace\": \"bobo\",\r\n",
      "  \"name\": \"quick-start-guide-deployment\",\r\n",
      "  \"spec\": {\r\n",
      "    \"bentoName\": \"IrisClassifier\",\r\n",
      "    \"bentoVersion\": \"20200121112710_DA5806\",\r\n",
      "    \"operator\": \"AWS_LAMBDA\",\r\n",
      "    \"awsLambdaOperatorConfig\": {\r\n",
      "      \"region\": \"us-west-2\",\r\n",
      "      \"memorySize\": 1024,\r\n",
      "      \"timeout\": 3\r\n",
      "    }\r\n",
      "  },\r\n",
      "  \"state\": {\r\n",
      "    \"state\": \"RUNNING\",\r\n",
      "    \"infoJson\": {\r\n",
      "      \"endpoints\": [\r\n",
      "        \"https://3teiopjoba.execute-api.us-west-2.amazonaws.com/Prod/predict\"\r\n",
      "      ],\r\n",
      "      \"s3_bucket\": \"btml-bobo-quick-start-guide-deployment-2bac57\"\r\n",
      "    },\r\n",
      "    \"timestamp\": \"2020-01-21T19:35:58.644630Z\"\r\n",
      "  },\r\n",
      "  \"createdAt\": \"2020-01-21T19:32:10.241484Z\",\r\n",
      "  \"lastUpdatedAt\": \"2020-01-21T19:32:10.241525Z\"\r\n",
      "}\u001b[0m\r\n"
     ]
    }
   ],
   "source": [
    "!bentoml lambda get quick-start-guide-deployment"
   ]
  },
  {
   "cell_type": "markdown",
   "metadata": {},
   "source": [
    "To send request to your AWS Lambda deployment, grab the endpoint URL from the json output above:"
   ]
  },
  {
   "cell_type": "code",
   "execution_count": 17,
   "metadata": {},
   "outputs": [
    {
     "name": "stdout",
     "output_type": "stream",
     "text": [
      "HTTP/1.1 200 OK\r",
      "\r\n",
      "Content-Type: application/json\r",
      "\r\n",
      "Content-Length: 3\r",
      "\r\n",
      "Connection: keep-alive\r",
      "\r\n",
      "Date: Tue, 21 Jan 2020 19:36:31 GMT\r",
      "\r\n",
      "x-amzn-RequestId: 4f0aaa25-c421-4017-b5d4-7f07b9e9d6d3\r",
      "\r\n",
      "x-amz-apigw-id: GqndEG8XPHcF9Mw=\r",
      "\r\n",
      "X-Amzn-Trace-Id: Root=1-5e2752b9-90d9c0e4a05966705580a530;Sampled=0\r",
      "\r\n",
      "X-Cache: Miss from cloudfront\r",
      "\r\n",
      "Via: 1.1 2ac6b2644462a8466362b046856a127e.cloudfront.net (CloudFront)\r",
      "\r\n",
      "X-Amz-Cf-Pop: SFO5-C3\r",
      "\r\n",
      "X-Amz-Cf-Id: uG7Xv6WwZ236uVjUo46kHB36N6E1Px4wtWaWGxTNDOT8FkydP1_oGg==\r",
      "\r\n",
      "\r",
      "\r\n",
      "[0]"
     ]
    }
   ],
   "source": [
    "!curl -i \\\n",
    "--header \"Content-Type: application/json\" \\\n",
    "--request POST \\\n",
    "--data '[[5.1, 3.5, 1.4, 0.2]]' \\\n",
    "https://3teiopjoba.execute-api.us-west-2.amazonaws.com/Prod/predict"
   ]
  },
  {
   "cell_type": "markdown",
   "metadata": {},
   "source": [
    "And to delete an active deployment:"
   ]
  },
  {
   "cell_type": "code",
   "execution_count": 18,
   "metadata": {},
   "outputs": [
    {
     "name": "stdout",
     "output_type": "stream",
     "text": [
      "\u001b[32mSuccessfully deleted AWS Lambda deployment \"quick-start-guide-deployment\"\u001b[0m\r\n"
     ]
    }
   ],
   "source": [
    "!bentoml lambda delete quick-start-guide-deployment"
   ]
  },
  {
   "cell_type": "markdown",
   "metadata": {},
   "source": [
    "BentoML by default stores the deployment metadata on the local machine. For team settings, we recommend hosting a shared BentoML Yatai server for your entire team to track all BentoService saved bundle and deployments they've created in a central place."
   ]
  },
  {
   "cell_type": "markdown",
   "metadata": {},
   "source": [
    "# Summary\n",
    "\n",
    "This is what it looks like when using BentoML to serve and deploy a model, as a prediction service running in the cloud. BentoML also supports many other Machine Learning frameworks, as well as many other deployment platforms. You can find more BentoML example notebooks [here](https://github.com/bentoml/BentoML#examples)."
   ]
  }
 ],
 "metadata": {
  "kernelspec": {
   "display_name": "Python 3",
   "language": "python",
   "name": "python3"
  },
  "language_info": {
   "codemirror_mode": {
    "name": "ipython",
    "version": 3
   },
   "file_extension": ".py",
   "mimetype": "text/x-python",
   "name": "python",
   "nbconvert_exporter": "python",
   "pygments_lexer": "ipython3",
   "version": "3.7.2"
  }
 },
 "nbformat": 4,
 "nbformat_minor": 2
}
