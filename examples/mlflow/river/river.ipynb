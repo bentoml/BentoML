{
 "cells": [
  {
   "cell_type": "code",
   "execution_count": 107,
   "id": "e17589ce-9fa0-4e05-bc76-9a6eca2c4b34",
   "metadata": {},
   "outputs": [
    {
     "name": "stdout",
     "output_type": "stream",
     "text": [
      "Requirement already satisfied: river in /opt/anaconda3/envs/icos_v1/lib/python3.10/site-packages (0.14.0)\n",
      "Requirement already satisfied: numpy>=1.23.4 in /opt/anaconda3/envs/icos_v1/lib/python3.10/site-packages (from river) (1.25.2)\n",
      "Requirement already satisfied: scipy>=1.5 in /opt/anaconda3/envs/icos_v1/lib/python3.10/site-packages (from river) (1.10.1)\n",
      "Requirement already satisfied: pandas>=1.3 in /opt/anaconda3/envs/icos_v1/lib/python3.10/site-packages (from river) (2.2.0)\n",
      "Requirement already satisfied: python-dateutil>=2.8.2 in /opt/anaconda3/envs/icos_v1/lib/python3.10/site-packages (from pandas>=1.3->river) (2.8.2)\n",
      "Requirement already satisfied: pytz>=2020.1 in /opt/anaconda3/envs/icos_v1/lib/python3.10/site-packages (from pandas>=1.3->river) (2023.3.post1)\n",
      "Requirement already satisfied: tzdata>=2022.7 in /opt/anaconda3/envs/icos_v1/lib/python3.10/site-packages (from pandas>=1.3->river) (2023.4)\n",
      "Requirement already satisfied: six>=1.5 in /opt/anaconda3/envs/icos_v1/lib/python3.10/site-packages (from python-dateutil>=2.8.2->pandas>=1.3->river) (1.16.0)\n"
     ]
    }
   ],
   "source": [
    "!pip install river"
   ]
  },
  {
   "cell_type": "code",
   "execution_count": 2,
   "id": "25e8d3d8-8052-49a8-ab06-2405ccbd29e7",
   "metadata": {},
   "outputs": [],
   "source": [
    "import numpy as np\n",
    "from river import ensemble\n",
    "from river import evaluate\n",
    "from river import metrics\n",
    "from river import preprocessing\n",
    "from river import stream\n",
    "from river import datasets\n",
    "import bentoml"
   ]
  },
  {
   "cell_type": "code",
   "execution_count": 3,
   "id": "bceba6bf-8483-4e97-9a1b-a763c50d1a7d",
   "metadata": {},
   "outputs": [],
   "source": [
    "model = ensemble.AdaptiveRandomForestRegressor(seed=42)"
   ]
  },
  {
   "cell_type": "code",
   "execution_count": 4,
   "id": "0e7da195-bf8f-474d-a3e9-78dd81d54c70",
   "metadata": {},
   "outputs": [
    {
     "data": {
      "text/plain": [
       "Donald Trump approval ratings.\n",
       "\n",
       "This dataset was obtained by reshaping the data used by FiveThirtyEight for analyzing Donald\n",
       "Trump's approval ratings. It contains 5 features, which are approval ratings collected by\n",
       "5 polling agencies. The target is the approval rating from FiveThirtyEight's model. The goal of\n",
       "this task is to see if we can reproduce FiveThirtyEight's model.\n",
       "\n",
       "    Name  TrumpApproval                                                                                \n",
       "    Task  Regression                                                                                   \n",
       " Samples  1,001                                                                                        \n",
       "Features  6                                                                                            \n",
       "  Sparse  False                                                                                        \n",
       "    Path  /opt/anaconda3/envs/icos_v1/lib/python3.10/site-packages/river/datasets/trump_approval.csv.gz"
      ]
     },
     "execution_count": 4,
     "metadata": {},
     "output_type": "execute_result"
    }
   ],
   "source": [
    "dataset = datasets.TrumpApproval()\n",
    "dataset"
   ]
  },
  {
   "cell_type": "code",
   "execution_count": 86,
   "id": "e39ef441-56d2-4d1d-aebf-e5427310fac8",
   "metadata": {},
   "outputs": [
    {
     "data": {
      "text/plain": [
       "<itertools.islice at 0x7fc7db78a2f0>"
      ]
     },
     "execution_count": 86,
     "metadata": {},
     "output_type": "execute_result"
    }
   ],
   "source": [
    "dataset.take(100)"
   ]
  },
  {
   "cell_type": "code",
   "execution_count": 99,
   "id": "35d5decd-b065-44d2-aedd-d8860413bd88",
   "metadata": {},
   "outputs": [],
   "source": [
    "data = list()"
   ]
  },
  {
   "cell_type": "code",
   "execution_count": 100,
   "id": "9e5bbdcb-7b8d-40b7-8b46-e4cbca46cd10",
   "metadata": {},
   "outputs": [],
   "source": [
    "for i in dataset.take(100):\n",
    "    data.append(i)"
   ]
  },
  {
   "cell_type": "code",
   "execution_count": 101,
   "id": "b0aae614-9b56-4e39-990d-6d9ccd1fe883",
   "metadata": {},
   "outputs": [
    {
     "data": {
      "text/plain": [
       "({'ordinal_date': 736389,\n",
       "  'gallup': 43.843213,\n",
       "  'ipsos': 46.19925042857143,\n",
       "  'morning_consult': 48.318749,\n",
       "  'rasmussen': 44.104692,\n",
       "  'you_gov': 43.636914000000004},\n",
       " 43.75505)"
      ]
     },
     "execution_count": 101,
     "metadata": {},
     "output_type": "execute_result"
    }
   ],
   "source": [
    "data[0]"
   ]
  },
  {
   "cell_type": "code",
   "execution_count": 87,
   "id": "bb7a9ad2-b5c4-4e93-9183-2c9d7d7559b6",
   "metadata": {},
   "outputs": [],
   "source": [
    "from sklearn.model_selection import train_test_split"
   ]
  },
  {
   "cell_type": "code",
   "execution_count": null,
   "id": "8ff0e9aa-9379-46cc-8c47-0ab66ee9ec5e",
   "metadata": {},
   "outputs": [],
   "source": [
    "X_train, X_test, y_train, y_test = train_test_split(\n",
    "        data, labels, test_size=0.2, random_state=42, shuffle=True, stratify=labels\n",
    "    )"
   ]
  },
  {
   "cell_type": "code",
   "execution_count": 7,
   "id": "9c74da52-b880-4de6-8fc0-daecb3fa3117",
   "metadata": {},
   "outputs": [
    {
     "data": {
      "text/plain": [
       "(80, 20)"
      ]
     },
     "execution_count": 7,
     "metadata": {},
     "output_type": "execute_result"
    }
   ],
   "source": [
    "len(train), len(test)"
   ]
  },
  {
   "cell_type": "code",
   "execution_count": 8,
   "id": "8ed91627-1c5a-497c-b5ef-b4fec600ced3",
   "metadata": {},
   "outputs": [],
   "source": [
    "y_pred = list()\n",
    "y_test = list()"
   ]
  },
  {
   "cell_type": "code",
   "execution_count": 55,
   "id": "e6dc4e0c-462f-48c8-b00c-40d27509fbe7",
   "metadata": {},
   "outputs": [],
   "source": [
    "for data in train:\n",
    "    model.learn_one(data[0],data[1])\n",
    "    "
   ]
  },
  {
   "cell_type": "code",
   "execution_count": 10,
   "id": "6081db8e-ae2a-4fa1-9ec6-b6338ddc99ef",
   "metadata": {},
   "outputs": [
    {
     "data": {
      "text/plain": [
       "41.660705523772066"
      ]
     },
     "execution_count": 10,
     "metadata": {},
     "output_type": "execute_result"
    }
   ],
   "source": [
    "model.predict_one({'ordinal_date': 736489, 'gallup': 37.843213, 'ipsos': 38.07067899999999, 'morning_consult': 42.318749, 'rasmussen': 40.104692, 'you_gov': 38.636914000000004})"
   ]
  },
  {
   "cell_type": "code",
   "execution_count": 11,
   "id": "35a949c2-b976-426c-ba15-32cd097cfd74",
   "metadata": {},
   "outputs": [],
   "source": [
    "for data in test:\n",
    "    y_pred.append(model.predict_one(data[0]))\n",
    "    y_test.append(data[1])"
   ]
  },
  {
   "cell_type": "code",
   "execution_count": 12,
   "id": "73a22c71-9b18-4a86-a92b-3df457e37064",
   "metadata": {},
   "outputs": [
    {
     "data": {
      "text/plain": [
       "[41.598845875053485,\n",
       " 41.598845875053485,\n",
       " 41.598845875053485,\n",
       " 41.660705523772066,\n",
       " 41.67339860124695,\n",
       " 41.67339860124695,\n",
       " 41.67339860124695,\n",
       " 41.67339860124695,\n",
       " 41.67339860124695,\n",
       " 41.67339860124695,\n",
       " 41.660705523772066,\n",
       " 41.660705523772066,\n",
       " 41.660705523772066,\n",
       " 41.660705523772066,\n",
       " 41.660705523772066,\n",
       " 41.660705523772066,\n",
       " 41.67339860124695,\n",
       " 41.67339860124695,\n",
       " 41.660705523772066,\n",
       " 41.660705523772066]"
      ]
     },
     "execution_count": 12,
     "metadata": {},
     "output_type": "execute_result"
    }
   ],
   "source": [
    "y_pred"
   ]
  },
  {
   "cell_type": "code",
   "execution_count": 13,
   "id": "d135bc17-f3ab-4ac5-bdf3-1799eb528c43",
   "metadata": {},
   "outputs": [
    {
     "data": {
      "text/plain": [
       "[38.80148,\n",
       " 38.83015,\n",
       " 38.78198,\n",
       " 39.14797,\n",
       " 38.99393,\n",
       " 39.05955,\n",
       " 39.28042,\n",
       " 39.27729,\n",
       " 39.3673,\n",
       " 39.3634,\n",
       " 39.21078,\n",
       " 39.14719,\n",
       " 39.113640000000004,\n",
       " 39.10624,\n",
       " 38.9981,\n",
       " 38.890209999999996,\n",
       " 38.998259999999995,\n",
       " 38.60328,\n",
       " 38.28024,\n",
       " 38.24259]"
      ]
     },
     "execution_count": 13,
     "metadata": {},
     "output_type": "execute_result"
    }
   ],
   "source": [
    "y_test"
   ]
  },
  {
   "cell_type": "code",
   "execution_count": 14,
   "id": "6adbd949-0d40-41ab-a0e7-8ba9568ebc24",
   "metadata": {},
   "outputs": [],
   "source": [
    "from sklearn.metrics import mean_squared_error"
   ]
  },
  {
   "cell_type": "code",
   "execution_count": 15,
   "id": "5b9e954e-afca-44b3-9b99-0d44834a9ac0",
   "metadata": {},
   "outputs": [],
   "source": [
    "mse = mean_squared_error(y_test, y_pred)"
   ]
  },
  {
   "cell_type": "code",
   "execution_count": 16,
   "id": "9cf5e60f-ca07-4e96-a458-4e81b56867ee",
   "metadata": {},
   "outputs": [
    {
     "data": {
      "text/plain": [
       "7.283201559739519"
      ]
     },
     "execution_count": 16,
     "metadata": {},
     "output_type": "execute_result"
    }
   ],
   "source": [
    "mse"
   ]
  },
  {
   "cell_type": "code",
   "execution_count": 69,
   "id": "8b215845-7509-4a1a-9bb7-05b53ca21915",
   "metadata": {},
   "outputs": [],
   "source": [
    "# Custom Python model class to include river model in mlflow\n",
    "import mlflow.pyfunc\n",
    "class ARFModel(mlflow.pyfunc.PythonModel):\n",
    "    def __init__(self):\n",
    "        self.arf_model = ensemble.AdaptiveRandomForestRegressor(seed=42)\n",
    "\n",
    "    def learn_one(self,input_data,target):\n",
    "        return self.arf_model.learn_one(input_data,target)\n",
    "\n",
    "    def predict_one(self,model_input):\n",
    "        return self.arf_model.predict_one(model_input)\n",
    "        \n",
    "    def predict(self,context,model_input):\n",
    "        return self.predict_one(model_input)"
   ]
  },
  {
   "cell_type": "code",
   "execution_count": 70,
   "id": "63530742-277b-41ff-a59a-7ae7b0ecb820",
   "metadata": {},
   "outputs": [],
   "source": [
    "my_model = ARFModel()"
   ]
  },
  {
   "cell_type": "code",
   "execution_count": 71,
   "id": "082110a7-424a-4945-97dc-11714870bbf0",
   "metadata": {},
   "outputs": [],
   "source": [
    "for data in train:\n",
    "    my_model.learn_one(data[0],data[1])"
   ]
  },
  {
   "cell_type": "code",
   "execution_count": 73,
   "id": "9398a4ed-775c-4006-8041-a4efeb073ba5",
   "metadata": {},
   "outputs": [
    {
     "data": {
      "text/plain": [
       "41.660705523772066"
      ]
     },
     "execution_count": 73,
     "metadata": {},
     "output_type": "execute_result"
    }
   ],
   "source": [
    "my_model.predict_one({'ordinal_date': 736489, 'gallup': 37.843213, 'ipsos': 38.07067899999999, 'morning_consult': 42.318749, 'rasmussen': 40.104692, 'you_gov': 38.636914000000004})"
   ]
  },
  {
   "cell_type": "code",
   "execution_count": 72,
   "id": "6400b3f7-ac8e-47f4-94a3-ec7310b9e357",
   "metadata": {},
   "outputs": [
    {
     "data": {
      "text/plain": [
       "41.660705523772066"
      ]
     },
     "execution_count": 72,
     "metadata": {},
     "output_type": "execute_result"
    }
   ],
   "source": [
    "my_model.predict(context=None,model_input={'ordinal_date': 736489, 'gallup': 37.843213, 'ipsos': 38.07067899999999, 'morning_consult': 42.318749, 'rasmussen': 40.104692, 'you_gov': 38.636914000000004})"
   ]
  },
  {
   "cell_type": "code",
   "execution_count": 67,
   "id": "17985f91-54e1-46aa-a485-64c44cfe24d6",
   "metadata": {},
   "outputs": [
    {
     "ename": "AttributeError",
     "evalue": "'ARFModel' object has no attribute 'predict_one'",
     "output_type": "error",
     "traceback": [
      "\u001b[0;31m---------------------------------------------------------------------------\u001b[0m",
      "\u001b[0;31mAttributeError\u001b[0m                            Traceback (most recent call last)",
      "Cell \u001b[0;32mIn[67], line 1\u001b[0m\n\u001b[0;32m----> 1\u001b[0m \u001b[43mmy_model\u001b[49m\u001b[38;5;241;43m.\u001b[39;49m\u001b[43mpredict_one\u001b[49m\n",
      "\u001b[0;31mAttributeError\u001b[0m: 'ARFModel' object has no attribute 'predict_one'"
     ]
    }
   ],
   "source": [
    "my_model.predict_one"
   ]
  },
  {
   "cell_type": "code",
   "execution_count": 74,
   "id": "cc8875f5-47a9-42f2-a01b-a6d16a60b4e6",
   "metadata": {},
   "outputs": [],
   "source": [
    "model_info = mlflow.pyfunc.log_model(artifact_path=\"model\", python_model=my_model)"
   ]
  },
  {
   "cell_type": "code",
   "execution_count": 75,
   "id": "99671f23-0a7b-43c8-9107-027767de317f",
   "metadata": {},
   "outputs": [
    {
     "data": {
      "text/plain": [
       "<mlflow.models.model.ModelInfo at 0x7fc7db5ea2c0>"
      ]
     },
     "execution_count": 75,
     "metadata": {},
     "output_type": "execute_result"
    }
   ],
   "source": [
    "model_info"
   ]
  },
  {
   "cell_type": "code",
   "execution_count": 76,
   "id": "2b50aa11-6a1a-498d-a414-3b92f2b41a3e",
   "metadata": {},
   "outputs": [],
   "source": [
    "bento_model = bentoml.mlflow.import_model('arf_model', model_info.model_uri)"
   ]
  },
  {
   "cell_type": "code",
   "execution_count": 77,
   "id": "1c8adc0d-3c14-455b-9183-8cf9c4237172",
   "metadata": {},
   "outputs": [
    {
     "data": {
      "text/plain": [
       "Model(tag=\"arf_model:v45cb2sqwwywjury\", path=\"/Users/jaydeepsamanta/bentoml/models/arf_model/v45cb2sqwwywjury/\")"
      ]
     },
     "execution_count": 77,
     "metadata": {},
     "output_type": "execute_result"
    }
   ],
   "source": [
    "bento_model"
   ]
  },
  {
   "cell_type": "code",
   "execution_count": 78,
   "id": "2b2546df-07e8-40d0-babf-6c7a4ee129ad",
   "metadata": {},
   "outputs": [
    {
     "name": "stdout",
     "output_type": "stream",
     "text": [
      "\u001b[1m \u001b[0m\u001b[1mTag                  \u001b[0m\u001b[1m \u001b[0m\u001b[1m \u001b[0m\u001b[1mModule                \u001b[0m\u001b[1m \u001b[0m\u001b[1m \u001b[0m\u001b[1mSize      \u001b[0m\u001b[1m \u001b[0m\u001b[1m \u001b[0m\u001b[1mCreation Time      \u001b[0m\u001b[1m \u001b[0m\n",
      " arf_model:v45cb2sqww…  bentoml.mlflow          83.24 KiB   2024-08-02 10:57:53 \n",
      " arf_model:usg2o3cqws…  bentoml.mlflow          149.47 KiB  2024-08-02 10:50:25 \n",
      " arf_model:hh3qylcqws…  bentoml.mlflow          82.86 KiB   2024-08-02 10:47:26 \n",
      " arf_model:s23a7qsqwo…  bentoml.mlflow          82.85 KiB   2024-08-02 10:42:52 \n",
      " arima_forecast_model…  bentoml.picklable_mod…  1.04 MiB    2024-07-25 12:21:31 \n",
      " predictive_maintenan…  bentoml.xgboost         103.22 KiB  2024-02-16 13:15:56 \n",
      " iris_clf_with_featur…  bentoml.sklearn         6.36 KiB    2024-02-08 15:42:19 \n"
     ]
    }
   ],
   "source": [
    "!bentoml models list"
   ]
  },
  {
   "cell_type": "code",
   "execution_count": 102,
   "id": "775e2f9e-5d87-46da-8a4b-5d7aa0e0e081",
   "metadata": {},
   "outputs": [],
   "source": [
    "bentoml_model = bentoml.mlflow.get(\"arf_model:latest\")"
   ]
  },
  {
   "cell_type": "code",
   "execution_count": 103,
   "id": "33199e04-6753-40a0-9fdf-ca4f91c4cef7",
   "metadata": {},
   "outputs": [],
   "source": [
    "runner = bentoml_model.to_runner()"
   ]
  },
  {
   "cell_type": "code",
   "execution_count": 104,
   "id": "c8da4aa0-e408-4a45-ace5-5da2b2471d4d",
   "metadata": {},
   "outputs": [
    {
     "name": "stderr",
     "output_type": "stream",
     "text": [
      "'Runner.init_local' is for debugging and testing only. Make sure to remove it before deploying to production.\n",
      "2024/08/02 11:55:02 WARNING mlflow.pyfunc: Detected one or more mismatches between the model's dependencies and the current Python environment:\n",
      " - mlflow (current: 2.3.2, required: mlflow==2.3)\n",
      "To fix the mismatches, call `mlflow.pyfunc.get_model_dependencies(model_uri)` to fetch the model's environment and install dependencies using the resulting environment file.\n"
     ]
    }
   ],
   "source": [
    "runner.init_local()"
   ]
  },
  {
   "cell_type": "code",
   "execution_count": 105,
   "id": "dde5d58b-75fb-46c2-b2d0-aab188aa66e1",
   "metadata": {},
   "outputs": [
    {
     "data": {
      "text/plain": [
       "Runner(name='arf_model', models=[Model(tag=\"arf_model:s5psddsqxwqurury\", path=\"/Users/jaydeepsamanta/bentoml/models/arf_model/s5psddsqxwqurury\")], resource_config=None, runnable_class=<class 'bentoml._internal.frameworks.mlflow.get_runnable.<locals>.MLflowPyfuncRunnable'>, embedded=False, runner_methods=[RunnerMethod(runner=..., name='predict', config=RunnableMethodConfig(batchable=False, batch_dim=(0, 0), input_spec=None, output_spec=None), max_batch_size=100, max_latency_ms=10000)], scheduling_strategy=<class 'bentoml._internal.runner.strategy.DefaultStrategy'>, workers_per_resource=1, runnable_init_params={}, _runner_handle=<bentoml._internal.runner.runner_handle.local.LocalRunnerRef object at 0x7fc7db7110c0>)"
      ]
     },
     "execution_count": 105,
     "metadata": {},
     "output_type": "execute_result"
    }
   ],
   "source": [
    "runner"
   ]
  },
  {
   "cell_type": "code",
   "execution_count": 106,
   "id": "3fcbc7e8-39d9-49e7-80a5-e56bd354ccda",
   "metadata": {},
   "outputs": [
    {
     "data": {
      "text/plain": [
       "41.660705523772066"
      ]
     },
     "execution_count": 106,
     "metadata": {},
     "output_type": "execute_result"
    }
   ],
   "source": [
    "runner.predict.run({'ordinal_date': 736489, 'gallup': 37.843213, 'ipsos': 38.07067899999999, 'morning_consult': 42.318749, 'rasmussen': 40.104692, 'you_gov': 38.636914000000004})"
   ]
  },
  {
   "cell_type": "code",
   "execution_count": null,
   "id": "b382663a-30d9-42a7-b489-698f0bbc167b",
   "metadata": {},
   "outputs": [],
   "source": []
  }
 ],
 "metadata": {
  "kernelspec": {
   "display_name": "Python 3 (ipykernel)",
   "language": "python",
   "name": "python3"
  },
  "language_info": {
   "codemirror_mode": {
    "name": "ipython",
    "version": 3
   },
   "file_extension": ".py",
   "mimetype": "text/x-python",
   "name": "python",
   "nbconvert_exporter": "python",
   "pygments_lexer": "ipython3",
   "version": "3.10.13"
  }
 },
 "nbformat": 4,
 "nbformat_minor": 5
}
