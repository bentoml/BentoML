{
 "cells": [
  {
   "cell_type": "code",
   "execution_count": 1,
   "metadata": {},
   "outputs": [
    {
     "name": "stdout",
     "output_type": "stream",
     "text": [
      "/Users/chaoyuyang/workspace/BentoML/examples/sklearn-sentiment-clf/../../bentoml/__init__.py\n"
     ]
    }
   ],
   "source": [
    "# Import local bentoml repository\n",
    "import sys\n",
    "import os\n",
    "sys.path.append(os.path.join(os.getcwd(), \"..\", \"..\"))\n",
    "import bentoml\n",
    "\n",
    "print(bentoml.__file__)"
   ]
  },
  {
   "cell_type": "markdown",
   "metadata": {},
   "source": [
    "# sentiment_analysis_twitter_model\n",
    "\n",
    "Based on https://github.com/crawles/sentiment_analysis_twitter_model/blob/master/build-sentiment-classifier.ipynb\n",
    "\n",
    "Using dataset from http://help.sentiment140.com/for-students/"
   ]
  },
  {
   "cell_type": "code",
   "execution_count": null,
   "metadata": {},
   "outputs": [],
   "source": [
    "%%bash\n",
    "\n",
    "wget -q http://cs.stanford.edu/people/alecmgo/trainingandtestdata.zip\n",
    "unzip -n trainingandtestdata.zip\n",
    "rm trainingandtestdata.zip"
   ]
  },
  {
   "cell_type": "code",
   "execution_count": 2,
   "metadata": {},
   "outputs": [],
   "source": [
    "%matplotlib inline\n",
    "from matplotlib import pyplot as plt\n",
    "import numpy as np\n",
    "import pandas as pd\n",
    "from sklearn.feature_extraction.text import CountVectorizer\n",
    "from sklearn.linear_model import LogisticRegression\n",
    "from sklearn.metrics import classification_report, roc_auc_score, roc_curve\n",
    "from sklearn.pipeline import Pipeline"
   ]
  },
  {
   "cell_type": "markdown",
   "metadata": {},
   "source": [
    "# Read Data"
   ]
  },
  {
   "cell_type": "code",
   "execution_count": 3,
   "metadata": {},
   "outputs": [],
   "source": [
    "columns = ['polarity', 'tweetid', 'date', 'query_name', 'user', 'text']\n",
    "dftrain = pd.read_csv('training.1600000.processed.noemoticon.csv',\n",
    "                      header = None,\n",
    "                      encoding ='ISO-8859-1')\n",
    "dftest = pd.read_csv('testdata.manual.2009.06.14.csv',\n",
    "                     header = None,\n",
    "                     encoding ='ISO-8859-1')\n",
    "dftrain.columns = columns\n",
    "dftest.columns = columns"
   ]
  },
  {
   "cell_type": "markdown",
   "metadata": {},
   "source": [
    "# Text Pre-processing"
   ]
  },
  {
   "cell_type": "code",
   "execution_count": 4,
   "metadata": {},
   "outputs": [],
   "source": [
    "class RegexPreprocess(object):\n",
    "    \"\"\"Create a preprocessing module for a tweet or data structure of tweets.\n",
    "    1) replace username, e.g., @crawles -> USERNAME\n",
    "    2) replace http links -> URL\n",
    "    3) replace repeated letters to two letters\n",
    "    \"\"\"\n",
    "    \n",
    "    user_pat = '(?<=^|(?<=[^a-zA-Z0-9-_\\.]))@([A-Za-z]+[A-Za-z0-9]+)'\n",
    "    http_pat = '(https?:\\/\\/(?:www\\.|(?!www))[^\\s\\.]+\\.[^\\s]{2,}|www\\.[^\\s]+\\.[^\\s]{2,})'\n",
    "    repeat_pat, repeat_repl = \"(.)\\\\1\\\\1+\",'\\\\1\\\\1'\n",
    "    \n",
    "    def __init__(self):\n",
    "        pass\n",
    "    \n",
    "    def transform(self, X):\n",
    "        is_pd_series = isinstance(X, pd.core.frame.Series)\n",
    "        if not is_pd_series:\n",
    "            pp_text = pd.Series(X)\n",
    "        else:\n",
    "            pp_text = X\n",
    "        pp_text = pp_text.str.replace(pat = self.user_pat, repl = 'USERNAME')\n",
    "        pp_text = pp_text.str.replace(pat = self.http_pat, repl = 'URL')\n",
    "        pp_text.str.replace(pat = self.repeat_pat, repl = self.repeat_repl)\n",
    "        return pp_text\n",
    "        \n",
    "    def fit(self, X, y=None):\n",
    "        return self"
   ]
  },
  {
   "cell_type": "markdown",
   "metadata": {},
   "source": [
    "# Train the model"
   ]
  },
  {
   "cell_type": "code",
   "execution_count": 5,
   "metadata": {},
   "outputs": [
    {
     "name": "stderr",
     "output_type": "stream",
     "text": [
      "/Users/chaoyuyang/anaconda3/envs/bentoml-dev/lib/python3.7/site-packages/sklearn/linear_model/logistic.py:433: FutureWarning: Default solver will be changed to 'lbfgs' in 0.22. Specify a solver to silence this warning.\n",
      "  FutureWarning)\n"
     ]
    },
    {
     "data": {
      "text/plain": [
       "Pipeline(memory=None,\n",
       "     steps=[('regex_preprocess', <__main__.RegexPreprocess object at 0x103f54a20>), ('count_vect', CountVectorizer(analyzer='word', binary=False, decode_error='strict',\n",
       "        dtype=<class 'numpy.int64'>, encoding='utf-8', input='content',\n",
       "        lowercase=True, max_df=1.0, max_features=None, min_df=10...penalty='l2', random_state=None, solver='warn',\n",
       "          tol=0.0001, verbose=0, warm_start=False))])"
      ]
     },
     "execution_count": 5,
     "metadata": {},
     "output_type": "execute_result"
    }
   ],
   "source": [
    "sentiment_lr = Pipeline([('regex_preprocess', RegexPreprocess()),\n",
    "                         ('count_vect', CountVectorizer(min_df = 100,\n",
    "                                                        ngram_range = (1,1),\n",
    "                                                        stop_words = 'english')), \n",
    "                         ('lr', LogisticRegression())])\n",
    "sentiment_lr.fit(dftrain.text, dftrain.polarity)"
   ]
  },
  {
   "cell_type": "code",
   "execution_count": 6,
   "metadata": {
    "scrolled": true
   },
   "outputs": [
    {
     "name": "stdout",
     "output_type": "stream",
     "text": [
      "              precision    recall  f1-score   support\n",
      "\n",
      "           0       0.86      0.81      0.83       177\n",
      "           4       0.82      0.87      0.85       182\n",
      "\n",
      "   micro avg       0.84      0.84      0.84       359\n",
      "   macro avg       0.84      0.84      0.84       359\n",
      "weighted avg       0.84      0.84      0.84       359\n",
      "\n"
     ]
    }
   ],
   "source": [
    "Xtest, ytest = dftest.text[dftest.polarity!=2], dftest.polarity[dftest.polarity!=2]\n",
    "print(classification_report(ytest,sentiment_lr.predict(Xtest)))"
   ]
  },
  {
   "cell_type": "code",
   "execution_count": 7,
   "metadata": {},
   "outputs": [
    {
     "data": {
      "text/plain": [
       "array([0, 4])"
      ]
     },
     "execution_count": 7,
     "metadata": {},
     "output_type": "execute_result"
    }
   ],
   "source": [
    "sentiment_lr.predict([\"stupid\", \"awesome\"])"
   ]
  },
  {
   "cell_type": "markdown",
   "metadata": {},
   "source": [
    "# Export model for production"
   ]
  },
  {
   "cell_type": "code",
   "execution_count": 10,
   "metadata": {
    "scrolled": true
   },
   "outputs": [
    {
     "name": "stdout",
     "output_type": "stream",
     "text": [
      "Overwriting sentiment_lr_model.py\n"
     ]
    }
   ],
   "source": [
    "%%writefile sentiment_lr_model.py\n",
    "import pandas as pd\n",
    "import bentoml\n",
    "from bentoml.artifacts import PickleArtifact\n",
    "\n",
    "class SentimentLRModel(bentoml.BentoModel):\n",
    "    \"\"\"\n",
    "    My SentimentLRModel packaging with BentoML\n",
    "    \"\"\"\n",
    "    _model_package_version = \"1.0.2\"\n",
    "    \n",
    "    def config(self, artifacts, env):\n",
    "        artifacts.add(PickleArtifact('sentiment_lr'))\n",
    "\n",
    "        env.add_conda_dependencies([\"scikit-learn\", \"pandas\"])\n",
    "\n",
    "    def predict(self, df):\n",
    "        \"\"\"\n",
    "        predict expects dataframe as input\n",
    "        \"\"\"        \n",
    "        return self.artifacts.sentiment_lr.predict(df)"
   ]
  },
  {
   "cell_type": "code",
   "execution_count": 11,
   "metadata": {},
   "outputs": [
    {
     "name": "stdout",
     "output_type": "stream",
     "text": [
      "/tmp/bento/SentimentLRModel/2019_04_02_7fb1af6d\n"
     ]
    }
   ],
   "source": [
    "from sentiment_lr_model import SentimentLRModel\n",
    "\n",
    "# Initialize bentoML model with artifacts\n",
    "bento_model = SentimentLRModel(sentiment_lr=sentiment_lr)\n",
    "\n",
    "# Save bentoML model to directory\n",
    "saved_path = bento_model.save(\"/tmp/bento\")\n",
    "\n",
    "# print the directory containing exported model archive (prefixed with model name and version)\n",
    "print(saved_path)"
   ]
  },
  {
   "cell_type": "markdown",
   "metadata": {},
   "source": [
    "# Load model from archive"
   ]
  },
  {
   "cell_type": "code",
   "execution_count": 12,
   "metadata": {
    "scrolled": false
   },
   "outputs": [
    {
     "data": {
      "text/plain": [
       "array([4, 4])"
      ]
     },
     "execution_count": 12,
     "metadata": {},
     "output_type": "execute_result"
    }
   ],
   "source": [
    "import bentoml\n",
    "\n",
    "# Load exported bentoML model archive from path\n",
    "bento_model = bentoml.load(saved_path)\n",
    "\n",
    "# Call predict on the restored sklearn model\n",
    "bento_model.predict([\"hello\", \"hi\"])"
   ]
  },
  {
   "cell_type": "markdown",
   "metadata": {},
   "source": [
    "##### * For demo purpurse, copy generated model to ./model folder"
   ]
  },
  {
   "cell_type": "code",
   "execution_count": 13,
   "metadata": {},
   "outputs": [
    {
     "data": {
      "text/plain": [
       "'./model'"
      ]
     },
     "execution_count": 13,
     "metadata": {},
     "output_type": "execute_result"
    }
   ],
   "source": [
    "import os\n",
    "import shutil\n",
    "shutil.rmtree('./model', ignore_errors=True)\n",
    "shutil.copytree(saved_path, './model')"
   ]
  },
  {
   "cell_type": "markdown",
   "metadata": {},
   "source": [
    "# Install exported model as a python package"
   ]
  },
  {
   "cell_type": "code",
   "execution_count": 14,
   "metadata": {},
   "outputs": [
    {
     "name": "stdout",
     "output_type": "stream",
     "text": [
      "Processing ./model\n",
      "Building wheels for collected packages: SentimentLRModel\n",
      "  Building wheel for SentimentLRModel (setup.py) ... \u001b[?25ldone\n",
      "\u001b[?25h  Stored in directory: /private/var/folders/ns/vc9qhmqx5dx_9fws7d869lqh0000gn/T/pip-ephem-wheel-cache-o69d8vi4/wheels/8d/e0/07/401c7995bf36b95e36efe3a2dc251c46fe8f2d34b7e50b813e\n",
      "Successfully built SentimentLRModel\n",
      "Installing collected packages: SentimentLRModel\n",
      "  Found existing installation: SentimentLRModel 1.0.0\n",
      "    Uninstalling SentimentLRModel-1.0.0:\n",
      "      Successfully uninstalled SentimentLRModel-1.0.0\n",
      "Successfully installed SentimentLRModel-1.0.0\n"
     ]
    }
   ],
   "source": [
    "!pip install ./model"
   ]
  },
  {
   "cell_type": "code",
   "execution_count": 15,
   "metadata": {
    "scrolled": true
   },
   "outputs": [
    {
     "data": {
      "text/plain": [
       "array([0, 4])"
      ]
     },
     "execution_count": 15,
     "metadata": {},
     "output_type": "execute_result"
    }
   ],
   "source": [
    "# Your bentoML model class name will become packaged name\n",
    "from SentimentLRModel import SentimentLRModel\n",
    "\n",
    "ms = SentimentLRModel().load() # call load to ensure all artifacts are loaded\n",
    "ms.predict([\"stupid\", \"awesome\"])"
   ]
  },
  {
   "cell_type": "markdown",
   "metadata": {},
   "source": [
    "# Build API server docker image"
   ]
  },
  {
   "cell_type": "code",
   "execution_count": 16,
   "metadata": {},
   "outputs": [
    {
     "name": "stdout",
     "output_type": "stream",
     "text": [
      "Sending build context to Docker daemon  5.995MB\n",
      "Step 1/7 : FROM continuumio/miniconda3\n",
      " ---> ae46c364060f\n",
      "Step 2/7 : COPY . /model\n",
      " ---> 73e561e1203b\n",
      "Step 3/7 : RUN conda env create -f /model/environment.yml\n",
      " ---> Running in a67661c66a61\n",
      "Solving environment: ...working... done\n",
      "\u001b[91m\n",
      "\n",
      "==> WARNING: A newer version of conda exists. <==\n",
      "  current version: 4.5.12\n",
      "  latest version: 4.6.9\n",
      "\n",
      "Please update conda by running\n",
      "\n",
      "    $ conda update -n base -c defaults conda\n",
      "\n",
      "\n",
      "scipy-1.2.1          | 17.7 MB   | ########## | 100% \u001b[0m\u001b[91m\u001b[91m\u001b[91m\u001b[91m\u001b[91m\u001b[91m\u001b[91m\u001b[91m\u001b[91m\u001b[91m\u001b[91m\u001b[91m\u001b[91m\u001b[91m\u001b[91m\u001b[91m\u001b[91m\u001b[91m\u001b[91m\u001b[91m\u001b[91m\u001b[91m\u001b[91m\u001b[91m\u001b[91m\u001b[91m\u001b[91m\u001b[91m\u001b[91m\u001b[91m\u001b[91m\u001b[91m\u001b[91m\u001b[91m\u001b[91m\u001b[91m\u001b[91m\u001b[91m\u001b[91m\u001b[91m\u001b[91m\u001b[91m\u001b[91m\u001b[91m\u001b[91m\u001b[91m\u001b[91m\u001b[91m\u001b[91m\u001b[91m\u001b[91m\u001b[91m\u001b[91m\u001b[91m\u001b[91m\u001b[91m\u001b[91m\u001b[91m\u001b[91m\u001b[91m\u001b[91m\u001b[91m\u001b[91m\u001b[91m\u001b[91m\u001b[91m\u001b[91m\u001b[91m\u001b[91m\u001b[91m\u001b[91m\u001b[91m\u001b[91m\u001b[91m\u001b[91m\u001b[91m\u001b[91m\u001b[91m\u001b[91m\u001b[91m\u001b[91m\u001b[91m\u001b[91m\u001b[91m\u001b[91m\u001b[91m\u001b[91m\u001b[91m\u001b[91m\u001b[91m\u001b[91m\u001b[91m\u001b[91m\u001b[91m\u001b[91m\u001b[91m\u001b[91m\u001b[91m\u001b[91m\u001b[91m\u001b[91m\u001b[91m\u001b[91m\u001b[91m\u001b[91m\u001b[91m\u001b[91m\u001b[91m\u001b[91m\u001b[91m\u001b[91m\u001b[91m\u001b[91m\u001b[91m\u001b[91m\u001b[91m\u001b[91m\u001b[91m\u001b[91m\u001b[91m\u001b[91m\u001b[91m\u001b[91m\u001b[91m\u001b[91m\u001b[91m\u001b[91m\u001b[91m\u001b[91m\u001b[91m\u001b[91m\u001b[91m\u001b[91m\u001b[91m\u001b[91m\u001b[91m\u001b[91m\u001b[91m\u001b[91m\u001b[91m\u001b[91m\u001b[91m\u001b[91m\u001b[91m\u001b[91m\u001b[91m\u001b[91m\u001b[91m\n",
      "libedit-3.1.20181209 | 188 KB    | ########## | 100% \u001b[0m\u001b[91m\u001b[91m\u001b[91m\n",
      "setuptools-40.8.0    | 643 KB    | ########## | 100% \u001b[0m\u001b[91m\u001b[91m\u001b[91m\u001b[91m\u001b[91m\n",
      "openssl-1.1.1b       | 4.0 MB    | ########## | 100% \u001b[0m\u001b[91m\u001b[91m\u001b[91m\u001b[91m\u001b[91m\u001b[91m\u001b[91m\u001b[91m\u001b[91m\u001b[91m\u001b[91m\u001b[91m\u001b[91m\u001b[91m\u001b[91m\u001b[91m\u001b[91m\u001b[91m\u001b[91m\u001b[91m\u001b[91m\u001b[91m\u001b[91m\u001b[91m\u001b[91m\u001b[91m\u001b[91m\u001b[91m\u001b[91m\u001b[91m\u001b[91m\u001b[91m\n",
      "pytz-2018.9          | 258 KB    | ########## | 100% \u001b[0m\u001b[91m\u001b[91m\u001b[91m\n",
      "scikit-learn-0.20.3  | 5.8 MB    | ########## | 100% \u001b[0m\u001b[91m\u001b[91m\u001b[91m\u001b[91m\u001b[91m\u001b[91m\u001b[91m\u001b[91m\u001b[91m\u001b[91m\u001b[91m\u001b[91m\u001b[91m\u001b[91m\u001b[91m\u001b[91m\u001b[91m\u001b[91m\u001b[91m\u001b[91m\u001b[91m\u001b[91m\u001b[91m\u001b[91m\u001b[91m\u001b[91m\u001b[91m\u001b[91m\u001b[91m\u001b[91m\u001b[91m\u001b[91m\u001b[91m\u001b[91m\u001b[91m\u001b[91m\u001b[91m\u001b[91m\u001b[91m\u001b[91m\u001b[91m\u001b[91m\u001b[91m\u001b[91m\u001b[91m\u001b[91m\u001b[91m\u001b[91m\u001b[91m\u001b[91m\n",
      "intel-openmp-2019.3  | 886 KB    | ########## | 100% \u001b[0m\u001b[91m\u001b[91m\u001b[91m\u001b[91m\u001b[91m\n",
      "pandas-0.24.2        | 11.1 MB   | ########## | 100% \u001b[0m\u001b[91m\u001b[91m\u001b[91m\u001b[91m\u001b[91m\u001b[91m\u001b[91m\u001b[91m\u001b[91m\u001b[91m\u001b[91m\u001b[91m\u001b[91m\u001b[91m\u001b[91m\u001b[91m\u001b[91m\u001b[91m\u001b[91m\u001b[91m\u001b[91m\u001b[91m\u001b[91m\u001b[91m\u001b[91m\u001b[91m\u001b[91m\u001b[91m\u001b[91m\u001b[91m\u001b[91m\u001b[91m\u001b[91m\u001b[91m\u001b[91m\u001b[91m\u001b[91m\u001b[91m\u001b[91m\u001b[91m\u001b[91m\u001b[91m\u001b[91m\u001b[91m\u001b[91m\u001b[91m\u001b[91m\u001b[91m\u001b[91m\u001b[91m\u001b[91m\u001b[91m\u001b[91m\u001b[91m\u001b[91m\u001b[91m\u001b[91m\u001b[91m\u001b[91m\u001b[91m\u001b[91m\u001b[91m\u001b[91m\u001b[91m\u001b[91m\u001b[91m\u001b[91m\u001b[91m\u001b[91m\u001b[91m\u001b[91m\u001b[91m\u001b[91m\u001b[91m\u001b[91m\u001b[91m\u001b[91m\u001b[91m\u001b[91m\u001b[91m\u001b[91m\u001b[91m\u001b[91m\u001b[91m\u001b[91m\u001b[91m\u001b[91m\u001b[91m\u001b[91m\u001b[91m\u001b[91m\u001b[91m\u001b[91m\u001b[91m\u001b[91m\u001b[91m\u001b[91m\u001b[91m\u001b[91m\u001b[91m\u001b[91m\u001b[91m\u001b[91m\n"
     ]
    },
    {
     "name": "stdout",
     "output_type": "stream",
     "text": [
      "mkl-2019.3           | 203.3 MB  | #######4   |  75% \u001b[0m\u001b[91m\u001b[91m\u001b[91m\u001b[91m\u001b[91m\u001b[91m\u001b[91m\u001b[91m\u001b[91m\u001b[91m\u001b[91m\u001b[91m\u001b[91m\u001b[91m\u001b[91m\u001b[91m\u001b[91m\u001b[91m\u001b[91m\u001b[91m\u001b[91m\u001b[91m\u001b[91m\u001b[91m\u001b[91m\u001b[91m\u001b[91m\u001b[91m\u001b[91m\u001b[91m\u001b[91m\u001b[91m\u001b[91m\u001b[91m\u001b[91m\u001b[91m\u001b[91m\u001b[91m\u001b[91m\u001b[91m\u001b[91m\u001b[91m\u001b[91m\u001b[91m\u001b[91m\u001b[91m\u001b[91m\u001b[91m\u001b[91m\u001b[91m\u001b[91m\u001b[91m\u001b[91m\u001b[91m\u001b[91m\u001b[91m\u001b[91m\u001b[91m\u001b[91m\u001b[91m\u001b[91m\u001b[91m\u001b[91m\u001b[91m\u001b[91m\u001b[91m\u001b[91m\u001b[91m\u001b[91m\u001b[91m\u001b[91m\u001b[91m\u001b[91m\u001b[91m\u001b[91m\u001b[91m\u001b[91m\u001b[91m\u001b[91m\u001b[91m\u001b[91m\u001b[91m\u001b[91m\u001b[91m\u001b[91m\u001b[91m\u001b[91m\u001b[91m\u001b[91m\u001b[91m\u001b[91m\u001b[91m\u001b[91m\u001b[91m\u001b[91m\u001b[91m\u001b[91m\u001b[91m\u001b[91m\u001b[91m\u001b[91m\u001b[91m\u001b[91m\u001b[91m\u001b[91m\u001b[91m\u001b[91m\u001b[91m\u001b[91m\u001b[91m\u001b[91m\u001b[91m\u001b[91m\u001b[91m\u001b[91m\u001b[91m\u001b[91m\u001b[91m\u001b[91m\u001b[91m\u001b[91m\u001b[91m\u001b[91m\u001b[91m\u001b[91m\u001b[91m\u001b[91m\u001b[91m\u001b[91m\u001b[91m\u001b[91m\u001b[91m\u001b[91m\u001b[91m\u001b[91m\u001b[91m\u001b[91m\u001b[91m\u001b[91m\u001b[91m\u001b[91m\u001b[91m\u001b[91m\u001b[91m\u001b[91m\u001b[91m\u001b[91m\u001b[91m\u001b[91m\u001b[91m\u001b[91m\u001b[91m\u001b[91m\u001b[91m\u001b[91m\u001b[91m\u001b[91m\u001b[91m\u001b[91m\u001b[91m\u001b[91m\u001b[91m\u001b[91m\u001b[91m\u001b[91m\u001b[91m\u001b[91m\u001b[91m\u001b[91m\u001b[91m\u001b[91m\u001b[91m\u001b[91m\u001b[91m\u001b[91m\u001b[91m\u001b[91m\u001b[91m\u001b[91m\u001b[91m\u001b[91m\u001b[91m\u001b[91m\u001b[91m\u001b[91m\u001b[91m\u001b[91m\u001b[91m\u001b[91m\u001b[91m\u001b[91m\u001b[91m\u001b[91m\u001b[91m\u001b[91m\u001b[91m\u001b[91m\u001b[91m\u001b[91m\u001b[91m\u001b[91m\u001b[91m\u001b[91m\u001b[91m\u001b[91m\u001b[91m\u001b[91m\u001b[91m\u001b[91m\u001b[91m\u001b[91m\u001b[91m\u001b[91m\u001b[91m\u001b[91m\u001b[91m\u001b[91m\u001b[91m\u001b[91m\u001b[91m\u001b[91m\u001b[91m\u001b[91m\u001b[91m\u001b[91m\u001b[91m\u001b[91m\u001b[91m\u001b[91m\u001b[91m\u001b[91m\u001b[91m\u001b[91m\u001b[91m\u001b[91m\u001b[91m\u001b[91m\u001b[91m\u001b[91m\u001b[91m\u001b[91m\u001b[91m\u001b[91m\u001b[91m\u001b[91m\u001b[91m\u001b[91m\u001b[91m\u001b[91m\u001b[91m\u001b[91m\u001b[91m\u001b[91m\u001b[91m\u001b[91m\u001b[91m\u001b[91m\u001b[91m\u001b[91m\u001b[91m\u001b[91m\u001b[91m\u001b[91m\u001b[91m\u001b[91m\u001b[91m\u001b[91m\u001b[91m\u001b[91m\u001b[91m\u001b[91m\u001b[91m\u001b[91m\u001b[91m\u001b[91m\u001b[91m\u001b[91m\u001b[91m\u001b[91m\u001b[91m\u001b[91m\u001b[91m\u001b[91m\u001b[91m\u001b[91m\u001b[91m\u001b[91m\u001b[91m\u001b[91m\u001b[91m\u001b[91m\u001b[91m\u001b[91m\u001b[91m\u001b[91m\u001b[91m\u001b[91m\u001b[91m\u001b[91m\u001b[91m\u001b[91m\u001b[91m\u001b[91m\u001b[91m\u001b[91m\u001b[91m\u001b[91m\u001b[91m\u001b[91m\u001b[91m\u001b[91m\u001b[91m\u001b[91m\u001b[91m\u001b[91m\u001b[91m\u001b[91m\u001b[91m\u001b[91m\u001b[91m\u001b[91m\u001b[91m\u001b[91m\u001b[91m\u001b[91m\u001b[91m\u001b[91m\u001b[91m\u001b[91m\u001b[91m\u001b[91m\u001b[91m\u001b[91m\u001b[91m\u001b[91m\u001b[91m\u001b[91m\u001b[91m\u001b[91m\u001b[91m\u001b[91m\u001b[91m\u001b[91m\u001b[91m\u001b[91m\u001b[91m\u001b[91m\u001b[91m\u001b[91m\u001b[91m\u001b[91m\u001b[91m\u001b[91m\u001b[91m\u001b[91m\u001b[91m\u001b[91m\u001b[91m\u001b[91m\u001b[91m\u001b[91m\u001b[91m\u001b[91m\u001b[91m\u001b[91m\u001b[91m\u001b[91m\u001b[91m\u001b[91m\u001b[91m\u001b[91m\u001b[91m\u001b[91m\u001b[91m\u001b[91m\u001b[91m\u001b[91m\u001b[91m\u001b[91m\u001b[91m\u001b[91m\u001b[91m\u001b[91m\u001b[91m\u001b[91m\u001b[91m\u001b[91m\u001b[91m\u001b[91m\u001b[91m\u001b[91m\u001b[91m\u001b[91m\u001b[91m\u001b[91m\u001b[91m\u001b[91m\u001b[91m\u001b[91m\u001b[91m\u001b[91m\u001b[91m\u001b[91m\u001b[91m\u001b[91m\u001b[91m\u001b[91m\u001b[91m\u001b[91m\u001b[91m\u001b[91m\u001b[91m\u001b[91m\u001b[91m\u001b[91m\u001b[91m\u001b[91m\u001b[91m\u001b[91m\u001b[91m\u001b[91m\u001b[91m\u001b[91m\u001b[91m\u001b[91m\u001b[91m\u001b[91m\u001b[91m\u001b[91m\u001b[91m\u001b[91m\u001b[91m\u001b[91m\u001b[91m\u001b[91m\u001b[91m\u001b[91m\u001b[91m\u001b[91m\u001b[91m\u001b[91m\u001b[91m\u001b[91m\u001b[91m\u001b[91m\u001b[91m\u001b[91m\u001b[91m\u001b[91m\u001b[91m\u001b[91m\u001b[91m\u001b[91m\u001b[91m\u001b[91m\u001b[91m\u001b[91m\u001b[91m\u001b[91m\u001b[91m\u001b[91m\u001b[91m\u001b[91m\u001b[91m\u001b[91m\u001b[91m\u001b[91m\u001b[91m\u001b[91m\u001b[91m\u001b[91m\u001b[91m\u001b[91m\u001b[91m\u001b[91m\u001b[91m\u001b[91m\u001b[91m\u001b[91m\u001b[91m\u001b[91m\u001b[91m\u001b[91m\u001b[91m\u001b[91m\u001b[91m\u001b[91m\u001b[91m\u001b[91m\u001b[91m\u001b[91m\u001b[91m\u001b[91m\u001b[91m\u001b[91m\u001b[91m\u001b[91m\u001b[91m\u001b[91m\u001b[91m\u001b[91m\u001b[91m\u001b[91m\u001b[91m\u001b[91m\u001b[91m\u001b[91m\u001b[91m\u001b[91m\u001b[91m\u001b[91m\u001b[91m\u001b[91m\u001b[91m\u001b[91m\u001b[91m\u001b[91m\u001b[91m\u001b[91m\u001b[91m\u001b[91m\u001b[91m\u001b[91m\u001b[91m\u001b[91m\u001b[91m\u001b[91m\u001b[91m\u001b[91m\u001b[91m\u001b[91m\u001b[91m\u001b[91m\u001b[91m\u001b[91m\u001b[91m\u001b[91m\u001b[91m\u001b[91m\u001b[91m\u001b[91m\u001b[91m\u001b[91m\u001b[91m\u001b[91m\u001b[91m\u001b[91m\u001b[91m\u001b[91m\u001b[91m\u001b[91m\u001b[91m\u001b[91m\u001b[91m\u001b[91m\u001b[91m\u001b[91m\u001b[91m\u001b[91m\u001b[91m\u001b[91m\u001b[91m\u001b[91m\u001b[91m\u001b[91m\u001b[91m\u001b[91m\u001b[91m\u001b[91m\u001b[91m\u001b[91m\u001b[91m\u001b[91m\u001b[91m\u001b[91m\u001b[91m\u001b[91m\u001b[91m\u001b[91m\u001b[91m\u001b[91m\u001b[91m\u001b[91m\u001b[91m\u001b[91m\u001b[91m\u001b[91m\u001b[91m\u001b[91m\u001b[91m\u001b[91m\u001b[91m\u001b[91m\u001b[91m\u001b[91m\u001b[91m\u001b[91m\u001b[91m\u001b[91m\u001b[91m\u001b[91m\u001b[91m\u001b[91m\u001b[91m\u001b[91m\u001b[91m\u001b[91m\u001b[91m\u001b[91m\u001b[91m\u001b[91m\u001b[91m\u001b[91m\u001b[91m\u001b[91m\u001b[91m\u001b[91m\u001b[91m\u001b[91m\u001b[91m\u001b[91m\u001b[91m\u001b[91m\u001b[91m\u001b[91m\u001b[91m\u001b[91m\u001b[91m\u001b[91m\u001b[91m\u001b[91m\u001b[91m\u001b[91m\u001b[91m\u001b[91m\u001b[91m\u001b[91m\u001b[91m\u001b[91m\u001b[91m\u001b[91m\u001b[91m\u001b[91m\u001b[91m\u001b[91m\u001b[91m\u001b[91m\u001b[91m\u001b[91m\u001b[91m\u001b[91m\u001b[91m\u001b[91m\u001b[91m\u001b[91m\u001b[91m\u001b[91m\u001b[91m\u001b[91m\u001b[91m\u001b[91m\u001b[91m\u001b[91m\u001b[91m\u001b[91m\u001b[91m\u001b[91m\u001b[91m\u001b[91m\u001b[91m\u001b[91m\u001b[91m\u001b[91m\u001b[91m\u001b[91m\u001b[91m\u001b[91m\u001b[91m\u001b[91m\u001b[91m\u001b[91m\u001b[91m\u001b[91m\u001b[91m\u001b[91m\u001b[91m\u001b[91m\u001b[91m\u001b[91m\u001b[91m\u001b[91m\u001b[91m\u001b[91m\u001b[91m\u001b[91m\u001b[91m\u001b[91m\u001b[91m\u001b[91m\u001b[91m\u001b[91m\u001b[91m\u001b[91m\u001b[91m\u001b[91m\u001b[91m\u001b[91m\u001b[91m\u001b[91m\u001b[91m\u001b[91m\u001b[91m\u001b[91m\u001b[91m\u001b[91m\u001b[91m\u001b[91m\u001b[91m\u001b[91m\u001b[91m\u001b[91m\u001b[91m\u001b[91m\u001b[91m\u001b[91m\u001b[91m\u001b[91m\u001b[91m\u001b[91m\u001b[91m\u001b[91m\u001b[91m\u001b[91m\u001b[91m\u001b[91m\u001b[91m\u001b[91m\u001b[91m\u001b[91m\u001b[91m\u001b[91m\u001b[91m\u001b[91m\u001b[91m\u001b[91m\u001b[91m\u001b[91m\u001b[91m\u001b[91m\u001b[91m\u001b[91m\u001b[91m\u001b[91m\u001b[91m\u001b[91m\u001b[91m\u001b[91m\u001b[91m\u001b[91m\u001b[91m\u001b[91m\u001b[91m\u001b[91m\u001b[91m\u001b[91m\u001b[91m\u001b[91m\u001b[91m\u001b[91m\u001b[91m\u001b[91m\u001b[91m\u001b[91m\u001b[91m\u001b[91m\u001b[91m\u001b[91m\u001b[91m\u001b[91m\u001b[91m\u001b[91m\u001b[91m\u001b[91m\u001b[91m\u001b[91m\u001b[91m\u001b[91m\u001b[91m\u001b[91m\u001b[91m\u001b[91m\u001b[91m\u001b[91m\u001b[91m\u001b[91m\u001b[91m\u001b[91m\u001b[91m\u001b[91m\u001b[91m\u001b[91m\u001b[91m\u001b[91m\u001b[91m\u001b[91m\u001b[91m\u001b[91m\u001b[91m\u001b[91m\u001b[91m\u001b[91m\u001b[91m\u001b[91m\u001b[91m\u001b[91m\u001b[91m\u001b[91m\u001b[91m\u001b[91m\u001b[91m\u001b[91m\u001b[91m\u001b[91m\u001b[91m\u001b[91m\u001b[91m\u001b[91m\u001b[91m\u001b[91m\u001b[91m\u001b[91m\u001b[91m\u001b[91m\u001b[91m\u001b[91m\u001b[91m\u001b[91m\u001b[91m\u001b[91m\u001b[91m\u001b[91m\u001b[91m\u001b[91m\u001b[91m\u001b[91m\u001b[91m\u001b[91m\u001b[91m\u001b[91m\u001b[91m\u001b[91m\u001b[91m\u001b[91m\u001b[91m\u001b[91m\u001b[91m\u001b[91m\u001b[91m\u001b[91m\u001b[91m\u001b[91m\u001b[91m\u001b[91m\u001b[91m\u001b[91m\u001b[91m\u001b[91m\u001b[91m\u001b[91m\u001b[91m\u001b[91m\u001b[91m\u001b[91m\u001b[91m\u001b[91m\u001b[91m\u001b[91m\u001b[91m\u001b[91m\u001b[91m\u001b[91m\u001b[91m\u001b[91m\u001b[91m\u001b[91m\u001b[91m\u001b[91m\u001b[91m\u001b[91m\u001b[91m\u001b[91m\u001b[91m\u001b[91m\u001b[91m\u001b[91m\u001b[91m\u001b[91m\u001b[91m\u001b[91m\u001b[91m\u001b[91m\u001b[91m\u001b[91m\u001b[91m\u001b[91m\u001b[91m\u001b[91m\u001b[91m\u001b[91m\u001b[91m\u001b[91m\u001b[91m\u001b[91m\u001b[91m\u001b[91m\u001b[91m\u001b[91m\u001b[91m\u001b[91m\u001b[91m\u001b[91m\u001b[91m\u001b[91m\u001b[91m\u001b[91m\u001b[91m\u001b[91m\u001b[91m\u001b[91m\u001b[91m\u001b[91m\u001b[91m\u001b[91m\u001b[91m\u001b[91m\u001b[91m\u001b[91m\u001b[91m\u001b[91m\u001b[91m\u001b[91m\u001b[91m\u001b[91m\u001b[91m\u001b[91m\u001b[91m\u001b[91m\u001b[91m\u001b[91m\u001b[91m\u001b[91m\u001b[91m\u001b[91m\u001b[91m\u001b[91m\u001b[91m\u001b[91m\u001b[91m\u001b[91m\u001b[91m\u001b[91m\u001b[91m\u001b[91m\u001b[91m\u001b[91m\u001b[91m\u001b[91m\u001b[91m\u001b[91m\u001b[91m\u001b[91m\u001b[91m\u001b[91m\u001b[91m\u001b[91m\u001b[91m\u001b[91m\u001b[91m\u001b[91m\u001b[91m\u001b[91m\u001b[91m\u001b[91m\u001b[91m\u001b[91m\u001b[91m\u001b[91m\u001b[91m\u001b[91m\u001b[91m\u001b[91m\u001b[91m\u001b[91m\u001b[91m\u001b[91m\u001b[91m\u001b[91m\u001b[91m\u001b[91m\u001b[91m\u001b[91m\u001b[91m\u001b[91m\u001b[91m\u001b[91m\u001b[91m\u001b[91m\u001b[91m\u001b[91m\u001b[91m\u001b[91m\u001b[91m\u001b[91m\u001b[91m\u001b[91m\u001b[91m\u001b[91m\u001b[91m\u001b[91m\u001b[91m\u001b[91m\u001b[91m\u001b[91m\u001b[91m\u001b[91m\u001b[91m\u001b[91m\u001b[91m\u001b[91m\u001b[91m\u001b[91m\u001b[91m\u001b[91m\u001b[91m\u001b[91m\u001b[91m\u001b[91m\u001b[91m\u001b[91m\u001b[91m\u001b[91m\u001b[91m\u001b[91m\u001b[91m\u001b[91m\u001b[91m\u001b[91m\u001b[91m\u001b[91m\u001b[91m\u001b[91m\u001b[91m\u001b[91m\u001b[91m\u001b[91m\u001b[91m\u001b[91m\u001b[91m\u001b[91m\u001b[91m\u001b[91m\u001b[91m\u001b[91m\u001b[91m\u001b[91m\u001b[91m\u001b[91m\u001b[91m\u001b[91m\u001b[91m\u001b[91m\u001b[91m\u001b[91m\u001b[91m\u001b[91m\u001b[91m\u001b[91m\u001b[91m\u001b[91m\u001b[91m\u001b[91m\u001b[91m\u001b[91m\u001b[91m\u001b[91m\u001b[91m\u001b[91m\u001b[91m\u001b[91m\u001b[91m\u001b[91m\u001b[91m\u001b[91m\u001b[91m\u001b[91m\u001b[91m\u001b[91m\u001b[91m\u001b[91m\u001b[91m\u001b[91m\u001b[91m\u001b[91m\u001b[91m\u001b[91m\u001b[91m\u001b[91m\u001b[91m\u001b[91m\u001b[91m\u001b[91m\u001b[91m\u001b[91m\u001b[91m\u001b[91m\u001b[91m\u001b[91m\u001b[91m\u001b[91m\u001b[91m\u001b[91m\u001b[91m\u001b[91m\u001b[91m\u001b[91m\u001b[91m\u001b[91m\u001b[91m\u001b[91m\u001b[91m\u001b[91m\u001b[91m\u001b[91m\u001b[91m\u001b[91m\u001b[91m\u001b[91m\u001b[91m\u001b[91m\u001b[91m\u001b[91m\u001b[91m\u001b[91m\u001b[91m\u001b[91m\u001b[91m\u001b[91m\u001b[91m\u001b[91m\u001b[91m\u001b[91m\u001b[91m\u001b[91m\u001b[91m\u001b[91m\u001b[91m\u001b[91m\u001b[91m\u001b[91m\u001b[91m\u001b[91m\u001b[91m\u001b[91m\u001b[91m\u001b[91m\u001b[91m\u001b[91m\u001b[91m\u001b[91m\u001b[91m\u001b[91m\u001b[91m\u001b[91m\u001b[91m\u001b[91m\u001b[91m\u001b[91m\u001b[91m\u001b[91m\u001b[91m\u001b[91m\u001b[91m\u001b[91m\u001b[91m\u001b[91m\u001b[91m\u001b[91m\u001b[91m\u001b[91m\u001b[91m\u001b[91m\u001b[91m\u001b[91m\u001b[91m\u001b[91m\u001b[91m\u001b[91m\u001b[91m\u001b[91m\u001b[91m\u001b[91m\u001b[91m\u001b[91m\u001b[91m\u001b[91m\u001b[91m\u001b[91m\u001b[91m\u001b[91m\u001b[91m\u001b[91m\u001b[91m\u001b[91m\u001b[91m\u001b[91m\u001b[91m\u001b[91m\u001b[91m\u001b[91m\u001b[91m\u001b[91m\u001b[91m\u001b[91m\u001b[91m\u001b[91m\u001b[91m\u001b[91m\u001b[91m\u001b[91m\u001b[91m\u001b[91m\u001b[91m\u001b[91m\u001b[91m\u001b[91m\u001b[91m\u001b[91m\u001b[91m\u001b[91m\u001b[91m\u001b[91m\u001b[91m\u001b[91m\u001b[91m\u001b[91m\u001b[91m\u001b[91m\u001b[91m\u001b[91m\u001b[91m\u001b[91m\u001b[91m\u001b[91m\u001b[91m\u001b[91m\u001b[91m\u001b[91m\u001b[91m\u001b[91m\u001b[91m\u001b[91m\u001b[91m\u001b[91m\u001b[91m\u001b[91m\u001b[91m\u001b[91m\u001b[91m\u001b[91m\u001b[91m\u001b[91m\u001b[91m\u001b[91m\u001b[91m\u001b[91m\u001b[91m\u001b[91m\u001b[91m\u001b[91m\u001b[91m\u001b[91m\u001b[91m\u001b[91m\u001b[91m\u001b[91m\u001b[91m\u001b[91m\u001b[91m\u001b[91m\u001b[91m\u001b[91m\u001b[91m\u001b[91m\u001b[91m\u001b[91m\u001b[91m\u001b[91m\u001b[91m\u001b[91m\u001b[91m\u001b[91m\u001b[91m\u001b[91m\u001b[91m\u001b[91m\u001b[91m\u001b[91m\u001b[91m\u001b[91m\u001b[91m\u001b[91m\u001b[91m\u001b[91m\u001b[91m\u001b[91m\u001b[91m\u001b[91m\u001b[91m\u001b[91m\u001b[91m\u001b[91m\u001b[91m\u001b[91m\u001b[91m\u001b[91m\u001b[91m\u001b[91m\u001b[91m\u001b[91m\u001b[91m\u001b[91m\u001b[91m\u001b[91m\u001b[91m\u001b[91m\u001b[91m\u001b[91m\u001b[91m\u001b[91m\u001b[91m\u001b[91m\u001b[91m\u001b[91m\u001b[91m\u001b[91m\u001b[91m\u001b[91m\u001b[91m\u001b[91m\u001b[91m\u001b[91m\u001b[91m\u001b[91m\u001b[91m\u001b[91m\u001b[91m\u001b[91m\u001b[91m\u001b[91m\u001b[91m\u001b[91m\u001b[91m\u001b[91m\u001b[91m\u001b[91m\u001b[91m\u001b[91m\u001b[91m\u001b[91m\u001b[91m\u001b[91m\u001b[91m\u001b[91m\u001b[91m\u001b[91m\u001b[91m\u001b[91m\u001b[91m\u001b[91m\u001b[91m\u001b[91m\u001b[91m\u001b[91m\u001b[91m\u001b[91m\u001b[91m\u001b[91m\u001b[91m\u001b[91m\u001b[91m\u001b[91m\u001b[91m\u001b[91m\u001b[91m\u001b[91m\u001b[91m\u001b[91m\u001b[91m\u001b[91m\u001b[91m\u001b[91m\u001b[91m\u001b[91m\u001b[91m\u001b[91m\u001b[91m\u001b[91m\u001b[91m\u001b[91m\u001b[91m\u001b[91m\u001b[91m\u001b[91m\u001b[91m\u001b[91m\u001b[91m\u001b[91m\u001b[91m\u001b[91m\u001b[91m\u001b[91m\u001b[91m\u001b[91m\u001b[91m\u001b[91m\u001b[91m\u001b[91m\u001b[91m\u001b[91m\u001b[91m\u001b[91m\u001b[91m\u001b[91m\u001b[91m\u001b[91m\u001b[91m\u001b[91m\u001b[91m\u001b[91m\u001b[91m\u001b[91m\u001b[91m\u001b[91m\u001b[91m\u001b[91m\u001b[91m\u001b[91m\u001b[91m\u001b[91m\u001b[91m\u001b[91m\u001b[91m\u001b[91m\u001b[91m\u001b[91m\u001b[91m\u001b[91m\u001b[91m\u001b[91m\u001b[91m\u001b[91m\u001b[91m\u001b[91m\u001b[91m\u001b[91m\u001b[91m\u001b[91m\u001b[91m\u001b[91m\u001b[91m\u001b[91m\u001b[91m\u001b[91m\u001b[91m\u001b[91m\u001b[91m\u001b[91m\u001b[91m\u001b[91m\u001b[91m\u001b[91m\u001b[91m\u001b[91m\u001b[91m\u001b[91m\u001b[91m\u001b[91m\u001b[91m\u001b[91m\u001b[91m\u001b[91m\u001b[91m\u001b[91m\u001b[91m\u001b[91m\u001b[91m\u001b[91m\u001b[91m\u001b[91m\u001b[91m\u001b[91m\u001b[91m\u001b[91m\u001b[91m\u001b[91m\u001b[91m\u001b[91m\u001b[91m\u001b[91m\u001b[91m\u001b[91m\u001b[91m\u001b[91m\u001b[91m\u001b[91m\u001b[91m\u001b[91m\u001b[91m\u001b[91m\u001b[91m\u001b[91m\u001b[91m\u001b[91m\u001b[91m\u001b[91m\u001b[91m\u001b[91m\u001b[91m\u001b[91m\u001b[91m\u001b[91m\u001b[91m\u001b[91m\u001b[91m\u001b[91m\u001b[91m\u001b[91m\u001b[91m\u001b[91m\u001b[91m\u001b[91m\u001b[91m\u001b[91m\u001b[91m\u001b[91m\u001b[91m\u001b[91m\u001b[91m\u001b[91m\u001b[91m\u001b[91m\u001b[91m\u001b[91m\u001b[91m\u001b[91m\u001b[91m\u001b[91m\u001b[91m\u001b[91m\u001b[91m\u001b[91m\u001b[91m\u001b[91m\u001b[91m\u001b[91m\u001b[91m\u001b[91m\u001b[91m\u001b[91m\u001b[91m\u001b[91m\u001b[91m\u001b[91m\u001b[91m\u001b[91m\u001b[91m\u001b[91m\u001b[91m\u001b[91m\u001b[91m\u001b[91m\u001b[91m\u001b[91m\u001b[91m\u001b[91m\u001b[91m\u001b[91m\u001b[91m\u001b[91m\u001b[91m\u001b[91m\u001b[91m\u001b[91m\u001b[91m\u001b[91m\u001b[91m\u001b[91m\u001b[91m\u001b[91m\u001b[91m\u001b[91m\u001b[91m\u001b[91m\u001b[91m\u001b[91m\u001b[91m\u001b[91m\u001b[91m\u001b[91m\u001b[91m\u001b[91m\u001b[91m\u001b[91m\u001b[91m\u001b[91m\u001b[91m\u001b[91m\u001b[91m\u001b[91m\u001b[91m\u001b[91m\u001b[91m\u001b[91m\u001b[91m\u001b[91m\u001b[91m\u001b[91m\u001b[91m"
     ]
    },
    {
     "name": "stdout",
     "output_type": "stream",
     "text": [
      "mkl-2019.3           | 203.3 MB  | ########## | 100% \u001b[0m\u001b[91m\u001b[91m\u001b[91m\u001b[91m\u001b[91m\u001b[91m\u001b[91m\u001b[91m\u001b[91m\u001b[91m\u001b[91m\u001b[91m\u001b[91m\u001b[91m\u001b[91m\u001b[91m\u001b[91m\u001b[91m\u001b[91m\u001b[91m\u001b[91m\u001b[91m\u001b[91m\u001b[91m\u001b[91m\u001b[91m\u001b[91m\u001b[91m\u001b[91m\u001b[91m\u001b[91m\u001b[91m\u001b[91m\u001b[91m\u001b[91m\u001b[91m\u001b[91m\u001b[91m\u001b[91m\u001b[91m\u001b[91m\u001b[91m\u001b[91m\u001b[91m\u001b[91m\u001b[91m\u001b[91m\u001b[91m\u001b[91m\u001b[91m\u001b[91m\u001b[91m\u001b[91m\u001b[91m\u001b[91m\u001b[91m\u001b[91m\u001b[91m\u001b[91m\u001b[91m\u001b[91m\u001b[91m\u001b[91m\u001b[91m\u001b[91m\u001b[91m\u001b[91m\u001b[91m\u001b[91m\u001b[91m\u001b[91m\u001b[91m\u001b[91m\u001b[91m\u001b[91m\u001b[91m\u001b[91m\u001b[91m\u001b[91m\u001b[91m\u001b[91m\u001b[91m\u001b[91m\u001b[91m\u001b[91m\u001b[91m\u001b[91m\u001b[91m\u001b[91m\u001b[91m\u001b[91m\u001b[91m\u001b[91m\u001b[91m\u001b[91m\u001b[91m\u001b[91m\u001b[91m\u001b[91m\u001b[91m\u001b[91m\u001b[91m\u001b[91m\u001b[91m\u001b[91m\u001b[91m\u001b[91m\u001b[91m\u001b[91m\u001b[91m\u001b[91m\u001b[91m\u001b[91m\u001b[91m\u001b[91m\u001b[91m\u001b[91m\u001b[91m\u001b[91m\u001b[91m\u001b[91m\u001b[91m\u001b[91m\u001b[91m\u001b[91m\u001b[91m\u001b[91m\u001b[91m\u001b[91m\u001b[91m\u001b[91m\u001b[91m\u001b[91m\u001b[91m\u001b[91m\u001b[91m\u001b[91m\u001b[91m\u001b[91m\u001b[91m\u001b[91m\u001b[91m\u001b[91m\u001b[91m\u001b[91m\u001b[91m\u001b[91m\u001b[91m\u001b[91m\u001b[91m\u001b[91m\u001b[91m\u001b[91m\u001b[91m\u001b[91m\u001b[91m\u001b[91m\u001b[91m\u001b[91m\u001b[91m\u001b[91m\u001b[91m\u001b[91m\u001b[91m\u001b[91m\u001b[91m\u001b[91m\u001b[91m\u001b[91m\u001b[91m\u001b[91m\u001b[91m\u001b[91m\u001b[91m\u001b[91m\u001b[91m\u001b[91m\u001b[91m\u001b[91m\u001b[91m\u001b[91m\u001b[91m\u001b[91m\u001b[91m\u001b[91m\u001b[91m\u001b[91m\u001b[91m\u001b[91m\u001b[91m\u001b[91m\u001b[91m\u001b[91m\u001b[91m\u001b[91m\u001b[91m\u001b[91m\u001b[91m\u001b[91m\u001b[91m\u001b[91m\u001b[91m\u001b[91m\u001b[91m\u001b[91m\u001b[91m\u001b[91m\u001b[91m\u001b[91m\u001b[91m\u001b[91m\u001b[91m\u001b[91m\u001b[91m\u001b[91m\u001b[91m\u001b[91m\u001b[91m\u001b[91m\u001b[91m\u001b[91m\u001b[91m\u001b[91m\u001b[91m\u001b[91m\u001b[91m\u001b[91m\u001b[91m\u001b[91m\u001b[91m\u001b[91m\u001b[91m\u001b[91m\u001b[91m\u001b[91m\u001b[91m\u001b[91m\u001b[91m\u001b[91m\u001b[91m\u001b[91m\u001b[91m\u001b[91m\u001b[91m\u001b[91m\u001b[91m\u001b[91m\u001b[91m\u001b[91m\u001b[91m\u001b[91m\u001b[91m\u001b[91m\u001b[91m\u001b[91m\u001b[91m\u001b[91m\u001b[91m\u001b[91m\u001b[91m\u001b[91m\u001b[91m\u001b[91m\u001b[91m\u001b[91m\u001b[91m\u001b[91m\u001b[91m\u001b[91m\n",
      "python-3.7.2         | 36.4 MB   | ########## | 100% \u001b[0m\u001b[91m\u001b[91m\u001b[91m\u001b[91m\u001b[91m\u001b[91m\u001b[91m\u001b[91m\u001b[91m\u001b[91m\u001b[91m\u001b[91m\u001b[91m\u001b[91m\u001b[91m\u001b[91m\u001b[91m\u001b[91m\u001b[91m\u001b[91m\u001b[91m\u001b[91m\u001b[91m\u001b[91m\u001b[91m\u001b[91m\u001b[91m\u001b[91m\u001b[91m\u001b[91m\u001b[91m\u001b[91m\u001b[91m\u001b[91m\u001b[91m\u001b[91m\u001b[91m\u001b[91m\u001b[91m\u001b[91m\u001b[91m\u001b[91m\u001b[91m\u001b[91m\u001b[91m\u001b[91m\u001b[91m\u001b[91m\u001b[91m\u001b[91m\u001b[91m\u001b[91m\u001b[91m\u001b[91m\u001b[91m\u001b[91m\u001b[91m\u001b[91m\u001b[91m\u001b[91m\u001b[91m\u001b[91m\u001b[91m\u001b[91m\u001b[91m\u001b[91m\u001b[91m\u001b[91m\u001b[91m\u001b[91m\u001b[91m\u001b[91m\u001b[91m\u001b[91m\u001b[91m\u001b[91m\u001b[91m\u001b[91m\u001b[91m\u001b[91m\u001b[91m\u001b[91m\u001b[91m\u001b[91m\u001b[91m\u001b[91m\u001b[91m\u001b[91m\u001b[91m\u001b[91m\u001b[91m\u001b[91m\u001b[91m\u001b[91m\u001b[91m\u001b[91m\u001b[91m\u001b[91m\u001b[91m\u001b[91m\u001b[91m\u001b[91m\u001b[91m\u001b[91m\u001b[91m\u001b[91m\u001b[91m\u001b[91m\u001b[91m\u001b[91m\u001b[91m\u001b[91m\u001b[91m\u001b[91m\u001b[91m\u001b[91m\u001b[91m\u001b[91m\u001b[91m\u001b[91m\u001b[91m\u001b[91m\u001b[91m\u001b[91m\u001b[91m\u001b[91m\u001b[91m\u001b[91m\u001b[91m\u001b[91m\u001b[91m\u001b[91m\u001b[91m\u001b[91m\u001b[91m\u001b[91m\u001b[91m\u001b[91m\u001b[91m\u001b[91m\u001b[91m\u001b[91m\u001b[91m\u001b[91m\u001b[91m\u001b[91m\u001b[91m\u001b[91m\u001b[91m\u001b[91m\u001b[91m\u001b[91m\u001b[91m\u001b[91m\u001b[91m\u001b[91m\u001b[91m\u001b[91m\u001b[91m\u001b[91m\u001b[91m\u001b[91m\u001b[91m\u001b[91m\u001b[91m\u001b[91m\u001b[91m\u001b[91m\u001b[91m\u001b[91m\u001b[91m\u001b[91m\u001b[91m\u001b[91m\u001b[91m\u001b[91m\u001b[91m\u001b[91m\u001b[91m\u001b[91m\u001b[91m\u001b[91m\u001b[91m\u001b[91m\u001b[91m\u001b[91m\u001b[91m\u001b[91m\u001b[91m\u001b[91m\u001b[91m\u001b[91m\u001b[91m\u001b[91m\u001b[91m\u001b[91m\u001b[91m\u001b[91m\u001b[91m\u001b[91m\u001b[91m\u001b[91m\u001b[91m\u001b[91m\u001b[91m\u001b[91m\u001b[91m\u001b[91m\u001b[91m\u001b[91m\u001b[91m\u001b[91m\u001b[91m\u001b[91m\u001b[91m\u001b[91m\u001b[91m\u001b[91m\u001b[91m\u001b[91m\u001b[91m\u001b[91m\u001b[91m\u001b[91m\u001b[91m\u001b[91m\u001b[91m\u001b[91m\u001b[91m\u001b[91m\u001b[91m\u001b[91m\u001b[91m\u001b[91m\u001b[91m\u001b[91m\u001b[91m\u001b[91m\u001b[91m\u001b[91m\u001b[91m\u001b[91m\u001b[91m\u001b[91m\u001b[91m\u001b[91m\u001b[91m\u001b[91m\u001b[91m\u001b[91m\u001b[91m\u001b[91m\u001b[91m\u001b[91m\u001b[91m\u001b[91m\u001b[91m\u001b[91m\u001b[91m\u001b[91m\u001b[91m\u001b[91m\u001b[91m\u001b[91m\u001b[91m\u001b[91m\u001b[91m\u001b[91m\u001b[91m\u001b[91m\u001b[91m\u001b[91m\u001b[91m\u001b[91m\u001b[91m\u001b[91m\u001b[91m\u001b[91m\u001b[91m\u001b[91m\u001b[91m\u001b[91m\u001b[91m\u001b[91m\u001b[91m\u001b[91m\u001b[91m\u001b[91m\u001b[91m\u001b[91m\u001b[91m\u001b[91m\u001b[91m\u001b[91m\u001b[91m\u001b[91m\u001b[91m\u001b[91m\u001b[91m\u001b[91m\u001b[91m\u001b[91m\u001b[91m\u001b[91m\u001b[91m\u001b[91m\u001b[91m\u001b[91m\u001b[91m\u001b[91m\u001b[91m\u001b[91m\u001b[91m\u001b[91m\u001b[91m\u001b[91m\u001b[91m\n",
      "ca-certificates-2019 | 126 KB    | ########## | 100% \u001b[0m\u001b[91m\u001b[91m\u001b[91m\n",
      "python-dateutil-2.8. | 281 KB    | ########## | 100% \u001b[0m\u001b[91m\u001b[91m\n",
      "numpy-base-1.16.2    | 4.3 MB    | ########## | 100% \u001b[0m\u001b[91m\u001b[91m\u001b[91m\u001b[91m\u001b[91m\u001b[91m\u001b[91m\u001b[91m\u001b[91m\u001b[91m\u001b[91m\u001b[91m\u001b[91m\u001b[91m\u001b[91m\u001b[91m\u001b[91m\u001b[91m\u001b[91m\u001b[91m\u001b[91m\u001b[91m\u001b[91m\u001b[91m\u001b[91m\u001b[91m\u001b[91m\u001b[91m\u001b[91m\u001b[91m\u001b[91m\u001b[91m\u001b[91m\u001b[91m\u001b[91m\u001b[91m\u001b[91m\u001b[91m\n",
      "numpy-1.16.2         | 49 KB     | ########## | 100% \u001b[0m\u001b[91m\n",
      "mkl_random-1.0.2     | 405 KB    | ########## | 100% \u001b[0m\u001b[91m\u001b[91m\u001b[91m\n",
      "mkl_fft-1.0.10       | 169 KB    | ########## | 100% \u001b[0m\u001b[91m\n",
      "wheel-0.33.1         | 39 KB     | ########## | 100% \u001b[0m\u001b[91m\n",
      "certifi-2019.3.9     | 155 KB    | ########## | 100% \u001b[0m\u001b[91m\n",
      "pip-19.0.3           | 1.8 MB    | ########## | 100% \u001b[0m\u001b[91m\u001b[91m\u001b[91m\u001b[91m\u001b[91m\u001b[91m\u001b[91m\u001b[91m\u001b[91m\u001b[91m\u001b[91m\u001b[91m\u001b[91m\u001b[91m\n",
      "libgfortran-ng-7.3.0 | 1.3 MB    | ########## | 100% \u001b[0m\u001b[91m\u001b[91m\u001b[91m\u001b[91m\u001b[91m\u001b[91m\u001b[91m\u001b[91m\n",
      "blas-1.0             | 6 KB      | ########## | 100% \u001b[0m\u001b[91m\n",
      "sqlite-3.27.2        | 1.9 MB    | ########## | 100% \u001b[0m\u001b[91m\u001b[91m\u001b[91m\u001b[91m\u001b[91m\u001b[91m\u001b[91m\u001b[91m\u001b[91m\u001b[91m\u001b[91m\u001b[91m\u001b[91m\u001b[91m\u001b[91m\n",
      "Downloading and Extracting Packages\n",
      "Preparing transaction: ...working... done\n",
      "Verifying transaction: ...working... done\n",
      "Executing transaction: ...working... done\n",
      "Collecting bentoml==0.0.5 (from -r /model/condaenv.y1svo2gw.requirements.txt (line 1))\n",
      "  Downloading https://files.pythonhosted.org/packages/1f/c5/942fea059fb43cb61f0876ee522a6ea3285d62ce914cd7e8355d254b78b1/BentoML-0.0.5-py3-none-any.whl\n",
      "Requirement already satisfied: pandas in /opt/conda/envs/bentoml-custom-conda-env/lib/python3.7/site-packages (from bentoml==0.0.5->-r /model/condaenv.y1svo2gw.requirements.txt (line 1)) (0.24.2)\n",
      "Requirement already satisfied: six in /opt/conda/envs/bentoml-custom-conda-env/lib/python3.7/site-packages (from bentoml==0.0.5->-r /model/condaenv.y1svo2gw.requirements.txt (line 1)) (1.12.0)\n",
      "Collecting click (from bentoml==0.0.5->-r /model/condaenv.y1svo2gw.requirements.txt (line 1))\n",
      "  Downloading https://files.pythonhosted.org/packages/fa/37/45185cb5abbc30d7257104c434fe0b07e5a195a6847506c074527aa599ec/Click-7.0-py2.py3-none-any.whl (81kB)\n",
      "Collecting flask (from bentoml==0.0.5->-r /model/condaenv.y1svo2gw.requirements.txt (line 1))\n",
      "  Downloading https://files.pythonhosted.org/packages/7f/e7/08578774ed4536d3242b14dacb4696386634607af824ea997202cd0edb4b/Flask-1.0.2-py2.py3-none-any.whl (91kB)\n",
      "Collecting python-json-logger (from bentoml==0.0.5->-r /model/condaenv.y1svo2gw.requirements.txt (line 1))\n",
      "  Downloading https://files.pythonhosted.org/packages/80/9d/1c3393a6067716e04e6fcef95104c8426d262b4adaf18d7aa2470eab028d/python-json-logger-0.1.11.tar.gz\n",
      "Collecting prometheus-client (from bentoml==0.0.5->-r /model/condaenv.y1svo2gw.requirements.txt (line 1))\n",
      "  Downloading https://files.pythonhosted.org/packages/4c/bd/b42db3ec90ffc6be805aad09c1cea4bb13a620d0cd4b21aaa44d13541d71/prometheus_client-0.6.0.tar.gz\n",
      "Collecting gunicorn (from bentoml==0.0.5->-r /model/condaenv.y1svo2gw.requirements.txt (line 1))\n",
      "  Downloading https://files.pythonhosted.org/packages/8c/da/b8dd8deb741bff556db53902d4706774c8e1e67265f69528c14c003644e6/gunicorn-19.9.0-py2.py3-none-any.whl (112kB)\n",
      "Collecting pathlib2 (from bentoml==0.0.5->-r /model/condaenv.y1svo2gw.requirements.txt (line 1))\n",
      "  Downloading https://files.pythonhosted.org/packages/2a/46/c696dcf1c7aad917b39b875acdc5451975e3a9b4890dca8329983201c97a/pathlib2-2.3.3-py2.py3-none-any.whl\n",
      "Collecting dill (from bentoml==0.0.5->-r /model/condaenv.y1svo2gw.requirements.txt (line 1))\n",
      "  Downloading https://files.pythonhosted.org/packages/fe/42/bfe2e0857bc284cbe6a011d93f2a9ad58a22cb894461b199ae72cfef0f29/dill-0.2.9.tar.gz (150kB)\n",
      "Requirement already satisfied: numpy in /opt/conda/envs/bentoml-custom-conda-env/lib/python3.7/site-packages (from bentoml==0.0.5->-r /model/condaenv.y1svo2gw.requirements.txt (line 1)) (1.16.2)\n",
      "Collecting ruamel.yaml>=0.15.0 (from bentoml==0.0.5->-r /model/condaenv.y1svo2gw.requirements.txt (line 1))\n",
      "  Downloading https://files.pythonhosted.org/packages/f3/0d/3370e884749fb8b704457c45ad14c2b6453ca71f99210828e81721f122c4/ruamel.yaml-0.15.89-cp37-cp37m-manylinux1_x86_64.whl (647kB)\n",
      "Requirement already satisfied: python-dateutil>=2.5.0 in /opt/conda/envs/bentoml-custom-conda-env/lib/python3.7/site-packages (from pandas->bentoml==0.0.5->-r /model/condaenv.y1svo2gw.requirements.txt (line 1)) (2.8.0)\n",
      "Requirement already satisfied: pytz>=2011k in /opt/conda/envs/bentoml-custom-conda-env/lib/python3.7/site-packages (from pandas->bentoml==0.0.5->-r /model/condaenv.y1svo2gw.requirements.txt (line 1)) (2018.9)\n",
      "Collecting itsdangerous>=0.24 (from flask->bentoml==0.0.5->-r /model/condaenv.y1svo2gw.requirements.txt (line 1))\n",
      "  Downloading https://files.pythonhosted.org/packages/76/ae/44b03b253d6fade317f32c24d100b3b35c2239807046a4c953c7b89fa49e/itsdangerous-1.1.0-py2.py3-none-any.whl\n",
      "Collecting Jinja2>=2.10 (from flask->bentoml==0.0.5->-r /model/condaenv.y1svo2gw.requirements.txt (line 1))\n",
      "  Downloading https://files.pythonhosted.org/packages/7f/ff/ae64bacdfc95f27a016a7bed8e8686763ba4d277a78ca76f32659220a731/Jinja2-2.10-py2.py3-none-any.whl (126kB)\n"
     ]
    },
    {
     "name": "stdout",
     "output_type": "stream",
     "text": [
      "Collecting Werkzeug>=0.14 (from flask->bentoml==0.0.5->-r /model/condaenv.y1svo2gw.requirements.txt (line 1))\n",
      "  Downloading https://files.pythonhosted.org/packages/18/79/84f02539cc181cdbf5ff5a41b9f52cae870b6f632767e43ba6ac70132e92/Werkzeug-0.15.2-py2.py3-none-any.whl (328kB)\n",
      "Collecting MarkupSafe>=0.23 (from Jinja2>=2.10->flask->bentoml==0.0.5->-r /model/condaenv.y1svo2gw.requirements.txt (line 1))\n",
      "  Downloading https://files.pythonhosted.org/packages/98/7b/ff284bd8c80654e471b769062a9b43cc5d03e7a615048d96f4619df8d420/MarkupSafe-1.1.1-cp37-cp37m-manylinux1_x86_64.whl\n",
      "Building wheels for collected packages: python-json-logger, prometheus-client, dill\n",
      "  Building wheel for python-json-logger (setup.py): started\n",
      "  Building wheel for python-json-logger (setup.py): finished with status 'done'\n",
      "  Stored in directory: /root/.cache/pip/wheels/97/f7/a1/752e22bb30c1cfe38194ea0070a5c66e76ef4d06ad0c7dc401\n",
      "  Building wheel for prometheus-client (setup.py): started\n",
      "  Building wheel for prometheus-client (setup.py): finished with status 'done'\n",
      "  Stored in directory: /root/.cache/pip/wheels/4b/04/b8/3709c73e7453f311ebd46ad581b89642543213f995e2659b9e\n",
      "  Building wheel for dill (setup.py): started\n",
      "  Building wheel for dill (setup.py): finished with status 'done'\n",
      "  Stored in directory: /root/.cache/pip/wheels/5b/d7/0f/e58eae695403de585269f4e4a94e0cd6ca60ec0c202936fa4a\n",
      "Successfully built python-json-logger prometheus-client dill\n",
      "Installing collected packages: click, itsdangerous, MarkupSafe, Jinja2, Werkzeug, flask, python-json-logger, prometheus-client, gunicorn, pathlib2, dill, ruamel.yaml, bentoml\n",
      "Successfully installed Jinja2-2.10 MarkupSafe-1.1.1 Werkzeug-0.15.2 bentoml-0.0.5 click-7.0 dill-0.2.9 flask-1.0.2 gunicorn-19.9.0 itsdangerous-1.1.0 pathlib2-2.3.3 prometheus-client-0.6.0 python-json-logger-0.1.11 ruamel.yaml-0.15.89\n",
      "#\n",
      "# To activate this environment, use:\n",
      "# > source activate bentoml-custom-conda-env\n",
      "#\n",
      "# To deactivate an active environment, use:\n",
      "# > source deactivate\n",
      "#\n",
      "\n",
      "\u001b[91m\n",
      "\u001b[0mRemoving intermediate container a67661c66a61\n",
      " ---> 04c0b3545797\n",
      "Step 4/7 : RUN echo \"source activate $(head-1/model/environment.yml | cut -d ' ' -f2)\" > ~/.bashrc\n",
      " ---> Running in 6feacd2afbd8\n",
      "\u001b[91m/bin/sh: 1: head-1/model/environment.yml: not found\n",
      "\u001b[0mRemoving intermediate container 6feacd2afbd8\n",
      " ---> 1c373b2595c2\n",
      "Step 5/7 : ENV PATH /opt/conda/envs/$(head -1 /model/environment.yml | cut -d ' ' -f2)/bin:$PATH\n",
      " ---> Running in b5a560aedef8\n",
      "Removing intermediate container b5a560aedef8\n",
      " ---> 26ae4516f4b1\n",
      "Step 6/7 : RUN conda install pip && pip install -r /model/requirements.txt\n",
      " ---> Running in b04f6f7de335\n",
      "Solving environment: ...working... done\n",
      "\n",
      "## Package Plan ##\n",
      "\n",
      "  environment location: /opt/conda\n",
      "\n",
      "  added / updated specs: \n",
      "    - pip\n",
      "\n",
      "\n",
      "The following packages will be downloaded:\n",
      "\n",
      "    package                    |            build\n",
      "    ---------------------------|-----------------\n",
      "    conda-4.6.9                |           py37_0         1.7 MB\n",
      "\n",
      "The following packages will be UPDATED:\n",
      "\n",
      "    ca-certificates: 2018.03.07-0      --> 2019.1.23-0      \n",
      "    certifi:         2018.11.29-py37_0 --> 2019.3.9-py37_0  \n",
      "    conda:           4.5.12-py37_0     --> 4.6.9-py37_0     \n",
      "    openssl:         1.1.1a-h7b6447c_0 --> 1.1.1b-h7b6447c_1\n",
      "    pip:             18.1-py37_0       --> 19.0.3-py37_0    \n",
      "\n",
      "Proceed ([y]/n)? \n",
      "conda-4.6.9          | 1.7 MB    | ########## | 100% \u001b[0m\u001b[91m\u001b[91m\u001b[91m\u001b[91m\u001b[91m\u001b[91m\u001b[91m\u001b[91m\u001b[91m\u001b[91m\u001b[91m\n",
      "Downloading and Extracting Packages\n",
      "Preparing transaction: ...working... done\n",
      "Verifying transaction: ...working... done\n",
      "Executing transaction: ...working... done\n",
      "\u001b[91m\n",
      "\u001b[0mRemoving intermediate container b04f6f7de335\n",
      " ---> 02b33023fae4\n",
      "Step 7/7 : CMD [\"/bin/bash\", \"-c\", \"bentoml serve --model-path=/model\"]\n",
      " ---> Running in ce964a71b448\n",
      "Removing intermediate container ce964a71b448\n",
      " ---> 072244fed337\n",
      "Successfully built 072244fed337\n",
      "Successfully tagged atalaya/sentiment-lr-model:latest\n"
     ]
    }
   ],
   "source": [
    "!cd \"./model\" && docker build -t atalaya/sentiment-lr-model ."
   ]
  },
  {
   "cell_type": "code",
   "execution_count": null,
   "metadata": {},
   "outputs": [],
   "source": [
    "!bentoml serve --model-path=./model"
   ]
  }
 ],
 "metadata": {
  "kernelspec": {
   "display_name": "Python 3",
   "language": "python",
   "name": "python3"
  },
  "language_info": {
   "codemirror_mode": {
    "name": "ipython",
    "version": 3
   },
   "file_extension": ".py",
   "mimetype": "text/x-python",
   "name": "python",
   "nbconvert_exporter": "python",
   "pygments_lexer": "ipython3",
   "version": "3.7.2"
  }
 },
 "nbformat": 4,
 "nbformat_minor": 2
}
