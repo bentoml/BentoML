{
 "cells": [
  {
   "cell_type": "markdown",
   "metadata": {},
   "source": [
    "# Getting Started with BentoML\n",
    "\n",
    "[BentoML](http://bentoml.ai) is an open source framework for serving and deploying machine learning models. It provides high-level APIs for defining a prediction service and packaging trained models, source code, dependencies, and configurations into a production-system-friendly format that is ready for production deployment.\n",
    "\n",
    "This is a quick tutorial on how to use BentoML to create a prediction service with a trained sklearn model, serving the model via a REST API server and deploy it to [AWS Lambda](https://aws.amazon.com/lambda/) as a serverless endpoint.\n",
    "\n",
    "![Impression](https://www.google-analytics.com/collect?v=1&tid=UA-112879361-3&cid=555&t=event&ec=guides&ea=bentoml-quick-start-guide&dt=bentoml-quick-start-guide)"
   ]
  },
  {
   "cell_type": "code",
   "execution_count": 1,
   "metadata": {},
   "outputs": [],
   "source": [
    "%reload_ext autoreload\n",
    "%autoreload 2\n",
    "%matplotlib inline"
   ]
  },
  {
   "cell_type": "code",
   "execution_count": null,
   "metadata": {},
   "outputs": [],
   "source": [
    "# Install BentoML\n",
    "!pip install bentoml\n",
    "\n",
    "# Install scikit-learn, we will use a sklean model as an example\n",
    "!pip install pandas sklearn"
   ]
  },
  {
   "cell_type": "markdown",
   "metadata": {},
   "source": [
    "Let's get started with a simple scikit-learn model as an example:"
   ]
  },
  {
   "cell_type": "code",
   "execution_count": 3,
   "metadata": {},
   "outputs": [
    {
     "data": {
      "text/plain": [
       "SVC(C=1.0, cache_size=200, class_weight=None, coef0=0.0,\n",
       "    decision_function_shape='ovr', degree=3, gamma='scale', kernel='rbf',\n",
       "    max_iter=-1, probability=False, random_state=None, shrinking=True,\n",
       "    tol=0.001, verbose=False)"
      ]
     },
     "execution_count": 3,
     "metadata": {},
     "output_type": "execute_result"
    }
   ],
   "source": [
    "from sklearn import svm\n",
    "from sklearn import datasets\n",
    "\n",
    "clf = svm.SVC(gamma='scale')\n",
    "iris = datasets.load_iris()\n",
    "X, y = iris.data, iris.target\n",
    "clf.fit(X, y)"
   ]
  },
  {
   "cell_type": "markdown",
   "metadata": {},
   "source": [
    "## Create BentoService for model serving\n",
    "\n",
    "To package this trained model for model serving in production, you will need to create a custom BentoService class:"
   ]
  },
  {
   "cell_type": "code",
   "execution_count": 4,
   "metadata": {},
   "outputs": [
    {
     "name": "stdout",
     "output_type": "stream",
     "text": [
      "Overwriting iris_classifier.py\n"
     ]
    }
   ],
   "source": [
    "%%writefile iris_classifier.py\n",
    "from bentoml import BentoService, api, env, artifacts\n",
    "from bentoml.artifact import SklearnModelArtifact\n",
    "from bentoml.handlers import DataframeHandler\n",
    "\n",
    "@artifacts([SklearnModelArtifact('model')])\n",
    "@env(pip_dependencies=[\"scikit-learn\"])\n",
    "class IrisClassifier(BentoService):\n",
    "\n",
    "    @api(DataframeHandler)\n",
    "    def predict(self, df):\n",
    "        return self.artifacts.model.predict(df)"
   ]
  },
  {
   "cell_type": "markdown",
   "metadata": {},
   "source": [
    "The `@artifacts` decorator here tells BentoML what artifacts are required when \n",
    "packaging this BentoService. Besides `SklearnModelArtifact`, BentoML also provides\n",
    "`KerasModelArtifact`, `PytorchModelArtifact`, `FastaiModelArtifact` and \n",
    "`PickleArtifact` etc.\n",
    "\n",
    "`@env` is designed for specifying the desired system environment in order for this\n",
    "BentoService to load. If you already have a requirement.txt file listing all python \n",
    "libraries you need:\n",
    "```python\n",
    "@env(requirement_txt='../myproject/requirement.txt')\n",
    "```\n",
    "\n",
    "Lastly `@api` adds an entry point for accessing this BentoService. Each\n",
    "`api` will be translated into a REST endpoint when [deploying as API\n",
    "server](#serving-via-rest-api), or a CLI command when [running as a CLI\n",
    "tool](#use-as-cli-tool).\n",
    "\n",
    "Each API also requires a `Handler` for defining the expected input format. In\n",
    "this case, `DataframeHandler` will transform either an HTTP request or CLI\n",
    "command arguments into a pandas Dataframe and pass it down to the user defined\n",
    "API function. BentoML also supports `JsonHandler`, `ImageHandler` and\n",
    "`TensorHandler`.\n",
    "\n",
    "\n",
    "## Save BentoService to file archive"
   ]
  },
  {
   "cell_type": "code",
   "execution_count": 5,
   "metadata": {},
   "outputs": [
    {
     "name": "stdout",
     "output_type": "stream",
     "text": [
      "[2019-11-26 12:53:16,256] INFO - BentoService bundle 'IrisClassifier:20191126125258_4AB1D4' created at: /private/var/folders/ns/vc9qhmqx5dx_9fws7d869lqh0000gn/T/bentoml-temp-itiurepz\n",
      "[2019-11-26 12:53:16,435] INFO - BentoService bundle 'IrisClassifier:20191126125258_4AB1D4' created at: /Users/chaoyuyang/bentoml/repository/IrisClassifier/20191126125258_4AB1D4\n"
     ]
    }
   ],
   "source": [
    "# 1) import the custom BentoService defined above\n",
    "from iris_classifier import IrisClassifier\n",
    "\n",
    "# 2) `pack` it with required artifacts\n",
    "svc = IrisClassifier.pack(model=clf)\n",
    "\n",
    "# 3) save BentoSerivce to a BentoML bundle\n",
    "saved_path = svc.save()"
   ]
  },
  {
   "cell_type": "markdown",
   "metadata": {},
   "source": [
    "_That's it._ You've just created your first BentoML Bundle. It's a versioned file archive, containing the BentoService you defined, including the trained model, dependencies and configurations etc, everything it needs to deploy the exact same service in production."
   ]
  },
  {
   "cell_type": "markdown",
   "metadata": {},
   "source": [
    "## Model Serving via REST API\n",
    "\n",
    "Use the `bentoml serve` command to start a REST API server from a saved BentoML bundle. This allows application developers to easily intergrate with the ML model you are developing.\n",
    "\n",
    "Note that REST API serving **does not work in Google Colab**, due to unable to access Colab's VM. You may download the notebook and run it locally to play with the BentoML API server."
   ]
  },
  {
   "cell_type": "code",
   "execution_count": 6,
   "metadata": {
    "scrolled": false
   },
   "outputs": [
    {
     "name": "stdout",
     "output_type": "stream",
     "text": [
      " * Serving Flask app \"IrisClassifier\" (lazy loading)\n",
      " * Environment: production\n",
      "\u001b[31m   WARNING: Do not use the development server in a production environment.\u001b[0m\n",
      "\u001b[2m   Use a production WSGI server instead.\u001b[0m\n",
      " * Debug mode: off\n",
      " * Running on http://127.0.0.1:5000/ (Press CTRL+C to quit)\n",
      "127.0.0.1 - - [26/Nov/2019 12:53:23] \"\u001b[37mGET / HTTP/1.1\u001b[0m\" 200 -\n",
      "127.0.0.1 - - [26/Nov/2019 12:53:23] \"\u001b[37mGET /static/swagger-ui-bundle.js HTTP/1.1\u001b[0m\" 200 -\n",
      "127.0.0.1 - - [26/Nov/2019 12:53:23] \"\u001b[37mGET /static/swagger-ui.css HTTP/1.1\u001b[0m\" 200 -\n",
      "127.0.0.1 - - [26/Nov/2019 12:53:24] \"\u001b[37mGET /docs.json HTTP/1.1\u001b[0m\" 200 -\n",
      "127.0.0.1 - - [26/Nov/2019 12:53:40] \"\u001b[37mPOST /predict HTTP/1.1\u001b[0m\" 200 -\n",
      "^C\n"
     ]
    }
   ],
   "source": [
    "!bentoml serve {saved_path}"
   ]
  },
  {
   "attachments": {},
   "cell_type": "markdown",
   "metadata": {},
   "source": [
    "#### View documentations for REST APIs\n",
    "\n",
    "Open http://127.0.0.1:5000 to see more information about the REST APIs server and test sending prediction request from your browser."
   ]
  },
  {
   "cell_type": "markdown",
   "metadata": {},
   "source": [
    "![BentoML API Server Web UI Screenshot](https://raw.githubusercontent.com/bentoml/BentoML/master/guides/quick-start/bento-api-server-web-ui.png)"
   ]
  },
  {
   "cell_type": "markdown",
   "metadata": {},
   "source": [
    "#### Send prediction request to REST API server\n",
    "\n",
    "*Run the following command in terminal to make a HTTP request to the API server*\n",
    "```bash\n",
    "curl -i \\\n",
    "--header \"Content-Type: application/json\" \\\n",
    "--request POST \\\n",
    "--data '[[5.1, 3.5, 1.4, 0.2]]' \\\n",
    "localhost:5000/predict\n",
    "```\n",
    "\n",
    "Or do the equivalent from Python:\n",
    "```python\n",
    "import requests\n",
    "response = requests.post(\"http://127.0.0.1:5000/predict\", json=[[5.1, 3.5, 1.4, 0.2]])\n",
    "print(response.text)\n",
    "```\n",
    "\n",
    "Note you must ensure the pip and conda dependencies are available in your python\n",
    "environment when using `bentoml serve` command. More commonly we recommend using\n",
    "BentoML API server with Docker:\n",
    "\n",
    "## Run REST API server with Docker\n",
    "\n",
    "BentoML supports building Docker Image for your REST API model server.\n",
    "Simply use the BentoML bundle directory as the docker build context:"
   ]
  },
  {
   "cell_type": "code",
   "execution_count": 7,
   "metadata": {
    "collapsed": true
   },
   "outputs": [
    {
     "name": "stdout",
     "output_type": "stream",
     "text": [
      "Sending build context to Docker daemon  25.09kB\n",
      "Step 1/12 : FROM continuumio/miniconda3:4.7.12\n",
      " ---> 406f2b43ea59\n",
      "Step 2/12 : ENTRYPOINT [ \"/bin/bash\", \"-c\" ]\n",
      " ---> Using cache\n",
      " ---> 91b6d992bb33\n",
      "Step 3/12 : EXPOSE 5000\n",
      " ---> Using cache\n",
      " ---> 73391506dd63\n",
      "Step 4/12 : RUN set -x      && apt-get update      && apt-get install --no-install-recommends --no-install-suggests -y libpq-dev build-essential      && rm -rf /var/lib/apt/lists/*\n",
      " ---> Using cache\n",
      " ---> 6fcef6d29bc7\n",
      "Step 5/12 : RUN conda update conda -y       && conda install pip numpy scipy       && pip install gunicorn six\n",
      " ---> Using cache\n",
      " ---> 2a4c788d47dd\n",
      "Step 6/12 : COPY . /bento\n",
      " ---> 88bae1d2b9da\n",
      "Step 7/12 : WORKDIR /bento\n",
      " ---> Running in e0fe26bfa9d5\n",
      "Removing intermediate container e0fe26bfa9d5\n",
      " ---> a4bb030d820a\n",
      "Step 8/12 : RUN conda env update -n base -f /bento/environment.yml\n",
      " ---> Running in f62648e04909\n",
      "Collecting package metadata (repodata.json): ...working... done\n",
      "Solving environment: ...working... done\n",
      "\n",
      "Downloading and Extracting Packages\n",
      "setuptools-42.0.1    | 670 KB    | ########## | 100% \n",
      "cffi-1.13.2          | 225 KB    | ########## | 100% \n",
      "python-3.7.3         | 32.1 MB   | ########## | 100% \n",
      "six-1.13.0           | 27 KB     | ########## | 100% \n",
      "tqdm-4.39.0          | 52 KB     | ########## | 100% \n",
      "pyopenssl-19.1.0     | 87 KB     | ########## | 100% \n",
      "Preparing transaction: ...working... done\n",
      "Verifying transaction: ...working... done\n",
      "Executing transaction: ...working... done\n",
      "#\n",
      "# To activate this environment, use\n",
      "#\n",
      "#     $ conda activate base\n",
      "#\n",
      "# To deactivate an active environment, use\n",
      "#\n",
      "#     $ conda deactivate\n",
      "\n",
      "Removing intermediate container f62648e04909\n",
      " ---> abf7b8fc7702\n",
      "Step 9/12 : RUN pip install -r /bento/requirements.txt\n",
      " ---> Running in 244adf8d6562\n",
      "Collecting bentoml==0.5.2\n",
      "  Downloading https://files.pythonhosted.org/packages/6d/9e/a612288dd4296b7c40f4e2d6826c94986947afa6918f9088f0de87d71286/BentoML-0.5.2-py3-none-any.whl (521kB)\n",
      "Collecting scikit-learn\n",
      "  Downloading https://files.pythonhosted.org/packages/9f/c5/e5267eb84994e9a92a2c6a6ee768514f255d036f3c8378acfa694e9f2c99/scikit_learn-0.21.3-cp37-cp37m-manylinux1_x86_64.whl (6.7MB)\n",
      "Requirement already satisfied: gunicorn in /opt/conda/lib/python3.7/site-packages (from bentoml==0.5.2->-r /bento/requirements.txt (line 1)) (20.0.0)\n",
      "Collecting sqlalchemy>=1.3.0\n",
      "  Downloading https://files.pythonhosted.org/packages/34/5c/0e1d7ad0ca52544bb12f9cb8d5cc454af45821c92160ffedd38db0a317f6/SQLAlchemy-1.3.11.tar.gz (6.0MB)\n",
      "Collecting flask\n",
      "  Downloading https://files.pythonhosted.org/packages/9b/93/628509b8d5dc749656a9641f4caf13540e2cdec85276964ff8f43bbb1d3b/Flask-1.1.1-py2.py3-none-any.whl (94kB)\n",
      "Collecting cerberus\n",
      "  Downloading https://files.pythonhosted.org/packages/90/a7/71c6ed2d46a81065e68c007ac63378b96fa54c7bb614d653c68232f9c50c/Cerberus-1.3.2.tar.gz (52kB)\n",
      "Collecting pathlib2\n",
      "  Downloading https://files.pythonhosted.org/packages/e9/45/9c82d3666af4ef9f221cbb954e1d77ddbb513faf552aea6df5f37f1a4859/pathlib2-2.3.5-py2.py3-none-any.whl\n",
      "Collecting alembic\n",
      "  Downloading https://files.pythonhosted.org/packages/84/64/493c45119dce700a4b9eeecc436ef9e8835ab67bae6414f040cdc7b58f4b/alembic-1.3.1.tar.gz (1.1MB)\n",
      "Requirement already satisfied: numpy in /opt/conda/lib/python3.7/site-packages (from bentoml==0.5.2->-r /bento/requirements.txt (line 1)) (1.17.3)\n",
      "Collecting grpcio\n",
      "  Downloading https://files.pythonhosted.org/packages/b5/68/070ee7609b452e950bd5af35f7161f0ceb0abd61cf16ff3b23c852d4594b/grpcio-1.25.0-cp37-cp37m-manylinux2010_x86_64.whl (2.4MB)\n",
      "Collecting configparser\n",
      "  Downloading https://files.pythonhosted.org/packages/7a/2a/95ed0501cf5d8709490b1d3a3f9b5cf340da6c433f896bbe9ce08dbe6785/configparser-4.0.2-py2.py3-none-any.whl\n",
      "Collecting python-json-logger\n",
      "  Downloading https://files.pythonhosted.org/packages/80/9d/1c3393a6067716e04e6fcef95104c8426d262b4adaf18d7aa2470eab028d/python-json-logger-0.1.11.tar.gz\n",
      "Requirement already satisfied: six in /opt/conda/lib/python3.7/site-packages (from bentoml==0.5.2->-r /bento/requirements.txt (line 1)) (1.13.0)\n",
      "Collecting docker\n",
      "  Downloading https://files.pythonhosted.org/packages/cc/ca/699d4754a932787ef353a157ada74efd1ceb6d1fc0bfb7989ae1e7b33111/docker-4.1.0-py2.py3-none-any.whl (139kB)\n",
      "Collecting boto3\n",
      "  Downloading https://files.pythonhosted.org/packages/67/17/567f679dac6ec93611ce05637094e9736afa40e41c9ed0aaefd90de6f7e8/boto3-1.10.28-py2.py3-none-any.whl (128kB)\n",
      "Requirement already satisfied: requests in /opt/conda/lib/python3.7/site-packages (from bentoml==0.5.2->-r /bento/requirements.txt (line 1)) (2.22.0)\n",
      "Collecting prometheus-client\n",
      "  Downloading https://files.pythonhosted.org/packages/b3/23/41a5a24b502d35a4ad50a5bb7202a5e1d9a0364d0c12f56db3dbf7aca76d/prometheus_client-0.7.1.tar.gz\n",
      "Collecting pandas\n",
      "  Downloading https://files.pythonhosted.org/packages/63/e0/a1b39cdcb2c391f087a1538bc8a6d62a82d0439693192aef541d7b123769/pandas-0.25.3-cp37-cp37m-manylinux1_x86_64.whl (10.4MB)\n",
      "Collecting tabulate\n",
      "  Downloading https://files.pythonhosted.org/packages/c4/41/523f6a05e6dc3329a5660f6a81254c6cd87e5cfb5b7482bae3391d86ec3a/tabulate-0.8.6.tar.gz (45kB)\n",
      "Collecting ruamel.yaml>=0.15.0\n",
      "  Downloading https://files.pythonhosted.org/packages/fa/90/ecff85a2e9c497e2fa7142496e10233556b5137db5bd46f3f3b006935ca8/ruamel.yaml-0.16.5-py2.py3-none-any.whl (123kB)\n",
      "Collecting humanfriendly\n",
      "  Downloading https://files.pythonhosted.org/packages/90/df/88bff450f333114680698dc4aac7506ff7cab164b794461906de31998665/humanfriendly-4.18-py2.py3-none-any.whl (73kB)\n",
      "Collecting click>=7.0\n",
      "  Downloading https://files.pythonhosted.org/packages/fa/37/45185cb5abbc30d7257104c434fe0b07e5a195a6847506c074527aa599ec/Click-7.0-py2.py3-none-any.whl (81kB)\n",
      "Collecting protobuf>=3.6.0\n",
      "  Downloading https://files.pythonhosted.org/packages/82/c0/371cf368e2d8b1b7bcf9f9bafd7cec962487e654ad8296d8e0ad62011537/protobuf-3.11.0-cp37-cp37m-manylinux1_x86_64.whl (1.3MB)\n",
      "Collecting packaging\n",
      "  Downloading https://files.pythonhosted.org/packages/cf/94/9672c2d4b126e74c4496c6b3c58a8b51d6419267be9e70660ba23374c875/packaging-19.2-py2.py3-none-any.whl\n",
      "Collecting joblib>=0.11\n",
      "  Downloading https://files.pythonhosted.org/packages/8f/42/155696f85f344c066e17af287359c9786b436b1bf86029bb3411283274f3/joblib-0.14.0-py2.py3-none-any.whl (294kB)\n",
      "Requirement already satisfied: scipy>=0.17.0 in /opt/conda/lib/python3.7/site-packages (from scikit-learn->-r /bento/requirements.txt (line 2)) (1.3.1)\n",
      "Requirement already satisfied: setuptools>=3.0 in /opt/conda/lib/python3.7/site-packages (from gunicorn->bentoml==0.5.2->-r /bento/requirements.txt (line 1)) (42.0.1.post20191125)\n",
      "Collecting itsdangerous>=0.24\n",
      "  Downloading https://files.pythonhosted.org/packages/76/ae/44b03b253d6fade317f32c24d100b3b35c2239807046a4c953c7b89fa49e/itsdangerous-1.1.0-py2.py3-none-any.whl\n",
      "Collecting Jinja2>=2.10.1\n",
      "  Downloading https://files.pythonhosted.org/packages/65/e0/eb35e762802015cab1ccee04e8a277b03f1d8e53da3ec3106882ec42558b/Jinja2-2.10.3-py2.py3-none-any.whl (125kB)\n",
      "Collecting Werkzeug>=0.15\n",
      "  Downloading https://files.pythonhosted.org/packages/ce/42/3aeda98f96e85fd26180534d36570e4d18108d62ae36f87694b476b83d6f/Werkzeug-0.16.0-py2.py3-none-any.whl (327kB)\n",
      "Collecting Mako\n",
      "  Downloading https://files.pythonhosted.org/packages/b0/3c/8dcd6883d009f7cae0f3157fb53e9afb05a0d3d33b3db1268ec2e6f4a56b/Mako-1.1.0.tar.gz (463kB)\n",
      "Collecting python-editor>=0.3\n",
      "  Downloading https://files.pythonhosted.org/packages/c6/d3/201fc3abe391bbae6606e6f1d598c15d367033332bd54352b12f35513717/python_editor-1.0.4-py3-none-any.whl\n",
      "Collecting python-dateutil\n",
      "  Downloading https://files.pythonhosted.org/packages/d4/70/d60450c3dd48ef87586924207ae8907090de0b306af2bce5d134d78615cb/python_dateutil-2.8.1-py2.py3-none-any.whl (227kB)\n",
      "Collecting websocket-client>=0.32.0\n",
      "  Downloading https://files.pythonhosted.org/packages/29/19/44753eab1fdb50770ac69605527e8859468f3c0fd7dc5a76dd9c4dbd7906/websocket_client-0.56.0-py2.py3-none-any.whl (200kB)\n",
      "Collecting botocore<1.14.0,>=1.13.28\n",
      "  Downloading https://files.pythonhosted.org/packages/8e/b3/ab9044d3aa14208f5b6f69665d5f82ad9b028809666e4e70dac1ab0bfd3a/botocore-1.13.28-py2.py3-none-any.whl (5.7MB)\n",
      "Collecting s3transfer<0.3.0,>=0.2.0\n",
      "  Downloading https://files.pythonhosted.org/packages/16/8a/1fc3dba0c4923c2a76e1ff0d52b305c44606da63f718d14d3231e21c51b0/s3transfer-0.2.1-py2.py3-none-any.whl (70kB)\n"
     ]
    },
    {
     "name": "stdout",
     "output_type": "stream",
     "text": [
      "Collecting jmespath<1.0.0,>=0.7.1\n",
      "  Downloading https://files.pythonhosted.org/packages/83/94/7179c3832a6d45b266ddb2aac329e101367fbdb11f425f13771d27f225bb/jmespath-0.9.4-py2.py3-none-any.whl\n",
      "Requirement already satisfied: chardet<3.1.0,>=3.0.2 in /opt/conda/lib/python3.7/site-packages (from requests->bentoml==0.5.2->-r /bento/requirements.txt (line 1)) (3.0.4)\n",
      "Requirement already satisfied: certifi>=2017.4.17 in /opt/conda/lib/python3.7/site-packages (from requests->bentoml==0.5.2->-r /bento/requirements.txt (line 1)) (2019.9.11)\n",
      "Requirement already satisfied: urllib3!=1.25.0,!=1.25.1,<1.26,>=1.21.1 in /opt/conda/lib/python3.7/site-packages (from requests->bentoml==0.5.2->-r /bento/requirements.txt (line 1)) (1.24.2)\n",
      "Requirement already satisfied: idna<2.9,>=2.5 in /opt/conda/lib/python3.7/site-packages (from requests->bentoml==0.5.2->-r /bento/requirements.txt (line 1)) (2.8)\n",
      "Collecting pytz>=2017.2\n",
      "  Downloading https://files.pythonhosted.org/packages/e7/f9/f0b53f88060247251bf481fa6ea62cd0d25bf1b11a87888e53ce5b7c8ad2/pytz-2019.3-py2.py3-none-any.whl (509kB)\n",
      "Collecting ruamel.yaml.clib>=0.1.2; platform_python_implementation == \"CPython\" and python_version < \"3.8\"\n",
      "  Downloading https://files.pythonhosted.org/packages/40/80/da16b691d5e259dd9919a10628e541fca321cb4b078fbb88e1c7c22aa42d/ruamel.yaml.clib-0.2.0-cp37-cp37m-manylinux1_x86_64.whl (547kB)\n",
      "Collecting pyparsing>=2.0.2\n",
      "  Downloading https://files.pythonhosted.org/packages/c0/0c/fc2e007d9a992d997f04a80125b0f183da7fb554f1de701bbb70a8e7d479/pyparsing-2.4.5-py2.py3-none-any.whl (67kB)\n",
      "Collecting MarkupSafe>=0.23\n",
      "  Downloading https://files.pythonhosted.org/packages/98/7b/ff284bd8c80654e471b769062a9b43cc5d03e7a615048d96f4619df8d420/MarkupSafe-1.1.1-cp37-cp37m-manylinux1_x86_64.whl\n",
      "Collecting docutils<0.16,>=0.10\n",
      "  Downloading https://files.pythonhosted.org/packages/22/cd/a6aa959dca619918ccb55023b4cb151949c64d4d5d55b3f4ffd7eee0c6e8/docutils-0.15.2-py3-none-any.whl (547kB)\n",
      "Building wheels for collected packages: sqlalchemy, cerberus, alembic, python-json-logger, prometheus-client, tabulate, Mako\n",
      "  Building wheel for sqlalchemy (setup.py): started\n",
      "  Building wheel for sqlalchemy (setup.py): finished with status 'done'\n",
      "  Created wheel for sqlalchemy: filename=SQLAlchemy-1.3.11-cp37-cp37m-linux_x86_64.whl size=1216877 sha256=c3d55af5227bfa57bd1fb33fd4ee0f7f839387d70a9cb5e9d089367871faeb5d\n",
      "  Stored in directory: /root/.cache/pip/wheels/a3/67/7d/6c41104a1a08ff1a25e260d3edec3ac19203141d1aaa2f0975\n",
      "  Building wheel for cerberus (setup.py): started\n",
      "  Building wheel for cerberus (setup.py): finished with status 'done'\n",
      "  Created wheel for cerberus: filename=Cerberus-1.3.2-cp37-none-any.whl size=54336 sha256=1c524400d7a6fcdcd584dbee923bae4c91fb05c2079b1601b630e49a9cb2e5a8\n",
      "  Stored in directory: /root/.cache/pip/wheels/e9/38/1f/f2cc84182676f3ae7134b9b2d744f9c235b24d2ddc8f7fe465\n",
      "  Building wheel for alembic (setup.py): started\n",
      "  Building wheel for alembic (setup.py): finished with status 'done'\n",
      "  Created wheel for alembic: filename=alembic-1.3.1-py2.py3-none-any.whl size=144523 sha256=1050d97f8c11d766863d2adbcf3cb1ded9029961b1a53794eadce6792575d9c3\n",
      "  Stored in directory: /root/.cache/pip/wheels/b2/d4/19/5ab879d30af7cbc79e6dcc1d421795b1aa9d78f455b0412ef7\n",
      "  Building wheel for python-json-logger (setup.py): started\n",
      "  Building wheel for python-json-logger (setup.py): finished with status 'done'\n",
      "  Created wheel for python-json-logger: filename=python_json_logger-0.1.11-py2.py3-none-any.whl size=5076 sha256=f478fd7b32980268a9a191772050cd1812967d303c3327696a57f1b3ab3048e3\n",
      "  Stored in directory: /root/.cache/pip/wheels/97/f7/a1/752e22bb30c1cfe38194ea0070a5c66e76ef4d06ad0c7dc401\n",
      "  Building wheel for prometheus-client (setup.py): started\n",
      "  Building wheel for prometheus-client (setup.py): finished with status 'done'\n",
      "  Created wheel for prometheus-client: filename=prometheus_client-0.7.1-cp37-none-any.whl size=41402 sha256=6fe66bcc1d4f615a52c10f40f9d22d3aa1c0b43b1856f117f8e27b2db4c3f813\n",
      "  Stored in directory: /root/.cache/pip/wheels/1c/54/34/fd47cd9b308826cc4292b54449c1899a30251ef3b506bc91ea\n",
      "  Building wheel for tabulate (setup.py): started\n",
      "  Building wheel for tabulate (setup.py): finished with status 'done'\n",
      "  Created wheel for tabulate: filename=tabulate-0.8.6-cp37-none-any.whl size=23274 sha256=17cbc396f28cffb1de534307d83ca442f3f25c0da9c60fac28203b33fb15826d\n",
      "  Stored in directory: /root/.cache/pip/wheels/9c/9b/f4/eb243fdb89676ec00588e8c54bb54360724c06e7fafe95278e\n",
      "  Building wheel for Mako (setup.py): started\n",
      "  Building wheel for Mako (setup.py): finished with status 'done'\n",
      "  Created wheel for Mako: filename=Mako-1.1.0-cp37-none-any.whl size=75360 sha256=cebc330fb300656344b7470fd095c7b6e42d5fd31b4cd8e01849dab94e90549b\n",
      "  Stored in directory: /root/.cache/pip/wheels/98/32/7b/a291926643fc1d1e02593e0d9e247c5a866a366b8343b7aa27\n",
      "Successfully built sqlalchemy cerberus alembic python-json-logger prometheus-client tabulate Mako\n",
      "\u001b[91mERROR: botocore 1.13.28 has requirement python-dateutil<2.8.1,>=2.1; python_version >= \"2.7\", but you'll have python-dateutil 2.8.1 which is incompatible.\n",
      "\u001b[0mInstalling collected packages: sqlalchemy, click, itsdangerous, MarkupSafe, Jinja2, Werkzeug, flask, cerberus, pathlib2, Mako, python-editor, python-dateutil, alembic, grpcio, configparser, python-json-logger, websocket-client, docker, docutils, jmespath, botocore, s3transfer, boto3, prometheus-client, pytz, pandas, tabulate, ruamel.yaml.clib, ruamel.yaml, humanfriendly, protobuf, pyparsing, packaging, bentoml, joblib, scikit-learn\n",
      "Successfully installed Jinja2-2.10.3 Mako-1.1.0 MarkupSafe-1.1.1 Werkzeug-0.16.0 alembic-1.3.1 bentoml-0.5.2 boto3-1.10.28 botocore-1.13.28 cerberus-1.3.2 click-7.0 configparser-4.0.2 docker-4.1.0 docutils-0.15.2 flask-1.1.1 grpcio-1.25.0 humanfriendly-4.18 itsdangerous-1.1.0 jmespath-0.9.4 joblib-0.14.0 packaging-19.2 pandas-0.25.3 pathlib2-2.3.5 prometheus-client-0.7.1 protobuf-3.11.0 pyparsing-2.4.5 python-dateutil-2.8.1 python-editor-1.0.4 python-json-logger-0.1.11 pytz-2019.3 ruamel.yaml-0.16.5 ruamel.yaml.clib-0.2.0 s3transfer-0.2.1 scikit-learn-0.21.3 sqlalchemy-1.3.11 tabulate-0.8.6 websocket-client-0.56.0\n",
      "Removing intermediate container 244adf8d6562\n",
      " ---> 1f4c515d2966\n",
      "Step 10/12 : RUN if [ -f /bento/bentoml_init.sh ]; then /bin/bash -c /bento/bentoml_init.sh; fi\n",
      " ---> Running in 93b1e32316cc\n",
      "Removing intermediate container 93b1e32316cc\n",
      " ---> 1fbec0040243\n",
      "Step 11/12 : RUN if [ -f /bento/setup.sh ]; then /bin/bash -c /bento/setup.sh; fi\n",
      " ---> Running in 54e01ffc60bc\n",
      "Removing intermediate container 54e01ffc60bc\n",
      " ---> 934d729e5807\n",
      "Step 12/12 : CMD [\"bentoml serve-gunicorn /bento\"]\n",
      " ---> Running in 15693d59564b\n",
      "Removing intermediate container 15693d59564b\n",
      " ---> 56f469df7eca\n",
      "Successfully built 56f469df7eca\n",
      "Successfully tagged iris-classifier:latest\n"
     ]
    }
   ],
   "source": [
    "!cd {saved_path} && docker build -t iris-classifier ."
   ]
  },
  {
   "cell_type": "markdown",
   "metadata": {},
   "source": [
    "Note that `docker` is __note available in Google Colab__, download the notebook, ensure docker is installed and try it locally.\n",
    "\n",
    "Next, you can `docker push` the image to your choice of registry for deployment,\n",
    "or run it locally for development and testing:"
   ]
  },
  {
   "cell_type": "code",
   "execution_count": 8,
   "metadata": {},
   "outputs": [
    {
     "name": "stdout",
     "output_type": "stream",
     "text": [
      "[2019-11-26 20:57:06 +0000] [1] [INFO] Starting gunicorn 20.0.0\n",
      "[2019-11-26 20:57:06 +0000] [1] [INFO] Listening at: http://0.0.0.0:5000 (1)\n",
      "[2019-11-26 20:57:06 +0000] [1] [INFO] Using worker: sync\n",
      "[2019-11-26 20:57:06 +0000] [10] [INFO] Booting worker with pid: 10\n",
      "[2019-11-26 20:57:06 +0000] [11] [INFO] Booting worker with pid: 11\n",
      "[2019-11-26 20:57:06 +0000] [12] [INFO] Booting worker with pid: 12\n",
      "^C\n",
      "[2019-11-26 20:57:17 +0000] [1] [INFO] Handling signal: int\n",
      "/opt/conda/lib/python3.7/site-packages/sklearn/base.py:306: UserWarning: Trying to unpickle estimator SVC from version 0.21.2 when using version 0.21.3. This might lead to breaking code or invalid results. Use at your own risk.\n",
      "  UserWarning)\n",
      "[2019-11-26 20:57:17 +0000] [12] [INFO] Worker exiting (pid: 12)\n",
      "/opt/conda/lib/python3.7/site-packages/sklearn/base.py:306: UserWarning: Trying to unpickle estimator SVC from version 0.21.2 when using version 0.21.3. This might lead to breaking code or invalid results. Use at your own risk.\n",
      "  UserWarning)\n",
      "[2019-11-26 20:57:17 +0000] [10] [INFO] Worker exiting (pid: 10)\n",
      "/opt/conda/lib/python3.7/site-packages/sklearn/base.py:306: UserWarning: Trying to unpickle estimator SVC from version 0.21.2 when using version 0.21.3. This might lead to breaking code or invalid results. Use at your own risk.\n",
      "  UserWarning)\n",
      "[2019-11-26 20:57:17 +0000] [11] [INFO] Worker exiting (pid: 11)\n"
     ]
    }
   ],
   "source": [
    "!docker run -p 5000:5000 iris-classifier"
   ]
  },
  {
   "cell_type": "markdown",
   "metadata": {},
   "source": [
    "## Load saved BentoService\n",
    "\n",
    "`bentoml.load` is the enssential API for loading a Bento into your\n",
    "python application:"
   ]
  },
  {
   "cell_type": "code",
   "execution_count": 9,
   "metadata": {},
   "outputs": [
    {
     "name": "stdout",
     "output_type": "stream",
     "text": [
      "[2019-11-26 12:57:20,718] WARNING - Module `iris_classifier` already loaded, using existing imported module.\n"
     ]
    },
    {
     "data": {
      "text/plain": [
       "memmap([0])"
      ]
     },
     "execution_count": 9,
     "metadata": {},
     "output_type": "execute_result"
    }
   ],
   "source": [
    "import bentoml\n",
    "import pandas as pd\n",
    "\n",
    "bento_svc = bentoml.load(saved_path)\n",
    "\n",
    "# Test loaded bentoml service:\n",
    "bento_svc.predict([X[0]])"
   ]
  },
  {
   "cell_type": "markdown",
   "metadata": {},
   "source": [
    "## \"pip install\" a BentoML bundle\n",
    "\n",
    "BentoML also supports distributing a BentoService as PyPI package, with the\n",
    "generated `setup.py` file. A Bento directory can be installed with `pip`:"
   ]
  },
  {
   "cell_type": "code",
   "execution_count": 10,
   "metadata": {
    "collapsed": true
   },
   "outputs": [
    {
     "name": "stdout",
     "output_type": "stream",
     "text": [
      "Processing /Users/chaoyuyang/bentoml/repository/IrisClassifier/20191126125258_4AB1D4\n",
      "Requirement already satisfied: bentoml==0.5.2 in /Users/chaoyuyang/anaconda3/envs/bentoml-dev/lib/python3.7/site-packages (from IrisClassifier===20191126125258-4AB1D4) (0.5.2)\n",
      "Requirement already satisfied: scikit-learn in /Users/chaoyuyang/anaconda3/envs/bentoml-dev/lib/python3.7/site-packages (from IrisClassifier===20191126125258-4AB1D4) (0.21.2)\n",
      "Requirement already satisfied: numpy in /Users/chaoyuyang/anaconda3/envs/bentoml-dev/lib/python3.7/site-packages (from bentoml==0.5.2->IrisClassifier===20191126125258-4AB1D4) (1.16.4)\n",
      "Requirement already satisfied: packaging in /Users/chaoyuyang/anaconda3/envs/bentoml-dev/lib/python3.7/site-packages (from bentoml==0.5.2->IrisClassifier===20191126125258-4AB1D4) (19.0)\n",
      "Requirement already satisfied: requests in /Users/chaoyuyang/anaconda3/envs/bentoml-dev/lib/python3.7/site-packages (from bentoml==0.5.2->IrisClassifier===20191126125258-4AB1D4) (2.22.0)\n",
      "Requirement already satisfied: configparser in /Users/chaoyuyang/anaconda3/envs/bentoml-dev/lib/python3.7/site-packages (from bentoml==0.5.2->IrisClassifier===20191126125258-4AB1D4) (3.7.4)\n",
      "Requirement already satisfied: flask in /Users/chaoyuyang/anaconda3/envs/bentoml-dev/lib/python3.7/site-packages (from bentoml==0.5.2->IrisClassifier===20191126125258-4AB1D4) (1.0.2)\n",
      "Requirement already satisfied: sqlalchemy>=1.3.0 in /Users/chaoyuyang/anaconda3/envs/bentoml-dev/lib/python3.7/site-packages (from bentoml==0.5.2->IrisClassifier===20191126125258-4AB1D4) (1.3.8)\n",
      "Requirement already satisfied: cerberus in /Users/chaoyuyang/anaconda3/envs/bentoml-dev/lib/python3.7/site-packages (from bentoml==0.5.2->IrisClassifier===20191126125258-4AB1D4) (1.3.1)\n",
      "Requirement already satisfied: docker in /Users/chaoyuyang/anaconda3/envs/bentoml-dev/lib/python3.7/site-packages (from bentoml==0.5.2->IrisClassifier===20191126125258-4AB1D4) (4.1.0)\n",
      "Requirement already satisfied: python-json-logger in /Users/chaoyuyang/anaconda3/envs/bentoml-dev/lib/python3.7/site-packages (from bentoml==0.5.2->IrisClassifier===20191126125258-4AB1D4) (0.1.11)\n",
      "Requirement already satisfied: pathlib2 in /Users/chaoyuyang/anaconda3/envs/bentoml-dev/lib/python3.7/site-packages (from bentoml==0.5.2->IrisClassifier===20191126125258-4AB1D4) (2.3.4)\n",
      "Requirement already satisfied: six in /Users/chaoyuyang/anaconda3/envs/bentoml-dev/lib/python3.7/site-packages (from bentoml==0.5.2->IrisClassifier===20191126125258-4AB1D4) (1.12.0)\n",
      "Requirement already satisfied: tabulate in /Users/chaoyuyang/anaconda3/envs/bentoml-dev/lib/python3.7/site-packages (from bentoml==0.5.2->IrisClassifier===20191126125258-4AB1D4) (0.8.2)\n",
      "Requirement already satisfied: pandas in /Users/chaoyuyang/anaconda3/envs/bentoml-dev/lib/python3.7/site-packages (from bentoml==0.5.2->IrisClassifier===20191126125258-4AB1D4) (0.24.2)\n",
      "Requirement already satisfied: ruamel.yaml>=0.15.0 in /Users/chaoyuyang/anaconda3/envs/bentoml-dev/lib/python3.7/site-packages (from bentoml==0.5.2->IrisClassifier===20191126125258-4AB1D4) (0.15.99)\n",
      "Requirement already satisfied: alembic in /Users/chaoyuyang/anaconda3/envs/bentoml-dev/lib/python3.7/site-packages (from bentoml==0.5.2->IrisClassifier===20191126125258-4AB1D4) (0.9.10)\n",
      "Requirement already satisfied: prometheus-client in /Users/chaoyuyang/anaconda3/envs/bentoml-dev/lib/python3.7/site-packages (from bentoml==0.5.2->IrisClassifier===20191126125258-4AB1D4) (0.7.1)\n",
      "Requirement already satisfied: boto3 in /Users/chaoyuyang/anaconda3/envs/bentoml-dev/lib/python3.7/site-packages (from bentoml==0.5.2->IrisClassifier===20191126125258-4AB1D4) (1.9.188)\n",
      "Requirement already satisfied: gunicorn in /Users/chaoyuyang/anaconda3/envs/bentoml-dev/lib/python3.7/site-packages (from bentoml==0.5.2->IrisClassifier===20191126125258-4AB1D4) (20.0.0)\n",
      "Requirement already satisfied: click>=7.0 in /Users/chaoyuyang/anaconda3/envs/bentoml-dev/lib/python3.7/site-packages (from bentoml==0.5.2->IrisClassifier===20191126125258-4AB1D4) (7.0)\n",
      "Requirement already satisfied: humanfriendly in /Users/chaoyuyang/anaconda3/envs/bentoml-dev/lib/python3.7/site-packages (from bentoml==0.5.2->IrisClassifier===20191126125258-4AB1D4) (4.18)\n",
      "Requirement already satisfied: protobuf>=3.6.0 in /Users/chaoyuyang/anaconda3/envs/bentoml-dev/lib/python3.7/site-packages (from bentoml==0.5.2->IrisClassifier===20191126125258-4AB1D4) (3.10.0)\n",
      "Requirement already satisfied: grpcio in /Users/chaoyuyang/anaconda3/envs/bentoml-dev/lib/python3.7/site-packages (from bentoml==0.5.2->IrisClassifier===20191126125258-4AB1D4) (1.25.0)\n",
      "Requirement already satisfied: joblib>=0.11 in /Users/chaoyuyang/anaconda3/envs/bentoml-dev/lib/python3.7/site-packages (from scikit-learn->IrisClassifier===20191126125258-4AB1D4) (0.13.2)\n",
      "Requirement already satisfied: scipy>=0.17.0 in /Users/chaoyuyang/anaconda3/envs/bentoml-dev/lib/python3.7/site-packages (from scikit-learn->IrisClassifier===20191126125258-4AB1D4) (1.3.0)\n",
      "Requirement already satisfied: pyparsing>=2.0.2 in /Users/chaoyuyang/anaconda3/envs/bentoml-dev/lib/python3.7/site-packages (from packaging->bentoml==0.5.2->IrisClassifier===20191126125258-4AB1D4) (2.4.0)\n",
      "Requirement already satisfied: chardet<3.1.0,>=3.0.2 in /Users/chaoyuyang/anaconda3/envs/bentoml-dev/lib/python3.7/site-packages (from requests->bentoml==0.5.2->IrisClassifier===20191126125258-4AB1D4) (3.0.4)\n",
      "Requirement already satisfied: certifi>=2017.4.17 in /Users/chaoyuyang/anaconda3/envs/bentoml-dev/lib/python3.7/site-packages (from requests->bentoml==0.5.2->IrisClassifier===20191126125258-4AB1D4) (2019.9.11)\n",
      "Requirement already satisfied: urllib3!=1.25.0,!=1.25.1,<1.26,>=1.21.1 in /Users/chaoyuyang/anaconda3/envs/bentoml-dev/lib/python3.7/site-packages (from requests->bentoml==0.5.2->IrisClassifier===20191126125258-4AB1D4) (1.24.3)\n",
      "Requirement already satisfied: idna<2.9,>=2.5 in /Users/chaoyuyang/anaconda3/envs/bentoml-dev/lib/python3.7/site-packages (from requests->bentoml==0.5.2->IrisClassifier===20191126125258-4AB1D4) (2.8)\n",
      "Requirement already satisfied: Jinja2>=2.10 in /Users/chaoyuyang/anaconda3/envs/bentoml-dev/lib/python3.7/site-packages (from flask->bentoml==0.5.2->IrisClassifier===20191126125258-4AB1D4) (2.10.1)\n",
      "Requirement already satisfied: Werkzeug>=0.14 in /Users/chaoyuyang/anaconda3/envs/bentoml-dev/lib/python3.7/site-packages (from flask->bentoml==0.5.2->IrisClassifier===20191126125258-4AB1D4) (0.15.4)\n",
      "Requirement already satisfied: itsdangerous>=0.24 in /Users/chaoyuyang/anaconda3/envs/bentoml-dev/lib/python3.7/site-packages (from flask->bentoml==0.5.2->IrisClassifier===20191126125258-4AB1D4) (1.1.0)\n",
      "Requirement already satisfied: websocket-client>=0.32.0 in /Users/chaoyuyang/anaconda3/envs/bentoml-dev/lib/python3.7/site-packages (from docker->bentoml==0.5.2->IrisClassifier===20191126125258-4AB1D4) (0.56.0)\n",
      "Requirement already satisfied: pytz>=2011k in /Users/chaoyuyang/anaconda3/envs/bentoml-dev/lib/python3.7/site-packages (from pandas->bentoml==0.5.2->IrisClassifier===20191126125258-4AB1D4) (2019.1)\n",
      "Requirement already satisfied: python-dateutil>=2.5.0 in /Users/chaoyuyang/anaconda3/envs/bentoml-dev/lib/python3.7/site-packages (from pandas->bentoml==0.5.2->IrisClassifier===20191126125258-4AB1D4) (2.8.0)\n",
      "Requirement already satisfied: python-editor>=0.3 in /Users/chaoyuyang/anaconda3/envs/bentoml-dev/lib/python3.7/site-packages (from alembic->bentoml==0.5.2->IrisClassifier===20191126125258-4AB1D4) (1.0.4)\n",
      "Requirement already satisfied: Mako in /Users/chaoyuyang/anaconda3/envs/bentoml-dev/lib/python3.7/site-packages (from alembic->bentoml==0.5.2->IrisClassifier===20191126125258-4AB1D4) (1.0.10)\n",
      "Requirement already satisfied: botocore<1.13.0,>=1.12.188 in /Users/chaoyuyang/anaconda3/envs/bentoml-dev/lib/python3.7/site-packages (from boto3->bentoml==0.5.2->IrisClassifier===20191126125258-4AB1D4) (1.12.234)\n",
      "Requirement already satisfied: jmespath<1.0.0,>=0.7.1 in /Users/chaoyuyang/anaconda3/envs/bentoml-dev/lib/python3.7/site-packages (from boto3->bentoml==0.5.2->IrisClassifier===20191126125258-4AB1D4) (0.9.4)\n",
      "Requirement already satisfied: s3transfer<0.3.0,>=0.2.0 in /Users/chaoyuyang/anaconda3/envs/bentoml-dev/lib/python3.7/site-packages (from boto3->bentoml==0.5.2->IrisClassifier===20191126125258-4AB1D4) (0.2.1)\n",
      "Requirement already satisfied: setuptools>=3.0 in /Users/chaoyuyang/anaconda3/envs/bentoml-dev/lib/python3.7/site-packages (from gunicorn->bentoml==0.5.2->IrisClassifier===20191126125258-4AB1D4) (41.4.0)\n",
      "Requirement already satisfied: MarkupSafe>=0.23 in /Users/chaoyuyang/anaconda3/envs/bentoml-dev/lib/python3.7/site-packages (from Jinja2>=2.10->flask->bentoml==0.5.2->IrisClassifier===20191126125258-4AB1D4) (1.1.1)\n",
      "Requirement already satisfied: docutils<0.16,>=0.10 in /Users/chaoyuyang/.local/lib/python3.7/site-packages (from botocore<1.13.0,>=1.12.188->boto3->bentoml==0.5.2->IrisClassifier===20191126125258-4AB1D4) (0.14)\n",
      "Building wheels for collected packages: IrisClassifier\n"
     ]
    },
    {
     "name": "stdout",
     "output_type": "stream",
     "text": [
      "  Building wheel for IrisClassifier (setup.py) ... \u001b[?25ldone\n",
      "\u001b[?25h  Created wheel for IrisClassifier: filename=IrisClassifier-20191126125258_4AB1D4-cp37-none-any.whl size=5263 sha256=9424107f80e2a0a76b7734f7ddf3a765bb27310268703e6c8d0e075536e84e61\n",
      "  Stored in directory: /private/var/folders/ns/vc9qhmqx5dx_9fws7d869lqh0000gn/T/pip-ephem-wheel-cache-5y170jlo/wheels/69/02/91/646c9c350cf887e495e9be46faae3c359b267cc4fea408e85c\n",
      "Successfully built IrisClassifier\n",
      "Installing collected packages: IrisClassifier\n",
      "  Found existing installation: IrisClassifier 20191126114724-FBB606\n",
      "    Uninstalling IrisClassifier-20191126114724-FBB606:\n",
      "      Successfully uninstalled IrisClassifier-20191126114724-FBB606\n",
      "Successfully installed IrisClassifier-20191126125258-4AB1D4\n"
     ]
    }
   ],
   "source": [
    "!pip install {saved_path}"
   ]
  },
  {
   "cell_type": "markdown",
   "metadata": {},
   "source": [
    "Now you can import your ML service as a regular python package:"
   ]
  },
  {
   "cell_type": "code",
   "execution_count": 11,
   "metadata": {},
   "outputs": [
    {
     "data": {
      "text/plain": [
       "memmap([0])"
      ]
     },
     "execution_count": 11,
     "metadata": {},
     "output_type": "execute_result"
    }
   ],
   "source": [
    "import IrisClassifier\n",
    "\n",
    "installed_svc = IrisClassifier.load()\n",
    "installed_svc.predict([X[0]])"
   ]
  },
  {
   "cell_type": "markdown",
   "metadata": {},
   "source": [
    "A Bento PyPI package can also be uploaded to pypi.org\n",
    "as a public python package, or to your organization's private PyPI index for all\n",
    "developers in your organization to use:\n",
    "\n",
    "`cd {saved_path} & python setup.py sdist upload`\n",
    "\n",
    "*You will need a \".pypirc\" config file before doing this: https://docs.python.org/2/distutils/packageindex.html*\n",
    "\n",
    "\n",
    "# CLI access\n",
    "\n",
    "`pip install {saved_path}` also installs a CLI tool for accessing the BentoML service, print CLI help document with `--help`:\n"
   ]
  },
  {
   "cell_type": "code",
   "execution_count": 12,
   "metadata": {},
   "outputs": [
    {
     "name": "stdout",
     "output_type": "stream",
     "text": [
      "Usage: IrisClassifier [OPTIONS] COMMAND [ARGS]...\r\n",
      "\r\n",
      "  BentoML CLI tool\r\n",
      "\r\n",
      "Options:\r\n",
      "  -q, --quiet  Hide process logs and only print command results\r\n",
      "  --verbose    Print verbose debugging information for BentoML developer\r\n",
      "  --version    Show the version and exit.\r\n",
      "  --help       Show this message and exit.\r\n",
      "\r\n",
      "Commands:\r\n",
      "  <API_NAME>      Run API function\r\n",
      "  info            List APIs\r\n",
      "  open-api-spec   Display OpenAPI/Swagger JSON specs\r\n",
      "  serve           Start local rest server\r\n",
      "  serve-gunicorn  Start local gunicorn server\r\n"
     ]
    }
   ],
   "source": [
    "!IrisClassifier --help"
   ]
  },
  {
   "cell_type": "markdown",
   "metadata": {},
   "source": [
    "Printing more information about this ML service with `info` command:"
   ]
  },
  {
   "cell_type": "code",
   "execution_count": null,
   "metadata": {
    "pycharm": {
     "name": "#%%\n"
    }
   },
   "outputs": [],
   "source": [
    "!IrisClassifier info"
   ]
  },
  {
   "cell_type": "markdown",
   "metadata": {},
   "source": [
    "You can also print help and docs on individual commands:"
   ]
  },
  {
   "cell_type": "code",
   "execution_count": null,
   "metadata": {},
   "outputs": [],
   "source": [
    "!IrisClassifier predict --help"
   ]
  },
  {
   "cell_type": "markdown",
   "metadata": {},
   "source": [
    "Each service API you defined in the BentoService will be exposed as a CLI command with the same name as the API function:"
   ]
  },
  {
   "cell_type": "code",
   "execution_count": null,
   "metadata": {
    "scrolled": true
   },
   "outputs": [],
   "source": [
    "!IrisClassifier predict --input='[[5.1, 3.5, 1.4, 0.2]]'"
   ]
  },
  {
   "cell_type": "markdown",
   "metadata": {},
   "source": [
    "BentoML cli also supports reading input data from `csv` or `json` files, in either local machine or remote HTTP/S3 location:"
   ]
  },
  {
   "cell_type": "code",
   "execution_count": 13,
   "metadata": {},
   "outputs": [
    {
     "name": "stdout",
     "output_type": "stream",
     "text": [
      "[0 0 0 0 0 0 0 0 0 0 0 0 0 0 0 0 0 0 0 0 0 0 0 0 0 0 0 0 0 0 0 0 0 0 0 0 0\r\n",
      " 0 0 0 0 0 0 0 0 0 0 0 0 0 1 1 1 1 1 1 1 1 1 1 1 1 1 1 1 1 1 1 1 1 1 1 1 1\r\n",
      " 1 1 1 2 1 1 1 1 1 2 1 1 1 1 1 1 1 1 1 1 1 1 1 1 1 1 2 2 2 2 2 2 1 2 2 2 2\r\n",
      " 2 2 2 2 2 2 2 2 2 2 2 2 2 2 2 2 2 2 2 2 2 2 2 2 2 2 2 1 2 2 2 2 2 2 2 2 2\r\n",
      " 2 2]\r\n"
     ]
    }
   ],
   "source": [
    "# Writing test data to a csv file\n",
    "pd.DataFrame(iris.data).to_csv('iris_data.csv', index=False)\n",
    "\n",
    "# Invoke predict from command lien\n",
    "!IrisClassifier predict --input='./iris_data.csv'"
   ]
  },
  {
   "cell_type": "markdown",
   "metadata": {},
   "source": [
    "Alternatively, you can also use the `bentoml` cli to load and run a BentoML service archive without installing it:"
   ]
  },
  {
   "cell_type": "code",
   "execution_count": null,
   "metadata": {},
   "outputs": [],
   "source": [
    "!bentoml info {saved_path}"
   ]
  },
  {
   "cell_type": "code",
   "execution_count": 14,
   "metadata": {},
   "outputs": [
    {
     "name": "stdout",
     "output_type": "stream",
     "text": [
      "[0]\r\n"
     ]
    }
   ],
   "source": [
    "!bentoml predict {saved_path} --input='[[5.1, 3.5, 1.4, 0.2]]'"
   ]
  },
  {
   "cell_type": "markdown",
   "metadata": {},
   "source": [
    "# Deploying to AWS Lambda\n",
    "\n",
    "AWS Lambda is a serverless computing platform provided by Amazon Web Services. BentoML service archive can be easily deployed to AWS Lambda as a REST API endpoint.\n",
    "\n",
    "In order to run this demo, make sure to configure your AWS credentials via either `aws configure` command or setting the environment variables below:\n",
    "```\n",
    "%env AWS_ACCESS_KEY_ID=\n",
    "%env AWS_SECRET_ACCESS_KEY=\n",
    "```"
   ]
  },
  {
   "cell_type": "markdown",
   "metadata": {},
   "source": [
    "Make sure you have [AWS SAM CLI](https://github.com/awslabs/aws-sam-cli/) installed:"
   ]
  },
  {
   "cell_type": "code",
   "execution_count": null,
   "metadata": {
    "scrolled": true
   },
   "outputs": [],
   "source": [
    "!pip install -U aws-sam-cli==0.31.1"
   ]
  },
  {
   "cell_type": "markdown",
   "metadata": {},
   "source": [
    "Now, you can deploy the BentML bundle you just created to AWS Lambda with one command:"
   ]
  },
  {
   "cell_type": "code",
   "execution_count": 16,
   "metadata": {
    "scrolled": true
   },
   "outputs": [
    {
     "name": "stdout",
     "output_type": "stream",
     "text": [
      "[2019-11-26 12:59:06,859] INFO - Building lambda project\n",
      "[2019-11-26 13:00:12,142] INFO - Packaging lambda project\n",
      "[2019-11-26 13:00:33,427] INFO - Deploying lambda project\n",
      "\n",
      "Waiting for changeset to be created..\n",
      "Waiting for stack create/update to complete\n",
      "Successfully created/updated stack - default-quick-start-guide-deployment\n",
      "[2019-11-26 13:01:32,152] INFO - Finish deployed lambda project, fetching latest status\n",
      "\u001b[32mSuccessfully created deployment quick-start-guide-deployment\u001b[0m\n",
      "\u001b[39m{\n",
      "  \"namespace\": \"default\",\n",
      "  \"name\": \"quick-start-guide-deployment\",\n",
      "  \"spec\": {\n",
      "    \"bentoName\": \"IrisClassifier\",\n",
      "    \"bentoVersion\": \"20191126125258_4AB1D4\",\n",
      "    \"operator\": \"AWS_LAMBDA\",\n",
      "    \"awsLambdaOperatorConfig\": {\n",
      "      \"region\": \"us-west-2\",\n",
      "      \"memorySize\": 1024,\n",
      "      \"timeout\": 6\n",
      "    }\n",
      "  },\n",
      "  \"state\": {\n",
      "    \"state\": \"RUNNING\",\n",
      "    \"infoJson\": {\n",
      "      \"endpoints\": [\n",
      "        \"https://apcjn5h648.execute-api.us-west-2.amazonaws.com/Prod/predict\"\n",
      "      ],\n",
      "      \"s3_bucket\": \"btml-default-quick-start-guide-deployment-2b99b3\"\n",
      "    },\n",
      "    \"timestamp\": \"2019-11-26T21:01:32.544927Z\"\n",
      "  },\n",
      "  \"createdAt\": \"2019-11-26T20:59:02.611005Z\",\n",
      "  \"lastUpdatedAt\": \"2019-11-26T20:59:02.611042Z\"\n",
      "}\u001b[0m\n"
     ]
    }
   ],
   "source": [
    "!bentoml deployment create quick-start-guide-deployment \\\n",
    "    --bento=IrisClassifier:{svc.version} \\\n",
    "    --platform=aws-lambda \\"
   ]
  },
  {
   "cell_type": "markdown",
   "metadata": {},
   "source": [
    "Here the 'quick-starrt-guide-deployment' is the deployment name, you can reference the deployment by this name and query its status. For example, to get current deployment status:"
   ]
  },
  {
   "cell_type": "code",
   "execution_count": 17,
   "metadata": {
    "scrolled": true
   },
   "outputs": [
    {
     "name": "stdout",
     "output_type": "stream",
     "text": [
      "\u001b[39m{\r\n",
      "  \"namespace\": \"default\",\r\n",
      "  \"name\": \"quick-start-guide-deployment\",\r\n",
      "  \"spec\": {\r\n",
      "    \"bentoName\": \"IrisClassifier\",\r\n",
      "    \"bentoVersion\": \"20191126125258_4AB1D4\",\r\n",
      "    \"operator\": \"AWS_LAMBDA\",\r\n",
      "    \"awsLambdaOperatorConfig\": {\r\n",
      "      \"region\": \"us-west-2\",\r\n",
      "      \"memorySize\": 1024,\r\n",
      "      \"timeout\": 6\r\n",
      "    }\r\n",
      "  },\r\n",
      "  \"state\": {\r\n",
      "    \"state\": \"RUNNING\",\r\n",
      "    \"infoJson\": {\r\n",
      "      \"endpoints\": [\r\n",
      "        \"https://apcjn5h648.execute-api.us-west-2.amazonaws.com/Prod/predict\"\r\n",
      "      ],\r\n",
      "      \"s3_bucket\": \"btml-default-quick-start-guide-deployment-2b99b3\"\r\n",
      "    },\r\n",
      "    \"timestamp\": \"2019-11-26T21:02:55.201073Z\"\r\n",
      "  },\r\n",
      "  \"createdAt\": \"2019-11-26T20:59:02.611005Z\",\r\n",
      "  \"lastUpdatedAt\": \"2019-11-26T20:59:02.611042Z\"\r\n",
      "}\u001b[0m\r\n"
     ]
    }
   ],
   "source": [
    "!bentoml deployment describe quick-start-guide-deployment"
   ]
  },
  {
   "cell_type": "markdown",
   "metadata": {},
   "source": [
    "To send request to your AWS Lambda deployment, grab the endpoint URL from the json output above:"
   ]
  },
  {
   "cell_type": "code",
   "execution_count": 20,
   "metadata": {},
   "outputs": [
    {
     "name": "stdout",
     "output_type": "stream",
     "text": [
      "HTTP/1.1 200 OK\r",
      "\r\n",
      "\u001b[1mContent-Type\u001b[0m: application/json\r",
      "\r\n",
      "\u001b[1mContent-Length\u001b[0m: 3\r",
      "\r\n",
      "\u001b[1mConnection\u001b[0m: keep-alive\r",
      "\r\n",
      "\u001b[1mDate\u001b[0m: Tue, 26 Nov 2019 21:03:55 GMT\r",
      "\r\n",
      "\u001b[1mx-amzn-RequestId\u001b[0m: c4749fd5-2dbe-465a-8f9d-74c508a8b129\r",
      "\r\n",
      "\u001b[1mx-amz-apigw-id\u001b[0m: DyPwQGJ_vHcF23Q=\r",
      "\r\n",
      "\u001b[1mX-Amzn-Trace-Id\u001b[0m: Root=1-5ddd9334-47ad06f15c2aa463d70c7c08;Sampled=0\r",
      "\r\n",
      "\u001b[1mX-Cache\u001b[0m: Miss from cloudfront\r",
      "\r\n",
      "\u001b[1mVia\u001b[0m: 1.1 41a1988bf0eebd2eb412a5ab1f1f394e.cloudfront.net (CloudFront)\r",
      "\r\n",
      "\u001b[1mX-Amz-Cf-Pop\u001b[0m: SFO5-C3\r",
      "\r\n",
      "\u001b[1mX-Amz-Cf-Id\u001b[0m: uEHdji6unhMnQ7jFF46ib-bc1OQcYiAVpx8WvXwug4Q_FdpLBQmnWA==\r",
      "\r\n",
      "\r",
      "\r\n",
      "[0]"
     ]
    }
   ],
   "source": [
    "!curl -i \\\n",
    "--header \"Content-Type: application/json\" \\\n",
    "--request POST \\\n",
    "--data '[[5.1, 3.5, 1.4, 0.2]]' \\\n",
    "https://apcjn5h648.execute-api.us-west-2.amazonaws.com/Prod/predict"
   ]
  },
  {
   "cell_type": "markdown",
   "metadata": {},
   "source": [
    "And to delete an active deployment:"
   ]
  },
  {
   "cell_type": "code",
   "execution_count": 21,
   "metadata": {},
   "outputs": [
    {
     "name": "stdout",
     "output_type": "stream",
     "text": [
      "\u001b[32mSuccessfully deleted deployment \"quick-start-guide-deployment\"\u001b[0m\r\n"
     ]
    }
   ],
   "source": [
    "!bentoml deployment delete quick-start-guide-deployment"
   ]
  },
  {
   "cell_type": "markdown",
   "metadata": {},
   "source": [
    "BentoML by default stores the deployment metadata on the local machine. For team settings, we recommend hosting a shared BentoML Yatai server for your entire team to track all BentoService saved bundle and deployments they've created in a central place."
   ]
  },
  {
   "cell_type": "markdown",
   "metadata": {},
   "source": [
    "# Summary\n",
    "\n",
    "This is what it looks like when using BentoML to serve and deploy a model, as a prediction service running in the cloud. BentoML also supports many other Machine Learning frameworks, as well as many other deployment platforms. You can find more BentoML example notebooks [here](https://github.com/bentoml/BentoML#examples)."
   ]
  }
 ],
 "metadata": {
  "kernelspec": {
   "display_name": "Python 3",
   "language": "python",
   "name": "python3"
  },
  "language_info": {
   "codemirror_mode": {
    "name": "ipython",
    "version": 3
   },
   "file_extension": ".py",
   "mimetype": "text/x-python",
   "name": "python",
   "nbconvert_exporter": "python",
   "pygments_lexer": "ipython3",
   "version": "3.7.3"
  }
 },
 "nbformat": 4,
 "nbformat_minor": 2
}
