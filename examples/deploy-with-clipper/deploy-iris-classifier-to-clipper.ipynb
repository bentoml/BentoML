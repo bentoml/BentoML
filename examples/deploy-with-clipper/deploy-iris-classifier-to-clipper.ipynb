{
 "cells": [
  {
   "cell_type": "markdown",
   "metadata": {},
   "source": [
    "# Deploying Iris Classifier to Clipper cluster\n",
    "\n",
    "In this example, we will train an classifier with SK learn and deploy it to local clipper cluster.\n",
    "![Impression](https://www.google-analytics.com/collect?v=1&tid=UA-112879361-3&cid=555&t=event&ec=nb&ea=open&el=official-example&dt=bentoml-clipper-deployment)"
   ]
  },
  {
   "cell_type": "markdown",
   "metadata": {},
   "source": [
    "### Import required packages"
   ]
  },
  {
   "cell_type": "code",
   "execution_count": null,
   "metadata": {},
   "outputs": [],
   "source": [
    "!pip install bentoml\n",
    "!pip install pandas sklearn\n",
    "!pip install clipper_admin"
   ]
  },
  {
   "cell_type": "markdown",
   "metadata": {},
   "source": [
    "### Train iris classifier"
   ]
  },
  {
   "cell_type": "code",
   "execution_count": null,
   "metadata": {},
   "outputs": [],
   "source": [
    "from sklearn import svm\n",
    "from sklearn import datasets\n",
    "\n",
    "clf = svm.SVC()\n",
    "iris = datasets.load_iris()\n",
    "X, y = iris.data, iris.target\n",
    "clf.fit(X, y)"
   ]
  },
  {
   "cell_type": "markdown",
   "metadata": {},
   "source": [
    "### Save trained model as BentoML service archive"
   ]
  },
  {
   "cell_type": "code",
   "execution_count": null,
   "metadata": {},
   "outputs": [],
   "source": [
    "%%writefile iris_classifier.py\n",
    "from bentoml import BentoService, api, env, artifacts\n",
    "from bentoml.artifact import PickleArtifact\n",
    "from bentoml.handlers import DataframeHandler\n",
    "\n",
    "# You can also import your own python module here and BentoML will automatically\n",
    "# figure out the dependency chain and package all those python modules\n",
    "\n",
    "@artifacts([PickleArtifact('model')])\n",
    "@env(conda_pip_dependencies=[\"scikit-learn\"])\n",
    "class IrisClassifier(BentoService):\n",
    "\n",
    "    @api(DataframeHandler)\n",
    "    def predict(self, df):\n",
    "        # arbitrary preprocessing or feature fetching code can be placed here \n",
    "        return self.artifacts.model.predict(df)"
   ]
  },
  {
   "cell_type": "code",
   "execution_count": null,
   "metadata": {},
   "outputs": [],
   "source": [
    "# 1) import the custom BentoService defined above\n",
    "from iris_classifier import IrisClassifier\n",
    "\n",
    "# 2) `pack` it with required artifacts\n",
    "svc = IrisClassifier.pack(model=clf)\n",
    "\n",
    "# 3) save packed BentoService as archive\n",
    "saved_path = svc.save('/tmp/bentoml_archive')\n",
    "\n",
    "# archive will be saved to:\n",
    "print(saved_path)"
   ]
  },
  {
   "cell_type": "markdown",
   "metadata": {},
   "source": [
    "# Deploy to Clipper cluster"
   ]
  },
  {
   "cell_type": "code",
   "execution_count": null,
   "metadata": {},
   "outputs": [],
   "source": [
    "from clipper_admin import ClipperConnection, DockerContainerManager\n",
    "from bentoml.deployment.clipper import deploy_bentoml\n",
    "\n",
    "# Create clipper cluster connection\n",
    "clipper_conn = ClipperConnection(DockerContainerManager())\n",
    "\n",
    "# BentoML will deploy the BentoService archive as model to the clipper cluster\n",
    "model_name, model_version = deploy_bentoml(clipper_conn, saved_path, api_name)\n",
    "\n",
    "app_name = 'iris-classifier'\n",
    "\n",
    "# Register a new application on the clipper cluster.  Application is an REST endpoint that expose\n",
    "# to outside of the cluster.\n",
    "app = clipper_conn.register_application(\n",
    "    name=app_name,\n",
    "    input_type='strings',\n",
    "    default_output='default result',\n",
    "    slo_micros=100000\n",
    ")\n",
    "\n",
    "# Linking the deployed model with registered application on clipper cluster\n",
    "linked = clipper_conn.link_model_to_app(app_name, model_name)\n"
   ]
  },
  {
   "cell_type": "markdown",
   "metadata": {},
   "source": [
    "### Make request to iris-classifier app\n",
    "\n",
    "We are going to make a simple POST request to the clipper cluster and getting back prediction result."
   ]
  },
  {
   "cell_type": "code",
   "execution_count": null,
   "metadata": {},
   "outputs": [],
   "source": [
    "import json\n",
    "import requests\n",
    "from datetime import datetime\n",
    "\n",
    "url = 'http://%s/test_app/predict' % clipper_conn.get_query_addr()\n",
    "\n",
    "x = '[[5.0, 4.3, 1.2, 4.9]]'\n",
    "req_json = json.dumps({'input': x})\n",
    "headers = {'Content-type': 'application/json'}\n",
    "print('Requesting prediction to clipper cluster')\n",
    "start = datetime.now()\n",
    "r = requests.post(url, headers=headers, data=req_json)\n",
    "end = datetime.now()\n",
    "latency = (end - start).total_seconds() * 1000.0\n",
    "print(\"'%s', %f ms\" % (r.text, latency))"
   ]
  },
  {
   "cell_type": "markdown",
   "metadata": {},
   "source": [
    "### Clean up Clipper deployment"
   ]
  },
  {
   "cell_type": "code",
   "execution_count": null,
   "metadata": {},
   "outputs": [],
   "source": [
    "clipper_conn.stop_all()"
   ]
  }
 ],
 "metadata": {
  "kernelspec": {
   "display_name": "Python 3",
   "language": "python",
   "name": "python3"
  },
  "language_info": {
   "codemirror_mode": {
    "name": "ipython",
    "version": 3
   },
   "file_extension": ".py",
   "mimetype": "text/x-python",
   "name": "python",
   "nbconvert_exporter": "python",
   "pygments_lexer": "ipython3",
   "version": "3.6.4"
  }
 },
 "nbformat": 4,
 "nbformat_minor": 2
}
