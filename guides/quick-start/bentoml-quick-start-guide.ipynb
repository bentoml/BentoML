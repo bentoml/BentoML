{
 "cells": [
  {
   "cell_type": "markdown",
   "metadata": {},
   "source": [
    "# Getting Started with BentoML\n",
    "\n",
    "[BentoML](http://bentoml.ai) is an open source framework for serving and deploying machine learning models. It provides high-level APIs for defining a prediction service and packaging trained models, source code, dependencies, and configurations into a production-system-friendly format that is ready for production deployment.\n",
    "\n",
    "This is a quick tutorial on how to use BentoML to create a prediction service with a trained sklearn model, serving the model via a REST API server and deploy it to [AWS Lambda](https://aws.amazon.com/lambda/) as a serverless endpoint.\n",
    "\n",
    "![Impression](https://www.google-analytics.com/collect?v=1&tid=UA-112879361-3&cid=555&t=event&ec=guides&ea=bentoml-quick-start-guide&dt=bentoml-quick-start-guide)"
   ]
  },
  {
   "cell_type": "code",
   "execution_count": 1,
   "metadata": {},
   "outputs": [],
   "source": [
    "%reload_ext autoreload\n",
    "%autoreload 2\n",
    "%matplotlib inline"
   ]
  },
  {
   "cell_type": "markdown",
   "metadata": {},
   "source": [
    "BentoML requires python 3.6 or above, install via `pip`:"
   ]
  },
  {
   "cell_type": "code",
   "execution_count": null,
   "metadata": {},
   "outputs": [],
   "source": [
    "# Install BentoML\n",
    "!pip install bentoml\n",
    "\n",
    "# Also install scikit-learn, we will use a sklean model as an example\n",
    "!pip install pandas sklearn"
   ]
  },
  {
   "cell_type": "markdown",
   "metadata": {},
   "source": [
    "Let's get started with a simple scikit-learn model as an example:"
   ]
  },
  {
   "cell_type": "code",
   "execution_count": 3,
   "metadata": {},
   "outputs": [
    {
     "data": {
      "text/plain": [
       "SVC(C=1.0, break_ties=False, cache_size=200, class_weight=None, coef0=0.0,\n",
       "    decision_function_shape='ovr', degree=3, gamma='scale', kernel='rbf',\n",
       "    max_iter=-1, probability=False, random_state=None, shrinking=True,\n",
       "    tol=0.001, verbose=False)"
      ]
     },
     "execution_count": 3,
     "metadata": {},
     "output_type": "execute_result"
    }
   ],
   "source": [
    "from sklearn import svm\n",
    "from sklearn import datasets\n",
    "\n",
    "clf = svm.SVC(gamma='scale')\n",
    "iris = datasets.load_iris()\n",
    "X, y = iris.data, iris.target\n",
    "clf.fit(X, y)"
   ]
  },
  {
   "cell_type": "markdown",
   "metadata": {},
   "source": [
    "## Creating a Prediction Service with BentoML\n",
    "\n",
    "\n",
    "The first step of creating a prediction service with BentoML, is to write a prediction service class inheriting from bentoml.BentoService, and declaratively listing the dependencies, model artifacts and writing your service API call back function. Here is what a simple prediction service looks like:"
   ]
  },
  {
   "cell_type": "code",
   "execution_count": 4,
   "metadata": {},
   "outputs": [
    {
     "name": "stdout",
     "output_type": "stream",
     "text": [
      "Overwriting iris_classifier.py\n"
     ]
    }
   ],
   "source": [
    "%%writefile iris_classifier.py\n",
    "from bentoml import BentoService, api, env, artifacts\n",
    "from bentoml.artifact import SklearnModelArtifact\n",
    "from bentoml.handlers import DataframeHandler\n",
    "\n",
    "@artifacts([SklearnModelArtifact('model')])\n",
    "@env(auto_pip_dependencies=True)\n",
    "class IrisClassifier(BentoService):\n",
    "\n",
    "    @api(DataframeHandler)\n",
    "    def predict(self, df):\n",
    "        return self.artifacts.model.predict(df)"
   ]
  },
  {
   "cell_type": "markdown",
   "metadata": {},
   "source": [
    "The `bentoml.api` and `DataframeHandler` here tells BentoML, that following by it, is\n",
    "the service API callback function, and `pandas.Dataframe` is its expected input format.\n",
    "\n",
    "The `bentoml.env` decorator allows user to specify the dependencies and environment \n",
    "settings for this prediction service. Here we are using BentoML's\n",
    "`auto_pip_dependencies` fature which automatically extracts and bundles all pip\n",
    "packages that are required for your prediction service and pins down their version.\n",
    "\n",
    "\n",
    "Last but not least, `bentoml.artifact` declares the required trained model to be bundled\n",
    "with this prediction service. Here it is using the built-in `SklearnModelArtifact` and\n",
    "simply naming it 'model'. BentoML also provide model artifact for other frameworks such\n",
    "as `PytorchModelArtifact`, `KerasModelArtifact`, `FastaiModelArtifact`, and\n",
    "`XgboostModelArtifact` etc.\n",
    "\n",
    "\n",
    "## Saving a versioned BentoService bundle"
   ]
  },
  {
   "cell_type": "code",
   "execution_count": 5,
   "metadata": {},
   "outputs": [
    {
     "name": "stdout",
     "output_type": "stream",
     "text": [
      "[2020-03-04 14:34:22,117] INFO - BentoService bundle 'IrisClassifier:20200304143410_CD5F13' created at: /private/var/folders/7p/y_934t3s4yg8fx595vr28gym0000gn/T/bentoml-temp-zl7q9oqc\n",
      "[2020-03-04 14:34:22,168] INFO - BentoService bundle 'IrisClassifier:20200304143410_CD5F13' saved to: /Users/chaoyu/bentoml/repository/IrisClassifier/20200304143410_CD5F13\n"
     ]
    }
   ],
   "source": [
    "# 1) import the custom BentoService defined above\n",
    "from iris_classifier import IrisClassifier\n",
    "\n",
    "# 2) `pack` it with required artifacts\n",
    "svc = IrisClassifier()\n",
    "svc.pack('model', clf)\n",
    "\n",
    "# 3) save BentoSerivce to a BentoML bundle\n",
    "saved_path = svc.save()"
   ]
  },
  {
   "cell_type": "markdown",
   "metadata": {},
   "source": [
    "_That's it._ You've just created a BentoService SavedBundle, it's a versioned file archive that is ready for production deployment. It contains the BentoService you defined, as well as the packed trained model artifacts, pre-processing code, dependencies and other configurations in a single file directory."
   ]
  },
  {
   "cell_type": "markdown",
   "metadata": {},
   "source": [
    "## Model Serving via REST API\n",
    "\n",
    "From a BentoService SavedBundle, you can start a REST API server by providing the file path to the saved bundle:"
   ]
  },
  {
   "cell_type": "code",
   "execution_count": 6,
   "metadata": {
    "scrolled": false
   },
   "outputs": [
    {
     "name": "stdout",
     "output_type": "stream",
     "text": [
      "[2020-03-04 14:34:23,800] INFO - Getting latest version IrisClassifier:20200304143410_CD5F13\n",
      " * Serving Flask app \"IrisClassifier\" (lazy loading)\n",
      " * Environment: production\n",
      "\u001b[31m   WARNING: This is a development server. Do not use it in a production deployment.\u001b[0m\n",
      "\u001b[2m   Use a production WSGI server instead.\u001b[0m\n",
      " * Debug mode: off\n",
      " * Running on http://127.0.0.1:5000/ (Press CTRL+C to quit)\n",
      "127.0.0.1 - - [04/Mar/2020 14:34:45] \"\u001b[37mGET / HTTP/1.1\u001b[0m\" 200 -\n",
      "127.0.0.1 - - [04/Mar/2020 14:34:46] \"\u001b[37mGET /docs.json HTTP/1.1\u001b[0m\" 200 -\n",
      "127.0.0.1 - - [04/Mar/2020 14:35:02] \"\u001b[37mPOST /predict HTTP/1.1\u001b[0m\" 200 -\n",
      "^C\n"
     ]
    }
   ],
   "source": [
    "# Note that REST API serving **does not work in Google Colab** due to unable to access Colab's VM\n",
    "!bentoml serve IrisClassifier:latest"
   ]
  },
  {
   "cell_type": "markdown",
   "metadata": {},
   "source": [
    "#### View documentations for REST APIs\n",
    "\n",
    "The REST API server provides a simply web UI for you to test and debug. If you are running this command on your local machine, visit http://127.0.0.1:5000 in your browser and try out sending API request to the server."
   ]
  },
  {
   "cell_type": "markdown",
   "metadata": {},
   "source": [
    "![BentoML API Server Web UI Screenshot](https://raw.githubusercontent.com/bentoml/BentoML/master/guides/quick-start/bento-api-server-web-ui.png)"
   ]
  },
  {
   "cell_type": "markdown",
   "metadata": {},
   "source": [
    "#### Send prediction request to REST API server\n",
    "\n",
    "You can also send prediction request with `curl` from command line:\n",
    "\n",
    "```bash\n",
    "curl -i \\\n",
    "--header \"Content-Type: application/json\" \\\n",
    "--request POST \\\n",
    "--data '[[5.1, 3.5, 1.4, 0.2]]' \\\n",
    "localhost:5000/predict\n",
    "```\n",
    "\n",
    "Or with `python` and `request` library:\n",
    "```python\n",
    "import requests\n",
    "response = requests.post(\"http://127.0.0.1:5000/predict\", json=[[5.1, 3.5, 1.4, 0.2]])\n",
    "print(response.text)\n",
    "```\n",
    "\n",
    "\n",
    "\n",
    "## Containerize REST API server with Docker\n",
    "\n",
    "\n",
    "The BentoService SavedBundle is structured to work as a docker build context, that can\n",
    "be directed used to build a docker image for API server. Simply use it as the docker\n",
    "build context directory:\n",
    "\n",
    "Note that the `{saved_path}` in the following commands are referring to the returned value of `iris_classifier_service.save()`. It is the file path where the BentoService saved bundle is stored. You can also find it via `bentoml get IrisClassifier -o wide` command."
   ]
  },
  {
   "cell_type": "code",
   "execution_count": 9,
   "metadata": {},
   "outputs": [
    {
     "name": "stdout",
     "output_type": "stream",
     "text": [
      "Sending build context to Docker daemon  25.09kB\n",
      "Step 1/15 : FROM continuumio/miniconda3:4.7.12\n",
      " ---> 406f2b43ea59\n",
      "Step 2/15 : ENTRYPOINT [ \"/bin/bash\", \"-c\" ]\n",
      " ---> Using cache\n",
      " ---> a0c8b09d3f8f\n",
      "Step 3/15 : EXPOSE 5000\n",
      " ---> Using cache\n",
      " ---> 063ef48adef5\n",
      "Step 4/15 : RUN set -x      && apt-get update      && apt-get install --no-install-recommends --no-install-suggests -y libpq-dev build-essential      && rm -rf /var/lib/apt/lists/*\n",
      " ---> Using cache\n",
      " ---> 70e7d2f54f64\n",
      "Step 5/15 : RUN conda install pip numpy scipy       && pip install gunicorn\n",
      " ---> Using cache\n",
      " ---> 00d7e233a814\n",
      "Step 6/15 : COPY . /bento\n",
      " ---> 7c1fde4f46e8\n",
      "Step 7/15 : WORKDIR /bento\n",
      " ---> Running in edb077d6e9c0\n",
      "Removing intermediate container edb077d6e9c0\n",
      " ---> f678b421fd97\n",
      "Step 8/15 : RUN if [ -f /bento/setup.sh ]; then /bin/bash -c /bento/setup.sh; fi\n",
      " ---> Running in a788f948226e\n",
      "Removing intermediate container a788f948226e\n",
      " ---> 8a5f199ea354\n",
      "Step 9/15 : RUN conda env update -n base -f /bento/environment.yml\n",
      " ---> Running in 460646d032eb\n",
      "Collecting package metadata (repodata.json): ...working... done\n",
      "Solving environment: ...working... done\n",
      "\n",
      "Downloading and Extracting Packages\n",
      "sqlite-3.31.1        | 1.1 MB    | ########## | 100% \n",
      "ca-certificates-2020 | 125 KB    | ########## | 100% \n",
      "python-3.7.5         | 32.2 MB   | ########## | 100% \n",
      "openssl-1.1.1d       | 2.5 MB    | ########## | 100% \n",
      "pip-20.0.2           | 1.7 MB    | ########## | 100% \n",
      "Preparing transaction: ...working... done\n",
      "Verifying transaction: ...working... done\n",
      "Executing transaction: ...working... done\n",
      "\u001b[91m\n",
      "\n",
      "==> WARNING: A newer version of conda exists. <==\n",
      "  current version: 4.8.1\n",
      "  latest version: 4.8.2\n",
      "\n",
      "Please update conda by running\n",
      "\n",
      "    $ conda update -n base -c defaults conda\n",
      "\n",
      "\n",
      "\u001b[0m#\n",
      "# To activate this environment, use\n",
      "#\n",
      "#     $ conda activate base\n",
      "#\n",
      "# To deactivate an active environment, use\n",
      "#\n",
      "#     $ conda deactivate\n",
      "\n",
      "Removing intermediate container 460646d032eb\n",
      " ---> 0b29742b8b4f\n",
      "Step 10/15 : ARG PIP_TRUSTED_HOST\n",
      " ---> Running in 0a6290c37ddc\n",
      "Removing intermediate container 0a6290c37ddc\n",
      " ---> 1feac2c5c0ad\n",
      "Step 11/15 : ARG PIP_INDEX_URL\n",
      " ---> Running in fc0a46fd6963\n",
      "Removing intermediate container fc0a46fd6963\n",
      " ---> 451d19a65c51\n",
      "Step 12/15 : RUN pip install -r /bento/requirements.txt\n",
      " ---> Running in 0441ae845040\n",
      "Collecting bentoml==0.6.2\n",
      "  Downloading BentoML-0.6.2-py3-none-any.whl (554 kB)\n",
      "Collecting scikit-learn\n",
      "  Downloading scikit_learn-0.22.2.post1-cp37-cp37m-manylinux1_x86_64.whl (7.1 MB)\n",
      "Collecting boto3\n",
      "  Downloading boto3-1.12.14-py2.py3-none-any.whl (128 kB)\n",
      "Collecting packaging\n",
      "  Downloading packaging-20.1-py2.py3-none-any.whl (36 kB)\n",
      "Collecting ruamel.yaml>=0.15.0\n",
      "  Downloading ruamel.yaml-0.16.10-py2.py3-none-any.whl (111 kB)\n",
      "Collecting python-json-logger\n",
      "  Downloading python-json-logger-0.1.11.tar.gz (6.0 kB)\n",
      "Collecting configparser\n",
      "  Downloading configparser-4.0.2-py2.py3-none-any.whl (22 kB)\n",
      "Collecting sqlalchemy>=1.3.0\n",
      "  Downloading SQLAlchemy-1.3.13.tar.gz (6.0 MB)\n",
      "Collecting click>=7.0\n",
      "  Downloading Click-7.0-py2.py3-none-any.whl (81 kB)\n",
      "Requirement already satisfied: requests in /opt/conda/lib/python3.7/site-packages (from bentoml==0.6.2->-r /bento/requirements.txt (line 1)) (2.22.0)\n",
      "Collecting python-dateutil<2.8.1,>=2.1\n",
      "  Downloading python_dateutil-2.8.0-py2.py3-none-any.whl (226 kB)\n",
      "Collecting flask\n",
      "  Downloading Flask-1.1.1-py2.py3-none-any.whl (94 kB)\n",
      "Collecting alembic\n",
      "  Downloading alembic-1.4.1.tar.gz (1.1 MB)\n",
      "Collecting pandas\n",
      "  Downloading pandas-1.0.1-cp37-cp37m-manylinux1_x86_64.whl (10.1 MB)\n",
      "Collecting tabulate\n",
      "  Downloading tabulate-0.8.6.tar.gz (45 kB)\n",
      "Requirement already satisfied: gunicorn in /opt/conda/lib/python3.7/site-packages (from bentoml==0.6.2->-r /bento/requirements.txt (line 1)) (20.0.4)\n",
      "Collecting protobuf>=3.6.0\n",
      "  Downloading protobuf-3.11.3-cp37-cp37m-manylinux1_x86_64.whl (1.3 MB)\n",
      "Collecting humanfriendly\n",
      "  Downloading humanfriendly-8.0-py2.py3-none-any.whl (83 kB)\n",
      "Collecting prometheus-client\n",
      "  Downloading prometheus_client-0.7.1.tar.gz (38 kB)\n",
      "Collecting cerberus\n",
      "  Downloading Cerberus-1.3.2.tar.gz (52 kB)\n",
      "Collecting grpcio\n",
      "  Downloading grpcio-1.27.2-cp37-cp37m-manylinux2010_x86_64.whl (2.7 MB)\n",
      "Requirement already satisfied: numpy in /opt/conda/lib/python3.7/site-packages (from bentoml==0.6.2->-r /bento/requirements.txt (line 1)) (1.18.1)\n",
      "Collecting docker\n",
      "  Downloading docker-4.2.0-py2.py3-none-any.whl (143 kB)\n",
      "Collecting joblib>=0.11\n",
      "  Downloading joblib-0.14.1-py2.py3-none-any.whl (294 kB)\n",
      "Requirement already satisfied: scipy>=0.17.0 in /opt/conda/lib/python3.7/site-packages (from scikit-learn->-r /bento/requirements.txt (line 2)) (1.3.2)\n",
      "Collecting botocore<1.16.0,>=1.15.14\n",
      "  Downloading botocore-1.15.14-py2.py3-none-any.whl (5.9 MB)\n",
      "Collecting jmespath<1.0.0,>=0.7.1\n",
      "  Downloading jmespath-0.9.5-py2.py3-none-any.whl (24 kB)\n",
      "Collecting s3transfer<0.4.0,>=0.3.0\n",
      "  Downloading s3transfer-0.3.3-py2.py3-none-any.whl (69 kB)\n",
      "Requirement already satisfied: six in /opt/conda/lib/python3.7/site-packages (from packaging->bentoml==0.6.2->-r /bento/requirements.txt (line 1)) (1.12.0)\n",
      "Collecting pyparsing>=2.0.2\n",
      "  Downloading pyparsing-2.4.6-py2.py3-none-any.whl (67 kB)\n",
      "Collecting ruamel.yaml.clib>=0.1.2; platform_python_implementation == \"CPython\" and python_version < \"3.9\"\n",
      "  Downloading ruamel.yaml.clib-0.2.0-cp37-cp37m-manylinux1_x86_64.whl (547 kB)\n",
      "Requirement already satisfied: idna<2.9,>=2.5 in /opt/conda/lib/python3.7/site-packages (from requests->bentoml==0.6.2->-r /bento/requirements.txt (line 1)) (2.8)\n",
      "Requirement already satisfied: urllib3!=1.25.0,!=1.25.1,<1.26,>=1.21.1 in /opt/conda/lib/python3.7/site-packages (from requests->bentoml==0.6.2->-r /bento/requirements.txt (line 1)) (1.24.2)\n",
      "Requirement already satisfied: chardet<3.1.0,>=3.0.2 in /opt/conda/lib/python3.7/site-packages (from requests->bentoml==0.6.2->-r /bento/requirements.txt (line 1)) (3.0.4)\n",
      "Requirement already satisfied: certifi>=2017.4.17 in /opt/conda/lib/python3.7/site-packages (from requests->bentoml==0.6.2->-r /bento/requirements.txt (line 1)) (2019.11.28)\n",
      "Collecting Werkzeug>=0.15\n",
      "  Downloading Werkzeug-1.0.0-py2.py3-none-any.whl (298 kB)\n",
      "Collecting itsdangerous>=0.24\n",
      "  Downloading itsdangerous-1.1.0-py2.py3-none-any.whl (16 kB)\n",
      "Collecting Jinja2>=2.10.1\n",
      "  Downloading Jinja2-2.11.1-py2.py3-none-any.whl (126 kB)\n",
      "Collecting Mako\n",
      "  Downloading Mako-1.1.2-py2.py3-none-any.whl (75 kB)\n",
      "Collecting python-editor>=0.3\n",
      "  Downloading python_editor-1.0.4-py3-none-any.whl (4.9 kB)\n",
      "Collecting pytz>=2017.2\n",
      "  Downloading pytz-2019.3-py2.py3-none-any.whl (509 kB)\n",
      "Requirement already satisfied: setuptools>=3.0 in /opt/conda/lib/python3.7/site-packages (from gunicorn->bentoml==0.6.2->-r /bento/requirements.txt (line 1)) (41.4.0)\n",
      "Collecting websocket-client>=0.32.0\n",
      "  Downloading websocket_client-0.57.0-py2.py3-none-any.whl (200 kB)\n",
      "Collecting docutils<0.16,>=0.10\n",
      "  Downloading docutils-0.15.2-py3-none-any.whl (547 kB)\n",
      "Collecting MarkupSafe>=0.23\n",
      "  Downloading MarkupSafe-1.1.1-cp37-cp37m-manylinux1_x86_64.whl (27 kB)\n",
      "Building wheels for collected packages: python-json-logger, sqlalchemy, alembic, tabulate, prometheus-client, cerberus\n",
      "  Building wheel for python-json-logger (setup.py): started\n",
      "  Building wheel for python-json-logger (setup.py): finished with status 'done'\n",
      "  Created wheel for python-json-logger: filename=python_json_logger-0.1.11-py2.py3-none-any.whl size=5076 sha256=b8c888daefdf7b7e15bc48642d945f8a092724c5e6674ce6a7efa3585b4de840\n",
      "  Stored in directory: /root/.cache/pip/wheels/fa/7f/fd/92ccdbb9d1a65486406e0363d2ba5b4ce52f400a915f602ecb\n",
      "  Building wheel for sqlalchemy (setup.py): started\n",
      "  Building wheel for sqlalchemy (setup.py): finished with status 'done'\n",
      "  Created wheel for sqlalchemy: filename=SQLAlchemy-1.3.13-cp37-cp37m-linux_x86_64.whl size=1223722 sha256=84add913c5d830b465e1d9b20b38042c8ac0b0dd5e5a08af42827e565d5877fb\n",
      "  Stored in directory: /root/.cache/pip/wheels/b9/ba/77/163f10f14bd489351530603e750c195b0ceceed2f3be2b32f1\n",
      "  Building wheel for alembic (setup.py): started\n",
      "  Building wheel for alembic (setup.py): finished with status 'done'\n",
      "  Created wheel for alembic: filename=alembic-1.4.1-py2.py3-none-any.whl size=158155 sha256=bc957983689045fae0ab4ac7e3b1d6ea3b2494494622d4162e8d46fe0c2e3852\n",
      "  Stored in directory: /root/.cache/pip/wheels/be/5d/0a/9e13f53f4f5dfb67cd8d245bb7cdffe12f135846f491a283e3\n",
      "  Building wheel for tabulate (setup.py): started\n"
     ]
    },
    {
     "name": "stdout",
     "output_type": "stream",
     "text": [
      "  Building wheel for tabulate (setup.py): finished with status 'done'\n",
      "  Created wheel for tabulate: filename=tabulate-0.8.6-py3-none-any.whl size=23273 sha256=13b63e3a10264088dad2a612b67f1553aa52f415da8775fe4d9ac746cc467bbb\n",
      "  Stored in directory: /root/.cache/pip/wheels/09/b6/7e/08b4ee715a1239453e89a59081f0ac369a9036f232e013ecd8\n",
      "  Building wheel for prometheus-client (setup.py): started\n",
      "  Building wheel for prometheus-client (setup.py): finished with status 'done'\n",
      "  Created wheel for prometheus-client: filename=prometheus_client-0.7.1-py3-none-any.whl size=41402 sha256=125eec2540966c2d1333ed39ddd02ed20a41efd5e1a6bb69c57b693c725627cf\n",
      "  Stored in directory: /root/.cache/pip/wheels/30/0c/26/59ba285bf65dc79d195e9b25e2ddde4c61070422729b0cd914\n",
      "  Building wheel for cerberus (setup.py): started\n",
      "  Building wheel for cerberus (setup.py): finished with status 'done'\n",
      "  Created wheel for cerberus: filename=Cerberus-1.3.2-py3-none-any.whl size=54335 sha256=79d57670972b9611bf0a1c43ddfe3b01e90cc61a4773d95b0b3c48b465f297b8\n",
      "  Stored in directory: /root/.cache/pip/wheels/17/3a/0d/e2fc48cf85cb858f5e65f1baa36180ebb5dce6397c35c4cfcb\n",
      "Successfully built python-json-logger sqlalchemy alembic tabulate prometheus-client cerberus\n",
      "Installing collected packages: jmespath, docutils, python-dateutil, botocore, s3transfer, boto3, pyparsing, packaging, ruamel.yaml.clib, ruamel.yaml, python-json-logger, configparser, sqlalchemy, click, Werkzeug, itsdangerous, MarkupSafe, Jinja2, flask, Mako, python-editor, alembic, pytz, pandas, tabulate, protobuf, humanfriendly, prometheus-client, cerberus, grpcio, websocket-client, docker, bentoml, joblib, scikit-learn\n",
      "Successfully installed Jinja2-2.11.1 Mako-1.1.2 MarkupSafe-1.1.1 Werkzeug-1.0.0 alembic-1.4.1 bentoml-0.6.2 boto3-1.12.14 botocore-1.15.14 cerberus-1.3.2 click-7.0 configparser-4.0.2 docker-4.2.0 docutils-0.15.2 flask-1.1.1 grpcio-1.27.2 humanfriendly-8.0 itsdangerous-1.1.0 jmespath-0.9.5 joblib-0.14.1 packaging-20.1 pandas-1.0.1 prometheus-client-0.7.1 protobuf-3.11.3 pyparsing-2.4.6 python-dateutil-2.8.0 python-editor-1.0.4 python-json-logger-0.1.11 pytz-2019.3 ruamel.yaml-0.16.10 ruamel.yaml.clib-0.2.0 s3transfer-0.3.3 scikit-learn-0.22.2.post1 sqlalchemy-1.3.13 tabulate-0.8.6 websocket-client-0.57.0\n",
      "Removing intermediate container 0441ae845040\n",
      " ---> 91bcf5e76a7c\n",
      "Step 13/15 : RUN if [ -f /bento/bentoml_init.sh ]; then /bin/bash -c /bento/bentoml_init.sh; fi\n",
      " ---> Running in 99c0d12d2de4\n",
      "Removing intermediate container 99c0d12d2de4\n",
      " ---> b5ca3f9b58d6\n",
      "Step 14/15 : ENV FLAGS=\"\"\n",
      " ---> Running in 4e0718f834b7\n",
      "Removing intermediate container 4e0718f834b7\n",
      " ---> 9df15fda2bec\n",
      "Step 15/15 : CMD [\"bentoml serve-gunicorn /bento $FLAGS\"]\n",
      " ---> Running in 43667fe16297\n",
      "Removing intermediate container 43667fe16297\n",
      " ---> 52693bdcd7f4\n",
      "Successfully built 52693bdcd7f4\n",
      "Successfully tagged iris-classifier:latest\n"
     ]
    }
   ],
   "source": [
    "!cd {saved_path} && docker build -t iris-classifier ."
   ]
  },
  {
   "cell_type": "markdown",
   "metadata": {},
   "source": [
    "Note that `docker` is __note available in Google Colab__, download the notebook, ensure docker is installed and try it locally.\n",
    "\n",
    "Next, you can `docker push` the image to your choice of registry for deployment,\n",
    "or run it locally for development and testing:"
   ]
  },
  {
   "cell_type": "code",
   "execution_count": null,
   "metadata": {},
   "outputs": [],
   "source": [
    "!docker run -p 5000:5000 iris-classifier:latest"
   ]
  },
  {
   "cell_type": "markdown",
   "metadata": {},
   "source": [
    "## Load saved BentoService\n",
    "\n",
    "`bentoml.load` is the enssential API for loading a Bento into your\n",
    "python application:"
   ]
  },
  {
   "cell_type": "code",
   "execution_count": 11,
   "metadata": {},
   "outputs": [
    {
     "name": "stdout",
     "output_type": "stream",
     "text": [
      "[2020-03-04 14:48:03,159] WARNING - Module `iris_classifier` already loaded, using existing imported module.\n"
     ]
    },
    {
     "data": {
      "text/plain": [
       "memmap([0])"
      ]
     },
     "execution_count": 11,
     "metadata": {},
     "output_type": "execute_result"
    }
   ],
   "source": [
    "import bentoml\n",
    "import pandas as pd\n",
    "\n",
    "bento_svc = bentoml.load(saved_path)\n",
    "\n",
    "# Test loaded bentoml service:\n",
    "bento_svc.predict([X[0]])"
   ]
  },
  {
   "cell_type": "markdown",
   "metadata": {},
   "source": [
    "## Distribute BentoML SavedBundle as PyPI package\n",
    "\n",
    "\n",
    "The BentoService SavedBundle is pip-installable and can be directly distributed as a\n",
    "PyPI package if you plan to use the model in your python applications. You can install\n",
    "it as as a system-wide python package with `pip`:"
   ]
  },
  {
   "cell_type": "code",
   "execution_count": 12,
   "metadata": {},
   "outputs": [
    {
     "name": "stdout",
     "output_type": "stream",
     "text": [
      "Processing /Users/chaoyu/bentoml/repository/IrisClassifier/20200304143410_CD5F13\n",
      "Requirement already satisfied: bentoml==0.6.2 in /Users/chaoyu/workspace/BentoML (from IrisClassifier===20200304143410-CD5F13) (0.6.2+32.g1ee00b6.dirty)\n",
      "Requirement already satisfied: scikit-learn in /Users/chaoyu/opt/miniconda3/envs/btml-dev/lib/python3.7/site-packages (from IrisClassifier===20200304143410-CD5F13) (0.22)\n",
      "Requirement already satisfied: ruamel.yaml>=0.15.0 in /Users/chaoyu/opt/miniconda3/envs/btml-dev/lib/python3.7/site-packages (from bentoml==0.6.2->IrisClassifier===20200304143410-CD5F13) (0.16.5)\n",
      "Requirement already satisfied: numpy in /Users/chaoyu/opt/miniconda3/envs/btml-dev/lib/python3.7/site-packages (from bentoml==0.6.2->IrisClassifier===20200304143410-CD5F13) (1.16.4)\n",
      "Requirement already satisfied: flask in /Users/chaoyu/opt/miniconda3/envs/btml-dev/lib/python3.7/site-packages (from bentoml==0.6.2->IrisClassifier===20200304143410-CD5F13) (1.0.4)\n",
      "Requirement already satisfied: gunicorn in /Users/chaoyu/opt/miniconda3/envs/btml-dev/lib/python3.7/site-packages (from bentoml==0.6.2->IrisClassifier===20200304143410-CD5F13) (20.0.4)\n",
      "Requirement already satisfied: click>=7.0 in /Users/chaoyu/opt/miniconda3/envs/btml-dev/lib/python3.7/site-packages (from bentoml==0.6.2->IrisClassifier===20200304143410-CD5F13) (7.0)\n",
      "Requirement already satisfied: pandas in /Users/chaoyu/opt/miniconda3/envs/btml-dev/lib/python3.7/site-packages (from bentoml==0.6.2->IrisClassifier===20200304143410-CD5F13) (0.25.2)\n",
      "Requirement already satisfied: prometheus_client in /Users/chaoyu/opt/miniconda3/envs/btml-dev/lib/python3.7/site-packages (from bentoml==0.6.2->IrisClassifier===20200304143410-CD5F13) (0.7.1)\n",
      "Requirement already satisfied: python-json-logger in /Users/chaoyu/opt/miniconda3/envs/btml-dev/lib/python3.7/site-packages (from bentoml==0.6.2->IrisClassifier===20200304143410-CD5F13) (0.1.11)\n",
      "Requirement already satisfied: boto3 in /Users/chaoyu/opt/miniconda3/envs/btml-dev/lib/python3.7/site-packages (from bentoml==0.6.2->IrisClassifier===20200304143410-CD5F13) (1.10.37)\n",
      "Requirement already satisfied: requests in /Users/chaoyu/opt/miniconda3/envs/btml-dev/lib/python3.7/site-packages (from bentoml==0.6.2->IrisClassifier===20200304143410-CD5F13) (2.22.0)\n",
      "Requirement already satisfied: packaging in /Users/chaoyu/opt/miniconda3/envs/btml-dev/lib/python3.7/site-packages (from bentoml==0.6.2->IrisClassifier===20200304143410-CD5F13) (19.2)\n",
      "Requirement already satisfied: docker in /Users/chaoyu/opt/miniconda3/envs/btml-dev/lib/python3.7/site-packages (from bentoml==0.6.2->IrisClassifier===20200304143410-CD5F13) (4.1.0)\n",
      "Requirement already satisfied: configparser in /Users/chaoyu/opt/miniconda3/envs/btml-dev/lib/python3.7/site-packages (from bentoml==0.6.2->IrisClassifier===20200304143410-CD5F13) (4.0.2)\n",
      "Requirement already satisfied: sqlalchemy>=1.3.0 in /Users/chaoyu/opt/miniconda3/envs/btml-dev/lib/python3.7/site-packages (from bentoml==0.6.2->IrisClassifier===20200304143410-CD5F13) (1.3.11)\n",
      "Requirement already satisfied: protobuf>=3.6.0 in /Users/chaoyu/opt/miniconda3/envs/btml-dev/lib/python3.7/site-packages (from bentoml==0.6.2->IrisClassifier===20200304143410-CD5F13) (3.11.1)\n",
      "Requirement already satisfied: grpcio in /Users/chaoyu/opt/miniconda3/envs/btml-dev/lib/python3.7/site-packages (from bentoml==0.6.2->IrisClassifier===20200304143410-CD5F13) (1.25.0)\n",
      "Requirement already satisfied: cerberus in /Users/chaoyu/opt/miniconda3/envs/btml-dev/lib/python3.7/site-packages (from bentoml==0.6.2->IrisClassifier===20200304143410-CD5F13) (1.3.2)\n",
      "Requirement already satisfied: tabulate in /Users/chaoyu/opt/miniconda3/envs/btml-dev/lib/python3.7/site-packages (from bentoml==0.6.2->IrisClassifier===20200304143410-CD5F13) (0.8.6)\n",
      "Requirement already satisfied: humanfriendly in /Users/chaoyu/opt/miniconda3/envs/btml-dev/lib/python3.7/site-packages (from bentoml==0.6.2->IrisClassifier===20200304143410-CD5F13) (4.18)\n",
      "Requirement already satisfied: alembic in /Users/chaoyu/opt/miniconda3/envs/btml-dev/lib/python3.7/site-packages (from bentoml==0.6.2->IrisClassifier===20200304143410-CD5F13) (1.3.1)\n",
      "Requirement already satisfied: aiohttp in /Users/chaoyu/opt/miniconda3/envs/btml-dev/lib/python3.7/site-packages (from bentoml==0.6.2->IrisClassifier===20200304143410-CD5F13) (3.6.2)\n",
      "Requirement already satisfied: py_zipkin in /Users/chaoyu/opt/miniconda3/envs/btml-dev/lib/python3.7/site-packages (from bentoml==0.6.2->IrisClassifier===20200304143410-CD5F13) (0.18.7)\n",
      "Requirement already satisfied: python-dateutil<2.8.1,>=2.1 in /Users/chaoyu/opt/miniconda3/envs/btml-dev/lib/python3.7/site-packages (from bentoml==0.6.2->IrisClassifier===20200304143410-CD5F13) (2.8.0)\n",
      "Requirement already satisfied: scipy>=0.17.0 in /Users/chaoyu/opt/miniconda3/envs/btml-dev/lib/python3.7/site-packages (from scikit-learn->IrisClassifier===20200304143410-CD5F13) (1.3.3)\n",
      "Requirement already satisfied: joblib>=0.11 in /Users/chaoyu/opt/miniconda3/envs/btml-dev/lib/python3.7/site-packages (from scikit-learn->IrisClassifier===20200304143410-CD5F13) (0.14.1)\n",
      "Requirement already satisfied: ruamel.yaml.clib>=0.1.2; platform_python_implementation == \"CPython\" and python_version < \"3.8\" in /Users/chaoyu/opt/miniconda3/envs/btml-dev/lib/python3.7/site-packages (from ruamel.yaml>=0.15.0->bentoml==0.6.2->IrisClassifier===20200304143410-CD5F13) (0.2.0)\n",
      "Requirement already satisfied: Jinja2>=2.10 in /Users/chaoyu/opt/miniconda3/envs/btml-dev/lib/python3.7/site-packages (from flask->bentoml==0.6.2->IrisClassifier===20200304143410-CD5F13) (2.10.3)\n",
      "Requirement already satisfied: itsdangerous>=0.24 in /Users/chaoyu/opt/miniconda3/envs/btml-dev/lib/python3.7/site-packages (from flask->bentoml==0.6.2->IrisClassifier===20200304143410-CD5F13) (1.1.0)\n",
      "Requirement already satisfied: Werkzeug>=0.14 in /Users/chaoyu/opt/miniconda3/envs/btml-dev/lib/python3.7/site-packages (from flask->bentoml==0.6.2->IrisClassifier===20200304143410-CD5F13) (0.16.0)\n",
      "Requirement already satisfied: setuptools>=3.0 in /Users/chaoyu/opt/miniconda3/envs/btml-dev/lib/python3.7/site-packages (from gunicorn->bentoml==0.6.2->IrisClassifier===20200304143410-CD5F13) (42.0.2.post20191203)\n",
      "Requirement already satisfied: pytz>=2017.2 in /Users/chaoyu/opt/miniconda3/envs/btml-dev/lib/python3.7/site-packages (from pandas->bentoml==0.6.2->IrisClassifier===20200304143410-CD5F13) (2019.3)\n",
      "Requirement already satisfied: botocore<1.14.0,>=1.13.37 in /Users/chaoyu/opt/miniconda3/envs/btml-dev/lib/python3.7/site-packages (from boto3->bentoml==0.6.2->IrisClassifier===20200304143410-CD5F13) (1.13.42)\n",
      "Requirement already satisfied: s3transfer<0.3.0,>=0.2.0 in /Users/chaoyu/opt/miniconda3/envs/btml-dev/lib/python3.7/site-packages (from boto3->bentoml==0.6.2->IrisClassifier===20200304143410-CD5F13) (0.2.1)\n",
      "Requirement already satisfied: jmespath<1.0.0,>=0.7.1 in /Users/chaoyu/opt/miniconda3/envs/btml-dev/lib/python3.7/site-packages (from boto3->bentoml==0.6.2->IrisClassifier===20200304143410-CD5F13) (0.9.4)\n",
      "Requirement already satisfied: certifi>=2017.4.17 in /Users/chaoyu/opt/miniconda3/envs/btml-dev/lib/python3.7/site-packages (from requests->bentoml==0.6.2->IrisClassifier===20200304143410-CD5F13) (2019.11.28)\n",
      "Requirement already satisfied: idna<2.9,>=2.5 in /Users/chaoyu/opt/miniconda3/envs/btml-dev/lib/python3.7/site-packages (from requests->bentoml==0.6.2->IrisClassifier===20200304143410-CD5F13) (2.8)\n",
      "Requirement already satisfied: chardet<3.1.0,>=3.0.2 in /Users/chaoyu/opt/miniconda3/envs/btml-dev/lib/python3.7/site-packages (from requests->bentoml==0.6.2->IrisClassifier===20200304143410-CD5F13) (3.0.4)\n",
      "Requirement already satisfied: urllib3!=1.25.0,!=1.25.1,<1.26,>=1.21.1 in /Users/chaoyu/opt/miniconda3/envs/btml-dev/lib/python3.7/site-packages (from requests->bentoml==0.6.2->IrisClassifier===20200304143410-CD5F13) (1.25.7)\n",
      "Requirement already satisfied: six in /Users/chaoyu/opt/miniconda3/envs/btml-dev/lib/python3.7/site-packages (from packaging->bentoml==0.6.2->IrisClassifier===20200304143410-CD5F13) (1.13.0)\n",
      "Requirement already satisfied: pyparsing>=2.0.2 in /Users/chaoyu/opt/miniconda3/envs/btml-dev/lib/python3.7/site-packages (from packaging->bentoml==0.6.2->IrisClassifier===20200304143410-CD5F13) (2.4.5)\n",
      "Requirement already satisfied: websocket-client>=0.32.0 in /Users/chaoyu/opt/miniconda3/envs/btml-dev/lib/python3.7/site-packages (from docker->bentoml==0.6.2->IrisClassifier===20200304143410-CD5F13) (0.56.0)\n",
      "Requirement already satisfied: Mako in /Users/chaoyu/opt/miniconda3/envs/btml-dev/lib/python3.7/site-packages (from alembic->bentoml==0.6.2->IrisClassifier===20200304143410-CD5F13) (1.1.0)\n"
     ]
    },
    {
     "name": "stdout",
     "output_type": "stream",
     "text": [
      "Requirement already satisfied: python-editor>=0.3 in /Users/chaoyu/opt/miniconda3/envs/btml-dev/lib/python3.7/site-packages (from alembic->bentoml==0.6.2->IrisClassifier===20200304143410-CD5F13) (1.0.4)\n",
      "Requirement already satisfied: async-timeout<4.0,>=3.0 in /Users/chaoyu/opt/miniconda3/envs/btml-dev/lib/python3.7/site-packages (from aiohttp->bentoml==0.6.2->IrisClassifier===20200304143410-CD5F13) (3.0.1)\n",
      "Requirement already satisfied: multidict<5.0,>=4.5 in /Users/chaoyu/opt/miniconda3/envs/btml-dev/lib/python3.7/site-packages (from aiohttp->bentoml==0.6.2->IrisClassifier===20200304143410-CD5F13) (4.7.4)\n",
      "Requirement already satisfied: attrs>=17.3.0 in /Users/chaoyu/opt/miniconda3/envs/btml-dev/lib/python3.7/site-packages (from aiohttp->bentoml==0.6.2->IrisClassifier===20200304143410-CD5F13) (19.3.0)\n",
      "Requirement already satisfied: yarl<2.0,>=1.0 in /Users/chaoyu/opt/miniconda3/envs/btml-dev/lib/python3.7/site-packages (from aiohttp->bentoml==0.6.2->IrisClassifier===20200304143410-CD5F13) (1.4.2)\n",
      "Requirement already satisfied: thriftpy2>=0.4.0 in /Users/chaoyu/opt/miniconda3/envs/btml-dev/lib/python3.7/site-packages (from py_zipkin->bentoml==0.6.2->IrisClassifier===20200304143410-CD5F13) (0.4.10)\n",
      "Requirement already satisfied: MarkupSafe>=0.23 in /Users/chaoyu/opt/miniconda3/envs/btml-dev/lib/python3.7/site-packages (from Jinja2>=2.10->flask->bentoml==0.6.2->IrisClassifier===20200304143410-CD5F13) (1.1.1)\n",
      "Requirement already satisfied: docutils<0.16,>=0.10 in /Users/chaoyu/opt/miniconda3/envs/btml-dev/lib/python3.7/site-packages (from botocore<1.14.0,>=1.13.37->boto3->bentoml==0.6.2->IrisClassifier===20200304143410-CD5F13) (0.15.2)\n",
      "Requirement already satisfied: ply<4.0,>=3.4 in /Users/chaoyu/opt/miniconda3/envs/btml-dev/lib/python3.7/site-packages (from thriftpy2>=0.4.0->py_zipkin->bentoml==0.6.2->IrisClassifier===20200304143410-CD5F13) (3.11)\n",
      "Building wheels for collected packages: IrisClassifier\n",
      "  Building wheel for IrisClassifier (setup.py) ... \u001b[?25ldone\n",
      "\u001b[?25h  Created wheel for IrisClassifier: filename=IrisClassifier-20200304143410_CD5F13-py3-none-any.whl size=5322 sha256=80c7fc3eba4318b5c61255983c9b9aaef96689ad478f27c26151640e5e9b0c42\n",
      "  Stored in directory: /private/var/folders/7p/y_934t3s4yg8fx595vr28gym0000gn/T/pip-ephem-wheel-cache-iqll0sxu/wheels/25/86/f1/26ba94f7c1b4ed71b127db597b2571fbcb134e98708025af9d\n",
      "Successfully built IrisClassifier\n",
      "Installing collected packages: IrisClassifier\n",
      "  Attempting uninstall: IrisClassifier\n",
      "    Found existing installation: IrisClassifier 20200213112239-7F9D47\n",
      "    Uninstalling IrisClassifier-20200213112239-7F9D47:\n",
      "      Successfully uninstalled IrisClassifier-20200213112239-7F9D47\n",
      "Successfully installed IrisClassifier-20200304143410-CD5F13\n"
     ]
    }
   ],
   "source": [
    "!pip install {saved_path}"
   ]
  },
  {
   "cell_type": "code",
   "execution_count": 13,
   "metadata": {},
   "outputs": [
    {
     "data": {
      "text/plain": [
       "memmap([0])"
      ]
     },
     "execution_count": 13,
     "metadata": {},
     "output_type": "execute_result"
    }
   ],
   "source": [
    "# Your bentoML model class name will become packaged name\n",
    "import IrisClassifier\n",
    "\n",
    "installed_svc = IrisClassifier.load()\n",
    "installed_svc.predict([X[0]])"
   ]
  },
  {
   "cell_type": "markdown",
   "metadata": {},
   "source": [
    "This also allow users to upload their BentoService to pypi.org as public python package\n",
    "or to their organization's private PyPi index to share with other developers.\n",
    "\n",
    "`cd {saved_path} & python setup.py sdist upload`\n",
    "\n",
    "*You will have to configure \".pypirc\" file before uploading to pypi index.\n",
    "    You can find more information about distributing python package at:\n",
    "    https://docs.python.org/3.7/distributing/index.html#distributing-index*\n",
    "\n",
    "\n",
    "# Model Serving via CLI\n",
    "\n",
    "`pip install {saved_path}` also installs a CLI tool for accessing the BentoML service, print CLI help document with `--help`:\n"
   ]
  },
  {
   "cell_type": "code",
   "execution_count": 14,
   "metadata": {},
   "outputs": [
    {
     "name": "stdout",
     "output_type": "stream",
     "text": [
      "Usage: IrisClassifier [OPTIONS] COMMAND [ARGS]...\r\n",
      "\r\n",
      "  BentoML CLI tool\r\n",
      "\r\n",
      "Options:\r\n",
      "  --version  Show the version and exit.\r\n",
      "  --help     Show this message and exit.\r\n",
      "\r\n",
      "Commands:\r\n",
      "  info                List APIs\r\n",
      "  install-completion  Install shell command completion\r\n",
      "  open-api-spec       Display OpenAPI/Swagger JSON specs\r\n",
      "  run                 Run API function\r\n",
      "  serve               Start local rest server\r\n",
      "  serve-gunicorn      Start local gunicorn server\r\n"
     ]
    }
   ],
   "source": [
    "!IrisClassifier --help"
   ]
  },
  {
   "cell_type": "markdown",
   "metadata": {},
   "source": [
    "Printing more information about this ML service with `info` command:"
   ]
  },
  {
   "cell_type": "code",
   "execution_count": 18,
   "metadata": {
    "pycharm": {
     "name": "#%%\n"
    }
   },
   "outputs": [
    {
     "name": "stdout",
     "output_type": "stream",
     "text": [
      "\u001b[39m{\r\n",
      "  \"name\": \"IrisClassifier\",\r\n",
      "  \"version\": \"20200304143410_CD5F13\",\r\n",
      "  \"created_at\": \"2020-03-04T22:34:22.106650Z\",\r\n",
      "  \"env\": {\r\n",
      "    \"conda_env\": \"name: bentoml-IrisClassifier\\nchannels:\\n- defaults\\ndependencies:\\n- python=3.7.5\\n- pip\\n\",\r\n",
      "    \"pip_dependencies\": \"bentoml==0.6.2+32.g1ee00b6.dirty\\nscikit-learn\",\r\n",
      "    \"python_version\": \"3.7.5\"\r\n",
      "  },\r\n",
      "  \"artifacts\": [\r\n",
      "    {\r\n",
      "      \"name\": \"model\",\r\n",
      "      \"artifact_type\": \"SklearnModelArtifact\"\r\n",
      "    }\r\n",
      "  ],\r\n",
      "  \"apis\": [\r\n",
      "    {\r\n",
      "      \"name\": \"predict\",\r\n",
      "      \"handler_type\": \"DataframeHandler\",\r\n",
      "      \"docs\": \"BentoService API\",\r\n",
      "      \"handler_config\": {\r\n",
      "        \"input_dtypes\": null,\r\n",
      "        \"output_orient\": \"records\",\r\n",
      "        \"orient\": \"records\",\r\n",
      "        \"typ\": \"frame\"\r\n",
      "      }\r\n",
      "    }\r\n",
      "  ]\r\n",
      "}\u001b[0m\r\n"
     ]
    }
   ],
   "source": [
    "!IrisClassifier info"
   ]
  },
  {
   "cell_type": "markdown",
   "metadata": {},
   "source": [
    "You can also print help and docs on individual commands:"
   ]
  },
  {
   "cell_type": "code",
   "execution_count": 19,
   "metadata": {},
   "outputs": [
    {
     "name": "stdout",
     "output_type": "stream",
     "text": [
      "Usage: IrisClassifier run [OPTIONS] API_NAME [RUN_ARGS]...\r\n",
      "\r\n",
      "  Run a API defined in saved BentoService bundle from command line\r\n",
      "\r\n",
      "Options:\r\n",
      "  --with-conda        Run API server in a BentoML managed Conda environment\r\n",
      "  -q, --quiet         Hide process logs and errors\r\n",
      "  --verbose, --debug  Show additional details when running command\r\n",
      "  --help              Show this message and exit.\r\n"
     ]
    }
   ],
   "source": [
    "!IrisClassifier run predict --help"
   ]
  },
  {
   "cell_type": "markdown",
   "metadata": {},
   "source": [
    "Each service API you defined in the BentoService will be exposed as a CLI command with the same name as the API function:"
   ]
  },
  {
   "cell_type": "code",
   "execution_count": 20,
   "metadata": {
    "scrolled": true
   },
   "outputs": [
    {
     "name": "stdout",
     "output_type": "stream",
     "text": [
      "[0]\r\n"
     ]
    }
   ],
   "source": [
    "!IrisClassifier run predict --input='[[5.1, 3.5, 1.4, 0.2]]'"
   ]
  },
  {
   "cell_type": "markdown",
   "metadata": {},
   "source": [
    "BentoML cli also supports reading input data from `csv` or `json` files, in either local machine or remote HTTP/S3 location:"
   ]
  },
  {
   "cell_type": "code",
   "execution_count": 22,
   "metadata": {},
   "outputs": [
    {
     "name": "stdout",
     "output_type": "stream",
     "text": [
      "[0 0 0 0 0 0 0 0 0 0 0 0 0 0 0 0 0 0 0 0 0 0 0 0 0 0 0 0 0 0 0 0 0 0 0 0 0\r\n",
      " 0 0 0 0 0 0 0 0 0 0 0 0 0 1 1 1 1 1 1 1 1 1 1 1 1 1 1 1 1 1 1 1 1 1 1 1 1\r\n",
      " 1 1 1 2 1 1 1 1 1 2 1 1 1 1 1 1 1 1 1 1 1 1 1 1 1 1 2 2 2 2 2 2 1 2 2 2 2\r\n",
      " 2 2 2 2 2 2 2 2 2 2 2 2 2 2 2 2 2 2 2 2 2 2 2 2 2 2 2 1 2 2 2 2 2 2 2 2 2\r\n",
      " 2 2]\r\n"
     ]
    }
   ],
   "source": [
    "# Writing test data to a csv file\n",
    "pd.DataFrame(iris.data).to_csv('iris_data.csv', index=False)\n",
    "\n",
    "# Invoke predict from command lien\n",
    "!IrisClassifier run predict --input='./iris_data.csv'"
   ]
  },
  {
   "cell_type": "markdown",
   "metadata": {},
   "source": [
    "Alternatively, you can also use the `bentoml` cli to load and run a BentoML service archive without installing it:"
   ]
  },
  {
   "cell_type": "code",
   "execution_count": 23,
   "metadata": {},
   "outputs": [
    {
     "name": "stdout",
     "output_type": "stream",
     "text": [
      "[2020-03-04 14:48:56,058] INFO - Getting latest version IrisClassifier:20200304143410_CD5F13\r\n",
      "\u001b[39m{\r\n",
      "  \"name\": \"IrisClassifier\",\r\n",
      "  \"version\": \"20200304143410_CD5F13\",\r\n",
      "  \"created_at\": \"2020-03-04T22:34:22.106650Z\",\r\n",
      "  \"env\": {\r\n",
      "    \"conda_env\": \"name: bentoml-IrisClassifier\\nchannels:\\n- defaults\\ndependencies:\\n- python=3.7.5\\n- pip\\n\",\r\n",
      "    \"pip_dependencies\": \"bentoml==0.6.2+32.g1ee00b6.dirty\\nscikit-learn\",\r\n",
      "    \"python_version\": \"3.7.5\"\r\n",
      "  },\r\n",
      "  \"artifacts\": [\r\n",
      "    {\r\n",
      "      \"name\": \"model\",\r\n",
      "      \"artifact_type\": \"SklearnModelArtifact\"\r\n",
      "    }\r\n",
      "  ],\r\n",
      "  \"apis\": [\r\n",
      "    {\r\n",
      "      \"name\": \"predict\",\r\n",
      "      \"handler_type\": \"DataframeHandler\",\r\n",
      "      \"docs\": \"BentoService API\",\r\n",
      "      \"handler_config\": {\r\n",
      "        \"orient\": \"records\",\r\n",
      "        \"typ\": \"frame\",\r\n",
      "        \"input_dtypes\": null,\r\n",
      "        \"output_orient\": \"records\"\r\n",
      "      }\r\n",
      "    }\r\n",
      "  ]\r\n",
      "}\u001b[0m\r\n"
     ]
    }
   ],
   "source": [
    "!bentoml info IrisClassifier:latest"
   ]
  },
  {
   "cell_type": "code",
   "execution_count": 24,
   "metadata": {},
   "outputs": [
    {
     "name": "stdout",
     "output_type": "stream",
     "text": [
      "[2020-03-04 14:48:58,771] INFO - Getting latest version IrisClassifier:20200304143410_CD5F13\n",
      "[0]\n"
     ]
    }
   ],
   "source": [
    "!bentoml run IrisClassifier:latest predict --input='[[5.1, 3.5, 1.4, 0.2]]'"
   ]
  },
  {
   "cell_type": "markdown",
   "metadata": {},
   "source": [
    "# Deploy REST API server to the cloud\n",
    "\n",
    "\n",
    "BentoML has a built-in deployment management tool called YataiService. YataiService can\n",
    "be deployed separately to manage all your teams' trained models, BentoService bundles,\n",
    "and active deployments in the cloud or in your own kubernetes cluster. You can also\n",
    "create simple model serving deployments with just the BentoML cli, which launches a\n",
    "local YataiService backed by SQLite database on your machine.\n",
    "\n",
    "Now let's deploy the IrisClassifier to [AWS Lambda](https://aws.amazon.com/lambda/) as\n",
    "a serverless endpoint.\n",
    "\n",
    "First you need to install the `aws-sam-cli` package, which is required by BentoML\n",
    "to work with AWS Lambda deployment:\n",
    "\n",
    "```\n",
    "    pip install -U aws-sam-cli==0.31.1\n",
    "```\n",
    "\n",
    "\n",
    "You will also need to configure your AWS account and credentials if you don't have\n",
    "it configured on your machine. You can do this either\n",
    "[via environment variables](https://docs.aws.amazon.com/sdk-for-java/v1/developer-guide/setup-credentials.html)\n",
    "or through the `aws configure` command: install `aws` cli command via\n",
    "`pip install awscli` and follow\n",
    "[detailed instructions here](https://docs.aws.amazon.com/cli/latest/userguide/cli-chap-configure.html#cli-quick-configuration).\n",
    "\n",
    "Now you can run the `bentoml lambda deploy` command, to create a AWS Lambda deployment,\n",
    "hosting the BentService you've created:"
   ]
  },
  {
   "cell_type": "code",
   "execution_count": 25,
   "metadata": {
    "scrolled": true
   },
   "outputs": [
    {
     "name": "stdout",
     "output_type": "stream",
     "text": [
      "Deploying \"IrisClassifier:20200304143410_CD5F13\" to AWS Lambda |[2020-03-04 14:49:24,018] INFO - Building lambda project\n",
      "\b|[2020-03-04 14:50:25,323] INFO - Packaging AWS Lambda project at /private/var/folders/7p/y_934t3s4yg8fx595vr28gym0000gn/T/bentoml-temp-g412e5yk ...\n",
      "\b|[2020-03-04 14:52:12,929] INFO - Deploying lambda project\n",
      "\b\\[2020-03-04 14:53:05,370] INFO - ApplyDeployment (quick-start-guide-deployment, namespace dev) succeeded\n",
      "\u001b[32mSuccessfully created AWS Lambda deployment quick-start-guide-deployment\u001b[0m\n",
      "\u001b[39m{\n",
      "  \"namespace\": \"dev\",\n",
      "  \"name\": \"quick-start-guide-deployment\",\n",
      "  \"spec\": {\n",
      "    \"bentoName\": \"IrisClassifier\",\n",
      "    \"bentoVersion\": \"20200304143410_CD5F13\",\n",
      "    \"operator\": \"AWS_LAMBDA\",\n",
      "    \"awsLambdaOperatorConfig\": {\n",
      "      \"region\": \"us-west-2\",\n",
      "      \"memorySize\": 1024,\n",
      "      \"timeout\": 3\n",
      "    }\n",
      "  },\n",
      "  \"state\": {\n",
      "    \"state\": \"RUNNING\",\n",
      "    \"infoJson\": {\n",
      "      \"endpoints\": [\n",
      "        \"https://rz1dov0qik.execute-api.us-west-2.amazonaws.com/Prod/predict\"\n",
      "      ],\n",
      "      \"s3_bucket\": \"btml-dev-quick-start-guide-deployment-aa5291\"\n",
      "    },\n",
      "    \"timestamp\": \"2020-03-04T22:53:05.811505Z\"\n",
      "  },\n",
      "  \"createdAt\": \"2020-03-04T22:49:18.450258Z\",\n",
      "  \"lastUpdatedAt\": \"2020-03-04T22:49:18.450289Z\"\n",
      "}\u001b[0m\n"
     ]
    }
   ],
   "source": [
    "!bentoml lambda deploy quick-start-guide-deployment -b IrisClassifier:{svc.version} "
   ]
  },
  {
   "cell_type": "markdown",
   "metadata": {},
   "source": [
    "Here the 'quick-starrt-guide-deployment' is the deployment name, you can reference the deployment by this name and query its status. For example, to get current deployment status:"
   ]
  },
  {
   "cell_type": "code",
   "execution_count": 26,
   "metadata": {
    "scrolled": true
   },
   "outputs": [
    {
     "name": "stdout",
     "output_type": "stream",
     "text": [
      "\u001b[39m{\r\n",
      "  \"namespace\": \"dev\",\r\n",
      "  \"name\": \"quick-start-guide-deployment\",\r\n",
      "  \"spec\": {\r\n",
      "    \"bentoName\": \"IrisClassifier\",\r\n",
      "    \"bentoVersion\": \"20200304143410_CD5F13\",\r\n",
      "    \"operator\": \"AWS_LAMBDA\",\r\n",
      "    \"awsLambdaOperatorConfig\": {\r\n",
      "      \"region\": \"us-west-2\",\r\n",
      "      \"memorySize\": 1024,\r\n",
      "      \"timeout\": 3\r\n",
      "    }\r\n",
      "  },\r\n",
      "  \"state\": {\r\n",
      "    \"state\": \"RUNNING\",\r\n",
      "    \"infoJson\": {\r\n",
      "      \"endpoints\": [\r\n",
      "        \"https://rz1dov0qik.execute-api.us-west-2.amazonaws.com/Prod/predict\"\r\n",
      "      ],\r\n",
      "      \"s3_bucket\": \"btml-dev-quick-start-guide-deployment-aa5291\"\r\n",
      "    },\r\n",
      "    \"timestamp\": \"2020-03-04T22:53:14.603449Z\"\r\n",
      "  },\r\n",
      "  \"createdAt\": \"2020-03-04T22:49:18.450258Z\",\r\n",
      "  \"lastUpdatedAt\": \"2020-03-04T22:49:18.450289Z\"\r\n",
      "}\u001b[0m\r\n"
     ]
    }
   ],
   "source": [
    "!bentoml lambda get quick-start-guide-deployment"
   ]
  },
  {
   "cell_type": "code",
   "execution_count": 27,
   "metadata": {},
   "outputs": [
    {
     "name": "stdout",
     "output_type": "stream",
     "text": [
      "\u001b[0;32m\"https://rz1dov0qik.execute-api.us-west-2.amazonaws.com/Prod/predict\"\u001b[0m\r\n"
     ]
    }
   ],
   "source": [
    "!bentoml lambda get quick-start-guide-deployment | jq \".state.infoJson.endpoints[0]\""
   ]
  },
  {
   "cell_type": "markdown",
   "metadata": {},
   "source": [
    "To send request to your AWS Lambda deployment, grab the endpoint URL from the json output above:"
   ]
  },
  {
   "cell_type": "code",
   "execution_count": null,
   "metadata": {},
   "outputs": [],
   "source": [
    "!curl -i \\\n",
    "--header \"Content-Type: application/json\" \\\n",
    "--request POST \\\n",
    "--data '[[5.1, 3.5, 1.4, 0.2]]' \\\n",
    "https://rz1dov0qik.execute-api.us-west-2.amazonaws.com/Prod/predict"
   ]
  },
  {
   "cell_type": "markdown",
   "metadata": {},
   "source": [
    "And to delete an active deployment:"
   ]
  },
  {
   "cell_type": "code",
   "execution_count": null,
   "metadata": {},
   "outputs": [],
   "source": [
    "!bentoml lambda delete quick-start-guide-deployment"
   ]
  },
  {
   "cell_type": "markdown",
   "metadata": {},
   "source": [
    "BentoML by default stores the deployment metadata on the local machine. For team settings, we recommend hosting a shared BentoML Yatai server for your entire team to track all BentoService saved bundle and deployments they've created in a central place."
   ]
  },
  {
   "cell_type": "markdown",
   "metadata": {},
   "source": [
    "# Summary\n",
    "\n",
    "This is what it looks like when using BentoML to serve and deploy a model, as a prediction service running in the cloud. BentoML also supports many other Machine Learning frameworks, as well as many other deployment platforms. You can find more BentoML example notebooks [here](https://github.com/bentoml/BentoML#examples)."
   ]
  }
 ],
 "metadata": {
  "kernelspec": {
   "display_name": "Python 3",
   "language": "python",
   "name": "python3"
  },
  "language_info": {
   "codemirror_mode": {
    "name": "ipython",
    "version": 3
   },
   "file_extension": ".py",
   "mimetype": "text/x-python",
   "name": "python",
   "nbconvert_exporter": "python",
   "pygments_lexer": "ipython3",
   "version": "3.7.5"
  }
 },
 "nbformat": 4,
 "nbformat_minor": 2
}
