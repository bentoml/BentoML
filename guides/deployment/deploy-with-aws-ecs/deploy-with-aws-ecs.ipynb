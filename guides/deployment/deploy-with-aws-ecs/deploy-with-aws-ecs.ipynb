{
 "cells": [
  {
   "cell_type": "markdown",
   "metadata": {},
   "source": [
    "# BentoML Example:  Deploy to AWS ECS using AWS Fargate\n",
    "\n",
    "[BentoML](http://bentoml.ai) is an open source framework for building, shipping and running machine learning services. It provides high-level APIs for defining an ML service and packaging its artifacts, source code, dependencies, and configurations into a production-system-friendly format that is ready for deployment.\n",
    "\n",
    "This notebook demonstrates how to use BentoML to deploy a machine learning model as a serverless REST API endpoint to AWS ECS. For this demo, we are using the [Sentiment Analysis with Scikit-learn](https://github.com/bentoml/BentoML/blob/master/examples/sklearn-sentiment-clf/sklearn-sentiment-clf.ipynb) example, using dataset from [Sentiment140](http://help.sentiment140.com/for-students/).\n",
    "\n",
    "![Impression](https://www.google-analytics.com/collect?v=1&tid=UA-112879361-3&cid=555&t=event&ec=nb&ea=open&el=official-example&dt=deploy-with-aws-ecs)"
   ]
  },
  {
   "cell_type": "code",
   "execution_count": 1,
   "metadata": {},
   "outputs": [],
   "source": [
    "%reload_ext autoreload\n",
    "%autoreload 2\n",
    "%matplotlib inline"
   ]
  },
  {
   "cell_type": "code",
   "execution_count": null,
   "metadata": {},
   "outputs": [],
   "source": [
    "!pip install bentoml\n",
    "!pip install sklearn pandas numpy"
   ]
  },
  {
   "cell_type": "code",
   "execution_count": 2,
   "metadata": {},
   "outputs": [],
   "source": [
    "import bentoml\n",
    "import numpy as np\n",
    "import pandas as pd\n",
    "from sklearn.feature_extraction.text import CountVectorizer\n",
    "from sklearn.linear_model import LogisticRegression\n",
    "from sklearn.metrics import classification_report, roc_auc_score, roc_curve\n",
    "from sklearn.pipeline import Pipeline"
   ]
  },
  {
   "cell_type": "markdown",
   "metadata": {},
   "source": [
    "# Prepare Dataset"
   ]
  },
  {
   "cell_type": "code",
   "execution_count": 3,
   "metadata": {},
   "outputs": [
    {
     "name": "stdout",
     "output_type": "stream",
     "text": [
      "Archive:  trainingandtestdata.zip\n",
      "  inflating: testdata.manual.2009.06.14.csv  \n",
      "  inflating: training.1600000.processed.noemoticon.csv  \n"
     ]
    }
   ],
   "source": [
    "%%bash\n",
    "\n",
    "if [ ! -f ./trainingandtestdata.zip ]; then\n",
    "    wget -q http://cs.stanford.edu/people/alecmgo/trainingandtestdata.zip\n",
    "    unzip -n trainingandtestdata.zip\n",
    "fi"
   ]
  },
  {
   "cell_type": "code",
   "execution_count": 4,
   "metadata": {},
   "outputs": [],
   "source": [
    "columns = ['polarity', 'tweetid', 'date', 'query_name', 'user', 'text']\n",
    "dftrain = pd.read_csv('training.1600000.processed.noemoticon.csv',\n",
    "                      header = None,\n",
    "                      encoding ='ISO-8859-1')\n",
    "dftest = pd.read_csv('testdata.manual.2009.06.14.csv',\n",
    "                     header = None,\n",
    "                     encoding ='ISO-8859-1')\n",
    "dftrain.columns = columns\n",
    "dftest.columns = columns"
   ]
  },
  {
   "cell_type": "markdown",
   "metadata": {},
   "source": [
    "# Model Training"
   ]
  },
  {
   "cell_type": "code",
   "execution_count": 5,
   "metadata": {
    "scrolled": true
   },
   "outputs": [
    {
     "name": "stderr",
     "output_type": "stream",
     "text": [
      "/usr/local/anaconda3/envs/dev-py3/lib/python3.7/site-packages/sklearn/linear_model/logistic.py:433: FutureWarning: Default solver will be changed to 'lbfgs' in 0.22. Specify a solver to silence this warning.\n",
      "  FutureWarning)\n"
     ]
    },
    {
     "data": {
      "text/plain": [
       "Pipeline(memory=None,\n",
       "     steps=[('count_vect', CountVectorizer(analyzer='word', binary=False, decode_error='strict',\n",
       "        dtype=<class 'numpy.int64'>, encoding='utf-8', input='content',\n",
       "        lowercase=True, max_df=1.0, max_features=None, min_df=100,\n",
       "        ngram_range=(1, 1), preprocessor=None, stop_words='english',\n",
       "...penalty='l2', random_state=None, solver='warn',\n",
       "          tol=0.0001, verbose=0, warm_start=False))])"
      ]
     },
     "execution_count": 5,
     "metadata": {},
     "output_type": "execute_result"
    }
   ],
   "source": [
    "sentiment_lr = Pipeline([\n",
    "                         ('count_vect', CountVectorizer(min_df = 100,\n",
    "                                                        ngram_range = (1,1),\n",
    "                                                        stop_words = 'english')), \n",
    "                         ('lr', LogisticRegression())])\n",
    "sentiment_lr.fit(dftrain.text, dftrain.polarity)"
   ]
  },
  {
   "cell_type": "code",
   "execution_count": 6,
   "metadata": {
    "scrolled": true
   },
   "outputs": [
    {
     "name": "stdout",
     "output_type": "stream",
     "text": [
      "              precision    recall  f1-score   support\n",
      "\n",
      "           0       0.85      0.80      0.83       177\n",
      "           4       0.82      0.86      0.84       182\n",
      "\n",
      "   micro avg       0.83      0.83      0.83       359\n",
      "   macro avg       0.83      0.83      0.83       359\n",
      "weighted avg       0.83      0.83      0.83       359\n",
      "\n"
     ]
    }
   ],
   "source": [
    "Xtest, ytest = dftest.text[dftest.polarity!=2], dftest.polarity[dftest.polarity!=2]\n",
    "print(classification_report(ytest,sentiment_lr.predict(Xtest)))"
   ]
  },
  {
   "cell_type": "code",
   "execution_count": 7,
   "metadata": {},
   "outputs": [
    {
     "data": {
      "text/plain": [
       "array([4])"
      ]
     },
     "execution_count": 7,
     "metadata": {},
     "output_type": "execute_result"
    }
   ],
   "source": [
    "sentiment_lr.predict([Xtest[0]])"
   ]
  },
  {
   "cell_type": "markdown",
   "metadata": {},
   "source": [
    "## Create BentoService for model serving\n",
    "\n",
    "To package this trained model for model serving in production, you will need to create a new BentoML Service by subclassing it:"
   ]
  },
  {
   "cell_type": "code",
   "execution_count": 8,
   "metadata": {
    "scrolled": true
   },
   "outputs": [
    {
     "name": "stdout",
     "output_type": "stream",
     "text": [
      "Writing sentiment_lr_model.py\n"
     ]
    }
   ],
   "source": [
    "%%writefile sentiment_lr_model.py\n",
    "\n",
    "import pandas as pd\n",
    "import bentoml\n",
    "from bentoml.artifact import PickleArtifact\n",
    "from bentoml.handlers import DataframeHandler\n",
    "\n",
    "@bentoml.artifacts([PickleArtifact('model')])\n",
    "@bentoml.env(pip_dependencies=['sklearn', 'numpy', 'pandas'])\n",
    "class SentimentLRModel(bentoml.BentoService):\n",
    "    \n",
    "    @bentoml.api(DataframeHandler, typ='series')\n",
    "    def predict(self, series):\n",
    "        \"\"\"\n",
    "        predict expects pandas.Series as input\n",
    "        \"\"\"        \n",
    "        return self.artifacts.model.predict(series)"
   ]
  },
  {
   "cell_type": "markdown",
   "metadata": {},
   "source": [
    "## Save BentoService to file archive"
   ]
  },
  {
   "cell_type": "code",
   "execution_count": 9,
   "metadata": {},
   "outputs": [
    {
     "name": "stdout",
     "output_type": "stream",
     "text": [
      "[2019-12-16 13:29:17,399] WARNING - BentoML local changes detected - Local BentoML repository including all code changes will be bundled together with the BentoService bundle. When used with docker, the base docker image will be default to same version as last PyPI release at version: 0.5.3. You can also force bentoml to use a specific version for deploying your BentoService bundle, by setting the config 'core/bentoml_deploy_version' to a pinned version or your custom BentoML on github, e.g.:'bentoml_deploy_version = git+https://github.com/{username}/bentoml.git@{branch}'\n",
      "[2019-12-16 13:29:17,401] WARNING - BentoML local changes detected - Local BentoML repository including all code changes will be bundled together with the BentoService bundle. When used with docker, the base docker image will be default to same version as last PyPI release at version: 0.5.3. You can also force bentoml to use a specific version for deploying your BentoService bundle, by setting the config 'core/bentoml_deploy_version' to a pinned version or your custom BentoML on github, e.g.:'bentoml_deploy_version = git+https://github.com/{username}/bentoml.git@{branch}'\n",
      "[2019-12-16 13:29:17,413] WARNING - BentoML local changes detected - Local BentoML repository including all code changes will be bundled together with the BentoService bundle. When used with docker, the base docker image will be default to same version as last PyPI release at version: 0.5.3. You can also force bentoml to use a specific version for deploying your BentoService bundle, by setting the config 'core/bentoml_deploy_version' to a pinned version or your custom BentoML on github, e.g.:'bentoml_deploy_version = git+https://github.com/{username}/bentoml.git@{branch}'\n",
      "[2019-12-16 13:29:44,475] WARNING - BentoML local changes detected - Local BentoML repository including all code changes will be bundled together with the BentoService bundle. When used with docker, the base docker image will be default to same version as last PyPI release at version: 0.5.3. You can also force bentoml to use a specific version for deploying your BentoService bundle, by setting the config 'core/bentoml_deploy_version' to a pinned version or your custom BentoML on github, e.g.:'bentoml_deploy_version = git+https://github.com/{username}/bentoml.git@{branch}'\n",
      "running sdist\n",
      "running egg_info\n",
      "writing BentoML.egg-info/PKG-INFO\n",
      "writing dependency_links to BentoML.egg-info/dependency_links.txt\n",
      "writing entry points to BentoML.egg-info/entry_points.txt\n",
      "writing requirements to BentoML.egg-info/requires.txt\n",
      "writing top-level names to BentoML.egg-info/top_level.txt\n",
      "reading manifest file 'BentoML.egg-info/SOURCES.txt'\n",
      "reading manifest template 'MANIFEST.in'\n"
     ]
    },
    {
     "name": "stderr",
     "output_type": "stream",
     "text": [
      "no previously-included directories found matching 'examples'\n",
      "no previously-included directories found matching 'tests'\n",
      "no previously-included directories found matching 'docs'\n",
      "warning: no previously-included files matching '*~' found anywhere in distribution\n",
      "warning: no previously-included files matching '*.pyo' found anywhere in distribution\n",
      "warning: no previously-included files matching '.git' found anywhere in distribution\n",
      "warning: no previously-included files matching '.ipynb_checkpoints' found anywhere in distribution\n",
      "warning: no previously-included files matching '__pycache__' found anywhere in distribution\n"
     ]
    },
    {
     "name": "stdout",
     "output_type": "stream",
     "text": [
      "writing manifest file 'BentoML.egg-info/SOURCES.txt'\n",
      "running check\n"
     ]
    },
    {
     "name": "stderr",
     "output_type": "stream",
     "text": [
      "warning: check: missing meta-data: if 'author' supplied, 'author_email' must be supplied too\n",
      "\n"
     ]
    },
    {
     "name": "stdout",
     "output_type": "stream",
     "text": [
      "creating BentoML-0.5.3+19.g4c71912\n",
      "creating BentoML-0.5.3+19.g4c71912/BentoML.egg-info\n",
      "creating BentoML-0.5.3+19.g4c71912/bentoml\n",
      "creating BentoML-0.5.3+19.g4c71912/bentoml/artifact\n",
      "creating BentoML-0.5.3+19.g4c71912/bentoml/bundler\n",
      "creating BentoML-0.5.3+19.g4c71912/bentoml/cli\n",
      "creating BentoML-0.5.3+19.g4c71912/bentoml/clipper\n",
      "creating BentoML-0.5.3+19.g4c71912/bentoml/configuration\n",
      "creating BentoML-0.5.3+19.g4c71912/bentoml/deployment\n",
      "creating BentoML-0.5.3+19.g4c71912/bentoml/deployment/aws_lambda\n",
      "creating BentoML-0.5.3+19.g4c71912/bentoml/deployment/sagemaker\n",
      "creating BentoML-0.5.3+19.g4c71912/bentoml/deployment/serverless\n",
      "creating BentoML-0.5.3+19.g4c71912/bentoml/handlers\n",
      "creating BentoML-0.5.3+19.g4c71912/bentoml/migrations\n",
      "creating BentoML-0.5.3+19.g4c71912/bentoml/migrations/versions\n",
      "creating BentoML-0.5.3+19.g4c71912/bentoml/proto\n",
      "creating BentoML-0.5.3+19.g4c71912/bentoml/repository\n",
      "creating BentoML-0.5.3+19.g4c71912/bentoml/server\n",
      "creating BentoML-0.5.3+19.g4c71912/bentoml/server/static\n",
      "creating BentoML-0.5.3+19.g4c71912/bentoml/utils\n",
      "creating BentoML-0.5.3+19.g4c71912/bentoml/utils/validator\n",
      "creating BentoML-0.5.3+19.g4c71912/bentoml/yatai\n",
      "copying files to BentoML-0.5.3+19.g4c71912...\n",
      "copying LICENSE -> BentoML-0.5.3+19.g4c71912\n",
      "copying MANIFEST.in -> BentoML-0.5.3+19.g4c71912\n",
      "copying README.md -> BentoML-0.5.3+19.g4c71912\n",
      "copying setup.cfg -> BentoML-0.5.3+19.g4c71912\n",
      "copying setup.py -> BentoML-0.5.3+19.g4c71912\n",
      "copying versioneer.py -> BentoML-0.5.3+19.g4c71912\n",
      "copying BentoML.egg-info/PKG-INFO -> BentoML-0.5.3+19.g4c71912/BentoML.egg-info\n",
      "copying BentoML.egg-info/SOURCES.txt -> BentoML-0.5.3+19.g4c71912/BentoML.egg-info\n",
      "copying BentoML.egg-info/dependency_links.txt -> BentoML-0.5.3+19.g4c71912/BentoML.egg-info\n",
      "copying BentoML.egg-info/entry_points.txt -> BentoML-0.5.3+19.g4c71912/BentoML.egg-info\n",
      "copying BentoML.egg-info/requires.txt -> BentoML-0.5.3+19.g4c71912/BentoML.egg-info\n",
      "copying BentoML.egg-info/top_level.txt -> BentoML-0.5.3+19.g4c71912/BentoML.egg-info\n",
      "copying bentoml/__init__.py -> BentoML-0.5.3+19.g4c71912/bentoml\n",
      "copying bentoml/_version.py -> BentoML-0.5.3+19.g4c71912/bentoml\n",
      "copying bentoml/alembic.ini -> BentoML-0.5.3+19.g4c71912/bentoml\n",
      "copying bentoml/db.py -> BentoML-0.5.3+19.g4c71912/bentoml\n",
      "copying bentoml/exceptions.py -> BentoML-0.5.3+19.g4c71912/bentoml\n",
      "copying bentoml/service.py -> BentoML-0.5.3+19.g4c71912/bentoml\n",
      "copying bentoml/service_env.py -> BentoML-0.5.3+19.g4c71912/bentoml\n",
      "copying bentoml/artifact/__init__.py -> BentoML-0.5.3+19.g4c71912/bentoml/artifact\n",
      "copying bentoml/artifact/artifact.py -> BentoML-0.5.3+19.g4c71912/bentoml/artifact\n",
      "copying bentoml/artifact/fastai_model_artifact.py -> BentoML-0.5.3+19.g4c71912/bentoml/artifact\n",
      "copying bentoml/artifact/h2o_model_artifact.py -> BentoML-0.5.3+19.g4c71912/bentoml/artifact\n",
      "copying bentoml/artifact/keras_model_artifact.py -> BentoML-0.5.3+19.g4c71912/bentoml/artifact\n",
      "copying bentoml/artifact/lightgbm_model_artifact.py -> BentoML-0.5.3+19.g4c71912/bentoml/artifact\n",
      "copying bentoml/artifact/pickle_artifact.py -> BentoML-0.5.3+19.g4c71912/bentoml/artifact\n",
      "copying bentoml/artifact/pytorch_model_artifact.py -> BentoML-0.5.3+19.g4c71912/bentoml/artifact\n",
      "copying bentoml/artifact/sklearn_model_artifact.py -> BentoML-0.5.3+19.g4c71912/bentoml/artifact\n",
      "copying bentoml/artifact/text_file_artifact.py -> BentoML-0.5.3+19.g4c71912/bentoml/artifact\n",
      "copying bentoml/artifact/tf_savedmodel_artifact.py -> BentoML-0.5.3+19.g4c71912/bentoml/artifact\n",
      "copying bentoml/artifact/xgboost_model_artifact.py -> BentoML-0.5.3+19.g4c71912/bentoml/artifact\n",
      "copying bentoml/bundler/__init__.py -> BentoML-0.5.3+19.g4c71912/bentoml/bundler\n",
      "copying bentoml/bundler/bundler.py -> BentoML-0.5.3+19.g4c71912/bentoml/bundler\n",
      "copying bentoml/bundler/config.py -> BentoML-0.5.3+19.g4c71912/bentoml/bundler\n",
      "copying bentoml/bundler/loader.py -> BentoML-0.5.3+19.g4c71912/bentoml/bundler\n",
      "copying bentoml/bundler/py_module_utils.py -> BentoML-0.5.3+19.g4c71912/bentoml/bundler\n",
      "copying bentoml/bundler/templates.py -> BentoML-0.5.3+19.g4c71912/bentoml/bundler\n",
      "copying bentoml/bundler/utils.py -> BentoML-0.5.3+19.g4c71912/bentoml/bundler\n",
      "copying bentoml/cli/__init__.py -> BentoML-0.5.3+19.g4c71912/bentoml/cli\n",
      "copying bentoml/cli/click_utils.py -> BentoML-0.5.3+19.g4c71912/bentoml/cli\n",
      "copying bentoml/cli/config.py -> BentoML-0.5.3+19.g4c71912/bentoml/cli\n",
      "copying bentoml/cli/deployment.py -> BentoML-0.5.3+19.g4c71912/bentoml/cli\n",
      "copying bentoml/cli/utils.py -> BentoML-0.5.3+19.g4c71912/bentoml/cli\n",
      "copying bentoml/clipper/__init__.py -> BentoML-0.5.3+19.g4c71912/bentoml/clipper\n",
      "copying bentoml/configuration/__init__.py -> BentoML-0.5.3+19.g4c71912/bentoml/configuration\n",
      "copying bentoml/configuration/configparser.py -> BentoML-0.5.3+19.g4c71912/bentoml/configuration\n",
      "copying bentoml/configuration/default_bentoml.cfg -> BentoML-0.5.3+19.g4c71912/bentoml/configuration\n",
      "copying bentoml/deployment/__init__.py -> BentoML-0.5.3+19.g4c71912/bentoml/deployment\n",
      "copying bentoml/deployment/operator.py -> BentoML-0.5.3+19.g4c71912/bentoml/deployment\n",
      "copying bentoml/deployment/store.py -> BentoML-0.5.3+19.g4c71912/bentoml/deployment\n",
      "copying bentoml/deployment/utils.py -> BentoML-0.5.3+19.g4c71912/bentoml/deployment\n",
      "copying bentoml/deployment/aws_lambda/__init__.py -> BentoML-0.5.3+19.g4c71912/bentoml/deployment/aws_lambda\n",
      "copying bentoml/deployment/aws_lambda/download_extra_resources.py -> BentoML-0.5.3+19.g4c71912/bentoml/deployment/aws_lambda\n",
      "copying bentoml/deployment/aws_lambda/lambda_app.py -> BentoML-0.5.3+19.g4c71912/bentoml/deployment/aws_lambda\n",
      "copying bentoml/deployment/aws_lambda/utils.py -> BentoML-0.5.3+19.g4c71912/bentoml/deployment/aws_lambda\n",
      "copying bentoml/deployment/sagemaker/__init__.py -> BentoML-0.5.3+19.g4c71912/bentoml/deployment/sagemaker\n",
      "copying bentoml/deployment/sagemaker/templates.py -> BentoML-0.5.3+19.g4c71912/bentoml/deployment/sagemaker\n",
      "copying bentoml/deployment/serverless/__init__.py -> BentoML-0.5.3+19.g4c71912/bentoml/deployment/serverless\n",
      "copying bentoml/deployment/serverless/aws_lambda.py -> BentoML-0.5.3+19.g4c71912/bentoml/deployment/serverless\n",
      "copying bentoml/deployment/serverless/gcp_function.py -> BentoML-0.5.3+19.g4c71912/bentoml/deployment/serverless\n",
      "copying bentoml/deployment/serverless/serverless_utils.py -> BentoML-0.5.3+19.g4c71912/bentoml/deployment/serverless\n",
      "copying bentoml/handlers/__init__.py -> BentoML-0.5.3+19.g4c71912/bentoml/handlers\n",
      "copying bentoml/handlers/base_handlers.py -> BentoML-0.5.3+19.g4c71912/bentoml/handlers\n",
      "copying bentoml/handlers/clipper_handler.py -> BentoML-0.5.3+19.g4c71912/bentoml/handlers\n",
      "copying bentoml/handlers/dataframe_handler.py -> BentoML-0.5.3+19.g4c71912/bentoml/handlers\n",
      "copying bentoml/handlers/fastai_image_handler.py -> BentoML-0.5.3+19.g4c71912/bentoml/handlers\n",
      "copying bentoml/handlers/image_handler.py -> BentoML-0.5.3+19.g4c71912/bentoml/handlers\n",
      "copying bentoml/handlers/json_handler.py -> BentoML-0.5.3+19.g4c71912/bentoml/handlers\n",
      "copying bentoml/handlers/pytorch_tensor_handler.py -> BentoML-0.5.3+19.g4c71912/bentoml/handlers\n",
      "copying bentoml/handlers/tensorflow_tensor_handler.py -> BentoML-0.5.3+19.g4c71912/bentoml/handlers\n",
      "copying bentoml/migrations/README -> BentoML-0.5.3+19.g4c71912/bentoml/migrations\n",
      "copying bentoml/migrations/env.py -> BentoML-0.5.3+19.g4c71912/bentoml/migrations\n",
      "copying bentoml/migrations/script.py.mako -> BentoML-0.5.3+19.g4c71912/bentoml/migrations\n",
      "copying bentoml/migrations/versions/a6b00ae45279_add_last_updated_at_for_deployments.py -> BentoML-0.5.3+19.g4c71912/bentoml/migrations/versions\n",
      "copying bentoml/proto/__init__.py -> BentoML-0.5.3+19.g4c71912/bentoml/proto\n",
      "copying bentoml/proto/deployment_pb2.py -> BentoML-0.5.3+19.g4c71912/bentoml/proto\n",
      "copying bentoml/proto/repository_pb2.py -> BentoML-0.5.3+19.g4c71912/bentoml/proto\n",
      "copying bentoml/proto/status_pb2.py -> BentoML-0.5.3+19.g4c71912/bentoml/proto\n",
      "copying bentoml/proto/yatai_service_pb2.py -> BentoML-0.5.3+19.g4c71912/bentoml/proto\n",
      "copying bentoml/proto/yatai_service_pb2_grpc.py -> BentoML-0.5.3+19.g4c71912/bentoml/proto\n",
      "copying bentoml/repository/__init__.py -> BentoML-0.5.3+19.g4c71912/bentoml/repository\n",
      "copying bentoml/repository/metadata_store.py -> BentoML-0.5.3+19.g4c71912/bentoml/repository\n"
     ]
    },
    {
     "name": "stdout",
     "output_type": "stream",
     "text": [
      "copying bentoml/server/__init__.py -> BentoML-0.5.3+19.g4c71912/bentoml/server\n",
      "copying bentoml/server/bento_api_server.py -> BentoML-0.5.3+19.g4c71912/bentoml/server\n",
      "copying bentoml/server/bento_sagemaker_server.py -> BentoML-0.5.3+19.g4c71912/bentoml/server\n",
      "copying bentoml/server/gunicorn_config.py -> BentoML-0.5.3+19.g4c71912/bentoml/server\n",
      "copying bentoml/server/gunicorn_server.py -> BentoML-0.5.3+19.g4c71912/bentoml/server\n",
      "copying bentoml/server/utils.py -> BentoML-0.5.3+19.g4c71912/bentoml/server\n",
      "copying bentoml/server/static/swagger-ui-bundle.js -> BentoML-0.5.3+19.g4c71912/bentoml/server/static\n",
      "copying bentoml/server/static/swagger-ui.css -> BentoML-0.5.3+19.g4c71912/bentoml/server/static\n",
      "copying bentoml/utils/__init__.py -> BentoML-0.5.3+19.g4c71912/bentoml/utils\n",
      "copying bentoml/utils/cloudpickle.py -> BentoML-0.5.3+19.g4c71912/bentoml/utils\n",
      "copying bentoml/utils/hybirdmethod.py -> BentoML-0.5.3+19.g4c71912/bentoml/utils\n",
      "copying bentoml/utils/log.py -> BentoML-0.5.3+19.g4c71912/bentoml/utils\n",
      "copying bentoml/utils/s3.py -> BentoML-0.5.3+19.g4c71912/bentoml/utils\n",
      "copying bentoml/utils/tempdir.py -> BentoML-0.5.3+19.g4c71912/bentoml/utils\n",
      "copying bentoml/utils/usage_stats.py -> BentoML-0.5.3+19.g4c71912/bentoml/utils\n",
      "copying bentoml/utils/validator/__init__.py -> BentoML-0.5.3+19.g4c71912/bentoml/utils/validator\n",
      "copying bentoml/yatai/__init__.py -> BentoML-0.5.3+19.g4c71912/bentoml/yatai\n",
      "copying bentoml/yatai/deployment_utils.py -> BentoML-0.5.3+19.g4c71912/bentoml/yatai\n",
      "copying bentoml/yatai/python_api.py -> BentoML-0.5.3+19.g4c71912/bentoml/yatai\n",
      "copying bentoml/yatai/status.py -> BentoML-0.5.3+19.g4c71912/bentoml/yatai\n",
      "copying bentoml/yatai/yatai_service_impl.py -> BentoML-0.5.3+19.g4c71912/bentoml/yatai\n",
      "Writing BentoML-0.5.3+19.g4c71912/setup.cfg\n",
      "UPDATING BentoML-0.5.3+19.g4c71912/bentoml/_version.py\n",
      "set BentoML-0.5.3+19.g4c71912/bentoml/_version.py to '0.5.3+19.g4c71912'\n",
      "Creating tar archive\n",
      "removing 'BentoML-0.5.3+19.g4c71912' (and everything under it)\n",
      "[2019-12-16 13:29:46,554] INFO - BentoService bundle 'SentimentLRModel:20191216132917_85D657' created at: /private/var/folders/kn/xnc9k74x03567n1mx2tfqnpr0000gn/T/bentoml-temp-9_nee6z5\n",
      "[2019-12-16 13:29:46,556] WARNING - BentoML local changes detected - Local BentoML repository including all code changes will be bundled together with the BentoService bundle. When used with docker, the base docker image will be default to same version as last PyPI release at version: 0.5.3. You can also force bentoml to use a specific version for deploying your BentoService bundle, by setting the config 'core/bentoml_deploy_version' to a pinned version or your custom BentoML on github, e.g.:'bentoml_deploy_version = git+https://github.com/{username}/bentoml.git@{branch}'\n",
      "[2019-12-16 13:29:46,571] WARNING - Saved BentoService bundle version mismatch: loading BentoServie bundle create with BentoML version 0.5.3,  but loading from BentoML version 0.5.3+19.g4c71912\n",
      "[2019-12-16 13:29:46,828] INFO - BentoService bundle 'SentimentLRModel:20191216132917_85D657' created at: /Users/bozhaoyu/bentoml/repository/SentimentLRModel/20191216132917_85D657\n"
     ]
    }
   ],
   "source": [
    "# 1) import the custom BentoService defined above\n",
    "from sentiment_lr_model import SentimentLRModel\n",
    "\n",
    "# 2) `pack` it with required artifacts\n",
    "bento_service = SentimentLRModel()\n",
    "bento_service.pack('model', sentiment_lr)\n",
    "\n",
    "# 3) save BentoSerivce to file archive\n",
    "saved_path = bento_service.save()"
   ]
  },
  {
   "cell_type": "markdown",
   "metadata": {},
   "source": [
    "## Load saved BentoService"
   ]
  },
  {
   "cell_type": "code",
   "execution_count": 10,
   "metadata": {
    "scrolled": false
   },
   "outputs": [
    {
     "name": "stdout",
     "output_type": "stream",
     "text": [
      "[2019-12-16 13:30:00,510] WARNING - BentoML local changes detected - Local BentoML repository including all code changes will be bundled together with the BentoService bundle. When used with docker, the base docker image will be default to same version as last PyPI release at version: 0.5.3. You can also force bentoml to use a specific version for deploying your BentoService bundle, by setting the config 'core/bentoml_deploy_version' to a pinned version or your custom BentoML on github, e.g.:'bentoml_deploy_version = git+https://github.com/{username}/bentoml.git@{branch}'\n",
      "[2019-12-16 13:30:00,523] WARNING - Saved BentoService bundle version mismatch: loading BentoServie bundle create with BentoML version 0.5.3,  but loading from BentoML version 0.5.3+19.g4c71912\n",
      "[2019-12-16 13:30:00,526] WARNING - Module `sentiment_lr_model` already loaded, using existing imported module.\n",
      "[2019-12-16 13:30:00,777] WARNING - BentoML local changes detected - Local BentoML repository including all code changes will be bundled together with the BentoService bundle. When used with docker, the base docker image will be default to same version as last PyPI release at version: 0.5.3. You can also force bentoml to use a specific version for deploying your BentoService bundle, by setting the config 'core/bentoml_deploy_version' to a pinned version or your custom BentoML on github, e.g.:'bentoml_deploy_version = git+https://github.com/{username}/bentoml.git@{branch}'\n"
     ]
    },
    {
     "data": {
      "text/plain": [
       "array([4, 4])"
      ]
     },
     "execution_count": 10,
     "metadata": {},
     "output_type": "execute_result"
    }
   ],
   "source": [
    "# Load exported bentoML model archive from path\n",
    "loaded_bento_service = bentoml.load(saved_path)\n",
    "\n",
    "# Call predict on the restored BentoService\n",
    "loaded_bento_service.predict(pd.Series([\"hello\", \"hi\"]))"
   ]
  },
  {
   "cell_type": "code",
   "execution_count": 11,
   "metadata": {},
   "outputs": [
    {
     "name": "stdout",
     "output_type": "stream",
     "text": [
      "SentimentLRModel:20191216132917_85D657\n"
     ]
    }
   ],
   "source": [
    "bento_tag = '{name}:{version}'.format(name=bento_service.name, version=bento_service.version)\n",
    "print(bento_tag)"
   ]
  },
  {
   "cell_type": "markdown",
   "metadata": {},
   "source": [
    "# AWS ECS Deployment"
   ]
  },
  {
   "cell_type": "markdown",
   "metadata": {},
   "source": [
    "## Build and push docker image to AWS ECR"
   ]
  },
  {
   "cell_type": "markdown",
   "metadata": {},
   "source": [
    "*Get docker login info from AWS ecr*"
   ]
  },
  {
   "cell_type": "code",
   "execution_count": 18,
   "metadata": {},
   "outputs": [
    {
     "name": "stdout",
     "output_type": "stream",
     "text": [
      "docker login -u AWS -p eyJwYXlsb2FkIjoiYnFQdjVIUkRpbzl0bXB4aFM4Ny9nbWp4OTV2UTZwTFp1WEhrNEZyWGsvaHBFNjBqUGU2Vm40aVNPdVhnb3BNaHNZMHJWeFFnQ09vUVBMRHdIbXdTSDR2TVZCdTUrL0gwb3V0Z3dJRFMwUUx6MmNxSmdPK0pqUmh4SWhDZTIwa0dHWWZ3M3gvM0pxYXlTcUdnUUtkSGFhMDJkenBnTWNOVU9ia2NESHJKQ0NJeGNZUGgwWHhiNWpCT0piYTlrU0RwajJIVFJCalNnMjZaRnZJUWVwcnprY0JpNStiUnMzVWFmbXozdHlHczJzTzI1SXh1QjFudzBiOVNIdjBXZTZydWVDSlRjV0dLN3FMZG1yL29iN2gzZW4wY1JORHVJcFJoVFdwY1NKWGllY3J1SEp0Y3JMRElnMzRmOGVRY0RhREdXcTVJbklaRkc3MU5ERTYvSUZham96blExK0ZJM0liY0c4eEtUemYxUllseG9jd2FBcmduWlFnMmhSc081VjJScjlRakp5cEcxeWYyWkI4M3Q1M2FsTTRCVVg1R1JZRFN6bitFeGNOSkphVjVIcTU2UDY0djRhU2VvQTBtQmRyU3BvV1Z5K0xwRElKWkFZcFFZZEQvc2ZrNC9sRU8xL0kwWTFRQkg1bU8zRWlkakVXa2hBZG05TGlLU3VvLzRLL21TcFBZTDB0S1l3cTlQRUUwTDVCSG9yQ2NiSTIvMm9VdG42NUNTOWZHeGpnUTRpZnJGZnE5VXhwbWZUTHZTZms4c3dmOXdCN2ZSTDRhN1E2SGh6MlF5enRqSDhNWFNnNHFXZTVobitBYUxYYWxHU1lWbkdRdnFGTlk3ODl2SnVUNnNuRXFrYjlTbTlVc3J3R3B4TzBnQUYyVG9MQWNScHlVeFE5QlMzS0M1aXdMaVM5OExHN0EzSFkxNnF4VU4yaW1lT2JEL3FFRXdLKzBsK0xQY2E3TjRacGpoaXJEamN6MFBCQ0hOMnNtSXJpUktFQUNSZlFnUGsyNTc4VzNlSlRZYk9DNnZGM29UV0ptbUNqN3RHSUpvd05TRDJNNzdoMWhYaFRpdzBaZ2FCTzdDTE5USTRWcHl4a2IxOE5IYWZ6TE5UTXdZeEhaanRqZDBaUkdzdTl4V0hJL1ZkL2hTbzJ4Uk9teTRMelhoV3k4S256ZUJwNXIwa2pvaWlDOHFSYmZvYlVyVnUvSmEyaklRSlh4K2xkekpJcyt6dlY0NHAyaWMrSzVsc3RFbVo5c05MUFQ4ZStRajVKU1oxSm1TMWZNcDBKSzhIV3pGdld1dlJIY0JBbWIwbGxVNlhrOUthd3JJNUdCNy9mQUc2S2RrdXdNbXRHNDlsSGV6OXgrT3Y0VmhvWEpuVGl3RkxSZnlWTEhRS1I4NXFBS3hGdkdFOUh4QUkrcXpiMUNJaDdrZ0R0RVY3RXpHV3IwN2ZzVjRiSExqMEhuckhoSVUwcEdzczNqRmoyQWxUZkpCMDNTZmc9PSIsImRhdGFrZXkiOiJBUUVCQUhqNmxjNFhJSncvN2xuMEhjMDBETWVrNkdFeEhDYlk0UklwVE1DSTU4SW5Vd0FBQUg0d2ZBWUpLb1pJaHZjTkFRY0dvRzh3YlFJQkFEQm9CZ2txaGtpRzl3MEJCd0V3SGdZSllJWklBV1VEQkFFdU1CRUVESnNTSCsvVjhDUStlUkhaWVFJQkVJQTdETThKR2JEc1h5NHBnR0pyQ3A2cm45Y0xiaDcrQ3NUOThiRGVvMXZwb3JyWVRQZEZXV0l2UUtITTJLTW9yYVJSTHcwZ0NzQk12ZjBrTEJFPSIsInZlcnNpb24iOiIyIiwidHlwZSI6IkRBVEFfS0VZIiwiZXhwaXJhdGlvbiI6MTU3NjU4NDg0OH0= https://192023623294.dkr.ecr.us-west-2.amazonaws.com\r\n"
     ]
    }
   ],
   "source": [
    "!aws ecr get-login --region us-west-2 --no-include-email"
   ]
  },
  {
   "cell_type": "markdown",
   "metadata": {},
   "source": [
    "*Copy and run the output from previous cell*"
   ]
  },
  {
   "cell_type": "code",
   "execution_count": 19,
   "metadata": {},
   "outputs": [
    {
     "name": "stdout",
     "output_type": "stream",
     "text": [
      "WARNING! Using --password via the CLI is insecure. Use --password-stdin.\n",
      "Login Succeeded\n"
     ]
    }
   ],
   "source": [
    "!docker login -u AWS -p eyJwYXlsb2FkIjoiYnFQdjVIUkRpbzl0bXB4aFM4Ny9nbWp4OTV2UTZwTFp1WEhrNEZyWGsvaHBFNjBqUGU2Vm40aVNPdVhnb3BNaHNZMHJWeFFnQ09vUVBMRHdIbXdTSDR2TVZCdTUrL0gwb3V0Z3dJRFMwUUx6MmNxSmdPK0pqUmh4SWhDZTIwa0dHWWZ3M3gvM0pxYXlTcUdnUUtkSGFhMDJkenBnTWNOVU9ia2NESHJKQ0NJeGNZUGgwWHhiNWpCT0piYTlrU0RwajJIVFJCalNnMjZaRnZJUWVwcnprY0JpNStiUnMzVWFmbXozdHlHczJzTzI1SXh1QjFudzBiOVNIdjBXZTZydWVDSlRjV0dLN3FMZG1yL29iN2gzZW4wY1JORHVJcFJoVFdwY1NKWGllY3J1SEp0Y3JMRElnMzRmOGVRY0RhREdXcTVJbklaRkc3MU5ERTYvSUZham96blExK0ZJM0liY0c4eEtUemYxUllseG9jd2FBcmduWlFnMmhSc081VjJScjlRakp5cEcxeWYyWkI4M3Q1M2FsTTRCVVg1R1JZRFN6bitFeGNOSkphVjVIcTU2UDY0djRhU2VvQTBtQmRyU3BvV1Z5K0xwRElKWkFZcFFZZEQvc2ZrNC9sRU8xL0kwWTFRQkg1bU8zRWlkakVXa2hBZG05TGlLU3VvLzRLL21TcFBZTDB0S1l3cTlQRUUwTDVCSG9yQ2NiSTIvMm9VdG42NUNTOWZHeGpnUTRpZnJGZnE5VXhwbWZUTHZTZms4c3dmOXdCN2ZSTDRhN1E2SGh6MlF5enRqSDhNWFNnNHFXZTVobitBYUxYYWxHU1lWbkdRdnFGTlk3ODl2SnVUNnNuRXFrYjlTbTlVc3J3R3B4TzBnQUYyVG9MQWNScHlVeFE5QlMzS0M1aXdMaVM5OExHN0EzSFkxNnF4VU4yaW1lT2JEL3FFRXdLKzBsK0xQY2E3TjRacGpoaXJEamN6MFBCQ0hOMnNtSXJpUktFQUNSZlFnUGsyNTc4VzNlSlRZYk9DNnZGM29UV0ptbUNqN3RHSUpvd05TRDJNNzdoMWhYaFRpdzBaZ2FCTzdDTE5USTRWcHl4a2IxOE5IYWZ6TE5UTXdZeEhaanRqZDBaUkdzdTl4V0hJL1ZkL2hTbzJ4Uk9teTRMelhoV3k4S256ZUJwNXIwa2pvaWlDOHFSYmZvYlVyVnUvSmEyaklRSlh4K2xkekpJcyt6dlY0NHAyaWMrSzVsc3RFbVo5c05MUFQ4ZStRajVKU1oxSm1TMWZNcDBKSzhIV3pGdld1dlJIY0JBbWIwbGxVNlhrOUthd3JJNUdCNy9mQUc2S2RrdXdNbXRHNDlsSGV6OXgrT3Y0VmhvWEpuVGl3RkxSZnlWTEhRS1I4NXFBS3hGdkdFOUh4QUkrcXpiMUNJaDdrZ0R0RVY3RXpHV3IwN2ZzVjRiSExqMEhuckhoSVUwcEdzczNqRmoyQWxUZkpCMDNTZmc9PSIsImRhdGFrZXkiOiJBUUVCQUhqNmxjNFhJSncvN2xuMEhjMDBETWVrNkdFeEhDYlk0UklwVE1DSTU4SW5Vd0FBQUg0d2ZBWUpLb1pJaHZjTkFRY0dvRzh3YlFJQkFEQm9CZ2txaGtpRzl3MEJCd0V3SGdZSllJWklBV1VEQkFFdU1CRUVESnNTSCsvVjhDUStlUkhaWVFJQkVJQTdETThKR2JEc1h5NHBnR0pyQ3A2cm45Y0xiaDcrQ3NUOThiRGVvMXZwb3JyWVRQZEZXV0l2UUtITTJLTW9yYVJSTHcwZ0NzQk12ZjBrTEJFPSIsInZlcnNpb24iOiIyIiwidHlwZSI6IkRBVEFfS0VZIiwiZXhwaXJhdGlvbiI6MTU3NjU4NDg0OH0= https://192023623294.dkr.ecr.us-west-2.amazonaws.com\n"
   ]
  },
  {
   "cell_type": "markdown",
   "metadata": {},
   "source": [
    "**Build docker image**"
   ]
  },
  {
   "cell_type": "code",
   "execution_count": 59,
   "metadata": {
    "scrolled": true
   },
   "outputs": [
    {
     "name": "stdout",
     "output_type": "stream",
     "text": [
      "Sending build context to Docker daemon  9.283MB\r",
      "\r\n",
      "Step 1/12 : FROM continuumio/miniconda3:4.7.12\n",
      " ---> 406f2b43ea59\n",
      "Step 2/12 : ENTRYPOINT [ \"/bin/bash\", \"-c\" ]\n",
      " ---> Using cache\n",
      " ---> 52d60658abca\n",
      "Step 3/12 : EXPOSE 5000\n",
      " ---> Using cache\n",
      " ---> 041d44f68694\n",
      "Step 4/12 : RUN set -x      && apt-get update      && apt-get install --no-install-recommends --no-install-suggests -y libpq-dev build-essential      && rm -rf /var/lib/apt/lists/*\n",
      " ---> Using cache\n",
      " ---> a618012fac78\n",
      "Step 5/12 : RUN conda update conda -y       && conda install pip numpy scipy       && pip install gunicorn\n",
      " ---> Using cache\n",
      " ---> f40b70099ec8\n",
      "Step 6/12 : COPY . /bento\n",
      " ---> be181a1904d3\n",
      "Step 7/12 : WORKDIR /bento\n",
      " ---> Running in ea1152d959b1\n",
      "Removing intermediate container ea1152d959b1\n",
      " ---> 60ff0402076b\n",
      "Step 8/12 : RUN conda env update -n base -f /bento/environment.yml\n",
      " ---> Running in 10a070278bf7\n",
      "Collecting package metadata (repodata.json): ...working... done\n",
      "Solving environment: ...working... done\n",
      "\n",
      "Downloading and Extracting Packages\n",
      "\r",
      "python-3.7.2         | 31.9 MB   |            |   0% \r",
      "python-3.7.2         | 31.9 MB   |            |   0% \r",
      "python-3.7.2         | 31.9 MB   | 4          |   4% \r",
      "python-3.7.2         | 31.9 MB   | 6          |   6% \r",
      "python-3.7.2         | 31.9 MB   | 8          |   9% \r",
      "python-3.7.2         | 31.9 MB   | #1         |  11% \r",
      "python-3.7.2         | 31.9 MB   | #4         |  14% \r",
      "python-3.7.2         | 31.9 MB   | #7         |  17% \r",
      "python-3.7.2         | 31.9 MB   | #9         |  19% \r",
      "python-3.7.2         | 31.9 MB   | ##2        |  22% \r",
      "python-3.7.2         | 31.9 MB   | ##5        |  26% \r",
      "python-3.7.2         | 31.9 MB   | ##8        |  28% \r",
      "python-3.7.2         | 31.9 MB   | ###        |  30% \r",
      "python-3.7.2         | 31.9 MB   | ###2       |  33% \r",
      "python-3.7.2         | 31.9 MB   | ###6       |  36% \r",
      "python-3.7.2         | 31.9 MB   | ###8       |  39% \r",
      "python-3.7.2         | 31.9 MB   | ####1      |  41% \r",
      "python-3.7.2         | 31.9 MB   | ####3      |  43% \r",
      "python-3.7.2         | 31.9 MB   | ####6      |  47% \r",
      "python-3.7.2         | 31.9 MB   | ####9      |  49% \r",
      "python-3.7.2         | 31.9 MB   | #####2     |  52% \r",
      "python-3.7.2         | 31.9 MB   | #####4     |  55% \r",
      "python-3.7.2         | 31.9 MB   | #####7     |  57% \r",
      "python-3.7.2         | 31.9 MB   | ######     |  60% \r",
      "python-3.7.2         | 31.9 MB   | ######3    |  64% \r",
      "python-3.7.2         | 31.9 MB   | ######6    |  66% \r",
      "python-3.7.2         | 31.9 MB   | ######9    |  70% \r",
      "python-3.7.2         | 31.9 MB   | #######2   |  72% \r",
      "python-3.7.2         | 31.9 MB   | #######5   |  75% \r",
      "python-3.7.2         | 31.9 MB   | #######8   |  79% \r",
      "python-3.7.2         | 31.9 MB   | ########1  |  81% \r",
      "python-3.7.2         | 31.9 MB   | ########4  |  84% \r",
      "python-3.7.2         | 31.9 MB   | ########7  |  87% \r",
      "python-3.7.2         | 31.9 MB   | #########  |  90% \r",
      "python-3.7.2         | 31.9 MB   | #########3 |  93% \r",
      "python-3.7.2         | 31.9 MB   | #########6 |  96% \r",
      "python-3.7.2         | 31.9 MB   | #########9 |  99% \r",
      "python-3.7.2         | 31.9 MB   | ########## | 100% \n",
      "Preparing transaction: ...working... done\n",
      "Verifying transaction: ...working... done\n",
      "Executing transaction: ...working... done\n",
      "#\n",
      "# To activate this environment, use\n",
      "#\n",
      "#     $ conda activate base\n",
      "#\n",
      "# To deactivate an active environment, use\n",
      "#\n",
      "#     $ conda deactivate\n",
      "\n",
      "Removing intermediate container 10a070278bf7\n",
      " ---> 60206bf45998\n",
      "Step 9/12 : RUN pip install -r /bento/requirements.txt\n",
      " ---> Running in 56d51426ec77\n",
      "Collecting bentoml==0.5.3\n",
      "  Downloading https://files.pythonhosted.org/packages/20/53/6656851abd7ea4df7d3934a0b7eb8972c3c40dad2b4c0ea6b23e0c9c0624/BentoML-0.5.3-py3-none-any.whl (523kB)\n",
      "Collecting sklearn\n",
      "  Downloading https://files.pythonhosted.org/packages/1e/7a/dbb3be0ce9bd5c8b7e3d87328e79063f8b263b2b1bfa4774cb1147bfcd3f/sklearn-0.0.tar.gz\n",
      "Requirement already satisfied: numpy in /opt/conda/lib/python3.7/site-packages (from -r /bento/requirements.txt (line 3)) (1.17.4)\n",
      "Collecting pandas\n",
      "  Downloading https://files.pythonhosted.org/packages/63/e0/a1b39cdcb2c391f087a1538bc8a6d62a82d0439693192aef541d7b123769/pandas-0.25.3-cp37-cp37m-manylinux1_x86_64.whl (10.4MB)\n",
      "Collecting click>=7.0\n",
      "  Downloading https://files.pythonhosted.org/packages/fa/37/45185cb5abbc30d7257104c434fe0b07e5a195a6847506c074527aa599ec/Click-7.0-py2.py3-none-any.whl (81kB)\n",
      "Collecting ruamel.yaml>=0.15.0\n",
      "  Downloading https://files.pythonhosted.org/packages/fa/90/ecff85a2e9c497e2fa7142496e10233556b5137db5bd46f3f3b006935ca8/ruamel.yaml-0.16.5-py2.py3-none-any.whl (123kB)\n",
      "Collecting python-json-logger\n",
      "  Downloading https://files.pythonhosted.org/packages/80/9d/1c3393a6067716e04e6fcef95104c8426d262b4adaf18d7aa2470eab028d/python-json-logger-0.1.11.tar.gz\n",
      "Collecting boto3\n",
      "  Downloading https://files.pythonhosted.org/packages/5d/62/9629ee1a41757b65b55c2070d2e0afee80a89e3ea0076b9b9669a773308b/boto3-1.10.40-py2.py3-none-any.whl (128kB)\n",
      "Collecting flask\n",
      "  Downloading https://files.pythonhosted.org/packages/9b/93/628509b8d5dc749656a9641f4caf13540e2cdec85276964ff8f43bbb1d3b/Flask-1.1.1-py2.py3-none-any.whl (94kB)\n",
      "Collecting alembic\n",
      "  Downloading https://files.pythonhosted.org/packages/dc/6d/3c1411dfdcf089ec89ce5e2222deb2292f39b6b1a5911222e15af9fe5a92/alembic-1.3.2.tar.gz (1.1MB)\n",
      "Collecting configparser\n",
      "  Downloading https://files.pythonhosted.org/packages/7a/2a/95ed0501cf5d8709490b1d3a3f9b5cf340da6c433f896bbe9ce08dbe6785/configparser-4.0.2-py2.py3-none-any.whl\n",
      "Collecting grpcio\n",
      "  Downloading https://files.pythonhosted.org/packages/b5/68/070ee7609b452e950bd5af35f7161f0ceb0abd61cf16ff3b23c852d4594b/grpcio-1.25.0-cp37-cp37m-manylinux2010_x86_64.whl (2.4MB)\n",
      "Requirement already satisfied: six in /opt/conda/lib/python3.7/site-packages (from bentoml==0.5.3->-r /bento/requirements.txt (line 1)) (1.13.0)\n",
      "Collecting packaging\n",
      "  Downloading https://files.pythonhosted.org/packages/cf/94/9672c2d4b126e74c4496c6b3c58a8b51d6419267be9e70660ba23374c875/packaging-19.2-py2.py3-none-any.whl\n",
      "Collecting prometheus-client\n",
      "  Downloading https://files.pythonhosted.org/packages/b3/23/41a5a24b502d35a4ad50a5bb7202a5e1d9a0364d0c12f56db3dbf7aca76d/prometheus_client-0.7.1.tar.gz\n",
      "Collecting sqlalchemy>=1.3.0\n",
      "  Downloading https://files.pythonhosted.org/packages/17/7f/35879c73859368ad19a952b69ee780aa97fc30350dabd45fb948d6a4e3ea/SQLAlchemy-1.3.12.tar.gz (6.0MB)\n",
      "Requirement already satisfied: gunicorn in /opt/conda/lib/python3.7/site-packages (from bentoml==0.5.3->-r /bento/requirements.txt (line 1)) (20.0.4)\n",
      "Collecting humanfriendly\n",
      "  Downloading https://files.pythonhosted.org/packages/90/df/88bff450f333114680698dc4aac7506ff7cab164b794461906de31998665/humanfriendly-4.18-py2.py3-none-any.whl (73kB)\n",
      "Collecting pathlib2\n",
      "  Downloading https://files.pythonhosted.org/packages/e9/45/9c82d3666af4ef9f221cbb954e1d77ddbb513faf552aea6df5f37f1a4859/pathlib2-2.3.5-py2.py3-none-any.whl\n",
      "Requirement already satisfied: requests in /opt/conda/lib/python3.7/site-packages (from bentoml==0.5.3->-r /bento/requirements.txt (line 1)) (2.22.0)\n",
      "Collecting protobuf>=3.6.0\n",
      "  Downloading https://files.pythonhosted.org/packages/c8/bd/9609c681f655c4b85f4e4f4c99d42b68bca63ad8891c6924ba6696dee0bb/protobuf-3.11.1-cp37-cp37m-manylinux1_x86_64.whl (1.3MB)\n",
      "Collecting tabulate\n",
      "  Downloading https://files.pythonhosted.org/packages/c4/41/523f6a05e6dc3329a5660f6a81254c6cd87e5cfb5b7482bae3391d86ec3a/tabulate-0.8.6.tar.gz (45kB)\n",
      "Collecting cerberus\n",
      "  Downloading https://files.pythonhosted.org/packages/90/a7/71c6ed2d46a81065e68c007ac63378b96fa54c7bb614d653c68232f9c50c/Cerberus-1.3.2.tar.gz (52kB)\n",
      "Collecting docker\n",
      "  Downloading https://files.pythonhosted.org/packages/cc/ca/699d4754a932787ef353a157ada74efd1ceb6d1fc0bfb7989ae1e7b33111/docker-4.1.0-py2.py3-none-any.whl (139kB)\n",
      "Collecting scikit-learn\n",
      "  Downloading https://files.pythonhosted.org/packages/19/96/8034e350d4550748277e514d0d6d91bdd36be19e6c5f40b8af0d74cb0c84/scikit_learn-0.22-cp37-cp37m-manylinux1_x86_64.whl (7.0MB)\n",
      "Collecting pytz>=2017.2\n",
      "  Downloading https://files.pythonhosted.org/packages/e7/f9/f0b53f88060247251bf481fa6ea62cd0d25bf1b11a87888e53ce5b7c8ad2/pytz-2019.3-py2.py3-none-any.whl (509kB)\n",
      "Collecting python-dateutil>=2.6.1\n",
      "  Downloading https://files.pythonhosted.org/packages/d4/70/d60450c3dd48ef87586924207ae8907090de0b306af2bce5d134d78615cb/python_dateutil-2.8.1-py2.py3-none-any.whl (227kB)\n",
      "Collecting ruamel.yaml.clib>=0.1.2; platform_python_implementation == \"CPython\" and python_version < \"3.8\"\n",
      "  Downloading https://files.pythonhosted.org/packages/40/80/da16b691d5e259dd9919a10628e541fca321cb4b078fbb88e1c7c22aa42d/ruamel.yaml.clib-0.2.0-cp37-cp37m-manylinux1_x86_64.whl (547kB)\n",
      "Collecting botocore<1.14.0,>=1.13.40\n",
      "  Downloading https://files.pythonhosted.org/packages/6b/16/c8fa1876cd4e7749e67e3d47e9fa88dfde4c4aded28747e278be3424733d/botocore-1.13.40-py2.py3-none-any.whl (5.8MB)\n",
      "Collecting jmespath<1.0.0,>=0.7.1\n",
      "  Downloading https://files.pythonhosted.org/packages/83/94/7179c3832a6d45b266ddb2aac329e101367fbdb11f425f13771d27f225bb/jmespath-0.9.4-py2.py3-none-any.whl\n",
      "Collecting s3transfer<0.3.0,>=0.2.0\n",
      "  Downloading https://files.pythonhosted.org/packages/16/8a/1fc3dba0c4923c2a76e1ff0d52b305c44606da63f718d14d3231e21c51b0/s3transfer-0.2.1-py2.py3-none-any.whl (70kB)\n",
      "Collecting Werkzeug>=0.15\n",
      "  Downloading https://files.pythonhosted.org/packages/ce/42/3aeda98f96e85fd26180534d36570e4d18108d62ae36f87694b476b83d6f/Werkzeug-0.16.0-py2.py3-none-any.whl (327kB)\n",
      "Collecting Jinja2>=2.10.1\n",
      "  Downloading https://files.pythonhosted.org/packages/65/e0/eb35e762802015cab1ccee04e8a277b03f1d8e53da3ec3106882ec42558b/Jinja2-2.10.3-py2.py3-none-any.whl (125kB)\n",
      "Collecting itsdangerous>=0.24\n",
      "  Downloading https://files.pythonhosted.org/packages/76/ae/44b03b253d6fade317f32c24d100b3b35c2239807046a4c953c7b89fa49e/itsdangerous-1.1.0-py2.py3-none-any.whl\n",
      "Collecting Mako\n",
      "  Downloading https://files.pythonhosted.org/packages/b0/3c/8dcd6883d009f7cae0f3157fb53e9afb05a0d3d33b3db1268ec2e6f4a56b/Mako-1.1.0.tar.gz (463kB)\n",
      "Collecting python-editor>=0.3\n",
      "  Downloading https://files.pythonhosted.org/packages/c6/d3/201fc3abe391bbae6606e6f1d598c15d367033332bd54352b12f35513717/python_editor-1.0.4-py3-none-any.whl\n",
      "Collecting pyparsing>=2.0.2\n",
      "  Downloading https://files.pythonhosted.org/packages/c0/0c/fc2e007d9a992d997f04a80125b0f183da7fb554f1de701bbb70a8e7d479/pyparsing-2.4.5-py2.py3-none-any.whl (67kB)\n",
      "Requirement already satisfied: setuptools>=3.0 in /opt/conda/lib/python3.7/site-packages (from gunicorn->bentoml==0.5.3->-r /bento/requirements.txt (line 1)) (42.0.2.post20191203)\n",
      "Requirement already satisfied: certifi>=2017.4.17 in /opt/conda/lib/python3.7/site-packages (from requests->bentoml==0.5.3->-r /bento/requirements.txt (line 1)) (2019.11.28)\n",
      "Requirement already satisfied: idna<2.9,>=2.5 in /opt/conda/lib/python3.7/site-packages (from requests->bentoml==0.5.3->-r /bento/requirements.txt (line 1)) (2.8)\n",
      "Requirement already satisfied: urllib3!=1.25.0,!=1.25.1,<1.26,>=1.21.1 in /opt/conda/lib/python3.7/site-packages (from requests->bentoml==0.5.3->-r /bento/requirements.txt (line 1)) (1.25.7)\n",
      "Requirement already satisfied: chardet<3.1.0,>=3.0.2 in /opt/conda/lib/python3.7/site-packages (from requests->bentoml==0.5.3->-r /bento/requirements.txt (line 1)) (3.0.4)\n",
      "Collecting websocket-client>=0.32.0\n",
      "  Downloading https://files.pythonhosted.org/packages/29/19/44753eab1fdb50770ac69605527e8859468f3c0fd7dc5a76dd9c4dbd7906/websocket_client-0.56.0-py2.py3-none-any.whl (200kB)\n",
      "Collecting joblib>=0.11\n",
      "  Downloading https://files.pythonhosted.org/packages/28/5c/cf6a2b65a321c4a209efcdf64c2689efae2cb62661f8f6f4bb28547cf1bf/joblib-0.14.1-py2.py3-none-any.whl (294kB)\n",
      "Requirement already satisfied: scipy>=0.17.0 in /opt/conda/lib/python3.7/site-packages (from scikit-learn->sklearn->-r /bento/requirements.txt (line 2)) (1.3.2)\n",
      "Collecting docutils<0.16,>=0.10\n",
      "  Downloading https://files.pythonhosted.org/packages/22/cd/a6aa959dca619918ccb55023b4cb151949c64d4d5d55b3f4ffd7eee0c6e8/docutils-0.15.2-py3-none-any.whl (547kB)\n",
      "Collecting MarkupSafe>=0.23\n",
      "  Downloading https://files.pythonhosted.org/packages/98/7b/ff284bd8c80654e471b769062a9b43cc5d03e7a615048d96f4619df8d420/MarkupSafe-1.1.1-cp37-cp37m-manylinux1_x86_64.whl\n",
      "Building wheels for collected packages: sklearn, python-json-logger, alembic, prometheus-client, sqlalchemy, tabulate, cerberus, Mako\n",
      "  Building wheel for sklearn (setup.py): started\n",
      "  Building wheel for sklearn (setup.py): finished with status 'done'\n",
      "  Created wheel for sklearn: filename=sklearn-0.0-py2.py3-none-any.whl size=1316 sha256=ee768234506c0aff93e999e31ce65e6aa7e8f9ce0dbaa517a30d6f3f27ef6d1b\n",
      "  Stored in directory: /root/.cache/pip/wheels/76/03/bb/589d421d27431bcd2c6da284d5f2286c8e3b2ea3cf1594c074\n",
      "  Building wheel for python-json-logger (setup.py): started\n",
      "  Building wheel for python-json-logger (setup.py): finished with status 'done'\n",
      "  Created wheel for python-json-logger: filename=python_json_logger-0.1.11-py2.py3-none-any.whl size=5076 sha256=1486766b2bae040d124ee4e3316a1d5d45ccd9a7acdbcc5472834673538c2efe\n",
      "  Stored in directory: /root/.cache/pip/wheels/97/f7/a1/752e22bb30c1cfe38194ea0070a5c66e76ef4d06ad0c7dc401\n",
      "  Building wheel for alembic (setup.py): started\n",
      "  Building wheel for alembic (setup.py): finished with status 'done'\n",
      "  Created wheel for alembic: filename=alembic-1.3.2-py2.py3-none-any.whl size=151128 sha256=9a9b9840b422c364773e7da0809a1542b1b27631802e9059450218d10e17f5ac\n",
      "  Stored in directory: /root/.cache/pip/wheels/5c/66/53/e0633382ac8625ab1c099db6a290d1b6b24f849a4666a57105\n",
      "  Building wheel for prometheus-client (setup.py): started\n",
      "  Building wheel for prometheus-client (setup.py): finished with status 'done'\n",
      "  Created wheel for prometheus-client: filename=prometheus_client-0.7.1-cp37-none-any.whl size=41402 sha256=811c987036a4f243fd8f82b9f70eac33a79298f61efc5b009b00434b87f78d43\n",
      "  Stored in directory: /root/.cache/pip/wheels/1c/54/34/fd47cd9b308826cc4292b54449c1899a30251ef3b506bc91ea\n",
      "  Building wheel for sqlalchemy (setup.py): started\n",
      "  Building wheel for sqlalchemy (setup.py): finished with status 'done'\n",
      "  Created wheel for sqlalchemy: filename=SQLAlchemy-1.3.12-cp37-cp37m-linux_x86_64.whl size=1220007 sha256=a16dda3cee01242502a77d417db1f5336541646b38dabcd6d8666ce9fd9e36b9\n",
      "  Stored in directory: /root/.cache/pip/wheels/ee/33/44/0788a6e806866ae2e246d5cd841d07498a46bcb3f3c42ea5a4\n",
      "  Building wheel for tabulate (setup.py): started\n",
      "  Building wheel for tabulate (setup.py): finished with status 'done'\n",
      "  Created wheel for tabulate: filename=tabulate-0.8.6-cp37-none-any.whl size=23274 sha256=04fa3ba61173c3b11a45ea566ccb4ed9120324bcba4f77fac1f4a70b81e1829f\n",
      "  Stored in directory: /root/.cache/pip/wheels/9c/9b/f4/eb243fdb89676ec00588e8c54bb54360724c06e7fafe95278e\n",
      "  Building wheel for cerberus (setup.py): started\n",
      "  Building wheel for cerberus (setup.py): finished with status 'done'\n",
      "  Created wheel for cerberus: filename=Cerberus-1.3.2-cp37-none-any.whl size=54336 sha256=c02ea2109b6e4fbdfa74f9d2ee561b94a5a384333a7867f20d8e391cc7d8378c\n",
      "  Stored in directory: /root/.cache/pip/wheels/e9/38/1f/f2cc84182676f3ae7134b9b2d744f9c235b24d2ddc8f7fe465\n",
      "  Building wheel for Mako (setup.py): started\n",
      "  Building wheel for Mako (setup.py): finished with status 'done'\n",
      "  Created wheel for Mako: filename=Mako-1.1.0-cp37-none-any.whl size=75360 sha256=a5acb721f1164962f5bb04263a824ce9668b8473d9a22c569895cba3b68bf767\n",
      "  Stored in directory: /root/.cache/pip/wheels/98/32/7b/a291926643fc1d1e02593e0d9e247c5a866a366b8343b7aa27\n",
      "Successfully built sklearn python-json-logger alembic prometheus-client sqlalchemy tabulate cerberus Mako\n",
      "\u001b[91mERROR: botocore 1.13.40 has requirement python-dateutil<2.8.1,>=2.1; python_version >= \"2.7\", but you'll have python-dateutil 2.8.1 which is incompatible.\n",
      "\u001b[0mInstalling collected packages: click, ruamel.yaml.clib, ruamel.yaml, python-json-logger, python-dateutil, docutils, jmespath, botocore, s3transfer, boto3, Werkzeug, MarkupSafe, Jinja2, itsdangerous, flask, sqlalchemy, Mako, python-editor, alembic, configparser, grpcio, pyparsing, packaging, prometheus-client, humanfriendly, pytz, pandas, pathlib2, protobuf, tabulate, cerberus, websocket-client, docker, bentoml, joblib, scikit-learn, sklearn\n",
      "Successfully installed Jinja2-2.10.3 Mako-1.1.0 MarkupSafe-1.1.1 Werkzeug-0.16.0 alembic-1.3.2 bentoml-0.5.3 boto3-1.10.40 botocore-1.13.40 cerberus-1.3.2 click-7.0 configparser-4.0.2 docker-4.1.0 docutils-0.15.2 flask-1.1.1 grpcio-1.25.0 humanfriendly-4.18 itsdangerous-1.1.0 jmespath-0.9.4 joblib-0.14.1 packaging-19.2 pandas-0.25.3 pathlib2-2.3.5 prometheus-client-0.7.1 protobuf-3.11.1 pyparsing-2.4.5 python-dateutil-2.8.1 python-editor-1.0.4 python-json-logger-0.1.11 pytz-2019.3 ruamel.yaml-0.16.5 ruamel.yaml.clib-0.2.0 s3transfer-0.2.1 scikit-learn-0.22 sklearn-0.0 sqlalchemy-1.3.12 tabulate-0.8.6 websocket-client-0.56.0\n",
      "Removing intermediate container 56d51426ec77\n",
      " ---> 7a3f9e905bf1\n",
      "Step 10/12 : RUN if [ -f /bento/bentoml_init.sh ]; then /bin/bash -c /bento/bentoml_init.sh; fi\n",
      " ---> Running in 5074c6f1790b\n",
      "Processing ./bundled_pip_dependencies/BentoML-0.5.3+19.g4c71912.tar.gz\n",
      "Requirement already satisfied, skipping upgrade: ruamel.yaml>=0.15.0 in /opt/conda/lib/python3.7/site-packages (from BentoML==0.5.3+19.g4c71912) (0.16.5)\n",
      "Requirement already satisfied, skipping upgrade: numpy in /opt/conda/lib/python3.7/site-packages (from BentoML==0.5.3+19.g4c71912) (1.17.4)\n",
      "Requirement already satisfied, skipping upgrade: flask in /opt/conda/lib/python3.7/site-packages (from BentoML==0.5.3+19.g4c71912) (1.1.1)\n",
      "Requirement already satisfied, skipping upgrade: gunicorn in /opt/conda/lib/python3.7/site-packages (from BentoML==0.5.3+19.g4c71912) (20.0.4)\n",
      "Requirement already satisfied, skipping upgrade: click>=7.0 in /opt/conda/lib/python3.7/site-packages (from BentoML==0.5.3+19.g4c71912) (7.0)\n",
      "Requirement already satisfied, skipping upgrade: pandas in /opt/conda/lib/python3.7/site-packages (from BentoML==0.5.3+19.g4c71912) (0.25.3)\n",
      "Requirement already satisfied, skipping upgrade: prometheus_client in /opt/conda/lib/python3.7/site-packages (from BentoML==0.5.3+19.g4c71912) (0.7.1)\n",
      "Requirement already satisfied, skipping upgrade: python-json-logger in /opt/conda/lib/python3.7/site-packages (from BentoML==0.5.3+19.g4c71912) (0.1.11)\n",
      "Requirement already satisfied, skipping upgrade: boto3 in /opt/conda/lib/python3.7/site-packages (from BentoML==0.5.3+19.g4c71912) (1.10.40)\n",
      "Requirement already satisfied, skipping upgrade: requests in /opt/conda/lib/python3.7/site-packages (from BentoML==0.5.3+19.g4c71912) (2.22.0)\n",
      "Requirement already satisfied, skipping upgrade: packaging in /opt/conda/lib/python3.7/site-packages (from BentoML==0.5.3+19.g4c71912) (19.2)\n",
      "Requirement already satisfied, skipping upgrade: docker in /opt/conda/lib/python3.7/site-packages (from BentoML==0.5.3+19.g4c71912) (4.1.0)\n",
      "Requirement already satisfied, skipping upgrade: configparser in /opt/conda/lib/python3.7/site-packages (from BentoML==0.5.3+19.g4c71912) (4.0.2)\n",
      "Requirement already satisfied, skipping upgrade: sqlalchemy>=1.3.0 in /opt/conda/lib/python3.7/site-packages (from BentoML==0.5.3+19.g4c71912) (1.3.12)\n",
      "Requirement already satisfied, skipping upgrade: protobuf>=3.6.0 in /opt/conda/lib/python3.7/site-packages (from BentoML==0.5.3+19.g4c71912) (3.11.1)\n",
      "Requirement already satisfied, skipping upgrade: grpcio in /opt/conda/lib/python3.7/site-packages (from BentoML==0.5.3+19.g4c71912) (1.25.0)\n",
      "Requirement already satisfied, skipping upgrade: cerberus in /opt/conda/lib/python3.7/site-packages (from BentoML==0.5.3+19.g4c71912) (1.3.2)\n",
      "Requirement already satisfied, skipping upgrade: tabulate in /opt/conda/lib/python3.7/site-packages (from BentoML==0.5.3+19.g4c71912) (0.8.6)\n",
      "Requirement already satisfied, skipping upgrade: humanfriendly in /opt/conda/lib/python3.7/site-packages (from BentoML==0.5.3+19.g4c71912) (4.18)\n",
      "Requirement already satisfied, skipping upgrade: alembic in /opt/conda/lib/python3.7/site-packages (from BentoML==0.5.3+19.g4c71912) (1.3.2)\n",
      "Collecting python-dateutil<2.8.1,>=2.1\n",
      "  Downloading https://files.pythonhosted.org/packages/41/17/c62faccbfbd163c7f57f3844689e3a78bae1f403648a6afb1d0866d87fbb/python_dateutil-2.8.0-py2.py3-none-any.whl (226kB)\n",
      "Requirement already satisfied, skipping upgrade: ruamel.yaml.clib>=0.1.2; platform_python_implementation == \"CPython\" and python_version < \"3.8\" in /opt/conda/lib/python3.7/site-packages (from ruamel.yaml>=0.15.0->BentoML==0.5.3+19.g4c71912) (0.2.0)\n",
      "Requirement already satisfied, skipping upgrade: itsdangerous>=0.24 in /opt/conda/lib/python3.7/site-packages (from flask->BentoML==0.5.3+19.g4c71912) (1.1.0)\n",
      "Requirement already satisfied, skipping upgrade: Werkzeug>=0.15 in /opt/conda/lib/python3.7/site-packages (from flask->BentoML==0.5.3+19.g4c71912) (0.16.0)\n",
      "Requirement already satisfied, skipping upgrade: Jinja2>=2.10.1 in /opt/conda/lib/python3.7/site-packages (from flask->BentoML==0.5.3+19.g4c71912) (2.10.3)\n",
      "Requirement already satisfied, skipping upgrade: setuptools>=3.0 in /opt/conda/lib/python3.7/site-packages (from gunicorn->BentoML==0.5.3+19.g4c71912) (42.0.2.post20191203)\n",
      "Requirement already satisfied, skipping upgrade: pytz>=2017.2 in /opt/conda/lib/python3.7/site-packages (from pandas->BentoML==0.5.3+19.g4c71912) (2019.3)\n",
      "Requirement already satisfied, skipping upgrade: botocore<1.14.0,>=1.13.40 in /opt/conda/lib/python3.7/site-packages (from boto3->BentoML==0.5.3+19.g4c71912) (1.13.40)\n",
      "Requirement already satisfied, skipping upgrade: s3transfer<0.3.0,>=0.2.0 in /opt/conda/lib/python3.7/site-packages (from boto3->BentoML==0.5.3+19.g4c71912) (0.2.1)\n",
      "Requirement already satisfied, skipping upgrade: jmespath<1.0.0,>=0.7.1 in /opt/conda/lib/python3.7/site-packages (from boto3->BentoML==0.5.3+19.g4c71912) (0.9.4)\n",
      "Requirement already satisfied, skipping upgrade: urllib3!=1.25.0,!=1.25.1,<1.26,>=1.21.1 in /opt/conda/lib/python3.7/site-packages (from requests->BentoML==0.5.3+19.g4c71912) (1.25.7)\n",
      "Requirement already satisfied, skipping upgrade: idna<2.9,>=2.5 in /opt/conda/lib/python3.7/site-packages (from requests->BentoML==0.5.3+19.g4c71912) (2.8)\n",
      "Requirement already satisfied, skipping upgrade: chardet<3.1.0,>=3.0.2 in /opt/conda/lib/python3.7/site-packages (from requests->BentoML==0.5.3+19.g4c71912) (3.0.4)\n",
      "Requirement already satisfied, skipping upgrade: certifi>=2017.4.17 in /opt/conda/lib/python3.7/site-packages (from requests->BentoML==0.5.3+19.g4c71912) (2019.11.28)\n",
      "Requirement already satisfied, skipping upgrade: six in /opt/conda/lib/python3.7/site-packages (from packaging->BentoML==0.5.3+19.g4c71912) (1.13.0)\n",
      "Requirement already satisfied, skipping upgrade: pyparsing>=2.0.2 in /opt/conda/lib/python3.7/site-packages (from packaging->BentoML==0.5.3+19.g4c71912) (2.4.5)\n",
      "Requirement already satisfied, skipping upgrade: websocket-client>=0.32.0 in /opt/conda/lib/python3.7/site-packages (from docker->BentoML==0.5.3+19.g4c71912) (0.56.0)\n",
      "Requirement already satisfied, skipping upgrade: Mako in /opt/conda/lib/python3.7/site-packages (from alembic->BentoML==0.5.3+19.g4c71912) (1.1.0)\n",
      "Requirement already satisfied, skipping upgrade: python-editor>=0.3 in /opt/conda/lib/python3.7/site-packages (from alembic->BentoML==0.5.3+19.g4c71912) (1.0.4)\n",
      "Requirement already satisfied, skipping upgrade: MarkupSafe>=0.23 in /opt/conda/lib/python3.7/site-packages (from Jinja2>=2.10.1->flask->BentoML==0.5.3+19.g4c71912) (1.1.1)\n",
      "Requirement already satisfied, skipping upgrade: docutils<0.16,>=0.10 in /opt/conda/lib/python3.7/site-packages (from botocore<1.14.0,>=1.13.40->boto3->BentoML==0.5.3+19.g4c71912) (0.15.2)\n",
      "Building wheels for collected packages: BentoML\n",
      "  Building wheel for BentoML (setup.py): started\n",
      "  Building wheel for BentoML (setup.py): finished with status 'done'\n",
      "  Created wheel for BentoML: filename=BentoML-0.5.3+19.g4c71912-cp37-none-any.whl size=496096 sha256=2ce484218bdf38301d28889ef752ba5b94e04e63c84abfed59ca8f59f1f84a48\n",
      "  Stored in directory: /root/.cache/pip/wheels/3a/91/cd/6379a08ddcf727da4c5960e799eeb691bf09521ba75ddf05e8\n",
      "Successfully built BentoML\n",
      "Installing collected packages: python-dateutil, BentoML\n",
      "  Found existing installation: python-dateutil 2.8.1\n",
      "    Uninstalling python-dateutil-2.8.1:\n",
      "      Successfully uninstalled python-dateutil-2.8.1\n",
      "  Found existing installation: BentoML 0.5.3\n",
      "    Uninstalling BentoML-0.5.3:\n",
      "      Successfully uninstalled BentoML-0.5.3\n",
      "Successfully installed BentoML-0.5.3+19.g4c71912 python-dateutil-2.8.0\n",
      "Removing intermediate container 5074c6f1790b\n",
      " ---> 369e99937286\n",
      "Step 11/12 : RUN if [ -f /bento/setup.sh ]; then /bin/bash -c /bento/setup.sh; fi\n",
      " ---> Running in 0ac99d4f5557\n",
      "Removing intermediate container 0ac99d4f5557\n",
      " ---> befdd93d991c\n",
      "Step 12/12 : CMD [\"bentoml serve-gunicorn /bento\"]\n",
      " ---> Running in 61f3f1dcdd38\n",
      "Removing intermediate container 61f3f1dcdd38\n",
      " ---> 19d21c608b08\n",
      "Successfully built 19d21c608b08\n",
      "Successfully tagged 192023623294.dkr.ecr.us-west-2.amazonaws.com/sentiment-ecs:latest\n"
     ]
    },
    {
     "name": "stderr",
     "output_type": "stream",
     "text": [
      "sh: line 1: cd: {saved_path}: No such file or directory\n"
     ]
    }
   ],
   "source": [
    "!cd {saved_path} & docker build . --tag=192023623294.dkr.ecr.us-west-2.amazonaws.com/sentiment-ecs"
   ]
  },
  {
   "cell_type": "markdown",
   "metadata": {},
   "source": [
    "#### Create ECR repository"
   ]
  },
  {
   "cell_type": "code",
   "execution_count": 33,
   "metadata": {},
   "outputs": [
    {
     "name": "stdout",
     "output_type": "stream",
     "text": [
      "{\r\n",
      "    \"repository\": {\r\n",
      "        \"repositoryArn\": \"arn:aws:ecr:us-west-2:192023623294:repository/sentiment-ecs\",\r\n",
      "        \"registryId\": \"192023623294\",\r\n",
      "        \"repositoryName\": \"sentiment-ecs\",\r\n",
      "        \"repositoryUri\": \"192023623294.dkr.ecr.us-west-2.amazonaws.com/sentiment-ecs\",\r\n",
      "        \"createdAt\": 1576542447.0,\r\n",
      "        \"imageTagMutability\": \"MUTABLE\",\r\n",
      "        \"imageScanningConfiguration\": {\r\n",
      "            \"scanOnPush\": false\r\n",
      "        }\r\n",
      "    }\r\n",
      "}\r\n"
     ]
    }
   ],
   "source": [
    "!aws ecr create-repository --repository-name sentiment-ecs"
   ]
  },
  {
   "cell_type": "code",
   "execution_count": 34,
   "metadata": {},
   "outputs": [
    {
     "name": "stdout",
     "output_type": "stream",
     "text": [
      "The push refers to repository [192023623294.dkr.ecr.us-west-2.amazonaws.com/sentiment-ecs]\n",
      "\n",
      "\u001b[1B96eea2fa: Preparing \n",
      "\u001b[1B778aa2c1: Preparing \n",
      "\u001b[1Bc052c405: Preparing \n",
      "\u001b[1Bab50d2e3: Preparing \n",
      "\u001b[1B90513c25: Preparing \n",
      "\u001b[1B2405333d: Preparing \n",
      "\u001b[1Bcb249b79: Preparing \n",
      "\u001b[1B190fd43a: Preparing \n"
     ]
    },
    {
     "name": "stdout",
     "output_type": "stream",
     "text": [
      "\u001b[5B90513c25: Pushing  877.5MB/1.13GBB\u001b[6A\u001b[2K\u001b[9A\u001b[2K\u001b[7A\u001b[2K\u001b[8A\u001b[2K\u001b[6A\u001b[2K\u001b[9A\u001b[2K\u001b[8A\u001b[2K\u001b[7A\u001b[2K\u001b[9A\u001b[2K\u001b[8A\u001b[2K\u001b[7A\u001b[2K\u001b[5A\u001b[2K\u001b[8A\u001b[2K\u001b[8A\u001b[2K\u001b[7A\u001b[2K\u001b[5A\u001b[2K\u001b[7A\u001b[2K\u001b[7A\u001b[2K\u001b[8A\u001b[2K\u001b[7A\u001b[2K\u001b[8A\u001b[2K\u001b[5A\u001b[2K\u001b[7A\u001b[2K\u001b[5A\u001b[2K\u001b[8A\u001b[2K\u001b[6A\u001b[2K\u001b[9A\u001b[2K\u001b[8A\u001b[2K\u001b[5A\u001b[2K\u001b[7A\u001b[2K\u001b[5A\u001b[2K\u001b[8A\u001b[2K\u001b[5A\u001b[2K\u001b[4A\u001b[2K\u001b[5A\u001b[2K\u001b[7A\u001b[2K\u001b[8A\u001b[2K\u001b[8A\u001b[2K\u001b[4A\u001b[2K\u001b[8A\u001b[2K\u001b[5A\u001b[2K\u001b[8A\u001b[2K\u001b[5A\u001b[2K\u001b[8A\u001b[2K\u001b[5A\u001b[2K\u001b[8A\u001b[2K\u001b[4A\u001b[2K\u001b[5A\u001b[2K\u001b[4A\u001b[2K\u001b[4A\u001b[2K\u001b[6A\u001b[2K\u001b[4A\u001b[2K\u001b[4A\u001b[2K\u001b[4A\u001b[2K\u001b[5A\u001b[2K\u001b[4A\u001b[2K\u001b[5A\u001b[2K\u001b[7A\u001b[2K\u001b[5A\u001b[2K\u001b[8A\u001b[2K\u001b[4A\u001b[2K\u001b[7A\u001b[2K\u001b[4A\u001b[2K\u001b[5A\u001b[2K\u001b[8A\u001b[2K\u001b[5A\u001b[2K\u001b[7A\u001b[2K\u001b[5A\u001b[2K\u001b[8A\u001b[2K\u001b[5A\u001b[2K\u001b[8A\u001b[2K\u001b[7A\u001b[2K\u001b[4A\u001b[2K\u001b[8A\u001b[2K\u001b[7A\u001b[2K\u001b[4A\u001b[2K\u001b[7A\u001b[2K\u001b[4A\u001b[2K\u001b[5A\u001b[2K\u001b[4A\u001b[2K\u001b[7A\u001b[2K\u001b[5A\u001b[2K\u001b[4A\u001b[2K\u001b[5A\u001b[2K\u001b[4A\u001b[2K\u001b[7A\u001b[2K\u001b[8A\u001b[2K\u001b[8A\u001b[2K\u001b[6A\u001b[2K\u001b[4A\u001b[2K\u001b[7A\u001b[2K\u001b[5A\u001b[2K\u001b[8A\u001b[2K\u001b[7A\u001b[2K\u001b[6A\u001b[2K\u001b[4A\u001b[2K\u001b[8A\u001b[2K\u001b[5A\u001b[2K\u001b[5A\u001b[2K\u001b[4A\u001b[2K\u001b[5A\u001b[2K\u001b[8A\u001b[2K\u001b[4A\u001b[2K\u001b[7A\u001b[2K\u001b[4A\u001b[2K\u001b[5A\u001b[2K\u001b[8A\u001b[2K\u001b[6A\u001b[2K\u001b[8A\u001b[2K\u001b[4A\u001b[2K\u001b[5A\u001b[2K\u001b[6A\u001b[2K\u001b[5A\u001b[2K\u001b[5A\u001b[2K\u001b[8A\u001b[2K\u001b[4A\u001b[2K\u001b[6A\u001b[2K\u001b[7A\u001b[2K\u001b[5A\u001b[2K\u001b[8A\u001b[2K\u001b[6A\u001b[2K\u001b[5A\u001b[2K\u001b[8A\u001b[2K\u001b[7A\u001b[2K\u001b[5A\u001b[2K\u001b[7A\u001b[2K\u001b[8A\u001b[2K\u001b[7A\u001b[2K\u001b[4A\u001b[2K\u001b[5A\u001b[2K\u001b[7A\u001b[2K\u001b[8A\u001b[2K\u001b[5A\u001b[2K\u001b[7A\u001b[2K\u001b[5A\u001b[2K\u001b[6A\u001b[2K\u001b[4A\u001b[2K\u001b[5A\u001b[2K\u001b[4A\u001b[2K\u001b[7A\u001b[2K\u001b[4A\u001b[2K\u001b[7A\u001b[2K\u001b[8A\u001b[2K\u001b[4A\u001b[2K\u001b[8A\u001b[2K\u001b[4A\u001b[2K\u001b[8A\u001b[2K\u001b[4A\u001b[2K\u001b[8A\u001b[2K\u001b[4A\u001b[2K\u001b[7A\u001b[2K\u001b[6A\u001b[2K\u001b[5A\u001b[2K\u001b[4A\u001b[2K\u001b[8A\u001b[2K\u001b[6A\u001b[2K\u001b[4A\u001b[2K\u001b[8A\u001b[2K\u001b[7A\u001b[2K\u001b[6A\u001b[2K\u001b[6A\u001b[2K\u001b[7A\u001b[2K\u001b[5A\u001b[2K\u001b[8A\u001b[2K\u001b[7A\u001b[2K\u001b[5A\u001b[2K\u001b[8A\u001b[2K\u001b[4A\u001b[2K\u001b[8A\u001b[2K\u001b[5A\u001b[2K\u001b[7A\u001b[2K\u001b[8A\u001b[2K\u001b[4A\u001b[2K\u001b[5A\u001b[2K\u001b[5A\u001b[2K\u001b[7A\u001b[2K\u001b[4A\u001b[2K\u001b[5A\u001b[2K\u001b[4A\u001b[2K\u001b[7A\u001b[2K\u001b[5A\u001b[2K\u001b[4A\u001b[2K\u001b[7A\u001b[2K\u001b[5A\u001b[2K\u001b[8A\u001b[2K\u001b[5A\u001b[2K\u001b[4A\u001b[2K\u001b[5A\u001b[2K\u001b[4A\u001b[2K\u001b[6A\u001b[2K\u001b[5A\u001b[2K\u001b[4A\u001b[2K\u001b[5A\u001b[2K\u001b[4A\u001b[2K\u001b[8A\u001b[2K\u001b[7A\u001b[2K\u001b[4A\u001b[2K\u001b[8A\u001b[2K\u001b[4A\u001b[2K\u001b[7A\u001b[2K\u001b[4A\u001b[2K\u001b[5A\u001b[2K\u001b[4A\u001b[2K\u001b[7A\u001b[2K\u001b[4A\u001b[2K\u001b[8A\u001b[2K\u001b[7A\u001b[2K\u001b[5A\u001b[2K\u001b[4A\u001b[2K\u001b[4A\u001b[2K\u001b[7A\u001b[2K\u001b[5A\u001b[2K\u001b[8A\u001b[2K\u001b[5A\u001b[2K\u001b[8A\u001b[2K\u001b[5A\u001b[2K\u001b[4A\u001b[2K\u001b[8A\u001b[2K\u001b[5A\u001b[2K\u001b[4A\u001b[2K\u001b[5A\u001b[2K\u001b[4A\u001b[2K\u001b[3A\u001b[2K\u001b[7A\u001b[2K\u001b[8A\u001b[2K\u001b[5A\u001b[2K\u001b[5A\u001b[2K\u001b[7A\u001b[2K\u001b[8A\u001b[2K\u001b[4A\u001b[2K\u001b[5A\u001b[2K\u001b[3A\u001b[2K\u001b[8A\u001b[2K\u001b[3A\u001b[2K\u001b[5A\u001b[2K\u001b[3A\u001b[2K\u001b[8A\u001b[2K\u001b[5A\u001b[2K\u001b[3A\u001b[2K\u001b[4A\u001b[2K\u001b[3A\u001b[2K\u001b[5A\u001b[2K\u001b[3A\u001b[2K\u001b[5A\u001b[2K\u001b[3A\u001b[2K\u001b[4A\u001b[2K\u001b[8A\u001b[2K\u001b[5A\u001b[2K\u001b[7A\u001b[2K\u001b[3A\u001b[2K\u001b[8A\u001b[2K\u001b[3A\u001b[2K\u001b[5A\u001b[2K\u001b[3A\u001b[2K\u001b[8A\u001b[2K\u001b[7A\u001b[2K\u001b[3A\u001b[2K\u001b[8A\u001b[2K\u001b[3A\u001b[2K\u001b[8A\u001b[2K\u001b[5A\u001b[2K\u001b[3A\u001b[2K\u001b[7A\u001b[2K\u001b[4A\u001b[2K\u001b[3A\u001b[2K\u001b[4A\u001b[2K\u001b[8A\u001b[2K\u001b[5A\u001b[2K\u001b[3A\u001b[2K\u001b[4A\u001b[2K\u001b[3A\u001b[2K\u001b[8A\u001b[2K\u001b[5A\u001b[2K\u001b[8A\u001b[2K\u001b[5A\u001b[2K\u001b[3A\u001b[2K\u001b[8A\u001b[2K\u001b[4A\u001b[2K\u001b[3A\u001b[2K\u001b[4A\u001b[2K\u001b[3A\u001b[2K\u001b[4A\u001b[2K\u001b[3A\u001b[2K\u001b[8A\u001b[2K\u001b[3A\u001b[2K\u001b[5A\u001b[2K\u001b[4A\u001b[2K\u001b[7A\u001b[2K\u001b[4A\u001b[2K\u001b[3A\u001b[2K\u001b[7A\u001b[2K\u001b[4A\u001b[2K\u001b[5A\u001b[2K\u001b[8A\u001b[2K\u001b[7A\u001b[2K\u001b[5A\u001b[2K\u001b[5A\u001b[2K\u001b[7A\u001b[2K\u001b[4A\u001b[2K\u001b[5A\u001b[2K\u001b[7A\u001b[2K\u001b[8A\u001b[2K\u001b[4A\u001b[2K\u001b[7A\u001b[2K\u001b[4A\u001b[2K\u001b[8A\u001b[2K\u001b[8A\u001b[2K\u001b[5A\u001b[2K\u001b[8A\u001b[2K\u001b[5A\u001b[2K\u001b[4A\u001b[2K\u001b[3A\u001b[2K\u001b[4A\u001b[2K\u001b[5A\u001b[2K\u001b[8A\u001b[2K\u001b[5A\u001b[2K\u001b[8A\u001b[2K\u001b[5A\u001b[2K\u001b[8A\u001b[2K\u001b[7A\u001b[2K\u001b[4A\u001b[2K\u001b[7A\u001b[2K\u001b[8A\u001b[2K\u001b[4A\u001b[2K\u001b[7A\u001b[2K\u001b[8A\u001b[2K\u001b[4A\u001b[2K\u001b[5A\u001b[2K\u001b[8A\u001b[2K\u001b[7A\u001b[2K\u001b[5A\u001b[2K\u001b[7A\u001b[2K\u001b[8A\u001b[2K\u001b[5A\u001b[2K\u001b[7A\u001b[2K\u001b[5A\u001b[2K\u001b[8A\u001b[2K\u001b[7A\u001b[2K\u001b[7A\u001b[2K\u001b[5A\u001b[2K\u001b[7A\u001b[2K\u001b[5A\u001b[2K\u001b[7A\u001b[2K\u001b[4A\u001b[2K\u001b[7A\u001b[2K\u001b[5A\u001b[2K\u001b[8A\u001b[2K\u001b[4A\u001b[2K\u001b[8A\u001b[2K\u001b[4A\u001b[2K\u001b[8A\u001b[2K\u001b[5A\u001b[2K\u001b[4A\u001b[2K\u001b[5A\u001b[2K\u001b[3A\u001b[2K\u001b[8A\u001b[2K\u001b[5A\u001b[2K\u001b[5A\u001b[2K\u001b[8A\u001b[2K\u001b[7A\u001b[2K\u001b[7A\u001b[2K\u001b[8A\u001b[2K\u001b[5A\u001b[2K\u001b[7A\u001b[2K\u001b[8A\u001b[2K\u001b[7A\u001b[2K\u001b[5A\u001b[2K\u001b[8A\u001b[2K\u001b[8A\u001b[2K\u001b[5A\u001b[2K\u001b[8A\u001b[2K\u001b[5A\u001b[2K\u001b[7A\u001b[2K\u001b[8A\u001b[2K\u001b[3A\u001b[2K\u001b[5A\u001b[2K\u001b[3A\u001b[2K\u001b[3A\u001b[2K\u001b[8A\u001b[2K\u001b[3A\u001b[2K\u001b[8A\u001b[2K\u001b[8A\u001b[2K\u001b[4A\u001b[2K\u001b[3A\u001b[2K\u001b[7A\u001b[2K\u001b[5A\u001b[2K\u001b[8A\u001b[2K\u001b[7A\u001b[2K\u001b[3A\u001b[2K\u001b[7A\u001b[2K\u001b[2A\u001b[2K\u001b[8A\u001b[2K\u001b[7A\u001b[2K\u001b[2A\u001b[2K\u001b[5A\u001b[2K\u001b[7A\u001b[2K\u001b[3A\u001b[2K\u001b[2A\u001b[2K\u001b[3A\u001b[2K\u001b[2A\u001b[2K\u001b[3A\u001b[2K\u001b[2A\u001b[2K\u001b[5A\u001b[2K\u001b[3A\u001b[2K\u001b[7A\u001b[2K\u001b[5A\u001b[2K\u001b[2A\u001b[2K\u001b[5A\u001b[2K\u001b[7A\u001b[2K\u001b[3A\u001b[2K\u001b[5A\u001b[2K\u001b[7A\u001b[2K\u001b[8A\u001b[2K\u001b[3A\u001b[2K\u001b[2A\u001b[2K\u001b[2A\u001b[2K\u001b[7A\u001b[2K\u001b[5A\u001b[2K\u001b[3A\u001b[2K\u001b[8A\u001b[2K\u001b[5A\u001b[2K\u001b[3A\u001b[2K\u001b[8A\u001b[2K\u001b[2A\u001b[2K\u001b[5A\u001b[2K\u001b[3A\u001b[2K\u001b[7A\u001b[2K\u001b[8A\u001b[2K\u001b[3A\u001b[2K\u001b[2A\u001b[2K\u001b[7A\u001b[2K\u001b[5A\u001b[2K\u001b[3A\u001b[2K\u001b[7A\u001b[2K\u001b[5A\u001b[2K\u001b[3A\u001b[2K\u001b[7A\u001b[2K\u001b[3A\u001b[2K\u001b[5A\u001b[2K\u001b[8A\u001b[2K\u001b[5A\u001b[2K\u001b[8A\u001b[2K\u001b[2A\u001b[2K\u001b[5A\u001b[2K\u001b[2A\u001b[2K\u001b[7A\u001b[2K\u001b[5A\u001b[2K\u001b[3A\u001b[2K\u001b[7A\u001b[2K\u001b[5A\u001b[2K\u001b[2A\u001b[2K\u001b[3A\u001b[2K\u001b[2A\u001b[2K\u001b[5A\u001b[2K\u001b[8A\u001b[2K\u001b[5A\u001b[2K\u001b[3A\u001b[2K\u001b[7A\u001b[2K\u001b[5A\u001b[2K\u001b[2A\u001b[2K\u001b[3A\u001b[2K\u001b[7A\u001b[2K\u001b[5A\u001b[2K\u001b[5A\u001b[2K\u001b[2A\u001b[2K\u001b[2A\u001b[2K\u001b[8A\u001b[2K\u001b[7A\u001b[2K\u001b[3A\u001b[2K\u001b[8A\u001b[2K\u001b[2A\u001b[2K\u001b[5A\u001b[2K\u001b[2A\u001b[2K\u001b[3A\u001b[2K\u001b[7A\u001b[2K\u001b[3A\u001b[2K\u001b[8A\u001b[2K\u001b[3A\u001b[2K\u001b[5A\u001b[2K\u001b[8A\u001b[2K\u001b[7A\u001b[2K\u001b[3A\u001b[2K\u001b[8A\u001b[2K\u001b[3A\u001b[2K\u001b[7A\u001b[2K\u001b[2A\u001b[2K\u001b[2A\u001b[2K\u001b[3A\u001b[2K\u001b[2A\u001b[2K\u001b[5A\u001b[2K\u001b[3A\u001b[2K\u001b[2A\u001b[2K\u001b[5A\u001b[2K\u001b[2A\u001b[2K\u001b[5A\u001b[2K\u001b[2A\u001b[2K\u001b[8A\u001b[2K\u001b[7A\u001b[2K\u001b[5A\u001b[2K\u001b[3A\u001b[2K\u001b[8A\u001b[2K\u001b[3A\u001b[2K\u001b[7A\u001b[2K\u001b[8A\u001b[2K\u001b[2A\u001b[2K\u001b[5A\u001b[2K\u001b[2A\u001b[2K\u001b[8A\u001b[2K\u001b[2A\u001b[2K\u001b[3A\u001b[2K\u001b[2A\u001b[2K\u001b[3A\u001b[2K\u001b[2A\u001b[2K\u001b[7A\u001b[2K\u001b[3A\u001b[2K\u001b[2A\u001b[2K\u001b[3A\u001b[2K\u001b[7A\u001b[2K\u001b[5A\u001b[2K\u001b[2A\u001b[2K\u001b[8A\u001b[2K\u001b[3A\u001b[2K\u001b[7A\u001b[2K\u001b[3A\u001b[2K\u001b[8A\u001b[2K\u001b[3A\u001b[2K\u001b[7A\u001b[2K\u001b[3A\u001b[2K\u001b[8A\u001b[2K\u001b[3A\u001b[2K\u001b[7A\u001b[2K\u001b[3A\u001b[2K\u001b[8A\u001b[2K\u001b[3A\u001b[2K\u001b[2A\u001b[2K\u001b[3A\u001b[2K\u001b[3A\u001b[2K\u001b[7A\u001b[2K\u001b[8A\u001b[2K\u001b[5A\u001b[2K\u001b[3A\u001b[2K\u001b[5A\u001b[2K\u001b[8A\u001b[2K\u001b[2A\u001b[2K\u001b[3A\u001b[2K\u001b[8A\u001b[2K\u001b[3A\u001b[2K\u001b[2A\u001b[2K\u001b[5A\u001b[2K\u001b[2A\u001b[2K\u001b[3A\u001b[2K\u001b[8A\u001b[2K\u001b[3A\u001b[2K\u001b[7A\u001b[2K\u001b[3A\u001b[2K\u001b[5A\u001b[2K\u001b[3A\u001b[2K\u001b[2A\u001b[2K\u001b[5A\u001b[2K\u001b[3A\u001b[2K\u001b[2A\u001b[2K\u001b[7A\u001b[2K\u001b[8A\u001b[2K\u001b[3A\u001b[2K\u001b[7A\u001b[2K\u001b[8A\u001b[2K\u001b[3A\u001b[2K\u001b[7A\u001b[2K\u001b[8A\u001b[2K\u001b[5A\u001b[2K\u001b[3A\u001b[2K\u001b[3A\u001b[2K\u001b[7A\u001b[2K\u001b[5A\u001b[2K\u001b[3A\u001b[2K\u001b[2A\u001b[2K\u001b[7A\u001b[2K\u001b[2A\u001b[2K\u001b[2A\u001b[2K\u001b[7A\u001b[2K\u001b[5A\u001b[2K\u001b[2A\u001b[2K\u001b[7A\u001b[2K\u001b[5A\u001b[2K\u001b[7A\u001b[2K\u001b[5A\u001b[2K\u001b[5A\u001b[2K\u001b[2A\u001b[2K\u001b[8A\u001b[2K\u001b[2A\u001b[2K\u001b[5A\u001b[2K\u001b[8A\u001b[2K\u001b[2A\u001b[2K\u001b[5A\u001b[2K\u001b[8A\u001b[2K\u001b[7A\u001b[2K\u001b[5A\u001b[2K\u001b[8A\u001b[2K\u001b[7A\u001b[2K\u001b[2A\u001b[2K\u001b[2A\u001b[2K\u001b[5A\u001b[2K\u001b[5A\u001b[2K\u001b[8A\u001b[2K\u001b[7A\u001b[2K\u001b[5A\u001b[2K\u001b[8A\u001b[2K\u001b[7A\u001b[2K\u001b[2A\u001b[2K\u001b[8A\u001b[2K\u001b[7A\u001b[2K\u001b[5A\u001b[2K\u001b[2A\u001b[2K\u001b[7A\u001b[2K\u001b[5A\u001b[2K\u001b[2A\u001b[2K\u001b[8A\u001b[2K\u001b[7A\u001b[2K\u001b[5A\u001b[2K\u001b[2A\u001b[2K\u001b[7A\u001b[2K\u001b[2A\u001b[2K\u001b[8A\u001b[2K\u001b[5A\u001b[2K\u001b[2A\u001b[2K\u001b[2A\u001b[2K\u001b[3A\u001b[2K\u001b[2A\u001b[2K\u001b[5A\u001b[2K\u001b[5A\u001b[2K\u001b[8A\u001b[2K\u001b[5A\u001b[2K\u001b[5A\u001b[2K\u001b[8A\u001b[2K\u001b[5A\u001b[2K\u001b[5A\u001b[2K\u001b[2A\u001b[2K\u001b[7A\u001b[2K\u001b[2A\u001b[2K\u001b[8A\u001b[2K\u001b[2A\u001b[2K\u001b[7A\u001b[2K\u001b[2A\u001b[2K\u001b[8A\u001b[2K\u001b[2A\u001b[2K\u001b[7A\u001b[2K\u001b[5A\u001b[2K\u001b[8A\u001b[2K\u001b[2A\u001b[2K\u001b[7A\u001b[2K\u001b[1A\u001b[2K\u001b[5A\u001b[2K\u001b[8A\u001b[2K\u001b[5A\u001b[2K\u001b[8A\u001b[2K\u001b[2A\u001b[2K\u001b[7A\u001b[2K\u001b[1A\u001b[2K\u001b[2A\u001b[2K\u001b[2A\u001b[2K\u001b[5A\u001b[2K\u001b[7A\u001b[2K\u001b[1A\u001b[2K\u001b[5A\u001b[2K\u001b[1A\u001b[2K\u001b[7A\u001b[2K\u001b[5A\u001b[2K\u001b[5A\u001b[2K\u001b[7A\u001b[2K\u001b[1A\u001b[2K\u001b[2A\u001b[2K\u001b[5A\u001b[2K\u001b[1A\u001b[2K\u001b[2A\u001b[2K\u001b[5A\u001b[2K\u001b[2A\u001b[2K\u001b[2A\u001b[2K\u001b[5A\u001b[2K\u001b[1A\u001b[2K\u001b[2A\u001b[2K\u001b[5A\u001b[2K\u001b[2A\u001b[2K\u001b[5A\u001b[2K\u001b[7A\u001b[2K\u001b[5A\u001b[2K\u001b[1A\u001b[2K\u001b[7A\u001b[2K\u001b[5A\u001b[2K\u001b[2A\u001b[2K\u001b[1A\u001b[2K\u001b[7A\u001b[2K\u001b[2A\u001b[2K\u001b[2A\u001b[2K\u001b[7A\u001b[2K\u001b[1A\u001b[2K\u001b[5A\u001b[2K\u001b[1A\u001b[2K\u001b[2A\u001b[2K\u001b[1A\u001b[2K\u001b[2A\u001b[2K\u001b[5A\u001b[2K\u001b[1A\u001b[2K\u001b[5A\u001b[2K\u001b[5A\u001b[2K\u001b[7A\u001b[2K\u001b[5A\u001b[2K\u001b[2A\u001b[2K\u001b[5A\u001b[2K\u001b[1A\u001b[2K\u001b[7A\u001b[2K\u001b[5A\u001b[2K\u001b[2A\u001b[2K\u001b[5A\u001b[2K\u001b[7A\u001b[2K\u001b[1A\u001b[2K\u001b[5A\u001b[2K\u001b[1A\u001b[2K\u001b[5A\u001b[2K\u001b[8A\u001b[2K\u001b[1A\u001b[2K\u001b[7A\u001b[2K\u001b[1A\u001b[2K\u001b[5A\u001b[2K\u001b[1A\u001b[2K\u001b[5A\u001b[2K\u001b[2A\u001b[2K\u001b[5A\u001b[2K\u001b[1A\u001b[2K\u001b[2A\u001b[2K\u001b[5A\u001b[2K\u001b[5A\u001b[2K\u001b[1A\u001b[2K\u001b[5A\u001b[2K\u001b[1A\u001b[2K\u001b[5A\u001b[2K\u001b[5A\u001b[2K\u001b[1A\u001b[2K\u001b[2A\u001b[2K\u001b[5A\u001b[2K\u001b[1A\u001b[2K\u001b[5A\u001b[2K\u001b[5A\u001b[2K\u001b[1A\u001b[2K\u001b[5A\u001b[2K\u001b[1A\u001b[2K\u001b[5A\u001b[2K\u001b[7A\u001b[2K\u001b[1A\u001b[2K\u001b[5A\u001b[2K\u001b[1A\u001b[2K\u001b[2A\u001b[2K\u001b[1A\u001b[2K\u001b[5A\u001b[2K\u001b[1A\u001b[2K\u001b[2A\u001b[2K\u001b[1A\u001b[2K\u001b[2A\u001b[2K\u001b[5A\u001b[2K\u001b[2A\u001b[2K\u001b[1A\u001b[2K\u001b[5A\u001b[2K\u001b[5A\u001b[2K\u001b[1A\u001b[2K\u001b[1A\u001b[2K\u001b[5A\u001b[2K\u001b[1A\u001b[2K\u001b[5A\u001b[2K\u001b[1A\u001b[2K\u001b[5A\u001b[2K\u001b[1A\u001b[2K\u001b[1A\u001b[2K\u001b[1A\u001b[2K\u001b[5A\u001b[2K\u001b[1A\u001b[2K\u001b[5A\u001b[2K\u001b[1A\u001b[2K\u001b[5A\u001b[2K\u001b[1A\u001b[2K\u001b[5A\u001b[2K\u001b[1A\u001b[2K\u001b[5A\u001b[2K\u001b[1A\u001b[2K\u001b[5A\u001b[2K\u001b[5A\u001b[2K\u001b[5A\u001b[2K\u001b[5A\u001b[2K\u001b[1A\u001b[2K\u001b[5A\u001b[2K\u001b[1A\u001b[2K\u001b[5A\u001b[2K\u001b[1A\u001b[2K\u001b[1A\u001b[2K\u001b[1A\u001b[2K\u001b[1A\u001b[2K\u001b[5A\u001b[2K\u001b[5A\u001b[2K\u001b[5A\u001b[2K\u001b[5A\u001b[2K\u001b[5A\u001b[2K\u001b[5A\u001b[2K\u001b[5A\u001b[2K\u001b[5A\u001b[2K\u001b[5A\u001b[2K\u001b[5A\u001b[2K\u001b[5A\u001b[2K\u001b[1A\u001b[2K\u001b[5A\u001b[2K\u001b[5A\u001b[2K\u001b[5A\u001b[2K\u001b[5A\u001b[2K\u001b[5A\u001b[2K\u001b[5A\u001b[2K\u001b[5A\u001b[2K\u001b[5A\u001b[2K\u001b[5A\u001b[2K\u001b[5A\u001b[2K\u001b[5A\u001b[2K\u001b[5A\u001b[2K\u001b[5A\u001b[2K\u001b[5A\u001b[2K\u001b[5A\u001b[2K\u001b[5A\u001b[2K\u001b[5A\u001b[2K\u001b[5A\u001b[2K\u001b[5A\u001b[2K\u001b[5A\u001b[2K\u001b[5A\u001b[2K\u001b[5A\u001b[2K\u001b[5A\u001b[2K\u001b[5A\u001b[2K\u001b[5A\u001b[2K\u001b[5A\u001b[2K\u001b[5A\u001b[2K\u001b[5A\u001b[2K\u001b[5A\u001b[2K\u001b[5A\u001b[2K\u001b[5A\u001b[2K\u001b[5A\u001b[2K\u001b[5A\u001b[2K\u001b[5A\u001b[2K\u001b[5A\u001b[2K\u001b[5A\u001b[2K\u001b[5A\u001b[2K\u001b[5A\u001b[2K\u001b[5A\u001b[2K\u001b[5A\u001b[2K\u001b[5A\u001b[2K\u001b[5A\u001b[2K\u001b[5A\u001b[2K\u001b[5A\u001b[2K\u001b[5A\u001b[2K\u001b[5A\u001b[2K\u001b[5A\u001b[2K\u001b[5A\u001b[2K\u001b[5A\u001b[2K\u001b[5A\u001b[2K\u001b[5A\u001b[2K\u001b[5A\u001b[2K\u001b[5A\u001b[2K\u001b[5A\u001b[2K\u001b[5A\u001b[2K\u001b[5A\u001b[2K\u001b[5A\u001b[2K\u001b[5A\u001b[2K\u001b[5A\u001b[2K\u001b[5A\u001b[2K\u001b[5A\u001b[2K\u001b[5A\u001b[2K\u001b[5A\u001b[2K\u001b[5A\u001b[2K\u001b[5A\u001b[2K\u001b[5A\u001b[2K\u001b[5A\u001b[2K\u001b[5A\u001b[2K\u001b[5A\u001b[2K\u001b[5A\u001b[2K\u001b[5A\u001b[2K\u001b[5A\u001b[2K\u001b[5A\u001b[2K\u001b[5A\u001b[2K\u001b[5A\u001b[2K\u001b[5A\u001b[2K\u001b[5A\u001b[2K\u001b[5A\u001b[2K\u001b[5A\u001b[2K\u001b[5A\u001b[2K\u001b[5A\u001b[2K\u001b[5A\u001b[2K\u001b[5A\u001b[2K\u001b[5A\u001b[2K\u001b[5A\u001b[2K\u001b[5A\u001b[2K\u001b[5A\u001b[2K\u001b[5A\u001b[2K\u001b[5A\u001b[2K\u001b[5A\u001b[2K\u001b[5A\u001b[2K\u001b[5A\u001b[2K\u001b[5A\u001b[2K\u001b[5A\u001b[2K\u001b[5A\u001b[2K\u001b[5A\u001b[2K\u001b[5A\u001b[2K\u001b[5A\u001b[2K\u001b[5A\u001b[2K\u001b[5A\u001b[2K\u001b[5A\u001b[2K\u001b[5A\u001b[2K\u001b[5A\u001b[2K\u001b[5A\u001b[2K\u001b[5A\u001b[2K\u001b[5A\u001b[2K\u001b[5A\u001b[2K\u001b[5A\u001b[2K\u001b[5A\u001b[2K\u001b[5A\u001b[2K\u001b[5A\u001b[2K\u001b[5A\u001b[2K\u001b[5A\u001b[2K\u001b[5A\u001b[2K\u001b[5A\u001b[2K\u001b[5A\u001b[2K\u001b[5A\u001b[2K\u001b[5A\u001b[2K\u001b[5A\u001b[2K\u001b[5A\u001b[2K\u001b[5A\u001b[2K\u001b[5A\u001b[2K\u001b[5A\u001b[2K\u001b[5A\u001b[2K\u001b[5A\u001b[2K\u001b[5A\u001b[2K\u001b[5A\u001b[2K\u001b[5A\u001b[2K\u001b[5A\u001b[2K\u001b[5A\u001b[2K\u001b[5A\u001b[2K\u001b[5A\u001b[2K\u001b[5A\u001b[2K\u001b[5A\u001b[2K\u001b[5A\u001b[2K\u001b[5A\u001b[2K\u001b[5A\u001b[2K\u001b[5A\u001b[2K\u001b[5A\u001b[2K\u001b[5A\u001b[2K\u001b[5A\u001b[2K\u001b[5A\u001b[2K\u001b[5A\u001b[2K\u001b[5A\u001b[2K\u001b[5A\u001b[2K\u001b[5A\u001b[2K\u001b[5A\u001b[2K\u001b[5A\u001b[2K\u001b[5A\u001b[2K\u001b[5A\u001b[2K\u001b[5A\u001b[2K\u001b[5A\u001b[2K\u001b[5A\u001b[2K\u001b[5A\u001b[2K\u001b[5A\u001b[2K\u001b[5A\u001b[2K\u001b[5A\u001b[2K\u001b[5A\u001b[2K\u001b[5A\u001b[2K\u001b[5A\u001b[2K\u001b[5A\u001b[2K\u001b[5A\u001b[2K\u001b[5A\u001b[2K\u001b[5A\u001b[2K\u001b[5A\u001b[2K\u001b[5A\u001b[2K\u001b[5A\u001b[2K\u001b[5A\u001b[2K\u001b[5A\u001b[2K\u001b[5A\u001b[2K\u001b[5A\u001b[2K\u001b[5A\u001b[2K\u001b[5A\u001b[2K\u001b[5A\u001b[2K\u001b[5A\u001b[2K\u001b[5A\u001b[2K\u001b[5A\u001b[2K\u001b[5A\u001b[2K\u001b[5A\u001b[2K\u001b[5A\u001b[2K\u001b[5A\u001b[2K\u001b[5A\u001b[2K\u001b[5A\u001b[2K\u001b[5A\u001b[2K\u001b[5A\u001b[2K\u001b[5A\u001b[2K\u001b[5A\u001b[2K\u001b[5A\u001b[2K\u001b[5A\u001b[2K\u001b[5A\u001b[2K\u001b[5A\u001b[2K\u001b[5A\u001b[2K\u001b[5A\u001b[2K\u001b[5A\u001b[2K\u001b[5A\u001b[2K\u001b[5A\u001b[2K\u001b[5A\u001b[2K\u001b[5A\u001b[2K\u001b[5A\u001b[2K\u001b[5A\u001b[2K\u001b[5A\u001b[2K\u001b[5A\u001b[2K\u001b[5A\u001b[2K\u001b[5A\u001b[2K\u001b[5A\u001b[2K\u001b[5A\u001b[2K\u001b[5A\u001b[2K\u001b[5A\u001b[2K\u001b[5A\u001b[2K\u001b[5A\u001b[2K\u001b[5A\u001b[2K\u001b[5A\u001b[2K\u001b[5A\u001b[2K\u001b[5A\u001b[2K\u001b[5B90513c25: Pushed   1.138GB/1.13GB\u001b[5A\u001b[2K\u001b[5A\u001b[2K\u001b[5A\u001b[2K\u001b[5A\u001b[2K\u001b[5A\u001b[2K\u001b[5A\u001b[2K\u001b[5A\u001b[2K\u001b[5A\u001b[2K\u001b[5A\u001b[2K\u001b[5A\u001b[2K\u001b[5A\u001b[2K\u001b[5A\u001b[2K\u001b[5A\u001b[2K\u001b[5A\u001b[2K\u001b[5A\u001b[2K\u001b[5A\u001b[2K\u001b[5A\u001b[2K\u001b[5A\u001b[2K\u001b[5A\u001b[2K\u001b[5A\u001b[2K\u001b[5A\u001b[2K\u001b[5A\u001b[2K\u001b[5A\u001b[2K\u001b[5A\u001b[2K\u001b[5A\u001b[2K\u001b[5A\u001b[2K\u001b[5A\u001b[2K\u001b[5A\u001b[2K\u001b[5A\u001b[2K\u001b[5A\u001b[2K\u001b[5A\u001b[2K\u001b[5A\u001b[2K\u001b[5A\u001b[2K\u001b[5A\u001b[2K\u001b[5A\u001b[2K\u001b[5A\u001b[2K\u001b[5A\u001b[2K\u001b[5A\u001b[2K\u001b[5A\u001b[2K\u001b[5A\u001b[2K\u001b[5A\u001b[2K\u001b[5A\u001b[2K\u001b[5A\u001b[2K\u001b[5A\u001b[2K\u001b[5A\u001b[2K\u001b[5A\u001b[2K\u001b[5A\u001b[2K\u001b[5A\u001b[2K\u001b[5A\u001b[2K\u001b[5A\u001b[2K\u001b[5A\u001b[2K\u001b[5A\u001b[2K\u001b[5A\u001b[2K\u001b[5A\u001b[2K\u001b[5A\u001b[2K\u001b[5A\u001b[2K\u001b[5A\u001b[2K\u001b[5A\u001b[2K\u001b[5A\u001b[2K\u001b[5A\u001b[2K\u001b[5A\u001b[2K\u001b[5A\u001b[2K\u001b[5A\u001b[2K\u001b[5A\u001b[2K\u001b[5A\u001b[2K\u001b[5A\u001b[2K\u001b[5A\u001b[2K\u001b[5A\u001b[2K\u001b[5A\u001b[2K\u001b[5A\u001b[2K\u001b[5A\u001b[2K\u001b[5A\u001b[2K\u001b[5A\u001b[2K\u001b[5A\u001b[2K\u001b[5A\u001b[2K\u001b[5A\u001b[2K\u001b[5A\u001b[2K\u001b[5A\u001b[2K\u001b[5A\u001b[2K\u001b[5A\u001b[2K\u001b[5A\u001b[2K\u001b[5A\u001b[2K\u001b[5A\u001b[2K\u001b[5A\u001b[2K\u001b[5A\u001b[2K\u001b[5A\u001b[2K\u001b[5A\u001b[2K\u001b[5A\u001b[2K\u001b[5A\u001b[2K\u001b[5A\u001b[2K\u001b[5A\u001b[2K\u001b[5A\u001b[2K\u001b[5A\u001b[2K\u001b[5A\u001b[2K\u001b[5A\u001b[2K\u001b[5A\u001b[2K\u001b[5A\u001b[2K\u001b[5A\u001b[2K\u001b[5A\u001b[2K\u001b[5A\u001b[2K\u001b[5A\u001b[2K\u001b[5A\u001b[2K\u001b[5A\u001b[2K\u001b[5A\u001b[2K\u001b[5A\u001b[2K\u001b[5A\u001b[2K\u001b[5A\u001b[2K\u001b[5A\u001b[2K\u001b[5A\u001b[2K\u001b[5A\u001b[2K\u001b[5A\u001b[2K\u001b[5A\u001b[2K\u001b[5A\u001b[2K\u001b[5A\u001b[2K\u001b[5A\u001b[2K\u001b[5A\u001b[2K\u001b[5A\u001b[2K\u001b[5A\u001b[2K\u001b[5A\u001b[2K\u001b[5A\u001b[2K\u001b[5A\u001b[2K\u001b[5A\u001b[2K\u001b[5A\u001b[2K\u001b[5A\u001b[2K\u001b[5A\u001b[2K\u001b[5A\u001b[2K\u001b[5A\u001b[2K\u001b[5A\u001b[2K\u001b[5A\u001b[2K\u001b[5A\u001b[2K\u001b[5A\u001b[2K\u001b[5A\u001b[2K\u001b[5A\u001b[2K\u001b[5A\u001b[2K\u001b[5A\u001b[2K\u001b[5A\u001b[2K\u001b[5A\u001b[2K\u001b[5A\u001b[2K\u001b[5A\u001b[2Klatest: digest: sha256:516ea702785a656a85507b3717c83e8a1d4c901605c4fa301364c7c18fc30346 size: 2225\n"
     ]
    }
   ],
   "source": [
    "!docker push 192023623294.dkr.ecr.us-west-2.amazonaws.com/sentiment-ecs"
   ]
  },
  {
   "cell_type": "markdown",
   "metadata": {},
   "source": [
    "## Deploy to AWS ECS\n",
    "\n",
    "\n",
    "#### 1. Install ECS-CLI tool\n",
    "https://docs.aws.amazon.com/AmazonECS/latest/developerguide/ECS_CLI_installation.html\n",
    "\n",
    "For Mac:\n",
    "Download\n",
    "```\n",
    "sudo curl -o /usr/local/bin/ecs-cli https://amazon-ecs-cli.s3.amazonaws.com/ecs-cli-darwin-amd64-latest\n",
    "```\n",
    "Make it executable\n",
    "```\n",
    "sudo chmod +x /usr/local/bin/ecs-cli\n",
    "```\n",
    "\n",
    "\n",
    "#### 2. Configure ECS-CLI\n",
    "https://docs.aws.amazon.com/AmazonECS/latest/developerguide/ECS_CLI_Configuration.html\n",
    "Create cluster profile configuration\n",
    "```\n",
    "ecs-cli configure --cluster tutorial --default-launch-type FARGATE --config-name tutorial --region us-west-2\n",
    "```\n",
    "Create CLI profile\n",
    "```\n",
    "ecs-cli configure profile --access-key AWS_ACCESS_KEY_ID --secret-key AWS_SECRET_ACCESS_KEY --profile-name tutorial-profile\n",
    "```"
   ]
  },
  {
   "cell_type": "code",
   "execution_count": 12,
   "metadata": {},
   "outputs": [
    {
     "name": "stdout",
     "output_type": "stream",
     "text": [
      "\u001b[36mINFO\u001b[0m[0000] Saved ECS CLI cluster configuration tutorial. \r\n"
     ]
    }
   ],
   "source": [
    "!ecs-cli configure --cluster tutorial --default-launch-type FARGATE --config-name tutorial --region us-west-2"
   ]
  },
  {
   "cell_type": "code",
   "execution_count": 15,
   "metadata": {},
   "outputs": [
    {
     "name": "stdout",
     "output_type": "stream",
     "text": [
      "\u001b[36mINFO\u001b[0m[0000] Saved ECS CLI profile configuration tutorial-profile. \r\n"
     ]
    }
   ],
   "source": [
    "!ecs-cli configure profile --profile-name tutorial-profile --access-key AWS_ACCESS_KEY_ID --secret-key AWS_SECRET_ACCESS_KEY"
   ]
  },
  {
   "cell_type": "markdown",
   "metadata": {},
   "source": [
    "###  Create the Task Execution IAM Role"
   ]
  },
  {
   "cell_type": "code",
   "execution_count": 61,
   "metadata": {},
   "outputs": [
    {
     "name": "stdout",
     "output_type": "stream",
     "text": [
      "Overwriting task-execution-assume-role.json\n"
     ]
    }
   ],
   "source": [
    "%%writefile task-execution-assume-role.json\n",
    "{\n",
    "  \"Version\": \"2012-10-17\",\n",
    "  \"Statement\": [\n",
    "    {\n",
    "      \"Sid\": \"\",\n",
    "      \"Effect\": \"Allow\",\n",
    "      \"Principal\": {\n",
    "        \"Service\": \"ecs-tasks.amazonaws.com\"\n",
    "      },\n",
    "      \"Action\": \"sts:AssumeRole\"\n",
    "    }\n",
    "  ]\n",
    "}"
   ]
  },
  {
   "cell_type": "code",
   "execution_count": 62,
   "metadata": {},
   "outputs": [
    {
     "name": "stdout",
     "output_type": "stream",
     "text": [
      "{\r\n",
      "    \"Role\": {\r\n",
      "        \"Path\": \"/\",\r\n",
      "        \"RoleName\": \"ecsTaskExecutionRole\",\r\n",
      "        \"RoleId\": \"AROASZNL76Z7C7Q7SZJ4D\",\r\n",
      "        \"Arn\": \"arn:aws:iam::192023623294:role/ecsTaskExecutionRole\",\r\n",
      "        \"CreateDate\": \"2019-12-17T01:04:08Z\",\r\n",
      "        \"AssumeRolePolicyDocument\": {\r\n",
      "            \"Version\": \"2012-10-17\",\r\n",
      "            \"Statement\": [\r\n",
      "                {\r\n",
      "                    \"Sid\": \"\",\r\n",
      "                    \"Effect\": \"Allow\",\r\n",
      "                    \"Principal\": {\r\n",
      "                        \"Service\": \"ecs-tasks.amazonaws.com\"\r\n",
      "                    },\r\n",
      "                    \"Action\": \"sts:AssumeRole\"\r\n",
      "                }\r\n",
      "            ]\r\n",
      "        }\r\n",
      "    }\r\n",
      "}\r\n"
     ]
    }
   ],
   "source": [
    "!aws iam --region us-west-2 create-role --role-name ecsTaskExecutionRole --assume-role-policy-document file://task-execution-assume-role.json"
   ]
  },
  {
   "cell_type": "code",
   "execution_count": 64,
   "metadata": {},
   "outputs": [],
   "source": [
    "!aws iam --region us-west-2 attach-role-policy --role-name ecsTaskExecutionRole --policy-arn arn:aws:iam::aws:policy/service-role/AmazonECSTaskExecutionRolePolicy"
   ]
  },
  {
   "cell_type": "markdown",
   "metadata": {},
   "source": [
    "## Start up a AWS ECS Cluster"
   ]
  },
  {
   "cell_type": "code",
   "execution_count": 16,
   "metadata": {},
   "outputs": [
    {
     "name": "stdout",
     "output_type": "stream",
     "text": [
      "\u001b[36mINFO\u001b[0m[0001] Created cluster                               \u001b[36mcluster\u001b[0m=tutorial \u001b[36mregion\u001b[0m=us-west-2\n",
      "\u001b[36mINFO\u001b[0m[0002] Waiting for your cluster resources to be created... \n",
      "\u001b[36mINFO\u001b[0m[0002] Cloudformation stack status                   \u001b[36mstackStatus\u001b[0m=CREATE_IN_PROGRESS\n",
      "\u001b[36mINFO\u001b[0m[0063] Cloudformation stack status                   \u001b[36mstackStatus\u001b[0m=CREATE_IN_PROGRESS\n",
      "VPC created: vpc-0465d14ba04402f80\n",
      "Subnet created: subnet-0d23851806f3db403\n",
      "Subnet created: subnet-0dece5451f1a3b8b2\n",
      "Cluster creation succeeded.\n"
     ]
    }
   ],
   "source": [
    "!ecs-cli up --cluster-config tutorial --ecs-profile tutorial-profile"
   ]
  },
  {
   "cell_type": "markdown",
   "metadata": {},
   "source": [
    "**Use the VPC id from the output from previous cell**"
   ]
  },
  {
   "cell_type": "code",
   "execution_count": 44,
   "metadata": {},
   "outputs": [
    {
     "name": "stdout",
     "output_type": "stream",
     "text": [
      "{\r\n",
      "    \"SecurityGroups\": [\r\n",
      "        {\r\n",
      "            \"Description\": \"default VPC security group\",\r\n",
      "            \"GroupName\": \"default\",\r\n",
      "            \"IpPermissions\": [\r\n",
      "                {\r\n",
      "                    \"IpProtocol\": \"-1\",\r\n",
      "                    \"IpRanges\": [],\r\n",
      "                    \"Ipv6Ranges\": [],\r\n",
      "                    \"PrefixListIds\": [],\r\n",
      "                    \"UserIdGroupPairs\": [\r\n",
      "                        {\r\n",
      "                            \"GroupId\": \"sg-0258b891f053e077b\",\r\n",
      "                            \"UserId\": \"192023623294\"\r\n",
      "                        }\r\n",
      "                    ]\r\n",
      "                }\r\n",
      "            ],\r\n",
      "            \"OwnerId\": \"192023623294\",\r\n",
      "            \"GroupId\": \"sg-0258b891f053e077b\",\r\n",
      "            \"IpPermissionsEgress\": [\r\n",
      "                {\r\n",
      "                    \"IpProtocol\": \"-1\",\r\n",
      "                    \"IpRanges\": [\r\n",
      "                        {\r\n",
      "                            \"CidrIp\": \"0.0.0.0/0\"\r\n",
      "                        }\r\n",
      "                    ],\r\n",
      "                    \"Ipv6Ranges\": [],\r\n",
      "                    \"PrefixListIds\": [],\r\n",
      "                    \"UserIdGroupPairs\": []\r\n",
      "                }\r\n",
      "            ],\r\n",
      "            \"VpcId\": \"vpc-0465d14ba04402f80\"\r\n",
      "        }\r\n",
      "    ]\r\n",
      "}\r\n"
     ]
    }
   ],
   "source": [
    "!aws ec2 describe-security-groups --filters Name=vpc-id,Values=vpc-0465d14ba04402f80 --region us-west-2"
   ]
  },
  {
   "cell_type": "markdown",
   "metadata": {},
   "source": [
    "**Use the security group ID from previous cell**"
   ]
  },
  {
   "cell_type": "code",
   "execution_count": 48,
   "metadata": {},
   "outputs": [
    {
     "name": "stdout",
     "output_type": "stream",
     "text": [
      "\r\n",
      "An error occurred (InvalidPermission.Duplicate) when calling the AuthorizeSecurityGroupIngress operation: the specified rule \"peer: 0.0.0.0/0, TCP, from port: 5000, to port: 5000, ALLOW\" already exists\r\n"
     ]
    }
   ],
   "source": [
    "!aws ec2 authorize-security-group-ingress --group-id sg-0258b891f053e077b --protocol tcp --port 5000 --cidr 0.0.0.0/0 --region us-west-2"
   ]
  },
  {
   "cell_type": "markdown",
   "metadata": {},
   "source": [
    "**Use the docker image information from docker push cell**"
   ]
  },
  {
   "cell_type": "code",
   "execution_count": 40,
   "metadata": {},
   "outputs": [
    {
     "name": "stdout",
     "output_type": "stream",
     "text": [
      "Overwriting docker-compose.yml\n"
     ]
    }
   ],
   "source": [
    "%%writefile docker-compose.yml\n",
    "version: '3'\n",
    "services:\n",
    "  web:\n",
    "    image: 192023623294.dkr.ecr.us-west-2.amazonaws.com/sentiment-ecs\n",
    "    ports:\n",
    "      - \"5000:5000\"\n",
    "    logging:\n",
    "      driver: awslogs\n",
    "      options: \n",
    "        awslogs-group: sentiment-aws-ecs\n",
    "        awslogs-region: us-west-2\n",
    "        awslogs-stream-prefix: web"
   ]
  },
  {
   "cell_type": "markdown",
   "metadata": {},
   "source": [
    "**Use the subnets from previous cell that create ECS cluster.**\n",
    "\n",
    "**Use security group value from cell that describe secruity group cell**"
   ]
  },
  {
   "cell_type": "code",
   "execution_count": 50,
   "metadata": {},
   "outputs": [
    {
     "name": "stdout",
     "output_type": "stream",
     "text": [
      "Overwriting ecs-params.yml\n"
     ]
    }
   ],
   "source": [
    "%%writefile ecs-params.yml\n",
    "\n",
    "version: 1\n",
    "task_definition:\n",
    "  task_execution_role: ecsTaskExecutionRole\n",
    "  ecs_network_mode: awsvpc\n",
    "  task_size:\n",
    "    mem_limit: 0.5GB\n",
    "    cpu_limit: 256\n",
    "run_params:\n",
    "  network_configuration:\n",
    "    awsvpc_configuration:\n",
    "      subnets:\n",
    "        - subnet-0d23851806f3db403\n",
    "        - subnet-0dece5451f1a3b8b2\n",
    "      security_groups:\n",
    "        - sg-0258b891f053e077b\n",
    "      assign_public_ip: ENABLED"
   ]
  },
  {
   "cell_type": "code",
   "execution_count": 65,
   "metadata": {},
   "outputs": [
    {
     "name": "stdout",
     "output_type": "stream",
     "text": [
      "\u001b[36mINFO\u001b[0m[0000] Using ECS task definition                     \u001b[36mTaskDefinition\u001b[0m=\"tutorial-bentoml-ecs:1\"\n",
      "\u001b[33mWARN\u001b[0m[0001] Failed to create log group sentiment-aws-ecs in us-west-2: The specified log group already exists \n",
      "\u001b[36mINFO\u001b[0m[0001] Updated ECS service successfully              \u001b[36mdesiredCount\u001b[0m=1 \u001b[36mforce-deployment\u001b[0m=false \u001b[36mservice\u001b[0m=tutorial-bentoml-ecs\n",
      "\u001b[36mINFO\u001b[0m[0017] (service tutorial-bentoml-ecs) has started 1 tasks: (task ecd119f0-b159-42e6-b86c-e6a62242ce7a).  \u001b[36mtimestamp\u001b[0m=\"2019-12-17 01:05:23 +0000 UTC\"\n",
      "\u001b[36mINFO\u001b[0m[0094] Service status                                \u001b[36mdesiredCount\u001b[0m=1 \u001b[36mrunningCount\u001b[0m=1 \u001b[36mserviceName\u001b[0m=tutorial-bentoml-ecs\n",
      "\u001b[36mINFO\u001b[0m[0094] (service tutorial-bentoml-ecs) has reached a steady state.  \u001b[36mtimestamp\u001b[0m=\"2019-12-17 01:06:40 +0000 UTC\"\n",
      "\u001b[36mINFO\u001b[0m[0094] ECS Service has reached a stable state        \u001b[36mdesiredCount\u001b[0m=1 \u001b[36mrunningCount\u001b[0m=1 \u001b[36mserviceName\u001b[0m=tutorial-bentoml-ecs\n"
     ]
    }
   ],
   "source": [
    "!ecs-cli compose --project-name tutorial-bentoml-ecs service up --create-log-groups --cluster-config tutorial --ecs-profile tutorial-profile"
   ]
  },
  {
   "cell_type": "code",
   "execution_count": 68,
   "metadata": {},
   "outputs": [
    {
     "name": "stdout",
     "output_type": "stream",
     "text": [
      "Name                                      State    Ports                        TaskDefinition          Health\r\n",
      "ecd119f0-b159-42e6-b86c-e6a62242ce7a/web  RUNNING  34.212.49.46:5000->5000/tcp  tutorial-bentoml-ecs:1  UNKNOWN\r\n"
     ]
    }
   ],
   "source": [
    "!ecs-cli compose --project-name tutorial-bentoml-ecs service ps --cluster-config tutorial --ecs-profile tutorial-profile"
   ]
  },
  {
   "cell_type": "markdown",
   "metadata": {},
   "source": [
    "### Test ECS endpoint"
   ]
  },
  {
   "cell_type": "code",
   "execution_count": 71,
   "metadata": {},
   "outputs": [
    {
     "name": "stdout",
     "output_type": "stream",
     "text": [
      "HTTP/1.1 200 OK\r",
      "\r\n",
      "Server: gunicorn/20.0.4\r",
      "\r\n",
      "Date: Tue, 17 Dec 2019 01:14:32 GMT\r",
      "\r\n",
      "Connection: close\r",
      "\r\n",
      "Content-Type: application/json\r",
      "\r\n",
      "Content-Length: 9\r",
      "\r\n",
      "request_id: 60540ac8-d1e7-4244-be14-68e2fc0920e7\r",
      "\r\n",
      "\r",
      "\r\n",
      "[4, 0, 4]"
     ]
    }
   ],
   "source": [
    "!curl -i \\\n",
    "--request POST \\\n",
    "--header \"Content-Type: application/json\" \\\n",
    "--data '[\"sweet food\", \"bad food\", \"happy day\"]' \\\n",
    "http://34.212.49.46:5000/predict"
   ]
  },
  {
   "cell_type": "markdown",
   "metadata": {},
   "source": [
    "# Clean up ECS deployment"
   ]
  },
  {
   "cell_type": "code",
   "execution_count": 72,
   "metadata": {},
   "outputs": [
    {
     "name": "stdout",
     "output_type": "stream",
     "text": [
      "\u001b[36mINFO\u001b[0m[0000] Updated ECS service successfully              \u001b[36mdesiredCount\u001b[0m=0 \u001b[36mforce-deployment\u001b[0m=false \u001b[36mservice\u001b[0m=tutorial-bentoml-ecs\n",
      "\u001b[36mINFO\u001b[0m[0000] Service status                                \u001b[36mdesiredCount\u001b[0m=0 \u001b[36mrunningCount\u001b[0m=1 \u001b[36mserviceName\u001b[0m=tutorial-bentoml-ecs\n",
      "\u001b[36mINFO\u001b[0m[0016] Service status                                \u001b[36mdesiredCount\u001b[0m=0 \u001b[36mrunningCount\u001b[0m=0 \u001b[36mserviceName\u001b[0m=tutorial-bentoml-ecs\n",
      "\u001b[36mINFO\u001b[0m[0016] (service tutorial-bentoml-ecs) has stopped 1 running tasks: (task ecd119f0-b159-42e6-b86c-e6a62242ce7a).  \u001b[36mtimestamp\u001b[0m=\"2019-12-17 01:15:37 +0000 UTC\"\n",
      "\u001b[36mINFO\u001b[0m[0016] ECS Service has reached a stable state        \u001b[36mdesiredCount\u001b[0m=0 \u001b[36mrunningCount\u001b[0m=0 \u001b[36mserviceName\u001b[0m=tutorial-bentoml-ecs\n",
      "\u001b[36mINFO\u001b[0m[0016] Deleted ECS service                           \u001b[36mservice\u001b[0m=tutorial-bentoml-ecs\n",
      "\u001b[36mINFO\u001b[0m[0016] ECS Service has reached a stable state        \u001b[36mdesiredCount\u001b[0m=0 \u001b[36mrunningCount\u001b[0m=0 \u001b[36mserviceName\u001b[0m=tutorial-bentoml-ecs\n"
     ]
    }
   ],
   "source": [
    "!ecs-cli compose --project-name tutorial-bentoml-ecs service down --cluster-config tutorial --ecs-profile tutorial-profile"
   ]
  },
  {
   "cell_type": "code",
   "execution_count": 73,
   "metadata": {},
   "outputs": [
    {
     "name": "stdout",
     "output_type": "stream",
     "text": [
      "\u001b[36mINFO\u001b[0m[0001] Waiting for your cluster resources to be deleted... \n",
      "\u001b[36mINFO\u001b[0m[0001] Cloudformation stack status                   \u001b[36mstackStatus\u001b[0m=DELETE_IN_PROGRESS\n",
      "\u001b[36mINFO\u001b[0m[0062] Deleted cluster                               \u001b[36mcluster\u001b[0m=tutorial\n"
     ]
    }
   ],
   "source": [
    "!ecs-cli down --force --cluster-config tutorial --ecs-profile tutorial-profile"
   ]
  },
  {
   "cell_type": "code",
   "execution_count": null,
   "metadata": {},
   "outputs": [],
   "source": []
  }
 ],
 "metadata": {
  "kernelspec": {
   "display_name": "Python 3",
   "language": "python",
   "name": "python3"
  },
  "language_info": {
   "codemirror_mode": {
    "name": "ipython",
    "version": 3
   },
   "file_extension": ".py",
   "mimetype": "text/x-python",
   "name": "python",
   "nbconvert_exporter": "python",
   "pygments_lexer": "ipython3",
   "version": "3.7.2"
  }
 },
 "nbformat": 4,
 "nbformat_minor": 2
}
